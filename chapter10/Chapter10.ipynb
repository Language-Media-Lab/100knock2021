{
  "nbformat": 4,
  "nbformat_minor": 0,
  "metadata": {
    "colab": {
      "name": "Chapter10.ipynb",
      "provenance": [],
      "collapsed_sections": []
    },
    "kernelspec": {
      "display_name": "Python 3",
      "name": "python3"
    },
    "language_info": {
      "name": "python"
    },
    "accelerator": "GPU"
  },
  "cells": [
    {
      "cell_type": "markdown",
      "metadata": {
        "id": "ZkrEt0281a03"
      },
      "source": [
        "# 第10章: 機械翻訳\n",
        "本章では，日本語と英語の翻訳コーパスである[京都フリー翻訳タスク (KFTT)](http://www.phontron.com/kftt/index-ja.html)を用い，ニューラル機械翻訳モデルを構築する．ニューラル機械翻訳モデルの構築には，[fairseq](https://github.com/pytorch/fairseq)，[Hugging Face Transformers](https://github.com/huggingface/transformers)，[OpenNMT-py](https://github.com/OpenNMT/OpenNMT-py)などの既存のツールを活用せよ．"
      ]
    },
    {
      "cell_type": "markdown",
      "metadata": {
        "id": "zZ0vtDPGvFN9"
      },
      "source": [
        "GPUの使用制限がかかるので，データの永続化をする  \n",
        "（ドライブに作業フォルダを保存する）"
      ]
    },
    {
      "cell_type": "code",
      "metadata": {
        "colab": {
          "base_uri": "https://localhost:8080/"
        },
        "id": "tJbl-X0nvEcB",
        "outputId": "6a90ce18-d8bc-48bc-fa98-77c4aac0b20b"
      },
      "source": [
        "# 作業用フォルダの作成\n",
        "from google.colab import drive \n",
        "drive.mount('/content/drive')\n",
        "!mkdir -p '/content/drive/My Drive/work/'\n",
        "%cd '/content/drive/My Drive/work/'"
      ],
      "execution_count": 1,
      "outputs": [
        {
          "output_type": "stream",
          "text": [
            "Mounted at /content/drive\n",
            "/content/drive/My Drive/work\n"
          ],
          "name": "stdout"
        }
      ]
    },
    {
      "cell_type": "markdown",
      "metadata": {
        "id": "xrdz6bUa6Fou"
      },
      "source": [
        "## 90. データの準備\n",
        "機械翻訳のデータセットをダウンロードせよ．訓練データ，開発データ，評価データを整形し，必要に応じてトークン化などの前処理を行うこと．ただし，この段階ではトークンの単位として形態素（日本語）および単語（英語）を採用せよ．"
      ]
    },
    {
      "cell_type": "code",
      "metadata": {
        "colab": {
          "base_uri": "https://localhost:8080/"
        },
        "id": "5DQGQNxi7p8Y",
        "outputId": "837c3902-732c-42a7-d4ef-460f0291f023"
      },
      "source": [
        "## データセットダウンロード\n",
        "!wget http://www.phontron.com/kftt/download/kftt-data-1.0.tar.gz"
      ],
      "execution_count": 34,
      "outputs": [
        {
          "output_type": "stream",
          "text": [
            "--2021-07-21 04:06:54--  http://www.phontron.com/kftt/download/kftt-data-1.0.tar.gz\n",
            "Resolving www.phontron.com (www.phontron.com)... 208.113.196.149\n",
            "Connecting to www.phontron.com (www.phontron.com)|208.113.196.149|:80... connected.\n",
            "HTTP request sent, awaiting response... 200 OK\n",
            "Length: 99246893 (95M) [application/gzip]\n",
            "Saving to: ‘kftt-data-1.0.tar.gz’\n",
            "\n",
            "kftt-data-1.0.tar.g 100%[===================>]  94.65M  29.9MB/s    in 3.2s    \n",
            "\n",
            "2021-07-21 04:06:58 (29.9 MB/s) - ‘kftt-data-1.0.tar.gz’ saved [99246893/99246893]\n",
            "\n"
          ],
          "name": "stdout"
        }
      ]
    },
    {
      "cell_type": "code",
      "metadata": {
        "id": "m5L08kkp7u9k",
        "colab": {
          "base_uri": "https://localhost:8080/"
        },
        "outputId": "5ce560cf-315d-4957-a035-5a04f9ef79bf"
      },
      "source": [
        "!gunzip kftt-data-1.0.tar.gz"
      ],
      "execution_count": 35,
      "outputs": [
        {
          "output_type": "stream",
          "text": [
            "gzip: kftt-data-1.0.tar already exists; do you wish to overwrite (y or n)? y\n"
          ],
          "name": "stdout"
        }
      ]
    },
    {
      "cell_type": "code",
      "metadata": {
        "colab": {
          "base_uri": "https://localhost:8080/"
        },
        "id": "djt5AnKg8-XO",
        "outputId": "cee67455-163a-4829-a87c-2d360d931e9f"
      },
      "source": [
        "!tar -xvf kftt-data-1.0.tar"
      ],
      "execution_count": 36,
      "outputs": [
        {
          "output_type": "stream",
          "text": [
            "kftt-data-1.0/\n",
            "kftt-data-1.0/data/\n",
            "kftt-data-1.0/data/orig/\n",
            "kftt-data-1.0/data/orig/kyoto-tune.en\n",
            "kftt-data-1.0/data/orig/kyoto-dev.ja\n",
            "kftt-data-1.0/data/orig/kyoto-dev.en\n",
            "kftt-data-1.0/data/orig/kyoto-train.en\n",
            "kftt-data-1.0/data/orig/kyoto-tune.ja\n",
            "kftt-data-1.0/data/orig/kyoto-train.ja\n",
            "kftt-data-1.0/data/orig/kyoto-test.ja\n",
            "kftt-data-1.0/data/orig/kyoto-test.en\n",
            "kftt-data-1.0/data/tok/\n",
            "kftt-data-1.0/data/tok/kyoto-tune.en\n",
            "kftt-data-1.0/data/tok/kyoto-dev.ja\n",
            "kftt-data-1.0/data/tok/kyoto-train.cln.en\n",
            "kftt-data-1.0/data/tok/kyoto-dev.en\n",
            "kftt-data-1.0/data/tok/kyoto-train.en\n",
            "kftt-data-1.0/data/tok/kyoto-tune.ja\n",
            "kftt-data-1.0/data/tok/kyoto-train.cln.ja\n",
            "kftt-data-1.0/data/tok/kyoto-train.ja\n",
            "kftt-data-1.0/data/tok/kyoto-test.ja\n",
            "kftt-data-1.0/data/tok/kyoto-test.en\n",
            "kftt-data-1.0/README.txt\n"
          ],
          "name": "stdout"
        }
      ]
    },
    {
      "cell_type": "code",
      "metadata": {
        "colab": {
          "base_uri": "https://localhost:8080/"
        },
        "id": "E0myt_-28XZ8",
        "outputId": "9b6df092-b9e7-48d5-f653-43159fedab5d"
      },
      "source": [
        "!head -10 ./kftt-data-1.0/data/tok/kyoto-train.en"
      ],
      "execution_count": null,
      "outputs": [
        {
          "output_type": "stream",
          "text": [
            "Known as Sesshu ( 1420 - 1506 ) , he was an ink painter and Zen monk active in the Muromachi period in the latter half of the 15th century , and was called a master painter .\n",
            "He revolutionized the Japanese ink painting .\n",
            "He was given the posthumous name \" Toyo \" or \" Sesshu ( 拙宗 ) . \"\n",
            "Born in Bicchu Province , he moved to Suo Province after entering SShokoku-ji Temple in Kyoto .\n",
            "Later he accompanied a mission to Ming Dynasty China and learned Chinese ink painting .\n",
            "His works were many , including not only Chinese-style landscape paintings , but also portraits and pictures of flowers and birds .\n",
            "His bold compositions and strong brush strokes constituted an extremely distinctive style .\n",
            "6 of his extant works are designated national treasures . Indeed , he is considered to be extraordinary among Japanese painters .\n",
            "For this reason , there are a great many artworks that are attributed to him , such as folding screens with pictures of flowers and that birds are painted on them .\n",
            "There are many works that even experts cannot agree if they are really his work or not .\n"
          ],
          "name": "stdout"
        }
      ]
    },
    {
      "cell_type": "code",
      "metadata": {
        "colab": {
          "base_uri": "https://localhost:8080/"
        },
        "id": "cKUchQ9-9u0g",
        "outputId": "f310dee4-35fd-4505-b75a-dc66fd9bac34"
      },
      "source": [
        "!head -10 ./kftt-data-1.0/data/tok/kyoto-train.ja"
      ],
      "execution_count": null,
      "outputs": [
        {
          "output_type": "stream",
          "text": [
            "雪舟 （ せっしゅう 、 1420 年 （ 応永 27 年 ） - 1506 年 （ 永正 3 年 ） ） は 号 で 、 15 世紀 後半 室町 時代 に 活躍 し た 水墨 画 家 ・ 禅僧 で 、 画聖 と も 称え られ る 。\n",
            "日本 の 水墨 画 を 一変 さ せ た 。\n",
            "諱 は 「 等楊 （ とうよう ） 」 、 もしくは 「 拙宗 （ せっしゅう ） 」 と 号 し た 。\n",
            "備中 国 に 生まれ 、 京都 ・ 相国 寺 に 入 っ て から 周防 国 に 移 る 。\n",
            "その 後 遣明 使 に 随行 し て 中国 （ 明 ） に 渡 っ て 中国 の 水墨 画 を 学 ん だ 。\n",
            "作品 は 数 多 く 、 中国 風 の 山水 画 だけ で な く 人物 画 や 花鳥 画 も よ く し た 。\n",
            "大胆 な 構図 と 力強 い 筆線 は 非常 に 個性 的 な 画風 を 作り出 し て い る 。\n",
            "現存 する 作品 の うち 6 点 が 国宝 に 指定 さ れ て お り 、 日本 の 画家 の なか で も 別格 の 評価 を 受け て い る と いえ る 。\n",
            "この ため 、 花鳥 図 屏風 など に 「 伝 雪舟 筆 」 さ れ る 作品 は 大変 多 い 。\n",
            "真筆 で あ る か 専門 家 の 間 で も 意見 の 分かれ る もの も 多々 あ る 。\n"
          ],
          "name": "stdout"
        }
      ]
    },
    {
      "cell_type": "markdown",
      "metadata": {
        "id": "SfLM28kiCeze"
      },
      "source": [
        "### 前処理"
      ]
    },
    {
      "cell_type": "markdown",
      "metadata": {
        "id": "bjYyk_JdWIIW"
      },
      "source": [
        "### どうやら，[fairseq](https://github.com/pytorch/fairseq)が便利らしい．\n",
        "コマンドを打つだけで，学習や予測ができるので"
      ]
    },
    {
      "cell_type": "markdown",
      "metadata": {
        "id": "jI-tP09zOoow"
      },
      "source": [
        "### fairseqとは\n",
        "Facebookの人工知能研究チームが開発している，機械翻訳用のフレームワークです．Facebookが開発元ということもあり，Pytorchがベースになっています．  \n",
        "最近はHuggingfaceのTransformersが人気でTransformerモデルを扱うならPytorchを使用していたため，こちらをフレームワークとして選びました．  \n",
        "その他の機械翻訳フレームワークとしては，MarianNMT，OpenNMT（こちらもPytorchベース）などがあります．基本的な機能はどのフレームワークも大差ない印象ですが，論文実装のコードはfairseqが選ばれている場合が多いらしいです．"
      ]
    },
    {
      "cell_type": "code",
      "metadata": {
        "colab": {
          "base_uri": "https://localhost:8080/",
          "height": 838
        },
        "id": "oXtn49VxClLt",
        "outputId": "24aa9351-8263-4a56-e58e-9c3ee3e69a15"
      },
      "source": [
        "## fairseqのインストール\n",
        "!pip install fairseq"
      ],
      "execution_count": 8,
      "outputs": [
        {
          "output_type": "stream",
          "text": [
            "Collecting fairseq\n",
            "  Downloading fairseq-0.10.2-cp37-cp37m-manylinux1_x86_64.whl (1.7 MB)\n",
            "\u001b[K     |████████████████████████████████| 1.7 MB 8.3 MB/s \n",
            "\u001b[?25hRequirement already satisfied: regex in /usr/local/lib/python3.7/dist-packages (from fairseq) (2019.12.20)\n",
            "Collecting sacrebleu>=1.4.12\n",
            "  Downloading sacrebleu-1.5.1-py3-none-any.whl (54 kB)\n",
            "\u001b[K     |████████████████████████████████| 54 kB 3.8 MB/s \n",
            "\u001b[?25hRequirement already satisfied: cython in /usr/local/lib/python3.7/dist-packages (from fairseq) (0.29.23)\n",
            "Collecting hydra-core\n",
            "  Downloading hydra_core-1.1.0-py3-none-any.whl (144 kB)\n",
            "\u001b[K     |████████████████████████████████| 144 kB 40.1 MB/s \n",
            "\u001b[?25hRequirement already satisfied: tqdm in /usr/local/lib/python3.7/dist-packages (from fairseq) (4.41.1)\n",
            "Requirement already satisfied: cffi in /usr/local/lib/python3.7/dist-packages (from fairseq) (1.14.6)\n",
            "Requirement already satisfied: numpy in /usr/local/lib/python3.7/dist-packages (from fairseq) (1.19.5)\n",
            "Collecting dataclasses\n",
            "  Downloading dataclasses-0.6-py3-none-any.whl (14 kB)\n",
            "Requirement already satisfied: torch in /usr/local/lib/python3.7/dist-packages (from fairseq) (1.9.0+cu102)\n",
            "Collecting portalocker==2.0.0\n",
            "  Downloading portalocker-2.0.0-py2.py3-none-any.whl (11 kB)\n",
            "Requirement already satisfied: pycparser in /usr/local/lib/python3.7/dist-packages (from cffi->fairseq) (2.20)\n",
            "Collecting antlr4-python3-runtime==4.8\n",
            "  Downloading antlr4-python3-runtime-4.8.tar.gz (112 kB)\n",
            "\u001b[K     |████████████████████████████████| 112 kB 42.0 MB/s \n",
            "\u001b[?25hRequirement already satisfied: importlib-resources in /usr/local/lib/python3.7/dist-packages (from hydra-core->fairseq) (5.2.0)\n",
            "Collecting omegaconf==2.1.*\n",
            "  Downloading omegaconf-2.1.0-py3-none-any.whl (74 kB)\n",
            "\u001b[K     |████████████████████████████████| 74 kB 3.8 MB/s \n",
            "\u001b[?25hCollecting PyYAML>=5.1.*\n",
            "  Downloading PyYAML-5.4.1-cp37-cp37m-manylinux1_x86_64.whl (636 kB)\n",
            "\u001b[K     |████████████████████████████████| 636 kB 50.1 MB/s \n",
            "\u001b[?25hRequirement already satisfied: zipp>=3.1.0 in /usr/local/lib/python3.7/dist-packages (from importlib-resources->hydra-core->fairseq) (3.5.0)\n",
            "Requirement already satisfied: typing-extensions in /usr/local/lib/python3.7/dist-packages (from torch->fairseq) (3.7.4.3)\n",
            "Building wheels for collected packages: antlr4-python3-runtime\n",
            "  Building wheel for antlr4-python3-runtime (setup.py) ... \u001b[?25l\u001b[?25hdone\n",
            "  Created wheel for antlr4-python3-runtime: filename=antlr4_python3_runtime-4.8-py3-none-any.whl size=141229 sha256=1070a9162a93e6182a970fcb7f954cedd1969d8a77cbfb78cea854844fff2680\n",
            "  Stored in directory: /root/.cache/pip/wheels/ca/33/b7/336836125fc9bb4ceaa4376d8abca10ca8bc84ddc824baea6c\n",
            "Successfully built antlr4-python3-runtime\n",
            "Installing collected packages: PyYAML, antlr4-python3-runtime, portalocker, omegaconf, sacrebleu, hydra-core, dataclasses, fairseq\n",
            "  Attempting uninstall: PyYAML\n",
            "    Found existing installation: PyYAML 3.13\n",
            "    Uninstalling PyYAML-3.13:\n",
            "      Successfully uninstalled PyYAML-3.13\n",
            "Successfully installed PyYAML-5.4.1 antlr4-python3-runtime-4.8 dataclasses-0.6 fairseq-0.10.2 hydra-core-1.1.0 omegaconf-2.1.0 portalocker-2.0.0 sacrebleu-1.5.1\n"
          ],
          "name": "stdout"
        },
        {
          "output_type": "display_data",
          "data": {
            "application/vnd.colab-display-data+json": {
              "pip_warning": {
                "packages": [
                  "pydevd_plugins"
                ]
              }
            }
          },
          "metadata": {
            "tags": []
          }
        }
      ]
    },
    {
      "cell_type": "code",
      "metadata": {
        "id": "qeWX4muqCkrJ"
      },
      "source": [
        "import os"
      ],
      "execution_count": null,
      "outputs": []
    },
    {
      "cell_type": "markdown",
      "metadata": {
        "id": "KcrLDVSXIsiW"
      },
      "source": [
        "fairseq-preprocessはテキストデータをバイナリ化して保存します。今回はすでにspaceでtokenizeされているのでspaceを使いました。"
      ]
    },
    {
      "cell_type": "code",
      "metadata": {
        "colab": {
          "base_uri": "https://localhost:8080/"
        },
        "id": "OOZ9U2oXv1pI",
        "outputId": "41a5e8e7-7ba5-49cf-888c-c62ad33545ad"
      },
      "source": [
        "!ls"
      ],
      "execution_count": null,
      "outputs": [
        {
          "output_type": "stream",
          "text": [
            "data91\tkftt-data-1.0  kftt-data-1.0.tar\n"
          ],
          "name": "stdout"
        }
      ]
    },
    {
      "cell_type": "code",
      "metadata": {
        "colab": {
          "base_uri": "https://localhost:8080/"
        },
        "id": "aJW_dxlIST8i",
        "outputId": "1128cefd-bef0-4952-f65f-cb55c38a6ee1"
      },
      "source": [
        "!fairseq-preprocess -s ja -t en \\\n",
        "    --trainpref  ./kftt-data-1.0/data/tok/kyoto-train \\\n",
        "    --validpref  ./kftt-data-1.0/data/tok/kyoto-dev \\\n",
        "    --testpref ./kftt-data-1.0/data/tok/kyoto-test \\\n",
        "    --destdir data91  \\\n",
        "    --thresholdsrc 5 \\\n",
        "    --thresholdtgt 5 \\\n",
        "    --workers 20"
      ],
      "execution_count": null,
      "outputs": [
        {
          "output_type": "stream",
          "text": [
            "2021-07-20 02:30:11 | INFO | fairseq_cli.preprocess | Namespace(align_suffix=None, alignfile=None, all_gather_list_size=16384, bf16=False, bpe=None, checkpoint_shard_count=1, checkpoint_suffix='', cpu=False, criterion='cross_entropy', dataset_impl='mmap', destdir='data91', empty_cache_freq=0, fp16=False, fp16_init_scale=128, fp16_no_flatten_grads=False, fp16_scale_tolerance=0.0, fp16_scale_window=None, joined_dictionary=False, log_format=None, log_interval=100, lr_scheduler='fixed', memory_efficient_bf16=False, memory_efficient_fp16=False, min_loss_scale=0.0001, model_parallel_size=1, no_progress_bar=False, nwordssrc=-1, nwordstgt=-1, only_source=False, optimizer=None, padding_factor=8, profile=False, quantization_config_path=None, scoring='bleu', seed=1, source_lang='ja', srcdict=None, target_lang='en', task='translation', tensorboard_logdir=None, testpref='./kftt-data-1.0/data/tok/kyoto-test', tgtdict=None, threshold_loss_scale=None, thresholdsrc=5, thresholdtgt=5, tokenizer=None, tpu=False, trainpref='./kftt-data-1.0/data/tok/kyoto-train', user_dir=None, validpref='./kftt-data-1.0/data/tok/kyoto-dev', workers=20)\n",
            "2021-07-20 02:31:22 | INFO | fairseq_cli.preprocess | [ja] Dictionary: 51584 types\n",
            "2021-07-20 02:32:38 | INFO | fairseq_cli.preprocess | [ja] ./kftt-data-1.0/data/tok/kyoto-train.ja: 440288 sents, 12359715 tokens, 1.26% replaced by <unk>\n",
            "2021-07-20 02:32:38 | INFO | fairseq_cli.preprocess | [ja] Dictionary: 51584 types\n",
            "2021-07-20 02:32:40 | INFO | fairseq_cli.preprocess | [ja] ./kftt-data-1.0/data/tok/kyoto-dev.ja: 1166 sents, 28010 tokens, 1.3% replaced by <unk>\n",
            "2021-07-20 02:32:40 | INFO | fairseq_cli.preprocess | [ja] Dictionary: 51584 types\n",
            "2021-07-20 02:32:41 | INFO | fairseq_cli.preprocess | [ja] ./kftt-data-1.0/data/tok/kyoto-test.ja: 1160 sents, 29638 tokens, 1.4% replaced by <unk>\n",
            "2021-07-20 02:32:41 | INFO | fairseq_cli.preprocess | [en] Dictionary: 58552 types\n",
            "2021-07-20 02:33:36 | INFO | fairseq_cli.preprocess | [en] ./kftt-data-1.0/data/tok/kyoto-train.en: 440288 sents, 11981667 tokens, 2.07% replaced by <unk>\n",
            "2021-07-20 02:33:36 | INFO | fairseq_cli.preprocess | [en] Dictionary: 58552 types\n",
            "2021-07-20 02:33:37 | INFO | fairseq_cli.preprocess | [en] ./kftt-data-1.0/data/tok/kyoto-dev.en: 1166 sents, 25475 tokens, 3.19% replaced by <unk>\n",
            "2021-07-20 02:33:37 | INFO | fairseq_cli.preprocess | [en] Dictionary: 58552 types\n",
            "2021-07-20 02:33:39 | INFO | fairseq_cli.preprocess | [en] ./kftt-data-1.0/data/tok/kyoto-test.en: 1160 sents, 27894 tokens, 2.88% replaced by <unk>\n",
            "2021-07-20 02:33:39 | INFO | fairseq_cli.preprocess | Wrote preprocessed data to data91\n"
          ],
          "name": "stdout"
        }
      ]
    },
    {
      "cell_type": "code",
      "metadata": {
        "colab": {
          "base_uri": "https://localhost:8080/"
        },
        "id": "ZbaHeH6SHMZI",
        "outputId": "d7600afb-c8b7-4887-8908-d81885d29a07"
      },
      "source": [
        "!ls kftt-data-1.0/data/tok/"
      ],
      "execution_count": null,
      "outputs": [
        {
          "output_type": "stream",
          "text": [
            "kyoto-dev.en  kyoto-test.en  kyoto-train.cln.en  kyoto-train.en  kyoto-tune.en\n",
            "kyoto-dev.ja  kyoto-test.ja  kyoto-train.cln.ja  kyoto-train.ja  kyoto-tune.ja\n"
          ],
          "name": "stdout"
        }
      ]
    },
    {
      "cell_type": "markdown",
      "metadata": {
        "id": "K5AhK72X6IzR"
      },
      "source": [
        "## 91. 機械翻訳モデルの訓練\n",
        "90で準備したデータを用いて，ニューラル機械翻訳のモデルを学習せよ（ニューラルネットワークのモデルはTransformerやLSTMなど適当に選んでよい）．"
      ]
    },
    {
      "cell_type": "markdown",
      "metadata": {
        "id": "LmcP4x2oJ8o_"
      },
      "source": [
        "学習の設定は以下に箇条書きした．  \n",
        "（ハイパーパラメータは後にチューニングする）\n",
        "\n",
        "*   モデル：LSTM\n",
        "*   optimizer : adam\n",
        "*   学習率：1e-5\n",
        "*   ドロップアウト：0.3\n",
        "*   最大エポック数：5　or 10\n",
        "*   損失：交差エントロピー\n",
        "\n",
        "\n",
        "\n",
        "\n",
        "\n",
        "\n",
        "\n",
        "\n",
        "\n"
      ]
    },
    {
      "cell_type": "code",
      "metadata": {
        "colab": {
          "base_uri": "https://localhost:8080/"
        },
        "id": "I_v3r3BlpoUX",
        "outputId": "536151d3-8fc4-4f4c-ec4b-9c68d7537664"
      },
      "source": [
        "!pip install sacremoses"
      ],
      "execution_count": 22,
      "outputs": [
        {
          "output_type": "stream",
          "text": [
            "Requirement already satisfied: sacremoses in /usr/local/lib/python3.7/dist-packages (0.0.45)\n",
            "Requirement already satisfied: joblib in /usr/local/lib/python3.7/dist-packages (from sacremoses) (1.0.1)\n",
            "Requirement already satisfied: regex in /usr/local/lib/python3.7/dist-packages (from sacremoses) (2019.12.20)\n",
            "Requirement already satisfied: tqdm in /usr/local/lib/python3.7/dist-packages (from sacremoses) (4.41.1)\n",
            "Requirement already satisfied: click in /usr/local/lib/python3.7/dist-packages (from sacremoses) (7.1.2)\n",
            "Requirement already satisfied: six in /usr/local/lib/python3.7/dist-packages (from sacremoses) (1.15.0)\n"
          ],
          "name": "stdout"
        }
      ]
    },
    {
      "cell_type": "code",
      "metadata": {
        "colab": {
          "base_uri": "https://localhost:8080/"
        },
        "id": "yrNN4NKlObVK",
        "outputId": "95b32233-735e-4096-8afe-afbb530dec24"
      },
      "source": [
        "!fairseq-train data91 \\\n",
        "    --save-dir checkpoints/kftt.ja-en/ \\\n",
        "    --arch lstm --share-decoder-input-output-embed \\\n",
        "    --optimizer adam --adam-betas '(0.9, 0.98)' --clip-norm 0.0 \\\n",
        "    --lr 5e-4 --lr-scheduler inverse_sqrt --warmup-updates 4000 \\\n",
        "    --dropout 0.3 --weight-decay 0.0001 \\\n",
        "    --criterion label_smoothed_cross_entropy --label-smoothing 0.1 \\\n",
        "    --max-tokens 4096 \\\n",
        "    --max-epoch 5 \\\n",
        "    --eval-bleu \\\n",
        "    --eval-bleu-detok moses \\\n",
        "    --eval-bleu-remove-bpe \\\n",
        "    --eval-bleu-print-samples \\\n",
        "    --best-checkpoint-metric bleu --maximize-best-checkpoint-metric\n",
        "\n",
        "## --eval-bleu-detok moses \\ トークン化解除\n",
        "##　--eval-bleu-remove-bpe \\　BLEUを計算する前にBPEを削除する\n",
        "##　--eval-bleu-print-samples \\　検証中にサンプルした世代を出力する\n",
        "##　--best-checkpoint-metric bleu \\　最良のチェックポイントを保存するために使用するメトリック=bleuに指定\n",
        "##　--maximize-best-checkpoint-metric "
      ],
      "execution_count": null,
      "outputs": [
        {
          "output_type": "stream",
          "text": [
            "2021-07-20 14:09:38 | INFO | fairseq_cli.train | Namespace(adam_betas='(0.9, 0.98)', adam_eps=1e-08, adaptive_softmax_cutoff='10000,50000,200000', all_gather_list_size=16384, arch='lstm', batch_size=None, batch_size_valid=None, best_checkpoint_metric='bleu', bf16=False, bpe=None, broadcast_buffers=False, bucket_cap_mb=25, checkpoint_shard_count=1, checkpoint_suffix='', clip_norm=0.0, cpu=False, criterion='label_smoothed_cross_entropy', curriculum=0, data='data91', data_buffer_size=10, dataset_impl=None, ddp_backend='c10d', decoder_attention='1', decoder_dropout_in=0.3, decoder_dropout_out=0.3, decoder_embed_dim=512, decoder_embed_path=None, decoder_freeze_embed=False, decoder_hidden_size=512, decoder_layers=1, decoder_out_embed_dim=512, device_id=0, disable_validation=False, distributed_backend='nccl', distributed_init_method=None, distributed_no_spawn=False, distributed_num_procs=1, distributed_port=-1, distributed_rank=0, distributed_world_size=1, distributed_wrapper='DDP', dropout=0.3, empty_cache_freq=0, encoder_bidirectional=False, encoder_dropout_in=0.3, encoder_dropout_out=0.3, encoder_embed_dim=512, encoder_embed_path=None, encoder_freeze_embed=False, encoder_hidden_size=512, encoder_layers=1, eval_bleu=True, eval_bleu_args=None, eval_bleu_detok='moses', eval_bleu_detok_args=None, eval_bleu_print_samples=True, eval_bleu_remove_bpe='@@ ', eval_tokenized_bleu=False, fast_stat_sync=False, find_unused_parameters=False, finetune_from_model=None, fix_batches_to_gpus=False, fixed_validation_seed=None, fp16=False, fp16_init_scale=128, fp16_no_flatten_grads=False, fp16_scale_tolerance=0.0, fp16_scale_window=None, gen_subset='test', ignore_prefix_size=0, keep_best_checkpoints=-1, keep_interval_updates=-1, keep_last_epochs=-1, label_smoothing=0.1, left_pad_source='True', left_pad_target='False', load_alignments=False, localsgd_frequency=3, log_format=None, log_interval=100, lr=[0.0005], lr_scheduler='inverse_sqrt', max_epoch=5, max_source_positions=1024, max_target_positions=1024, max_tokens=4096, max_tokens_valid=4096, max_update=0, maximize_best_checkpoint_metric=True, memory_efficient_bf16=False, memory_efficient_fp16=False, min_loss_scale=0.0001, min_lr=-1.0, model_parallel_size=1, no_epoch_checkpoints=False, no_last_checkpoints=False, no_progress_bar=False, no_save=False, no_save_optimizer_state=False, no_seed_provided=False, nprocs_per_node=1, num_batch_buckets=0, num_shards=1, num_workers=1, optimizer='adam', optimizer_overrides='{}', patience=-1, pipeline_balance=None, pipeline_checkpoint='never', pipeline_chunks=0, pipeline_decoder_balance=None, pipeline_decoder_devices=None, pipeline_devices=None, pipeline_encoder_balance=None, pipeline_encoder_devices=None, pipeline_model_parallel=False, profile=False, quantization_config_path=None, report_accuracy=False, required_batch_size_multiple=8, required_seq_len_multiple=1, reset_dataloader=False, reset_lr_scheduler=False, reset_meters=False, reset_optimizer=False, restore_file='checkpoint_last.pt', save_dir='checkpoints/kftt.ja-en/', save_interval=1, save_interval_updates=0, scoring='bleu', seed=1, sentence_avg=False, shard_id=0, share_all_embeddings=False, share_decoder_input_output_embed=True, skip_invalid_size_inputs_valid_test=False, slowmo_algorithm='LocalSGD', slowmo_momentum=None, source_lang=None, stop_time_hours=0, target_lang=None, task='translation', tensorboard_logdir=None, threshold_loss_scale=None, tokenizer=None, tpu=False, train_subset='train', truncate_source=False, update_freq=[1], upsample_primary=1, use_bmuf=False, use_old_adam=False, user_dir=None, valid_subset='valid', validate_after_updates=0, validate_interval=1, validate_interval_updates=0, warmup_init_lr=-1, warmup_updates=4000, weight_decay=0.0001, zero_sharding='none')\n",
            "2021-07-20 14:09:39 | INFO | fairseq.tasks.translation | [ja] dictionary: 51584 types\n",
            "2021-07-20 14:09:39 | INFO | fairseq.tasks.translation | [en] dictionary: 58552 types\n",
            "2021-07-20 14:09:40 | INFO | fairseq.data.data_utils | loaded 1166 examples from: data91/valid.ja-en.ja\n",
            "2021-07-20 14:09:40 | INFO | fairseq.data.data_utils | loaded 1166 examples from: data91/valid.ja-en.en\n",
            "2021-07-20 14:09:40 | INFO | fairseq.tasks.translation | data91 valid ja-en 1166 examples\n",
            "2021-07-20 14:09:41 | INFO | fairseq_cli.train | LSTMModel(\n",
            "  (encoder): LSTMEncoder(\n",
            "    (dropout_in_module): FairseqDropout()\n",
            "    (dropout_out_module): FairseqDropout()\n",
            "    (embed_tokens): Embedding(51584, 512, padding_idx=1)\n",
            "    (lstm): LSTM(512, 512)\n",
            "  )\n",
            "  (decoder): LSTMDecoder(\n",
            "    (dropout_in_module): FairseqDropout()\n",
            "    (dropout_out_module): FairseqDropout()\n",
            "    (embed_tokens): Embedding(58552, 512, padding_idx=1)\n",
            "    (layers): ModuleList(\n",
            "      (0): LSTMCell(1024, 512)\n",
            "    )\n",
            "    (attention): AttentionLayer(\n",
            "      (input_proj): Linear(in_features=512, out_features=512, bias=False)\n",
            "      (output_proj): Linear(in_features=1024, out_features=512, bias=False)\n",
            "    )\n",
            "  )\n",
            ")\n",
            "2021-07-20 14:09:41 | INFO | fairseq_cli.train | task: translation (TranslationTask)\n",
            "2021-07-20 14:09:41 | INFO | fairseq_cli.train | model: lstm (LSTMModel)\n",
            "2021-07-20 14:09:41 | INFO | fairseq_cli.train | criterion: label_smoothed_cross_entropy (LabelSmoothedCrossEntropyCriterion)\n",
            "2021-07-20 14:09:41 | INFO | fairseq_cli.train | num. model params: 62427136 (num. trained: 62427136)\n",
            "2021-07-20 14:09:53 | INFO | fairseq.trainer | detected shared parameter: decoder.attention.input_proj.bias <- decoder.attention.output_proj.bias\n",
            "2021-07-20 14:09:53 | INFO | fairseq.utils | ***********************CUDA enviroments for all 1 workers***********************\n",
            "2021-07-20 14:09:53 | INFO | fairseq.utils | rank   0: capabilities =  7.5  ; total memory = 14.756 GB ; name = Tesla T4                                \n",
            "2021-07-20 14:09:53 | INFO | fairseq.utils | ***********************CUDA enviroments for all 1 workers***********************\n",
            "2021-07-20 14:09:53 | INFO | fairseq_cli.train | training on 1 devices (GPUs/TPUs)\n",
            "2021-07-20 14:09:53 | INFO | fairseq_cli.train | max tokens per GPU = 4096 and max sentences per GPU = None\n",
            "2021-07-20 14:09:53 | INFO | fairseq.trainer | no existing checkpoint found checkpoints/kftt.ja-en/checkpoint_last.pt\n",
            "2021-07-20 14:09:53 | INFO | fairseq.trainer | loading train data for epoch 1\n",
            "2021-07-20 14:09:55 | INFO | fairseq.data.data_utils | loaded 440288 examples from: data91/train.ja-en.ja\n",
            "2021-07-20 14:09:56 | INFO | fairseq.data.data_utils | loaded 440288 examples from: data91/train.ja-en.en\n",
            "2021-07-20 14:09:56 | INFO | fairseq.tasks.translation | data91 train ja-en 440288 examples\n",
            "2021-07-20 14:09:57 | INFO | fairseq.trainer | NOTE: your device may support faster training with --fp16\n",
            "epoch 001:   0% 0/3599 [00:00<?, ?it/s]2021-07-20 14:09:57 | INFO | fairseq.trainer | begin training epoch 1\n",
            "/usr/local/lib/python3.7/dist-packages/fairseq/utils.py:342: UserWarning: amp_C fused kernels unavailable, disabling multi_tensor_l2norm; you may get better performance by installing NVIDIA's apex library\n",
            "  \"amp_C fused kernels unavailable, disabling multi_tensor_l2norm; \"\n",
            "epoch 001: 100% 3598/3599 [19:46<00:00,  2.96it/s, loss=8.222, nll_loss=7.056, ppl=133.06, wps=9583, ups=2.97, wpb=3222.8, bsz=98.2, num_updates=3500, lr=0.0004375, gnorm=0.589, train_wall=34, wall=1158]2021-07-20 14:29:44 | INFO | fairseq_cli.train | begin validation on \"valid\" subset\n",
            "\n",
            "epoch 001 | valid on 'valid' subset:   0% 0/13 [00:00<?, ?it/s]\u001b[A/usr/local/lib/python3.7/dist-packages/torch/_tensor.py:575: UserWarning: floor_divide is deprecated, and will be removed in a future version of pytorch. It currently rounds toward 0 (like the 'trunc' function NOT 'floor'). This results in incorrect rounding for negative values.\n",
            "To keep the current behavior, use torch.div(a, b, rounding_mode='trunc'), or for actual floor division, use torch.div(a, b, rounding_mode='floor'). (Triggered internally at  /pytorch/aten/src/ATen/native/BinaryOps.cpp:467.)\n",
            "  return torch.floor_divide(self, other)\n",
            "2021-07-20 14:29:45 | INFO | fairseq.tasks.translation | example hypothesis: UNKNOWNTOKENINHYP (Junior Fifth Rank, Lower Grade)\n",
            "2021-07-20 14:29:45 | INFO | fairseq.tasks.translation | example reference: UNKNOWNTOKENINREF TAKEKOSHI, Jugoi no ge\n",
            "\n",
            "epoch 001 | valid on 'valid' subset:   8% 1/13 [00:01<00:12,  1.04s/it]\u001b[A2021-07-20 14:29:45 | INFO | fairseq.tasks.translation | example hypothesis: He died in the Battle of Sekigahara in the Battle of Sekigahara.\n",
            "2021-07-20 14:29:45 | INFO | fairseq.tasks.translation | example reference: 1600 - Burned in the Siege of Fushimi Castle\n",
            "\n",
            "epoch 001 | valid on 'valid' subset:  15% 2/13 [00:01<00:10,  1.03it/s]\u001b[A2021-07-20 14:29:46 | INFO | fairseq.tasks.translation | example hypothesis: The Faculty of Education and the Faculty of the University of the University of the University of the University of the University of the National Museum of the National Museum of Art.\n",
            "2021-07-20 14:29:46 | INFO | fairseq.tasks.translation | example reference: Department of History, Japanese History Course, Asian History Course, and Buddhist History Course\n",
            "\n",
            "epoch 001 | valid on 'valid' subset:  23% 3/13 [00:02<00:09,  1.03it/s]\u001b[A2021-07-20 14:29:48 | INFO | fairseq.tasks.translation | example hypothesis: It is also used as a result of the station.\n",
            "2021-07-20 14:29:48 | INFO | fairseq.tasks.translation | example reference: The rail cars all belonged to JR (Japan Railway Company) and have been remodeled for use.\n",
            "\n",
            "epoch 001 | valid on 'valid' subset:  31% 4/13 [00:04<00:10,  1.20s/it]\u001b[A2021-07-20 14:29:49 | INFO | fairseq.tasks.translation | example hypothesis: In 2006, he became a member of the Imperial University of the University of the University of the University of Tokyo University.\n",
            "2021-07-20 14:29:49 | INFO | fairseq.tasks.translation | example reference: In UNKNOWNTOKENINREF, Legal Affairs Research Course of Graduate School of Law (Law School) opened and Tokyo Office was set up.\n",
            "\n",
            "epoch 001 | valid on 'valid' subset:  38% 5/13 [00:05<00:09,  1.19s/it]\u001b[A2021-07-20 14:29:51 | INFO | fairseq.tasks.translation | example hypothesis: UNKNOWNTOKENINHYP UNKNOWNTOKENINHYP UNKNOWNTOKENINHYP UNKNOWNTOKENINHYP UNKNOWNTOKENINHYP (UNKNOWNTOKENINHYP) (UNKNOWNTOKENINHYP) (UNKNOWNTOKENINHYP) (UNKNOWNTOKENINHYP) (UNKNOWNTOKENINHYP) (UNKNOWNTOKENINHYP) (UNKNOWNTOKENINHYP)\n",
            "2021-07-20 14:29:51 | INFO | fairseq.tasks.translation | example reference: UNKNOWNTOKENINREF Noh Stage - UNKNOWNTOKENINREF Castle (Fukuyama City, Hiroshima Prefecture), Present-day UNKNOWNTOKENINREF Shrine (Tomonoura, Fukuyama City, Hiroshima Prefecture) (Important Cultural Property)\n",
            "\n",
            "epoch 001 | valid on 'valid' subset:  46% 6/13 [00:07<00:09,  1.41s/it]\u001b[A2021-07-20 14:29:53 | INFO | fairseq.tasks.translation | example hypothesis: In addition, the domain of the Satsuma Domain, the lord of the Satsuma Domain, and the lord of the domain, the lord of the Satsuma Domain, and the lord of the Satsuma Domain.\n",
            "2021-07-20 14:29:53 | INFO | fairseq.tasks.translation | example reference: The sweep of the city turned violent, and there were 5 immediate deaths among the Aizu clan, four among the Hikone clan, and two among the Kuwana clan.\n",
            "\n",
            "epoch 001 | valid on 'valid' subset:  54% 7/13 [00:09<00:09,  1.56s/it]\u001b[A2021-07-20 14:29:55 | INFO | fairseq.tasks.translation | example hypothesis: According to \"Kojiki\" (The Records of Ancient Matters), he was said to have been killed by the Taira clan.\n",
            "2021-07-20 14:29:55 | INFO | fairseq.tasks.translation | example reference: According to \"Nan-Taiheiki\", Ietoki ASHIKAGA, Takauji's grandfather, killed himself with his sword, praying that the Ashikaga clan may rule over the whole country in 3 generations.\n",
            "\n",
            "epoch 001 | valid on 'valid' subset:  62% 8/13 [00:11<00:08,  1.71s/it]\u001b[A2021-07-20 14:29:57 | INFO | fairseq.tasks.translation | example hypothesis: It is said that he was a member of the Imperial University of Japan, which is said to be a member of the Imperial University of Japan.\n",
            "2021-07-20 14:29:57 | INFO | fairseq.tasks.translation | example reference: The instrument music club, once directed by Yutaka Sado, achieved the sixth, and consecutively the fourth, gold medal (as of 2006), in University Category of All Japan Band Competition.\n",
            "\n",
            "epoch 001 | valid on 'valid' subset:  69% 9/13 [00:13<00:07,  1.78s/it]\u001b[A2021-07-20 14:29:59 | INFO | fairseq.tasks.translation | example hypothesis: As a result, there was a result that he died in the same year, however, it is said to have been killed in the Battle of Sekigahara.\n",
            "2021-07-20 14:29:59 | INFO | fairseq.tasks.translation | example reference: Kogoro KATSURA (later Takayoshi KIDO) should have been there too, but he arrived earlier and then went back to the base to wait a while. His life had been spared because the incident occurred before he came back.\n",
            "\n",
            "epoch 001 | valid on 'valid' subset:  77% 10/13 [00:15<00:05,  1.88s/it]\u001b[A2021-07-20 14:30:01 | INFO | fairseq.tasks.translation | example hypothesis: It is said that he was appointed as a member of the bakufu (Japanese feudal government headed by a shogun) of the Muromachi bakufu (Japanese feudal government headed by a shogun) in the Muromachi bakufu (Japanese feudal government headed by a shogun) in the Muromachi bakufu (Japanese feudal government headed by a shogun) in the Muromachi bakufu (Japanese feudal government headed by a shogun) in the Muromachi bakufu (Japanese feudal government headed by a shogun) in the Muromachi bakufu (Japanese feudal government headed by a shogun) in the Muromachi bakufu (Japanese feudal government headed by a shogun).\n",
            "2021-07-20 14:30:01 | INFO | fairseq.tasks.translation | example reference: In 1481, a few years after the tumultuous Onin War (1467 - 1477), which had lasted for a decade, Sotan, the official painter for the Muromachi shogunate, died; thus it is thought that Masanobu KANO was appointed as the official painter for the shogunate, succeeding Sotan.\n",
            "\n",
            "epoch 001 | valid on 'valid' subset:  85% 11/13 [00:17<00:03,  1.90s/it]\u001b[A2021-07-20 14:30:03 | INFO | fairseq.tasks.translation | example hypothesis: It is also called 'UNKNOWNTOKENINHYP' in the Muromachi bakufu (the Muromachi bakufu), who was the second son of the Muromachi bakufu (Japanese feudal government headed by a shogun), who was the second son of the Muromachi bakufu (Japanese feudal government headed by a shogun), and he was called 'UNKNOWNTOKENINHYP' (UNKNOWNTOKENINHYP) of the Muromachi bakufu (Japanese feudal government headed by a shogun).\n",
            "2021-07-20 14:30:03 | INFO | fairseq.tasks.translation | example reference: Prominent painters of the UNKNOWNTOKENINREF group include the founder Masanobu KANO, who worked for Yoshimasa ASHIKAGA, the eighth Seii taishogun (literally, \"great general who subdues the barbarians\") of the Muromachi shogunate; his heir, Motonobu KANO, a grandson of Motonobu; Eitoku KANO, who created screen paintings of the Azuchi and Osaka castles; a grandson of Eitoku, Tanyu KANO, who moved from Kyoto to Edo and supervised the creation of screen paintings of Edo Castle and Nijo Castle; Sanraku KANO, who stayed in Kyoto, thus representing a group called 'Kyo Kano.'\n",
            "\n",
            "epoch 001 | valid on 'valid' subset:  92% 12/13 [00:19<00:01,  1.85s/it]\u001b[A2021-07-20 14:30:04 | INFO | fairseq.tasks.translation | example hypothesis: It is said that the Imperial Prince (the Yodo-gawa River) (UNKNOWNTOKENINHYP) (UNKNOWNTOKENINHYP) (UNKNOWNTOKENINHYP) (UNKNOWNTOKENINHYP) (UNKNOWNTOKENINHYP) (UNKNOWNTOKENINHYP) (UNKNOWNTOKENINHYP) (UNKNOWNTOKENINHYP) (UNKNOWNTOKENINHYP) (UNKNOWNTOKENINHYP) (UNKNOWNTOKENINHYP) (UNKNOWNTOKENINHYP) (UNKNOWNTOKENINHYP) (UNKNOWNTOKENINHYP) (UNKNOWNTOKENINHYP) (UNKNOWNTOKENINHYP) (UNKNOWNTOKENINHYP) (UNKNOWNTOKENINHYP) (UNKNOWNTOKENINHYP) (UNKNOWNTOKENINHYP) (UNKNOWNTOKENINHYP) (UNKNOWNTOKENINHYP) (UNKNOWNTOKENINHYP) (UNKNOWNTOKENINHYP).\n",
            "2021-07-20 14:30:04 | INFO | fairseq.tasks.translation | example reference: The Cloistered Emperor Shirakawa had supreme power, but it was said he UNKNOWNTOKENINREF that, he has no control over the following three things: 1. Waters of the Kamo River (tributary of the Yodo River) (due to its flow and frequent flooding); 2. UNKNOWNTOKENINREF used in sugoroku (different from current sugoroku, close to western backgammon), which was popular way of gambling at that time, with spots on the dice selecting winners / losers; and 3. UNKNOWNTOKENINREF (monk soldiers from Mt. Hie Enryaku-ji Temple), which show that SHIRAKAWA had absolute control apart from these three things.\n",
            "\n",
            "epoch 001 | valid on 'valid' subset: 100% 13/13 [00:20<00:00,  1.51s/it]\u001b[A\n",
            "                                                                        \u001b[A2021-07-20 14:30:04 | INFO | valid | epoch 001 | valid on 'valid' subset | loss 8.09 | nll_loss 6.913 | ppl 120.49 | bleu 3.03 | wps 1278.6 | wpb 1959.6 | bsz 89.7 | num_updates 3599\n",
            "2021-07-20 14:30:04 | INFO | fairseq_cli.train | begin save checkpoint\n",
            "2021-07-20 14:30:30 | INFO | fairseq.checkpoint_utils | saved checkpoint checkpoints/kftt.ja-en/checkpoint1.pt (epoch 1 @ 3599 updates, score 3.03) (writing took 26.235694974000126 seconds)\n",
            "2021-07-20 14:30:30 | INFO | fairseq_cli.train | end of epoch 1 (average epoch stats below)\n",
            "2021-07-20 14:30:30 | INFO | train | epoch 001 | loss 9.783 | nll_loss 8.845 | ppl 459.93 | wps 9719.1 | ups 2.92 | wpb 3329.2 | bsz 122.3 | num_updates 3599 | lr 0.000449875 | gnorm 0.775 | train_wall 1183 | wall 1237\n",
            "epoch 002:   0% 0/3599 [00:00<?, ?it/s]2021-07-20 14:30:30 | INFO | fairseq.trainer | begin training epoch 2\n",
            "epoch 002: 100% 3598/3599 [19:50<00:00,  3.21it/s, loss=7.175, nll_loss=5.86, ppl=58.06, wps=9940.8, ups=3.01, wpb=3307.1, bsz=121.9, num_updates=7100, lr=0.000375293, gnorm=0.567, train_wall=33, wall=2395]2021-07-20 14:50:21 | INFO | fairseq_cli.train | begin validation on \"valid\" subset\n",
            "\n",
            "epoch 002 | valid on 'valid' subset:   0% 0/13 [00:00<?, ?it/s]\u001b[A2021-07-20 14:50:22 | INFO | fairseq.tasks.translation | example hypothesis: He was Jugoinoge (Junior Fifth Rank, Lower Grade), Jugoinoge (Junior Fifth Rank, Lower Grade).\n",
            "2021-07-20 14:50:22 | INFO | fairseq.tasks.translation | example reference: UNKNOWNTOKENINREF TAKEKOSHI, Jugoi no ge\n",
            "\n",
            "epoch 002 | valid on 'valid' subset:   8% 1/13 [00:00<00:11,  1.01it/s]\u001b[A2021-07-20 14:50:23 | INFO | fairseq.tasks.translation | example hypothesis: In 1600, he was defeated in the Battle of Fushimi-jo Castle.\n",
            "2021-07-20 14:50:23 | INFO | fairseq.tasks.translation | example reference: 1600 - Burned in the Siege of Fushimi Castle\n",
            "\n",
            "epoch 002 | valid on 'valid' subset:  15% 2/13 [00:02<00:12,  1.14s/it]\u001b[A2021-07-20 14:50:24 | INFO | fairseq.tasks.translation | example hypothesis: The Department of Art and History of Art, Culture, UNKNOWNTOKENINHYP, UNKNOWNTOKENINHYP, UNKNOWNTOKENINHYP, UNKNOWNTOKENINHYP\n",
            "2021-07-20 14:50:24 | INFO | fairseq.tasks.translation | example reference: Department of History, Japanese History Course, Asian History Course, and Buddhist History Course\n",
            "\n",
            "epoch 002 | valid on 'valid' subset:  23% 3/13 [00:03<00:11,  1.15s/it]\u001b[A2021-07-20 14:50:25 | INFO | fairseq.tasks.translation | example hypothesis: It is used to be used in the JR morning.\n",
            "2021-07-20 14:50:25 | INFO | fairseq.tasks.translation | example reference: The rail cars all belonged to JR (Japan Railway Company) and have been remodeled for use.\n",
            "\n",
            "epoch 002 | valid on 'valid' subset:  31% 4/13 [00:04<00:09,  1.06s/it]\u001b[A2021-07-20 14:50:27 | INFO | fairseq.tasks.translation | example hypothesis: 2005: He established the Department of Education of the University of Education, the Department of Education, the Department of Education, and the Department of Education.\n",
            "2021-07-20 14:50:27 | INFO | fairseq.tasks.translation | example reference: In UNKNOWNTOKENINREF, Legal Affairs Research Course of Graduate School of Law (Law School) opened and Tokyo Office was set up.\n",
            "\n",
            "epoch 002 | valid on 'valid' subset:  38% 5/13 [00:06<00:09,  1.24s/it]\u001b[A2021-07-20 14:50:29 | INFO | fairseq.tasks.translation | example hypothesis: UNKNOWNTOKENINHYP UNKNOWNTOKENINHYP UNKNOWNTOKENINHYP UNKNOWNTOKENINHYP UNKNOWNTOKENINHYP (UNKNOWNTOKENINHYP, Hiroshima City, Hiroshima Prefecture) (Important Cultural Property) (Important Cultural Property) (Important Cultural Property)\n",
            "2021-07-20 14:50:29 | INFO | fairseq.tasks.translation | example reference: UNKNOWNTOKENINREF Noh Stage - UNKNOWNTOKENINREF Castle (Fukuyama City, Hiroshima Prefecture), Present-day UNKNOWNTOKENINREF Shrine (Tomonoura, Fukuyama City, Hiroshima Prefecture) (Important Cultural Property)\n",
            "\n",
            "epoch 002 | valid on 'valid' subset:  46% 6/13 [00:07<00:09,  1.39s/it]\u001b[A2021-07-20 14:50:30 | INFO | fairseq.tasks.translation | example hypothesis: In addition, the domain of the Aizu Domain and the domain of the Aizu Domain had a number of four names, and the lord of the domain, and the lord of the domain.\n",
            "2021-07-20 14:50:30 | INFO | fairseq.tasks.translation | example reference: The sweep of the city turned violent, and there were 5 immediate deaths among the Aizu clan, four among the Hikone clan, and two among the Kuwana clan.\n",
            "\n",
            "epoch 002 | valid on 'valid' subset:  54% 7/13 [00:09<00:09,  1.52s/it]\u001b[A2021-07-20 14:50:32 | INFO | fairseq.tasks.translation | example hypothesis: According to \"Taiheiki,\" it is said that the Ashikaga clan, who was a grandfather of Takauji, was said to have made the power of the Ashikaga clan by his grandfather of Takauji.\n",
            "2021-07-20 14:50:32 | INFO | fairseq.tasks.translation | example reference: According to \"Nan-Taiheiki\", Ietoki ASHIKAGA, Takauji's grandfather, killed himself with his sword, praying that the Ashikaga clan may rule over the whole country in 3 generations.\n",
            "\n",
            "epoch 002 | valid on 'valid' subset:  62% 8/13 [00:11<00:07,  1.55s/it]\u001b[A2021-07-20 14:50:33 | INFO | fairseq.tasks.translation | example hypothesis: It is also said that he was in charge of UNKNOWNTOKENINHYP, which was the first one of the University of Education, and the UNKNOWNTOKENINHYP of the University of the University of Education, which was the first day of the University of Education, was the first time of the University of Education in 2006.\n",
            "2021-07-20 14:50:33 | INFO | fairseq.tasks.translation | example reference: The instrument music club, once directed by Yutaka Sado, achieved the sixth, and consecutively the fourth, gold medal (as of 2006), in University Category of All Japan Band Competition.\n",
            "\n",
            "epoch 002 | valid on 'valid' subset:  69% 9/13 [00:12<00:05,  1.49s/it]\u001b[A2021-07-20 14:50:35 | INFO | fairseq.tasks.translation | example hypothesis: Although it was not clear, he was not able to take up the castle, but after the death of the incident occurred, the incident occurred at the time of the time, but the incident occurred at the time of the time.\n",
            "2021-07-20 14:50:35 | INFO | fairseq.tasks.translation | example reference: Kogoro KATSURA (later Takayoshi KIDO) should have been there too, but he arrived earlier and then went back to the base to wait a while. His life had been spared because the incident occurred before he came back.\n",
            "\n",
            "epoch 002 | valid on 'valid' subset:  77% 10/13 [00:14<00:04,  1.50s/it]\u001b[A2021-07-20 14:50:37 | INFO | fairseq.tasks.translation | example hypothesis: It is said that he was a painter of the Muromachi bakufu (Japanese feudal government headed by a shogun) during the period of the Muromachi bakufu (Japanese feudal government headed by a shogun) of the Muromachi bakufu (Japanese feudal government headed by a shogun) of the Muromachi bakufu (Japanese feudal government headed by a shogun) of the Muromachi bakufu (Japanese feudal government headed by a shogun) of the Muromachi bakufu (Japanese feudal government headed by a shogun) of the Muromachi bakufu (Japanese feudal government headed by a shogun) of the Muromachi bakufu (Japanese feudal government headed by a shogun).\n",
            "2021-07-20 14:50:37 | INFO | fairseq.tasks.translation | example reference: In 1481, a few years after the tumultuous Onin War (1467 - 1477), which had lasted for a decade, Sotan, the official painter for the Muromachi shogunate, died; thus it is thought that Masanobu KANO was appointed as the official painter for the shogunate, succeeding Sotan.\n",
            "\n",
            "epoch 002 | valid on 'valid' subset:  85% 11/13 [00:15<00:03,  1.58s/it]\u001b[A2021-07-20 14:50:38 | INFO | fairseq.tasks.translation | example hypothesis: As a representative of the Kano school, he was a disciple of the Kano school, who served as the sixth shogun of the Muromachi bakufu (Japanese feudal government headed by a shogun), and the eldest son of Yoshiteru ASHIKAGA, who was the founder of the Muromachi bakufu (Japanese feudal government headed by a shogun), he moved to Kyoto and moved to Kyoto, and he moved to Kyoto, and he moved to Kyoto, and he moved to Kyoto, and he moved to Kyoto and moved to Kyoto.\n",
            "2021-07-20 14:50:38 | INFO | fairseq.tasks.translation | example reference: Prominent painters of the UNKNOWNTOKENINREF group include the founder Masanobu KANO, who worked for Yoshimasa ASHIKAGA, the eighth Seii taishogun (literally, \"great general who subdues the barbarians\") of the Muromachi shogunate; his heir, Motonobu KANO, a grandson of Motonobu; Eitoku KANO, who created screen paintings of the Azuchi and Osaka castles; a grandson of Eitoku, Tanyu KANO, who moved from Kyoto to Edo and supervised the creation of screen paintings of Edo Castle and Nijo Castle; Sanraku KANO, who stayed in Kyoto, thus representing a group called 'Kyo Kano.'\n",
            "\n",
            "epoch 002 | valid on 'valid' subset:  92% 12/13 [00:17<00:01,  1.64s/it]\u001b[A2021-07-20 14:50:39 | INFO | fairseq.tasks.translation | example hypothesis: When the Cloistered Emperor Shirakawa, the Cloistered Emperor Shirakawa (the Yodo-gawa River system), which is said to have been used by the Cloistered Emperor Shirakawa (the Yodo-gawa River system), which is said to have been used as a kind of UNKNOWNTOKENINHYP (the Yodo-gawa River), it is said that it was not used as a kind of UNKNOWNTOKENINHYP (UNKNOWNTOKENINHYP), and it is said that it was not used as a kind of UNKNOWNTOKENINHYP (UNKNOWNTOKENINHYP) of Enryaku-ji Temple.\n",
            "2021-07-20 14:50:39 | INFO | fairseq.tasks.translation | example reference: The Cloistered Emperor Shirakawa had supreme power, but it was said he UNKNOWNTOKENINREF that, he has no control over the following three things: 1. Waters of the Kamo River (tributary of the Yodo River) (due to its flow and frequent flooding); 2. UNKNOWNTOKENINREF used in sugoroku (different from current sugoroku, close to western backgammon), which was popular way of gambling at that time, with spots on the dice selecting winners / losers; and 3. UNKNOWNTOKENINREF (monk soldiers from Mt. Hie Enryaku-ji Temple), which show that SHIRAKAWA had absolute control apart from these three things.\n",
            "\n",
            "epoch 002 | valid on 'valid' subset: 100% 13/13 [00:18<00:00,  1.46s/it]\u001b[A\n",
            "                                                                        \u001b[A2021-07-20 14:50:40 | INFO | valid | epoch 002 | valid on 'valid' subset | loss 7.003 | nll_loss 5.668 | ppl 50.83 | bleu 7.4 | wps 1365.4 | wpb 1959.6 | bsz 89.7 | num_updates 7198 | best_bleu 7.4\n",
            "2021-07-20 14:50:40 | INFO | fairseq_cli.train | begin save checkpoint\n",
            "2021-07-20 14:51:09 | INFO | fairseq.checkpoint_utils | saved checkpoint checkpoints/kftt.ja-en/checkpoint2.pt (epoch 2 @ 7198 updates, score 7.4) (writing took 29.132768760999625 seconds)\n",
            "2021-07-20 14:51:09 | INFO | fairseq_cli.train | end of epoch 2 (average epoch stats below)\n",
            "2021-07-20 14:51:09 | INFO | train | epoch 002 | loss 7.553 | nll_loss 6.291 | ppl 78.32 | wps 9672.1 | ups 2.91 | wpb 3329.2 | bsz 122.3 | num_updates 7198 | lr 0.00037273 | gnorm 0.569 | train_wall 1188 | wall 2476\n",
            "epoch 003:   0% 0/3599 [00:00<?, ?it/s]2021-07-20 14:51:09 | INFO | fairseq.trainer | begin training epoch 3\n",
            "epoch 003: 100% 3598/3599 [19:50<00:00,  3.15it/s, loss=6.84, nll_loss=5.481, ppl=44.65, wps=10168, ups=3, wpb=3385.9, bsz=118.7, num_updates=10700, lr=0.000305709, gnorm=0.545, train_wall=33, wall=3635]2021-07-20 15:11:00 | INFO | fairseq_cli.train | begin validation on \"valid\" subset\n",
            "\n",
            "epoch 003 | valid on 'valid' subset:   0% 0/13 [00:00<?, ?it/s]\u001b[A2021-07-20 15:11:01 | INFO | fairseq.tasks.translation | example hypothesis: UNKNOWNTOKENINHYP: Jugoinoge (Junior Fifth Rank, Lower Grade)\n",
            "2021-07-20 15:11:01 | INFO | fairseq.tasks.translation | example reference: UNKNOWNTOKENINREF TAKEKOSHI, Jugoi no ge\n",
            "\n",
            "epoch 003 | valid on 'valid' subset:   8% 1/13 [00:00<00:10,  1.16it/s]\u001b[A2021-07-20 15:11:01 | INFO | fairseq.tasks.translation | example hypothesis: In 1600, he was burnt down in the Battle of Fushimi-jo Castle.\n",
            "2021-07-20 15:11:01 | INFO | fairseq.tasks.translation | example reference: 1600 - Burned in the Siege of Fushimi Castle\n",
            "\n",
            "epoch 003 | valid on 'valid' subset:  15% 2/13 [00:01<00:09,  1.19it/s]\u001b[A2021-07-20 15:11:02 | INFO | fairseq.tasks.translation | example hypothesis: Graduate School of History of Ancient and Modern History of Ancient Studies and History of Ancient Studies\n",
            "2021-07-20 15:11:02 | INFO | fairseq.tasks.translation | example reference: Department of History, Japanese History Course, Asian History Course, and Buddhist History Course\n",
            "\n",
            "epoch 003 | valid on 'valid' subset:  23% 3/13 [00:02<00:08,  1.16it/s]\u001b[A2021-07-20 15:11:03 | INFO | fairseq.tasks.translation | example hypothesis: It has been used for the number of cars which had been operated by the JR West.\n",
            "2021-07-20 15:11:03 | INFO | fairseq.tasks.translation | example reference: The rail cars all belonged to JR (Japan Railway Company) and have been remodeled for use.\n",
            "\n",
            "epoch 003 | valid on 'valid' subset:  31% 4/13 [00:03<00:07,  1.16it/s]\u001b[A2021-07-20 15:11:04 | INFO | fairseq.tasks.translation | example hypothesis: 2005: He established the Graduate School of Education, the Graduate School of Education, and was established in Tokyo.\n",
            "2021-07-20 15:11:04 | INFO | fairseq.tasks.translation | example reference: In UNKNOWNTOKENINREF, Legal Affairs Research Course of Graduate School of Law (Law School) opened and Tokyo Office was set up.\n",
            "\n",
            "epoch 003 | valid on 'valid' subset:  38% 5/13 [00:04<00:07,  1.04it/s]\u001b[A2021-07-20 15:11:06 | INFO | fairseq.tasks.translation | example hypothesis: UNKNOWNTOKENINHYP (UNKNOWNTOKENINHYP): UNKNOWNTOKENINHYP Castle (Hiroshima City, Hiroshima Prefecture), today's UNKNOWNTOKENINHYP Shrine (UNKNOWNTOKENINHYP, Hiroshima City, Hiroshima Prefecture) (Important Cultural Property)\n",
            "2021-07-20 15:11:06 | INFO | fairseq.tasks.translation | example reference: UNKNOWNTOKENINREF Noh Stage - UNKNOWNTOKENINREF Castle (Fukuyama City, Hiroshima Prefecture), Present-day UNKNOWNTOKENINREF Shrine (Tomonoura, Fukuyama City, Hiroshima Prefecture) (Important Cultural Property)\n",
            "\n",
            "epoch 003 | valid on 'valid' subset:  46% 6/13 [00:06<00:07,  1.14s/it]\u001b[A2021-07-20 15:11:07 | INFO | fairseq.tasks.translation | example hypothesis: In addition to the battle, the Aizu Domain became a fierce battle, and the domain of the Hikone Domain had two sons, and the lord of the Hikone Domain had two sons.\n",
            "2021-07-20 15:11:07 | INFO | fairseq.tasks.translation | example reference: The sweep of the city turned violent, and there were 5 immediate deaths among the Aizu clan, four among the Hikone clan, and two among the Kuwana clan.\n",
            "\n",
            "epoch 003 | valid on 'valid' subset:  54% 7/13 [00:07<00:07,  1.24s/it]\u001b[A2021-07-20 15:11:09 | INFO | fairseq.tasks.translation | example hypothesis: According to \"Taiheiki\" (The Record of the Great Peace), it is said that the Ashikaga clan, the grandfather of Takauji, was said to have committed suicide by his grandfather, the Ashikaga clan.\n",
            "2021-07-20 15:11:09 | INFO | fairseq.tasks.translation | example reference: According to \"Nan-Taiheiki\", Ietoki ASHIKAGA, Takauji's grandfather, killed himself with his sword, praying that the Ashikaga clan may rule over the whole country in 3 generations.\n",
            "\n",
            "epoch 003 | valid on 'valid' subset:  62% 8/13 [00:09<00:07,  1.48s/it]\u001b[A2021-07-20 15:11:11 | INFO | fairseq.tasks.translation | example hypothesis: In the past, in the past, he was said to have been in charge of UNKNOWNTOKENINHYP (the Department of Education), which is said to have been in charge of UNKNOWNTOKENINHYP (UNKNOWNTOKENINHYP), and in the middle of the four days of the UNKNOWNTOKENINHYP (the first day in 2006).\n",
            "2021-07-20 15:11:11 | INFO | fairseq.tasks.translation | example reference: The instrument music club, once directed by Yutaka Sado, achieved the sixth, and consecutively the fourth, gold medal (as of 2006), in University Category of All Japan Band Competition.\n",
            "\n",
            "epoch 003 | valid on 'valid' subset:  69% 9/13 [00:11<00:05,  1.48s/it]\u001b[A2021-07-20 15:11:13 | INFO | fairseq.tasks.translation | example hypothesis: In the case of Katsura KATSURA (later, Takayoshi KIDO), however, the incident occurred in the place where he was alive, but he went to the place of the place where he went to the place, and the incident occurred in the end of the time.\n",
            "2021-07-20 15:11:13 | INFO | fairseq.tasks.translation | example reference: Kogoro KATSURA (later Takayoshi KIDO) should have been there too, but he arrived earlier and then went back to the base to wait a while. His life had been spared because the incident occurred before he came back.\n",
            "\n",
            "epoch 003 | valid on 'valid' subset:  77% 10/13 [00:12<00:04,  1.57s/it]\u001b[A2021-07-20 15:11:14 | INFO | fairseq.tasks.translation | example hypothesis: It is said that the Onin War (Onin War), which was a painter of the Muromachi bakufu (Japanese feudal government headed by a shogun), died at the end of the Onin War (Onin War), and he was appointed as a painter in the Muromachi bakufu (Japanese feudal government headed by a shogun) and was appointed as a painter of the bakufu (Japanese feudal government headed by a shogun) and was appointed as a painter of the bakufu (Japanese feudal government headed by a shogun).\n",
            "2021-07-20 15:11:14 | INFO | fairseq.tasks.translation | example reference: In 1481, a few years after the tumultuous Onin War (1467 - 1477), which had lasted for a decade, Sotan, the official painter for the Muromachi shogunate, died; thus it is thought that Masanobu KANO was appointed as the official painter for the shogunate, succeeding Sotan.\n",
            "\n",
            "epoch 003 | valid on 'valid' subset:  85% 11/13 [00:14<00:03,  1.60s/it]\u001b[A2021-07-20 15:11:16 | INFO | fairseq.tasks.translation | example hypothesis: As a representative painter of the Kano school, he moved from Kyoto to Edo, and in Kyoto, he moved to Kyoto, and he moved to Kyoto in Kyoto, and he was called 'UNKNOWNTOKENINHYP' in Kyoto.\n",
            "2021-07-20 15:11:16 | INFO | fairseq.tasks.translation | example reference: Prominent painters of the UNKNOWNTOKENINREF group include the founder Masanobu KANO, who worked for Yoshimasa ASHIKAGA, the eighth Seii taishogun (literally, \"great general who subdues the barbarians\") of the Muromachi shogunate; his heir, Motonobu KANO, a grandson of Motonobu; Eitoku KANO, who created screen paintings of the Azuchi and Osaka castles; a grandson of Eitoku, Tanyu KANO, who moved from Kyoto to Edo and supervised the creation of screen paintings of Edo Castle and Nijo Castle; Sanraku KANO, who stayed in Kyoto, thus representing a group called 'Kyo Kano.'\n",
            "\n",
            "epoch 003 | valid on 'valid' subset:  92% 12/13 [00:16<00:01,  1.59s/it]\u001b[A2021-07-20 15:11:17 | INFO | fairseq.tasks.translation | example hypothesis: It is said that the Cloistered Emperor Shirakawa had a strong power that the Cloistered Emperor Shirakawa was not used as a symbol of the Kamo-gawa River (the Kamo-gawa River) (the Yodo-gawa River system), which is said to have been used as a symbol of the UNKNOWNTOKENINHYP (the Kamo-gawa River), which is said to have been used as a means of UNKNOWNTOKENINHYP (UNKNOWNTOKENINHYP), which is said to have been used as a means of UNKNOWNTOKENINHYP (UNKNOWNTOKENINHYP) of Enryaku-ji Temple of Mt. Hiei.\n",
            "2021-07-20 15:11:17 | INFO | fairseq.tasks.translation | example reference: The Cloistered Emperor Shirakawa had supreme power, but it was said he UNKNOWNTOKENINREF that, he has no control over the following three things: 1. Waters of the Kamo River (tributary of the Yodo River) (due to its flow and frequent flooding); 2. UNKNOWNTOKENINREF used in sugoroku (different from current sugoroku, close to western backgammon), which was popular way of gambling at that time, with spots on the dice selecting winners / losers; and 3. UNKNOWNTOKENINREF (monk soldiers from Mt. Hie Enryaku-ji Temple), which show that SHIRAKAWA had absolute control apart from these three things.\n",
            "\n",
            "epoch 003 | valid on 'valid' subset: 100% 13/13 [00:16<00:00,  1.34s/it]\u001b[A\n",
            "                                                                        \u001b[A2021-07-20 15:11:17 | INFO | valid | epoch 003 | valid on 'valid' subset | loss 6.642 | nll_loss 5.257 | ppl 38.24 | bleu 9.61 | wps 1512.2 | wpb 1959.6 | bsz 89.7 | num_updates 10797 | best_bleu 9.61\n",
            "2021-07-20 15:11:17 | INFO | fairseq_cli.train | begin save checkpoint\n",
            "2021-07-20 15:11:48 | INFO | fairseq.checkpoint_utils | saved checkpoint checkpoints/kftt.ja-en/checkpoint3.pt (epoch 3 @ 10797 updates, score 9.61) (writing took 31.043246927000382 seconds)\n",
            "2021-07-20 15:11:48 | INFO | fairseq_cli.train | end of epoch 3 (average epoch stats below)\n",
            "2021-07-20 15:11:48 | INFO | train | epoch 003 | loss 6.945 | nll_loss 5.599 | ppl 48.48 | wps 9669 | ups 2.9 | wpb 3329.2 | bsz 122.3 | num_updates 10797 | lr 0.000304333 | gnorm 0.564 | train_wall 1188 | wall 3715\n",
            "epoch 004:   0% 0/3599 [00:00<?, ?it/s]2021-07-20 15:11:48 | INFO | fairseq.trainer | begin training epoch 4\n",
            "epoch 004: 100% 3598/3599 [19:50<00:00,  2.97it/s, loss=6.565, nll_loss=5.168, ppl=35.95, wps=10095.7, ups=3.08, wpb=3276, bsz=127.4, num_updates=14300, lr=0.000264443, gnorm=0.562, train_wall=32, wall=4874]2021-07-20 15:31:39 | INFO | fairseq_cli.train | begin validation on \"valid\" subset\n",
            "\n",
            "epoch 004 | valid on 'valid' subset:   0% 0/13 [00:00<?, ?it/s]\u001b[A2021-07-20 15:31:40 | INFO | fairseq.tasks.translation | example hypothesis: UNKNOWNTOKENINHYP: Jugoinoge (Junior Fifth Rank, Lower Grade)\n",
            "2021-07-20 15:31:40 | INFO | fairseq.tasks.translation | example reference: UNKNOWNTOKENINREF TAKEKOSHI, Jugoi no ge\n",
            "\n",
            "epoch 004 | valid on 'valid' subset:   8% 1/13 [00:00<00:10,  1.11it/s]\u001b[A2021-07-20 15:31:41 | INFO | fairseq.tasks.translation | example hypothesis: In 1600, he was burnt down in the Battle of Fushimi-jo Castle.\n",
            "2021-07-20 15:31:41 | INFO | fairseq.tasks.translation | example reference: 1600 - Burned in the Siege of Fushimi Castle\n",
            "\n",
            "epoch 004 | valid on 'valid' subset:  15% 2/13 [00:01<00:09,  1.16it/s]\u001b[A2021-07-20 15:31:42 | INFO | fairseq.tasks.translation | example hypothesis: Department of History of Ancient and Modern Japanese History\n",
            "2021-07-20 15:31:42 | INFO | fairseq.tasks.translation | example reference: Department of History, Japanese History Course, Asian History Course, and Buddhist History Course\n",
            "\n",
            "epoch 004 | valid on 'valid' subset:  23% 3/13 [00:02<00:08,  1.12it/s]\u001b[A2021-07-20 15:31:43 | INFO | fairseq.tasks.translation | example hypothesis: It is used for the cars that had been operated by the JR.\n",
            "2021-07-20 15:31:43 | INFO | fairseq.tasks.translation | example reference: The rail cars all belonged to JR (Japan Railway Company) and have been remodeled for use.\n",
            "\n",
            "epoch 004 | valid on 'valid' subset:  31% 4/13 [00:03<00:08,  1.12it/s]\u001b[A2021-07-20 15:31:44 | INFO | fairseq.tasks.translation | example hypothesis: 2005: He established the Graduate School of the University of Education, the Department of Education, and established the establishment of Tokyo.\n",
            "2021-07-20 15:31:44 | INFO | fairseq.tasks.translation | example reference: In UNKNOWNTOKENINREF, Legal Affairs Research Course of Graduate School of Law (Law School) opened and Tokyo Office was set up.\n",
            "\n",
            "epoch 004 | valid on 'valid' subset:  38% 5/13 [00:04<00:07,  1.04it/s]\u001b[A2021-07-20 15:31:45 | INFO | fairseq.tasks.translation | example hypothesis: UNKNOWNTOKENINHYP (UNKNOWNTOKENINHYP): UNKNOWNTOKENINHYP Castle (Fukuyama City, Hiroshima Prefecture), UNKNOWNTOKENINHYP Shrine (Fukuyama City, Hiroshima Prefecture) (Important Cultural Property)\n",
            "2021-07-20 15:31:45 | INFO | fairseq.tasks.translation | example reference: UNKNOWNTOKENINREF Noh Stage - UNKNOWNTOKENINREF Castle (Fukuyama City, Hiroshima Prefecture), Present-day UNKNOWNTOKENINREF Shrine (Tomonoura, Fukuyama City, Hiroshima Prefecture) (Important Cultural Property)\n",
            "\n",
            "epoch 004 | valid on 'valid' subset:  46% 6/13 [00:05<00:07,  1.02s/it]\u001b[A2021-07-20 15:31:46 | INFO | fairseq.tasks.translation | example hypothesis: In the city, the Aizu Domain became a fierce battle, and the Aizu Domain had four members of the domain, and the domain of Hikone, and the Hikone Domain had two sons.\n",
            "2021-07-20 15:31:46 | INFO | fairseq.tasks.translation | example reference: The sweep of the city turned violent, and there were 5 immediate deaths among the Aizu clan, four among the Hikone clan, and two among the Kuwana clan.\n",
            "\n",
            "epoch 004 | valid on 'valid' subset:  54% 7/13 [00:07<00:06,  1.11s/it]\u001b[A2021-07-20 15:31:48 | INFO | fairseq.tasks.translation | example hypothesis: According to \"Taiheiki\" (The Record of the Great Peace), it is said that the Ashikaga clan, the grandfather of Takauji, was killed by his grandfather, the Ashikaga clan, and committed suicide by the Ashikaga clan.\n",
            "2021-07-20 15:31:48 | INFO | fairseq.tasks.translation | example reference: According to \"Nan-Taiheiki\", Ietoki ASHIKAGA, Takauji's grandfather, killed himself with his sword, praying that the Ashikaga clan may rule over the whole country in 3 generations.\n",
            "\n",
            "epoch 004 | valid on 'valid' subset:  62% 8/13 [00:09<00:06,  1.37s/it]\u001b[A2021-07-20 15:31:50 | INFO | fairseq.tasks.translation | example hypothesis: In the past, the UNKNOWNTOKENINHYP (UNKNOWNTOKENINHYP), which was said to have been under the command of Sado in Sado, was in the center of the University of Japan, and the UNKNOWNTOKENINHYP (the first half of the year of 2006) in the Faculty of Medicine, the first half of the four six years.\n",
            "2021-07-20 15:31:50 | INFO | fairseq.tasks.translation | example reference: The instrument music club, once directed by Yutaka Sado, achieved the sixth, and consecutively the fourth, gold medal (as of 2006), in University Category of All Japan Band Competition.\n",
            "\n",
            "epoch 004 | valid on 'valid' subset:  69% 9/13 [00:10<00:05,  1.39s/it]\u001b[A2021-07-20 15:31:52 | INFO | fairseq.tasks.translation | example hypothesis: Although it was originally said that he had already been said to have been in this place, the incident occurred at the time, but the incident occurred at the end of the time, and the incident occurred at the time of the time, and the incident occurred.\n",
            "2021-07-20 15:31:52 | INFO | fairseq.tasks.translation | example reference: Kogoro KATSURA (later Takayoshi KIDO) should have been there too, but he arrived earlier and then went back to the base to wait a while. His life had been spared because the incident occurred before he came back.\n",
            "\n",
            "epoch 004 | valid on 'valid' subset:  77% 10/13 [00:12<00:04,  1.57s/it]\u001b[A2021-07-20 15:31:53 | INFO | fairseq.tasks.translation | example hypothesis: It is said that the Onin War (in the Onin War), which was a painter of the Muromachi bakufu (Japanese feudal government headed by a shogun), died in 1549, and was appointed as a painter of the bakufu (Japanese feudal government headed by a shogun), and was appointed as a painter of the bakufu (Japanese feudal government headed by a shogun) and was appointed as a painter of the bakufu (Japanese feudal government headed by a shogun).\n",
            "2021-07-20 15:31:53 | INFO | fairseq.tasks.translation | example reference: In 1481, a few years after the tumultuous Onin War (1467 - 1477), which had lasted for a decade, Sotan, the official painter for the Muromachi shogunate, died; thus it is thought that Masanobu KANO was appointed as the official painter for the shogunate, succeeding Sotan.\n",
            "\n",
            "epoch 004 | valid on 'valid' subset:  85% 11/13 [00:14<00:03,  1.61s/it]\u001b[A2021-07-20 15:31:55 | INFO | fairseq.tasks.translation | example hypothesis: As a representative painter of the Kano school, the founder of the Kano school, including KANO KANO, who served as the eighth shogun of the Kano school, had served as the eighth shogun of the Muromachi bakufu (Japanese feudal government headed by a shogun), and he moved to Kyoto in Kyoto, and he moved to Kyoto in Kyoto, and he was called 'Kyoto KANO' in Kyoto, which was called 'Kyoto KANO,' which was called 'Kyoto KANO,' which was called 'Kyoto KANO,' which was called 'Kyoto KANO' in Kyoto.\n",
            "2021-07-20 15:31:55 | INFO | fairseq.tasks.translation | example reference: Prominent painters of the UNKNOWNTOKENINREF group include the founder Masanobu KANO, who worked for Yoshimasa ASHIKAGA, the eighth Seii taishogun (literally, \"great general who subdues the barbarians\") of the Muromachi shogunate; his heir, Motonobu KANO, a grandson of Motonobu; Eitoku KANO, who created screen paintings of the Azuchi and Osaka castles; a grandson of Eitoku, Tanyu KANO, who moved from Kyoto to Edo and supervised the creation of screen paintings of Edo Castle and Nijo Castle; Sanraku KANO, who stayed in Kyoto, thus representing a group called 'Kyo Kano.'\n",
            "\n",
            "epoch 004 | valid on 'valid' subset:  92% 12/13 [00:15<00:01,  1.62s/it]\u001b[A2021-07-20 15:31:56 | INFO | fairseq.tasks.translation | example hypothesis: Although the Cloistered Emperor Shirakawa, the Cloistered Emperor Shirakawa, was used as a means of the Kamo-gawa River (Yodo-gawa River system), the water of the Kamo-gawa River (the Kamo-gawa River), the water of the Kamo-gawa River (the Kamo-gawa River), and it is said that there is no historical view that he was not used as a means of 'UNKNOWNTOKENINHYP' (UNKNOWNTOKENINHYP), and it is said that he did not have a strong power in the world, but it is said that he did not have a strong power in the world, and it is said that he did not have a strong power of UNKNOWNTOKENINHYP.\n",
            "2021-07-20 15:31:56 | INFO | fairseq.tasks.translation | example reference: The Cloistered Emperor Shirakawa had supreme power, but it was said he UNKNOWNTOKENINREF that, he has no control over the following three things: 1. Waters of the Kamo River (tributary of the Yodo River) (due to its flow and frequent flooding); 2. UNKNOWNTOKENINREF used in sugoroku (different from current sugoroku, close to western backgammon), which was popular way of gambling at that time, with spots on the dice selecting winners / losers; and 3. UNKNOWNTOKENINREF (monk soldiers from Mt. Hie Enryaku-ji Temple), which show that SHIRAKAWA had absolute control apart from these three things.\n",
            "\n",
            "epoch 004 | valid on 'valid' subset: 100% 13/13 [00:16<00:00,  1.36s/it]\u001b[A\n",
            "                                                                        \u001b[A2021-07-20 15:31:56 | INFO | valid | epoch 004 | valid on 'valid' subset | loss 6.441 | nll_loss 5.017 | ppl 32.38 | bleu 10.27 | wps 1545.1 | wpb 1959.6 | bsz 89.7 | num_updates 14396 | best_bleu 10.27\n",
            "2021-07-20 15:31:56 | INFO | fairseq_cli.train | begin save checkpoint\n",
            "2021-07-20 15:32:27 | INFO | fairseq.checkpoint_utils | saved checkpoint checkpoints/kftt.ja-en/checkpoint4.pt (epoch 4 @ 14396 updates, score 10.27) (writing took 31.482577777999722 seconds)\n",
            "2021-07-20 15:32:27 | INFO | fairseq_cli.train | end of epoch 4 (average epoch stats below)\n",
            "2021-07-20 15:32:27 | INFO | train | epoch 004 | loss 6.665 | nll_loss 5.281 | ppl 38.89 | wps 9667.7 | ups 2.9 | wpb 3329.2 | bsz 122.3 | num_updates 14396 | lr 0.00026356 | gnorm 0.568 | train_wall 1188 | wall 4954\n",
            "epoch 005:   0% 0/3599 [00:00<?, ?it/s]2021-07-20 15:32:27 | INFO | fairseq.trainer | begin training epoch 5\n",
            "epoch 005: 100% 3598/3599 [19:50<00:00,  3.37it/s, loss=6.481, nll_loss=5.072, ppl=33.63, wps=10145.6, ups=2.96, wpb=3428.6, bsz=102.5, num_updates=17900, lr=0.00023636, gnorm=0.551, train_wall=34, wall=6114]2021-07-20 15:52:18 | INFO | fairseq_cli.train | begin validation on \"valid\" subset\n",
            "\n",
            "epoch 005 | valid on 'valid' subset:   0% 0/13 [00:00<?, ?it/s]\u001b[A2021-07-20 15:52:19 | INFO | fairseq.tasks.translation | example hypothesis: UNKNOWNTOKENINHYP: Jugoinoge (Junior Fifth Rank, Lower Grade)\n",
            "2021-07-20 15:52:19 | INFO | fairseq.tasks.translation | example reference: UNKNOWNTOKENINREF TAKEKOSHI, Jugoi no ge\n",
            "\n",
            "epoch 005 | valid on 'valid' subset:   8% 1/13 [00:00<00:10,  1.09it/s]\u001b[A2021-07-20 15:52:20 | INFO | fairseq.tasks.translation | example hypothesis: In 1600, he was burnt down in the Battle of Fushimi-jo Castle.\n",
            "2021-07-20 15:52:20 | INFO | fairseq.tasks.translation | example reference: 1600 - Burned in the Siege of Fushimi Castle\n",
            "\n",
            "epoch 005 | valid on 'valid' subset:  15% 2/13 [00:01<00:09,  1.14it/s]\u001b[A2021-07-20 15:52:21 | INFO | fairseq.tasks.translation | example hypothesis: Graduate School of History of History of History and History of History of History of History\n",
            "2021-07-20 15:52:21 | INFO | fairseq.tasks.translation | example reference: Department of History, Japanese History Course, Asian History Course, and Buddhist History Course\n",
            "\n",
            "epoch 005 | valid on 'valid' subset:  23% 3/13 [00:02<00:08,  1.13it/s]\u001b[A2021-07-20 15:52:22 | INFO | fairseq.tasks.translation | example hypothesis: All of them are operated by the JR.\n",
            "2021-07-20 15:52:22 | INFO | fairseq.tasks.translation | example reference: The rail cars all belonged to JR (Japan Railway Company) and have been remodeled for use.\n",
            "\n",
            "epoch 005 | valid on 'valid' subset:  31% 4/13 [00:03<00:07,  1.14it/s]\u001b[A2021-07-20 15:52:23 | INFO | fairseq.tasks.translation | example hypothesis: 2005: He established the Graduate School of Education, the Department of Education, and established the establishment of Tokyo University.\n",
            "2021-07-20 15:52:23 | INFO | fairseq.tasks.translation | example reference: In UNKNOWNTOKENINREF, Legal Affairs Research Course of Graduate School of Law (Law School) opened and Tokyo Office was set up.\n",
            "\n",
            "epoch 005 | valid on 'valid' subset:  38% 5/13 [00:04<00:07,  1.07it/s]\u001b[A2021-07-20 15:52:24 | INFO | fairseq.tasks.translation | example hypothesis: UNKNOWNTOKENINHYP (UNKNOWNTOKENINHYP): UNKNOWNTOKENINHYP Castle (Fukuyama City, Hiroshima Prefecture), UNKNOWNTOKENINHYP Shrine (UNKNOWNTOKENINHYP, Hiroshima City) (Important Cultural Property)\n",
            "2021-07-20 15:52:24 | INFO | fairseq.tasks.translation | example reference: UNKNOWNTOKENINREF Noh Stage - UNKNOWNTOKENINREF Castle (Fukuyama City, Hiroshima Prefecture), Present-day UNKNOWNTOKENINREF Shrine (Tomonoura, Fukuyama City, Hiroshima Prefecture) (Important Cultural Property)\n",
            "\n",
            "epoch 005 | valid on 'valid' subset:  46% 6/13 [00:05<00:06,  1.00it/s]\u001b[A2021-07-20 15:52:25 | INFO | fairseq.tasks.translation | example hypothesis: In addition, the Aizu Domain became a fierce battle, and the Aizu Domain had four members of the Aizu Domain, and the domain of Kuwana Domain had two sons.\n",
            "2021-07-20 15:52:25 | INFO | fairseq.tasks.translation | example reference: The sweep of the city turned violent, and there were 5 immediate deaths among the Aizu clan, four among the Hikone clan, and two among the Kuwana clan.\n",
            "\n",
            "epoch 005 | valid on 'valid' subset:  54% 7/13 [00:06<00:06,  1.07s/it]\u001b[A2021-07-20 15:52:26 | INFO | fairseq.tasks.translation | example hypothesis: According to \"Taiheiki\" (The Record of the Great Peace), it is said that the Ashikaga clan took over the whole country after the death of Takauji's grandfather, the Ashikaga clan.\n",
            "2021-07-20 15:52:26 | INFO | fairseq.tasks.translation | example reference: According to \"Nan-Taiheiki\", Ietoki ASHIKAGA, Takauji's grandfather, killed himself with his sword, praying that the Ashikaga clan may rule over the whole country in 3 generations.\n",
            "\n",
            "epoch 005 | valid on 'valid' subset:  62% 8/13 [00:08<00:05,  1.17s/it]\u001b[A2021-07-20 15:52:28 | INFO | fairseq.tasks.translation | example hypothesis: In the past, UNKNOWNTOKENINHYP (UNKNOWNTOKENINHYP), which was said to have been under the command of Sado in Sado, had four times four times, and in the end of 2006, the UNKNOWNTOKENINHYP (the second highest of the Japanese art of Japan) was completed.\n",
            "2021-07-20 15:52:28 | INFO | fairseq.tasks.translation | example reference: The instrument music club, once directed by Yutaka Sado, achieved the sixth, and consecutively the fourth, gold medal (as of 2006), in University Category of All Japan Band Competition.\n",
            "\n",
            "epoch 005 | valid on 'valid' subset:  69% 9/13 [00:09<00:04,  1.23s/it]\u001b[A2021-07-20 15:52:29 | INFO | fairseq.tasks.translation | example hypothesis: If it was originally a place, the incident occurred in the place, but when he arrived at the place, he went back to the place where he was too early, and the incident occurred at the end of the time.\n",
            "2021-07-20 15:52:29 | INFO | fairseq.tasks.translation | example reference: Kogoro KATSURA (later Takayoshi KIDO) should have been there too, but he arrived earlier and then went back to the base to wait a while. His life had been spared because the incident occurred before he came back.\n",
            "\n",
            "epoch 005 | valid on 'valid' subset:  77% 10/13 [00:11<00:03,  1.30s/it]\u001b[A2021-07-20 15:52:31 | INFO | fairseq.tasks.translation | example hypothesis: In the Onin War (1467), a few years after the Onin War (1467), who was a painter of the Muromachi bakufu (Japanese feudal government headed by a shogun), passed away, he was appointed as a painter of the bakufu (Japanese feudal government headed by a shogun) and was appointed as a painter of the bakufu (Japanese feudal government headed by a shogun).\n",
            "2021-07-20 15:52:31 | INFO | fairseq.tasks.translation | example reference: In 1481, a few years after the tumultuous Onin War (1467 - 1477), which had lasted for a decade, Sotan, the official painter for the Muromachi shogunate, died; thus it is thought that Masanobu KANO was appointed as the official painter for the shogunate, succeeding Sotan.\n",
            "\n",
            "epoch 005 | valid on 'valid' subset:  85% 11/13 [00:12<00:02,  1.40s/it]\u001b[A2021-07-20 15:52:32 | INFO | fairseq.tasks.translation | example hypothesis: As a representative painter of the Kano school, he moved from Kyoto to Edo by the eighth shogun Yoshimasa ASHIKAGA, and the son of Eitoku KANO, the eldest son of Eitoku KANO, and the grandson of Eitoku KANO, who was a disciple of Eitoku KANO, who was a disciple of Eitoku KANO, and others in Kyoto, and in Kyoto, he was called 'Kyoto Kano' (The Kano School of Kyoto), and the group of Kano KANO, which was called 'Kyoto Kano' (The Kano School of Kyoto), and so on, including KANO KANO, the grandson of Eitoku KANO, and others.\n",
            "2021-07-20 15:52:32 | INFO | fairseq.tasks.translation | example reference: Prominent painters of the UNKNOWNTOKENINREF group include the founder Masanobu KANO, who worked for Yoshimasa ASHIKAGA, the eighth Seii taishogun (literally, \"great general who subdues the barbarians\") of the Muromachi shogunate; his heir, Motonobu KANO, a grandson of Motonobu; Eitoku KANO, who created screen paintings of the Azuchi and Osaka castles; a grandson of Eitoku, Tanyu KANO, who moved from Kyoto to Edo and supervised the creation of screen paintings of Edo Castle and Nijo Castle; Sanraku KANO, who stayed in Kyoto, thus representing a group called 'Kyo Kano.'\n",
            "\n",
            "epoch 005 | valid on 'valid' subset:  92% 12/13 [00:14<00:01,  1.45s/it]\u001b[A2021-07-20 15:52:33 | INFO | fairseq.tasks.translation | example hypothesis: The historical event that the Cloistered Emperor Shirakawa had a great power in the Kamo-gawa River (the Kamo-gawa River), the water of the Kamo-gawa River (the Kamo-gawa River), the water of the Kamo-gawa River (the Kamo-gawa River), and it is said that there was no political power in which he could not have a strong power, and it is said that he did not have a strong power as a means, and it is said that he did not have a strong power as a means, and it is said that he did not have a strong power as a means.\n",
            "2021-07-20 15:52:33 | INFO | fairseq.tasks.translation | example reference: The Cloistered Emperor Shirakawa had supreme power, but it was said he UNKNOWNTOKENINREF that, he has no control over the following three things: 1. Waters of the Kamo River (tributary of the Yodo River) (due to its flow and frequent flooding); 2. UNKNOWNTOKENINREF used in sugoroku (different from current sugoroku, close to western backgammon), which was popular way of gambling at that time, with spots on the dice selecting winners / losers; and 3. UNKNOWNTOKENINREF (monk soldiers from Mt. Hie Enryaku-ji Temple), which show that SHIRAKAWA had absolute control apart from these three things.\n",
            "\n",
            "epoch 005 | valid on 'valid' subset: 100% 13/13 [00:15<00:00,  1.24s/it]\u001b[A\n",
            "                                                                        \u001b[A2021-07-20 15:52:33 | INFO | valid | epoch 005 | valid on 'valid' subset | loss 6.333 | nll_loss 4.912 | ppl 30.11 | bleu 11.98 | wps 1714.5 | wpb 1959.6 | bsz 89.7 | num_updates 17995 | best_bleu 11.98\n",
            "2021-07-20 15:52:33 | INFO | fairseq_cli.train | begin save checkpoint\n",
            "2021-07-20 15:53:04 | INFO | fairseq.checkpoint_utils | saved checkpoint checkpoints/kftt.ja-en/checkpoint5.pt (epoch 5 @ 17995 updates, score 11.98) (writing took 30.65609584899994 seconds)\n",
            "2021-07-20 15:53:04 | INFO | fairseq_cli.train | end of epoch 5 (average epoch stats below)\n",
            "2021-07-20 15:53:04 | INFO | train | epoch 005 | loss 6.494 | nll_loss 5.087 | ppl 33.99 | wps 9688.7 | ups 2.91 | wpb 3329.2 | bsz 122.3 | num_updates 17995 | lr 0.000235735 | gnorm 0.578 | train_wall 1187 | wall 6191\n",
            "2021-07-20 15:53:04 | INFO | fairseq_cli.train | done training in 6187.2 seconds\n"
          ],
          "name": "stdout"
        }
      ]
    },
    {
      "cell_type": "markdown",
      "metadata": {
        "id": "POCeGJPHw2zJ"
      },
      "source": [
        "epoch=5のとき，BLEUはだいたい12くらいになった．"
      ]
    },
    {
      "cell_type": "markdown",
      "metadata": {
        "id": "8sER6zJ2bW4H"
      },
      "source": [
        "引数の説明\n",
        "\n",
        "*   data91: 第一引数はモデルの保存先を指定します。これがデフォルトのようです\n",
        "\n",
        "*   --lr: learning rateはデータ、バッチサイズなどで大きく適切な値が変わります。1e-5がよく使われているらしいです．\n",
        "\n",
        "*   --warmup-updates: このパラメータの回数分のminibatchを処理した段階でlrが最大値になります。\n",
        "1epochのminibatchの数は後述のパラメータで大きく変わるので、変更し忘れないように注意\n",
        "\n",
        "\n",
        "\n",
        "\n",
        "\n"
      ]
    },
    {
      "cell_type": "code",
      "metadata": {
        "id": "ANCuK3lNPcU5"
      },
      "source": [
        "## epoch=10で再度やってみる　→　GPU使用制限のため断念\n",
        "#!fairseq-train data91 \\\n",
        "#    --save-dir checkpoints/kftt.ja-en/epoch10/ \\\n",
        "#    --arch lstm --share-decoder-input-output-embed \\\n",
        "#    --optimizer adam --adam-betas '(0.9, 0.98)' --clip-norm 0.0 \\\n",
        "#    --lr 5e-4 --lr-scheduler inverse_sqrt --warmup-updates 4000 \\\n",
        "#    --dropout 0.3 --weight-decay 0.0001 \\\n",
        "#    --criterion label_smoothed_cross_entropy --label-smoothing 0.1 \\\n",
        "#    --max-tokens 4096 \\\n",
        "#    --max-epoch 10 \\\n",
        "#    --eval-bleu \\\n",
        "#    --eval-bleu-detok moses \\\n",
        "#    --eval-bleu-remove-bpe \\\n",
        "#    --eval-bleu-print-samples \\\n",
        "#    --best-checkpoint-metric bleu --maximize-best-checkpoint-metric"
      ],
      "execution_count": null,
      "outputs": []
    },
    {
      "cell_type": "markdown",
      "metadata": {
        "id": "l_c1dqLC6Lsm"
      },
      "source": [
        "## 92. 機械翻訳モデルの適用\n",
        "91で学習したニューラル機械翻訳モデルを用い，与えられた（任意の）日本語の文を英語に翻訳するプログラムを実装せよ．\n",
        "\n"
      ]
    },
    {
      "cell_type": "markdown",
      "metadata": {
        "id": "dx-jXbQqYx_p"
      },
      "source": [
        "fairseq-interactiveを使って，翻訳する．  \n",
        "\n",
        "https://fairseq.readthedocs.io/en/latest/command_line_tools.html#fairseq-interactive"
      ]
    },
    {
      "cell_type": "code",
      "metadata": {
        "colab": {
          "base_uri": "https://localhost:8080/"
        },
        "id": "V5JDoAkZZCra",
        "outputId": "658e1401-6f68-41a2-ec20-6ffaaf223c25"
      },
      "source": [
        "!fairseq-interactive data91/ \\\n",
        "  --path checkpoints/kftt.ja-en/checkpoint_best.pt \\\n",
        "  < ./kftt-data-1.0/data/tok/kyoto-test.ja \\\n",
        "   | grep '^H' | cut -f3 > 92.out"
      ],
      "execution_count": null,
      "outputs": [
        {
          "output_type": "stream",
          "text": [
            "/usr/local/lib/python3.7/dist-packages/torch/_tensor.py:575: UserWarning: floor_divide is deprecated, and will be removed in a future version of pytorch. It currently rounds toward 0 (like the 'trunc' function NOT 'floor'). This results in incorrect rounding for negative values.\n",
            "To keep the current behavior, use torch.div(a, b, rounding_mode='trunc'), or for actual floor division, use torch.div(a, b, rounding_mode='floor'). (Triggered internally at  /pytorch/aten/src/ATen/native/BinaryOps.cpp:467.)\n",
            "  return torch.floor_divide(self, other)\n"
          ],
          "name": "stdout"
        }
      ]
    },
    {
      "cell_type": "code",
      "metadata": {
        "colab": {
          "base_uri": "https://localhost:8080/"
        },
        "id": "jXJVmqxLvQz1",
        "outputId": "43989c7f-7044-44e5-d98a-48fc2c8026f8"
      },
      "source": [
        "!head 92.out -n 10"
      ],
      "execution_count": 5,
      "outputs": [
        {
          "output_type": "stream",
          "text": [
            "<unk>\n",
            "Dogen was a Zen monk in the early Kamakura period .\n",
            "He was the founder of the Soto sect .\n",
            "His name was also used in his later years .\n",
            "He was given the title of <unk> ( an honorific title for the Emperor ) .\n",
            "His posthumous Buddhist name was <unk> Kokushi ( <unk> ) and <unk> Daishi ( a priest ) .\n",
            "In general , he was called Dogen Dogen .\n",
            "It is said that he spread the custom of eating food and food in Japan .\n",
            "There is also a theory that he brought back to <unk> <unk> ( <unk> ) .\n",
            "There are many theories about the birth of Dogen , but there are various theories on the fact that he was born as a direct descendant of Michichika TSUCHIMIKADO ( MINAMOTO no Michichika and Michichika KOGA ) .\n"
          ],
          "name": "stdout"
        }
      ]
    },
    {
      "cell_type": "markdown",
      "metadata": {
        "id": "NkzPoKDO6NmU"
      },
      "source": [
        "## 93. BLEUスコアの計測\n",
        "91で学習したニューラル機械翻訳モデルの品質を調べるため，評価データにおけるBLEUスコアを測定せよ．\n",
        "\n"
      ]
    },
    {
      "cell_type": "code",
      "metadata": {
        "id": "DrkqEuuF4L1L",
        "colab": {
          "base_uri": "https://localhost:8080/"
        },
        "outputId": "db5b166b-8b14-4064-b2fd-f04b2cfe1396"
      },
      "source": [
        "!fairseq-score --sys 92.out --ref kftt-data-1.0/data/tok/kyoto-test.en"
      ],
      "execution_count": null,
      "outputs": [
        {
          "output_type": "stream",
          "text": [
            "Namespace(ignore_case=False, order=4, ref='kftt-data-1.0/data/tok/kyoto-test.en', sacrebleu=False, sentence_bleu=False, sys='92.out')\n",
            "BLEU4 = 14.72, 42.9/18.6/10.1/5.8 (BP=1.000, ratio=1.024, syslen=27384, reflen=26734)\n"
          ],
          "name": "stdout"
        }
      ]
    },
    {
      "cell_type": "markdown",
      "metadata": {
        "id": "d5Y1Mude6PLD"
      },
      "source": [
        "## 94. ビーム探索\n",
        "91で学習したニューラル機械翻訳モデルで翻訳文をデコードする際に，ビーム探索を導入せよ．ビーム幅を1から100くらいまで適当に変化させながら，開発セット上のBLEUスコアの変化をプロットせよ．\n",
        "\n"
      ]
    },
    {
      "cell_type": "code",
      "metadata": {
        "id": "H1Wo83ZIQWdb"
      },
      "source": [
        "!mkdir 94"
      ],
      "execution_count": null,
      "outputs": []
    },
    {
      "cell_type": "code",
      "metadata": {
        "id": "bh6goVMQQMXx",
        "colab": {
          "base_uri": "https://localhost:8080/"
        },
        "outputId": "a24686fd-4d2d-466c-87c5-3fd64309b8a2"
      },
      "source": [
        "#beam size = 1\n",
        "!fairseq-interactive \\\n",
        "  --path checkpoints/kftt.ja-en/checkpoint_best.pt \\\n",
        "  --beam 1 data91 \\\n",
        "  < kftt-data-1.0/data/tok/kyoto-dev.ja | grep '^H' | cut -f3 > 94/beam1.out\n",
        "!fairseq-score --sys 94/beam1.out --ref kftt-data-1.0/data/tok/kyoto-dev.en"
      ],
      "execution_count": null,
      "outputs": [
        {
          "output_type": "stream",
          "text": [
            "/usr/local/lib/python3.7/dist-packages/torch/_tensor.py:575: UserWarning: floor_divide is deprecated, and will be removed in a future version of pytorch. It currently rounds toward 0 (like the 'trunc' function NOT 'floor'). This results in incorrect rounding for negative values.\n",
            "To keep the current behavior, use torch.div(a, b, rounding_mode='trunc'), or for actual floor division, use torch.div(a, b, rounding_mode='floor'). (Triggered internally at  /pytorch/aten/src/ATen/native/BinaryOps.cpp:467.)\n",
            "  return torch.floor_divide(self, other)\n",
            "Namespace(ignore_case=False, order=4, ref='kftt-data-1.0/data/tok/kyoto-dev.en', sacrebleu=False, sentence_bleu=False, sys='94/beam1.out')\n",
            "BLEU4 = 10.33, 38.4/14.4/6.5/3.2 (BP=1.000, ratio=1.134, syslen=27577, reflen=24309)\n"
          ],
          "name": "stdout"
        }
      ]
    },
    {
      "cell_type": "code",
      "metadata": {
        "id": "z95_HN9pQXCW",
        "colab": {
          "base_uri": "https://localhost:8080/"
        },
        "outputId": "3538066b-8e75-4f2a-8e98-d603a4977de3"
      },
      "source": [
        "#beam size = 5\n",
        "!fairseq-interactive \\\n",
        "  --path checkpoints/kftt.ja-en/checkpoint_best.pt \\\n",
        "  --beam 5 data91 \\\n",
        "  < kftt-data-1.0/data/tok/kyoto-dev.ja | grep '^H' | cut -f3 > 94/beam5.out\n",
        "!fairseq-score --sys 94/beam5.out --ref kftt-data-1.0/data/tok/kyoto-dev.en"
      ],
      "execution_count": null,
      "outputs": [
        {
          "output_type": "stream",
          "text": [
            "/usr/local/lib/python3.7/dist-packages/torch/_tensor.py:575: UserWarning: floor_divide is deprecated, and will be removed in a future version of pytorch. It currently rounds toward 0 (like the 'trunc' function NOT 'floor'). This results in incorrect rounding for negative values.\n",
            "To keep the current behavior, use torch.div(a, b, rounding_mode='trunc'), or for actual floor division, use torch.div(a, b, rounding_mode='floor'). (Triggered internally at  /pytorch/aten/src/ATen/native/BinaryOps.cpp:467.)\n",
            "  return torch.floor_divide(self, other)\n",
            "Namespace(ignore_case=False, order=4, ref='kftt-data-1.0/data/tok/kyoto-dev.en', sacrebleu=False, sentence_bleu=False, sys='94/beam5.out')\n",
            "BLEU4 = 12.06, 41.5/16.4/7.8/4.0 (BP=1.000, ratio=1.056, syslen=25681, reflen=24309)\n"
          ],
          "name": "stdout"
        }
      ]
    },
    {
      "cell_type": "code",
      "metadata": {
        "id": "2E2KQI3kQaxI",
        "colab": {
          "base_uri": "https://localhost:8080/"
        },
        "outputId": "bac922b6-fb32-425b-a324-1369adc555f0"
      },
      "source": [
        "#beam size = 10\n",
        "!fairseq-interactive \\\n",
        "  --path checkpoints/kftt.ja-en/checkpoint_best.pt \\\n",
        "  --beam 10 data91 \\\n",
        "  < kftt-data-1.0/data/tok/kyoto-dev.ja | grep '^H' | cut -f3 > 94/beam10.out\n",
        "!fairseq-score --sys 94/beam10.out --ref kftt-data-1.0/data/tok/kyoto-dev.en"
      ],
      "execution_count": null,
      "outputs": [
        {
          "output_type": "stream",
          "text": [
            "/usr/local/lib/python3.7/dist-packages/torch/_tensor.py:575: UserWarning: floor_divide is deprecated, and will be removed in a future version of pytorch. It currently rounds toward 0 (like the 'trunc' function NOT 'floor'). This results in incorrect rounding for negative values.\n",
            "To keep the current behavior, use torch.div(a, b, rounding_mode='trunc'), or for actual floor division, use torch.div(a, b, rounding_mode='floor'). (Triggered internally at  /pytorch/aten/src/ATen/native/BinaryOps.cpp:467.)\n",
            "  return torch.floor_divide(self, other)\n",
            "Namespace(ignore_case=False, order=4, ref='kftt-data-1.0/data/tok/kyoto-dev.en', sacrebleu=False, sentence_bleu=False, sys='94/beam10.out')\n",
            "BLEU4 = 11.97, 41.5/16.3/7.7/4.0 (BP=1.000, ratio=1.038, syslen=25228, reflen=24309)\n"
          ],
          "name": "stdout"
        }
      ]
    },
    {
      "cell_type": "markdown",
      "metadata": {
        "id": "rCV4JBOl6TMe"
      },
      "source": [
        "## 95. サブワード化\n",
        "トークンの単位を単語や形態素からサブワードに変更し，91-94の実験を再度実施せよ．\n",
        "\n"
      ]
    },
    {
      "cell_type": "code",
      "metadata": {
        "colab": {
          "base_uri": "https://localhost:8080/"
        },
        "id": "Sb8HSfI_yS7F",
        "outputId": "6816e20c-52c6-4172-fef4-ddb92a91d5f7"
      },
      "source": [
        "!pip install sentencepiece"
      ],
      "execution_count": 6,
      "outputs": [
        {
          "output_type": "stream",
          "text": [
            "Collecting sentencepiece\n",
            "  Downloading sentencepiece-0.1.96-cp37-cp37m-manylinux_2_17_x86_64.manylinux2014_x86_64.whl (1.2 MB)\n",
            "\u001b[K     |████████████████████████████████| 1.2 MB 8.2 MB/s \n",
            "\u001b[?25hInstalling collected packages: sentencepiece\n",
            "Successfully installed sentencepiece-0.1.96\n"
          ],
          "name": "stdout"
        }
      ]
    },
    {
      "cell_type": "code",
      "metadata": {
        "id": "SQFDvRRvyQtU"
      },
      "source": [
        "import sentencepiece as spm\n",
        "import re\n",
        "\n",
        "spm.SentencePieceTrainer.Train('--input=kftt-data-1.0/data/orig/kyoto-train.ja --model_prefix=kyoto_ja --vocab_size=16000 --character_coverage=1.0')\n",
        "\n",
        "sp = spm.SentencePieceProcessor()\n",
        "sp.Load('kyoto_ja.model')\n",
        "\n",
        "for src, dst in [\n",
        "    ('kftt-data-1.0/data/orig/kyoto-train.ja', 'train.sub.ja'),\n",
        "    ('kftt-data-1.0/data/orig/kyoto-dev.ja', 'dev.sub.ja'),\n",
        "    ('kftt-data-1.0/data/orig/kyoto-test.ja', 'test.sub.ja'),\n",
        "]:\n",
        "    with open(src) as f, open(dst, 'w') as g:\n",
        "        for x in f:\n",
        "            x = x.strip()\n",
        "            x = re.sub(r'\\s+', ' ', x)\n",
        "            x = sp.encode_as_pieces(x)\n",
        "            x = ' '.join(x)\n",
        "            print(x, file=g)"
      ],
      "execution_count": null,
      "outputs": []
    },
    {
      "cell_type": "code",
      "metadata": {
        "colab": {
          "base_uri": "https://localhost:8080/"
        },
        "id": "VbBwp-tkycGK",
        "outputId": "376e6404-a46c-4253-ac7d-03e6b316ed16"
      },
      "source": [
        "!head train.sub.ja"
      ],
      "execution_count": null,
      "outputs": [
        {
          "output_type": "stream",
          "text": [
            "▁ 雪 舟 ( せ っ しゅう 、 14 20 年 ( 応永 27 年 )- 150 6 年 ( 永正 3 年 ) ) は 号 で 、 15 世紀後半 室町時代に 活躍した 水墨画 家 ・ 禅僧 で 、 画 聖 とも 称え られる 。\n",
            "▁日本の 水墨画 を 一 変 させた 。\n",
            "▁諱は 「 等 楊 ( とう よう ) 」 、 もしくは 「 拙 宗 ( せ っ しゅう ) 」 と号した 。\n",
            "▁ 備中国 に 生まれ 、 京都 ・ 相国寺 に入って から 周防国 に移る 。\n",
            "▁その後 遣 明 使 に 随行 して 中国 ( 明 ) に渡って 中国の 水墨画 を学んだ 。\n",
            "▁ 作品 は 数多く 、 中国 風の 山 水 画 だけでなく 人物 画 や 花鳥 画 も よく した 。\n",
            "▁大 胆 な 構図 と 力 強い 筆 線 は非常に 個 性 的な 画 風 を作り 出している 。\n",
            "▁ 現存する 作品 のうち 6 点 が 国宝 に指定され ており 、 日本の 画家 のなかで も 別 格 の 評価 を受けている といえる 。\n",
            "▁このため 、 花鳥 図屏風 などに 「 伝 雪 舟 筆 」 される 作品 は 大変 多い 。\n",
            "▁ 真 筆 である か 専門 家 の間で も 意見 の 分かれ るもの も 多 々 ある 。\n"
          ],
          "name": "stdout"
        }
      ]
    },
    {
      "cell_type": "code",
      "metadata": {
        "colab": {
          "base_uri": "https://localhost:8080/"
        },
        "id": "INTC3T-TyehQ",
        "outputId": "54d82dcc-8f6b-4d44-83fa-9b46ec527c25"
      },
      "source": [
        "!pip install subword-nmt"
      ],
      "execution_count": null,
      "outputs": [
        {
          "output_type": "stream",
          "text": [
            "Collecting subword-nmt\n",
            "  Downloading subword_nmt-0.3.7-py2.py3-none-any.whl (26 kB)\n",
            "Installing collected packages: subword-nmt\n",
            "Successfully installed subword-nmt-0.3.7\n"
          ],
          "name": "stdout"
        }
      ]
    },
    {
      "cell_type": "code",
      "metadata": {
        "id": "5uck3xvvyggk"
      },
      "source": [
        "!subword-nmt learn-bpe -s 16000 < kftt-data-1.0/data/orig/kyoto-train.en > kyoto_en.codes\n",
        "!subword-nmt apply-bpe -c kyoto_en.codes < kftt-data-1.0/data/orig/kyoto-train.en > train.sub.en\n",
        "!subword-nmt apply-bpe -c kyoto_en.codes < kftt-data-1.0/data/orig/kyoto-dev.en > dev.sub.en\n",
        "!subword-nmt apply-bpe -c kyoto_en.codes < kftt-data-1.0/data/orig/kyoto-test.en > test.sub.en"
      ],
      "execution_count": null,
      "outputs": []
    },
    {
      "cell_type": "code",
      "metadata": {
        "colab": {
          "base_uri": "https://localhost:8080/"
        },
        "id": "zgkrwZZKyldX",
        "outputId": "8e88279e-6993-402a-fa0d-59c85d99eab1"
      },
      "source": [
        "!head train.sub.en"
      ],
      "execution_count": null,
      "outputs": [
        {
          "output_type": "stream",
          "text": [
            "K@@ n@@ own as Ses@@ shu (14@@ 20 - 150@@ 6@@ ), he was an ink painter and Zen monk active in the Muromachi period in the latter half of the 15th century, and was called a master pain@@ ter.\n",
            "He revol@@ ut@@ ion@@ ized the Japanese ink paint@@ ing.\n",
            "He was given the posthumous name \"@@ Toyo@@ \" or \"S@@ es@@ shu (@@ 拙@@ 宗@@ ).\"\n",
            "Born in Bicchu Province, he moved to Suo Province after entering S@@ Shokoku-ji Temple in Kyoto.\n",
            "Later he accompanied a mission to Ming Dynasty China and learned Chinese ink paint@@ ing.\n",
            "His works were man@@ y, including not only Chinese-style landscape paintings, but also portraits and pictures of flowers and bird@@ s.\n",
            "His b@@ old compos@@ itions and strong brush st@@ rok@@ es const@@ ituted an extremely distinctive style.\n",
            "6 of his ext@@ ant works are designated national treasu@@ res. In@@ de@@ ed, he is considered to be extraordinary among Japanese pain@@ ters.\n",
            "For this reason, there are a great many art@@ works that are attributed to him, such as folding scre@@ ens with pictures of flowers and that birds are painted on them.\n",
            "There are many works that even experts cannot ag@@ ree if they are really his work or not.\n"
          ],
          "name": "stdout"
        }
      ]
    },
    {
      "cell_type": "code",
      "metadata": {
        "id": "z1w1wUHTQhcj",
        "colab": {
          "base_uri": "https://localhost:8080/"
        },
        "outputId": "f3df68a7-2100-463a-aa4f-972efa3532c9"
      },
      "source": [
        "#前処理\n",
        "!mkdir data91/kftt-bpe.ja-en\n",
        "!mkdir kftt-data-1.0/data/bpe"
      ],
      "execution_count": 12,
      "outputs": [
        {
          "output_type": "stream",
          "text": [
            "mkdir: cannot create directory ‘data91/kftt-bpe.ja-en’: File exists\n",
            "mkdir: cannot create directory ‘kftt-data-1.0/data/bpe’: File exists\n",
            "mkdir: cannot create directory ‘checkpoints/kftt-bpe.ja-en’: File exists\n"
          ],
          "name": "stdout"
        }
      ]
    },
    {
      "cell_type": "code",
      "metadata": {
        "id": "FgXsIOTbR_xc",
        "colab": {
          "base_uri": "https://localhost:8080/"
        },
        "outputId": "20d087fd-67b5-4386-8dbb-1fbe1896fee3"
      },
      "source": [
        "!fairseq-preprocess --source-lang ja --target-lang en \\\n",
        "    --trainpref train.sub \\\n",
        "    --validpref dev.sub \\\n",
        "    --testpref test.sub \\\n",
        "    --destdir data91/kftt-bpe.ja-en/ \\\n",
        "    --thresholdsrc 5 \\\n",
        "    --thresholdtgt 5 \\\n",
        "    --bpe subword_nmt \\\n",
        "    --workers 20"
      ],
      "execution_count": 10,
      "outputs": [
        {
          "output_type": "stream",
          "text": [
            "2021-07-21 01:47:07 | INFO | fairseq_cli.preprocess | Namespace(align_suffix=None, alignfile=None, all_gather_list_size=16384, bf16=False, bpe='subword_nmt', checkpoint_shard_count=1, checkpoint_suffix='', cpu=False, criterion='cross_entropy', dataset_impl='mmap', destdir='data91/kftt-bpe.ja-en/', empty_cache_freq=0, fp16=False, fp16_init_scale=128, fp16_no_flatten_grads=False, fp16_scale_tolerance=0.0, fp16_scale_window=None, joined_dictionary=False, log_format=None, log_interval=100, lr_scheduler='fixed', memory_efficient_bf16=False, memory_efficient_fp16=False, min_loss_scale=0.0001, model_parallel_size=1, no_progress_bar=False, nwordssrc=-1, nwordstgt=-1, only_source=False, optimizer=None, padding_factor=8, profile=False, quantization_config_path=None, scoring='bleu', seed=1, source_lang='ja', srcdict=None, target_lang='en', task='translation', tensorboard_logdir=None, testpref='test.sub', tgtdict=None, threshold_loss_scale=None, thresholdsrc=5, thresholdtgt=5, tokenizer=None, tpu=False, trainpref='train.sub', user_dir=None, validpref='dev.sub', workers=20)\n",
            "Traceback (most recent call last):\n",
            "  File \"/usr/local/bin/fairseq-preprocess\", line 8, in <module>\n",
            "    sys.exit(cli_main())\n",
            "  File \"/usr/local/lib/python3.7/dist-packages/fairseq_cli/preprocess.py\", line 394, in cli_main\n",
            "    main(args)\n",
            "  File \"/usr/local/lib/python3.7/dist-packages/fairseq_cli/preprocess.py\", line 74, in main\n",
            "    raise FileExistsError(dict_path(args.source_lang))\n",
            "FileExistsError: data91/kftt-bpe.ja-en/dict.ja.txt\n"
          ],
          "name": "stdout"
        }
      ]
    },
    {
      "cell_type": "markdown",
      "metadata": {
        "id": "cEqRV80U0O86"
      },
      "source": [
        "**なぜか，学習時に以下のエラーが出るようになる(以前は同じ書き方ではエラーは出なかった．)**\n",
        "\n",
        "`TypeError: forward() missing 1 required positional argument: 'prev_output_tokens'`"
      ]
    },
    {
      "cell_type": "code",
      "metadata": {
        "id": "KuwRsqVBSUFe",
        "colab": {
          "base_uri": "https://localhost:8080/"
        },
        "outputId": "30e53108-f139-4be1-a5c7-c3a761c5c3db"
      },
      "source": [
        "#学習\n",
        "!mkdir checkpoints/kftt-bpe.ja-en\n",
        "!fairseq-train data91/kftt-bpe.ja-en \\\n",
        "    --save-dir checkpoints/kftt-bpe.ja-en/ \\\n",
        "    --arch lstm --share-decoder-input-output-embed \\\n",
        "    --optimizer adam --adam-betas '(0.9, 0.98)' --clip-norm 0.0 \\\n",
        "    --lr 5e-4 --lr-scheduler inverse_sqrt --warmup-updates 4000 \\\n",
        "    --dropout 0.3 --weight-decay 0.0001 \\\n",
        "    --criterion label_smoothed_cross_entropy --label-smoothing 0.1 \\\n",
        "    --max-tokens 4096 \\\n",
        "    --max-epoch 5 \\\n",
        "    --eval-bleu \\\n",
        "    --eval-bleu-detok moses \\\n",
        "    --eval-bleu-remove-bpe \\\n",
        "    --eval-bleu-print-samples \\\n",
        "    --best-checkpoint-metric bleu --maximize-best-checkpoint-metric"
      ],
      "execution_count": 25,
      "outputs": [
        {
          "output_type": "stream",
          "text": [
            "mkdir: cannot create directory ‘checkpoints/kftt-bpe.ja-en’: File exists\n",
            "2021-07-21 02:09:25 | INFO | fairseq_cli.train | Namespace(adam_betas='(0.9, 0.98)', adam_eps=1e-08, adaptive_softmax_cutoff='10000,50000,200000', all_gather_list_size=16384, arch='lstm', batch_size=None, batch_size_valid=None, best_checkpoint_metric='bleu', bf16=False, bpe=None, broadcast_buffers=False, bucket_cap_mb=25, checkpoint_shard_count=1, checkpoint_suffix='', clip_norm=0.0, cpu=False, criterion='label_smoothed_cross_entropy', curriculum=0, data='data91/kftt-bpe.ja-en', data_buffer_size=10, dataset_impl=None, ddp_backend='c10d', decoder_attention='1', decoder_dropout_in=0.3, decoder_dropout_out=0.3, decoder_embed_dim=512, decoder_embed_path=None, decoder_freeze_embed=False, decoder_hidden_size=512, decoder_layers=1, decoder_out_embed_dim=512, device_id=0, disable_validation=False, distributed_backend='nccl', distributed_init_method=None, distributed_no_spawn=False, distributed_num_procs=1, distributed_port=-1, distributed_rank=0, distributed_world_size=1, distributed_wrapper='DDP', dropout=0.3, empty_cache_freq=0, encoder_bidirectional=False, encoder_dropout_in=0.3, encoder_dropout_out=0.3, encoder_embed_dim=512, encoder_embed_path=None, encoder_freeze_embed=False, encoder_hidden_size=512, encoder_layers=1, eval_bleu=True, eval_bleu_args=None, eval_bleu_detok='moses', eval_bleu_detok_args=None, eval_bleu_print_samples=True, eval_bleu_remove_bpe='@@ ', eval_tokenized_bleu=False, fast_stat_sync=False, find_unused_parameters=False, finetune_from_model=None, fix_batches_to_gpus=False, fixed_validation_seed=None, fp16=False, fp16_init_scale=128, fp16_no_flatten_grads=False, fp16_scale_tolerance=0.0, fp16_scale_window=None, gen_subset='test', ignore_prefix_size=0, keep_best_checkpoints=-1, keep_interval_updates=-1, keep_last_epochs=-1, label_smoothing=0.1, left_pad_source='True', left_pad_target='False', load_alignments=False, localsgd_frequency=3, log_format=None, log_interval=100, lr=[0.0005], lr_scheduler='inverse_sqrt', max_epoch=5, max_source_positions=1024, max_target_positions=1024, max_tokens=4096, max_tokens_valid=4096, max_update=0, maximize_best_checkpoint_metric=True, memory_efficient_bf16=False, memory_efficient_fp16=False, min_loss_scale=0.0001, min_lr=-1.0, model_parallel_size=1, no_epoch_checkpoints=False, no_last_checkpoints=False, no_progress_bar=False, no_save=False, no_save_optimizer_state=False, no_seed_provided=False, nprocs_per_node=1, num_batch_buckets=0, num_shards=1, num_workers=1, optimizer='adam', optimizer_overrides='{}', patience=-1, pipeline_balance=None, pipeline_checkpoint='never', pipeline_chunks=0, pipeline_decoder_balance=None, pipeline_decoder_devices=None, pipeline_devices=None, pipeline_encoder_balance=None, pipeline_encoder_devices=None, pipeline_model_parallel=False, profile=False, quantization_config_path=None, report_accuracy=False, required_batch_size_multiple=8, required_seq_len_multiple=1, reset_dataloader=False, reset_lr_scheduler=False, reset_meters=False, reset_optimizer=False, restore_file='checkpoint_last.pt', save_dir='checkpoints/kftt-bpe.ja-en/', save_interval=1, save_interval_updates=0, scoring='bleu', seed=1, sentence_avg=False, shard_id=0, share_all_embeddings=False, share_decoder_input_output_embed=True, skip_invalid_size_inputs_valid_test=False, slowmo_algorithm='LocalSGD', slowmo_momentum=None, source_lang=None, stop_time_hours=0, target_lang=None, task='translation', tensorboard_logdir=None, threshold_loss_scale=None, tokenizer=None, tpu=False, train_subset='train', truncate_source=False, update_freq=[1], upsample_primary=1, use_bmuf=False, use_old_adam=False, user_dir=None, valid_subset='valid', validate_after_updates=0, validate_interval=1, validate_interval_updates=0, warmup_init_lr=-1, warmup_updates=4000, weight_decay=0.0001, zero_sharding='none')\n",
            "2021-07-21 02:09:25 | INFO | fairseq.tasks.translation | [ja] dictionary: 14400 types\n",
            "2021-07-21 02:09:25 | INFO | fairseq.tasks.translation | [en] dictionary: 17920 types\n",
            "2021-07-21 02:09:25 | INFO | fairseq.data.data_utils | loaded 1166 examples from: data91/kftt-bpe.ja-en/valid.ja-en.ja\n",
            "2021-07-21 02:09:25 | INFO | fairseq.tasks.translation | data91/kftt-bpe.ja-en valid ja-en 1166 examples\n",
            "2021-07-21 02:09:25 | INFO | fairseq_cli.train | LSTMModel(\n",
            "  (encoder): LSTMEncoder(\n",
            "    (dropout_in_module): FairseqDropout()\n",
            "    (dropout_out_module): FairseqDropout()\n",
            "    (embed_tokens): Embedding(14400, 512, padding_idx=1)\n",
            "    (lstm): LSTM(512, 512)\n",
            "  )\n",
            "  (decoder): LSTMDecoder(\n",
            "    (dropout_in_module): FairseqDropout()\n",
            "    (dropout_out_module): FairseqDropout()\n",
            "    (embed_tokens): Embedding(17920, 512, padding_idx=1)\n",
            "    (layers): ModuleList(\n",
            "      (0): LSTMCell(1024, 512)\n",
            "    )\n",
            "    (attention): AttentionLayer(\n",
            "      (input_proj): Linear(in_features=512, out_features=512, bias=False)\n",
            "      (output_proj): Linear(in_features=1024, out_features=512, bias=False)\n",
            "    )\n",
            "  )\n",
            ")\n",
            "2021-07-21 02:09:25 | INFO | fairseq_cli.train | task: translation (TranslationTask)\n",
            "2021-07-21 02:09:25 | INFO | fairseq_cli.train | model: lstm (LSTMModel)\n",
            "2021-07-21 02:09:25 | INFO | fairseq_cli.train | criterion: label_smoothed_cross_entropy (LabelSmoothedCrossEntropyCriterion)\n",
            "2021-07-21 02:09:25 | INFO | fairseq_cli.train | num. model params: 22585344 (num. trained: 22585344)\n",
            "2021-07-21 02:09:29 | INFO | fairseq.trainer | detected shared parameter: decoder.attention.input_proj.bias <- decoder.attention.output_proj.bias\n",
            "2021-07-21 02:09:29 | INFO | fairseq.utils | ***********************CUDA enviroments for all 1 workers***********************\n",
            "2021-07-21 02:09:29 | INFO | fairseq.utils | rank   0: capabilities =  7.5  ; total memory = 14.756 GB ; name = Tesla T4                                \n",
            "2021-07-21 02:09:29 | INFO | fairseq.utils | ***********************CUDA enviroments for all 1 workers***********************\n",
            "2021-07-21 02:09:29 | INFO | fairseq_cli.train | training on 1 devices (GPUs/TPUs)\n",
            "2021-07-21 02:09:29 | INFO | fairseq_cli.train | max tokens per GPU = 4096 and max sentences per GPU = None\n",
            "2021-07-21 02:09:29 | INFO | fairseq.trainer | no existing checkpoint found checkpoints/kftt-bpe.ja-en/checkpoint_last.pt\n",
            "2021-07-21 02:09:29 | INFO | fairseq.trainer | loading train data for epoch 1\n",
            "2021-07-21 02:09:29 | INFO | fairseq.data.data_utils | loaded 440288 examples from: data91/kftt-bpe.ja-en/train.ja-en.ja\n",
            "2021-07-21 02:09:29 | INFO | fairseq.tasks.translation | data91/kftt-bpe.ja-en train ja-en 440288 examples\n",
            "2021-07-21 02:09:30 | INFO | fairseq.trainer | NOTE: your device may support faster training with --fp16\n",
            "epoch 001:   0% 0/2715 [00:00<?, ?it/s]2021-07-21 02:09:30 | INFO | fairseq.trainer | begin training epoch 1\n",
            "Traceback (most recent call last):\n",
            "  File \"/usr/local/bin/fairseq-train\", line 8, in <module>\n",
            "    sys.exit(cli_main())\n",
            "  File \"/usr/local/lib/python3.7/dist-packages/fairseq_cli/train.py\", line 352, in cli_main\n",
            "    distributed_utils.call_main(args, main)\n",
            "  File \"/usr/local/lib/python3.7/dist-packages/fairseq/distributed_utils.py\", line 301, in call_main\n",
            "    main(args, **kwargs)\n",
            "  File \"/usr/local/lib/python3.7/dist-packages/fairseq_cli/train.py\", line 125, in main\n",
            "    valid_losses, should_stop = train(args, trainer, task, epoch_itr)\n",
            "  File \"/usr/lib/python3.7/contextlib.py\", line 74, in inner\n",
            "    return func(*args, **kwds)\n",
            "  File \"/usr/local/lib/python3.7/dist-packages/fairseq_cli/train.py\", line 208, in train\n",
            "    log_output = trainer.train_step(samples)\n",
            "  File \"/usr/lib/python3.7/contextlib.py\", line 74, in inner\n",
            "    return func(*args, **kwds)\n",
            "  File \"/usr/local/lib/python3.7/dist-packages/fairseq/trainer.py\", line 486, in train_step\n",
            "    ignore_grad=is_dummy_batch,\n",
            "  File \"/usr/local/lib/python3.7/dist-packages/fairseq/tasks/fairseq_task.py\", line 416, in train_step\n",
            "    loss, sample_size, logging_output = criterion(model, sample)\n",
            "  File \"/usr/local/lib/python3.7/dist-packages/torch/nn/modules/module.py\", line 1051, in _call_impl\n",
            "    return forward_call(*input, **kwargs)\n",
            "  File \"/usr/local/lib/python3.7/dist-packages/fairseq/criterions/label_smoothed_cross_entropy.py\", line 69, in forward\n",
            "    net_output = model(**sample[\"net_input\"])\n",
            "  File \"/usr/local/lib/python3.7/dist-packages/torch/nn/modules/module.py\", line 1051, in _call_impl\n",
            "    return forward_call(*input, **kwargs)\n",
            "TypeError: forward() missing 1 required positional argument: 'prev_output_tokens'\n"
          ],
          "name": "stdout"
        }
      ]
    },
    {
      "cell_type": "code",
      "metadata": {
        "id": "FjaPQSlXSU0L",
        "colab": {
          "base_uri": "https://localhost:8080/"
        },
        "outputId": "1588b90a-c8cd-42f7-b59d-8170b5f1d7f7"
      },
      "source": [
        "#翻訳\n",
        "!fairseq-interactive data91/kftt-bpe.ja-en \\\n",
        "    --path checkpoints/kftt-bpe.ja-en/checkpoint_best.pt \\\n",
        "    --remove-bpe --bpe subword_nmt --bpe-codes $BPE_CODE\\\n",
        "    < ../kftt-data-1.0/data/tok/kyoto-test.ja \\\n",
        "    | grep '^H' | cut -f3 > 95.out"
      ],
      "execution_count": 16,
      "outputs": [
        {
          "output_type": "stream",
          "text": [
            "/bin/bash: ../kftt-data-1.0/data/tok/kyoto-test.ja: No such file or directory\n"
          ],
          "name": "stdout"
        }
      ]
    },
    {
      "cell_type": "code",
      "metadata": {
        "id": "apKeYQ88Srp6",
        "colab": {
          "base_uri": "https://localhost:8080/"
        },
        "outputId": "fa3eef43-6269-4e16-eaa6-c12aae1dd010"
      },
      "source": [
        "#評価\n",
        "!fairseq-score --sys 95.out --ref ../kftt-data-1.0/data/tok/kyoto-test.en"
      ],
      "execution_count": 17,
      "outputs": [
        {
          "output_type": "stream",
          "text": [
            "Namespace(ignore_case=False, order=4, ref='../kftt-data-1.0/data/tok/kyoto-test.en', sacrebleu=False, sentence_bleu=False, sys='95.out')\n",
            "Traceback (most recent call last):\n",
            "  File \"/usr/local/bin/fairseq-score\", line 8, in <module>\n",
            "    sys.exit(cli_main())\n",
            "  File \"/usr/local/lib/python3.7/dist-packages/fairseq_cli/score.py\", line 45, in cli_main\n",
            "    assert os.path.exists(args.ref), \"Reference file {} does not exist\".format(args.ref)\n",
            "AssertionError: Reference file ../kftt-data-1.0/data/tok/kyoto-test.en does not exist\n"
          ],
          "name": "stdout"
        }
      ]
    },
    {
      "cell_type": "markdown",
      "metadata": {
        "id": "4TBEzll86UpL"
      },
      "source": [
        "## 96. 学習過程の可視化\n",
        "Tensorboardなどのツールを用い，ニューラル機械翻訳モデルが学習されていく過程を可視化せよ．可視化する項目としては，学習データにおける損失関数の値とBLEUスコア，開発データにおける損失関数の値とBLEUスコアなどを採用せよ．\n",
        "\n"
      ]
    },
    {
      "cell_type": "code",
      "metadata": {
        "id": "y8ZNTJQBSvVE",
        "colab": {
          "base_uri": "https://localhost:8080/"
        },
        "outputId": "11d0ffaf-c849-44f6-f167-14065a719306"
      },
      "source": [
        "!mkdir checkpoints/kftt-bpe-tensorboard.ja-en"
      ],
      "execution_count": 27,
      "outputs": [
        {
          "output_type": "stream",
          "text": [
            "mkdir: cannot create directory ‘checkpoints/kftt-bpe-tensorboard.ja-en’: File exists\n"
          ],
          "name": "stdout"
        }
      ]
    },
    {
      "cell_type": "markdown",
      "metadata": {
        "id": "nCbxOHjq1kmT"
      },
      "source": [
        "**なぜか，学習時に以下のエラーが出るようになる(以前は同じ書き方ではエラーは出なかった．)**\n",
        "\n",
        "`TypeError: forward() missing 1 required positional argument: 'prev_output_tokens'`"
      ]
    },
    {
      "cell_type": "code",
      "metadata": {
        "id": "H5_QTuPeSw6i",
        "colab": {
          "base_uri": "https://localhost:8080/"
        },
        "outputId": "b7853eb2-9282-4cf5-c2e7-2e8c77dbabef"
      },
      "source": [
        "!fairseq-train data91/kftt-bpe.ja-en \\\n",
        "    --save-dir checkpoints/kftt-bpe-tensorboard.ja-en/ \\\n",
        "    --tensorboard-logdir checkpoints/kftt-bpe-tensorboard.ja-en/ \\\n",
        "    --arch lstm --share-decoder-input-output-embed \\\n",
        "    --bpe subword_nmt \\\n",
        "    --optimizer adam --adam-betas '(0.9, 0.98)' --clip-norm 0.0 \\\n",
        "    --lr 5e-4 --lr-scheduler inverse_sqrt --warmup-updates 4000 \\\n",
        "    --dropout 0.3 --weight-decay 0.0001 \\\n",
        "    --criterion label_smoothed_cross_entropy --label-smoothing 0.1 \\\n",
        "    --max-tokens 4096 \\\n",
        "    --max-epoch 10 \\\n",
        "    --eval-bleu \\\n",
        "    --eval-bleu-args '{\"beam\": 5, \"max_len_a\": 1.2, \"max_len_b\": 10}' \\\n",
        "    --eval-bleu-detok moses \\\n",
        "    --eval-bleu-remove-bpe \\\n",
        "    --eval-bleu-print-samples \\\n",
        "    --best-checkpoint-metric bleu --maximize-best-checkpoint-metric"
      ],
      "execution_count": 28,
      "outputs": [
        {
          "output_type": "stream",
          "text": [
            "2021-07-21 02:10:28 | INFO | fairseq_cli.train | Namespace(adam_betas='(0.9, 0.98)', adam_eps=1e-08, adaptive_softmax_cutoff='10000,50000,200000', all_gather_list_size=16384, arch='lstm', batch_size=None, batch_size_valid=None, best_checkpoint_metric='bleu', bf16=False, bpe='subword_nmt', bpe_codes=None, bpe_separator='@@', broadcast_buffers=False, bucket_cap_mb=25, checkpoint_shard_count=1, checkpoint_suffix='', clip_norm=0.0, cpu=False, criterion='label_smoothed_cross_entropy', curriculum=0, data='data91/kftt-bpe.ja-en', data_buffer_size=10, dataset_impl=None, ddp_backend='c10d', decoder_attention='1', decoder_dropout_in=0.3, decoder_dropout_out=0.3, decoder_embed_dim=512, decoder_embed_path=None, decoder_freeze_embed=False, decoder_hidden_size=512, decoder_layers=1, decoder_out_embed_dim=512, device_id=0, disable_validation=False, distributed_backend='nccl', distributed_init_method=None, distributed_no_spawn=False, distributed_num_procs=1, distributed_port=-1, distributed_rank=0, distributed_world_size=1, distributed_wrapper='DDP', dropout=0.3, empty_cache_freq=0, encoder_bidirectional=False, encoder_dropout_in=0.3, encoder_dropout_out=0.3, encoder_embed_dim=512, encoder_embed_path=None, encoder_freeze_embed=False, encoder_hidden_size=512, encoder_layers=1, eval_bleu=True, eval_bleu_args='{\"beam\": 5, \"max_len_a\": 1.2, \"max_len_b\": 10}', eval_bleu_detok='moses', eval_bleu_detok_args=None, eval_bleu_print_samples=True, eval_bleu_remove_bpe='@@ ', eval_tokenized_bleu=False, fast_stat_sync=False, find_unused_parameters=False, finetune_from_model=None, fix_batches_to_gpus=False, fixed_validation_seed=None, fp16=False, fp16_init_scale=128, fp16_no_flatten_grads=False, fp16_scale_tolerance=0.0, fp16_scale_window=None, gen_subset='test', ignore_prefix_size=0, keep_best_checkpoints=-1, keep_interval_updates=-1, keep_last_epochs=-1, label_smoothing=0.1, left_pad_source='True', left_pad_target='False', load_alignments=False, localsgd_frequency=3, log_format=None, log_interval=100, lr=[0.0005], lr_scheduler='inverse_sqrt', max_epoch=10, max_source_positions=1024, max_target_positions=1024, max_tokens=4096, max_tokens_valid=4096, max_update=0, maximize_best_checkpoint_metric=True, memory_efficient_bf16=False, memory_efficient_fp16=False, min_loss_scale=0.0001, min_lr=-1.0, model_parallel_size=1, no_epoch_checkpoints=False, no_last_checkpoints=False, no_progress_bar=False, no_save=False, no_save_optimizer_state=False, no_seed_provided=False, nprocs_per_node=1, num_batch_buckets=0, num_shards=1, num_workers=1, optimizer='adam', optimizer_overrides='{}', patience=-1, pipeline_balance=None, pipeline_checkpoint='never', pipeline_chunks=0, pipeline_decoder_balance=None, pipeline_decoder_devices=None, pipeline_devices=None, pipeline_encoder_balance=None, pipeline_encoder_devices=None, pipeline_model_parallel=False, profile=False, quantization_config_path=None, report_accuracy=False, required_batch_size_multiple=8, required_seq_len_multiple=1, reset_dataloader=False, reset_lr_scheduler=False, reset_meters=False, reset_optimizer=False, restore_file='checkpoint_last.pt', save_dir='checkpoints/kftt-bpe-tensorboard.ja-en/', save_interval=1, save_interval_updates=0, scoring='bleu', seed=1, sentence_avg=False, shard_id=0, share_all_embeddings=False, share_decoder_input_output_embed=True, skip_invalid_size_inputs_valid_test=False, slowmo_algorithm='LocalSGD', slowmo_momentum=None, source_lang=None, stop_time_hours=0, target_lang=None, task='translation', tensorboard_logdir='checkpoints/kftt-bpe-tensorboard.ja-en/', threshold_loss_scale=None, tokenizer=None, tpu=False, train_subset='train', truncate_source=False, update_freq=[1], upsample_primary=1, use_bmuf=False, use_old_adam=False, user_dir=None, valid_subset='valid', validate_after_updates=0, validate_interval=1, validate_interval_updates=0, warmup_init_lr=-1, warmup_updates=4000, weight_decay=0.0001, zero_sharding='none')\n",
            "2021-07-21 02:10:28 | INFO | fairseq.tasks.translation | [ja] dictionary: 14400 types\n",
            "2021-07-21 02:10:28 | INFO | fairseq.tasks.translation | [en] dictionary: 17920 types\n",
            "2021-07-21 02:10:28 | INFO | fairseq.data.data_utils | loaded 1166 examples from: data91/kftt-bpe.ja-en/valid.ja-en.ja\n",
            "2021-07-21 02:10:28 | INFO | fairseq.tasks.translation | data91/kftt-bpe.ja-en valid ja-en 1166 examples\n",
            "2021-07-21 02:10:28 | INFO | fairseq_cli.train | LSTMModel(\n",
            "  (encoder): LSTMEncoder(\n",
            "    (dropout_in_module): FairseqDropout()\n",
            "    (dropout_out_module): FairseqDropout()\n",
            "    (embed_tokens): Embedding(14400, 512, padding_idx=1)\n",
            "    (lstm): LSTM(512, 512)\n",
            "  )\n",
            "  (decoder): LSTMDecoder(\n",
            "    (dropout_in_module): FairseqDropout()\n",
            "    (dropout_out_module): FairseqDropout()\n",
            "    (embed_tokens): Embedding(17920, 512, padding_idx=1)\n",
            "    (layers): ModuleList(\n",
            "      (0): LSTMCell(1024, 512)\n",
            "    )\n",
            "    (attention): AttentionLayer(\n",
            "      (input_proj): Linear(in_features=512, out_features=512, bias=False)\n",
            "      (output_proj): Linear(in_features=1024, out_features=512, bias=False)\n",
            "    )\n",
            "  )\n",
            ")\n",
            "2021-07-21 02:10:28 | INFO | fairseq_cli.train | task: translation (TranslationTask)\n",
            "2021-07-21 02:10:28 | INFO | fairseq_cli.train | model: lstm (LSTMModel)\n",
            "2021-07-21 02:10:28 | INFO | fairseq_cli.train | criterion: label_smoothed_cross_entropy (LabelSmoothedCrossEntropyCriterion)\n",
            "2021-07-21 02:10:28 | INFO | fairseq_cli.train | num. model params: 22585344 (num. trained: 22585344)\n",
            "2021-07-21 02:10:32 | INFO | fairseq.trainer | detected shared parameter: decoder.attention.input_proj.bias <- decoder.attention.output_proj.bias\n",
            "2021-07-21 02:10:32 | INFO | fairseq.utils | ***********************CUDA enviroments for all 1 workers***********************\n",
            "2021-07-21 02:10:32 | INFO | fairseq.utils | rank   0: capabilities =  7.5  ; total memory = 14.756 GB ; name = Tesla T4                                \n",
            "2021-07-21 02:10:32 | INFO | fairseq.utils | ***********************CUDA enviroments for all 1 workers***********************\n",
            "2021-07-21 02:10:32 | INFO | fairseq_cli.train | training on 1 devices (GPUs/TPUs)\n",
            "2021-07-21 02:10:32 | INFO | fairseq_cli.train | max tokens per GPU = 4096 and max sentences per GPU = None\n",
            "2021-07-21 02:10:32 | INFO | fairseq.trainer | no existing checkpoint found checkpoints/kftt-bpe-tensorboard.ja-en/checkpoint_last.pt\n",
            "2021-07-21 02:10:32 | INFO | fairseq.trainer | loading train data for epoch 1\n",
            "2021-07-21 02:10:32 | INFO | fairseq.data.data_utils | loaded 440288 examples from: data91/kftt-bpe.ja-en/train.ja-en.ja\n",
            "2021-07-21 02:10:32 | INFO | fairseq.tasks.translation | data91/kftt-bpe.ja-en train ja-en 440288 examples\n",
            "2021-07-21 02:10:33 | INFO | fairseq.trainer | NOTE: your device may support faster training with --fp16\n",
            "epoch 001:   0% 0/2715 [00:00<?, ?it/s]2021-07-21 02:10:33 | WARNING | fairseq.logging.progress_bar | tensorboard not found, please install with: pip install tensorboardX\n",
            "2021-07-21 02:10:33 | INFO | fairseq.trainer | begin training epoch 1\n",
            "Traceback (most recent call last):\n",
            "  File \"/usr/local/bin/fairseq-train\", line 8, in <module>\n",
            "    sys.exit(cli_main())\n",
            "  File \"/usr/local/lib/python3.7/dist-packages/fairseq_cli/train.py\", line 352, in cli_main\n",
            "    distributed_utils.call_main(args, main)\n",
            "  File \"/usr/local/lib/python3.7/dist-packages/fairseq/distributed_utils.py\", line 301, in call_main\n",
            "    main(args, **kwargs)\n",
            "  File \"/usr/local/lib/python3.7/dist-packages/fairseq_cli/train.py\", line 125, in main\n",
            "    valid_losses, should_stop = train(args, trainer, task, epoch_itr)\n",
            "  File \"/usr/lib/python3.7/contextlib.py\", line 74, in inner\n",
            "    return func(*args, **kwds)\n",
            "  File \"/usr/local/lib/python3.7/dist-packages/fairseq_cli/train.py\", line 208, in train\n",
            "    log_output = trainer.train_step(samples)\n",
            "  File \"/usr/lib/python3.7/contextlib.py\", line 74, in inner\n",
            "    return func(*args, **kwds)\n",
            "  File \"/usr/local/lib/python3.7/dist-packages/fairseq/trainer.py\", line 486, in train_step\n",
            "    ignore_grad=is_dummy_batch,\n",
            "  File \"/usr/local/lib/python3.7/dist-packages/fairseq/tasks/fairseq_task.py\", line 416, in train_step\n",
            "    loss, sample_size, logging_output = criterion(model, sample)\n",
            "  File \"/usr/local/lib/python3.7/dist-packages/torch/nn/modules/module.py\", line 1051, in _call_impl\n",
            "    return forward_call(*input, **kwargs)\n",
            "  File \"/usr/local/lib/python3.7/dist-packages/fairseq/criterions/label_smoothed_cross_entropy.py\", line 69, in forward\n",
            "    net_output = model(**sample[\"net_input\"])\n",
            "  File \"/usr/local/lib/python3.7/dist-packages/torch/nn/modules/module.py\", line 1051, in _call_impl\n",
            "    return forward_call(*input, **kwargs)\n",
            "TypeError: forward() missing 1 required positional argument: 'prev_output_tokens'\n"
          ],
          "name": "stdout"
        }
      ]
    },
    {
      "cell_type": "code",
      "metadata": {
        "id": "HxzpDnpwS-SX",
        "colab": {
          "base_uri": "https://localhost:8080/"
        },
        "outputId": "4184931a-7bfc-431c-9b2b-02fc2e1c06b0"
      },
      "source": [
        "!tensorboard --logdir ./checkpoints/kftt-bpe-tensorboard.ja-en/"
      ],
      "execution_count": null,
      "outputs": [
        {
          "output_type": "stream",
          "text": [
            "2021-07-20 16:00:24.882580: I tensorflow/stream_executor/platform/default/dso_loader.cc:53] Successfully opened dynamic library libcudart.so.11.0\n",
            "\n",
            "NOTE: Using experimental fast data loading logic. To disable, pass\n",
            "    \"--load_fast=false\" and report issues on GitHub. More details:\n",
            "    https://github.com/tensorflow/tensorboard/issues/4784\n",
            "\n",
            "Serving TensorBoard on localhost; to expose to the network, use a proxy or pass --bind_all\n",
            "TensorBoard 2.5.0 at http://localhost:6006/ (Press CTRL+C to quit)\n",
            "^C\n"
          ],
          "name": "stdout"
        }
      ]
    },
    {
      "cell_type": "markdown",
      "metadata": {
        "id": "3v9ukjoW6WyE"
      },
      "source": [
        "## 97. ハイパー・パラメータの調整\n",
        "ニューラルネットワークのモデルや，そのハイパーパラメータを変更しつつ，開発データにおけるBLEUスコアが最大となるモデルとハイパーパラメータを求めよ．"
      ]
    },
    {
      "cell_type": "code",
      "metadata": {
        "id": "VT64YpEi1XO1",
        "colab": {
          "base_uri": "https://localhost:8080/"
        },
        "outputId": "bf7f2999-07e6-4aad-8303-b7d734fdf3ef"
      },
      "source": [
        "!mkdir checkpoints/kftt-search.ja-en/"
      ],
      "execution_count": 19,
      "outputs": [
        {
          "output_type": "stream",
          "text": [
            "mkdir: cannot create directory ‘checkpoints/kftt-search.ja-en/’: File exists\n"
          ],
          "name": "stdout"
        }
      ]
    },
    {
      "cell_type": "code",
      "metadata": {
        "id": "6crkvC5GTEbk",
        "colab": {
          "base_uri": "https://localhost:8080/"
        },
        "outputId": "f4cb1876-62ec-486a-9cf7-fa38af0f5126"
      },
      "source": [
        "#学習\n",
        "!mkdir checkpoints/kftt-search.ja-en/lr_5e-3/\n",
        "!fairseq-train data91 \\\n",
        "    --save-dir checkpoints/kftt-search.ja-en/lr_5e-3 \\\n",
        "    --arch lstm --share-decoder-input-output-embed \\\n",
        "    --optimizer adam --adam-betas '(0.9, 0.98)' --clip-norm 0.0 \\\n",
        "    --lr 5e-3 --lr-scheduler inverse_sqrt --warmup-updates 4000 \\\n",
        "    --dropout 0.3 --weight-decay 0.0001 \\\n",
        "    --criterion label_smoothed_cross_entropy --label-smoothing 0.1 \\\n",
        "    --max-tokens 4096 \\\n",
        "    --max-epoch 5 \\\n",
        "    --eval-bleu \\\n",
        "    --eval-bleu-detok moses \\\n",
        "    --eval-bleu-remove-bpe \\\n",
        "    --eval-bleu-print-samples \\\n",
        "    --best-checkpoint-metric bleu --maximize-best-checkpoint-metric"
      ],
      "execution_count": 29,
      "outputs": [
        {
          "output_type": "stream",
          "text": [
            "mkdir: cannot create directory ‘checkpoints/kftt-search.ja-en/lr_5e-3/’: File exists\n",
            "2021-07-21 02:11:23 | INFO | fairseq_cli.train | Namespace(adam_betas='(0.9, 0.98)', adam_eps=1e-08, adaptive_softmax_cutoff='10000,50000,200000', all_gather_list_size=16384, arch='lstm', batch_size=None, batch_size_valid=None, best_checkpoint_metric='bleu', bf16=False, bpe=None, broadcast_buffers=False, bucket_cap_mb=25, checkpoint_shard_count=1, checkpoint_suffix='', clip_norm=0.0, cpu=False, criterion='label_smoothed_cross_entropy', curriculum=0, data='data91', data_buffer_size=10, dataset_impl=None, ddp_backend='c10d', decoder_attention='1', decoder_dropout_in=0.3, decoder_dropout_out=0.3, decoder_embed_dim=512, decoder_embed_path=None, decoder_freeze_embed=False, decoder_hidden_size=512, decoder_layers=1, decoder_out_embed_dim=512, device_id=0, disable_validation=False, distributed_backend='nccl', distributed_init_method=None, distributed_no_spawn=False, distributed_num_procs=1, distributed_port=-1, distributed_rank=0, distributed_world_size=1, distributed_wrapper='DDP', dropout=0.3, empty_cache_freq=0, encoder_bidirectional=False, encoder_dropout_in=0.3, encoder_dropout_out=0.3, encoder_embed_dim=512, encoder_embed_path=None, encoder_freeze_embed=False, encoder_hidden_size=512, encoder_layers=1, eval_bleu=True, eval_bleu_args=None, eval_bleu_detok='moses', eval_bleu_detok_args=None, eval_bleu_print_samples=True, eval_bleu_remove_bpe='@@ ', eval_tokenized_bleu=False, fast_stat_sync=False, find_unused_parameters=False, finetune_from_model=None, fix_batches_to_gpus=False, fixed_validation_seed=None, fp16=False, fp16_init_scale=128, fp16_no_flatten_grads=False, fp16_scale_tolerance=0.0, fp16_scale_window=None, gen_subset='test', ignore_prefix_size=0, keep_best_checkpoints=-1, keep_interval_updates=-1, keep_last_epochs=-1, label_smoothing=0.1, left_pad_source='True', left_pad_target='False', load_alignments=False, localsgd_frequency=3, log_format=None, log_interval=100, lr=[0.005], lr_scheduler='inverse_sqrt', max_epoch=5, max_source_positions=1024, max_target_positions=1024, max_tokens=4096, max_tokens_valid=4096, max_update=0, maximize_best_checkpoint_metric=True, memory_efficient_bf16=False, memory_efficient_fp16=False, min_loss_scale=0.0001, min_lr=-1.0, model_parallel_size=1, no_epoch_checkpoints=False, no_last_checkpoints=False, no_progress_bar=False, no_save=False, no_save_optimizer_state=False, no_seed_provided=False, nprocs_per_node=1, num_batch_buckets=0, num_shards=1, num_workers=1, optimizer='adam', optimizer_overrides='{}', patience=-1, pipeline_balance=None, pipeline_checkpoint='never', pipeline_chunks=0, pipeline_decoder_balance=None, pipeline_decoder_devices=None, pipeline_devices=None, pipeline_encoder_balance=None, pipeline_encoder_devices=None, pipeline_model_parallel=False, profile=False, quantization_config_path=None, report_accuracy=False, required_batch_size_multiple=8, required_seq_len_multiple=1, reset_dataloader=False, reset_lr_scheduler=False, reset_meters=False, reset_optimizer=False, restore_file='checkpoint_last.pt', save_dir='checkpoints/kftt-search.ja-en/lr_5e-3', save_interval=1, save_interval_updates=0, scoring='bleu', seed=1, sentence_avg=False, shard_id=0, share_all_embeddings=False, share_decoder_input_output_embed=True, skip_invalid_size_inputs_valid_test=False, slowmo_algorithm='LocalSGD', slowmo_momentum=None, source_lang=None, stop_time_hours=0, target_lang=None, task='translation', tensorboard_logdir=None, threshold_loss_scale=None, tokenizer=None, tpu=False, train_subset='train', truncate_source=False, update_freq=[1], upsample_primary=1, use_bmuf=False, use_old_adam=False, user_dir=None, valid_subset='valid', validate_after_updates=0, validate_interval=1, validate_interval_updates=0, warmup_init_lr=-1, warmup_updates=4000, weight_decay=0.0001, zero_sharding='none')\n",
            "2021-07-21 02:11:23 | INFO | fairseq.tasks.translation | [ja] dictionary: 51584 types\n",
            "2021-07-21 02:11:23 | INFO | fairseq.tasks.translation | [en] dictionary: 58552 types\n",
            "2021-07-21 02:11:23 | INFO | fairseq.data.data_utils | loaded 1166 examples from: data91/valid.ja-en.ja\n",
            "2021-07-21 02:11:23 | INFO | fairseq.data.data_utils | loaded 1166 examples from: data91/valid.ja-en.en\n",
            "2021-07-21 02:11:23 | INFO | fairseq.tasks.translation | data91 valid ja-en 1166 examples\n",
            "2021-07-21 02:11:24 | INFO | fairseq_cli.train | LSTMModel(\n",
            "  (encoder): LSTMEncoder(\n",
            "    (dropout_in_module): FairseqDropout()\n",
            "    (dropout_out_module): FairseqDropout()\n",
            "    (embed_tokens): Embedding(51584, 512, padding_idx=1)\n",
            "    (lstm): LSTM(512, 512)\n",
            "  )\n",
            "  (decoder): LSTMDecoder(\n",
            "    (dropout_in_module): FairseqDropout()\n",
            "    (dropout_out_module): FairseqDropout()\n",
            "    (embed_tokens): Embedding(58552, 512, padding_idx=1)\n",
            "    (layers): ModuleList(\n",
            "      (0): LSTMCell(1024, 512)\n",
            "    )\n",
            "    (attention): AttentionLayer(\n",
            "      (input_proj): Linear(in_features=512, out_features=512, bias=False)\n",
            "      (output_proj): Linear(in_features=1024, out_features=512, bias=False)\n",
            "    )\n",
            "  )\n",
            ")\n",
            "2021-07-21 02:11:24 | INFO | fairseq_cli.train | task: translation (TranslationTask)\n",
            "2021-07-21 02:11:24 | INFO | fairseq_cli.train | model: lstm (LSTMModel)\n",
            "2021-07-21 02:11:24 | INFO | fairseq_cli.train | criterion: label_smoothed_cross_entropy (LabelSmoothedCrossEntropyCriterion)\n",
            "2021-07-21 02:11:24 | INFO | fairseq_cli.train | num. model params: 62427136 (num. trained: 62427136)\n",
            "2021-07-21 02:11:28 | INFO | fairseq.trainer | detected shared parameter: decoder.attention.input_proj.bias <- decoder.attention.output_proj.bias\n",
            "2021-07-21 02:11:28 | INFO | fairseq.utils | ***********************CUDA enviroments for all 1 workers***********************\n",
            "2021-07-21 02:11:28 | INFO | fairseq.utils | rank   0: capabilities =  7.5  ; total memory = 14.756 GB ; name = Tesla T4                                \n",
            "2021-07-21 02:11:28 | INFO | fairseq.utils | ***********************CUDA enviroments for all 1 workers***********************\n",
            "2021-07-21 02:11:28 | INFO | fairseq_cli.train | training on 1 devices (GPUs/TPUs)\n",
            "2021-07-21 02:11:28 | INFO | fairseq_cli.train | max tokens per GPU = 4096 and max sentences per GPU = None\n",
            "2021-07-21 02:11:28 | INFO | fairseq.trainer | no existing checkpoint found checkpoints/kftt-search.ja-en/lr_5e-3/checkpoint_last.pt\n",
            "2021-07-21 02:11:28 | INFO | fairseq.trainer | loading train data for epoch 1\n",
            "2021-07-21 02:11:28 | INFO | fairseq.data.data_utils | loaded 440288 examples from: data91/train.ja-en.ja\n",
            "2021-07-21 02:11:28 | INFO | fairseq.data.data_utils | loaded 440288 examples from: data91/train.ja-en.en\n",
            "2021-07-21 02:11:28 | INFO | fairseq.tasks.translation | data91 train ja-en 440288 examples\n",
            "2021-07-21 02:11:29 | INFO | fairseq.trainer | NOTE: your device may support faster training with --fp16\n",
            "epoch 001:   0% 0/3599 [00:00<?, ?it/s]2021-07-21 02:11:29 | INFO | fairseq.trainer | begin training epoch 1\n",
            "/usr/local/lib/python3.7/dist-packages/fairseq/utils.py:342: UserWarning: amp_C fused kernels unavailable, disabling multi_tensor_l2norm; you may get better performance by installing NVIDIA's apex library\n",
            "  \"amp_C fused kernels unavailable, disabling multi_tensor_l2norm; \"\n",
            "epoch 001: 100% 3598/3599 [21:19<00:00,  2.76it/s, loss=7.046, nll_loss=5.682, ppl=51.36, wps=8902.9, ups=2.76, wpb=3222.8, bsz=98.2, num_updates=3500, lr=0.004375, gnorm=0.338, train_wall=36, wall=1245]2021-07-21 02:32:49 | INFO | fairseq_cli.train | begin validation on \"valid\" subset\n",
            "\n",
            "epoch 001 | valid on 'valid' subset:   0% 0/13 [00:00<?, ?it/s]\u001b[A/usr/local/lib/python3.7/dist-packages/torch/_tensor.py:575: UserWarning: floor_divide is deprecated, and will be removed in a future version of pytorch. It currently rounds toward 0 (like the 'trunc' function NOT 'floor'). This results in incorrect rounding for negative values.\n",
            "To keep the current behavior, use torch.div(a, b, rounding_mode='trunc'), or for actual floor division, use torch.div(a, b, rounding_mode='floor'). (Triggered internally at  /pytorch/aten/src/ATen/native/BinaryOps.cpp:467.)\n",
            "  return torch.floor_divide(self, other)\n",
            "2021-07-21 02:32:51 | INFO | fairseq.tasks.translation | example hypothesis: UNKNOWNTOKENINHYP (Junior Fifth Rank, Lower Grade)\n",
            "2021-07-21 02:32:51 | INFO | fairseq.tasks.translation | example reference: UNKNOWNTOKENINREF TAKEKOSHI, Jugoi no ge\n",
            "\n",
            "epoch 001 | valid on 'valid' subset:   8% 1/13 [00:01<00:22,  1.88s/it]\u001b[A2021-07-21 02:32:52 | INFO | fairseq.tasks.translation | example hypothesis: It was destroyed in the Battle of Fushimi-jo Castle in 1600.\n",
            "2021-07-21 02:32:52 | INFO | fairseq.tasks.translation | example reference: 1600 - Burned in the Siege of Fushimi Castle\n",
            "\n",
            "epoch 001 | valid on 'valid' subset:  15% 2/13 [00:02<00:18,  1.64s/it]\u001b[A2021-07-21 02:32:54 | INFO | fairseq.tasks.translation | example hypothesis: UNKNOWNTOKENINHYP UNKNOWNTOKENINHYP UNKNOWNTOKENINHYP UNKNOWNTOKENINHYP UNKNOWNTOKENINHYP UNKNOWNTOKENINHYP UNKNOWNTOKENINHYP UNKNOWNTOKENINHYP UNKNOWNTOKENINHYP UNKNOWNTOKENINHYP UNKNOWNTOKENINHYP UNKNOWNTOKENINHYP UNKNOWNTOKENINHYP UNKNOWNTOKENINHYP UNKNOWNTOKENINHYP UNKNOWNTOKENINHYP UNKNOWNTOKENINHYP UNKNOWNTOKENINHYP UNKNOWNTOKENINHYP UNKNOWNTOKENINHYP UNKNOWNTOKENINHYP UNKNOWNTOKENINHYP UNKNOWNTOKENINHYP UNKNOWNTOKENINHYP UNKNOWNTOKENINHYP UNKNOWNTOKENINHYP UNKNOWNTOKENINHYP UNKNOWNTOKENINHYP UNKNOWNTOKENINHYP UNKNOWNTOKENINHYP UNKNOWNTOKENINHYP UNKNOWNTOKENINHYP UNKNOWNTOKENINHYP UNKNOWNTOKENINHYP UNKNOWNTOKENINHYP UNKNOWNTOKENINHYP UNKNOWNTOKENINHYP UNKNOWNTOKENINHYP UNKNOWNTOKENINHYP UNKNOWNTOKENINHYP UNKNOWNTOKENINHYP UNKNOWNTOKENINHYP UNKNOWNTOKENINHYP UNKNOWNTOKENINHYP UNKNOWNTOKENINHYP UNKNOWNTOKENINHYP (UNKNOWNTOKENINHYP UNKNOWNTOKENINHYP UNKNOWNTOKENINHYP UNKNOWNTOKENINHYP UNKNOWNTOKENINHYP UNKNOWNTOKENINHYP UNKNOWNTOKENINHYP UNKNOWNTOKENINHYP UNKNOWNTOKENINHYP UNKNOWNTOKENINHYP UNKNOWNTOKENINHYP UNKNOWNTOKENINHYP UNKNOWNTOKENINHYP UNKNOWNTOKENINHYP UNKNOWNTOKENINHYP UNKNOWNTOKENINHYP UNKNOWNTOKENINHYP UNKNOWNTOKENINHYP UNKNOWNTOKENINHYP UNKNOWNTOKENINHYP UNKNOWNTOKENINHYP UNKNOWNTOKENINHYP UNKNOWNTOKENINHYP UNKNOWNTOKENINHYP UNKNOWNTOKENINHYP UNKNOWNTOKENINHYP UNKNOWNTOKENINHYP UNKNOWNTOKENINHYP UNKNOWNTOKENINHYP UNKNOWNTOKENINHYP UNKNOWNTOKENINHYP UNKNOWNTOKENINHYP UNKNOWNTOKENINHYP UNKNOWNTOKENINHYP UNKNOWNTOKENINHYP UNKNOWNTOKENINHYP UNKNOWNTOKENINHYP UNKNOWNTOKENINHYP UNKNOWNTOKENINHYP UNKNOWNTOKENINHYP UNKNOWNTOKENINHYP UNKNOWNTOKENINHYP UNKNOWNTOKENINHYP UNKNOWNTOKENINHYP, UNKNOWNTOKENINHYP UNKNOWNTOKENINHYP UNKNOWNTOKENINHYP UNKNOWNTOKENINHYP UNKNOWNTOKENINHYP UNKNOWNTOKENINHYP UNKNOWNTOKENINHYP UNKNOWNTOKENINHYP UNKNOWNTOKENINHYP UNKNOWNTOKENINHYP UNKNOWNTOKENINHYP UNKNOWNTOKENINHYP UNKNOWNTOKENINHYP UNKNOWNTOKENINHYP UNKNOWNTOKENINHYP UNKNOWNTOKENINHYP UNKNOWNTOKENINHYP UNKNOWNTOKENINHYP UNKNOWNTOKENINHYP UNKNOWNTOKENINHYP UNKNOWNTOKENINHYP UNKNOWNTOKENINHYP UNKNOWNTOKENINHYP UNKNOWNTOKENINHYP UNKNOWNTOKENINHYP UNKNOWNTOKENINHYP UNKNOWNTOKENINHYP UNKNOWNTOKENINHYP UNKNOWNTOKENINHYP UNKNOWNTOKENINHYP UNKNOWNTOKENINHYP UNKNOWNTOKENINHYP UNKNOWNTOKENINHYP UNKNOWNTOKENINHYP UNKNOWNTOKENINHYP UNKNOWNTOKENINHYP UNKNOWNTOKENINHYP UNKNOWNTOKENINHYP UNKNOWNTOKENINHYP UNKNOWNTOKENINHYP UNKNOWNTOKENINHYP UNKNOWNTOKENINHYP UNKNOWNTOKENINHYP UNKNOWNTOKENINHYP UNKNOWNTOKENINHYP UNKNOWNTOKENINHYP UNKNOWNTOKENINHYP UNKNOWNTOKENINHYP UNKNOWNTOKENINHYP UNKNOWNTOKENINHYP UNKNOWNTOKENINHYP UNKNOWNTOKENINHYP UNKNOWNTOKENINHYP UNKNOWNTOKENINHYP UNKNOWNTOKENINHYP UNKNOWNTOKENINHYP UNKNOWNTOKENINHYP UNKNOWNTOKENINHYP UNKNOWNTOKENINHYP UNKNOWNTOKENINHYP UNKNOWNTOKENINHYP UNKNOWNTOKENINHYP UNKNOWNTOKENINHYP UNKNOWNTOKENINHYP UNKNOWNTOKENINHYP UNKNOWNTOKENINHYP UNKNOWNTOKENINHYP UNKNOWNTOKENINHYP UNKNOWNTOKENINHYP UNKNOWNTOKENINHYP UNKNOWNTOKENINHYP UNKNOWNTOKENINHYP UNKNOWNTOKENINHYP UNKNOWNTOKENINHYP UNKNOWNTOKENINHYP UNKNOWNTOKENINHYP UNKNOWNTOKENINHYP UNKNOWNTOKENINHYP UNKNOWNTOKENINHYP UNKNOWNTOKENINHYP UNKNOWNTOKENINHYP UNKNOWNTOKENINHYP UNKNOWNTOKENINHYP UNKNOWNTOKENINHYP UNKNOWNTOKENINHYP UNKNOWNTOKENINHYP UNKNOWNTOKENINHYP UNKNOWNTOKENINHYP UNKNOWNTOKENINHYP UNKNOWNTOKENINHYP UNKNOWNTOKENINHYP UNKNOWNTOKENINHYP UNKNOWNTOKENINHYP UNKNOWNTOKENINHYP UNKNOWNTOKENINHYP UNKNOWNTOKENINHYP UNKNOWNTOKENINHYP UNKNOWNTOKENINHYP UNKNOWNTOKENINHYP UNKNOWNTOKENINHYP UNKNOWNTOKENINHYP UNKNOWNTOKENINHYP UNKNOWNTOKENINHYP UNKNOWNTOKENINHYP UNKNOWNTOKENINHYP UNKNOWNTOKENINHYP UNKNOWNTOKENINHYP UNKNOWNTOKENINHYP\n",
            "2021-07-21 02:32:54 | INFO | fairseq.tasks.translation | example reference: Department of History, Japanese History Course, Asian History Course, and Buddhist History Course\n",
            "\n",
            "epoch 001 | valid on 'valid' subset:  23% 3/13 [00:04<00:17,  1.71s/it]\u001b[A2021-07-21 02:32:55 | INFO | fairseq.tasks.translation | example hypothesis: It is used to use the cars made by the JR (a type of cars).\n",
            "2021-07-21 02:32:55 | INFO | fairseq.tasks.translation | example reference: The rail cars all belonged to JR (Japan Railway Company) and have been remodeled for use.\n",
            "\n",
            "epoch 001 | valid on 'valid' subset:  31% 4/13 [00:06<00:14,  1.63s/it]\u001b[A2021-07-21 02:32:57 | INFO | fairseq.tasks.translation | example hypothesis: 2005: The University of Education (UNKNOWNTOKENINHYP University) was established, which was established in Tokyo, Tokyo, Tokyo.\n",
            "2021-07-21 02:32:57 | INFO | fairseq.tasks.translation | example reference: In UNKNOWNTOKENINREF, Legal Affairs Research Course of Graduate School of Law (Law School) opened and Tokyo Office was set up.\n",
            "\n",
            "epoch 001 | valid on 'valid' subset:  38% 5/13 [00:08<00:13,  1.68s/it]\u001b[A2021-07-21 02:32:59 | INFO | fairseq.tasks.translation | example hypothesis: UNKNOWNTOKENINHYP (UNKNOWNTOKENINHYP, Hiroshima City, Hiroshima Prefecture, Hiroshima City, Hiroshima Prefecture, Hiroshima City, Hiroshima Prefecture), UNKNOWNTOKENINHYP Shrine (Hiroshima City, Hiroshima Prefecture)\n",
            "2021-07-21 02:32:59 | INFO | fairseq.tasks.translation | example reference: UNKNOWNTOKENINREF Noh Stage - UNKNOWNTOKENINREF Castle (Fukuyama City, Hiroshima Prefecture), Present-day UNKNOWNTOKENINREF Shrine (Tomonoura, Fukuyama City, Hiroshima Prefecture) (Important Cultural Property)\n",
            "\n",
            "epoch 001 | valid on 'valid' subset:  46% 6/13 [00:10<00:12,  1.76s/it]\u001b[A2021-07-21 02:33:01 | INFO | fairseq.tasks.translation | example hypothesis: In the City City, the Aizu clan, and the Hikone Domain was four years old, and the Hikone Domain was four years old.\n",
            "2021-07-21 02:33:01 | INFO | fairseq.tasks.translation | example reference: The sweep of the city turned violent, and there were 5 immediate deaths among the Aizu clan, four among the Hikone clan, and two among the Kuwana clan.\n",
            "\n",
            "epoch 001 | valid on 'valid' subset:  54% 7/13 [00:12<00:11,  1.87s/it]\u001b[A2021-07-21 02:33:03 | INFO | fairseq.tasks.translation | example hypothesis: According to \"Taiheiki\" (The Record of the Great Peace), it is said that the Ashikaga clan was ordered to commit suicide by Takauji ASHIKAGA, who was the maternal grandfather of Takauji.\n",
            "2021-07-21 02:33:03 | INFO | fairseq.tasks.translation | example reference: According to \"Nan-Taiheiki\", Ietoki ASHIKAGA, Takauji's grandfather, killed himself with his sword, praying that the Ashikaga clan may rule over the whole country in 3 generations.\n",
            "\n",
            "epoch 001 | valid on 'valid' subset:  62% 8/13 [00:14<00:09,  1.93s/it]\u001b[A2021-07-21 02:33:05 | INFO | fairseq.tasks.translation | example hypothesis: In the past, in the past, the UNKNOWNTOKENINHYP (UNKNOWNTOKENINHYP), which was in the past, was a part of the UNKNOWNTOKENINHYP (UNKNOWNTOKENINHYP) in Japan, which was the fourth UNKNOWNTOKENINHYP (UNKNOWNTOKENINHYP), which was the fourth to the fourth (present).\n",
            "2021-07-21 02:33:05 | INFO | fairseq.tasks.translation | example reference: The instrument music club, once directed by Yutaka Sado, achieved the sixth, and consecutively the fourth, gold medal (as of 2006), in University Category of All Japan Band Competition.\n",
            "\n",
            "epoch 001 | valid on 'valid' subset:  69% 9/13 [00:16<00:07,  1.93s/it]\u001b[A2021-07-21 02:33:07 | INFO | fairseq.tasks.translation | example hypothesis: Although it was originally the first place, it was said that it was just an opportunity to escape to the place, but it was possible to escape from the time, but it was possible to escape to the place.\n",
            "2021-07-21 02:33:07 | INFO | fairseq.tasks.translation | example reference: Kogoro KATSURA (later Takayoshi KIDO) should have been there too, but he arrived earlier and then went back to the base to wait a while. His life had been spared because the incident occurred before he came back.\n",
            "\n",
            "epoch 001 | valid on 'valid' subset:  77% 10/13 [00:18<00:05,  2.00s/it]\u001b[A2021-07-21 02:33:09 | INFO | fairseq.tasks.translation | example hypothesis: After the Onin War (the period of the Onin War), he died after the death of the Muromachi bakufu (Japanese feudal government headed by a shogun), who was the first head of the Muromachi bakufu (Japanese feudal government headed by a shogun), and it seems that he was appointed to the bakufu (Japanese feudal government headed by a shogun), who had been appointed to the bakufu (Japanese feudal government headed by a shogun), and was appointed to the shogunate (Japanese feudal government headed by a shogun).\n",
            "2021-07-21 02:33:09 | INFO | fairseq.tasks.translation | example reference: In 1481, a few years after the tumultuous Onin War (1467 - 1477), which had lasted for a decade, Sotan, the official painter for the Muromachi shogunate, died; thus it is thought that Masanobu KANO was appointed as the official painter for the shogunate, succeeding Sotan.\n",
            "\n",
            "epoch 001 | valid on 'valid' subset:  85% 11/13 [00:20<00:04,  2.04s/it]\u001b[A2021-07-21 02:33:11 | INFO | fairseq.tasks.translation | example hypothesis: As the representative of the founder of the Kano School of the Kano School of the Kano School of the Kano School, the first son of the Muromachi bakufu (Japanese feudal government headed by a shogun), who was the eighth Shogun of the Muromachi bakufu (Japanese feudal government headed by a shogun), was also included in the Edo bakufu (Japanese feudal government headed by a shogun), who was the eighth Shogun of the Muromachi bakufu (Japanese feudal government headed by a shogun), who was the grandson of the Muromachi bakufu (Japanese feudal government headed by a shogun), who was the grandson of the Muromachi bakufu (Japanese feudal government headed by a shogun), who was the grandson of the Muromachi bakufu (Japanese feudal government headed by a shogun), who was the grandson of the Muromachi bakufu (Japanese feudal government headed by a shogun), who was the grandson of the Muromachi bakufu (Japanese feudal government headed by a shogun), who was the grandson of the eighth Shogun Yoshimasa ASHIKAGA.\n",
            "2021-07-21 02:33:11 | INFO | fairseq.tasks.translation | example reference: Prominent painters of the UNKNOWNTOKENINREF group include the founder Masanobu KANO, who worked for Yoshimasa ASHIKAGA, the eighth Seii taishogun (literally, \"great general who subdues the barbarians\") of the Muromachi shogunate; his heir, Motonobu KANO, a grandson of Motonobu; Eitoku KANO, who created screen paintings of the Azuchi and Osaka castles; a grandson of Eitoku, Tanyu KANO, who moved from Kyoto to Edo and supervised the creation of screen paintings of Edo Castle and Nijo Castle; Sanraku KANO, who stayed in Kyoto, thus representing a group called 'Kyo Kano.'\n",
            "\n",
            "epoch 001 | valid on 'valid' subset:  92% 12/13 [00:22<00:02,  2.03s/it]\u001b[A2021-07-21 02:33:12 | INFO | fairseq.tasks.translation | example hypothesis: Although the Cloistered Emperor Shirakawa, the Cloistered Emperor Shirakawa, is said to have been used as the 'UNKNOWNTOKENINHYP (UNKNOWNTOKENINHYP)' (UNKNOWNTOKENINHYP), and it is said that it was not only used as a UNKNOWNTOKENINHYP (UNKNOWNTOKENINHYP), and it is said that it was not only used as a UNKNOWNTOKENINHYP (UNKNOWNTOKENINHYP), and it is said that it was not only used as a UNKNOWNTOKENINHYP (UNKNOWNTOKENINHYP) of the UNKNOWNTOKENINHYP (UNKNOWNTOKENINHYP) of the UNKNOWNTOKENINHYP (UNKNOWNTOKENINHYP) of the UNKNOWNTOKENINHYP (UNKNOWNTOKENINHYP).\n",
            "2021-07-21 02:33:12 | INFO | fairseq.tasks.translation | example reference: The Cloistered Emperor Shirakawa had supreme power, but it was said he UNKNOWNTOKENINREF that, he has no control over the following three things: 1. Waters of the Kamo River (tributary of the Yodo River) (due to its flow and frequent flooding); 2. UNKNOWNTOKENINREF used in sugoroku (different from current sugoroku, close to western backgammon), which was popular way of gambling at that time, with spots on the dice selecting winners / losers; and 3. UNKNOWNTOKENINREF (monk soldiers from Mt. Hie Enryaku-ji Temple), which show that SHIRAKAWA had absolute control apart from these three things.\n",
            "\n",
            "epoch 001 | valid on 'valid' subset: 100% 13/13 [00:23<00:00,  1.67s/it]\u001b[A\n",
            "                                                                        \u001b[A2021-07-21 02:33:12 | INFO | valid | epoch 001 | valid on 'valid' subset | loss 6.818 | nll_loss 5.408 | ppl 42.47 | bleu 6.68 | wps 1136.6 | wpb 1959.6 | bsz 89.7 | num_updates 3599\n",
            "2021-07-21 02:33:12 | INFO | fairseq_cli.train | begin save checkpoint\n",
            "2021-07-21 02:33:39 | INFO | fairseq.checkpoint_utils | saved checkpoint checkpoints/kftt-search.ja-en/lr_5e-3/checkpoint1.pt (epoch 1 @ 3599 updates, score 6.68) (writing took 26.773181100999864 seconds)\n",
            "2021-07-21 02:33:39 | INFO | fairseq_cli.train | end of epoch 1 (average epoch stats below)\n",
            "2021-07-21 02:33:39 | INFO | train | epoch 001 | loss 8.214 | nll_loss 7.035 | ppl 131.12 | wps 9008.2 | ups 2.71 | wpb 3329.2 | bsz 122.3 | num_updates 3599 | lr 0.00449875 | gnorm 0.484 | train_wall 1277 | wall 1331\n",
            "epoch 002:   0% 0/3599 [00:00<?, ?it/s]2021-07-21 02:33:39 | INFO | fairseq.trainer | begin training epoch 2\n",
            "epoch 002: 100% 3598/3599 [21:28<00:00,  2.98it/s, loss=6.559, nll_loss=5.122, ppl=34.83, wps=9181.7, ups=2.78, wpb=3307.1, bsz=121.9, num_updates=7100, lr=0.00375293, gnorm=0.298, train_wall=36, wall=2584]2021-07-21 02:55:08 | INFO | fairseq_cli.train | begin validation on \"valid\" subset\n",
            "\n",
            "epoch 002 | valid on 'valid' subset:   0% 0/13 [00:00<?, ?it/s]\u001b[A2021-07-21 02:55:09 | INFO | fairseq.tasks.translation | example hypothesis: UNKNOWNTOKENINHYP UNKNOWNTOKENINHYP, Jugoinoge.\n",
            "2021-07-21 02:55:09 | INFO | fairseq.tasks.translation | example reference: UNKNOWNTOKENINREF TAKEKOSHI, Jugoi no ge\n",
            "\n",
            "epoch 002 | valid on 'valid' subset:   8% 1/13 [00:00<00:11,  1.01it/s]\u001b[A2021-07-21 02:55:09 | INFO | fairseq.tasks.translation | example hypothesis: 1600: The Battle of Fushimi-jo Castle was burned down in the Battle of Fushimi-jo Castle.\n",
            "2021-07-21 02:55:09 | INFO | fairseq.tasks.translation | example reference: 1600 - Burned in the Siege of Fushimi Castle\n",
            "\n",
            "epoch 002 | valid on 'valid' subset:  15% 2/13 [00:01<00:10,  1.07it/s]\u001b[A2021-07-21 02:55:11 | INFO | fairseq.tasks.translation | example hypothesis: History of the History of History of the History of History of the History of History and History of History of the History of History of the History of History of the History of History of the History of History\n",
            "2021-07-21 02:55:11 | INFO | fairseq.tasks.translation | example reference: Department of History, Japanese History Course, Asian History Course, and Buddhist History Course\n",
            "\n",
            "epoch 002 | valid on 'valid' subset:  23% 3/13 [00:03<00:11,  1.14s/it]\u001b[A2021-07-21 02:55:12 | INFO | fairseq.tasks.translation | example hypothesis: It is used for the first time, which was used by JR (JR).\n",
            "2021-07-21 02:55:12 | INFO | fairseq.tasks.translation | example reference: The rail cars all belonged to JR (Japan Railway Company) and have been remodeled for use.\n",
            "\n",
            "epoch 002 | valid on 'valid' subset:  31% 4/13 [00:04<00:09,  1.06s/it]\u001b[A2021-07-21 02:55:13 | INFO | fairseq.tasks.translation | example hypothesis: 2005: The Graduate School of Law was established in 2005, and the Tokyo government office was established in 2005.\n",
            "2021-07-21 02:55:13 | INFO | fairseq.tasks.translation | example reference: In UNKNOWNTOKENINREF, Legal Affairs Research Course of Graduate School of Law (Law School) opened and Tokyo Office was set up.\n",
            "\n",
            "epoch 002 | valid on 'valid' subset:  38% 5/13 [00:05<00:09,  1.24s/it]\u001b[A2021-07-21 02:55:15 | INFO | fairseq.tasks.translation | example hypothesis: UNKNOWNTOKENINHYP - Fukuyama Castle (Fukuyama Fukuyama City, Hiroshima Prefecture) (Fukuyama City, Hiroshima Prefecture) (Fukuyama City, Hiroshima Prefecture), UNKNOWNTOKENINHYP Shrine (Fukuyama City, Hiroshima Prefecture)\n",
            "2021-07-21 02:55:15 | INFO | fairseq.tasks.translation | example reference: UNKNOWNTOKENINREF Noh Stage - UNKNOWNTOKENINREF Castle (Fukuyama City, Hiroshima Prefecture), Present-day UNKNOWNTOKENINREF Shrine (Tomonoura, Fukuyama City, Hiroshima Prefecture) (Important Cultural Property)\n",
            "\n",
            "epoch 002 | valid on 'valid' subset:  46% 6/13 [00:07<00:09,  1.39s/it]\u001b[A2021-07-21 02:55:17 | INFO | fairseq.tasks.translation | example hypothesis: In the city, the Aizu Domain became a fierce battle, and the Aizu Domain, the Aizu Domain, and the Kuwana Domain, and the Aizu Domain died.\n",
            "2021-07-21 02:55:17 | INFO | fairseq.tasks.translation | example reference: The sweep of the city turned violent, and there were 5 immediate deaths among the Aizu clan, four among the Hikone clan, and two among the Kuwana clan.\n",
            "\n",
            "epoch 002 | valid on 'valid' subset:  54% 7/13 [00:08<00:08,  1.36s/it]\u001b[A2021-07-21 02:55:18 | INFO | fairseq.tasks.translation | example hypothesis: According to \"Taiheiki\" (Record of the Great Peace), it is said that the Ashikaga clan was killed by the Ashikaga clan and committed suicide by the Ashikaga clan.\n",
            "2021-07-21 02:55:18 | INFO | fairseq.tasks.translation | example reference: According to \"Nan-Taiheiki\", Ietoki ASHIKAGA, Takauji's grandfather, killed himself with his sword, praying that the Ashikaga clan may rule over the whole country in 3 generations.\n",
            "\n",
            "epoch 002 | valid on 'valid' subset:  62% 8/13 [00:10<00:06,  1.36s/it]\u001b[A2021-07-21 02:55:19 | INFO | fairseq.tasks.translation | example hypothesis: In the past, it was the best prize for the first prize of UNKNOWNTOKENINHYP, which was the first prize for the first time, which was the first prize in Japan, which was the first prize in Japan, which was the best prize.\n",
            "2021-07-21 02:55:19 | INFO | fairseq.tasks.translation | example reference: The instrument music club, once directed by Yutaka Sado, achieved the sixth, and consecutively the fourth, gold medal (as of 2006), in University Category of All Japan Band Competition.\n",
            "\n",
            "epoch 002 | valid on 'valid' subset:  69% 9/13 [00:11<00:05,  1.34s/it]\u001b[A2021-07-21 02:55:21 | INFO | fairseq.tasks.translation | example hypothesis: Originally, KATSURA KATSURA (later Takayoshi KIDO, Takayoshi KIDO) was supposed to move to the site, but when he went back to his home base, he escaped to his home ground.\n",
            "2021-07-21 02:55:21 | INFO | fairseq.tasks.translation | example reference: Kogoro KATSURA (later Takayoshi KIDO) should have been there too, but he arrived earlier and then went back to the base to wait a while. His life had been spared because the incident occurred before he came back.\n",
            "\n",
            "epoch 002 | valid on 'valid' subset:  77% 10/13 [00:13<00:04,  1.43s/it]\u001b[A2021-07-21 02:55:22 | INFO | fairseq.tasks.translation | example hypothesis: After the Onin War, he died in 1481, who was a painter of the Muromachi bakufu (Japanese feudal government headed by a shogun) in 1481, who was a painter of the Muromachi bakufu (Japanese feudal government headed by a shogun) of the Muromachi bakufu (Japanese feudal government headed by a shogun), who was a painter of the Muromachi bakufu (Japanese feudal government headed by a shogun) of the Muromachi bakufu (Japanese feudal government headed by a shogun) in 1481, who was a painter of the Muromachi bakufu (Japanese feudal government headed by a shogun).\n",
            "2021-07-21 02:55:22 | INFO | fairseq.tasks.translation | example reference: In 1481, a few years after the tumultuous Onin War (1467 - 1477), which had lasted for a decade, Sotan, the official painter for the Muromachi shogunate, died; thus it is thought that Masanobu KANO was appointed as the official painter for the shogunate, succeeding Sotan.\n",
            "\n",
            "epoch 002 | valid on 'valid' subset:  85% 11/13 [00:14<00:02,  1.48s/it]\u001b[A2021-07-21 02:55:24 | INFO | fairseq.tasks.translation | example hypothesis: As a representative painter of the Kano school, the Muromachi bakufu (Japanese feudal government headed by a shogun) and his legitimate son Masanobu KANO, the eighth shogun of the Kano school, and his older brother, Masanobu KANO, moved from Kyoto to Edo in Kyoto, and painted a group of paintings including KANO KANO, the grandson of Motonobu KANO, and the grandson of Motonobu KANO, who was a grandson of Motonobu KANO, who was a grandson of Motonobu KANO, who was a grandson of Motonobu KANO, who was a grandson of Motonobu KANO, who was a grandson of Motonobu KANO.\n",
            "2021-07-21 02:55:24 | INFO | fairseq.tasks.translation | example reference: Prominent painters of the UNKNOWNTOKENINREF group include the founder Masanobu KANO, who worked for Yoshimasa ASHIKAGA, the eighth Seii taishogun (literally, \"great general who subdues the barbarians\") of the Muromachi shogunate; his heir, Motonobu KANO, a grandson of Motonobu; Eitoku KANO, who created screen paintings of the Azuchi and Osaka castles; a grandson of Eitoku, Tanyu KANO, who moved from Kyoto to Edo and supervised the creation of screen paintings of Edo Castle and Nijo Castle; Sanraku KANO, who stayed in Kyoto, thus representing a group called 'Kyo Kano.'\n",
            "\n",
            "epoch 002 | valid on 'valid' subset:  92% 12/13 [00:16<00:01,  1.52s/it]\u001b[A2021-07-21 02:55:25 | INFO | fairseq.tasks.translation | example hypothesis: The fact that the Cloistered Emperor Shirakawa was in the area of the land (the Kamo-gawa River) (the Kamo-gawa River of the Kamo-gawa River) (the Kamo-gawa River) (the Kamo-gawa River), which was a kind of UNKNOWNTOKENINHYP (the main stream of the Kamo-gawa River), and it is said that he did not have a strong power in which he did not have a strong power, but it is said that he did not have a strong power in which he did not have a strong power, but it is said that he did not have a strong power in which he did not have a strong power.\n",
            "2021-07-21 02:55:25 | INFO | fairseq.tasks.translation | example reference: The Cloistered Emperor Shirakawa had supreme power, but it was said he UNKNOWNTOKENINREF that, he has no control over the following three things: 1. Waters of the Kamo River (tributary of the Yodo River) (due to its flow and frequent flooding); 2. UNKNOWNTOKENINREF used in sugoroku (different from current sugoroku, close to western backgammon), which was popular way of gambling at that time, with spots on the dice selecting winners / losers; and 3. UNKNOWNTOKENINREF (monk soldiers from Mt. Hie Enryaku-ji Temple), which show that SHIRAKAWA had absolute control apart from these three things.\n",
            "\n",
            "epoch 002 | valid on 'valid' subset: 100% 13/13 [00:17<00:00,  1.29s/it]\u001b[A\n",
            "                                                                        \u001b[A2021-07-21 02:55:25 | INFO | valid | epoch 002 | valid on 'valid' subset | loss 6.346 | nll_loss 4.882 | ppl 29.48 | bleu 11.43 | wps 1494.6 | wpb 1959.6 | bsz 89.7 | num_updates 7198 | best_bleu 11.43\n",
            "2021-07-21 02:55:25 | INFO | fairseq_cli.train | begin save checkpoint\n",
            "2021-07-21 02:55:53 | INFO | fairseq.checkpoint_utils | saved checkpoint checkpoints/kftt-search.ja-en/lr_5e-3/checkpoint2.pt (epoch 2 @ 7198 updates, score 11.43) (writing took 28.16717988399978 seconds)\n",
            "2021-07-21 02:55:53 | INFO | fairseq_cli.train | end of epoch 2 (average epoch stats below)\n",
            "2021-07-21 02:55:53 | INFO | train | epoch 002 | loss 6.728 | nll_loss 5.314 | ppl 39.79 | wps 8981.4 | ups 2.7 | wpb 3329.2 | bsz 122.3 | num_updates 7198 | lr 0.0037273 | gnorm 0.312 | train_wall 1285 | wall 2665\n",
            "epoch 003:   0% 0/3599 [00:00<?, ?it/s]2021-07-21 02:55:53 | INFO | fairseq.trainer | begin training epoch 3\n",
            "epoch 003: 100% 3598/3599 [21:29<00:00,  2.86it/s, loss=6.387, nll_loss=4.934, ppl=30.56, wps=9367.2, ups=2.77, wpb=3385.9, bsz=118.7, num_updates=10700, lr=0.00305709, gnorm=0.294, train_wall=36, wall=3921]2021-07-21 03:17:23 | INFO | fairseq_cli.train | begin validation on \"valid\" subset\n",
            "\n",
            "epoch 003 | valid on 'valid' subset:   0% 0/13 [00:00<?, ?it/s]\u001b[A2021-07-21 03:17:24 | INFO | fairseq.tasks.translation | example hypothesis: He was given the rank of Jugoinoge (Junior Fifth Rank, Lower Grade).\n",
            "2021-07-21 03:17:24 | INFO | fairseq.tasks.translation | example reference: UNKNOWNTOKENINREF TAKEKOSHI, Jugoi no ge\n",
            "\n",
            "epoch 003 | valid on 'valid' subset:   8% 1/13 [00:00<00:11,  1.09it/s]\u001b[A2021-07-21 03:17:26 | INFO | fairseq.tasks.translation | example hypothesis: 1600: It was burnt down in the Battle of Fushimi-jo Castle.\n",
            "2021-07-21 03:17:26 | INFO | fairseq.tasks.translation | example reference: 1600 - Burned in the Siege of Fushimi Castle\n",
            "\n",
            "epoch 003 | valid on 'valid' subset:  15% 2/13 [00:02<00:12,  1.09s/it]\u001b[A2021-07-21 03:17:27 | INFO | fairseq.tasks.translation | example hypothesis: History of history of history and history of history of history and history of history of history and history\n",
            "2021-07-21 03:17:27 | INFO | fairseq.tasks.translation | example reference: Department of History, Japanese History Course, Asian History Course, and Buddhist History Course\n",
            "\n",
            "epoch 003 | valid on 'valid' subset:  23% 3/13 [00:03<00:11,  1.11s/it]\u001b[A2021-07-21 03:17:28 | INFO | fairseq.tasks.translation | example hypothesis: All of the cars were used in JR (West Japan), which were used in JR (West Japan).\n",
            "2021-07-21 03:17:28 | INFO | fairseq.tasks.translation | example reference: The rail cars all belonged to JR (Japan Railway Company) and have been remodeled for use.\n",
            "\n",
            "epoch 003 | valid on 'valid' subset:  31% 4/13 [00:04<00:09,  1.05s/it]\u001b[A2021-07-21 03:17:29 | INFO | fairseq.tasks.translation | example hypothesis: 2005: The Graduate School of Engineering (UNKNOWNTOKENINHYP University) was established, and was established in the Tokyo Office of the University of Tokyo.\n",
            "2021-07-21 03:17:29 | INFO | fairseq.tasks.translation | example reference: In UNKNOWNTOKENINREF, Legal Affairs Research Course of Graduate School of Law (Law School) opened and Tokyo Office was set up.\n",
            "\n",
            "epoch 003 | valid on 'valid' subset:  38% 5/13 [00:05<00:08,  1.08s/it]\u001b[A2021-07-21 03:17:30 | INFO | fairseq.tasks.translation | example hypothesis: UNKNOWNTOKENINHYP stage: Fukuyama Castle (Fukuyama City, Hiroshima Prefecture), UNKNOWNTOKENINHYP Shrine (Fukuyama City, Hiroshima Prefecture), UNKNOWNTOKENINHYP Shrine (Fukuyama City, Hiroshima Prefecture)\n",
            "2021-07-21 03:17:30 | INFO | fairseq.tasks.translation | example reference: UNKNOWNTOKENINREF Noh Stage - UNKNOWNTOKENINREF Castle (Fukuyama City, Hiroshima Prefecture), Present-day UNKNOWNTOKENINREF Shrine (Tomonoura, Fukuyama City, Hiroshima Prefecture) (Important Cultural Property)\n",
            "\n",
            "epoch 003 | valid on 'valid' subset:  46% 6/13 [00:06<00:08,  1.15s/it]\u001b[A2021-07-21 03:17:32 | INFO | fairseq.tasks.translation | example hypothesis: In the middle of the city, the Aizu clan became a fierce battle and the Aizu Domain and the Kuwana Domain died and the Kuwana Domain.\n",
            "2021-07-21 03:17:32 | INFO | fairseq.tasks.translation | example reference: The sweep of the city turned violent, and there were 5 immediate deaths among the Aizu clan, four among the Hikone clan, and two among the Kuwana clan.\n",
            "\n",
            "epoch 003 | valid on 'valid' subset:  54% 7/13 [00:08<00:07,  1.22s/it]\u001b[A2021-07-21 03:17:33 | INFO | fairseq.tasks.translation | example hypothesis: According to the \"Taiheiki\" (The Record of the Great Peace), it is said that the Ashikaga clan was killed by Takauji's grandfather, the Ashikaga clan, and the Ashikaga clan was said to have committed suicide.\n",
            "2021-07-21 03:17:33 | INFO | fairseq.tasks.translation | example reference: According to \"Nan-Taiheiki\", Ietoki ASHIKAGA, Takauji's grandfather, killed himself with his sword, praying that the Ashikaga clan may rule over the whole country in 3 generations.\n",
            "\n",
            "epoch 003 | valid on 'valid' subset:  62% 8/13 [00:09<00:06,  1.30s/it]\u001b[A2021-07-21 03:17:35 | INFO | fairseq.tasks.translation | example hypothesis: In the past, in the past, in the past, in the past, in the past, in the past, in the past, in the past, in the past, in the past, in the past, in the past, in the past, in the past, in the past, \"UNKNOWNTOKENINHYP\" (UNKNOWNTOKENINHYP) was held at the top of the University of Japan.\n",
            "2021-07-21 03:17:35 | INFO | fairseq.tasks.translation | example reference: The instrument music club, once directed by Yutaka Sado, achieved the sixth, and consecutively the fourth, gold medal (as of 2006), in University Category of All Japan Band Competition.\n",
            "\n",
            "epoch 003 | valid on 'valid' subset:  69% 9/13 [00:11<00:05,  1.34s/it]\u001b[A2021-07-21 03:17:36 | INFO | fairseq.tasks.translation | example hypothesis: If Kogoro KATSURA (later Takayoshi KIDO), who was supposed to have been in the scene, was still alive, he went back to the place where he was too young.\n",
            "2021-07-21 03:17:36 | INFO | fairseq.tasks.translation | example reference: Kogoro KATSURA (later Takayoshi KIDO) should have been there too, but he arrived earlier and then went back to the base to wait a while. His life had been spared because the incident occurred before he came back.\n",
            "\n",
            "epoch 003 | valid on 'valid' subset:  77% 10/13 [00:13<00:04,  1.50s/it]\u001b[A2021-07-21 03:17:38 | INFO | fairseq.tasks.translation | example hypothesis: In 1481, after the Onin War, Sotan, who was an official painter of the Muromachi bakufu (Japanese feudal government headed by a shogun), died, and it is thought that he was appointed to the bakufu (Japanese feudal government headed by a shogun), and Masanobu KANO was appointed to the bakufu (Japanese feudal government headed by a shogun), and Masanobu KANO was appointed to the bakufu (Japanese feudal government headed by a shogun).\n",
            "2021-07-21 03:17:38 | INFO | fairseq.tasks.translation | example reference: In 1481, a few years after the tumultuous Onin War (1467 - 1477), which had lasted for a decade, Sotan, the official painter for the Muromachi shogunate, died; thus it is thought that Masanobu KANO was appointed as the official painter for the shogunate, succeeding Sotan.\n",
            "\n",
            "epoch 003 | valid on 'valid' subset:  85% 11/13 [00:14<00:03,  1.54s/it]\u001b[A2021-07-21 03:17:40 | INFO | fairseq.tasks.translation | example hypothesis: As a representative painter of the Kano school, Masanobu KANO, a representative painter of the Kano school, the Muromachi bakufu (Japanese feudal government headed by a shogun), the eighth shogun of the Muromachi bakufu (Japanese feudal government headed by a shogun), the Muromachi bakufu (Japanese feudal government headed by a shogun), Motonobu KANO, and so on moved to Edo in Kyoto, and he was called 'Kyo Kano' (UNKNOWNTOKENINHYP), UNKNOWNTOKENINHYP KANO, the grandson of Eitoku KANO, the grandson of Eitoku KANO, the grandson of Motonobu KANO, the grandson of Motonobu KANO, the grandson of Motonobu KANO, and a grandson of Eitoku, and so on.\n",
            "2021-07-21 03:17:40 | INFO | fairseq.tasks.translation | example reference: Prominent painters of the UNKNOWNTOKENINREF group include the founder Masanobu KANO, who worked for Yoshimasa ASHIKAGA, the eighth Seii taishogun (literally, \"great general who subdues the barbarians\") of the Muromachi shogunate; his heir, Motonobu KANO, a grandson of Motonobu; Eitoku KANO, who created screen paintings of the Azuchi and Osaka castles; a grandson of Eitoku, Tanyu KANO, who moved from Kyoto to Edo and supervised the creation of screen paintings of Edo Castle and Nijo Castle; Sanraku KANO, who stayed in Kyoto, thus representing a group called 'Kyo Kano.'\n",
            "\n",
            "epoch 003 | valid on 'valid' subset:  92% 12/13 [00:16<00:01,  1.66s/it]\u001b[A2021-07-21 03:17:41 | INFO | fairseq.tasks.translation | example hypothesis: There is a historical tradition that the Cloistered Emperor Shirakawa said that the Cloistered Emperor Shirakawa (the Kamo-gawa River (the Kamo-gawa River) (the Kamo-gawa River)), which was the water of the Kamo-gawa River (the Kamo-gawa River (the Kamo-gawa River)) (the Kamo-gawa River (the Kamo-gawa River)), which was the same as that of the Kamo-gawa River (it is similar to that of the Kamo-gawa River), and it is said that he had a great power, and it is said that he had a great power, and it is said that he had a strong power.\n",
            "2021-07-21 03:17:41 | INFO | fairseq.tasks.translation | example reference: The Cloistered Emperor Shirakawa had supreme power, but it was said he UNKNOWNTOKENINREF that, he has no control over the following three things: 1. Waters of the Kamo River (tributary of the Yodo River) (due to its flow and frequent flooding); 2. UNKNOWNTOKENINREF used in sugoroku (different from current sugoroku, close to western backgammon), which was popular way of gambling at that time, with spots on the dice selecting winners / losers; and 3. UNKNOWNTOKENINREF (monk soldiers from Mt. Hie Enryaku-ji Temple), which show that SHIRAKAWA had absolute control apart from these three things.\n",
            "\n",
            "epoch 003 | valid on 'valid' subset: 100% 13/13 [00:17<00:00,  1.39s/it]\u001b[A\n",
            "                                                                        \u001b[A2021-07-21 03:17:41 | INFO | valid | epoch 003 | valid on 'valid' subset | loss 6.189 | nll_loss 4.686 | ppl 25.74 | bleu 11.89 | wps 1471.4 | wpb 1959.6 | bsz 89.7 | num_updates 10797 | best_bleu 11.89\n",
            "2021-07-21 03:17:41 | INFO | fairseq_cli.train | begin save checkpoint\n",
            "2021-07-21 03:18:10 | INFO | fairseq.checkpoint_utils | saved checkpoint checkpoints/kftt-search.ja-en/lr_5e-3/checkpoint3.pt (epoch 3 @ 10797 updates, score 11.89) (writing took 29.20392340699982 seconds)\n",
            "2021-07-21 03:18:10 | INFO | fairseq_cli.train | end of epoch 3 (average epoch stats below)\n",
            "2021-07-21 03:18:10 | INFO | train | epoch 003 | loss 6.401 | nll_loss 4.945 | ppl 30.8 | wps 8961.6 | ups 2.69 | wpb 3329.2 | bsz 122.3 | num_updates 10797 | lr 0.00304333 | gnorm 0.308 | train_wall 1287 | wall 4002\n",
            "epoch 004:   0% 0/3599 [00:00<?, ?it/s]2021-07-21 03:18:10 | INFO | fairseq.trainer | begin training epoch 4\n",
            "epoch 004: 100% 3598/3599 [21:29<00:00,  2.75it/s, loss=6.212, nll_loss=4.736, ppl=26.65, wps=9335.6, ups=2.85, wpb=3276, bsz=127.4, num_updates=14300, lr=0.00264443, gnorm=0.337, train_wall=35, wall=5258]2021-07-21 03:39:40 | INFO | fairseq_cli.train | begin validation on \"valid\" subset\n",
            "\n",
            "epoch 004 | valid on 'valid' subset:   0% 0/13 [00:00<?, ?it/s]\u001b[A2021-07-21 03:39:41 | INFO | fairseq.tasks.translation | example hypothesis: UNKNOWNTOKENINHYP: Jugoinoge (Junior Fifth Rank, Lower Grade)\n",
            "2021-07-21 03:39:41 | INFO | fairseq.tasks.translation | example reference: UNKNOWNTOKENINREF TAKEKOSHI, Jugoi no ge\n",
            "\n",
            "epoch 004 | valid on 'valid' subset:   8% 1/13 [00:00<00:10,  1.18it/s]\u001b[A2021-07-21 03:39:42 | INFO | fairseq.tasks.translation | example hypothesis: 1600: The Battle of Fushimi-jo Castle was burnt down.\n",
            "2021-07-21 03:39:42 | INFO | fairseq.tasks.translation | example reference: 1600 - Burned in the Siege of Fushimi Castle\n",
            "\n",
            "epoch 004 | valid on 'valid' subset:  15% 2/13 [00:01<00:08,  1.22it/s]\u001b[A2021-07-21 03:39:43 | INFO | fairseq.tasks.translation | example hypothesis: Department of History of History of History and History of History of History of History of Historical Studies\n",
            "2021-07-21 03:39:43 | INFO | fairseq.tasks.translation | example reference: Department of History, Japanese History Course, Asian History Course, and Buddhist History Course\n",
            "\n",
            "epoch 004 | valid on 'valid' subset:  23% 3/13 [00:02<00:08,  1.20it/s]\u001b[A2021-07-21 03:39:44 | INFO | fairseq.tasks.translation | example hypothesis: It is used to use all the cars that have been used for JR.\n",
            "2021-07-21 03:39:44 | INFO | fairseq.tasks.translation | example reference: The rail cars all belonged to JR (Japan Railway Company) and have been remodeled for use.\n",
            "\n",
            "epoch 004 | valid on 'valid' subset:  31% 4/13 [00:03<00:07,  1.16it/s]\u001b[A2021-07-21 03:39:45 | INFO | fairseq.tasks.translation | example hypothesis: 2005: He established the Graduate School of Art and Design (the law of the law of the law of the Graduate School of Law).\n",
            "2021-07-21 03:39:45 | INFO | fairseq.tasks.translation | example reference: In UNKNOWNTOKENINREF, Legal Affairs Research Course of Graduate School of Law (Law School) opened and Tokyo Office was set up.\n",
            "\n",
            "epoch 004 | valid on 'valid' subset:  38% 5/13 [00:04<00:07,  1.04it/s]\u001b[A2021-07-21 03:39:46 | INFO | fairseq.tasks.translation | example hypothesis: UNKNOWNTOKENINHYP stage: Fukuyama Castle (Fukuyama City, Hiroshima Prefecture), the current UNKNOWNTOKENINHYP Shrine (UNKNOWNTOKENINHYP, Fukuyama City, Hiroshima Prefecture), and the UNKNOWNTOKENINHYP Shrine (Important Cultural Property).\n",
            "2021-07-21 03:39:46 | INFO | fairseq.tasks.translation | example reference: UNKNOWNTOKENINREF Noh Stage - UNKNOWNTOKENINREF Castle (Fukuyama City, Hiroshima Prefecture), Present-day UNKNOWNTOKENINREF Shrine (Tomonoura, Fukuyama City, Hiroshima Prefecture) (Important Cultural Property)\n",
            "\n",
            "epoch 004 | valid on 'valid' subset:  46% 6/13 [00:05<00:07,  1.07s/it]\u001b[A2021-07-21 03:39:47 | INFO | fairseq.tasks.translation | example hypothesis: It was a fierce battle with the fierce battle, and the Aizu Domain died of a fierce battle, and the Kuwana Domain died, and the Kuwana Domain died.\n",
            "2021-07-21 03:39:47 | INFO | fairseq.tasks.translation | example reference: The sweep of the city turned violent, and there were 5 immediate deaths among the Aizu clan, four among the Hikone clan, and two among the Kuwana clan.\n",
            "\n",
            "epoch 004 | valid on 'valid' subset:  54% 7/13 [00:07<00:06,  1.16s/it]\u001b[A2021-07-21 03:39:49 | INFO | fairseq.tasks.translation | example hypothesis: According to the \"Taiheiki\" (The Record of the Great Peace), the Ashikaga clan, the grandfather of Takauji, was said to have been killed by the Ashikaga clan, and it is said that the Ashikaga clan was killed by the Ashikaga clan.\n",
            "2021-07-21 03:39:49 | INFO | fairseq.tasks.translation | example reference: According to \"Nan-Taiheiki\", Ietoki ASHIKAGA, Takauji's grandfather, killed himself with his sword, praying that the Ashikaga clan may rule over the whole country in 3 generations.\n",
            "\n",
            "epoch 004 | valid on 'valid' subset:  62% 8/13 [00:08<00:06,  1.29s/it]\u001b[A2021-07-21 03:39:51 | INFO | fairseq.tasks.translation | example hypothesis: In the past, in the past, the music of \"UNKNOWNTOKENINHYP\" (UNKNOWNTOKENINHYP), who had been in charge of the command of Japan, was the fourth won the 4th won the fourth won the won won the fourth won the won the fourth won the fourth prize (present UNKNOWNTOKENINHYP).\n",
            "2021-07-21 03:39:51 | INFO | fairseq.tasks.translation | example reference: The instrument music club, once directed by Yutaka Sado, achieved the sixth, and consecutively the fourth, gold medal (as of 2006), in University Category of All Japan Band Competition.\n",
            "\n",
            "epoch 004 | valid on 'valid' subset:  69% 9/13 [00:10<00:05,  1.34s/it]\u001b[A2021-07-21 03:39:52 | INFO | fairseq.tasks.translation | example hypothesis: It was originally supposed that Kogoro KATSURA (later Takayoshi KIDO), who had been supposed to be the same, was supposed to be a place of time, but he returned to his home ground when he returned to his home ground.\n",
            "2021-07-21 03:39:52 | INFO | fairseq.tasks.translation | example reference: Kogoro KATSURA (later Takayoshi KIDO) should have been there too, but he arrived earlier and then went back to the base to wait a while. His life had been spared because the incident occurred before he came back.\n",
            "\n",
            "epoch 004 | valid on 'valid' subset:  77% 10/13 [00:12<00:04,  1.45s/it]\u001b[A2021-07-21 03:39:54 | INFO | fairseq.tasks.translation | example hypothesis: In 1481, Sotan, who was an official painter of the Muromachi bakufu (Japanese feudal government headed by a shogun), died, and Masanobu KANO was appointed as an official painter of the Muromachi bakufu (Japanese feudal government headed by a shogun), and Masanobu KANO was appointed as an official painter of the bakufu (Japanese feudal government headed by a shogun).\n",
            "2021-07-21 03:39:54 | INFO | fairseq.tasks.translation | example reference: In 1481, a few years after the tumultuous Onin War (1467 - 1477), which had lasted for a decade, Sotan, the official painter for the Muromachi shogunate, died; thus it is thought that Masanobu KANO was appointed as the official painter for the shogunate, succeeding Sotan.\n",
            "\n",
            "epoch 004 | valid on 'valid' subset:  85% 11/13 [00:14<00:03,  1.64s/it]\u001b[A2021-07-21 03:39:56 | INFO | fairseq.tasks.translation | example hypothesis: As a representative painter of the Kano School, the founder of the Kano school was Masanobu KANO, the eighth shogun of the Muromachi bakufu (Japanese feudal government headed by a shogun).\n",
            "2021-07-21 03:39:56 | INFO | fairseq.tasks.translation | example reference: Prominent painters of the UNKNOWNTOKENINREF group include the founder Masanobu KANO, who worked for Yoshimasa ASHIKAGA, the eighth Seii taishogun (literally, \"great general who subdues the barbarians\") of the Muromachi shogunate; his heir, Motonobu KANO, a grandson of Motonobu; Eitoku KANO, who created screen paintings of the Azuchi and Osaka castles; a grandson of Eitoku, Tanyu KANO, who moved from Kyoto to Edo and supervised the creation of screen paintings of Edo Castle and Nijo Castle; Sanraku KANO, who stayed in Kyoto, thus representing a group called 'Kyo Kano.'\n",
            "\n",
            "epoch 004 | valid on 'valid' subset:  92% 12/13 [00:15<00:01,  1.65s/it]\u001b[A2021-07-21 03:39:57 | INFO | fairseq.tasks.translation | example hypothesis: It shows that the Cloistered Emperor Shirakawa had a strong power to show the power of the Kamo-gawa River (the Kamo-gawa River) (the Kamo-gawa River) (the Kamo-gawa River) (the Kamo-gawa River (the Kamo-gawa River of the Kamo-gawa River)), which had been used as a kind of entertainment, and it is said that he did not have a strong power, and it is said that he did not have a strong power, and it is said that he did not have a strong power, and it is said that he did not have a strong power.\n",
            "2021-07-21 03:39:57 | INFO | fairseq.tasks.translation | example reference: The Cloistered Emperor Shirakawa had supreme power, but it was said he UNKNOWNTOKENINREF that, he has no control over the following three things: 1. Waters of the Kamo River (tributary of the Yodo River) (due to its flow and frequent flooding); 2. UNKNOWNTOKENINREF used in sugoroku (different from current sugoroku, close to western backgammon), which was popular way of gambling at that time, with spots on the dice selecting winners / losers; and 3. UNKNOWNTOKENINREF (monk soldiers from Mt. Hie Enryaku-ji Temple), which show that SHIRAKAWA had absolute control apart from these three things.\n",
            "\n",
            "epoch 004 | valid on 'valid' subset: 100% 13/13 [00:16<00:00,  1.44s/it]\u001b[A\n",
            "                                                                        \u001b[A2021-07-21 03:39:57 | INFO | valid | epoch 004 | valid on 'valid' subset | loss 6.07 | nll_loss 4.562 | ppl 23.62 | bleu 12.62 | wps 1531.9 | wpb 1959.6 | bsz 89.7 | num_updates 14396 | best_bleu 12.62\n",
            "2021-07-21 03:39:57 | INFO | fairseq_cli.train | begin save checkpoint\n",
            "2021-07-21 03:40:29 | INFO | fairseq.checkpoint_utils | saved checkpoint checkpoints/kftt-search.ja-en/lr_5e-3/checkpoint4.pt (epoch 4 @ 14396 updates, score 12.62) (writing took 31.84434061200045 seconds)\n",
            "2021-07-21 03:40:29 | INFO | fairseq_cli.train | end of epoch 4 (average epoch stats below)\n",
            "2021-07-21 03:40:29 | INFO | train | epoch 004 | loss 6.253 | nll_loss 4.78 | ppl 27.47 | wps 8949.5 | ups 2.69 | wpb 3329.2 | bsz 122.3 | num_updates 14396 | lr 0.0026356 | gnorm 0.316 | train_wall 1287 | wall 5341\n",
            "epoch 005:   0% 0/3599 [00:00<?, ?it/s]2021-07-21 03:40:29 | INFO | fairseq.trainer | begin training epoch 5\n",
            "epoch 005: 100% 3598/3599 [21:33<00:00,  3.10it/s, loss=6.195, nll_loss=4.721, ppl=26.37, wps=9364.3, ups=2.73, wpb=3428.6, bsz=102.5, num_updates=17900, lr=0.0023636, gnorm=0.313, train_wall=37, wall=6600]2021-07-21 04:02:02 | INFO | fairseq_cli.train | begin validation on \"valid\" subset\n",
            "\n",
            "epoch 005 | valid on 'valid' subset:   0% 0/13 [00:00<?, ?it/s]\u001b[A2021-07-21 04:02:03 | INFO | fairseq.tasks.translation | example hypothesis: He was awarded the rank of Jugoinoge (Junior Fifth Rank, Lower Grade).\n",
            "2021-07-21 04:02:03 | INFO | fairseq.tasks.translation | example reference: UNKNOWNTOKENINREF TAKEKOSHI, Jugoi no ge\n",
            "\n",
            "epoch 005 | valid on 'valid' subset:   8% 1/13 [00:00<00:11,  1.06it/s]\u001b[A2021-07-21 04:02:04 | INFO | fairseq.tasks.translation | example hypothesis: 1600: The Battle of Fushimi-jo Castle was burned down.\n",
            "2021-07-21 04:02:04 | INFO | fairseq.tasks.translation | example reference: 1600 - Burned in the Siege of Fushimi Castle\n",
            "\n",
            "epoch 005 | valid on 'valid' subset:  15% 2/13 [00:01<00:09,  1.15it/s]\u001b[A2021-07-21 04:02:05 | INFO | fairseq.tasks.translation | example hypothesis: History of History of History of History of History of History of History of History and History\n",
            "2021-07-21 04:02:05 | INFO | fairseq.tasks.translation | example reference: Department of History, Japanese History Course, Asian History Course, and Buddhist History Course\n",
            "\n",
            "epoch 005 | valid on 'valid' subset:  23% 3/13 [00:02<00:08,  1.16it/s]\u001b[A2021-07-21 04:02:06 | INFO | fairseq.tasks.translation | example hypothesis: All of the cars were converted to JR companies.\n",
            "2021-07-21 04:02:06 | INFO | fairseq.tasks.translation | example reference: The rail cars all belonged to JR (Japan Railway Company) and have been remodeled for use.\n",
            "\n",
            "epoch 005 | valid on 'valid' subset:  31% 4/13 [00:03<00:07,  1.17it/s]\u001b[A2021-07-21 04:02:07 | INFO | fairseq.tasks.translation | example hypothesis: 2005: The Graduate School of Justice established the Graduate School of Justice (Graduate School of Law), and was established in Tokyo.\n",
            "2021-07-21 04:02:07 | INFO | fairseq.tasks.translation | example reference: In UNKNOWNTOKENINREF, Legal Affairs Research Course of Graduate School of Law (Law School) opened and Tokyo Office was set up.\n",
            "\n",
            "epoch 005 | valid on 'valid' subset:  38% 5/13 [00:04<00:07,  1.08it/s]\u001b[A2021-07-21 04:02:09 | INFO | fairseq.tasks.translation | example hypothesis: UNKNOWNTOKENINHYP stage: Fukuyama Castle (Fukuyama City, Hiroshima Prefecture), present UNKNOWNTOKENINHYP Shrine (Fukuyama City, Hiroshima Prefecture), and UNKNOWNTOKENINHYP Shrine (Fukuyama City)\n",
            "2021-07-21 04:02:09 | INFO | fairseq.tasks.translation | example reference: UNKNOWNTOKENINREF Noh Stage - UNKNOWNTOKENINREF Castle (Fukuyama City, Hiroshima Prefecture), Present-day UNKNOWNTOKENINREF Shrine (Tomonoura, Fukuyama City, Hiroshima Prefecture) (Important Cultural Property)\n",
            "\n",
            "epoch 005 | valid on 'valid' subset:  46% 6/13 [00:06<00:08,  1.17s/it]\u001b[A2021-07-21 04:02:10 | INFO | fairseq.tasks.translation | example hypothesis: In the middle of the city, the Aizu clan became a fierce battle, and the Aizu Domain had four deaths, and the Kuwana Domain died.\n",
            "2021-07-21 04:02:10 | INFO | fairseq.tasks.translation | example reference: The sweep of the city turned violent, and there were 5 immediate deaths among the Aizu clan, four among the Hikone clan, and two among the Kuwana clan.\n",
            "\n",
            "epoch 005 | valid on 'valid' subset:  54% 7/13 [00:07<00:07,  1.18s/it]\u001b[A2021-07-21 04:02:11 | INFO | fairseq.tasks.translation | example hypothesis: According to \"Taiheiki\" (The Record of the Great Peace), it is said that the Ashikaga clan was killed by the Ashikaga clan.\n",
            "2021-07-21 04:02:11 | INFO | fairseq.tasks.translation | example reference: According to \"Nan-Taiheiki\", Ietoki ASHIKAGA, Takauji's grandfather, killed himself with his sword, praying that the Ashikaga clan may rule over the whole country in 3 generations.\n",
            "\n",
            "epoch 005 | valid on 'valid' subset:  62% 8/13 [00:08<00:06,  1.22s/it]\u001b[A2021-07-21 04:02:13 | INFO | fairseq.tasks.translation | example hypothesis: In the past, in the past, he was assigned to be commanded by Sado, who was commanded by Sado, and the fourth won the fourth won the fourth won the fourth won the fourth won the fourth won the fourth won the fourth won the fourth won the fourth won the fourth won the fourth won the fourth won the fourth won the fourth won the fourth won the fourth won the fourth won the fourth won the fourth won the fourth won the fourth won the fourth won the fourth won the fourth won the fourth won the fourth won the fourth won the fourth won the fourth won the fourth won the fourth won the fourth won the fourth won the fourth won the fourth won the fourth won the fourth won the fourth won the fourth won the fourth won the fourth won the fourth won the fourth won the fourth won the fourth won the fourth won the fourth won the fourth won the fourth won the fourth won the fourth won the fourth won the fourth won the fourth won the fourth won the fourth won the fourth won the fourth\n",
            "2021-07-21 04:02:13 | INFO | fairseq.tasks.translation | example reference: The instrument music club, once directed by Yutaka Sado, achieved the sixth, and consecutively the fourth, gold medal (as of 2006), in University Category of All Japan Band Competition.\n",
            "\n",
            "epoch 005 | valid on 'valid' subset:  69% 9/13 [00:10<00:05,  1.39s/it]\u001b[A2021-07-21 04:02:14 | INFO | fairseq.tasks.translation | example hypothesis: At that time, KATSURA KATSURA (later Takayoshi KIDO) was also believed to have been in the place, but when he went back to his home ground, he went back to his home ground.\n",
            "2021-07-21 04:02:14 | INFO | fairseq.tasks.translation | example reference: Kogoro KATSURA (later Takayoshi KIDO) should have been there too, but he arrived earlier and then went back to the base to wait a while. His life had been spared because the incident occurred before he came back.\n",
            "\n",
            "epoch 005 | valid on 'valid' subset:  77% 10/13 [00:11<00:04,  1.41s/it]\u001b[A2021-07-21 04:02:16 | INFO | fairseq.tasks.translation | example hypothesis: In 1481, Sotan, who had been an official painter of the Muromachi bakufu (Japanese feudal government headed by a shogun), died, and Masanobu KANO was appointed as an official painter of the bakufu (Japanese feudal government headed by a shogun), and Masanobu KANO was appointed as an official painter of the bakufu (Japanese feudal government headed by a shogun).\n",
            "2021-07-21 04:02:16 | INFO | fairseq.tasks.translation | example reference: In 1481, a few years after the tumultuous Onin War (1467 - 1477), which had lasted for a decade, Sotan, the official painter for the Muromachi shogunate, died; thus it is thought that Masanobu KANO was appointed as the official painter for the shogunate, succeeding Sotan.\n",
            "\n",
            "epoch 005 | valid on 'valid' subset:  85% 11/13 [00:13<00:02,  1.44s/it]\u001b[A2021-07-21 04:02:17 | INFO | fairseq.tasks.translation | example hypothesis: The representative painters of the Kano school include KANO KANO, the first Shogun of the Kano school, and his legitimate son Motonobu KANO, the eighth son of Motonobu KANO, the grandson of Motonobu KANO, the grandson of Motonobu KANO, the grandson of Motonobu KANO, and a grandson of Eitoku, and the work of Eitoku KANO, the grandson of Eitoku, and a grandson of Eitoku, and a school of the Kyoto Castle, and a school of the Kyoto Castle was called 'Kyoto.'\n",
            "2021-07-21 04:02:17 | INFO | fairseq.tasks.translation | example reference: Prominent painters of the UNKNOWNTOKENINREF group include the founder Masanobu KANO, who worked for Yoshimasa ASHIKAGA, the eighth Seii taishogun (literally, \"great general who subdues the barbarians\") of the Muromachi shogunate; his heir, Motonobu KANO, a grandson of Motonobu; Eitoku KANO, who created screen paintings of the Azuchi and Osaka castles; a grandson of Eitoku, Tanyu KANO, who moved from Kyoto to Edo and supervised the creation of screen paintings of Edo Castle and Nijo Castle; Sanraku KANO, who stayed in Kyoto, thus representing a group called 'Kyo Kano.'\n",
            "\n",
            "epoch 005 | valid on 'valid' subset:  92% 12/13 [00:14<00:01,  1.46s/it]\u001b[A2021-07-21 04:02:18 | INFO | fairseq.tasks.translation | example hypothesis: The fact that the Cloistered Emperor Shirakawa said that the Cloistered Emperor Shirakawa had a great influence on the Kamo-gawa River (the Kamo-gawa River) (the Kamo-gawa River) (the Kamo-gawa River) (the Kamo-gawa River) (the Kamo-gawa River) (the Kamo-gawa River), and so on, and it is said that he had a great influence on the end of the stage, and it is said that he did not have a strong power, so that it is said that he had a great influence on other than that of Mt. Hiei.\n",
            "2021-07-21 04:02:18 | INFO | fairseq.tasks.translation | example reference: The Cloistered Emperor Shirakawa had supreme power, but it was said he UNKNOWNTOKENINREF that, he has no control over the following three things: 1. Waters of the Kamo River (tributary of the Yodo River) (due to its flow and frequent flooding); 2. UNKNOWNTOKENINREF used in sugoroku (different from current sugoroku, close to western backgammon), which was popular way of gambling at that time, with spots on the dice selecting winners / losers; and 3. UNKNOWNTOKENINREF (monk soldiers from Mt. Hie Enryaku-ji Temple), which show that SHIRAKAWA had absolute control apart from these three things.\n",
            "\n",
            "epoch 005 | valid on 'valid' subset: 100% 13/13 [00:15<00:00,  1.24s/it]\u001b[A\n",
            "                                                                        \u001b[A2021-07-21 04:02:18 | INFO | valid | epoch 005 | valid on 'valid' subset | loss 6.064 | nll_loss 4.552 | ppl 23.47 | bleu 13.88 | wps 1652.8 | wpb 1959.6 | bsz 89.7 | num_updates 17995 | best_bleu 13.88\n",
            "2021-07-21 04:02:18 | INFO | fairseq_cli.train | begin save checkpoint\n",
            "2021-07-21 04:02:50 | INFO | fairseq.checkpoint_utils | saved checkpoint checkpoints/kftt-search.ja-en/lr_5e-3/checkpoint5.pt (epoch 5 @ 17995 updates, score 13.88) (writing took 31.73295990400038 seconds)\n",
            "2021-07-21 04:02:50 | INFO | fairseq_cli.train | end of epoch 5 (average epoch stats below)\n",
            "2021-07-21 04:02:50 | INFO | train | epoch 005 | loss 6.162 | nll_loss 4.68 | ppl 25.64 | wps 8934.5 | ups 2.68 | wpb 3329.2 | bsz 122.3 | num_updates 17995 | lr 0.00235735 | gnorm 0.32 | train_wall 1290 | wall 6682\n",
            "2021-07-21 04:02:50 | INFO | fairseq_cli.train | done training in 6681.3 seconds\n"
          ],
          "name": "stdout"
        }
      ]
    },
    {
      "cell_type": "code",
      "metadata": {
        "id": "2CH1rXzOTPUX",
        "colab": {
          "base_uri": "https://localhost:8080/"
        },
        "outputId": "36a1ed88-6ae5-413c-e3f9-9566ed92b5de"
      },
      "source": [
        "#翻訳\n",
        "!mkdir 97\n",
        "!fairseq-interactive data91 \\\n",
        "    --path checkpoints/kftt-search.ja-en/lr_5e-3/checkpoint_best.pt \\\n",
        "    < kftt-data-1.0/data/tok/kyoto-test.ja \\\n",
        "    | grep '^H' | cut -f3 > 97/5e-3.out"
      ],
      "execution_count": 32,
      "outputs": [
        {
          "output_type": "stream",
          "text": [
            "mkdir: cannot create directory ‘97’: File exists\n",
            "/usr/local/lib/python3.7/dist-packages/torch/_tensor.py:575: UserWarning: floor_divide is deprecated, and will be removed in a future version of pytorch. It currently rounds toward 0 (like the 'trunc' function NOT 'floor'). This results in incorrect rounding for negative values.\n",
            "To keep the current behavior, use torch.div(a, b, rounding_mode='trunc'), or for actual floor division, use torch.div(a, b, rounding_mode='floor'). (Triggered internally at  /pytorch/aten/src/ATen/native/BinaryOps.cpp:467.)\n",
            "  return torch.floor_divide(self, other)\n"
          ],
          "name": "stdout"
        }
      ]
    },
    {
      "cell_type": "code",
      "metadata": {
        "id": "LIb66MTCTRKN",
        "colab": {
          "base_uri": "https://localhost:8080/"
        },
        "outputId": "5351f40b-5ee7-4e95-e431-88d2c31c8485"
      },
      "source": [
        "#評価 \n",
        "!fairseq-score --sys 97/5e-3.out --ref kftt-data-1.0/data/tok/kyoto-test.en\n"
      ],
      "execution_count": 37,
      "outputs": [
        {
          "output_type": "stream",
          "text": [
            "Namespace(ignore_case=False, order=4, ref='kftt-data-1.0/data/tok/kyoto-test.en', sacrebleu=False, sentence_bleu=False, sys='97/5e-3.out')\n",
            "BLEU4 = 15.54, 46.5/20.9/11.3/6.6 (BP=0.948, ratio=0.950, syslen=25390, reflen=26734)\n"
          ],
          "name": "stdout"
        }
      ]
    },
    {
      "cell_type": "code",
      "metadata": {
        "id": "EtzYh5jE1c8F"
      },
      "source": [
        ""
      ],
      "execution_count": null,
      "outputs": []
    }
  ]
}