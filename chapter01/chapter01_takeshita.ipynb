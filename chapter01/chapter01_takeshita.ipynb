{
  "nbformat": 4,
  "nbformat_minor": 0,
  "metadata": {
    "colab": {
      "name": "100excecise_00-09.ipynb",
      "provenance": []
    },
    "kernelspec": {
      "name": "python3",
      "display_name": "Python 3"
    }
  },
  "cells": [
    {
      "cell_type": "markdown",
      "metadata": {
        "id": "_1k1NonF80kG"
      },
      "source": [
        "# 00.文字列の逆順\n",
        "\n",
        "文字列”stressed”の文字を逆に（末尾から先頭に向かって）並べた文字列を得よ．"
      ]
    },
    {
      "cell_type": "code",
      "metadata": {
        "id": "9m70LDdSOoLG",
        "colab": {
          "base_uri": "https://localhost:8080/",
          "height": 35
        },
        "outputId": "98a4f366-e461-48c1-f6f9-feb6a8fea4aa"
      },
      "source": [
        "lit = 'stressed'\n",
        "lit[::-1]"
      ],
      "execution_count": 2,
      "outputs": [
        {
          "output_type": "execute_result",
          "data": {
            "application/vnd.google.colaboratory.intrinsic+json": {
              "type": "string"
            },
            "text/plain": [
              "'desserts'"
            ]
          },
          "metadata": {
            "tags": []
          },
          "execution_count": 2
        }
      ]
    },
    {
      "cell_type": "markdown",
      "metadata": {
        "id": "0gO6zH-x8-7V"
      },
      "source": [
        "# 01. 「パタトクカシーー」\n",
        "「パタトクカシーー」という文字列の1,3,5,7文字目を取り出して連結した文字列を得よ．"
      ]
    },
    {
      "cell_type": "code",
      "metadata": {
        "id": "8y118Jh3OwgO",
        "colab": {
          "base_uri": "https://localhost:8080/",
          "height": 35
        },
        "outputId": "bc3a8458-b4de-421b-e75a-6555ff4fc70c"
      },
      "source": [
        "pat = 'パタトクカシーー'\n",
        "pat[::2]"
      ],
      "execution_count": 3,
      "outputs": [
        {
          "output_type": "execute_result",
          "data": {
            "application/vnd.google.colaboratory.intrinsic+json": {
              "type": "string"
            },
            "text/plain": [
              "'パトカー'"
            ]
          },
          "metadata": {
            "tags": []
          },
          "execution_count": 3
        }
      ]
    },
    {
      "cell_type": "markdown",
      "metadata": {
        "id": "ASi_VfwO9B-t"
      },
      "source": [
        "# 02. 「パトカー」＋「タクシー」＝「パタトクカシーー」\n",
        "「パトカー」＋「タクシー」の文字を先頭から交互に連結して文字列「パタトクカシーー」を得よ．"
      ]
    },
    {
      "cell_type": "code",
      "metadata": {
        "id": "YWm6LQ-5O2Zi",
        "colab": {
          "base_uri": "https://localhost:8080/",
          "height": 35
        },
        "outputId": "636e7f0f-43e9-4857-c22e-520886478df0"
      },
      "source": [
        "pa = 'パトカー'\n",
        "ta = 'タクシー'\n",
        "''.join([a+b for a,b in zip(pa,ta)])"
      ],
      "execution_count": 4,
      "outputs": [
        {
          "output_type": "execute_result",
          "data": {
            "application/vnd.google.colaboratory.intrinsic+json": {
              "type": "string"
            },
            "text/plain": [
              "'パタトクカシーー'"
            ]
          },
          "metadata": {
            "tags": []
          },
          "execution_count": 4
        }
      ]
    },
    {
      "cell_type": "markdown",
      "metadata": {
        "id": "gya-EXMR9Ep2"
      },
      "source": [
        "# 03. 円周率\n",
        "“Now I need a drink, alcoholic of course, after the heavy lectures involving quantum mechanics.”という文を単語に分解し，各単語の（アルファベットの）文字数を先頭から出現順に並べたリストを作成せよ．"
      ]
    },
    {
      "cell_type": "code",
      "metadata": {
        "id": "vCjGcmyOPJ3L",
        "colab": {
          "base_uri": "https://localhost:8080/"
        },
        "outputId": "48b66fb4-0f73-4f8c-d434-1256e773b2a5"
      },
      "source": [
        "en = 'Now I need a drink, alcoholic of course, after the heavy lectures involving quantum mechanics.'\n",
        "[len(word.strip(',')) for word in en.split()]"
      ],
      "execution_count": 5,
      "outputs": [
        {
          "output_type": "execute_result",
          "data": {
            "text/plain": [
              "[3, 1, 4, 1, 5, 9, 2, 6, 5, 3, 5, 8, 9, 7, 10]"
            ]
          },
          "metadata": {
            "tags": []
          },
          "execution_count": 5
        }
      ]
    },
    {
      "cell_type": "markdown",
      "metadata": {
        "id": "GJHwxVHO9ITu"
      },
      "source": [
        "# 04. 元素記号\n",
        "“Hi He Lied Because Boron Could Not Oxidize Fluorine. New Nations Might Also Sign Peace Security Clause. Arthur King Can.”という文を単語に分解し，1, 5, 6, 7, 8, 9, 15, 16, 19番目の単語は先頭の1文字，それ以外の単語は先頭の2文字を取り出し，取り出した文字列から単語の位置（先頭から何番目の単語か）への連想配列（辞書型もしくはマップ型）を作成せよ．"
      ]
    },
    {
      "cell_type": "code",
      "metadata": {
        "id": "R57E50CiPPp2",
        "colab": {
          "base_uri": "https://localhost:8080/"
        },
        "outputId": "50d6e959-1b7c-41d2-db8e-a300ea792b70"
      },
      "source": [
        "genso = 'Hi He Lied Because Boron Could Not Oxidize Fluorine. New Nations Might Also Sign Peace Security Clause. Arthur King Can.'\n",
        "one = [1, 5, 6, 7, 8, 9, 15, 16, 19]\n",
        "\n",
        "gensohyo = dict()\n",
        "\n",
        "for i, gen in enumerate(genso.split()):\n",
        "  if i+1 in one:\n",
        "    print(gen[:1])\n",
        "    gensohyo[gen[:1]] = i+1\n",
        "  else:\n",
        "    print(gen[:2])\n",
        "    gensohyo[gen[:2]] = i+1\n",
        "gensohyo"
      ],
      "execution_count": 6,
      "outputs": [
        {
          "output_type": "stream",
          "text": [
            "H\n",
            "He\n",
            "Li\n",
            "Be\n",
            "B\n",
            "C\n",
            "N\n",
            "O\n",
            "F\n",
            "Ne\n",
            "Na\n",
            "Mi\n",
            "Al\n",
            "Si\n",
            "P\n",
            "S\n",
            "Cl\n",
            "Ar\n",
            "K\n",
            "Ca\n"
          ],
          "name": "stdout"
        },
        {
          "output_type": "execute_result",
          "data": {
            "text/plain": [
              "{'Al': 13,\n",
              " 'Ar': 18,\n",
              " 'B': 5,\n",
              " 'Be': 4,\n",
              " 'C': 6,\n",
              " 'Ca': 20,\n",
              " 'Cl': 17,\n",
              " 'F': 9,\n",
              " 'H': 1,\n",
              " 'He': 2,\n",
              " 'K': 19,\n",
              " 'Li': 3,\n",
              " 'Mi': 12,\n",
              " 'N': 7,\n",
              " 'Na': 11,\n",
              " 'Ne': 10,\n",
              " 'O': 8,\n",
              " 'P': 15,\n",
              " 'S': 16,\n",
              " 'Si': 14}"
            ]
          },
          "metadata": {
            "tags": []
          },
          "execution_count": 6
        }
      ]
    },
    {
      "cell_type": "markdown",
      "metadata": {
        "id": "lqVSupiO9NVJ"
      },
      "source": [
        "# 05. n-gram\n",
        "与えられたシーケンス（文字列やリストなど）からn-gramを作る関数を作成せよ．この関数を用い，”I am an NLPer”という文から単語bi-gram，文字bi-gramを得よ．"
      ]
    },
    {
      "cell_type": "code",
      "metadata": {
        "id": "r9DXn5TIPzhg",
        "colab": {
          "base_uri": "https://localhost:8080/"
        },
        "outputId": "73daee11-d62d-4364-acc4-0060cfc10dad"
      },
      "source": [
        "def word_ngram(sentence,n):\n",
        "  sentence = sentence.split()\n",
        "  return set([tuple(sentence[i:i+n]) for i in range(len(sentence)-n+1)])\n",
        "\n",
        "def char_ngram(sentence,n,blank=False):\n",
        "  if blank:\n",
        "    sentence=''.join(sentence.split())\n",
        "  return set([tuple(sentence[i:i+n]) for i in range(len(sentence)-n+1)])\n",
        "\n",
        "sen = \"I am an NLPer\"\n",
        "print(word_ngram(sen,2))\n",
        "print()\n",
        "print(char_ngram(sen,2))\n",
        "print()\n",
        "print(char_ngram(sen,2,True))"
      ],
      "execution_count": 7,
      "outputs": [
        {
          "output_type": "stream",
          "text": [
            "{('an', 'NLPer'), ('am', 'an'), ('I', 'am')}\n",
            "\n",
            "{('n', ' '), ('N', 'L'), ('L', 'P'), ('e', 'r'), ('a', 'n'), ('a', 'm'), ('I', ' '), ('m', ' '), (' ', 'N'), (' ', 'a'), ('P', 'e')}\n",
            "\n",
            "{('N', 'L'), ('L', 'P'), ('e', 'r'), ('a', 'n'), ('I', 'a'), ('m', 'a'), ('a', 'm'), ('P', 'e'), ('n', 'N')}\n"
          ],
          "name": "stdout"
        }
      ]
    },
    {
      "cell_type": "markdown",
      "metadata": {
        "id": "jdOZs6OQ9QOk"
      },
      "source": [
        "# 06. 集合\n",
        "“paraparaparadise”と”paragraph”に含まれる文字bi-gramの集合を，それぞれ, XとYとして求め，XとYの和集合，積集合，差集合を求めよ．さらに，’se’というbi-gramがXおよびYに含まれるかどうかを調べよ．"
      ]
    },
    {
      "cell_type": "code",
      "metadata": {
        "id": "1LIkrQ4bQiAY",
        "colab": {
          "base_uri": "https://localhost:8080/"
        },
        "outputId": "27117418-3f2b-4cda-e4e2-ea5ef62668f7"
      },
      "source": [
        "para1 = 'paraparaparadise'\n",
        "para2 = 'paragraph'\n",
        "X = char_ngram(para1,2)\n",
        "Y = char_ngram(para2,2)\n",
        "print('X: ',end='')\n",
        "print(X)\n",
        "print('Y: ',end='')\n",
        "print(Y)\n",
        "print('XとYの和集合: ',end='')\n",
        "print(X|Y)\n",
        "print('XとYの積集合: ',end='')\n",
        "print(X&Y)\n",
        "print('X-Yの差集合: ',end='')\n",
        "print(X-Y)\n",
        "print('Y-Xの差集合: ',end='')\n",
        "print(Y-X)\n",
        "print(\"'se'はXおよびYに含まれるか？\")\n",
        "('s','e') in X, ('s','e') in Y"
      ],
      "execution_count": 8,
      "outputs": [
        {
          "output_type": "stream",
          "text": [
            "X: {('a', 'd'), ('r', 'a'), ('a', 'p'), ('i', 's'), ('p', 'a'), ('d', 'i'), ('a', 'r'), ('s', 'e')}\n",
            "Y: {('r', 'a'), ('a', 'p'), ('a', 'g'), ('p', 'h'), ('p', 'a'), ('g', 'r'), ('a', 'r')}\n",
            "XとYの和集合: {('a', 'd'), ('r', 'a'), ('a', 'p'), ('i', 's'), ('a', 'g'), ('p', 'h'), ('p', 'a'), ('d', 'i'), ('g', 'r'), ('a', 'r'), ('s', 'e')}\n",
            "XとYの積集合: {('r', 'a'), ('a', 'p'), ('p', 'a'), ('a', 'r')}\n",
            "X-Yの差集合: {('a', 'd'), ('s', 'e'), ('i', 's'), ('d', 'i')}\n",
            "Y-Xの差集合: {('a', 'g'), ('g', 'r'), ('p', 'h')}\n",
            "'se'はXおよびYに含まれるか？\n"
          ],
          "name": "stdout"
        },
        {
          "output_type": "execute_result",
          "data": {
            "text/plain": [
              "(True, False)"
            ]
          },
          "metadata": {
            "tags": []
          },
          "execution_count": 8
        }
      ]
    },
    {
      "cell_type": "markdown",
      "metadata": {
        "id": "3WyVah5l9767"
      },
      "source": [
        "# 07. テンプレートによる文生成Permalink\n",
        "引数x, y, zを受け取り「x時のyはz」という文字列を返す関数を実装せよ．さらに，x=12, y=”気温”, z=22.4として，実行結果を確認せよ．"
      ]
    },
    {
      "cell_type": "code",
      "metadata": {
        "id": "Xxz_IKrsRTHT",
        "colab": {
          "base_uri": "https://localhost:8080/",
          "height": 35
        },
        "outputId": "d5587959-7376-487a-a98c-6527340602eb"
      },
      "source": [
        "def temp_generate(x,y,z):\n",
        "  return str(x)+'時の'+str(y)+'は'+str(z)\n",
        "temp_generate(12,\"気温\",22.4)"
      ],
      "execution_count": 9,
      "outputs": [
        {
          "output_type": "execute_result",
          "data": {
            "application/vnd.google.colaboratory.intrinsic+json": {
              "type": "string"
            },
            "text/plain": [
              "'12時の気温は22.4'"
            ]
          },
          "metadata": {
            "tags": []
          },
          "execution_count": 9
        }
      ]
    },
    {
      "cell_type": "markdown",
      "metadata": {
        "id": "GUgTwVMQ99jv"
      },
      "source": [
        "# 08. 暗号文\n",
        "与えられた文字列の各文字を，以下の仕様で変換する関数cipherを実装せよ．\n",
        "\n",
        "- 英小文字ならば(219 - 文字コード)の文字に置換\n",
        "- その他の文字はそのまま出力\n",
        "\n",
        "この関数を用い，英語のメッセージを暗号化・復号化せよ．"
      ]
    },
    {
      "cell_type": "code",
      "metadata": {
        "id": "V8IVP_4sRm01",
        "colab": {
          "base_uri": "https://localhost:8080/"
        },
        "outputId": "6b5e21bb-454a-4f84-fd75-db8bd0e8ab9b"
      },
      "source": [
        "def cipher(sentence):\n",
        "  return_sen = ''\n",
        "  for char in sentence:\n",
        "    if ord(char)<97 or ord(char)>122:\n",
        "      return_sen+=char\n",
        "    else:\n",
        "      return_sen+= chr(219-ord(char))\n",
        "  return return_sen\n",
        "cipher('hello'),cipher(cipher('hello'))"
      ],
      "execution_count": 10,
      "outputs": [
        {
          "output_type": "execute_result",
          "data": {
            "text/plain": [
              "('svool', 'hello')"
            ]
          },
          "metadata": {
            "tags": []
          },
          "execution_count": 10
        }
      ]
    },
    {
      "cell_type": "markdown",
      "metadata": {
        "id": "sVZCuky0-IjH"
      },
      "source": [
        "# 09. Typoglycemia\n",
        "スペースで区切られた単語列に対して，各単語の先頭と末尾の文字は残し，それ以外の文字の順序をランダムに並び替えるプログラムを作成せよ．ただし，長さが４以下の単語は並び替えないこととする．適当な英語の文（例えば”I couldn’t believe that I could actually understand what I was reading : the phenomenal power of the human mind .”）を与え，その実行結果を確認せよ．"
      ]
    },
    {
      "cell_type": "code",
      "metadata": {
        "id": "OlF3dbGDSzQ1",
        "colab": {
          "base_uri": "https://localhost:8080/",
          "height": 35
        },
        "outputId": "8ad3cf26-28ae-4cd2-f672-a9b17508532e"
      },
      "source": [
        "import random\n",
        "\n",
        "def typoglycemia(sentence):\n",
        "  sentence = sentence.split()\n",
        "  return_sen = []\n",
        "  for word in sentence:\n",
        "    if len(word)<=4:\n",
        "      return_sen.append(word)\n",
        "    else:\n",
        "      return_sen.append(word[0]+''.join(random.sample(word[1:-1],len(word[1:-1])))+word[-1])\n",
        "  return ' '.join(return_sen)\n",
        "typoglycemia('I couldn’t believe that I could actually understand what I was reading : the phenomenal power of the human mind .')"
      ],
      "execution_count": 11,
      "outputs": [
        {
          "output_type": "execute_result",
          "data": {
            "application/vnd.google.colaboratory.intrinsic+json": {
              "type": "string"
            },
            "text/plain": [
              "'I cnou’ldt bvleeie that I cuold aclltauy udearsntnd what I was reaidng : the pahenmoenl power of the huamn mind .'"
            ]
          },
          "metadata": {
            "tags": []
          },
          "execution_count": 11
        }
      ]
    }
  ]
}