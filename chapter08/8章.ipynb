{
  "nbformat": 4,
  "nbformat_minor": 0,
  "metadata": {
    "colab": {
      "name": "8章.ipynb",
      "provenance": []
    },
    "kernelspec": {
      "name": "python3",
      "display_name": "Python 3"
    },
    "language_info": {
      "name": "python"
    },
    "accelerator": "GPU"
  },
  "cells": [
    {
      "cell_type": "markdown",
      "metadata": {
        "id": "JyEMggDeQ3oE"
      },
      "source": [
        "70"
      ]
    },
    {
      "cell_type": "code",
      "metadata": {
        "colab": {
          "base_uri": "https://localhost:8080/"
        },
        "id": "MWw2ZNc2Qiq9",
        "outputId": "2e698663-c3a1-4750-acfa-5002b9f44c59"
      },
      "source": [
        "# データのダウンロード\n",
        "!wget https://archive.ics.uci.edu/ml/machine-learning-databases/00359/NewsAggregatorDataset.zip\n",
        "!unzip NewsAggregatorDataset.zip\n",
        "# 読込時のエラー回避のためダブルクォーテーションをシングルクォーテーションに置換\n",
        "!sed -e 's/\"/'\\''/g' ./newsCorpora.csv > ./newsCorpora_re.csv\n",
        "\n",
        "import pandas as pd\n",
        "from sklearn.model_selection import train_test_split\n",
        "\n",
        "# データの読込\n",
        "df = pd.read_csv('./newsCorpora_re.csv', header=None, sep='\\t', names=['ID', 'TITLE', 'URL', 'PUBLISHER', 'CATEGORY', 'STORY', 'HOSTNAME', 'TIMESTAMP'])\n",
        "\n",
        "# データの抽出\n",
        "df = df.loc[df['PUBLISHER'].isin(['Reuters', 'Huffington Post', 'Businessweek', 'Contactmusic.com', 'Daily Mail']), ['TITLE', 'CATEGORY']]\n",
        "\n",
        "# データの分割\n",
        "train, valid_test = train_test_split(df, test_size=0.2, shuffle=True, random_state=123, stratify=df['CATEGORY'])\n",
        "valid, test = train_test_split(valid_test, test_size=0.5, shuffle=True, random_state=123, stratify=valid_test['CATEGORY'])\n",
        "\n",
        "# 事例数の確認\n",
        "print('【学習データ】')\n",
        "print(train['CATEGORY'].value_counts())\n",
        "print('【検証データ】')\n",
        "print(valid['CATEGORY'].value_counts())\n",
        "print('【評価データ】')\n",
        "print(test['CATEGORY'].value_counts())"
      ],
      "execution_count": 1,
      "outputs": [
        {
          "output_type": "stream",
          "text": [
            "--2021-06-29 19:51:27--  https://archive.ics.uci.edu/ml/machine-learning-databases/00359/NewsAggregatorDataset.zip\n",
            "Resolving archive.ics.uci.edu (archive.ics.uci.edu)... 128.195.10.252\n",
            "Connecting to archive.ics.uci.edu (archive.ics.uci.edu)|128.195.10.252|:443... connected.\n",
            "HTTP request sent, awaiting response... 200 OK\n",
            "Length: 29224203 (28M) [application/x-httpd-php]\n",
            "Saving to: ‘NewsAggregatorDataset.zip’\n",
            "\n",
            "NewsAggregatorDatas 100%[===================>]  27.87M  25.5MB/s    in 1.1s    \n",
            "\n",
            "2021-06-29 19:51:29 (25.5 MB/s) - ‘NewsAggregatorDataset.zip’ saved [29224203/29224203]\n",
            "\n",
            "Archive:  NewsAggregatorDataset.zip\n",
            "  inflating: 2pageSessions.csv       \n",
            "   creating: __MACOSX/\n",
            "  inflating: __MACOSX/._2pageSessions.csv  \n",
            "  inflating: newsCorpora.csv         \n",
            "  inflating: __MACOSX/._newsCorpora.csv  \n",
            "  inflating: readme.txt              \n",
            "  inflating: __MACOSX/._readme.txt   \n",
            "【学習データ】\n",
            "b    4501\n",
            "e    4235\n",
            "t    1220\n",
            "m     728\n",
            "Name: CATEGORY, dtype: int64\n",
            "【検証データ】\n",
            "b    563\n",
            "e    529\n",
            "t    153\n",
            "m     91\n",
            "Name: CATEGORY, dtype: int64\n",
            "【評価データ】\n",
            "b    563\n",
            "e    530\n",
            "t    152\n",
            "m     91\n",
            "Name: CATEGORY, dtype: int64\n"
          ],
          "name": "stdout"
        }
      ]
    },
    {
      "cell_type": "code",
      "metadata": {
        "id": "zpjIRqDrQ0Da"
      },
      "source": [
        "import gdown\n",
        "from gensim.models import KeyedVectors\n",
        "\n",
        "# 学習済み単語ベクトルのダウンロード\n",
        "url = \"https://drive.google.com/uc?id=0B7XkCwpI5KDYNlNUTTlSS21pQmM\"\n",
        "output = 'GoogleNews-vectors-negative300.bin.gz'\n",
        "gdown.download(url, output, quiet=True)\n",
        "\n",
        "# ダウンロードファイルのロード\n",
        "model = KeyedVectors.load_word2vec_format('GoogleNews-vectors-negative300.bin.gz', binary=True)"
      ],
      "execution_count": 2,
      "outputs": []
    },
    {
      "cell_type": "code",
      "metadata": {
        "colab": {
          "base_uri": "https://localhost:8080/"
        },
        "id": "k5mzcppPQ79N",
        "outputId": "40921d5d-08b8-4793-f17a-c9a78b9bfa00"
      },
      "source": [
        "import string\n",
        "import torch\n",
        "\n",
        "def transform_w2v(text):\n",
        "  table = str.maketrans(string.punctuation, ' '*len(string.punctuation))\n",
        "  words = text.translate(table).split()  # 記号をスペースに置換後、スペースで分割してリスト化\n",
        "  vec = [model[word] for word in words if word in model]  # 1語ずつベクトル化\n",
        "\n",
        "  return torch.tensor(sum(vec) / len(vec))  # 平均ベクトルをTensor型に変換して出力\n",
        "# 特徴ベクトルの作成\n",
        "X_train = torch.stack([transform_w2v(text) for text in train['TITLE']])\n",
        "X_valid = torch.stack([transform_w2v(text) for text in valid['TITLE']])\n",
        "X_test = torch.stack([transform_w2v(text) for text in test['TITLE']])\n",
        "\n",
        "print(X_train.size())\n",
        "print(X_train)"
      ],
      "execution_count": 3,
      "outputs": [
        {
          "output_type": "stream",
          "text": [
            "torch.Size([10684, 300])\n",
            "tensor([[ 0.0837,  0.0056,  0.0068,  ...,  0.0751,  0.0433, -0.0868],\n",
            "        [ 0.0272,  0.0266, -0.0947,  ..., -0.1046, -0.0489, -0.0092],\n",
            "        [ 0.0577, -0.0159, -0.0780,  ..., -0.0421,  0.1229,  0.0876],\n",
            "        ...,\n",
            "        [ 0.0392, -0.0052,  0.0686,  ..., -0.0175,  0.0061, -0.0224],\n",
            "        [ 0.0798,  0.1017,  0.1066,  ..., -0.0752,  0.0623,  0.1138],\n",
            "        [ 0.1664,  0.0451,  0.0508,  ..., -0.0531, -0.0183, -0.0039]])\n"
          ],
          "name": "stdout"
        }
      ]
    },
    {
      "cell_type": "code",
      "metadata": {
        "colab": {
          "base_uri": "https://localhost:8080/"
        },
        "id": "8BJ1wOtIRC6E",
        "outputId": "fac40eef-b7c3-48ec-bd76-a621fbaeed3f"
      },
      "source": [
        "# ラベルベクトルの作成\n",
        "category_dict = {'b': 0, 't': 1, 'e':2, 'm':3}\n",
        "y_train = torch.tensor(train['CATEGORY'].map(lambda x: category_dict[x]).values)\n",
        "y_valid = torch.tensor(valid['CATEGORY'].map(lambda x: category_dict[x]).values)\n",
        "y_test = torch.tensor(test['CATEGORY'].map(lambda x: category_dict[x]).values)\n",
        "\n",
        "print(y_train.size())\n",
        "print(y_train)\n"
      ],
      "execution_count": 4,
      "outputs": [
        {
          "output_type": "stream",
          "text": [
            "torch.Size([10684])\n",
            "tensor([0, 1, 3,  ..., 0, 3, 2])\n"
          ],
          "name": "stdout"
        }
      ]
    },
    {
      "cell_type": "code",
      "metadata": {
        "id": "SYbibdWFRFDe"
      },
      "source": [
        "# 保存\n",
        "torch.save(X_train, 'X_train.pt')\n",
        "torch.save(X_valid, 'X_valid.pt')\n",
        "torch.save(X_test, 'X_test.pt')\n",
        "torch.save(y_train, 'y_train.pt')\n",
        "torch.save(y_valid, 'y_valid.pt')\n",
        "torch.save(y_test, 'y_test.pt')"
      ],
      "execution_count": 5,
      "outputs": []
    },
    {
      "cell_type": "markdown",
      "metadata": {
        "id": "8lHXaib8Q5Wq"
      },
      "source": [
        "71"
      ]
    },
    {
      "cell_type": "code",
      "metadata": {
        "id": "UYtBsNSSRGLY"
      },
      "source": [
        "from torch import nn\n",
        "\n",
        "class SLPNet(nn.Module):\n",
        "  def __init__(self, input_size, output_size):\n",
        "    super().__init__()\n",
        "    self.fc = nn.Linear(input_size, output_size, bias=False)\n",
        "    nn.init.normal_(self.fc.weight, 0.0, 1.0)  # 正規乱数で重みを初期化\n",
        "\n",
        "  def forward(self, x):\n",
        "    x = self.fc(x)\n",
        "    return x"
      ],
      "execution_count": 6,
      "outputs": []
    },
    {
      "cell_type": "code",
      "metadata": {
        "colab": {
          "base_uri": "https://localhost:8080/"
        },
        "id": "zjxYptydRKLh",
        "outputId": "a4f07371-0e6d-4002-efe0-3bdff18c9a53"
      },
      "source": [
        "model = SLPNet(300, 4)  # 単層ニューラルネットワークの初期化\n",
        "y_hat_1 = torch.softmax(model(X_train[:1]), dim=-1)\n",
        "print(y_hat_1)\n",
        "Y_hat = torch.softmax(model.forward(X_train[:4]), dim=-1)\n",
        "print(Y_hat)"
      ],
      "execution_count": 7,
      "outputs": [
        {
          "output_type": "stream",
          "text": [
            "tensor([[0.2814, 0.0521, 0.2356, 0.4309]], grad_fn=<SoftmaxBackward>)\n",
            "tensor([[0.2814, 0.0521, 0.2356, 0.4309],\n",
            "        [0.0966, 0.0517, 0.6682, 0.1836],\n",
            "        [0.4605, 0.2003, 0.1484, 0.1908],\n",
            "        [0.0697, 0.6554, 0.1816, 0.0933]], grad_fn=<SoftmaxBackward>)\n"
          ],
          "name": "stdout"
        }
      ]
    },
    {
      "cell_type": "markdown",
      "metadata": {
        "id": "z6rGyR-4RLXV"
      },
      "source": [
        "72"
      ]
    },
    {
      "cell_type": "code",
      "metadata": {
        "colab": {
          "base_uri": "https://localhost:8080/"
        },
        "id": "-iD6CJ1JRK3f",
        "outputId": "386a07dc-39e8-456a-e9ff-29899af2bd74"
      },
      "source": [
        "criterion = nn.CrossEntropyLoss()\n",
        "\n",
        "l_1 = criterion(model(X_train[:1]), y_train[:1])  # 入力ベクトルはsoftmax前の値\n",
        "model.zero_grad()  # 勾配をゼロで初期化\n",
        "l_1.backward()  # 勾配を計算\n",
        "print(f'損失: {l_1:.4f}')\n",
        "print(f'勾配:\\n{model.fc.weight.grad}')"
      ],
      "execution_count": 8,
      "outputs": [
        {
          "output_type": "stream",
          "text": [
            "損失: 1.2681\n",
            "勾配:\n",
            "tensor([[-0.0601, -0.0040, -0.0049,  ..., -0.0540, -0.0311,  0.0624],\n",
            "        [ 0.0044,  0.0003,  0.0004,  ...,  0.0039,  0.0023, -0.0045],\n",
            "        [ 0.0197,  0.0013,  0.0016,  ...,  0.0177,  0.0102, -0.0205],\n",
            "        [ 0.0361,  0.0024,  0.0029,  ...,  0.0324,  0.0187, -0.0374]])\n"
          ],
          "name": "stdout"
        }
      ]
    },
    {
      "cell_type": "code",
      "metadata": {
        "colab": {
          "base_uri": "https://localhost:8080/"
        },
        "id": "k8rjlW89ROhz",
        "outputId": "b669385b-111f-4d29-ccb8-f81dc98e8c4e"
      },
      "source": [
        "l = criterion(model(X_train[:4]), y_train[:4])\n",
        "model.zero_grad()\n",
        "l.backward()\n",
        "print(f'損失: {l:.4f}')\n",
        "print(f'勾配:\\n{model.fc.weight.grad}')"
      ],
      "execution_count": 14,
      "outputs": [
        {
          "output_type": "stream",
          "text": [
            "損失: 2.9437\n",
            "勾配:\n",
            "tensor([[-0.0233,  0.0011,  0.0013,  ..., -0.0193, -0.0085,  0.0205],\n",
            "        [-0.0043, -0.0017,  0.0268,  ...,  0.0280,  0.0205, -0.0043],\n",
            "        [ 0.0363, -0.0114, -0.0299,  ...,  0.0023,  0.0252,  0.0099],\n",
            "        [-0.0088,  0.0119,  0.0018,  ..., -0.0109, -0.0372, -0.0261]])\n"
          ],
          "name": "stdout"
        }
      ]
    },
    {
      "cell_type": "markdown",
      "metadata": {
        "id": "0YIZ7yZNRSlQ"
      },
      "source": [
        "73"
      ]
    },
    {
      "cell_type": "code",
      "metadata": {
        "id": "DGXWoxSZRStz"
      },
      "source": [
        "from torch.utils.data import Dataset\n",
        "\n",
        "class NewsDataset(Dataset):\n",
        "  def __init__(self, X, y):  # datasetの構成要素を指定\n",
        "    self.X = X\n",
        "    self.y = y\n",
        "\n",
        "  def __len__(self):  # len(dataset)で返す値を指定\n",
        "    return len(self.y)\n",
        "\n",
        "  def __getitem__(self, idx):  # dataset[idx]で返す値を指定\n",
        "    return [self.X[idx], self.y[idx]]"
      ],
      "execution_count": 9,
      "outputs": []
    },
    {
      "cell_type": "code",
      "metadata": {
        "id": "tkghHoDXRWe7"
      },
      "source": [
        "from torch.utils.data import DataLoader\n",
        "\n",
        "# Datasetの作成\n",
        "dataset_train = NewsDataset(X_train, y_train)\n",
        "dataset_valid = NewsDataset(X_valid, y_valid)\n",
        "dataset_test = NewsDataset(X_test, y_test)\n",
        "\n",
        "# Dataloaderの作成\n",
        "dataloader_train = DataLoader(dataset_train, batch_size=1, shuffle=True)\n",
        "dataloader_valid = DataLoader(dataset_valid, batch_size=len(dataset_valid), shuffle=False)\n",
        "dataloader_test = DataLoader(dataset_test, batch_size=len(dataset_test), shuffle=False)"
      ],
      "execution_count": 10,
      "outputs": []
    },
    {
      "cell_type": "code",
      "metadata": {
        "colab": {
          "base_uri": "https://localhost:8080/"
        },
        "id": "2oS4SVk_RZdP",
        "outputId": "d23eb8cc-9d7b-42df-d795-e5084151cf0e"
      },
      "source": [
        "# モデルの定義\n",
        "model = SLPNet(300, 4)\n",
        "\n",
        "# 損失関数の定義\n",
        "criterion = nn.CrossEntropyLoss()\n",
        "\n",
        "# オプティマイザの定義\n",
        "optimizer = torch.optim.SGD(model.parameters(), lr=1e-1)\n",
        "\n",
        "# 学習\n",
        "num_epochs = 10\n",
        "for epoch in range(num_epochs):\n",
        "  # 訓練モードに設定\n",
        "  model.train()\n",
        "  loss_train = 0.0\n",
        "  for i, (inputs, labels) in enumerate(dataloader_train):\n",
        "    # 勾配をゼロで初期化\n",
        "    optimizer.zero_grad()\n",
        "\n",
        "    # 順伝播 + 誤差逆伝播 + 重み更新\n",
        "    outputs = model(inputs)\n",
        "    loss = criterion(outputs, labels)\n",
        "    loss.backward()\n",
        "    optimizer.step()\n",
        "\n",
        "    # 損失を記録\n",
        "    loss_train += loss.item()\n",
        "\n",
        "  # バッチ単位の平均損失計算\n",
        "  loss_train = loss_train / i\n",
        "\n",
        "  # 検証データの損失計算\n",
        "  model.eval() \n",
        "  with torch.no_grad():\n",
        "    inputs, labels = next(iter(dataloader_valid))\n",
        "    outputs = model(inputs)\n",
        "    loss_valid = criterion(outputs, labels)\n",
        "\n",
        "  # ログを出力\n",
        "  print(f'epoch: {epoch + 1}, loss_train: {loss_train:.4f}, loss_valid: {loss_valid:.4f}')  "
      ],
      "execution_count": 11,
      "outputs": [
        {
          "output_type": "stream",
          "text": [
            "epoch: 1, loss_train: 0.4722, loss_valid: 0.3684\n",
            "epoch: 2, loss_train: 0.3126, loss_valid: 0.3341\n",
            "epoch: 3, loss_train: 0.2825, loss_valid: 0.3170\n",
            "epoch: 4, loss_train: 0.2661, loss_valid: 0.3155\n",
            "epoch: 5, loss_train: 0.2560, loss_valid: 0.3100\n",
            "epoch: 6, loss_train: 0.2486, loss_valid: 0.3107\n",
            "epoch: 7, loss_train: 0.2432, loss_valid: 0.3101\n",
            "epoch: 8, loss_train: 0.2386, loss_valid: 0.3093\n",
            "epoch: 9, loss_train: 0.2358, loss_valid: 0.3102\n",
            "epoch: 10, loss_train: 0.2328, loss_valid: 0.3083\n"
          ],
          "name": "stdout"
        }
      ]
    },
    {
      "cell_type": "markdown",
      "metadata": {
        "id": "cRPokYe0RaW8"
      },
      "source": [
        "74"
      ]
    },
    {
      "cell_type": "code",
      "metadata": {
        "colab": {
          "base_uri": "https://localhost:8080/"
        },
        "id": "0yfAf5Y3Rc48",
        "outputId": "f38fa7a2-29a2-408c-f51a-0b8a2ef0dd1e"
      },
      "source": [
        "def calculate_accuracy(model, loader):\n",
        "  model.eval()\n",
        "  total = 0\n",
        "  correct = 0\n",
        "  with torch.no_grad():\n",
        "    for inputs, labels in loader:\n",
        "      outputs = model(inputs)\n",
        "      pred = torch.argmax(outputs, dim=-1)\n",
        "      total += len(inputs)\n",
        "      correct += (pred == labels).sum().item()\n",
        "\n",
        "  return correct / total\n",
        "acc_train = calculate_accuracy(model, dataloader_train)\n",
        "acc_test = calculate_accuracy(model, dataloader_test)\n",
        "print(f'正解率（学習データ）：{acc_train:.3f}')\n",
        "print(f'正解率（評価データ）：{acc_test:.3f}')"
      ],
      "execution_count": 12,
      "outputs": [
        {
          "output_type": "stream",
          "text": [
            "正解率（学習データ）：0.925\n",
            "正解率（評価データ）：0.905\n"
          ],
          "name": "stdout"
        }
      ]
    },
    {
      "cell_type": "markdown",
      "metadata": {
        "id": "HsU513uBSArw"
      },
      "source": [
        "75"
      ]
    },
    {
      "cell_type": "code",
      "metadata": {
        "colab": {
          "base_uri": "https://localhost:8080/"
        },
        "id": "yv0c_XeVRg-R",
        "outputId": "0fe13add-cc69-4c07-b03e-651e4fe6a34f"
      },
      "source": [
        "def calculate_loss_and_accuracy(model, criterion, loader):\n",
        "  model.eval()\n",
        "  loss = 0.0\n",
        "  total = 0\n",
        "  correct = 0\n",
        "  with torch.no_grad():\n",
        "    for inputs, labels in loader:\n",
        "      outputs = model(inputs)\n",
        "      loss += criterion(outputs, labels).item()\n",
        "      pred = torch.argmax(outputs, dim=-1)\n",
        "      total += len(inputs)\n",
        "      correct += (pred == labels).sum().item()\n",
        "\n",
        "  return loss / len(loader), correct / total\n",
        "# モデルの定義\n",
        "model = SLPNet(300, 4)\n",
        "\n",
        "# 損失関数の定義\n",
        "criterion = nn.CrossEntropyLoss()\n",
        "\n",
        "# オプティマイザの定義\n",
        "optimizer = torch.optim.SGD(model.parameters(), lr=1e-1)\n",
        "\n",
        "# 学習\n",
        "num_epochs = 30\n",
        "log_train = []\n",
        "log_valid = []\n",
        "for epoch in range(num_epochs):\n",
        "  # 訓練モードに設定\n",
        "  model.train()\n",
        "  for inputs, labels in dataloader_train:\n",
        "    # 勾配をゼロで初期化\n",
        "    optimizer.zero_grad()\n",
        "\n",
        "    # 順伝播 + 誤差逆伝播 + 重み更新\n",
        "    outputs = model(inputs)\n",
        "    loss = criterion(outputs, labels)\n",
        "    loss.backward()\n",
        "    optimizer.step()\n",
        "\n",
        "  # 損失と正解率の算出\n",
        "  loss_train, acc_train = calculate_loss_and_accuracy(model, criterion, dataloader_train)\n",
        "  loss_valid, acc_valid = calculate_loss_and_accuracy(model, criterion, dataloader_valid)\n",
        "  log_train.append([loss_train, acc_train])\n",
        "  log_valid.append([loss_valid, acc_valid])\n",
        "\n",
        "  # ログを出力\n",
        "  print(f'epoch: {epoch + 1}, loss_train: {loss_train:.4f}, accuracy_train: {acc_train:.4f}, loss_valid: {loss_valid:.4f}, accuracy_valid: {acc_valid:.4f}')  "
      ],
      "execution_count": 13,
      "outputs": [
        {
          "output_type": "stream",
          "text": [
            "epoch: 1, loss_train: 0.3255, accuracy_train: 0.8886, loss_valid: 0.3459, accuracy_valid: 0.8825\n",
            "epoch: 2, loss_train: 0.2852, accuracy_train: 0.9012, loss_valid: 0.3223, accuracy_valid: 0.8892\n",
            "epoch: 3, loss_train: 0.2673, accuracy_train: 0.9084, loss_valid: 0.3110, accuracy_valid: 0.8930\n",
            "epoch: 4, loss_train: 0.2532, accuracy_train: 0.9138, loss_valid: 0.3017, accuracy_valid: 0.8975\n",
            "epoch: 5, loss_train: 0.2440, accuracy_train: 0.9169, loss_valid: 0.3005, accuracy_valid: 0.8960\n",
            "epoch: 6, loss_train: 0.2386, accuracy_train: 0.9185, loss_valid: 0.3001, accuracy_valid: 0.8967\n",
            "epoch: 7, loss_train: 0.2388, accuracy_train: 0.9178, loss_valid: 0.3051, accuracy_valid: 0.8945\n",
            "epoch: 8, loss_train: 0.2319, accuracy_train: 0.9227, loss_valid: 0.2999, accuracy_valid: 0.8990\n",
            "epoch: 9, loss_train: 0.2267, accuracy_train: 0.9226, loss_valid: 0.2995, accuracy_valid: 0.9004\n",
            "epoch: 10, loss_train: 0.2249, accuracy_train: 0.9247, loss_valid: 0.3015, accuracy_valid: 0.9004\n",
            "epoch: 11, loss_train: 0.2255, accuracy_train: 0.9250, loss_valid: 0.3022, accuracy_valid: 0.8967\n",
            "epoch: 12, loss_train: 0.2199, accuracy_train: 0.9254, loss_valid: 0.3011, accuracy_valid: 0.8952\n",
            "epoch: 13, loss_train: 0.2201, accuracy_train: 0.9249, loss_valid: 0.3067, accuracy_valid: 0.8997\n",
            "epoch: 14, loss_train: 0.2209, accuracy_train: 0.9264, loss_valid: 0.3048, accuracy_valid: 0.8960\n",
            "epoch: 15, loss_train: 0.2154, accuracy_train: 0.9276, loss_valid: 0.3040, accuracy_valid: 0.8952\n",
            "epoch: 16, loss_train: 0.2146, accuracy_train: 0.9283, loss_valid: 0.3065, accuracy_valid: 0.8937\n",
            "epoch: 17, loss_train: 0.2149, accuracy_train: 0.9271, loss_valid: 0.3089, accuracy_valid: 0.8982\n",
            "epoch: 18, loss_train: 0.2127, accuracy_train: 0.9272, loss_valid: 0.3078, accuracy_valid: 0.8937\n",
            "epoch: 19, loss_train: 0.2127, accuracy_train: 0.9283, loss_valid: 0.3093, accuracy_valid: 0.8937\n",
            "epoch: 20, loss_train: 0.2108, accuracy_train: 0.9297, loss_valid: 0.3093, accuracy_valid: 0.8952\n",
            "epoch: 21, loss_train: 0.2113, accuracy_train: 0.9299, loss_valid: 0.3116, accuracy_valid: 0.8922\n",
            "epoch: 22, loss_train: 0.2104, accuracy_train: 0.9298, loss_valid: 0.3133, accuracy_valid: 0.8960\n",
            "epoch: 23, loss_train: 0.2109, accuracy_train: 0.9300, loss_valid: 0.3160, accuracy_valid: 0.8960\n",
            "epoch: 24, loss_train: 0.2094, accuracy_train: 0.9297, loss_valid: 0.3155, accuracy_valid: 0.8930\n",
            "epoch: 25, loss_train: 0.2097, accuracy_train: 0.9292, loss_valid: 0.3166, accuracy_valid: 0.8945\n",
            "epoch: 26, loss_train: 0.2084, accuracy_train: 0.9308, loss_valid: 0.3175, accuracy_valid: 0.8945\n",
            "epoch: 27, loss_train: 0.2087, accuracy_train: 0.9285, loss_valid: 0.3195, accuracy_valid: 0.8945\n",
            "epoch: 28, loss_train: 0.2123, accuracy_train: 0.9279, loss_valid: 0.3219, accuracy_valid: 0.8930\n",
            "epoch: 29, loss_train: 0.2071, accuracy_train: 0.9302, loss_valid: 0.3214, accuracy_valid: 0.8915\n",
            "epoch: 30, loss_train: 0.2064, accuracy_train: 0.9307, loss_valid: 0.3196, accuracy_valid: 0.8930\n"
          ],
          "name": "stdout"
        }
      ]
    },
    {
      "cell_type": "code",
      "metadata": {
        "colab": {
          "base_uri": "https://localhost:8080/",
          "height": 334
        },
        "id": "2ZbVll8QRme7",
        "outputId": "e5ef080b-d677-46f4-efac-075114939e91"
      },
      "source": [
        "from matplotlib import pyplot as plt\n",
        "import numpy as np\n",
        "# 視覚化\n",
        "fig, ax = plt.subplots(1, 2, figsize=(15, 5))\n",
        "ax[0].plot(np.array(log_train).T[0], label='train')\n",
        "ax[0].plot(np.array(log_valid).T[0], label='valid')\n",
        "ax[0].set_xlabel('epoch')\n",
        "ax[0].set_ylabel('loss')\n",
        "ax[0].legend()\n",
        "ax[1].plot(np.array(log_train).T[1], label='train')\n",
        "ax[1].plot(np.array(log_valid).T[1], label='valid')\n",
        "ax[1].set_xlabel('epoch')\n",
        "ax[1].set_ylabel('accuracy')\n",
        "ax[1].legend()\n",
        "plt.show()"
      ],
      "execution_count": 14,
      "outputs": [
        {
          "output_type": "display_data",
          "data": {
            "image/png": "[encoded data removed]",
            "text/plain": [
              "<Figure size 1080x360 with 2 Axes>"
            ]
          },
          "metadata": {
            "tags": [],
            "needs_background": "light"
          }
        }
      ]
    },
    {
      "cell_type": "markdown",
      "metadata": {
        "id": "AFHaeDDtSELY"
      },
      "source": [
        "76"
      ]
    },
    {
      "cell_type": "code",
      "metadata": {
        "colab": {
          "base_uri": "https://localhost:8080/"
        },
        "id": "dyH4cGEFSFES",
        "outputId": "9f58ec6e-c7b1-4eef-850a-f92470ede012"
      },
      "source": [
        "# モデルの定義\n",
        "model = SLPNet(300, 4)\n",
        "\n",
        "# 損失関数の定義\n",
        "criterion = nn.CrossEntropyLoss()\n",
        "\n",
        "# オプティマイザの定義\n",
        "optimizer = torch.optim.SGD(model.parameters(), lr=1e-1)\n",
        "\n",
        "# 学習\n",
        "num_epochs = 10\n",
        "log_train = []\n",
        "log_valid = []\n",
        "for epoch in range(num_epochs):\n",
        "  # 訓練モードに設定\n",
        "  model.train()\n",
        "  for inputs, labels in dataloader_train:\n",
        "    # 勾配をゼロで初期化\n",
        "    optimizer.zero_grad()\n",
        "\n",
        "    # 順伝播 + 誤差逆伝播 + 重み更新\n",
        "    outputs = model(inputs)\n",
        "    loss = criterion(outputs, labels)\n",
        "    loss.backward()\n",
        "    optimizer.step()\n",
        "\n",
        "  # 損失と正解率の算出\n",
        "  loss_train, acc_train = calculate_loss_and_accuracy(model, criterion, dataloader_train)\n",
        "  loss_valid, acc_valid = calculate_loss_and_accuracy(model, criterion, dataloader_valid)\n",
        "  log_train.append([loss_train, acc_train])\n",
        "  log_valid.append([loss_valid, acc_valid])\n",
        "\n",
        "  # チェックポイントの保存\n",
        "  torch.save({'epoch': epoch, 'model_state_dict': model.state_dict(), 'optimizer_state_dict': optimizer.state_dict()}, f'checkpoint{epoch + 1}.pt')\n",
        "\n",
        "  # ログを出力\n",
        "  print(f'epoch: {epoch + 1}, loss_train: {loss_train:.4f}, accuracy_train: {acc_train:.4f}, loss_valid: {loss_valid:.4f}, accuracy_valid: {acc_valid:.4f}')  "
      ],
      "execution_count": 15,
      "outputs": [
        {
          "output_type": "stream",
          "text": [
            "epoch: 1, loss_train: 0.3277, accuracy_train: 0.8851, loss_valid: 0.3604, accuracy_valid: 0.8743\n",
            "epoch: 2, loss_train: 0.2852, accuracy_train: 0.9015, loss_valid: 0.3283, accuracy_valid: 0.8870\n",
            "epoch: 3, loss_train: 0.2642, accuracy_train: 0.9088, loss_valid: 0.3160, accuracy_valid: 0.8877\n",
            "epoch: 4, loss_train: 0.2546, accuracy_train: 0.9106, loss_valid: 0.3140, accuracy_valid: 0.8900\n",
            "epoch: 5, loss_train: 0.2454, accuracy_train: 0.9176, loss_valid: 0.3104, accuracy_valid: 0.8900\n",
            "epoch: 6, loss_train: 0.2373, accuracy_train: 0.9203, loss_valid: 0.3067, accuracy_valid: 0.8945\n",
            "epoch: 7, loss_train: 0.2325, accuracy_train: 0.9226, loss_valid: 0.3068, accuracy_valid: 0.8937\n",
            "epoch: 8, loss_train: 0.2290, accuracy_train: 0.9244, loss_valid: 0.3056, accuracy_valid: 0.8960\n",
            "epoch: 9, loss_train: 0.2257, accuracy_train: 0.9248, loss_valid: 0.3042, accuracy_valid: 0.8967\n",
            "epoch: 10, loss_train: 0.2316, accuracy_train: 0.9209, loss_valid: 0.3151, accuracy_valid: 0.8922\n"
          ],
          "name": "stdout"
        }
      ]
    },
    {
      "cell_type": "markdown",
      "metadata": {
        "id": "IAHaI2BRSKbD"
      },
      "source": [
        "77"
      ]
    },
    {
      "cell_type": "code",
      "metadata": {
        "colab": {
          "base_uri": "https://localhost:8080/"
        },
        "id": "aETmZV7QSKkd",
        "outputId": "54b4b632-b138-4af5-c1ff-6decf6cff47e"
      },
      "source": [
        "import time\n",
        "\n",
        "def train_model(dataset_train, dataset_valid, batch_size, model, criterion, optimizer, num_epochs):\n",
        "  # dataloaderの作成\n",
        "  dataloader_train = DataLoader(dataset_train, batch_size=batch_size, shuffle=True)\n",
        "  dataloader_valid = DataLoader(dataset_valid, batch_size=len(dataset_valid), shuffle=False)\n",
        "\n",
        "  # 学習\n",
        "  log_train = []\n",
        "  log_valid = []\n",
        "  for epoch in range(num_epochs):\n",
        "    # 開始時刻の記録\n",
        "    s_time = time.time()\n",
        "\n",
        "    # 訓練モードに設定\n",
        "    model.train()\n",
        "    for inputs, labels in dataloader_train:\n",
        "      # 勾配をゼロで初期化\n",
        "      optimizer.zero_grad()\n",
        "\n",
        "      # 順伝播 + 誤差逆伝播 + 重み更新\n",
        "      outputs = model(inputs)\n",
        "      loss = criterion(outputs, labels)\n",
        "      loss.backward()\n",
        "      optimizer.step()\n",
        "\n",
        "    # 損失と正解率の算出\n",
        "    loss_train, acc_train = calculate_loss_and_accuracy(model, criterion, dataloader_train)\n",
        "    loss_valid, acc_valid = calculate_loss_and_accuracy(model, criterion, dataloader_valid)\n",
        "    log_train.append([loss_train, acc_train])\n",
        "    log_valid.append([loss_valid, acc_valid])\n",
        "\n",
        "    # チェックポイントの保存\n",
        "    torch.save({'epoch': epoch, 'model_state_dict': model.state_dict(), 'optimizer_state_dict': optimizer.state_dict()}, f'checkpoint{epoch + 1}.pt')\n",
        "\n",
        "    # 終了時刻の記録\n",
        "    e_time = time.time()\n",
        "\n",
        "    # ログを出力\n",
        "    print(f'epoch: {epoch + 1}, loss_train: {loss_train:.4f}, accuracy_train: {acc_train:.4f}, loss_valid: {loss_valid:.4f}, accuracy_valid: {acc_valid:.4f}, {(e_time - s_time):.4f}sec') \n",
        "\n",
        "  return {'train': log_train, 'valid': log_valid}\n",
        "\n",
        "\n",
        "# datasetの作成\n",
        "dataset_train = NewsDataset(X_train, y_train)\n",
        "dataset_valid = NewsDataset(X_valid, y_valid)\n",
        "\n",
        "# モデルの定義\n",
        "model = SLPNet(300, 4)\n",
        "\n",
        "# 損失関数の定義\n",
        "criterion = nn.CrossEntropyLoss()\n",
        "\n",
        "# オプティマイザの定義\n",
        "optimizer = torch.optim.SGD(model.parameters(), lr=1e-1)\n",
        "\n",
        "# モデルの学習\n",
        "for batch_size in [2 ** i for i in range(11)]:\n",
        "  print(f'バッチサイズ: {batch_size}')\n",
        "  log = train_model(dataset_train, dataset_valid, batch_size, model, criterion, optimizer, 1)"
      ],
      "execution_count": 16,
      "outputs": [
        {
          "output_type": "stream",
          "text": [
            "バッチサイズ: 1\n",
            "epoch: 1, loss_train: 0.3339, accuracy_train: 0.8851, loss_valid: 0.3690, accuracy_valid: 0.8743, 5.4253sec\n",
            "バッチサイズ: 2\n",
            "epoch: 1, loss_train: 0.3041, accuracy_train: 0.8950, loss_valid: 0.3483, accuracy_valid: 0.8825, 2.9486sec\n",
            "バッチサイズ: 4\n",
            "epoch: 1, loss_train: 0.2954, accuracy_train: 0.8958, loss_valid: 0.3425, accuracy_valid: 0.8840, 1.5465sec\n",
            "バッチサイズ: 8\n",
            "epoch: 1, loss_train: 0.2903, accuracy_train: 0.9015, loss_valid: 0.3379, accuracy_valid: 0.8870, 0.8645sec\n",
            "バッチサイズ: 16\n",
            "epoch: 1, loss_train: 0.2885, accuracy_train: 0.9019, loss_valid: 0.3367, accuracy_valid: 0.8870, 0.4904sec\n",
            "バッチサイズ: 32\n",
            "epoch: 1, loss_train: 0.2874, accuracy_train: 0.9017, loss_valid: 0.3364, accuracy_valid: 0.8840, 0.3077sec\n",
            "バッチサイズ: 64\n",
            "epoch: 1, loss_train: 0.2870, accuracy_train: 0.9019, loss_valid: 0.3361, accuracy_valid: 0.8847, 0.2106sec\n",
            "バッチサイズ: 128\n",
            "epoch: 1, loss_train: 0.2870, accuracy_train: 0.9020, loss_valid: 0.3360, accuracy_valid: 0.8847, 0.1626sec\n",
            "バッチサイズ: 256\n",
            "epoch: 1, loss_train: 0.2861, accuracy_train: 0.9022, loss_valid: 0.3359, accuracy_valid: 0.8855, 0.1629sec\n",
            "バッチサイズ: 512\n",
            "epoch: 1, loss_train: 0.2867, accuracy_train: 0.9021, loss_valid: 0.3358, accuracy_valid: 0.8855, 0.1317sec\n",
            "バッチサイズ: 1024\n",
            "epoch: 1, loss_train: 0.2871, accuracy_train: 0.9023, loss_valid: 0.3358, accuracy_valid: 0.8855, 0.1254sec\n"
          ],
          "name": "stdout"
        }
      ]
    },
    {
      "cell_type": "markdown",
      "metadata": {
        "id": "eALs-6fGSQdv"
      },
      "source": [
        "78"
      ]
    },
    {
      "cell_type": "code",
      "metadata": {
        "id": "wp2rhcQHSQmp"
      },
      "source": [
        "def calculate_loss_and_accuracy(model, criterion, loader, device):\n",
        "  model.eval()\n",
        "  loss = 0.0\n",
        "  total = 0\n",
        "  correct = 0\n",
        "  with torch.no_grad():\n",
        "    for inputs, labels in loader:\n",
        "      inputs = inputs.to(device)\n",
        "      labels = labels.to(device)\n",
        "      outputs = model(inputs)\n",
        "      loss += criterion(outputs, labels).item()\n",
        "      pred = torch.argmax(outputs, dim=-1)\n",
        "      total += len(inputs)\n",
        "      correct += (pred == labels).sum().item()\n",
        "\n",
        "  return loss / len(loader), correct / total\n",
        "\n",
        "\n",
        "def train_model(dataset_train, dataset_valid, batch_size, model, criterion, optimizer, num_epochs, device=None):\n",
        "  # GPUに送る\n",
        "  model.to(device)\n",
        "\n",
        "  # dataloaderの作成\n",
        "  dataloader_train = DataLoader(dataset_train, batch_size=batch_size, shuffle=True)\n",
        "  dataloader_valid = DataLoader(dataset_valid, batch_size=len(dataset_valid), shuffle=False)\n",
        "\n",
        "  # 学習\n",
        "  log_train = []\n",
        "  log_valid = []\n",
        "  for epoch in range(num_epochs):\n",
        "    # 開始時刻の記録\n",
        "    s_time = time.time()\n",
        "\n",
        "    # 訓練モードに設定\n",
        "    model.train()\n",
        "    for inputs, labels in dataloader_train:\n",
        "      # 勾配をゼロで初期化\n",
        "      optimizer.zero_grad()\n",
        "\n",
        "      # 順伝播 + 誤差逆伝播 + 重み更新\n",
        "      inputs = inputs.to(device)\n",
        "      labels = labels.to(device)\n",
        "      outputs = model.forward(inputs)\n",
        "      loss = criterion(outputs, labels)\n",
        "      loss.backward()\n",
        "      optimizer.step()\n",
        "\n",
        "    # 損失と正解率の算出\n",
        "    loss_train, acc_train = calculate_loss_and_accuracy(model, criterion, dataloader_train, device)\n",
        "    loss_valid, acc_valid = calculate_loss_and_accuracy(model, criterion, dataloader_valid, device)\n",
        "    log_train.append([loss_train, acc_train])\n",
        "    log_valid.append([loss_valid, acc_valid])\n",
        "\n",
        "    # チェックポイントの保存\n",
        "    torch.save({'epoch': epoch, 'model_state_dict': model.state_dict(), 'optimizer_state_dict': optimizer.state_dict()}, f'checkpoint{epoch + 1}.pt')\n",
        "\n",
        "    # 終了時刻の記録\n",
        "    e_time = time.time()\n",
        "\n",
        "    # ログを出力\n",
        "    print(f'epoch: {epoch + 1}, loss_train: {loss_train:.4f}, accuracy_train: {acc_train:.4f}, loss_valid: {loss_valid:.4f}, accuracy_valid: {acc_valid:.4f}, {(e_time - s_time):.4f}sec') \n",
        "\n",
        "  return {'train': log_train, 'valid': log_valid}"
      ],
      "execution_count": 17,
      "outputs": []
    },
    {
      "cell_type": "code",
      "metadata": {
        "colab": {
          "base_uri": "https://localhost:8080/"
        },
        "id": "Vci8AoHaSZng",
        "outputId": "4eb9d10b-e1c6-4f40-fecc-ca5e2c91a7ec"
      },
      "source": [
        "# datasetの作成\n",
        "dataset_train = NewsDataset(X_train, y_train)\n",
        "dataset_valid = NewsDataset(X_valid, y_valid)\n",
        "\n",
        "# モデルの定義\n",
        "model = SLPNet(300, 4)\n",
        "\n",
        "# 損失関数の定義\n",
        "criterion = nn.CrossEntropyLoss()\n",
        "\n",
        "# オプティマイザの定義\n",
        "optimizer = torch.optim.SGD(model.parameters(), lr=1e-1)\n",
        "\n",
        "# デバイスの指定\n",
        "device = torch.device('cuda')\n",
        "\n",
        "# モデルの学習\n",
        "for batch_size in [2 ** i for i in range(11)]:\n",
        "  print(f'バッチサイズ: {batch_size}')\n",
        "  log = train_model(dataset_train, dataset_valid, batch_size, model, criterion, optimizer, 1, device=device)"
      ],
      "execution_count": 18,
      "outputs": [
        {
          "output_type": "stream",
          "text": [
            "バッチサイズ: 1\n",
            "epoch: 1, loss_train: 0.3337, accuracy_train: 0.8813, loss_valid: 0.3606, accuracy_valid: 0.8795, 13.0756sec\n",
            "バッチサイズ: 2\n",
            "epoch: 1, loss_train: 0.3035, accuracy_train: 0.8966, loss_valid: 0.3368, accuracy_valid: 0.8847, 6.5567sec\n",
            "バッチサイズ: 4\n",
            "epoch: 1, loss_train: 0.2926, accuracy_train: 0.8995, loss_valid: 0.3293, accuracy_valid: 0.8930, 3.2985sec\n",
            "バッチサイズ: 8\n",
            "epoch: 1, loss_train: 0.2885, accuracy_train: 0.9009, loss_valid: 0.3265, accuracy_valid: 0.8885, 1.7329sec\n",
            "バッチサイズ: 16\n",
            "epoch: 1, loss_train: 0.2863, accuracy_train: 0.9013, loss_valid: 0.3252, accuracy_valid: 0.8915, 0.9373sec\n",
            "バッチサイズ: 32\n",
            "epoch: 1, loss_train: 0.2854, accuracy_train: 0.9016, loss_valid: 0.3246, accuracy_valid: 0.8922, 0.5361sec\n",
            "バッチサイズ: 64\n",
            "epoch: 1, loss_train: 0.2851, accuracy_train: 0.9015, loss_valid: 0.3244, accuracy_valid: 0.8930, 0.3174sec\n",
            "バッチサイズ: 128\n",
            "epoch: 1, loss_train: 0.2840, accuracy_train: 0.9015, loss_valid: 0.3243, accuracy_valid: 0.8937, 0.2190sec\n",
            "バッチサイズ: 256\n",
            "epoch: 1, loss_train: 0.2844, accuracy_train: 0.9015, loss_valid: 0.3242, accuracy_valid: 0.8937, 0.1665sec\n",
            "バッチサイズ: 512\n",
            "epoch: 1, loss_train: 0.2847, accuracy_train: 0.9015, loss_valid: 0.3242, accuracy_valid: 0.8937, 0.1406sec\n",
            "バッチサイズ: 1024\n",
            "epoch: 1, loss_train: 0.2869, accuracy_train: 0.9015, loss_valid: 0.3242, accuracy_valid: 0.8937, 0.1388sec\n"
          ],
          "name": "stdout"
        }
      ]
    },
    {
      "cell_type": "markdown",
      "metadata": {
        "id": "qfxziKkBSV8Z"
      },
      "source": [
        "79"
      ]
    },
    {
      "cell_type": "code",
      "metadata": {
        "colab": {
          "base_uri": "https://localhost:8080/"
        },
        "id": "R-TQ53eTSWH_",
        "outputId": "ef9a34b8-2996-4607-b965-2fdfbe040c01"
      },
      "source": [
        "from torch.nn import functional as F\n",
        "\n",
        "class MLPNet(nn.Module):\n",
        "  def __init__(self, input_size, mid_size, output_size, mid_layers):\n",
        "    super().__init__()\n",
        "    self.mid_layers = mid_layers\n",
        "    self.fc = nn.Linear(input_size, mid_size)\n",
        "    self.fc_mid = nn.Linear(mid_size, mid_size)\n",
        "    self.fc_out = nn.Linear(mid_size, output_size) \n",
        "    self.bn = nn.BatchNorm1d(mid_size)\n",
        "\n",
        "  def forward(self, x):\n",
        "    x = F.relu(self.fc(x))\n",
        "    for _ in range(self.mid_layers):\n",
        "      x = F.relu(self.bn(self.fc_mid(x)))\n",
        "    x = F.relu(self.fc_out(x))\n",
        "\n",
        "    return x\n",
        "from torch import optim\n",
        "\n",
        "def calculate_loss_and_accuracy(model, criterion, loader, device):\n",
        "  model.eval()\n",
        "  loss = 0.0\n",
        "  total = 0\n",
        "  correct = 0\n",
        "  with torch.no_grad():\n",
        "    for inputs, labels in loader:\n",
        "      inputs = inputs.to(device)\n",
        "      labels = labels.to(device)\n",
        "      outputs = model(inputs)\n",
        "      loss += criterion(outputs, labels).item()\n",
        "      pred = torch.argmax(outputs, dim=-1)\n",
        "      total += len(inputs)\n",
        "      correct += (pred == labels).sum().item()\n",
        "\n",
        "  return loss / len(loader), correct / total\n",
        "\n",
        "\n",
        "def train_model(dataset_train, dataset_valid, batch_size, model, criterion, optimizer, num_epochs, device=None):\n",
        "  # GPUに送る\n",
        "  model.to(device)\n",
        "\n",
        "  # dataloaderの作成\n",
        "  dataloader_train = DataLoader(dataset_train, batch_size=batch_size, shuffle=True)\n",
        "  dataloader_valid = DataLoader(dataset_valid, batch_size=len(dataset_valid), shuffle=False)\n",
        "\n",
        "  # スケジューラの設定\n",
        "  scheduler = optim.lr_scheduler.CosineAnnealingLR(optimizer, num_epochs, eta_min=1e-5, last_epoch=-1)\n",
        "\n",
        "  # 学習\n",
        "  log_train = []\n",
        "  log_valid = []\n",
        "  for epoch in range(num_epochs):\n",
        "    # 開始時刻の記録\n",
        "    s_time = time.time()\n",
        "\n",
        "    # 訓練モードに設定\n",
        "    model.train()\n",
        "    for inputs, labels in dataloader_train:\n",
        "      # 勾配をゼロで初期化\n",
        "      optimizer.zero_grad()\n",
        "\n",
        "      # 順伝播 + 誤差逆伝播 + 重み更新\n",
        "      inputs = inputs.to(device)\n",
        "      labels = labels.to(device)\n",
        "      outputs = model.forward(inputs)\n",
        "      loss = criterion(outputs, labels)\n",
        "      loss.backward()\n",
        "      optimizer.step()\n",
        "\n",
        "    # 損失と正解率の算出\n",
        "    loss_train, acc_train = calculate_loss_and_accuracy(model, criterion, dataloader_train, device)\n",
        "    loss_valid, acc_valid = calculate_loss_and_accuracy(model, criterion, dataloader_valid, device)\n",
        "    log_train.append([loss_train, acc_train])\n",
        "    log_valid.append([loss_valid, acc_valid])\n",
        "\n",
        "    # チェックポイントの保存\n",
        "    torch.save({'epoch': epoch, 'model_state_dict': model.state_dict(), 'optimizer_state_dict': optimizer.state_dict()}, f'checkpoint{epoch + 1}.pt')\n",
        "\n",
        "    # 終了時刻の記録\n",
        "    e_time = time.time()\n",
        "\n",
        "    # ログを出力\n",
        "    print(f'epoch: {epoch + 1}, loss_train: {loss_train:.4f}, accuracy_train: {acc_train:.4f}, loss_valid: {loss_valid:.4f}, accuracy_valid: {acc_valid:.4f}, {(e_time - s_time):.4f}sec') \n",
        "\n",
        "    # 検証データの損失が3エポック連続で低下しなかった場合は学習終了\n",
        "    if epoch > 2 and log_valid[epoch - 3][0] <= log_valid[epoch - 2][0] <= log_valid[epoch - 1][0] <= log_valid[epoch][0]:\n",
        "      break\n",
        "\n",
        "    # スケジューラを1ステップ進める\n",
        "    scheduler.step()\n",
        "\n",
        "  return {'train': log_train, 'valid': log_valid}\n",
        "# datasetの作成\n",
        "dataset_train = NewsDataset(X_train, y_train)\n",
        "dataset_valid = NewsDataset(X_valid, y_valid)\n",
        "\n",
        "# モデルの定義\n",
        "model = MLPNet(300, 200, 4, 1)\n",
        "\n",
        "# 損失関数の定義\n",
        "criterion = nn.CrossEntropyLoss()\n",
        "\n",
        "# オプティマイザの定義\n",
        "optimizer = torch.optim.SGD(model.parameters(), lr=1e-3)\n",
        "\n",
        "# デバイスの指定\n",
        "device = torch.device('cuda')\n",
        "\n",
        "# モデルの学習\n",
        "log = train_model(dataset_train, dataset_valid, 64, model, criterion, optimizer, 1000, device)\n"
      ],
      "execution_count": 22,
      "outputs": [
        {
          "output_type": "stream",
          "text": [
            "epoch: 1, loss_train: 0.8277, accuracy_train: 0.7693, loss_valid: 0.8159, accuracy_valid: 0.7777, 0.5458sec\n",
            "epoch: 2, loss_train: 0.6699, accuracy_train: 0.7785, loss_valid: 0.6644, accuracy_valid: 0.7829, 0.5284sec\n",
            "epoch: 3, loss_train: 0.6041, accuracy_train: 0.7851, loss_valid: 0.6029, accuracy_valid: 0.7897, 0.5485sec\n",
            "epoch: 4, loss_train: 0.5625, accuracy_train: 0.7966, loss_valid: 0.5647, accuracy_valid: 0.8001, 0.5164sec\n",
            "epoch: 5, loss_train: 0.5256, accuracy_train: 0.8104, loss_valid: 0.5315, accuracy_valid: 0.8099, 0.5225sec\n",
            "epoch: 6, loss_train: 0.4979, accuracy_train: 0.8268, loss_valid: 0.5063, accuracy_valid: 0.8226, 0.5041sec\n",
            "epoch: 7, loss_train: 0.4743, accuracy_train: 0.8355, loss_valid: 0.4851, accuracy_valid: 0.8308, 0.5132sec\n",
            "epoch: 8, loss_train: 0.4510, accuracy_train: 0.8503, loss_valid: 0.4640, accuracy_valid: 0.8383, 0.5111sec\n",
            "epoch: 9, loss_train: 0.4349, accuracy_train: 0.8581, loss_valid: 0.4500, accuracy_valid: 0.8488, 0.5124sec\n",
            "epoch: 10, loss_train: 0.4141, accuracy_train: 0.8663, loss_valid: 0.4311, accuracy_valid: 0.8563, 0.5165sec\n",
            "epoch: 11, loss_train: 0.3980, accuracy_train: 0.8712, loss_valid: 0.4171, accuracy_valid: 0.8585, 0.5345sec\n",
            "epoch: 12, loss_train: 0.3843, accuracy_train: 0.8793, loss_valid: 0.4052, accuracy_valid: 0.8668, 0.5113sec\n",
            "epoch: 13, loss_train: 0.3734, accuracy_train: 0.8849, loss_valid: 0.3953, accuracy_valid: 0.8720, 0.5180sec\n",
            "epoch: 14, loss_train: 0.3610, accuracy_train: 0.8881, loss_valid: 0.3846, accuracy_valid: 0.8787, 0.5091sec\n",
            "epoch: 15, loss_train: 0.3518, accuracy_train: 0.8911, loss_valid: 0.3770, accuracy_valid: 0.8787, 0.5291sec\n",
            "epoch: 16, loss_train: 0.3434, accuracy_train: 0.8918, loss_valid: 0.3700, accuracy_valid: 0.8750, 0.4992sec\n",
            "epoch: 17, loss_train: 0.3336, accuracy_train: 0.8952, loss_valid: 0.3621, accuracy_valid: 0.8787, 0.5112sec\n",
            "epoch: 18, loss_train: 0.3253, accuracy_train: 0.8980, loss_valid: 0.3549, accuracy_valid: 0.8832, 0.5124sec\n",
            "epoch: 19, loss_train: 0.3166, accuracy_train: 0.8990, loss_valid: 0.3483, accuracy_valid: 0.8862, 0.5435sec\n",
            "epoch: 20, loss_train: 0.3117, accuracy_train: 0.9021, loss_valid: 0.3447, accuracy_valid: 0.8862, 0.5092sec\n",
            "epoch: 21, loss_train: 0.3061, accuracy_train: 0.9016, loss_valid: 0.3402, accuracy_valid: 0.8870, 0.5177sec\n",
            "epoch: 22, loss_train: 0.3024, accuracy_train: 0.9050, loss_valid: 0.3377, accuracy_valid: 0.8907, 0.4997sec\n",
            "epoch: 23, loss_train: 0.2949, accuracy_train: 0.9051, loss_valid: 0.3325, accuracy_valid: 0.8907, 0.5354sec\n",
            "epoch: 24, loss_train: 0.2908, accuracy_train: 0.9059, loss_valid: 0.3289, accuracy_valid: 0.8900, 0.5166sec\n",
            "epoch: 25, loss_train: 0.2876, accuracy_train: 0.9075, loss_valid: 0.3274, accuracy_valid: 0.8937, 0.5206sec\n",
            "epoch: 26, loss_train: 0.2840, accuracy_train: 0.9082, loss_valid: 0.3250, accuracy_valid: 0.8952, 0.4964sec\n",
            "epoch: 27, loss_train: 0.2790, accuracy_train: 0.9090, loss_valid: 0.3213, accuracy_valid: 0.8945, 0.5326sec\n",
            "epoch: 28, loss_train: 0.2752, accuracy_train: 0.9109, loss_valid: 0.3188, accuracy_valid: 0.8945, 0.4924sec\n",
            "epoch: 29, loss_train: 0.2706, accuracy_train: 0.9113, loss_valid: 0.3163, accuracy_valid: 0.8930, 0.5180sec\n",
            "epoch: 30, loss_train: 0.2678, accuracy_train: 0.9125, loss_valid: 0.3146, accuracy_valid: 0.8967, 0.5065sec\n",
            "epoch: 31, loss_train: 0.2654, accuracy_train: 0.9120, loss_valid: 0.3142, accuracy_valid: 0.8975, 0.5288sec\n",
            "epoch: 32, loss_train: 0.2621, accuracy_train: 0.9142, loss_valid: 0.3113, accuracy_valid: 0.8945, 0.5229sec\n",
            "epoch: 33, loss_train: 0.2589, accuracy_train: 0.9136, loss_valid: 0.3099, accuracy_valid: 0.8960, 0.5239sec\n",
            "epoch: 34, loss_train: 0.2554, accuracy_train: 0.9156, loss_valid: 0.3076, accuracy_valid: 0.8990, 0.5086sec\n",
            "epoch: 35, loss_train: 0.2547, accuracy_train: 0.9160, loss_valid: 0.3073, accuracy_valid: 0.8982, 0.5454sec\n",
            "epoch: 36, loss_train: 0.2525, accuracy_train: 0.9175, loss_valid: 0.3071, accuracy_valid: 0.8960, 0.5300sec\n",
            "epoch: 37, loss_train: 0.2486, accuracy_train: 0.9174, loss_valid: 0.3053, accuracy_valid: 0.8975, 0.5321sec\n",
            "epoch: 38, loss_train: 0.2452, accuracy_train: 0.9182, loss_valid: 0.3022, accuracy_valid: 0.8990, 0.5228sec\n",
            "epoch: 39, loss_train: 0.2431, accuracy_train: 0.9193, loss_valid: 0.3016, accuracy_valid: 0.8967, 0.5198sec\n",
            "epoch: 40, loss_train: 0.2429, accuracy_train: 0.9207, loss_valid: 0.3017, accuracy_valid: 0.8975, 0.5194sec\n",
            "epoch: 41, loss_train: 0.2411, accuracy_train: 0.9209, loss_valid: 0.3015, accuracy_valid: 0.8975, 0.5120sec\n",
            "epoch: 42, loss_train: 0.2374, accuracy_train: 0.9218, loss_valid: 0.2987, accuracy_valid: 0.8982, 0.5096sec\n",
            "epoch: 43, loss_train: 0.2348, accuracy_train: 0.9232, loss_valid: 0.2980, accuracy_valid: 0.8990, 0.5127sec\n",
            "epoch: 44, loss_train: 0.2339, accuracy_train: 0.9240, loss_valid: 0.2972, accuracy_valid: 0.8997, 0.5170sec\n",
            "epoch: 45, loss_train: 0.2308, accuracy_train: 0.9246, loss_valid: 0.2966, accuracy_valid: 0.8975, 0.5142sec\n",
            "epoch: 46, loss_train: 0.2292, accuracy_train: 0.9262, loss_valid: 0.2962, accuracy_valid: 0.8975, 0.5249sec\n",
            "epoch: 47, loss_train: 0.2274, accuracy_train: 0.9267, loss_valid: 0.2949, accuracy_valid: 0.8975, 0.4985sec\n",
            "epoch: 48, loss_train: 0.2254, accuracy_train: 0.9277, loss_valid: 0.2945, accuracy_valid: 0.8960, 0.5180sec\n",
            "epoch: 49, loss_train: 0.2234, accuracy_train: 0.9287, loss_valid: 0.2935, accuracy_valid: 0.8982, 0.5080sec\n",
            "epoch: 50, loss_train: 0.2226, accuracy_train: 0.9293, loss_valid: 0.2936, accuracy_valid: 0.8967, 0.5323sec\n",
            "epoch: 51, loss_train: 0.2193, accuracy_train: 0.9291, loss_valid: 0.2933, accuracy_valid: 0.8982, 0.4998sec\n",
            "epoch: 52, loss_train: 0.2172, accuracy_train: 0.9309, loss_valid: 0.2922, accuracy_valid: 0.8997, 0.5195sec\n",
            "epoch: 53, loss_train: 0.2162, accuracy_train: 0.9316, loss_valid: 0.2917, accuracy_valid: 0.8975, 0.5128sec\n",
            "epoch: 54, loss_train: 0.2140, accuracy_train: 0.9316, loss_valid: 0.2912, accuracy_valid: 0.8990, 0.5354sec\n",
            "epoch: 55, loss_train: 0.2133, accuracy_train: 0.9313, loss_valid: 0.2917, accuracy_valid: 0.8967, 0.5163sec\n",
            "epoch: 56, loss_train: 0.2114, accuracy_train: 0.9327, loss_valid: 0.2909, accuracy_valid: 0.8975, 0.5093sec\n",
            "epoch: 57, loss_train: 0.2112, accuracy_train: 0.9313, loss_valid: 0.2922, accuracy_valid: 0.9012, 0.4919sec\n",
            "epoch: 58, loss_train: 0.2078, accuracy_train: 0.9339, loss_valid: 0.2901, accuracy_valid: 0.8997, 0.5423sec\n",
            "epoch: 59, loss_train: 0.2069, accuracy_train: 0.9344, loss_valid: 0.2903, accuracy_valid: 0.8990, 0.5065sec\n",
            "epoch: 60, loss_train: 0.2059, accuracy_train: 0.9341, loss_valid: 0.2907, accuracy_valid: 0.9034, 0.5337sec\n",
            "epoch: 61, loss_train: 0.2049, accuracy_train: 0.9350, loss_valid: 0.2899, accuracy_valid: 0.8997, 0.5238sec\n",
            "epoch: 62, loss_train: 0.2026, accuracy_train: 0.9347, loss_valid: 0.2897, accuracy_valid: 0.8997, 0.5190sec\n",
            "epoch: 63, loss_train: 0.2012, accuracy_train: 0.9363, loss_valid: 0.2892, accuracy_valid: 0.9019, 0.5116sec\n",
            "epoch: 64, loss_train: 0.1989, accuracy_train: 0.9372, loss_valid: 0.2888, accuracy_valid: 0.9004, 0.5221sec\n",
            "epoch: 65, loss_train: 0.1979, accuracy_train: 0.9376, loss_valid: 0.2886, accuracy_valid: 0.9019, 0.5269sec\n",
            "epoch: 66, loss_train: 0.1961, accuracy_train: 0.9385, loss_valid: 0.2889, accuracy_valid: 0.8997, 0.5289sec\n",
            "epoch: 67, loss_train: 0.1972, accuracy_train: 0.9379, loss_valid: 0.2891, accuracy_valid: 0.9027, 0.5133sec\n",
            "epoch: 68, loss_train: 0.1946, accuracy_train: 0.9381, loss_valid: 0.2882, accuracy_valid: 0.9027, 0.5173sec\n",
            "epoch: 69, loss_train: 0.1929, accuracy_train: 0.9389, loss_valid: 0.2881, accuracy_valid: 0.9034, 0.5190sec\n",
            "epoch: 70, loss_train: 0.1915, accuracy_train: 0.9393, loss_valid: 0.2881, accuracy_valid: 0.9004, 0.5226sec\n",
            "epoch: 71, loss_train: 0.1906, accuracy_train: 0.9397, loss_valid: 0.2874, accuracy_valid: 0.9027, 0.5152sec\n",
            "epoch: 72, loss_train: 0.1888, accuracy_train: 0.9398, loss_valid: 0.2880, accuracy_valid: 0.9019, 0.5252sec\n",
            "epoch: 73, loss_train: 0.1875, accuracy_train: 0.9407, loss_valid: 0.2870, accuracy_valid: 0.9034, 0.5336sec\n",
            "epoch: 74, loss_train: 0.1867, accuracy_train: 0.9404, loss_valid: 0.2869, accuracy_valid: 0.9027, 0.5199sec\n",
            "epoch: 75, loss_train: 0.1847, accuracy_train: 0.9413, loss_valid: 0.2869, accuracy_valid: 0.9034, 0.5180sec\n",
            "epoch: 76, loss_train: 0.1840, accuracy_train: 0.9419, loss_valid: 0.2876, accuracy_valid: 0.9034, 0.5075sec\n",
            "epoch: 77, loss_train: 0.1820, accuracy_train: 0.9418, loss_valid: 0.2864, accuracy_valid: 0.9027, 0.5127sec\n",
            "epoch: 78, loss_train: 0.1821, accuracy_train: 0.9427, loss_valid: 0.2876, accuracy_valid: 0.9034, 0.4984sec\n",
            "epoch: 79, loss_train: 0.1801, accuracy_train: 0.9433, loss_valid: 0.2868, accuracy_valid: 0.9012, 0.5321sec\n",
            "epoch: 80, loss_train: 0.1788, accuracy_train: 0.9424, loss_valid: 0.2875, accuracy_valid: 0.9027, 0.5221sec\n",
            "epoch: 81, loss_train: 0.1778, accuracy_train: 0.9435, loss_valid: 0.2865, accuracy_valid: 0.9034, 0.5289sec\n",
            "epoch: 82, loss_train: 0.1773, accuracy_train: 0.9424, loss_valid: 0.2890, accuracy_valid: 0.9019, 0.5171sec\n",
            "epoch: 83, loss_train: 0.1758, accuracy_train: 0.9439, loss_valid: 0.2864, accuracy_valid: 0.9034, 0.5203sec\n",
            "epoch: 84, loss_train: 0.1742, accuracy_train: 0.9450, loss_valid: 0.2873, accuracy_valid: 0.9027, 0.5038sec\n",
            "epoch: 85, loss_train: 0.1743, accuracy_train: 0.9437, loss_valid: 0.2896, accuracy_valid: 0.9019, 0.5167sec\n",
            "epoch: 86, loss_train: 0.1717, accuracy_train: 0.9470, loss_valid: 0.2876, accuracy_valid: 0.9019, 0.4993sec\n",
            "epoch: 87, loss_train: 0.1701, accuracy_train: 0.9456, loss_valid: 0.2871, accuracy_valid: 0.9027, 0.5174sec\n",
            "epoch: 88, loss_train: 0.1697, accuracy_train: 0.9468, loss_valid: 0.2867, accuracy_valid: 0.9034, 0.5101sec\n",
            "epoch: 89, loss_train: 0.1684, accuracy_train: 0.9459, loss_valid: 0.2875, accuracy_valid: 0.9012, 0.5222sec\n",
            "epoch: 90, loss_train: 0.1678, accuracy_train: 0.9475, loss_valid: 0.2876, accuracy_valid: 0.9027, 0.5083sec\n",
            "epoch: 91, loss_train: 0.1672, accuracy_train: 0.9482, loss_valid: 0.2877, accuracy_valid: 0.9019, 0.5220sec\n"
          ],
          "name": "stdout"
        }
      ]
    }
  ]
}