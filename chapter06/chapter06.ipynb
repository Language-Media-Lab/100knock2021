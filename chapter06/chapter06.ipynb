t": 4,
  "nbformat_minor": 0,
  "metadata": {
    "colab": {
      "name": "言語処理100本ノック第6章.ipynb",
      "provenance": [],
      "collapsed_sections": []
    },
    "kernelspec": {
      "name": "python3",
      "display_name": "Python 3"
    }
  },
  "cells": [
    {
      "cell_type": "markdown",
      "metadata": {
        "id": "L_PkjDeDt2Hs"
      },
      "source": [
        "# 6章 機械学習  \n",
        "本章では，Fabio Gasparetti氏が公開しているNews Aggregator Data Setを用い，ニュース記事の見出しを「ビジネス」「科学技術」「エンターテイメント」「健康」のカテゴリに分類するタスク（カテゴリ分類）に取り組む．"
      ]
    },
    {
      "cell_type": "markdown",
      "metadata": {
        "id": "xV-h7VC0uA2o"
      },
      "source": [
        "## 50. データの入手・整形\n",
        "[News Aggregator Data Set](https://archive.ics.uci.edu/ml/datasets/News+Aggregator)をダウンロードし、以下の要領で学習データ（train.txt），検証データ（valid.txt），評価データ（test.txt）を作成せよ．  \n",
        "\n",
        " 1. ダウンロードしたzipファイルを解凍し，readme.txtの説明を読む．\n",
        " 2. 情報源（publisher）が”Reuters”, “Huffington Post”, “Businessweek”, “Contactmusic.com”, “Daily Mail”の事例（記事）のみを抽出する．\n",
        " 3. 抽出された事例をランダムに並び替える．\n",
        " 4. 抽出された事例の80%を学習データ，残りの10%ずつを検証データと評価データに分割し，それぞれtrain.txt，valid.txt，test.txtというファイル名で保存する．ファイルには，１行に１事例を書き出すこととし，カテゴリ名と記事見出しのタブ区切り形式とせよ（このファイルは後に問題70で再利用する）．  \n",
        "\n",
        "学習データと評価データを作成したら，各カテゴリの事例数を確認せよ．"
      ]
    },
    {
      "cell_type": "markdown",
      "metadata": {
        "id": "ndlkHXhbW7ER"
      },
      "source": [
        "データのインストール"
      ]
    },
    {
      "cell_type": "code",
      "metadata": {
        "colab": {
          "base_uri": "https://localhost:8080/"
        },
        "id": "W8RVjzDsW6Xj",
        "outputId": "afc762eb-4030-4d17-c0c9-3584c0ced4db"
      },
      "source": [
        "!wget https://archive.ics.uci.edu/ml/machine-learning-databases/00359/NewsAggregatorDataset.zip\n",
        "!unzip NewsAggregatorDataset.zip"
      ],
      "execution_count": 1,
      "outputs": [
        {
          "output_type": "stream",
          "text": [
            "--2021-06-09 02:28:26--  https://archive.ics.uci.edu/ml/machine-learning-databases/00359/NewsAggregatorDataset.zip\n",
            "Resolving archive.ics.uci.edu (archive.ics.uci.edu)... 128.195.10.252\n",
            "Connecting to archive.ics.uci.edu (archive.ics.uci.edu)|128.195.10.252|:443... connected.\n",
            "HTTP request sent, awaiting response... 200 OK\n",
            "Length: 29224203 (28M) [application/x-httpd-php]\n",
            "Saving to: ‘NewsAggregatorDataset.zip.2’\n",
            "\n",
            "NewsAggregatorDatas 100%[===================>]  27.87M  31.2MB/s    in 0.9s    \n",
            "\n",
            "2021-06-09 02:28:27 (31.2 MB/s) - ‘NewsAggregatorDataset.zip.2’ saved [29224203/29224203]\n",
            "\n",
            "Archive:  NewsAggregatorDataset.zip\n",
            "replace 2pageSessions.csv? [y]es, [n]o, [A]ll, [N]one, [r]ename: yes\n",
            "  inflating: 2pageSessions.csv       \n",
            "replace __MACOSX/._2pageSessions.csv? [y]es, [n]o, [A]ll, [N]one, [r]ename: yes\n",
            "  inflating: __MACOSX/._2pageSessions.csv  \n",
            "replace newsCorpora.csv? [y]es, [n]o, [A]ll, [N]one, [r]ename: yes\n",
            "  inflating: newsCorpora.csv         \n",
            "replace __MACOSX/._newsCorpora.csv? [y]es, [n]o, [A]ll, [N]one, [r]ename: yes\n",
            "  inflating: __MACOSX/._newsCorpora.csv  \n",
            "replace readme.txt? [y]es, [n]o, [A]ll, [N]one, [r]ename: yes\n",
            "  inflating: readme.txt              \n",
            "replace __MACOSX/._readme.txt? [y]es, [n]o, [A]ll, [N]one, [r]ename: yes\n",
            "  inflating: __MACOSX/._readme.txt   \n"
          ],
          "name": "stdout"
        }
      ]
    },
    {
      "cell_type": "markdown",
      "metadata": {
        "id": "YCZv0bigW6Is"
      },
      "source": [
        "データの確認"
      ]
    },
    {
      "cell_type": "code",
      "metadata": {
        "colab": {
          "base_uri": "https://localhost:8080/"
        },
        "id": "MHNT249gZoye",
        "outputId": "b9aa03b3-70bd-4e31-d684-e4bd402d87f2"
      },
      "source": [
        "!head -30 ./newsCorpora.csv"
      ],
      "execution_count": 2,
      "outputs": [
        {
          "output_type": "stream",
          "text": [
            "1\tFed official says weak data caused by weather, should not slow taper\thttp://www.latimes.com/business/money/la-fi-mo-federal-reserve-plosser-stimulus-economy-20140310,0,1312750.story\\?track=rss\tLos Angeles Times\tb\tddUyU0VZz0BRneMioxUPQVP6sIxvM\twww.latimes.com\t1394470370698\n",
            "2\tFed's Charles Plosser sees high bar for change in pace of tapering\thttp://www.livemint.com/Politics/H2EvwJSK2VE6OF7iK1g3PP/Feds-Charles-Plosser-sees-high-bar-for-change-in-pace-of-ta.html\tLivemint\tb\tddUyU0VZz0BRneMioxUPQVP6sIxvM\twww.livemint.com\t1394470371207\n",
            "3\tUS open: Stocks fall after Fed official hints at accelerated tapering\thttp://www.ifamagazine.com/news/us-open-stocks-fall-after-fed-official-hints-at-accelerated-tapering-294436\tIFA Magazine\tb\tddUyU0VZz0BRneMioxUPQVP6sIxvM\twww.ifamagazine.com\t1394470371550\n",
            "4\tFed risks falling 'behind the curve', Charles Plosser says\thttp://www.ifamagazine.com/news/fed-risks-falling-behind-the-curve-charles-plosser-says-294430\tIFA Magazine\tb\tddUyU0VZz0BRneMioxUPQVP6sIxvM\twww.ifamagazine.com\t1394470371793\n",
            "5\tFed's Plosser: Nasty Weather Has Curbed Job Growth\thttp://www.moneynews.com/Economy/federal-reserve-charles-plosser-weather-job-growth/2014/03/10/id/557011\tMoneynews\tb\tddUyU0VZz0BRneMioxUPQVP6sIxvM\twww.moneynews.com\t1394470372027\n",
            "6\tPlosser: Fed May Have to Accelerate Tapering Pace\thttp://www.nasdaq.com/article/plosser-fed-may-have-to-accelerate-tapering-pace-20140310-00371\tNASDAQ\tb\tddUyU0VZz0BRneMioxUPQVP6sIxvM\twww.nasdaq.com\t1394470372212\n",
            "7\tFed's Plosser: Taper pace may be too slow\thttp://www.marketwatch.com/story/feds-plosser-taper-pace-may-be-too-slow-2014-03-10\\?reflink=MW_news_stmp\tMarketWatch\tb\tddUyU0VZz0BRneMioxUPQVP6sIxvM\twww.marketwatch.com\t1394470372405\n",
            "8\tFed's Plosser expects US unemployment to fall to 6.2% by the end of 2014\thttp://www.fxstreet.com/news/forex-news/article.aspx\\?storyid=23285020-b1b5-47ed-a8c4-96124bb91a39\tFXstreet.com\tb\tddUyU0VZz0BRneMioxUPQVP6sIxvM\twww.fxstreet.com\t1394470372615\n",
            "9\tUS jobs growth last month hit by weather:Fed President Charles Plosser\thttp://economictimes.indiatimes.com/news/international/business/us-jobs-growth-last-month-hit-by-weatherfed-president-charles-plosser/articleshow/31788000.cms\tEconomic Times\tb\tddUyU0VZz0BRneMioxUPQVP6sIxvM\teconomictimes.indiatimes.com\t1394470372792\n",
            "10\tECB unlikely to end sterilisation of SMP purchases - traders\thttp://www.iii.co.uk/news-opinion/reuters/news/152615\tInteractive Investor\tb\tdPhGU51DcrolUIMxbRm0InaHGA2XM\twww.iii.co.uk\t1394470501265\n",
            "11\tECB unlikely to end sterilization of SMP purchases: traders\thttp://in.reuters.com/article/2014/03/10/us-ecb-refi-poll-idINBREA290VH20140310\tReuters India\tb\tdPhGU51DcrolUIMxbRm0InaHGA2XM\tin.reuters.com\t1394470501410\n",
            "12\tEU's half-baked bank union could work\thttp://blogs.reuters.com/hugo-dixon/2014/03/10/eus-half-baked-bank-union-could-work/\tReuters UK \\(blog\\)\tb\tdPhGU51DcrolUIMxbRm0InaHGA2XM\tblogs.reuters.com\t1394470501587\n",
            "13\tEurope reaches crunch point on banking union\thttp://in.reuters.com/article/2014/03/10/eu-banks-resoluton-idINL6N0M71NJ20140310\tReuters\tb\tdPhGU51DcrolUIMxbRm0InaHGA2XM\tin.reuters.com\t1394470501755\n",
            "14\tECB FOCUS-Stronger euro drowns out ECB's message to keep rates low for  ...\thttp://in.reuters.com/article/2014/03/10/ecb-policy-idINL6N0M71K320140310\tReuters\tb\tdPhGU51DcrolUIMxbRm0InaHGA2XM\tin.reuters.com\t1394470501948\n",
            "15\tEU aims for deal on tackling failing banks\thttp://main.omanobserver.om/\\?p=63376\tOman Daily Observer\tb\tdPhGU51DcrolUIMxbRm0InaHGA2XM\tmain.omanobserver.om\t1394470502141\n",
            "16\tForex - Pound drops to one-month lows against euro\thttp://www.nasdaq.com/article/forex-pound-drops-to-onemonth-lows-against-euro-cm333750\tNASDAQ\tb\tdPhGU51DcrolUIMxbRm0InaHGA2XM\twww.nasdaq.com\t1394470502316\n",
            "17\tNoyer Says Strong Euro Creates Unwarranted Economic Pressure\thttp://www.sfgate.com/business/bloomberg/article/Noyer-Says-Strong-Euro-Creates-Unwarranted-5303474.php\tSan Francisco Chronicle\tb\tdPhGU51DcrolUIMxbRm0InaHGA2XM\twww.sfgate.com\t1394470502543\n",
            "18\tEU Week Ahead March 10-14: Bank Resolution, Transparency, Ukraine\thttp://blogs.wsj.com/brussels/2014/03/10/eu-week-ahead-march-10-14-bank-resolution-transparency-ukraine/\tWall Street Journal \\(blog\\)\tb\tdPhGU51DcrolUIMxbRm0InaHGA2XM\tblogs.wsj.com\t1394470502744\n",
            "19\tECB member Noyer is 'very open to all kinds of tools'\thttp://www.ifamagazine.com/news/ecb-member-noyer-is-very-open-to-all-kinds-of-tools-294431\tIFA Magazine\tb\tdPhGU51DcrolUIMxbRm0InaHGA2XM\twww.ifamagazine.com\t1394470502946\n",
            "20\tEuro Anxieties Wane as Bunds Top Treasuries, Spain Debt Rallies\thttp://www.businessweek.com/news/2014-03-10/german-bonds-beat-treasuries-with-yield-spread-widest-in-7-years\tBusinessweek\tb\tdPhGU51DcrolUIMxbRm0InaHGA2XM\twww.businessweek.com\t1394470503148\n",
            "21\tNoyer Says Strong Euro Creates Unwarranted Economic Pressure (1)\thttp://www.businessweek.com/news/2014-03-10/noyer-says-stronger-euro-creates-unwarranted-pressure-on-economy\tBusinessweek\tb\tdPhGU51DcrolUIMxbRm0InaHGA2XM\twww.businessweek.com\t1394470503366\n",
            "22\tNoyer Says Stronger Euro Creates Unwarranted Pressure on Economy\thttp://www.sfgate.com/business/bloomberg/article/Noyer-Says-Stronger-Euro-Creates-Unwarranted-5303368.php\tSan Francisco Chronicle\tb\tdPhGU51DcrolUIMxbRm0InaHGA2XM\twww.sfgate.com\t1394470503543\n",
            "23\tBad loan triggers key feature in ECB bank test announcement: sources\thttp://www.globalpost.com/dispatch/news/thomson-reuters/140310/bad-loan-triggers-key-feature-ecb-bank-test-announcement-source\tGlobalPost\tb\tdPhGU51DcrolUIMxbRm0InaHGA2XM\twww.globalpost.com\t1394470503726\n",
            "24\tChina's trade deficit and structural worries in Europe, among the main issues\thttp://www.fxstreet.com/analysis/strategic-currency-briefing/2014/03/10/\tFXstreet.com\tb\tdPhGU51DcrolUIMxbRm0InaHGA2XM\twww.fxstreet.com\t1394470503887\n",
            "25\t10 Things You Need To Know This Morning\thttp://www.businessinsider.com/opening-bell-monday-10-2014-3\tBusiness Insider\tb\tdPhGU51DcrolUIMxbRm0InaHGA2XM\twww.businessinsider.com\t1394470504080\n",
            "26\tECB's Noyer not Happy With Euro Strength -- Update\thttp://online.wsj.com/article/BT-CO-20140310-705733.html\tWall Street Journal\tb\tdPhGU51DcrolUIMxbRm0InaHGA2XM\tonline.wsj.com\t1394470504274\n",
            "27\tEurozone banks' sovereign exposure hits new high\thttp://www.ekathimerini.com/4dcgi/_w_articles_wsite2_1_10/03/2014_538029\tKathimerini\tb\tdPhGU51DcrolUIMxbRm0InaHGA2XM\twww.ekathimerini.com\t1394470504506\n",
            "28\tECB to reveal bad loan hurdles for euro zone bank test\thttp://www.irishtimes.com/business/sectors/financial-services/ecb-to-reveal-bad-loan-hurdles-for-euro-zone-bank-test-1.1719128\tIrish Times\tb\tdPhGU51DcrolUIMxbRm0InaHGA2XM\twww.irishtimes.com\t1394470504683\n",
            "29\tForex Market: EUR/USD retreats from 2-1/2-year highs as stronger euro seen  ...\thttp://www.binarytribune.com/2014/03/10/forex-market-eurusd-retreats-from-2-12-year-highs-as-stronger-euro-seen-creating-pressure-on-economy/\tBinary Tribune\tb\tdPhGU51DcrolUIMxbRm0InaHGA2XM\twww.binarytribune.com\t1394470504893\n",
            "30\tREFILE-Bad loan triggers key feature in ECB bank test announcement- sources\thttp://in.reuters.com/article/2014/03/10/eurozone-bank-tests-idINL6N0M71F020140310\tReuters\tb\tdPhGU51DcrolUIMxbRm0InaHGA2XM\tin.reuters.com\t1394470505070\n"
          ],
          "name": "stdout"
        }
      ]
    },
    {
      "cell_type": "code",
      "metadata": {
        "id": "LmlW5qScZ8yQ"
      },
      "source": [
        "# 読込時のエラー回避のためダブルクォーテーションをシングルクォーテーションに置換\n",
        "!sed -e 's/\"/'\\''/g' ./newsCorpora.csv > ./newsCorpora_re.csv"
      ],
      "execution_count": 3,
      "outputs": []
    },
    {
      "cell_type": "markdown",
      "metadata": {
        "id": "oTBGZU7RbBw_"
      },
      "source": [
        "readme.txtの説明を表示\n"
      ]
    },
    {
      "cell_type": "code",
      "metadata": {
        "colab": {
          "base_uri": "https://localhost:8080/"
        },
        "id": "BWiQmJynbKLz",
        "outputId": "f15f9630-c84e-4c06-c4a4-83c0b19a8d1a"
      },
      "source": [
        "!cat ./readme.txt"
      ],
      "execution_count": 4,
      "outputs": [
        {
          "output_type": "stream",
          "text": [
            "SUMMARY: Dataset of references (urls) to news web pages\n",
            "\n",
            "DESCRIPTION: Dataset of references to news web pages collected from an online aggregator in the period from March 10 to August 10 of 2014. The resources are grouped into clusters that represent pages discussing the same news story. The dataset includes also references to web pages that point (has a link to) one of the news page in the collection.\n",
            "\n",
            "TAGS: web pages, news, aggregator, classification, clustering\n",
            "\n",
            "LICENSE: Public domain - Due to restrictions on content and use of the news sources, the corpus is limited to web references (urls) to web pages and does not include any text content. The references have been retrieved from the news aggregator through traditional web browsers. \n",
            "\n",
            "FILE ENCODING: UTF-8\n",
            "\n",
            "FORMAT: Tab delimited CSV files. \n",
            "\n",
            "DATA SHAPE AND STATS: 422937 news pages and divided up into:\n",
            "\n",
            "152746 \tnews of business category\n",
            "108465 \tnews of science and technology category\n",
            "115920 \tnews of business category\n",
            " 45615 \tnews of health category\n",
            "\n",
            "2076 clusters of similar news for entertainment category\n",
            "1789 clusters of similar news for science and technology category\n",
            "2019 clusters of similar news for business category\n",
            "1347 clusters of similar news for health category\n",
            "\n",
            "References to web pages containing a link to one news included in the collection are also included. They are represented as pairs of urls corresponding to 2-page browsing sessions. The collection includes 15516 2-page browsing sessions covering 946 distinct clusters divided up into:\n",
            "\n",
            "6091 2-page sessions for business category\n",
            "9425 2-page sessions for entertainment category\n",
            "\n",
            " \n",
            "\n",
            "CONTENT\n",
            "=======\n",
            "\n",
            "FILENAME #1: newsCorpora.csv (102.297.000 bytes)\n",
            "DESCRIPTION: News pages\n",
            "FORMAT: ID \\t TITLE \\t URL \\t PUBLISHER \\t CATEGORY \\t STORY \\t HOSTNAME \\t TIMESTAMP\n",
            "\n",
            "where:\n",
            "ID\t\tNumeric ID\n",
            "TITLE\t\tNews title \n",
            "URL\t\tUrl\n",
            "PUBLISHER\tPublisher name\n",
            "CATEGORY\tNews category (b = business, t = science and technology, e = entertainment, m = health)\n",
            "STORY\t\tAlphanumeric ID of the cluster that includes news about the same story\n",
            "HOSTNAME\tUrl hostname\n",
            "TIMESTAMP \tApproximate time the news was published, as the number of milliseconds since the epoch 00:00:00 GMT, January 1, 1970\n",
            "\n",
            "\n",
            "FILENAME #2: 2pageSessions.csv (3.049.986 bytes)\n",
            "DESCRIPTION: 2-page sessions\n",
            "FORMAT: STORY \\t HOSTNAME \\t CATEGORY \\t URL\n",
            "\n",
            "where:\n",
            "STORY\t\tAlphanumeric ID of the cluster that includes news about the same story\n",
            "HOSTNAME\tUrl hostname\n",
            "CATEGORY\tNews category (b = business, t = science and technology, e = entertainment, m = health)\n",
            "URL\t\tTwo space-delimited urls representing a browsing session\n"
          ],
          "name": "stdout"
        }
      ]
    },
    {
      "cell_type": "markdown",
      "metadata": {
        "id": "x7ODFgAXrY73"
      },
      "source": [
        "情報源（publisher）が”Reuters”, “Huffington Post”, “Businessweek”, “Contactmusic.com”, “Daily Mail”の事例（記事）のみを抽出する\n"
      ]
    },
    {
      "cell_type": "code",
      "metadata": {
        "id": "C7ClUMnTIEmR",
        "colab": {
          "base_uri": "https://localhost:8080/"
        },
        "outputId": "5ba8a155-a455-4c97-f278-0b8eb3bf6d74"
      },
      "source": [
        "import pandas as pd\n",
        "from sklearn.model_selection import train_test_split\n",
        "#pandas使い方 https://qiita.com/ysdyt/items/9ccca82fc5b504e7913a\n",
        "\n",
        "df = pd.read_table('./newsCorpora_re.csv', header=None, names=['ID', 'TITLE', 'URL', 'PUBLISHER', 'CATEGORY', 'STORY', 'HOSTNAME', 'TIMESTAMP'])#csvファイルをpandas.DataFrameとして読み込む\n",
        "#pandas.DataFrameは、values(実際のデータの値)、columns(列名）、indexは(行名）の3つで構成\n",
        "#namesにより、列名を指定することができる。\n",
        "\n",
        "df = df.loc[df['PUBLISHER'].isin(['Reuters', 'Huffington Post', 'Businessweek', 'Contactmusic.com', 'Daily Mail']), ['TITLE', 'CATEGORY']]\n",
        "\n",
        "#isin()は列の要素が引数に渡したリストの要素に含まれているかをbool値（True, False）で返すメソッド。ある列の要素が特定の値に一致する行のみを抽出できる。\n",
        "#df.query('PUBLISHER ==['Reuters', 'Huffington Post', 'Businessweek', 'Contactmusic.com', 'Daily Mail']')等でも同様\n",
        "#pandas.DataFrameの任意の位置のデータを取り出したり変更（代入）したりする場合、pandas.DataFrameのプロパティ、at, iat, loc, ilocを使う\n",
        "#DataFrame型変数.loc['行ラベル名', '列ラベル名']\n",
        "\n",
        "#scikit-learnでデータを訓練用とテスト用に分割する\n",
        "train, valid_test = train_test_split(df, test_size=0.2, shuffle=True, random_state=123, stratify=df['CATEGORY'])\n",
        "valid, test = train_test_split(valid_test, test_size=0.5, shuffle=True, random_state=123, stratify=valid_test['CATEGORY'])\n",
        "\n",
        "#train_test_split()は、指定された条件に基づいて、トレーニングデータとテストデータに分割する。2回に分けて行うことで、80%を学習データ，残りの10%ずつを検証データと評価データに分割。\n",
        "#test_sizeでテスト用（返されるリストの2つめの要素）の割合または個数を指定\n",
        "#shuffleでデータをシャッフルするかどうかを指定\n",
        "#ramdom_stateを指定することで、毎回同じようにシャッフルされる\n",
        "#stratifyは指定したデータの割合が同じになるように分割する。テスト用データと訓練用データの偏りをなくす\n",
        "\n",
        "# データの保存\n",
        "train.to_csv('./train.txt', sep='\\t', index=False)\n",
        "valid.to_csv('./valid.txt', sep='\\t', index=False)\n",
        "test.to_csv('./test.txt', sep='\\t', index=False)\n",
        "#to_csvでtrain.txt，valid.txt，test.txtというファイル名で保存\n",
        "#seqで区切り文字、indexで行名を出力するかどうかを指定\n",
        "\n",
        "# 事例数の確認\n",
        "print('Category : b = business, t = science and technology, e = entertainment, m = health')\n",
        "print('【学習データ】')\n",
        "print(train['CATEGORY'].value_counts())\n",
        "print('【検証データ】')\n",
        "print(valid['CATEGORY'].value_counts())\n",
        "print('【評価データ】')\n",
        "print(test['CATEGORY'].value_counts())\n",
        "\n",
        "#value.counts()は、それぞれの値の出現回数を数え上げてくれる関数"
      ],
      "execution_count": 5,
      "outputs": [
        {
          "output_type": "stream",
          "text": [
            "Category : b = business, t = science and technology, e = entertainment, m = health\n",
            "【学習データ】\n",
            "b    4501\n",
            "e    4235\n",
            "t    1220\n",
            "m     728\n",
            "Name: CATEGORY, dtype: int64\n",
            "【検証データ】\n",
            "b    563\n",
            "e    529\n",
            "t    153\n",
            "m     91\n",
            "Name: CATEGORY, dtype: int64\n",
            "【評価データ】\n",
            "b    563\n",
            "e    530\n",
            "t    152\n",
            "m     91\n",
            "Name: CATEGORY, dtype: int64\n"
          ],
          "name": "stdout"
        }
      ]
    },
    {
      "cell_type": "markdown",
      "metadata": {
        "id": "u8gDrl6YHpZP"
      },
      "source": [
        "## 51. 特徴量抽出\n",
        "\n",
        "学習データ，検証データ，評価データから特徴量を抽出し，それぞれtrain.feature.txt，valid.feature.txt，test.feature.txtというファイル名で保存せよ． なお，カテゴリ分類に有用そうな特徴量は各自で自由に設計せよ．記事の見出しを単語列に変換したものが最低限のベースラインとなるであろう"
      ]
    },
    {
      "cell_type": "markdown",
      "metadata": {
        "id": "5AaTkS8y5Goz"
      },
      "source": [
        "記事の見出しを単語列に変換する。（①記号をスペースに置換、②アルファベットの小文字化、③数字列を0に置換、の3つの処理を行う）"
      ]
    },
    {
      "cell_type": "code",
      "metadata": {
        "id": "VBDzykAJndD1"
      },
      "source": [
        "import string\n",
        "import re\n",
        "\n",
        "def preprocessing(text):\n",
        "  table = str.maketrans(string.punctuation, ' '*len(string.punctuation))#記号を同じ個数のスペースに置換\n",
        "  text = text.translate(table)\n",
        "  #str.maketrans()でstr.translate()に使える変換テーブルを作成する\n",
        "  #str.translate()で文字列内の文字を変換する\n",
        "  #string.punctuationは、英数字以外のアスキー文字のこと = 記号\n",
        "  text = text.lower() #str.lower()で大文字と小文字を変換\n",
        "  text = re.sub('[0-9]+', '0', text) #数字列を0に置換\n",
        "\n",
        "  return text"
      ],
      "execution_count": 6,
      "outputs": []
    },
    {
      "cell_type": "code",
      "metadata": {
        "colab": {
          "base_uri": "https://localhost:8080/"
        },
        "id": "aMpWzaPu86Bg",
        "outputId": "2bf13873-ae3e-4d01-e361-0bab61d2dba5"
      },
      "source": [
        "# データの再結合\n",
        "df = pd.concat([train, valid, test], axis=0)\n",
        "df.reset_index(drop=True, inplace=True)  # indexを振りなおす\n",
        "\n",
        "# 前処理の実施\n",
        "df['TITLE'] = df['TITLE'].map(lambda x: preprocessing(x))\n",
        "\n",
        "print(df.head())"
      ],
      "execution_count": 7,
      "outputs": [
        {
          "output_type": "stream",
          "text": [
            "                                               TITLE CATEGORY\n",
            "0  refile update 0 european car sales up for sixt...        b\n",
            "1  amazon plans to fight ftc over mobile app purc...        t\n",
            "2  kids still get codeine in emergency rooms desp...        m\n",
            "3  what on earth happened between solange and jay...        e\n",
            "4  nato missile defense is flight tested over hawaii        b\n"
          ],
          "name": "stdout"
        }
      ]
    },
    {
      "cell_type": "markdown",
      "metadata": {
        "id": "JeQYl2C08nqV"
      },
      "source": [
        "学習データ，検証データ，評価データから特徴量を抽出"
      ]
    },
    {
      "cell_type": "markdown",
      "metadata": {
        "id": "EoHypfHzTYuZ"
      },
      "source": [
        "特徴量として、単語の重要度を測る手法であるTF-IDFを用いる。\n",
        "\n",
        "TF-IDFとは，文書内に出現する単語について，以下の２つの情報から，その単語の重要度を算出する手法である．\n",
        "\n",
        "・単語の出現頻度(TF値)：文書内のすべての単語の出現回数のうち，その単語の出現回数が占める割合\n",
        "\n",
        "・単語の逆文書頻度(IDF値)：ある単語が含まれる文書の割合の逆数\n",
        "\n",
        "TF-IDF値はTF値とIDF値をかけ合わせて計算する\n",
        "\n"
      ]
    },
    {
      "cell_type": "code",
      "metadata": {
        "colab": {
          "base_uri": "https://localhost:8080/"
        },
        "id": "RtgYh1Cz8ncF",
        "outputId": "40059ca1-777e-4c91-c1e8-1487f5dfd77c"
      },
      "source": [
        "#TfidfVectorizerモジュールをインポートしてインスタンスを作る\n",
        "from sklearn.feature_extraction.text import TfidfVectorizer\n",
        "\n",
        "# データの分割\n",
        "train_valid = df[:len(train) + len(valid)]\n",
        "test = df[len(train) + len(valid):]\n",
        "\n",
        "# https://gotutiyan.hatenablog.com/entry/2020/09/10/181919\n",
        "#TfidfVectorizerの宣言\n",
        "vec_tfidf = TfidfVectorizer(min_df=10, ngram_range=(1, 2))\n",
        "#TfidfVectorizerは，文書群を与えると，各文書をtf-Idfの値を元にしたベクトルに変換する\n",
        "#min_df(①少数,②整数)各単語において①使用されている文章の割合、または②使用されている文章数がパラメータ以下の単語を排除。(あまりにも使用されていない単語は排除する)\n",
        "#ngram_rangeは、特徴量として加えるngramの範囲を(下限, 上限)で指定。\n",
        "\n",
        "\n",
        "# ベクトル化(test以外)\n",
        "X_train_valid = vec_tfidf.fit_transform(train_valid['TITLE'])\n",
        "X_test = vec_tfidf.transform(test['TITLE'])\n",
        "#fit_transform()は、fit()とtransform()を同時に行う。入力が文書群，出力がtf-idf行列\n",
        "#fit()：入力の文書群を与えて，語彙の獲得やidfの計算を行う\n",
        "#transform()：文書をtf-idf行列に変換\n",
        "\n",
        "# ベクトルをデータフレームに変換\n",
        "X_train_valid = pd.DataFrame(X_train_valid.toarray(), columns=vec_tfidf.get_feature_names())\n",
        "X_test = pd.DataFrame(X_test.toarray(), columns=vec_tfidf.get_feature_names())\n",
        "#toarrayはndarrayに変換\n",
        "#columnsで列名を指定、get_feature_namesでベクトルがどの単語に対応しているか\n",
        "\n",
        "\n",
        "# データの分割\n",
        "X_train = X_train_valid[:len(train)]\n",
        "X_valid = X_train_valid[len(train):]\n",
        "\n",
        "# データの保存\n",
        "X_train.to_csv('./X_train.txt', sep='\\t', index=False)\n",
        "X_valid.to_csv('./X_valid.txt', sep='\\t', index=False)\n",
        "X_test.to_csv('./X_test.txt', sep='\\t', index=False)\n",
        "\n",
        "print(X_train.head())"
      ],
      "execution_count": 8,
      "outputs": [
        {
          "output_type": "stream",
          "text": [
            "    0m  0million  0nd   0s  0st  ...  yuan  zac  zac efron  zendaya  zone\n",
            "0  0.0       0.0  0.0  0.0  0.0  ...   0.0  0.0        0.0      0.0   0.0\n",
            "1  0.0       0.0  0.0  0.0  0.0  ...   0.0  0.0        0.0      0.0   0.0\n",
            "2  0.0       0.0  0.0  0.0  0.0  ...   0.0  0.0        0.0      0.0   0.0\n",
            "3  0.0       0.0  0.0  0.0  0.0  ...   0.0  0.0        0.0      0.0   0.0\n",
            "4  0.0       0.0  0.0  0.0  0.0  ...   0.0  0.0        0.0      0.0   0.0\n",
            "\n",
            "[5 rows x 2815 columns]\n"
          ],
          "name": "stdout"
        }
      ]
    },
    {
      "cell_type": "markdown",
      "metadata": {
        "id": "d87lKthmioJi"
      },
      "source": [
        "## 52. 学習\n",
        "\n",
        "51で構築した学習データを用いて，ロジスティック回帰モデルを学習せよ．"
      ]
    },
    {
      "cell_type": "markdown",
      "metadata": {
        "id": "Mv4vz9xQH7dP"
      },
      "source": [
        "ロジスティック回帰（Logistic Regression）とは、線形回帰分析を分類問題に応用したアルゴリズム。\n",
        "\n",
        "ロジスティック関数，多くの場合，標準ロジスティック関数 (シグモイド関数) の値を学習の過程で計算するが，この値の大小によって分類結果を出力する．つまり，シグモイド関数の出力が0.5より大きい場合を正，それ以外の場合を負，みたいな感じで分類する．中身は単純パーセプトロンと完全に同じ"
      ]
    },
    {
      "cell_type": "code",
      "metadata": {
        "id": "icQVYuFCnd4-",
        "colab": {
          "base_uri": "https://localhost:8080/"
        },
        "outputId": "5f60bcdb-dea9-4662-9380-9294049d89dc"
      },
      "source": [
        "from sklearn.linear_model import LogisticRegression\n",
        "\n",
        "# モデルの学習\n",
        "lg = LogisticRegression(random_state=123, max_iter=10000)#ロジスティック回帰モデルのインスタンスを作成\n",
        "#max_iterで最大探索回数を指定．-1を指定した場合，収束するまで\n",
        "lg.fit(X_train, train['CATEGORY'])\n",
        "#fit：ロジスティック回帰モデルの重みを学習"
      ],
      "execution_count": 9,
      "outputs": [
        {
          "output_type": "execute_result",
          "data": {
            "text/plain": [
              "LogisticRegression(C=1.0, class_weight=None, dual=False, fit_intercept=True,\n",
              "                   intercept_scaling=1, l1_ratio=None, max_iter=10000,\n",
              "                   multi_class='auto', n_jobs=None, penalty='l2',\n",
              "                   random_state=123, solver='lbfgs', tol=0.0001, verbose=0,\n",
              "                   warm_start=False)"
            ]
          },
          "metadata": {
            "tags": []
          },
          "execution_count": 9
        }
      ]
    },
    {
      "cell_type": "markdown",
      "metadata": {
        "id": "NxreDPbWGYVh"
      },
      "source": [
        "## 53. 予測\n",
        "\n",
        "52で学習したロジスティック回帰モデルを用い，与えられた記事見出しからカテゴリとその予測確率を計算するプログラムを実装せよ．"
      ]
    },
    {
      "cell_type": "code",
      "metadata": {
        "id": "k1Bc2MblneyP",
        "colab": {
          "base_uri": "https://localhost:8080/"
        },
        "outputId": "4f588712-9fd7-46e4-9408-ce6a06cdbc9f"
      },
      "source": [
        "train_pred_category = lg.predict(X_train)\n",
        "test_pred_category = lg.predict(X_test)\n",
        "train_pred_probability = lg.predict_proba(X_train)\n",
        "test_pred_probability = lg.predict_proba(X_test)\n",
        "#predict:予測する、所属しているクラスが返ってくる\n",
        "#predict_proba:所属しているクラスの確率が戻ってくる\n",
        "\n",
        "print(train_pred_category)\n",
        "print(train_pred_probability)\n"
      ],
      "execution_count": 12,
      "outputs": [
        {
          "output_type": "stream",
          "text": [
            "['b' 't' 'm' ... 'b' 'm' 'e']\n",
            "[[9.02517617e-01 9.84413976e-03 9.22116126e-04 8.67161272e-02]\n",
            " [1.61055055e-01 1.06887254e-03 3.68623622e-03 8.34189836e-01]\n",
            " [5.78603814e-03 3.45514050e-03 9.90748265e-01 1.05568195e-05]\n",
            " ...\n",
            " [9.96998263e-01 1.63163771e-03 8.96789443e-04 4.73310033e-04]\n",
            " [2.09617517e-02 1.64665288e-03 9.75934132e-01 1.45746303e-03]\n",
            " [1.52217720e-04 9.94965645e-01 2.46658341e-03 2.41555405e-03]]\n"
          ],
          "name": "stdout"
        }
      ]
    },
    {
      "cell_type": "markdown",
      "metadata": {
        "id": "9H7mj0nVGk9O"
      },
      "source": [
        "## 54. 正解率の計測\n",
        "\n",
        "52で学習したロジスティック回帰モデルの正解率を，学習データおよび評価データ上で計測せよ．"
      ]
    },
    {
      "cell_type": "code",
      "metadata": {
        "id": "Ewyzdd7qnfHz",
        "colab": {
          "base_uri": "https://localhost:8080/"
        },
        "outputId": "8ce08c4b-a9c9-459a-a164-c905756f2dac"
      },
      "source": [
        "from sklearn.metrics import accuracy_score\n",
        "\n",
        "train_accuracy = accuracy_score(train['CATEGORY'], train_pred_category)\n",
        "test_accuracy = accuracy_score(test['CATEGORY'], test_pred_category)\n",
        "#accuracy_score:正解ラベルと予測結果を与えることで、その結果の正解率や正答数を表示\n",
        "#引数normalizaをTrueにすると正解率、Falseにすると正解数が表示\n",
        "\n",
        "print('正解率（学習データ）：',train_accuracy)\n",
        "print('正解率（評価データ）：',test_accuracy)"
      ],
      "execution_count": 13,
      "outputs": [
        {
          "output_type": "stream",
          "text": [
            "正解率（学習データ）： 0.9919505803070011\n",
            "正解率（評価データ）： 0.875748502994012\n"
          ],
          "name": "stdout"
        }
      ]
    },
    {
      "cell_type": "markdown",
      "metadata": {
        "id": "E7z3MRbDXoyD"
      },
      "source": [
        "## 55. 混同行列の作成\n",
        "\n",
        "52で学習したロジスティック回帰モデルの混同行列（confusion matrix）を，学習データおよび評価データ上で作成せよ．"
      ]
    },
    {
      "cell_type": "markdown",
      "metadata": {
        "id": "LvN56fddbi7A"
      },
      "source": [
        "混同行列（confusion matrix）はクラス分類問題の結果を「実際のクラス」と「予測したクラス」を軸にしてまとめたもの。今回のカテゴリ分類は、4値分類であるため、混合行列は4×4。"
      ]
    },
    {
      "cell_type": "code",
      "metadata": {
        "id": "pcZA_s6pla5I",
        "colab": {
          "base_uri": "https://localhost:8080/"
        },
        "outputId": "a220fefc-7562-4b4b-ff20-ec1abc124f1a"
      },
      "source": [
        "from sklearn.metrics import confusion_matrix\n",
        "\n",
        "conmat_train = confusion_matrix(train['CATEGORY'], train_pred_category, labels=[\"b\",\"e\",\"t\",\"m\"])\n",
        "#confusion_matrix：正解ラベルと予測結果を与えることで、混合行列を作成\n",
        "print('混合行列（学習データ）')\n",
        "print(conmat_train)\n",
        "conmat_test = confusion_matrix(test['CATEGORY'], test_pred_category, labels=[\"b\",\"e\",\"t\",\"m\"])\n",
        "print('混合行列（評価データ）')\n",
        "print(conmat_test)"
      ],
      "execution_count": 12,
      "outputs": [
        {
          "output_type": "stream",
          "text": [
            "混合行列（学習データ）\n",
            "[[4344   93   56    8]\n",
            " [  52 4173    8    2]\n",
            " [ 192  133  888    7]\n",
            " [  96  125   13  494]]\n",
            "混合行列（評価データ）\n",
            "[[528  20  13   2]\n",
            " [ 12 516   1   1]\n",
            " [ 38  26  87   1]\n",
            " [ 11  26   2  52]]\n"
          ],
          "name": "stdout"
        }
      ]
    },
    {
      "cell_type": "markdown",
      "metadata": {
        "id": "7wi8b2onXHtY"
      },
      "source": [
        "## 56. 適合率，再現率，F1スコアの計測\n",
        "\n",
        "52で学習したロジスティック回帰モデルの適合率，再現率，F1スコアを，評価データ上で計測せよ．カテゴリごとに適合率，再現率，F1スコアを求め，カテゴリごとの性能をマイクロ平均（micro-average）とマクロ平均（macro-average）で統合せよ．"
      ]
    },
    {
      "cell_type": "markdown",
      "metadata": {
        "id": "Nj2aPq8HakR9"
      },
      "source": [
        "適合率（Precision)\n",
        "：正事例と予測したもののなかで真の値が正事例の割合を表す指標\n",
        "\n",
        "再現率（Recall）\n",
        "：真の値が正事例のもののなかで正事例と予測した割合を表す指標\n",
        "\n",
        "F値（F-measure）\n",
        "：適合率と再現率の2つの指標をまとめた指標。\n",
        "F値は、適合率と再現率の調和平均によって計算\n"
      ]
    },
    {
      "cell_type": "markdown",
      "metadata": {
        "id": "YX-f4arThStO"
      },
      "source": [
        "### マイクロ平均とは\n",
        "**クラスごと**にF1値を計算し、平均したもの\n",
        "正解率の場合：𝑛𝑖回のテストのうち，𝑥𝑖回が正解の場合，マイクロ平均は次式：\n",
        "$\\frac{\\sum_{i=1}^{N} x_i}{\\sum_{i=1}^{N} n_i}$\n",
        "\n",
        "### マクロ平均とは\n",
        "**全クラス**のF1値を計算したもの\n",
        "正解率の場合：𝑛𝑖回のテストのうち，𝑥𝑖回が正解の場合，マクロ平均は次式：\n",
        "$\\frac{1}{N}\\sum_{i=1}^{N}\\frac{x_i}{n_i}$"
      ]
    },
    {
      "cell_type": "code",
      "metadata": {
        "id": "IwRqILfalcnY",
        "colab": {
          "base_uri": "https://localhost:8080/"
        },
        "outputId": "eafe0695-ed0f-4327-8403-fd83e4fbf163"
      },
      "source": [
        "from sklearn.metrics import precision_score, recall_score, f1_score\n",
        "import numpy as np\n",
        "#適合率\n",
        "precision = precision_score(test['CATEGORY'], test_pred_category, average=None, labels=['b', 'e', 't', 'm'])#Noneを指定するとクラスごとの精度をndarrayで返す\n",
        "precision = np.append(precision, precision_score(test['CATEGORY'], test_pred_category, average='micro'))#末尾にマイクロ平均を追加\n",
        "precision = np.append(precision, precision_score(test['CATEGORY'], test_pred_category, average='macro'))#末尾にマクロ平均を追加\n",
        "#再現率\n",
        "recall = recall_score(test['CATEGORY'], test_pred_category, average=None, labels=['b', 'e', 't', 'm'])\n",
        "recall = np.append(recall, recall_score(test['CATEGORY'], test_pred_category, average='micro'))\n",
        "recall = np.append(recall, recall_score(test['CATEGORY'], test_pred_category, average='macro'))\n",
        "#F1スコア\n",
        "f1 = f1_score(test['CATEGORY'], test_pred_category, average=None, labels=['b', 'e', 't', 'm'])\n",
        "f1 = np.append(f1, f1_score(test['CATEGORY'], test_pred_category, average='micro'))\n",
        "f1 = np.append(f1, f1_score(test['CATEGORY'], test_pred_category, average='macro'))\n",
        "\n",
        "#scikit-learnでは、precision_score()、recall_score()、f1_score()に正解と予測結果を与えることで、適合率、再現率、F1スコアの計算を行うことができる。\n",
        "#average引数に、\"binary\",\"micro\",\"macro\",\"weighted\",\"samples\"などのオプションを与えることで、それぞれの方法でスコアの平均を算出する。\n",
        "\n",
        "#結果を結合してデータフレーム化\n",
        "scores = pd.DataFrame({'適合率': precision, '再現率': recall, 'F1スコア': f1},\n",
        "                        index=['b', 'e', 't', 'm', 'マイクロ平均', 'マクロ平均'])\n",
        "print(scores)"
      ],
      "execution_count": 13,
      "outputs": [
        {
          "output_type": "stream",
          "text": [
            "             適合率       再現率     F1スコア\n",
            "b       0.896435  0.937833  0.916667\n",
            "e       0.877551  0.973585  0.923077\n",
            "t       0.844660  0.572368  0.682353\n",
            "m       0.928571  0.571429  0.707483\n",
            "マイクロ平均  0.885479  0.885479  0.885479\n",
            "マクロ平均   0.886804  0.763804  0.807395\n"
          ],
          "name": "stdout"
        }
      ]
    },
    {
      "cell_type": "markdown",
      "metadata": {
        "id": "oiU08ynGs27m"
      },
      "source": [
        "## 57. 特徴量の重みの確認\n",
        "\n",
        "52で学習したロジスティック回帰モデルの中で，重みの高い特徴量トップ10と，重みの低い特徴量トップ10を確認せよ．"
      ]
    },
    {
      "cell_type": "code",
      "metadata": {
        "colab": {
          "base_uri": "https://localhost:8080/"
        },
        "id": "0dzX9du1pIXV",
        "outputId": "77e2a052-5756-40ca-e990-e199808337a8"
      },
      "source": [
        "print(lg.classes_)"
      ],
      "execution_count": 14,
      "outputs": [
        {
          "output_type": "stream",
          "text": [
            "['b' 'e' 'm' 't']\n"
          ],
          "name": "stdout"
        }
      ]
    },
    {
      "cell_type": "code",
      "metadata": {
        "colab": {
          "base_uri": "https://localhost:8080/"
        },
        "id": "4qto6Ae3pSJP",
        "outputId": "caad1c79-6214-4c42-831b-75099b158c71"
      },
      "source": [
        "print(lg.coef_)"
      ],
      "execution_count": 15,
      "outputs": [
        {
          "output_type": "stream",
          "text": [
            "[[-0.0917049  -0.45212142  0.3080151  ... -0.50624355 -0.32170065\n",
            "   0.45414541]\n",
            " [ 0.25078417  0.03130338 -0.24093726 ...  1.02549133  0.56748287\n",
            "  -0.46438314]\n",
            " [-0.14086888  0.59805034 -0.07675176 ... -0.26679316 -0.10262343\n",
            "   0.06333248]\n",
            " [-0.01821039 -0.17723231  0.00967392 ... -0.25245462 -0.14315879\n",
            "  -0.05309475]]\n"
          ],
          "name": "stdout"
        }
      ]
    },
    {
      "cell_type": "code",
      "metadata": {
        "id": "GTkKvXkslc6_",
        "colab": {
          "base_uri": "https://localhost:8080/"
        },
        "outputId": "d841f295-a3e2-4140-bd1c-3af05fde9dfc"
      },
      "source": [
        "features = X_train.columns.values\n",
        "index = [i for i in range(1, 11)]\n",
        "for c, coef in zip(lg.classes_, lg.coef_):\n",
        "  #zip()関数で、複数のリストの要素を取得\n",
        "  #coef_に特徴量の重みが特徴量1つに対して1つの値をもつNumPy配列として保存\n",
        "  if c == 'b':\n",
        "    cate = 'business'\n",
        "  elif c == 'e':\n",
        "    cate = 'entertainment'\n",
        "  elif c == 't':\n",
        "    cate = 'science and technology'\n",
        "  elif c == 'm':\n",
        "    cate = 'health'\n",
        "  print('カテゴリ:',c ,'=',cate)\n",
        "  best10 = pd.DataFrame(features[np.argsort(coef)[::-1][:10]], columns=['重要度上位'], index=index).T\n",
        "  worst10 = pd.DataFrame(features[np.argsort(coef)[:10]], columns=['重要度下位'], index=index).T\n",
        "  #np.argsortは、p.argsort()は値ではなく並び替えたインデックスを返す。\n",
        "  #.Tは転置\n",
        "  #[::-1]を使うことで、降順にする\n",
        "  print(pd.concat([best10, worst10]))\n",
        "  #pd.concatで、複数のpandas.DataFrameを連結する。\n",
        "  print('\\n')"
      ],
      "execution_count": 16,
      "outputs": [
        {
          "output_type": "stream",
          "text": [
            "カテゴリ: b = business\n",
            "          1      2      3    4   ...         7       8       9          10\n",
            "重要度上位   bank    fed  china  ecb  ...  obamacare     oil  yellen     dollar\n",
            "重要度下位  video  ebola    the  her  ...      apple  google    star  microsoft\n",
            "\n",
            "[2 rows x 10 columns]\n",
            "\n",
            "\n",
            "カテゴリ: e = entertainment\n",
            "               1       2       3      4   ...    7         8        9     10\n",
            "重要度上位  kardashian   chris     her  movie  ...  paul        he  wedding   she\n",
            "重要度下位          us  update  google  study  ...   ceo  facebook    apple  says\n",
            "\n",
            "[2 rows x 10 columns]\n",
            "\n",
            "\n",
            "カテゴリ: m = health\n",
            "             1      2       3      4   ...      7      8        9           10\n",
            "重要度上位     ebola  study  cancer   drug  ...   cases    cdc    could  cigarettes\n",
            "重要度下位  facebook     gm     ceo  apple  ...  google  sales  climate     twitter\n",
            "\n",
            "[2 rows x 10 columns]\n",
            "\n",
            "\n",
            "カテゴリ: t = science and technology\n",
            "           1         2      3          4   ...      7        8        9           10\n",
            "重要度上位  google  facebook  apple  microsoft  ...    nasa    tesla  comcast  heartbleed\n",
            "重要度下位  stocks       fed    her    percent  ...  cancer  ukraine    still      shares\n",
            "\n",
            "[2 rows x 10 columns]\n",
            "\n",
            "\n"
          ],
          "name": "stdout"
        }
      ]
    },
    {
      "cell_type": "markdown",
      "metadata": {
        "id": "TDGkKQupt5TM"
      },
      "source": [
        "##58. 正則化パラメータの変更\n",
        "\n",
        "ロジスティック回帰モデルを学習するとき，正則化パラメータを調整することで，学習時の過学習（overfitting）の度合いを制御できる．異なる正則化パラメータでロジスティック回帰モデルを学習し，学習データ，検証データ，および評価データ上の正解率を求めよ．実験の結果は，正則化パラメータを横軸，正解率を縦軸としたグラフにまとめよ．"
      ]
    },
    {
      "cell_type": "markdown",
      "metadata": {
        "id": "TWrr2aakPomc"
      },
      "source": [
        "過学習：訓練データ特有の個性に合わせてしまい、汎用的でなくなってしまう現象\n"
      ]
    },
    {
      "cell_type": "code",
      "metadata": {
        "id": "CMB_LnBOldNz",
        "colab": {
          "base_uri": "https://localhost:8080/"
        },
        "outputId": "c534bc0a-9b7f-4628-84dc-bbd4b285b67b"
      },
      "source": [
        "from tqdm import tqdm\n",
        "\n",
        "answer58 = []\n",
        "for C in tqdm(np.logspace(-5, 4, 10, base=10)):\n",
        "  #tqdmは、走らせた処理の進捗状況をプログレスバーとして表示する\n",
        "  #np.logspaceは、対数スケールの配列を生成。例：np.logspace(1, 10, 10, base=2) == [2. 4. 8. 16. 32. 64. 128. 256. 512. 1024.]\n",
        "  lg = LogisticRegression(random_state=123, max_iter=10000, C=C)\n",
        "  #LogisticRegressionでは、引数Cにより、正規化の強さを指定する。Cの値が小さいほど正則化の強さが増す。\n",
        "  lg.fit(X_train, train['CATEGORY'])\n",
        "\n",
        "  train_pred = lg.predict(X_train)\n",
        "  valid_pred = lg.predict(X_valid)\n",
        "  test_pred = lg.predict(X_test)\n",
        "\n",
        "  train_accuracy = accuracy_score(train['CATEGORY'], train_pred)\n",
        "  valid_accuracy = accuracy_score(valid['CATEGORY'], valid_pred)\n",
        "  test_accuracy = accuracy_score(test['CATEGORY'], test_pred)\n",
        "\n",
        "  answer58.append([C, train_accuracy, valid_accuracy, test_accuracy])\n"
      ],
      "execution_count": 17,
      "outputs": [
        {
          "output_type": "stream",
          "text": [
            "100%|██████████| 10/10 [13:25<00:00, 80.56s/it] \n"
          ],
          "name": "stderr"
        }
      ]
    },
    {
      "cell_type": "code",
      "metadata": {
        "colab": {
          "base_uri": "https://localhost:8080/",
          "height": 463
        },
        "id": "iU58A4UVJi49",
        "outputId": "2b107132-46d4-46d8-c738-74b52128a7f1"
      },
      "source": [
        "import matplotlib.pyplot as plt\n",
        "\n",
        "answer58 = np.array(answer58).T\n",
        "plt.plot(answer58[0], answer58[1], label='train')\n",
        "plt.plot(answer58[0], answer58[2], label='valid')\n",
        "plt.plot(answer58[0], answer58[3], label='test')\n",
        "plt.ylim(0, 1.1)\n",
        "plt.ylabel('Accuracy')\n",
        "plt.xscale ('log')\n",
        "plt.xlabel('C')\n",
        "plt.legend()\n",
        "plt.show()\n",
        "\n",
        "answer58 = np.array(answer58).T\n",
        "print(answer58)"
      ],
      "execution_count": 18,
      "outputs": [
        {
          "output_type": "display_data",
          "data": {
            "image/png": "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\n",
            "text/plain": [
              "<Figure size 432x288 with 1 Axes>"
            ]
          },
          "metadata": {
            "tags": [],
            "needs_background": "light"
          }
        },
        {
          "output_type": "stream",
          "text": [
            "[[1.00000000e-05 4.21284163e-01 4.21407186e-01 4.21407186e-01]\n",
            " [1.00000000e-04 4.21284163e-01 4.21407186e-01 4.21407186e-01]\n",
            " [1.00000000e-03 4.73137402e-01 4.65568862e-01 4.82784431e-01]\n",
            " [1.00000000e-02 7.60670161e-01 7.58982036e-01 7.53742515e-01]\n",
            " [1.00000000e-01 8.04473980e-01 7.91916168e-01 7.97904192e-01]\n",
            " [1.00000000e+00 9.26525646e-01 8.77994012e-01 8.85479042e-01]\n",
            " [1.00000000e+01 9.78098091e-01 8.87724551e-01 8.91467066e-01]\n",
            " [1.00000000e+02 9.97004867e-01 8.70508982e-01 8.71257485e-01]\n",
            " [1.00000000e+03 9.98408836e-01 8.54041916e-01 8.63772455e-01]\n",
            " [1.00000000e+04 9.98783227e-01 8.46556886e-01 8.51047904e-01]]\n"
          ],
          "name": "stdout"
        }
      ]
    },
    {
      "cell_type": "markdown",
      "metadata": {
        "id": "bTWrMAW9OYoy"
      },
      "source": [
        "評価精度が一番高いのは、C=10^1の時\n"
      ]
    },
    {
      "cell_type": "markdown",
      "metadata": {
        "id": "g63_5eGbIOFe"
      },
      "source": [
        "##59. ハイパーパラメータの探索\n",
        "\n",
        "学習アルゴリズムや学習パラメータを変えながら，カテゴリ分類モデルを学習せよ．検証データ上の正解率が最も高くなる学習アルゴリズム・パラメータを求めよ．また，その学習アルゴリズム・パラメータを用いたときの評価データ上の正解率を求めよ．"
      ]
    },
    {
      "cell_type": "markdown",
      "metadata": {
        "id": "n35T7WTl_qrC"
      },
      "source": [
        "ハイパーパラメータの最適化手法は、主に3つ。\n",
        "\n",
        "１．グリッドサーチ（Grid Search）\n",
        "\n",
        "２．ランダムサーチ（Random Search）\n",
        "\n",
        "３．ベイズ最適化（Bayesian Optimization）"
      ]
    },
    {
      "cell_type": "markdown",
      "metadata": {
        "id": "MdwONFlbAAqS"
      },
      "source": [
        "**グリッドサーチ**\n",
        "\n",
        "グリッドサーチとは、与えられたハイパーパラメータの候補の値の全パターンのモデル構築を行う手法。グリッドサーチは調整するハイパーパラメータの数が少ない場合やある程度の「あたり」がついている場合に使用することが多く、全組み合わせのモデル訓練を行うので、大規模データなど訓練時間が長い場合はグリッドサーチを使うことは滅多にない。"
      ]
    },
    {
      "cell_type": "markdown",
      "metadata": {
        "id": "y_A0gvlrAd9P"
      },
      "source": [
        "**ランダムサーチ**\n",
        "\n",
        "ランダムサーチとは、候補の値をランダムに組み合わせたモデル訓練を行いハイパーパラメータを検証する手法。調整する値が多くても、対応可能であるが、ランダムに検証するため、運任せの要素がある。"
      ]
    },
    {
      "cell_type": "markdown",
      "metadata": {
        "id": "HGyDb8FVBY7P"
      },
      "source": [
        "**ベイズ最適化**\n",
        "\n",
        "ベイズ最適化とは、不確かさを利用して次に探索を行うべき値を探していく最適化アルゴリズムの一種。「前回の結果を基に次に調べる値を決めていく」\n",
        "\n",
        "ベイズ最適化は「Exploration（探索）」と「Exploitation（活用）」の2つの戦略を使って最適化を順次的に行う。Exploitation（活用）とは以前にやってみて良い結果が出たら継続してその近辺を調べてみること。Exploration（探索）はもっと良い結果があると考えてあえて異なる部分を調べること。"
      ]
    },
    {
      "cell_type": "markdown",
      "metadata": {
        "id": "FRLQDjLbB5Hu"
      },
      "source": [
        "今回、ハイパーパラメータ探索に用いるOputimaは、ハイパーパラメータの値に関する試行錯誤を自動的に行いながら、優れた性能を発揮するハイパーパラメータの値を自動的に発見できるツールであり、Tree-structured Parzen Estimator というベイズ最適化アルゴリズムを利用している。"
      ]
    },
    {
      "cell_type": "code",
      "metadata": {
        "id": "xLEELQRvldl8",
        "colab": {
          "base_uri": "https://localhost:8080/"
        },
        "outputId": "70a9849a-135f-4f04-8142-85377f1fce99"
      },
      "source": [
        "!pip install optuna\n",
        "#最適化にはoptunaを用いる"
      ],
      "execution_count": 19,
      "outputs": [
        {
          "output_type": "stream",
          "text": [
            "Requirement already satisfied: optuna in /usr/local/lib/python3.7/dist-packages (2.8.0)\n",
            "Requirement already satisfied: cliff in /usr/local/lib/python3.7/dist-packages (from optuna) (3.8.0)\n",
            "Requirement already satisfied: scipy!=1.4.0 in /usr/local/lib/python3.7/dist-packages (from optuna) (1.4.1)\n",
            "Requirement already satisfied: sqlalchemy>=1.1.0 in /usr/local/lib/python3.7/dist-packages (from optuna) (1.4.15)\n",
            "Requirement already satisfied: numpy in /usr/local/lib/python3.7/dist-packages (from optuna) (1.19.5)\n",
            "Requirement already satisfied: alembic in /usr/local/lib/python3.7/dist-packages (from optuna) (1.6.5)\n",
            "Requirement already satisfied: tqdm in /usr/local/lib/python3.7/dist-packages (from optuna) (4.41.1)\n",
            "Requirement already satisfied: cmaes>=0.8.2 in /usr/local/lib/python3.7/dist-packages (from optuna) (0.8.2)\n",
            "Requirement already satisfied: packaging>=20.0 in /usr/local/lib/python3.7/dist-packages (from optuna) (20.9)\n",
            "Requirement already satisfied: colorlog in /usr/local/lib/python3.7/dist-packages (from optuna) (5.0.1)\n",
            "Requirement already satisfied: stevedore>=2.0.1 in /usr/local/lib/python3.7/dist-packages (from cliff->optuna) (3.3.0)\n",
            "Requirement already satisfied: PyYAML>=3.12 in /usr/local/lib/python3.7/dist-packages (from cliff->optuna) (3.13)\n",
            "Requirement already satisfied: pyparsing>=2.1.0 in /usr/local/lib/python3.7/dist-packages (from cliff->optuna) (2.4.7)\n",
            "Requirement already satisfied: cmd2>=1.0.0 in /usr/local/lib/python3.7/dist-packages (from cliff->optuna) (2.0.1)\n",
            "Requirement already satisfied: pbr!=2.1.0,>=2.0.0 in /usr/local/lib/python3.7/dist-packages (from cliff->optuna) (5.6.0)\n",
            "Requirement already satisfied: PrettyTable>=0.7.2 in /usr/local/lib/python3.7/dist-packages (from cliff->optuna) (2.1.0)\n",
            "Requirement already satisfied: importlib-metadata; python_version < \"3.8\" in /usr/local/lib/python3.7/dist-packages (from sqlalchemy>=1.1.0->optuna) (4.0.1)\n",
            "Requirement already satisfied: greenlet!=0.4.17; python_version >= \"3\" in /usr/local/lib/python3.7/dist-packages (from sqlalchemy>=1.1.0->optuna) (1.1.0)\n",
            "Requirement already satisfied: Mako in /usr/local/lib/python3.7/dist-packages (from alembic->optuna) (1.1.4)\n",
            "Requirement already satisfied: python-dateutil in /usr/local/lib/python3.7/dist-packages (from alembic->optuna) (2.8.1)\n",
            "Requirement already satisfied: python-editor>=0.3 in /usr/local/lib/python3.7/dist-packages (from alembic->optuna) (1.0.4)\n",
            "Requirement already satisfied: pyperclip>=1.6 in /usr/local/lib/python3.7/dist-packages (from cmd2>=1.0.0->cliff->optuna) (1.8.2)\n",
            "Requirement already satisfied: colorama>=0.3.7 in /usr/local/lib/python3.7/dist-packages (from cmd2>=1.0.0->cliff->optuna) (0.4.4)\n",
            "Requirement already satisfied: wcwidth>=0.1.7 in /usr/local/lib/python3.7/dist-packages (from cmd2>=1.0.0->cliff->optuna) (0.2.5)\n",
            "Requirement already satisfied: typing-extensions; python_version < \"3.8\" in /usr/local/lib/python3.7/dist-packages (from cmd2>=1.0.0->cliff->optuna) (3.7.4.3)\n",
            "Requirement already satisfied: attrs>=16.3.0 in /usr/local/lib/python3.7/dist-packages (from cmd2>=1.0.0->cliff->optuna) (21.2.0)\n",
            "Requirement already satisfied: zipp>=0.5 in /usr/local/lib/python3.7/dist-packages (from importlib-metadata; python_version < \"3.8\"->sqlalchemy>=1.1.0->optuna) (3.4.1)\n",
            "Requirement already satisfied: MarkupSafe>=0.9.2 in /usr/local/lib/python3.7/dist-packages (from Mako->alembic->optuna) (2.0.1)\n",
            "Requirement already satisfied: six>=1.5 in /usr/local/lib/python3.7/dist-packages (from python-dateutil->alembic->optuna) (1.15.0)\n"
          ],
          "name": "stdout"
        }
      ]
    },
    {
      "cell_type": "markdown",
      "metadata": {
        "id": "fEhWTznnZUz5"
      },
      "source": [
        "Optunaを用いたチューニングの実装は大きく3ステップ。\n",
        "\n",
        "# ステップ1. \n",
        "\n",
        "目的関数 (f) をラップするobjective関数を定義\n",
        "\n",
        "〇引数 (trial) はTrial型の値\n",
        "\n",
        "　　・探索 (トライアル) の途中状態を持つ\n",
        "\n",
        "　　・次に試すxを選ぶ (parameter suggestion) のインタフェースを持つ\n",
        "\n",
        "# ステップ2.\n",
        "\n",
        "Study型の変数 (study) を生成\n",
        "\n",
        "〇storage、sampler、prunerのインスタンスを持ち、新しいトライアルを実行するクラス\n",
        "\n",
        "　　・storage: これまでのトライアルの結果を入出力する\n",
        "\n",
        "　　・sampler: 次のトライアルのパラメータを選択する\n",
        "\n",
        "　　・pruner: トライアルを途中で打ち切るかジャッジする\n",
        "\n",
        "〇create_study関数で初期化する\n",
        "\n",
        "　　・direction=\"maximize\"とすることで、最大値を求める (デフォルトは\"minimize\")\n",
        "\n",
        "\n",
        "　　・storage (デフォルトはInMemoryStorage)、sampler (デフォルトはTPE 2) 、pruner (デフォルトはMedianPruner 3) もこの関数の引数で指定\n",
        "# ステップ3.\n",
        "\n",
        "optimizeメソッドで最適化\n",
        "\n",
        "最終的な結果はStudyのアトリビュート (best_value, best_params) に格納\n",
        "\n",
        "履歴はget_trialsメソッド"
      ]
    },
    {
      "cell_type": "code",
      "metadata": {
        "id": "JBmveypNZ4W1"
      },
      "source": [
        "import optuna\n",
        "\n",
        "#最適化対象を関数で指定\n",
        "def objective_lg(trial):\n",
        "  #チューニング対象パラメータのセット\n",
        "  l1_ratio = trial.suggest_uniform('l1_ratio', 0, 1)\n",
        "  C = trial.suggest_loguniform('C', 1e-4, 1e4)\n",
        "\n",
        "  #モデルの学習\n",
        "  lg = LogisticRegression(random_state=123, \n",
        "                          max_iter=10000, \n",
        "                          penalty='elasticnet', \n",
        "                          solver='saga', \n",
        "                          l1_ratio=l1_ratio, \n",
        "                          C=C)\n",
        "  lg.fit(X_train, train['CATEGORY'])\n",
        "\n",
        "  #予測値の取得\n",
        "  valid_pred = lg.predict(X_valid)\n",
        "\n",
        "  #正解率の算出\n",
        "  valid_accuracy = accuracy_score(valid['CATEGORY'], valid_pred)    \n",
        "\n",
        "  return valid_accuracy "
      ],
      "execution_count": 20,
      "outputs": []
    },
    {
      "cell_type": "code",
      "metadata": {
        "colab": {
          "base_uri": "https://localhost:8080/"
        },
        "id": "0asRjpwafFVB",
        "outputId": "eaf05962-681c-41e2-a8b2-7a2d6c949ab2"
      },
      "source": [
        "#最適化\n",
        "study = optuna.create_study(direction='maximize')\n",
        "study.optimize(objective_lg, timeout=3600)\n",
        "\n",
        "#結果の表示\n",
        "print('Best trial:')\n",
        "trial = study.best_trial\n",
        "print('  Value: {:.3f}'.format(trial.value))\n",
        "print('  Params: ')\n",
        "for key, value in trial.params.items():\n",
        "  print('    {}: {}'.format(key, value))"
      ],
      "execution_count": 21,
      "outputs": [
        {
          "output_type": "stream",
          "text": [
            "\u001b[32m[I 2021-06-09 02:46:30,943]\u001b[0m A new study created in memory with name: no-name-b7dcfe6d-3d52-4669-a530-6931ec2cb887\u001b[0m\n",
            "\u001b[32m[I 2021-06-09 02:58:06,814]\u001b[0m Trial 0 finished with value: 0.8675149700598802 and parameters: {'l1_ratio': 0.5384935921299049, 'C': 125.79663443816425}. Best is trial 0 with value: 0.8675149700598802.\u001b[0m\n",
            "\u001b[32m[I 2021-06-09 02:58:11,117]\u001b[0m Trial 1 finished with value: 0.39595808383233533 and parameters: {'l1_ratio': 0.9693821705428391, 'C': 0.0006870422604456002}. Best is trial 0 with value: 0.8675149700598802.\u001b[0m\n",
            "\u001b[32m[I 2021-06-09 03:03:48,593]\u001b[0m Trial 2 finished with value: 0.875748502994012 and parameters: {'l1_ratio': 0.6896111952936348, 'C': 20.44442168152362}. Best is trial 2 with value: 0.875748502994012.\u001b[0m\n",
            "\u001b[32m[I 2021-06-09 03:03:53,941]\u001b[0m Trial 3 finished with value: 0.4214071856287425 and parameters: {'l1_ratio': 0.8808888286476836, 'C': 0.002372142424321393}. Best is trial 2 with value: 0.875748502994012.\u001b[0m\n",
            "\u001b[32m[I 2021-06-09 03:42:17,998]\u001b[0m Trial 4 finished with value: 0.8555389221556886 and parameters: {'l1_ratio': 0.47457260520455036, 'C': 8473.678109860279}. Best is trial 2 with value: 0.875748502994012.\u001b[0m\n",
            "\u001b[32m[I 2021-06-09 03:42:25,433]\u001b[0m Trial 5 finished with value: 0.4214071856287425 and parameters: {'l1_ratio': 0.6782102703242013, 'C': 0.002538442129601996}. Best is trial 2 with value: 0.875748502994012.\u001b[0m\n",
            "\u001b[32m[I 2021-06-09 03:53:03,313]\u001b[0m Trial 6 finished with value: 0.8652694610778443 and parameters: {'l1_ratio': 0.30205729648796487, 'C': 206.84935213233956}. Best is trial 2 with value: 0.875748502994012.\u001b[0m\n"
          ],
          "name": "stderr"
        },
        {
          "output_type": "stream",
          "text": [
            "Best trial:\n",
            "  Value: 0.876\n",
            "  Params: \n",
            "    l1_ratio: 0.6896111952936348\n",
            "    C: 20.44442168152362\n"
          ],
          "name": "stdout"
        }
      ]
    },
    {
      "cell_type": "code",
      "metadata": {
        "colab": {
          "base_uri": "https://localhost:8080/"
        },
        "id": "dMhsdrfD6gcY",
        "outputId": "ca3eb836-4e34-4688-ac3b-df864277359e"
      },
      "source": [
        "\n",
        "#モデルの学習\n",
        "lg = LogisticRegression(random_state=123, \n",
        "                        max_iter=10000, \n",
        "                        penalty='elasticnet', \n",
        "                        solver='saga', \n",
        "                        l1_ratio=0.6896111952936348, \n",
        "                        C=20.44442168152362)\n",
        "lg.fit(X_train, train['CATEGORY'])\n",
        "\n",
        "#予測値の取得\n",
        "train_pred = lg.predict(X_train)\n",
        "valid_pred = lg.predict(X_valid)\n",
        "test_pred = lg.predict(X_test)\n",
        "\n",
        "#正解率の算出\n",
        "train_accuracy = accuracy_score(train['CATEGORY'], train_pred) \n",
        "valid_accuracy = accuracy_score(valid['CATEGORY'], valid_pred) \n",
        "test_accuracy = accuracy_score(test['CATEGORY'], test_pred) \n",
        "\n",
        "print(f'正解率（学習データ）：{train_accuracy:.3f}')\n",
        "print(f'正解率（検証データ）：{valid_accuracy:.3f}')\n",
        "print(f'正解率（評価データ）：{test_accuracy:.3f}')"
      ],
      "execution_count": 14,
      "outputs": [
        {
          "output_type": "stream",
          "text": [
            "正解率（学習データ）：0.992\n",
            "正解率（検証データ）：0.876\n",
            "正解率（評価データ）：0.876\n"
          ],
          "name": "stdout"
        }
      ]
    }
  ]
}
