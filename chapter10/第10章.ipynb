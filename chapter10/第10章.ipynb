{
  "nbformat": 4,
  "nbformat_minor": 0,
  "metadata": {
    "accelerator": "GPU",
    "colab": {
      "name": "第10章.ipynb",
      "provenance": [],
      "collapsed_sections": [],
      "machine_shape": "hm"
    },
    "kernelspec": {
      "display_name": "Python 3",
      "name": "python3"
    },
    "language_info": {
      "name": "python"
    }
  },
  "cells": [
    {
      "cell_type": "markdown",
      "metadata": {
        "id": "ECXWHiYPsNCn"
      },
      "source": [
        "[Special Thanks](https://qiita.com/nymwa/items/867e05a43060d036a174#97-%E3%83%8F%E3%82%A4%E3%83%91%E3%83%BC%E3%83%91%E3%83%A9%E3%83%A1%E3%83%BC%E3%82%BF%E3%81%AE%E8%AA%BF%E6%95%B4)"
      ]
    },
    {
      "cell_type": "markdown",
      "metadata": {
        "id": "4sWkdPzMx0Kq"
      },
      "source": [
        "## 90. データの準備\n",
        "機械翻訳のデータセットをダウンロードせよ．訓練データ，開発データ，評価データを整形し，必要に応じてトークン化などの前処理を行うこと．ただし，この段階ではトークンの単位として形態素（日本語）および単語（英語）を採用せよ．\n"
      ]
    },
    {
      "cell_type": "code",
      "metadata": {
        "colab": {
          "base_uri": "https://localhost:8080/"
        },
        "id": "xa2D-LCchJc-",
        "outputId": "eaee7c98-74f3-4b74-f586-8bd953abf8a7"
      },
      "source": [
        "!wget http://www.phontron.com/kftt/download/kftt-data-1.0.tar.gz"
      ],
      "execution_count": 15,
      "outputs": [
        {
          "output_type": "stream",
          "text": [
            "--2021-07-29 09:11:52--  http://www.phontron.com/kftt/download/kftt-data-1.0.tar.gz\n",
            "Resolving www.phontron.com (www.phontron.com)... 208.113.196.149\n",
            "Connecting to www.phontron.com (www.phontron.com)|208.113.196.149|:80... connected.\n",
            "HTTP request sent, awaiting response... 200 OK\n",
            "Length: 99246893 (95M) [application/gzip]\n",
            "Saving to: ‘kftt-data-1.0.tar.gz.2’\n",
            "\n",
            "kftt-data-1.0.tar.g 100%[===================>]  94.65M  33.9MB/s    in 2.8s    \n",
            "\n",
            "2021-07-29 09:11:55 (33.9 MB/s) - ‘kftt-data-1.0.tar.gz.2’ saved [99246893/99246893]\n",
            "\n"
          ],
          "name": "stdout"
        }
      ]
    },
    {
      "cell_type": "code",
      "metadata": {
        "colab": {
          "base_uri": "https://localhost:8080/"
        },
        "id": "4h6i-1PBq66Q",
        "outputId": "ed5a476e-c1de-4aad-f367-fdef79c9317e"
      },
      "source": [
        "#*/*/tok/*にtoken化済みファイルがある\n",
        "!tar -zxvf kftt-data-1.0.tar.gz"
      ],
      "execution_count": null,
      "outputs": [
        {
          "output_type": "stream",
          "text": [
            "kftt-data-1.0/\n",
            "kftt-data-1.0/data/\n",
            "kftt-data-1.0/data/orig/\n",
            "kftt-data-1.0/data/orig/kyoto-tune.en\n",
            "kftt-data-1.0/data/orig/kyoto-dev.ja\n",
            "kftt-data-1.0/data/orig/kyoto-dev.en\n",
            "kftt-data-1.0/data/orig/kyoto-train.en\n",
            "kftt-data-1.0/data/orig/kyoto-tune.ja\n",
            "kftt-data-1.0/data/orig/kyoto-train.ja\n",
            "kftt-data-1.0/data/orig/kyoto-test.ja\n",
            "kftt-data-1.0/data/orig/kyoto-test.en\n",
            "kftt-data-1.0/data/tok/\n",
            "kftt-data-1.0/data/tok/kyoto-tune.en\n",
            "kftt-data-1.0/data/tok/kyoto-dev.ja\n",
            "kftt-data-1.0/data/tok/kyoto-train.cln.en\n",
            "kftt-data-1.0/data/tok/kyoto-dev.en\n",
            "kftt-data-1.0/data/tok/kyoto-train.en\n",
            "kftt-data-1.0/data/tok/kyoto-tune.ja\n",
            "kftt-data-1.0/data/tok/kyoto-train.cln.ja\n",
            "kftt-data-1.0/data/tok/kyoto-train.ja\n",
            "kftt-data-1.0/data/tok/kyoto-test.ja\n",
            "kftt-data-1.0/data/tok/kyoto-test.en\n",
            "kftt-data-1.0/README.txt\n"
          ],
          "name": "stdout"
        }
      ]
    },
    {
      "cell_type": "code",
      "metadata": {
        "colab": {
          "base_uri": "https://localhost:8080/"
        },
        "id": "EU9E-G5q2nyG",
        "outputId": "37608d73-4264-4525-9511-2990763c252b"
      },
      "source": [
        "!head kftt-data-1.0/data/tok/kyoto-train.ja"
      ],
      "execution_count": null,
      "outputs": [
        {
          "output_type": "stream",
          "text": [
            "雪舟 （ せっしゅう 、 1420 年 （ 応永 27 年 ） - 1506 年 （ 永正 3 年 ） ） は 号 で 、 15 世紀 後半 室町 時代 に 活躍 し た 水墨 画 家 ・ 禅僧 で 、 画聖 と も 称え られ る 。\n",
            "日本 の 水墨 画 を 一変 さ せ た 。\n",
            "諱 は 「 等楊 （ とうよう ） 」 、 もしくは 「 拙宗 （ せっしゅう ） 」 と 号 し た 。\n",
            "備中 国 に 生まれ 、 京都 ・ 相国 寺 に 入 っ て から 周防 国 に 移 る 。\n",
            "その 後 遣明 使 に 随行 し て 中国 （ 明 ） に 渡 っ て 中国 の 水墨 画 を 学 ん だ 。\n",
            "作品 は 数 多 く 、 中国 風 の 山水 画 だけ で な く 人物 画 や 花鳥 画 も よ く し た 。\n",
            "大胆 な 構図 と 力強 い 筆線 は 非常 に 個性 的 な 画風 を 作り出 し て い る 。\n",
            "現存 する 作品 の うち 6 点 が 国宝 に 指定 さ れ て お り 、 日本 の 画家 の なか で も 別格 の 評価 を 受け て い る と いえ る 。\n",
            "この ため 、 花鳥 図 屏風 など に 「 伝 雪舟 筆 」 さ れ る 作品 は 大変 多 い 。\n",
            "真筆 で あ る か 専門 家 の 間 で も 意見 の 分かれ る もの も 多々 あ る 。\n"
          ],
          "name": "stdout"
        }
      ]
    },
    {
      "cell_type": "code",
      "metadata": {
        "colab": {
          "base_uri": "https://localhost:8080/"
        },
        "id": "mCBjIkJm4X4d",
        "outputId": "ca236273-c99d-4d1f-9723-c90697e16705"
      },
      "source": [
        "!head kftt-data-1.0/data/tok/kyoto-train.en"
      ],
      "execution_count": null,
      "outputs": [
        {
          "output_type": "stream",
          "text": [
            "Known as Sesshu ( 1420 - 1506 ) , he was an ink painter and Zen monk active in the Muromachi period in the latter half of the 15th century , and was called a master painter .\n",
            "He revolutionized the Japanese ink painting .\n",
            "He was given the posthumous name \" Toyo \" or \" Sesshu ( 拙宗 ) . \"\n",
            "Born in Bicchu Province , he moved to Suo Province after entering SShokoku-ji Temple in Kyoto .\n",
            "Later he accompanied a mission to Ming Dynasty China and learned Chinese ink painting .\n",
            "His works were many , including not only Chinese-style landscape paintings , but also portraits and pictures of flowers and birds .\n",
            "His bold compositions and strong brush strokes constituted an extremely distinctive style .\n",
            "6 of his extant works are designated national treasures . Indeed , he is considered to be extraordinary among Japanese painters .\n",
            "For this reason , there are a great many artworks that are attributed to him , such as folding screens with pictures of flowers and that birds are painted on them .\n",
            "There are many works that even experts cannot agree if they are really his work or not .\n"
          ],
          "name": "stdout"
        }
      ]
    },
    {
      "cell_type": "markdown",
      "metadata": {
        "id": "chVvkOlRyCK9"
      },
      "source": [
        "## 91  機械翻訳モデルの訓練\n",
        "90で準備したデータを用いて，ニューラル機械翻訳のモデルを学習せよ（ニューラルネットワークのモデルはTransformerやLSTMなど適当に選んでよい）．\n",
        "\n"
      ]
    },
    {
      "cell_type": "markdown",
      "metadata": {
        "id": "lnC1YKp-3kSx"
      },
      "source": [
        "Fairseqを使う\n",
        "- facebook製のpytorchで書かれたライブラリ"
      ]
    },
    {
      "cell_type": "code",
      "metadata": {
        "colab": {
          "base_uri": "https://localhost:8080/",
          "height": 854
        },
        "id": "7S_XN8kz4iQ-",
        "outputId": "0fa53129-24da-496d-863b-0ae8bcb97d6f"
      },
      "source": [
        "!pip install fairseq"
      ],
      "execution_count": null,
      "outputs": [
        {
          "output_type": "stream",
          "text": [
            "Collecting fairseq\n",
            "  Downloading fairseq-0.10.2-cp37-cp37m-manylinux1_x86_64.whl (1.7 MB)\n",
            "\u001b[?25l\r\u001b[K     |▏                               | 10 kB 19.4 MB/s eta 0:00:01\r\u001b[K     |▍                               | 20 kB 21.4 MB/s eta 0:00:01\r\u001b[K     |▋                               | 30 kB 23.8 MB/s eta 0:00:01\r\u001b[K     |▊                               | 40 kB 19.2 MB/s eta 0:00:01\r\u001b[K     |█                               | 51 kB 8.1 MB/s eta 0:00:01\r\u001b[K     |█▏                              | 61 kB 9.3 MB/s eta 0:00:01\r\u001b[K     |█▍                              | 71 kB 8.9 MB/s eta 0:00:01\r\u001b[K     |█▌                              | 81 kB 9.8 MB/s eta 0:00:01\r\u001b[K     |█▊                              | 92 kB 10.3 MB/s eta 0:00:01\r\u001b[K     |██                              | 102 kB 8.4 MB/s eta 0:00:01\r\u001b[K     |██▏                             | 112 kB 8.4 MB/s eta 0:00:01\r\u001b[K     |██▎                             | 122 kB 8.4 MB/s eta 0:00:01\r\u001b[K     |██▌                             | 133 kB 8.4 MB/s eta 0:00:01\r\u001b[K     |██▊                             | 143 kB 8.4 MB/s eta 0:00:01\r\u001b[K     |███                             | 153 kB 8.4 MB/s eta 0:00:01\r\u001b[K     |███                             | 163 kB 8.4 MB/s eta 0:00:01\r\u001b[K     |███▎                            | 174 kB 8.4 MB/s eta 0:00:01\r\u001b[K     |███▌                            | 184 kB 8.4 MB/s eta 0:00:01\r\u001b[K     |███▊                            | 194 kB 8.4 MB/s eta 0:00:01\r\u001b[K     |███▉                            | 204 kB 8.4 MB/s eta 0:00:01\r\u001b[K     |████                            | 215 kB 8.4 MB/s eta 0:00:01\r\u001b[K     |████▎                           | 225 kB 8.4 MB/s eta 0:00:01\r\u001b[K     |████▌                           | 235 kB 8.4 MB/s eta 0:00:01\r\u001b[K     |████▋                           | 245 kB 8.4 MB/s eta 0:00:01\r\u001b[K     |████▉                           | 256 kB 8.4 MB/s eta 0:00:01\r\u001b[K     |█████                           | 266 kB 8.4 MB/s eta 0:00:01\r\u001b[K     |█████▎                          | 276 kB 8.4 MB/s eta 0:00:01\r\u001b[K     |█████▍                          | 286 kB 8.4 MB/s eta 0:00:01\r\u001b[K     |█████▋                          | 296 kB 8.4 MB/s eta 0:00:01\r\u001b[K     |█████▉                          | 307 kB 8.4 MB/s eta 0:00:01\r\u001b[K     |██████                          | 317 kB 8.4 MB/s eta 0:00:01\r\u001b[K     |██████▏                         | 327 kB 8.4 MB/s eta 0:00:01\r\u001b[K     |██████▍                         | 337 kB 8.4 MB/s eta 0:00:01\r\u001b[K     |██████▋                         | 348 kB 8.4 MB/s eta 0:00:01\r\u001b[K     |██████▉                         | 358 kB 8.4 MB/s eta 0:00:01\r\u001b[K     |███████                         | 368 kB 8.4 MB/s eta 0:00:01\r\u001b[K     |███████▏                        | 378 kB 8.4 MB/s eta 0:00:01\r\u001b[K     |███████▍                        | 389 kB 8.4 MB/s eta 0:00:01\r\u001b[K     |███████▋                        | 399 kB 8.4 MB/s eta 0:00:01\r\u001b[K     |███████▊                        | 409 kB 8.4 MB/s eta 0:00:01\r\u001b[K     |████████                        | 419 kB 8.4 MB/s eta 0:00:01\r\u001b[K     |████████▏                       | 430 kB 8.4 MB/s eta 0:00:01\r\u001b[K     |████████▍                       | 440 kB 8.4 MB/s eta 0:00:01\r\u001b[K     |████████▌                       | 450 kB 8.4 MB/s eta 0:00:01\r\u001b[K     |████████▊                       | 460 kB 8.4 MB/s eta 0:00:01\r\u001b[K     |█████████                       | 471 kB 8.4 MB/s eta 0:00:01\r\u001b[K     |█████████▏                      | 481 kB 8.4 MB/s eta 0:00:01\r\u001b[K     |█████████▎                      | 491 kB 8.4 MB/s eta 0:00:01\r\u001b[K     |█████████▌                      | 501 kB 8.4 MB/s eta 0:00:01\r\u001b[K     |█████████▊                      | 512 kB 8.4 MB/s eta 0:00:01\r\u001b[K     |█████████▉                      | 522 kB 8.4 MB/s eta 0:00:01\r\u001b[K     |██████████                      | 532 kB 8.4 MB/s eta 0:00:01\r\u001b[K     |██████████▎                     | 542 kB 8.4 MB/s eta 0:00:01\r\u001b[K     |██████████▌                     | 552 kB 8.4 MB/s eta 0:00:01\r\u001b[K     |██████████▋                     | 563 kB 8.4 MB/s eta 0:00:01\r\u001b[K     |██████████▉                     | 573 kB 8.4 MB/s eta 0:00:01\r\u001b[K     |███████████                     | 583 kB 8.4 MB/s eta 0:00:01\r\u001b[K     |███████████▎                    | 593 kB 8.4 MB/s eta 0:00:01\r\u001b[K     |███████████▍                    | 604 kB 8.4 MB/s eta 0:00:01\r\u001b[K     |███████████▋                    | 614 kB 8.4 MB/s eta 0:00:01\r\u001b[K     |███████████▉                    | 624 kB 8.4 MB/s eta 0:00:01\r\u001b[K     |████████████                    | 634 kB 8.4 MB/s eta 0:00:01\r\u001b[K     |████████████▏                   | 645 kB 8.4 MB/s eta 0:00:01\r\u001b[K     |████████████▍                   | 655 kB 8.4 MB/s eta 0:00:01\r\u001b[K     |████████████▋                   | 665 kB 8.4 MB/s eta 0:00:01\r\u001b[K     |████████████▉                   | 675 kB 8.4 MB/s eta 0:00:01\r\u001b[K     |█████████████                   | 686 kB 8.4 MB/s eta 0:00:01\r\u001b[K     |█████████████▏                  | 696 kB 8.4 MB/s eta 0:00:01\r\u001b[K     |█████████████▍                  | 706 kB 8.4 MB/s eta 0:00:01\r\u001b[K     |█████████████▋                  | 716 kB 8.4 MB/s eta 0:00:01\r\u001b[K     |█████████████▊                  | 727 kB 8.4 MB/s eta 0:00:01\r\u001b[K     |██████████████                  | 737 kB 8.4 MB/s eta 0:00:01\r\u001b[K     |██████████████▏                 | 747 kB 8.4 MB/s eta 0:00:01\r\u001b[K     |██████████████▍                 | 757 kB 8.4 MB/s eta 0:00:01\r\u001b[K     |██████████████▌                 | 768 kB 8.4 MB/s eta 0:00:01\r\u001b[K     |██████████████▊                 | 778 kB 8.4 MB/s eta 0:00:01\r\u001b[K     |███████████████                 | 788 kB 8.4 MB/s eta 0:00:01\r\u001b[K     |███████████████▏                | 798 kB 8.4 MB/s eta 0:00:01\r\u001b[K     |███████████████▎                | 808 kB 8.4 MB/s eta 0:00:01\r\u001b[K     |███████████████▌                | 819 kB 8.4 MB/s eta 0:00:01\r\u001b[K     |███████████████▊                | 829 kB 8.4 MB/s eta 0:00:01\r\u001b[K     |████████████████                | 839 kB 8.4 MB/s eta 0:00:01\r\u001b[K     |████████████████                | 849 kB 8.4 MB/s eta 0:00:01\r\u001b[K     |████████████████▎               | 860 kB 8.4 MB/s eta 0:00:01\r\u001b[K     |████████████████▌               | 870 kB 8.4 MB/s eta 0:00:01\r\u001b[K     |████████████████▊               | 880 kB 8.4 MB/s eta 0:00:01\r\u001b[K     |████████████████▉               | 890 kB 8.4 MB/s eta 0:00:01\r\u001b[K     |█████████████████               | 901 kB 8.4 MB/s eta 0:00:01\r\u001b[K     |█████████████████▎              | 911 kB 8.4 MB/s eta 0:00:01\r\u001b[K     |█████████████████▌              | 921 kB 8.4 MB/s eta 0:00:01\r\u001b[K     |█████████████████▋              | 931 kB 8.4 MB/s eta 0:00:01\r\u001b[K     |█████████████████▉              | 942 kB 8.4 MB/s eta 0:00:01\r\u001b[K     |██████████████████              | 952 kB 8.4 MB/s eta 0:00:01\r\u001b[K     |██████████████████▎             | 962 kB 8.4 MB/s eta 0:00:01\r\u001b[K     |██████████████████▍             | 972 kB 8.4 MB/s eta 0:00:01\r\u001b[K     |██████████████████▋             | 983 kB 8.4 MB/s eta 0:00:01\r\u001b[K     |██████████████████▉             | 993 kB 8.4 MB/s eta 0:00:01\r\u001b[K     |███████████████████             | 1.0 MB 8.4 MB/s eta 0:00:01\r\u001b[K     |███████████████████▏            | 1.0 MB 8.4 MB/s eta 0:00:01\r\u001b[K     |███████████████████▍            | 1.0 MB 8.4 MB/s eta 0:00:01\r\u001b[K     |███████████████████▋            | 1.0 MB 8.4 MB/s eta 0:00:01\r\u001b[K     |███████████████████▊            | 1.0 MB 8.4 MB/s eta 0:00:01\r\u001b[K     |████████████████████            | 1.1 MB 8.4 MB/s eta 0:00:01\r\u001b[K     |████████████████████▏           | 1.1 MB 8.4 MB/s eta 0:00:01\r\u001b[K     |████████████████████▍           | 1.1 MB 8.4 MB/s eta 0:00:01\r\u001b[K     |████████████████████▌           | 1.1 MB 8.4 MB/s eta 0:00:01\r\u001b[K     |████████████████████▊           | 1.1 MB 8.4 MB/s eta 0:00:01\r\u001b[K     |█████████████████████           | 1.1 MB 8.4 MB/s eta 0:00:01\r\u001b[K     |█████████████████████▏          | 1.1 MB 8.4 MB/s eta 0:00:01\r\u001b[K     |█████████████████████▎          | 1.1 MB 8.4 MB/s eta 0:00:01\r\u001b[K     |█████████████████████▌          | 1.1 MB 8.4 MB/s eta 0:00:01\r\u001b[K     |█████████████████████▊          | 1.1 MB 8.4 MB/s eta 0:00:01\r\u001b[K     |██████████████████████          | 1.2 MB 8.4 MB/s eta 0:00:01\r\u001b[K     |██████████████████████          | 1.2 MB 8.4 MB/s eta 0:00:01\r\u001b[K     |██████████████████████▎         | 1.2 MB 8.4 MB/s eta 0:00:01\r\u001b[K     |██████████████████████▌         | 1.2 MB 8.4 MB/s eta 0:00:01\r\u001b[K     |██████████████████████▊         | 1.2 MB 8.4 MB/s eta 0:00:01\r\u001b[K     |██████████████████████▉         | 1.2 MB 8.4 MB/s eta 0:00:01\r\u001b[K     |███████████████████████         | 1.2 MB 8.4 MB/s eta 0:00:01\r\u001b[K     |███████████████████████▎        | 1.2 MB 8.4 MB/s eta 0:00:01\r\u001b[K     |███████████████████████▌        | 1.2 MB 8.4 MB/s eta 0:00:01\r\u001b[K     |███████████████████████▋        | 1.2 MB 8.4 MB/s eta 0:00:01\r\u001b[K     |███████████████████████▉        | 1.3 MB 8.4 MB/s eta 0:00:01\r\u001b[K     |████████████████████████        | 1.3 MB 8.4 MB/s eta 0:00:01\r\u001b[K     |████████████████████████▎       | 1.3 MB 8.4 MB/s eta 0:00:01\r\u001b[K     |████████████████████████▍       | 1.3 MB 8.4 MB/s eta 0:00:01\r\u001b[K     |████████████████████████▋       | 1.3 MB 8.4 MB/s eta 0:00:01\r\u001b[K     |████████████████████████▉       | 1.3 MB 8.4 MB/s eta 0:00:01\r\u001b[K     |█████████████████████████       | 1.3 MB 8.4 MB/s eta 0:00:01\r\u001b[K     |█████████████████████████▏      | 1.3 MB 8.4 MB/s eta 0:00:01\r\u001b[K     |█████████████████████████▍      | 1.3 MB 8.4 MB/s eta 0:00:01\r\u001b[K     |█████████████████████████▋      | 1.4 MB 8.4 MB/s eta 0:00:01\r\u001b[K     |█████████████████████████▉      | 1.4 MB 8.4 MB/s eta 0:00:01\r\u001b[K     |██████████████████████████      | 1.4 MB 8.4 MB/s eta 0:00:01\r\u001b[K     |██████████████████████████▏     | 1.4 MB 8.4 MB/s eta 0:00:01\r\u001b[K     |██████████████████████████▍     | 1.4 MB 8.4 MB/s eta 0:00:01\r\u001b[K     |██████████████████████████▋     | 1.4 MB 8.4 MB/s eta 0:00:01\r\u001b[K     |██████████████████████████▊     | 1.4 MB 8.4 MB/s eta 0:00:01\r\u001b[K     |███████████████████████████     | 1.4 MB 8.4 MB/s eta 0:00:01\r\u001b[K     |███████████████████████████▏    | 1.4 MB 8.4 MB/s eta 0:00:01\r\u001b[K     |███████████████████████████▍    | 1.4 MB 8.4 MB/s eta 0:00:01\r\u001b[K     |███████████████████████████▌    | 1.5 MB 8.4 MB/s eta 0:00:01\r\u001b[K     |███████████████████████████▊    | 1.5 MB 8.4 MB/s eta 0:00:01\r\u001b[K     |████████████████████████████    | 1.5 MB 8.4 MB/s eta 0:00:01\r\u001b[K     |████████████████████████████▏   | 1.5 MB 8.4 MB/s eta 0:00:01\r\u001b[K     |████████████████████████████▎   | 1.5 MB 8.4 MB/s eta 0:00:01\r\u001b[K     |████████████████████████████▌   | 1.5 MB 8.4 MB/s eta 0:00:01\r\u001b[K     |████████████████████████████▊   | 1.5 MB 8.4 MB/s eta 0:00:01\r\u001b[K     |█████████████████████████████   | 1.5 MB 8.4 MB/s eta 0:00:01\r\u001b[K     |█████████████████████████████   | 1.5 MB 8.4 MB/s eta 0:00:01\r\u001b[K     |█████████████████████████████▎  | 1.5 MB 8.4 MB/s eta 0:00:01\r\u001b[K     |█████████████████████████████▌  | 1.6 MB 8.4 MB/s eta 0:00:01\r\u001b[K     |█████████████████████████████▋  | 1.6 MB 8.4 MB/s eta 0:00:01\r\u001b[K     |█████████████████████████████▉  | 1.6 MB 8.4 MB/s eta 0:00:01\r\u001b[K     |██████████████████████████████  | 1.6 MB 8.4 MB/s eta 0:00:01\r\u001b[K     |██████████████████████████████▎ | 1.6 MB 8.4 MB/s eta 0:00:01\r\u001b[K     |██████████████████████████████▍ | 1.6 MB 8.4 MB/s eta 0:00:01\r\u001b[K     |██████████████████████████████▋ | 1.6 MB 8.4 MB/s eta 0:00:01\r\u001b[K     |██████████████████████████████▉ | 1.6 MB 8.4 MB/s eta 0:00:01\r\u001b[K     |███████████████████████████████ | 1.6 MB 8.4 MB/s eta 0:00:01\r\u001b[K     |███████████████████████████████▏| 1.6 MB 8.4 MB/s eta 0:00:01\r\u001b[K     |███████████████████████████████▍| 1.7 MB 8.4 MB/s eta 0:00:01\r\u001b[K     |███████████████████████████████▋| 1.7 MB 8.4 MB/s eta 0:00:01\r\u001b[K     |███████████████████████████████▉| 1.7 MB 8.4 MB/s eta 0:00:01\r\u001b[K     |████████████████████████████████| 1.7 MB 8.4 MB/s eta 0:00:01\r\u001b[K     |████████████████████████████████| 1.7 MB 8.4 MB/s \n",
            "\u001b[?25hRequirement already satisfied: regex in /usr/local/lib/python3.7/dist-packages (from fairseq) (2019.12.20)\n",
            "Requirement already satisfied: numpy in /usr/local/lib/python3.7/dist-packages (from fairseq) (1.19.5)\n",
            "Collecting hydra-core\n",
            "  Downloading hydra_core-1.1.0-py3-none-any.whl (144 kB)\n",
            "\u001b[K     |████████████████████████████████| 144 kB 45.2 MB/s \n",
            "\u001b[?25hCollecting dataclasses\n",
            "  Downloading dataclasses-0.6-py3-none-any.whl (14 kB)\n",
            "Requirement already satisfied: tqdm in /usr/local/lib/python3.7/dist-packages (from fairseq) (4.41.1)\n",
            "Requirement already satisfied: cffi in /usr/local/lib/python3.7/dist-packages (from fairseq) (1.14.6)\n",
            "Requirement already satisfied: torch in /usr/local/lib/python3.7/dist-packages (from fairseq) (1.9.0+cu102)\n",
            "Requirement already satisfied: cython in /usr/local/lib/python3.7/dist-packages (from fairseq) (0.29.23)\n",
            "Collecting sacrebleu>=1.4.12\n",
            "  Downloading sacrebleu-1.5.1-py3-none-any.whl (54 kB)\n",
            "\u001b[K     |████████████████████████████████| 54 kB 2.7 MB/s \n",
            "\u001b[?25hCollecting portalocker==2.0.0\n",
            "  Downloading portalocker-2.0.0-py2.py3-none-any.whl (11 kB)\n",
            "Requirement already satisfied: pycparser in /usr/local/lib/python3.7/dist-packages (from cffi->fairseq) (2.20)\n",
            "Collecting antlr4-python3-runtime==4.8\n",
            "  Downloading antlr4-python3-runtime-4.8.tar.gz (112 kB)\n",
            "\u001b[K     |████████████████████████████████| 112 kB 50.2 MB/s \n",
            "\u001b[?25hCollecting omegaconf==2.1.*\n",
            "  Downloading omegaconf-2.1.0-py3-none-any.whl (74 kB)\n",
            "\u001b[K     |████████████████████████████████| 74 kB 2.7 MB/s \n",
            "\u001b[?25hRequirement already satisfied: importlib-resources in /usr/local/lib/python3.7/dist-packages (from hydra-core->fairseq) (5.2.0)\n",
            "Collecting PyYAML>=5.1.*\n",
            "  Downloading PyYAML-5.4.1-cp37-cp37m-manylinux1_x86_64.whl (636 kB)\n",
            "\u001b[K     |████████████████████████████████| 636 kB 58.4 MB/s \n",
            "\u001b[?25hRequirement already satisfied: zipp>=3.1.0 in /usr/local/lib/python3.7/dist-packages (from importlib-resources->hydra-core->fairseq) (3.5.0)\n",
            "Requirement already satisfied: typing-extensions in /usr/local/lib/python3.7/dist-packages (from torch->fairseq) (3.7.4.3)\n",
            "Building wheels for collected packages: antlr4-python3-runtime\n",
            "  Building wheel for antlr4-python3-runtime (setup.py) ... \u001b[?25l\u001b[?25hdone\n",
            "  Created wheel for antlr4-python3-runtime: filename=antlr4_python3_runtime-4.8-py3-none-any.whl size=141229 sha256=930ba0f107ba60ba9bb084bd30d1f3ce340dfe4dc4d5b7fd171a28f84b31d053\n",
            "  Stored in directory: /root/.cache/pip/wheels/ca/33/b7/336836125fc9bb4ceaa4376d8abca10ca8bc84ddc824baea6c\n",
            "Successfully built antlr4-python3-runtime\n",
            "Installing collected packages: PyYAML, antlr4-python3-runtime, portalocker, omegaconf, sacrebleu, hydra-core, dataclasses, fairseq\n",
            "  Attempting uninstall: PyYAML\n",
            "    Found existing installation: PyYAML 3.13\n",
            "    Uninstalling PyYAML-3.13:\n",
            "      Successfully uninstalled PyYAML-3.13\n",
            "Successfully installed PyYAML-5.4.1 antlr4-python3-runtime-4.8 dataclasses-0.6 fairseq-0.10.2 hydra-core-1.1.0 omegaconf-2.1.0 portalocker-2.0.0 sacrebleu-1.5.1\n"
          ],
          "name": "stdout"
        },
        {
          "output_type": "display_data",
          "data": {
            "application/vnd.colab-display-data+json": {
              "pip_warning": {
                "packages": [
                  "pydevd_plugins"
                ]
              }
            }
          },
          "metadata": {
            "tags": []
          }
        }
      ]
    },
    {
      "cell_type": "code",
      "metadata": {
        "colab": {
          "base_uri": "https://localhost:8080/"
        },
        "id": "1G1RmfbwxloP",
        "outputId": "b78bcb8f-9f03-4d80-9e8e-d146860bb1e3"
      },
      "source": [
        "#前処理\n",
        "!fairseq-preprocess -s ja -t en  --trainpref kftt-data-1.0/data/tok/kyoto-train  --validpref kftt-data-1.0/data/tok/kyoto-dev  --destdir ./   --thresholdsrc 5  --thresholdtgt 5  --workers 20"
      ],
      "execution_count": null,
      "outputs": [
        {
          "output_type": "stream",
          "text": [
            "2021-07-29 00:31:09 | INFO | fairseq_cli.preprocess | Namespace(align_suffix=None, alignfile=None, all_gather_list_size=16384, bf16=False, bpe=None, checkpoint_shard_count=1, checkpoint_suffix='', cpu=False, criterion='cross_entropy', dataset_impl='mmap', destdir='./', empty_cache_freq=0, fp16=False, fp16_init_scale=128, fp16_no_flatten_grads=False, fp16_scale_tolerance=0.0, fp16_scale_window=None, joined_dictionary=False, log_format=None, log_interval=100, lr_scheduler='fixed', memory_efficient_bf16=False, memory_efficient_fp16=False, min_loss_scale=0.0001, model_parallel_size=1, no_progress_bar=False, nwordssrc=-1, nwordstgt=-1, only_source=False, optimizer=None, padding_factor=8, profile=False, quantization_config_path=None, scoring='bleu', seed=1, source_lang='ja', srcdict=None, target_lang='en', task='translation', tensorboard_logdir=None, testpref=None, tgtdict=None, threshold_loss_scale=None, thresholdsrc=5, thresholdtgt=5, tokenizer=None, tpu=False, trainpref='kftt-data-1.0/data/tok/kyoto-train', user_dir=None, validpref='kftt-data-1.0/data/tok/kyoto-dev', workers=20)\n",
            "2021-07-29 00:31:53 | INFO | fairseq_cli.preprocess | [ja] Dictionary: 51584 types\n",
            "2021-07-29 00:32:40 | INFO | fairseq_cli.preprocess | [ja] kftt-data-1.0/data/tok/kyoto-train.ja: 440288 sents, 12359715 tokens, 1.26% replaced by <unk>\n",
            "2021-07-29 00:32:40 | INFO | fairseq_cli.preprocess | [ja] Dictionary: 51584 types\n",
            "2021-07-29 00:32:41 | INFO | fairseq_cli.preprocess | [ja] kftt-data-1.0/data/tok/kyoto-dev.ja: 1166 sents, 28010 tokens, 1.3% replaced by <unk>\n",
            "2021-07-29 00:32:41 | INFO | fairseq_cli.preprocess | [en] Dictionary: 58552 types\n",
            "2021-07-29 00:33:15 | INFO | fairseq_cli.preprocess | [en] kftt-data-1.0/data/tok/kyoto-train.en: 440288 sents, 11981667 tokens, 2.07% replaced by <unk>\n",
            "2021-07-29 00:33:15 | INFO | fairseq_cli.preprocess | [en] Dictionary: 58552 types\n",
            "2021-07-29 00:33:16 | INFO | fairseq_cli.preprocess | [en] kftt-data-1.0/data/tok/kyoto-dev.en: 1166 sents, 25475 tokens, 3.19% replaced by <unk>\n",
            "2021-07-29 00:33:16 | INFO | fairseq_cli.preprocess | Wrote preprocessed data to ./\n"
          ],
          "name": "stdout"
        }
      ]
    },
    {
      "cell_type": "code",
      "metadata": {
        "colab": {
          "base_uri": "https://localhost:8080/"
        },
        "id": "8i-fGjC695bj",
        "outputId": "23bfabd2-207d-44bb-bc85-a6c6ce954849"
      },
      "source": [
        "!fairseq-train ./  --fp16  --save-dir /content/drive/MyDrive/pth/  --max-epoch 20  --arch transformer --share-decoder-input-output-embed  --optimizer adam --clip-norm 1.0  --lr 1e-3 --lr-scheduler inverse_sqrt --warmup-updates 2000  --update-freq 1  --dropout 0.2 --weight-decay 0.0001  --criterion label_smoothed_cross_entropy --label-smoothing 0.1  --max-tokens 8000 > txt.log"
      ],
      "execution_count": null,
      "outputs": [
        {
          "output_type": "stream",
          "text": [
            "epoch 006:  31% 579/1856 [05:24<11:55,  1.78it/s, loss=5.768, nll_loss=4.187, ppl=18.22, wps=11679.2, ups=1.77, wpb=6602.3, bsz=278.6, num_updates=9800, lr=0.000451754, gnorm=0.644, clip=7, loss_scale=4, train_wall=56, wall=0]Traceback (most recent call last):\n",
            "  File \"/usr/local/bin/fairseq-train\", line 8, in <module>\n",
            "    sys.exit(cli_main())\n",
            "  File \"/usr/local/lib/python3.7/dist-packages/fairseq_cli/train.py\", line 352, in cli_main\n",
            "    distributed_utils.call_main(args, main)\n",
            "  File \"/usr/local/lib/python3.7/dist-packages/fairseq/distributed_utils.py\", line 301, in call_main\n",
            "    main(args, **kwargs)\n",
            "  File \"/usr/local/lib/python3.7/dist-packages/fairseq_cli/train.py\", line 125, in main\n",
            "    valid_losses, should_stop = train(args, trainer, task, epoch_itr)\n",
            "  File \"/usr/lib/python3.7/contextlib.py\", line 74, in inner\n",
            "    return func(*args, **kwds)\n",
            "  File \"/usr/local/lib/python3.7/dist-packages/fairseq_cli/train.py\", line 208, in train\n",
            "    log_output = trainer.train_step(samples)\n",
            "  File \"/usr/lib/python3.7/contextlib.py\", line 74, in inner\n",
            "    return func(*args, **kwds)\n",
            "  File \"/usr/local/lib/python3.7/dist-packages/fairseq/trainer.py\", line 486, in train_step\n",
            "    ignore_grad=is_dummy_batch,\n",
            "  File \"/usr/local/lib/python3.7/dist-packages/fairseq/tasks/fairseq_task.py\", line 420, in train_step\n",
            "    optimizer.backward(loss)\n",
            "  File \"/usr/local/lib/python3.7/dist-packages/fairseq/optim/fp16_optimizer.py\", line 98, in backward\n",
            "    loss.backward()\n",
            "  File \"/usr/local/lib/python3.7/dist-packages/torch/_tensor.py\", line 255, in backward\n",
            "    torch.autograd.backward(self, gradient, retain_graph, create_graph, inputs=inputs)\n",
            "  File \"/usr/local/lib/python3.7/dist-packages/torch/autograd/__init__.py\", line 149, in backward\n",
            "    allow_unreachable=True, accumulate_grad=True)  # allow_unreachable flag\n",
            "KeyboardInterrupt\n"
          ],
          "name": "stdout"
        }
      ]
    },
    {
      "cell_type": "code",
      "metadata": {
        "colab": {
          "base_uri": "https://localhost:8080/"
        },
        "id": "bXuZmcVgPLCO",
        "outputId": "b32e302c-ab18-48e0-e3c9-a0a525db4989"
      },
      "source": [
        "from google.colab import drive\n",
        "drive.mount('/content/drive')"
      ],
      "execution_count": null,
      "outputs": [
        {
          "output_type": "stream",
          "text": [
            "Drive already mounted at /content/drive; to attempt to forcibly remount, call drive.mount(\"/content/drive\", force_remount=True).\n"
          ],
          "name": "stdout"
        }
      ]
    },
    {
      "cell_type": "code",
      "metadata": {
        "id": "ApyQz0KmWYfv"
      },
      "source": [
        "#google driveに退避\n",
        "!cp checkpoint10.pt /content/drive/MyDrive/pth/checkpoint10.pt"
      ],
      "execution_count": null,
      "outputs": []
    },
    {
      "cell_type": "markdown",
      "metadata": {
        "id": "YgvbmYsyyf3w"
      },
      "source": [
        "## 92. 機械翻訳モデルの適用\n",
        "91で学習したニューラル機械翻訳モデルを用い，与えられた（任意の）日本語の文を英語に翻訳するプログラムを実装せよ．"
      ]
    },
    {
      "cell_type": "code",
      "metadata": {
        "id": "M6wv3bY_v1el"
      },
      "source": [
        "!echo \"私 は 今日 も カレー を 作り ます 。\" > input.ja"
      ],
      "execution_count": null,
      "outputs": []
    },
    {
      "cell_type": "code",
      "metadata": {
        "colab": {
          "base_uri": "https://localhost:8080/"
        },
        "id": "7DZN6kMaygr5",
        "outputId": "5c7dcd52-dadc-4b4d-d74b-085bc12a6586"
      },
      "source": [
        "#--beamのDefaultは5\n",
        "!fairseq-interactive --path /content/drive/MyDrive/pth/checkpoint10.pt ./ < input.ja"
      ],
      "execution_count": null,
      "outputs": [
        {
          "output_type": "stream",
          "text": [
            "2021-07-29 00:39:08 | INFO | fairseq_cli.interactive | Namespace(all_gather_list_size=16384, batch_size=1, batch_size_valid=None, beam=5, bf16=False, bpe=None, broadcast_buffers=False, bucket_cap_mb=25, buffer_size=1, checkpoint_shard_count=1, checkpoint_suffix='', constraints=None, cpu=False, criterion='cross_entropy', curriculum=0, data='./', data_buffer_size=10, dataset_impl=None, ddp_backend='c10d', decoding_format=None, device_id=0, disable_validation=False, distributed_backend='nccl', distributed_init_method=None, distributed_no_spawn=False, distributed_num_procs=1, distributed_port=-1, distributed_rank=0, distributed_world_size=1, distributed_wrapper='DDP', diverse_beam_groups=-1, diverse_beam_strength=0.5, diversity_rate=-1.0, empty_cache_freq=0, eval_bleu=False, eval_bleu_args=None, eval_bleu_detok='space', eval_bleu_detok_args=None, eval_bleu_print_samples=False, eval_bleu_remove_bpe=None, eval_tokenized_bleu=False, fast_stat_sync=False, find_unused_parameters=False, fix_batches_to_gpus=False, fixed_validation_seed=None, force_anneal=None, fp16=False, fp16_init_scale=128, fp16_no_flatten_grads=False, fp16_scale_tolerance=0.0, fp16_scale_window=None, gen_subset='test', input='-', iter_decode_eos_penalty=0.0, iter_decode_force_max_iter=False, iter_decode_max_iter=10, iter_decode_with_beam=1, iter_decode_with_external_reranker=False, left_pad_source='True', left_pad_target='False', lenpen=1, lm_path=None, lm_weight=0.0, load_alignments=False, localsgd_frequency=3, log_format=None, log_interval=100, lr_scheduler='fixed', lr_shrink=0.1, match_source_len=False, max_len_a=0, max_len_b=200, max_source_positions=1024, max_target_positions=1024, max_tokens=None, max_tokens_valid=None, memory_efficient_bf16=False, memory_efficient_fp16=False, min_len=1, min_loss_scale=0.0001, model_overrides='{}', model_parallel_size=1, nbest=1, no_beamable_mm=False, no_early_stop=False, no_progress_bar=False, no_repeat_ngram_size=0, no_seed_provided=False, nprocs_per_node=1, num_batch_buckets=0, num_shards=1, num_workers=1, optimizer=None, path='/content/drive/MyDrive/pth/checkpoint10.pt', pipeline_balance=None, pipeline_checkpoint='never', pipeline_chunks=0, pipeline_decoder_balance=None, pipeline_decoder_devices=None, pipeline_devices=None, pipeline_encoder_balance=None, pipeline_encoder_devices=None, pipeline_model_parallel=False, prefix_size=0, print_alignment=False, print_step=False, profile=False, quantization_config_path=None, quiet=False, remove_bpe=None, replace_unk=None, required_batch_size_multiple=8, required_seq_len_multiple=1, results_path=None, retain_dropout=False, retain_dropout_modules=None, retain_iter_history=False, sacrebleu=False, sampling=False, sampling_topk=-1, sampling_topp=-1.0, score_reference=False, scoring='bleu', seed=1, shard_id=0, skip_invalid_size_inputs_valid_test=False, slowmo_algorithm='LocalSGD', slowmo_momentum=None, source_lang=None, target_lang=None, task='translation', temperature=1.0, tensorboard_logdir=None, threshold_loss_scale=None, tokenizer=None, tpu=False, train_subset='train', truncate_source=False, unkpen=0, unnormalized=False, upsample_primary=1, user_dir=None, valid_subset='valid', validate_after_updates=0, validate_interval=1, validate_interval_updates=0, warmup_updates=0, zero_sharding='none')\n",
            "2021-07-29 00:39:08 | INFO | fairseq.tasks.translation | [ja] dictionary: 51584 types\n",
            "2021-07-29 00:39:08 | INFO | fairseq.tasks.translation | [en] dictionary: 58552 types\n",
            "2021-07-29 00:39:08 | INFO | fairseq_cli.interactive | loading model(s) from /content/drive/MyDrive/pth/checkpoint10.pt\n",
            "2021-07-29 00:39:27 | INFO | fairseq_cli.interactive | NOTE: hypothesis and token scores are output in base 2\n",
            "2021-07-29 00:39:27 | INFO | fairseq_cli.interactive | Type the input sentence and press return:\n",
            "/usr/local/lib/python3.7/dist-packages/torch/_tensor.py:575: UserWarning: floor_divide is deprecated, and will be removed in a future version of pytorch. It currently rounds toward 0 (like the 'trunc' function NOT 'floor'). This results in incorrect rounding for negative values.\n",
            "To keep the current behavior, use torch.div(a, b, rounding_mode='trunc'), or for actual floor division, use torch.div(a, b, rounding_mode='floor'). (Triggered internally at  /pytorch/aten/src/ATen/native/BinaryOps.cpp:467.)\n",
            "  return torch.floor_divide(self, other)\n",
            "S-0\t私 は 今日 も カレー を 作り ます 。\n",
            "W-0\t0.158\tseconds\n",
            "H-0\t-1.3907408714294434\tEven now , curry sauce is curry sauce .\n",
            "D-0\t-1.3907408714294434\tEven now , curry sauce is curry sauce .\n",
            "P-0\t-3.4543 -0.8366 -1.2269 -0.6169 -2.1451 -0.3462 -2.3474 -2.2286 -0.6136 -0.0916\n",
            "2021-07-29 00:39:27 | INFO | fairseq_cli.interactive | Total time: 19.292 seconds; translation time: 0.158\n"
          ],
          "name": "stdout"
        }
      ]
    },
    {
      "cell_type": "markdown",
      "metadata": {
        "id": "0oF6kBXEyg7V"
      },
      "source": [
        "## 93. BLEUスコアの計測\n",
        "91で学習したニューラル機械翻訳モデルの品質を調べるため，評価データにおけるBLEUスコアを測定せよ．"
      ]
    },
    {
      "cell_type": "markdown",
      "metadata": {
        "id": "Fe5FuRk5Sbi9"
      },
      "source": [
        "![image.png](data:image/png;base64,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)\n",
        "- reference:https://cloud.google.com/translate/automl/docs/evaluate?hl=ja"
      ]
    },
    {
      "cell_type": "code",
      "metadata": {
        "colab": {
          "base_uri": "https://localhost:8080/"
        },
        "id": "6G3X2NhQGPA4",
        "outputId": "d7cab949-b44e-4be6-e11b-3c4ba1da6f22"
      },
      "source": [
        "!fairseq-interactive --path /content/drive/MyDrive/pth/checkpoint10.pt ./ < ./kftt-data-1.0/data/tok/kyoto-test.ja | grep '^H' | cut -f3 > text.out"
      ],
      "execution_count": null,
      "outputs": [
        {
          "output_type": "stream",
          "text": [
            "/usr/local/lib/python3.7/dist-packages/torch/_tensor.py:575: UserWarning: floor_divide is deprecated, and will be removed in a future version of pytorch. It currently rounds toward 0 (like the 'trunc' function NOT 'floor'). This results in incorrect rounding for negative values.\n",
            "To keep the current behavior, use torch.div(a, b, rounding_mode='trunc'), or for actual floor division, use torch.div(a, b, rounding_mode='floor'). (Triggered internally at  /pytorch/aten/src/ATen/native/BinaryOps.cpp:467.)\n",
            "  return torch.floor_divide(self, other)\n"
          ],
          "name": "stdout"
        }
      ]
    },
    {
      "cell_type": "code",
      "metadata": {
        "id": "p3SDlZKpKgw6"
      },
      "source": [
        "#google driveに退避\n",
        "!cp text.out /content/drive/MyDrive/pth/text.out"
      ],
      "execution_count": null,
      "outputs": []
    },
    {
      "cell_type": "code",
      "metadata": {
        "colab": {
          "base_uri": "https://localhost:8080/"
        },
        "id": "m45RUGKayi8l",
        "outputId": "e3564e9c-51d2-4de6-c743-84d06586e454"
      },
      "source": [
        "!fairseq-score --sys /content/text.out --ref ./kftt-data-1.0/data/tok/kyoto-test.en"
      ],
      "execution_count": null,
      "outputs": [
        {
          "output_type": "stream",
          "text": [
            "Namespace(ignore_case=False, order=4, ref='./kftt-data-1.0/data/tok/kyoto-test.en', sacrebleu=False, sentence_bleu=False, sys='/content/text.out')\n",
            "BLEU4 = 2.16, 9.8/3.0/1.2/0.6 (BP=1.000, ratio=3.243, syslen=86695, reflen=26734)\n"
          ],
          "name": "stdout"
        }
      ]
    },
    {
      "cell_type": "markdown",
      "metadata": {
        "id": "JcnhKD_SyjD9"
      },
      "source": [
        "## 94. ビーム探索\n",
        "91で学習したニューラル機械翻訳モデルで翻訳文をデコードする際に，ビーム探索を導入せよ．ビーム幅を1から100くらいまで適当に変化させながら，開発セット上のBLEUスコアの変化をプロットせよ．"
      ]
    },
    {
      "cell_type": "markdown",
      "metadata": {
        "id": "VuLFoY1sdIib"
      },
      "source": [
        "ビームサーチとは https://deepage.net/machine_learning/2017/07/06/beam-search.html\n",
        "\n",
        "幅優先探索をする際にすべてを考慮すると計算が終わらないので、その場の深さで評価値が良い方から順に上位数個の選択肢のみを考慮するアルゴリズム≒枝刈り"
      ]
    },
    {
      "cell_type": "code",
      "metadata": {
        "id": "Zfvsh4rjyldg",
        "colab": {
          "base_uri": "https://localhost:8080/"
        },
        "outputId": "4d2ebfaf-0185-4739-e0b7-204fb5c65512"
      },
      "source": [
        "%%bash\n",
        "for i in `seq -w 1 10 101` ; do\n",
        "    fairseq-interactive  --path  /content/drive/MyDrive/pth/checkpoint10.pt    ./ < ./kftt-data-1.0/data/tok/kyoto-test.ja | grep '^H' | cut -f3 > /content/drive/MyDrive/pth/94.$i.out\n",
        "done"
      ],
      "execution_count": null,
      "outputs": [
        {
          "output_type": "stream",
          "text": [
            "/usr/local/lib/python3.7/dist-packages/torch/_tensor.py:575: UserWarning: floor_divide is deprecated, and will be removed in a future version of pytorch. It currently rounds toward 0 (like the 'trunc' function NOT 'floor'). This results in incorrect rounding for negative values.\n",
            "To keep the current behavior, use torch.div(a, b, rounding_mode='trunc'), or for actual floor division, use torch.div(a, b, rounding_mode='floor'). (Triggered internally at  /pytorch/aten/src/ATen/native/BinaryOps.cpp:467.)\n",
            "  return torch.floor_divide(self, other)\n",
            "/usr/local/lib/python3.7/dist-packages/torch/_tensor.py:575: UserWarning: floor_divide is deprecated, and will be removed in a future version of pytorch. It currently rounds toward 0 (like the 'trunc' function NOT 'floor'). This results in incorrect rounding for negative values.\n",
            "To keep the current behavior, use torch.div(a, b, rounding_mode='trunc'), or for actual floor division, use torch.div(a, b, rounding_mode='floor'). (Triggered internally at  /pytorch/aten/src/ATen/native/BinaryOps.cpp:467.)\n",
            "  return torch.floor_divide(self, other)\n",
            "/usr/local/lib/python3.7/dist-packages/torch/_tensor.py:575: UserWarning: floor_divide is deprecated, and will be removed in a future version of pytorch. It currently rounds toward 0 (like the 'trunc' function NOT 'floor'). This results in incorrect rounding for negative values.\n",
            "To keep the current behavior, use torch.div(a, b, rounding_mode='trunc'), or for actual floor division, use torch.div(a, b, rounding_mode='floor'). (Triggered internally at  /pytorch/aten/src/ATen/native/BinaryOps.cpp:467.)\n",
            "  return torch.floor_divide(self, other)\n",
            "/usr/local/lib/python3.7/dist-packages/torch/_tensor.py:575: UserWarning: floor_divide is deprecated, and will be removed in a future version of pytorch. It currently rounds toward 0 (like the 'trunc' function NOT 'floor'). This results in incorrect rounding for negative values.\n",
            "To keep the current behavior, use torch.div(a, b, rounding_mode='trunc'), or for actual floor division, use torch.div(a, b, rounding_mode='floor'). (Triggered internally at  /pytorch/aten/src/ATen/native/BinaryOps.cpp:467.)\n",
            "  return torch.floor_divide(self, other)\n",
            "/usr/local/lib/python3.7/dist-packages/torch/_tensor.py:575: UserWarning: floor_divide is deprecated, and will be removed in a future version of pytorch. It currently rounds toward 0 (like the 'trunc' function NOT 'floor'). This results in incorrect rounding for negative values.\n",
            "To keep the current behavior, use torch.div(a, b, rounding_mode='trunc'), or for actual floor division, use torch.div(a, b, rounding_mode='floor'). (Triggered internally at  /pytorch/aten/src/ATen/native/BinaryOps.cpp:467.)\n",
            "  return torch.floor_divide(self, other)\n",
            "/usr/local/lib/python3.7/dist-packages/torch/_tensor.py:575: UserWarning: floor_divide is deprecated, and will be removed in a future version of pytorch. It currently rounds toward 0 (like the 'trunc' function NOT 'floor'). This results in incorrect rounding for negative values.\n",
            "To keep the current behavior, use torch.div(a, b, rounding_mode='trunc'), or for actual floor division, use torch.div(a, b, rounding_mode='floor'). (Triggered internally at  /pytorch/aten/src/ATen/native/BinaryOps.cpp:467.)\n",
            "  return torch.floor_divide(self, other)\n",
            "/usr/local/lib/python3.7/dist-packages/torch/_tensor.py:575: UserWarning: floor_divide is deprecated, and will be removed in a future version of pytorch. It currently rounds toward 0 (like the 'trunc' function NOT 'floor'). This results in incorrect rounding for negative values.\n",
            "To keep the current behavior, use torch.div(a, b, rounding_mode='trunc'), or for actual floor division, use torch.div(a, b, rounding_mode='floor'). (Triggered internally at  /pytorch/aten/src/ATen/native/BinaryOps.cpp:467.)\n",
            "  return torch.floor_divide(self, other)\n",
            "/usr/local/lib/python3.7/dist-packages/torch/_tensor.py:575: UserWarning: floor_divide is deprecated, and will be removed in a future version of pytorch. It currently rounds toward 0 (like the 'trunc' function NOT 'floor'). This results in incorrect rounding for negative values.\n",
            "To keep the current behavior, use torch.div(a, b, rounding_mode='trunc'), or for actual floor division, use torch.div(a, b, rounding_mode='floor'). (Triggered internally at  /pytorch/aten/src/ATen/native/BinaryOps.cpp:467.)\n",
            "  return torch.floor_divide(self, other)\n",
            "/usr/local/lib/python3.7/dist-packages/torch/_tensor.py:575: UserWarning: floor_divide is deprecated, and will be removed in a future version of pytorch. It currently rounds toward 0 (like the 'trunc' function NOT 'floor'). This results in incorrect rounding for negative values.\n",
            "To keep the current behavior, use torch.div(a, b, rounding_mode='trunc'), or for actual floor division, use torch.div(a, b, rounding_mode='floor'). (Triggered internally at  /pytorch/aten/src/ATen/native/BinaryOps.cpp:467.)\n",
            "  return torch.floor_divide(self, other)\n",
            "/usr/local/lib/python3.7/dist-packages/torch/_tensor.py:575: UserWarning: floor_divide is deprecated, and will be removed in a future version of pytorch. It currently rounds toward 0 (like the 'trunc' function NOT 'floor'). This results in incorrect rounding for negative values.\n",
            "To keep the current behavior, use torch.div(a, b, rounding_mode='trunc'), or for actual floor division, use torch.div(a, b, rounding_mode='floor'). (Triggered internally at  /pytorch/aten/src/ATen/native/BinaryOps.cpp:467.)\n",
            "  return torch.floor_divide(self, other)\n",
            "/usr/local/lib/python3.7/dist-packages/torch/_tensor.py:575: UserWarning: floor_divide is deprecated, and will be removed in a future version of pytorch. It currently rounds toward 0 (like the 'trunc' function NOT 'floor'). This results in incorrect rounding for negative values.\n",
            "To keep the current behavior, use torch.div(a, b, rounding_mode='trunc'), or for actual floor division, use torch.div(a, b, rounding_mode='floor'). (Triggered internally at  /pytorch/aten/src/ATen/native/BinaryOps.cpp:467.)\n",
            "  return torch.floor_divide(self, other)\n"
          ],
          "name": "stderr"
        }
      ]
    },
    {
      "cell_type": "code",
      "metadata": {
        "id": "z1SpAmC78iv6"
      },
      "source": [
        "!cp *.out /content/drive/MyDrive/pth/"
      ],
      "execution_count": null,
      "outputs": []
    },
    {
      "cell_type": "code",
      "metadata": {
        "id": "qhbr7_uqckSI"
      },
      "source": [
        "%%bash\n",
        "for i in `seq -w 1 10 101` ; do\n",
        "    fairseq-score --sys /content/drive/MyDrive/pth/94.$i.out --ref ./kftt-data-1.0/data/tok/kyoto-test.en > 94.$i.score\n",
        "done"
      ],
      "execution_count": null,
      "outputs": []
    },
    {
      "cell_type": "code",
      "metadata": {
        "id": "bkpILGP9bpT0",
        "colab": {
          "base_uri": "https://localhost:8080/",
          "height": 265
        },
        "outputId": "c4d3a3a1-76f0-4d8c-d43a-636bc72c6a09"
      },
      "source": [
        "import matplotlib.pyplot as plt\n",
        "import re\n",
        "def read_score(filename):\n",
        "    with open(filename) as f:\n",
        "        x = f.readlines()[1]\n",
        "        x = re.search(r'(?<=BLEU4 = )\\d*\\.\\d*(?=,)', x)\n",
        "        return float(x.group())\n",
        "\n",
        "xs = range(1, 101)\n",
        "ys = [read_score(f'94.{x}.score') for x in xs]\n",
        "plt.plot(xs, ys)\n",
        "plt.show()"
      ],
      "execution_count": null,
      "outputs": [
        {
          "output_type": "display_data",
          "data": {
            "image/png": "[encoded data removed]",
            "text/plain": [
              "<Figure size 432x288 with 1 Axes>"
            ]
          },
          "metadata": {
            "tags": [],
            "needs_background": "light"
          }
        }
      ]
    },
    {
      "cell_type": "markdown",
      "metadata": {
        "id": "p36YkXCPylqg"
      },
      "source": [
        "## 95. サブワード化\n",
        "トークンの単位を単語や形態素からサブワードに変更し，91-94の実験を再度実施せよ．"
      ]
    },
    {
      "cell_type": "code",
      "metadata": {
        "id": "-ueKkabnyo5w"
      },
      "source": [
        "import sentencepiece as spm\n",
        "\n",
        "spm.SentencePieceTrainer.Train('--input=kftt-data-1.0/data/orig/kyoto-train.ja --model_prefix=kyoto_ja --vocab_size=16000 --character_coverage=1.0')\n",
        "\n",
        "sp = spm.SentencePieceProcessor()\n",
        "sp.Load('kyoto_ja.model')\n",
        "\n",
        "for src, dst in [\n",
        "    ('kftt-data-1.0/data/orig/kyoto-train.ja', 'train.sub.ja'),\n",
        "    ('kftt-data-1.0/data/orig/kyoto-dev.ja', 'dev.sub.ja'),\n",
        "    ('kftt-data-1.0/data/orig/kyoto-test.ja', 'test.sub.ja'),\n",
        "]:\n",
        "    with open(src) as f, open(dst, 'w') as g:\n",
        "        for x in f:\n",
        "            x = x.strip()\n",
        "            x = re.sub(r'\\s+', ' ', x)\n",
        "            x = sp.encode_as_pieces(x)\n",
        "            x = ' '.join(x)\n",
        "            print(x, file=g)"
      ],
      "execution_count": null,
      "outputs": []
    },
    {
      "cell_type": "code",
      "metadata": {
        "id": "VPZWPxvALjhk"
      },
      "source": [
        "%%bash\n",
        "subword-nmt learn-bpe -s 16000 < kftt-data-1.0/data/orig/kyoto-train.en > kyoto_en.codes\n",
        "subword-nmt apply-bpe -c kyoto_en.codes < kftt-data-1.0/data/orig/kyoto-train.en > train.sub.en\n",
        "subword-nmt apply-bpe -c kyoto_en.codes < kftt-data-1.0/data/orig/kyoto-dev.en > dev.sub.en\n",
        "subword-nmt apply-bpe -c kyoto_en.codes < kftt-data-1.0/data/orig/kyoto-test.en > test.sub.en"
      ],
      "execution_count": null,
      "outputs": []
    },
    {
      "cell_type": "code",
      "metadata": {
        "id": "D0D1nXkAyrQ_"
      },
      "source": [
        "!fairseq-preprocess -s ja -t en  --trainpref train.sub  --validpref dev.sub --destdir data95  --workers 20"
      ],
      "execution_count": null,
      "outputs": []
    },
    {
      "cell_type": "code",
      "metadata": {
        "id": "4NDe4blUL5MY"
      },
      "source": [
        "!fairseq-train data95 --save-dir save95 --max-epoch 10 --fp16 --arch transformer --share-decoder-input-output-embed --optimizer adam --clip-norm 1.0 --lr 1e-3 --lr-scheduler inverse_sqrt --warmup-updates 2000 --update-freq 1 --dropout 0.2 --weight-decay 0.0001 --criterion label_smoothed_cross_entropy --label-smoothing 0.1 --max-tokens 8000 > 95.log"
      ],
      "execution_count": null,
      "outputs": []
    },
    {
      "cell_type": "code",
      "metadata": {
        "id": "s9IwLWWyQAmY"
      },
      "source": [
        "!fairseq-interactive --path save95/checkpoint10.pt data95 < test.sub.ja | grep '^H' | cut -f3 | sed -r 's/(@@ )|(@@ ?$)//g' > 95.out"
      ],
      "execution_count": null,
      "outputs": []
    },
    {
      "cell_type": "code",
      "metadata": {
        "id": "CX-ygMVXQHMA"
      },
      "source": [
        "def spacy_tokenize(src, dst):\n",
        "    with open(src) as f, open(dst, 'w') as g:\n",
        "        for x in f:\n",
        "            x = x.strip()\n",
        "            x = ' '.join([doc.text for doc in nlp(x)])\n",
        "            print(x, file=g)\n",
        "spacy_tokenize('95.out', '95.out.spacy')"
      ],
      "execution_count": null,
      "outputs": []
    },
    {
      "cell_type": "code",
      "metadata": {
        "id": "-hdgAjVBQHrw"
      },
      "source": [
        "!fairseq-score --sys 95.out.spacy --ref test.spacy.en"
      ],
      "execution_count": null,
      "outputs": []
    },
    {
      "cell_type": "code",
      "metadata": {
        "id": "kbTBxrSfQQth"
      },
      "source": [
        "%%bash\n",
        "for N in `seq 1 10` ; do\n",
        "    fairseq-interactive --path save95/checkpoint10.pt --beam $N data95 < test.sub.ja | grep '^H' | cut -f3 | sed -r 's/(@@ )|(@@ ?$)//g' > 95.$N.out\n",
        "done"
      ],
      "execution_count": null,
      "outputs": []
    },
    {
      "cell_type": "code",
      "metadata": {
        "id": "0BD7o2xJQIMZ"
      },
      "source": [
        "for i in range(1, 11):\n",
        "    spacy_tokenize(f'95.{i}.out', f'95.{i}.out.spacy')"
      ],
      "execution_count": null,
      "outputs": []
    },
    {
      "cell_type": "code",
      "metadata": {
        "id": "j9ARU8JHQZex"
      },
      "source": [
        "%%bash\n",
        "for N in `seq 1 10` ; do\n",
        "    fairseq-score --sys 95.$N.out.spacy --ref test.spacy.en > 95.$N.score\n",
        "done"
      ],
      "execution_count": null,
      "outputs": []
    },
    {
      "cell_type": "code",
      "metadata": {
        "id": "DZm5uEPfQaGd"
      },
      "source": [
        "xs = range(1, 11)\n",
        "ys = [read_score(f'95.{x}.score') for x in xs]\n",
        "plt.plot(xs, ys)\n",
        "plt.show()"
      ],
      "execution_count": null,
      "outputs": []
    },
    {
      "cell_type": "markdown",
      "metadata": {
        "id": "dBrFpal_ypBN"
      },
      "source": [
        "## 96. 学習過程の可視化\n",
        "Tensorboardなどのツールを用い，ニューラル機械翻訳モデルが学習されていく過程を可視化せよ．可視化する項目としては，学習データにおける損失関数の値とBLEUスコア，開発データにおける損失関数の値とBLEUスコアなどを採用せよ．"
      ]
    },
    {
      "cell_type": "code",
      "metadata": {
        "id": "yQi_46UAQqIl"
      },
      "source": [
        "!fairseq-train data95   --fp16   --tensorboard-logdir log96   --save-dir save96   --max-epoch 5   --arch transformer --share-decoder-input-output-embed   --optimizer adam --clip-norm 1.0   --lr 1e-3 --lr-scheduler inverse_sqrt --warmup-updates 2000   --dropout 0.2 --weight-decay 0.0001   --update-freq 1   --criterion label_smoothed_cross_entropy --label-smoothing 0.1   --max-tokens 8000 > 96.log"
      ],
      "execution_count": null,
      "outputs": []
    },
    {
      "cell_type": "markdown",
      "metadata": {
        "id": "OhTyXgNcyrW_"
      },
      "source": [
        "## 97. ハイパー・パラメータの調整\n",
        "ニューラルネットワークのモデルや，そのハイパーパラメータを変更しつつ，開発データにおけるBLEUスコアが最大となるモデルとハイパーパラメータを求めよ．"
      ]
    },
    {
      "cell_type": "code",
      "metadata": {
        "id": "AtI5I6yUytRu"
      },
      "source": [
        "%%bash\n",
        "fairseq-train data95 \\\n",
        "    --fp16 \\\n",
        "    --save-dir save97_1 \\\n",
        "    --max-epoch 10 \\\n",
        "    --arch transformer --share-decoder-input-output-embed \\\n",
        "    --optimizer adam --clip-norm 1.0 \\\n",
        "    --lr 1e-3 --lr-scheduler inverse_sqrt --warmup-updates 2000 \\\n",
        "    --dropout 0.1 --weight-decay 0.0001 \\\n",
        "    --update-freq 1 \\\n",
        "    --criterion label_smoothed_cross_entropy --label-smoothing 0.1 \\\n",
        "    --max-tokens 8000 > 97_1.log\n",
        "\n",
        "fairseq-train data95 \\\n",
        "    --fp16 \\\n",
        "    --save-dir save97_3 \\\n",
        "    --max-epoch 10 \\\n",
        "    --arch transformer --share-decoder-input-output-embed \\\n",
        "    --optimizer adam --clip-norm 1.0 \\\n",
        "    --lr 1e-3 --lr-scheduler inverse_sqrt --warmup-updates 2000 \\\n",
        "    --dropout 0.3 --weight-decay 0.0001 \\\n",
        "    --update-freq 1 \\\n",
        "    --criterion label_smoothed_cross_entropy --label-smoothing 0.1 \\\n",
        "    --max-tokens 8000 > 97_3.log\n",
        "\n",
        "fairseq-train data95 \\\n",
        "    --fp16 \\\n",
        "    --save-dir save97_5 \\\n",
        "    --max-epoch 10 \\\n",
        "    --arch transformer --share-decoder-input-output-embed \\\n",
        "    --optimizer adam --clip-norm 1.0 \\\n",
        "    --lr 1e-3 --lr-scheduler inverse_sqrt --warmup-updates 2000 \\\n",
        "    --dropout 0.5 --weight-decay 0.0001 \\\n",
        "    --update-freq 1 \\\n",
        "    --criterion label_smoothed_cross_entropy --label-smoothing 0.1 \\\n",
        "    --max-tokens 8000 > 97_5.log\n",
        "\n",
        "fairseq-interactive --path save97_1/checkpoint10.pt data95 < test.sub.ja | grep '^H' | cut -f3 | sed -r 's/(@@ )|(@@ ?$)//g' > 97_1.out\n",
        "fairseq-interactive --path save97_3/checkpoint10.pt data95 < test.sub.ja | grep '^H' | cut -f3 | sed -r 's/(@@ )|(@@ ?$)//g' > 97_3.out\n",
        "fairseq-interactive --path save97_5/checkpoint10.pt data95 < test.sub.ja | grep '^H' | cut -f3 | sed -r 's/(@@ )|(@@ ?$)//g' > 97_5.out"
      ],
      "execution_count": null,
      "outputs": []
    },
    {
      "cell_type": "code",
      "metadata": {
        "id": "nPIg3NTHtj1n"
      },
      "source": [
        "spacy_tokenize('97_1.out', '97_1.out.spacy')\n",
        "spacy_tokenize('97_3.out', '97_3.out.spacy')\n",
        "spacy_tokenize('97_5.out', '97_5.out.spacy')\n",
        "!fairseq-score --sys 97_1.out.spacy --ref test.spacy.en\n",
        "!fairseq-score --sys 97_3.out.spacy --ref test.spacy.en\n",
        "!fairseq-score --sys 97_5.out.spacy --ref test.spacy.en"
      ],
      "execution_count": null,
      "outputs": []
    },
    {
      "cell_type": "markdown",
      "metadata": {
        "id": "8MutZ1NEytY3"
      },
      "source": [
        "## 98. ドメイン適応\n",
        "Japanese-English Subtitle Corpus (JESC)やJParaCrawlなどの翻訳データを活用し，KFTTのテストデータの性能向上を試みよ．\n",
        "\n"
      ]
    },
    {
      "cell_type": "code",
      "metadata": {
        "id": "jkzonL5GyvbI"
      },
      "source": [
        "import tarfile\n",
        "\n",
        "with tarfile.open('en-ja.tar.gz') as tar:\n",
        "    for f in tar.getmembers():\n",
        "        if f.name.endswith('txt'):\n",
        "            text = tar.extractfile(f).read().decode('utf-8')\n",
        "            break\n",
        "\n",
        "data = text.splitlines()\n",
        "data = [x.split('\\t') for x in data]\n",
        "data = [x for x in data if len(x) == 4]\n",
        "data = [[x[3], x[2]] for x in data]\n",
        "\n",
        "with open('jparacrawl.ja', 'w') as f, open('jparacrawl.en', 'w') as g:\n",
        "    for j, e in data:\n",
        "        print(j, file=f)\n",
        "        print(e, file=g)\n",
        "\n",
        "\n",
        "with open('jparacrawl.ja') as f, open('train.jparacrawl.ja', 'w') as g:\n",
        "    for x in f:\n",
        "        x = x.strip()\n",
        "        x = re.sub(r'\\s+', ' ', x)\n",
        "        x = sp.encode_as_pieces(x)\n",
        "        x = ' '.join(x)\n",
        "        print(x, file=g)\n",
        "\n",
        "\n",
        "!subword-nmt apply-bpe -c kyoto_en.codes < jparacrawl.en > train.jparacrawl.en\n",
        "\n",
        "\n"
      ],
      "execution_count": null,
      "outputs": []
    },
    {
      "cell_type": "code",
      "metadata": {
        "id": "JDVeeFUJtxka"
      },
      "source": [
        "%%bash\n",
        "fairseq-preprocess -s ja -t en \\\n",
        "    --trainpref train.jparacrawl \\\n",
        "    --validpref dev.sub \\\n",
        "    --destdir data98  \\\n",
        "    --workers 20\n",
        "\n",
        "fairseq-train data98 \\\n",
        "    --fp16 \\\n",
        "    --save-dir save98_1 \\\n",
        "    --max-epoch 3 \\\n",
        "    --arch transformer --share-decoder-input-output-embed \\\n",
        "    --optimizer adam --clip-norm 1.0 \\\n",
        "    --lr 1e-4 --lr-scheduler inverse_sqrt --warmup-updates 4000 \\\n",
        "    --dropout 0.1 --weight-decay 0.0001 \\\n",
        "    --criterion label_smoothed_cross_entropy --label-smoothing 0.1 \\\n",
        "    --max-tokens 8000 > 98_1.log\n",
        "\n",
        "fairseq-interactive --path save98_1/checkpoint3.pt data98 < test.sub.ja | grep '^H' | cut -f3 | sed -r 's/(@@ )|(@@ ?$)//g' > 98_1.out"
      ],
      "execution_count": null,
      "outputs": []
    },
    {
      "cell_type": "code",
      "metadata": {
        "id": "scRAESL9t0q5"
      },
      "source": [
        "spacy_tokenize('98_1.out', '98_1.out.spacy')\n",
        "!fairseq-score --sys 98_1.out.spacy --ref test.spacy.en"
      ],
      "execution_count": null,
      "outputs": []
    },
    {
      "cell_type": "markdown",
      "metadata": {
        "id": "BkKgk48Nyvg3"
      },
      "source": [
        "## 99. 翻訳サーバの構築\n",
        "ユーザが翻訳したい文を入力すると，その翻訳結果がウェブブラウザ上で表示されるデモシステムを構築せよ．"
      ]
    },
    {
      "cell_type": "code",
      "metadata": {
        "id": "QHQWthekTCbv"
      },
      "source": [
        ""
      ],
      "execution_count": null,
      "outputs": []
    }
  ]
}