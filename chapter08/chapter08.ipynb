t": 4,
  "nbformat_minor": 0,
  "metadata": {
    "colab": {
      "name": "言語処理100本ノック第8章.ipynb",
      "provenance": [],
      "collapsed_sections": []
    },
    "kernelspec": {
      "display_name": "Python 3",
      "name": "python3"
    },
    "accelerator": "GPU"
  },
  "cells": [
    {
      "cell_type": "markdown",
      "metadata": {
        "id": "_feZb3i1I5qz"
      },
      "source": [
        "# 8章：ニューラルネット\n",
        "第6章で取り組んだニュース記事のカテゴリ分類を題材として，ニューラルネットワークでカテゴリ分類モデルを実装する．なお，この章ではPyTorch, TensorFlow, Chainerなどの機械学習プラットフォームを活用せよ。  "
      ]
    },
    {
      "cell_type": "markdown",
      "metadata": {
        "id": "Wa6KHlHkUByE"
      },
      "source": [
        "![ch08.png](data:image/png;base64,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)"
      ]
    },
    {
      "cell_type": "markdown",
      "metadata": {
        "id": "zbLnQEMeK-eC"
      },
      "source": [
        "## 70. 単語ベクトルの和による特徴量\n",
        "\n",
        "問題50で構築した学習データ，検証データ，評価データを行列・ベクトルに変換したい．例えば，学習データについて，すべての事例$x_i$の特徴ベクトル$\\boldsymbol{x}_i$を並べた行列$X$と正解ラベルを並べた行列（ベクトル）$Y$を作成したい．\n",
        "\n",
        "$$\n",
        "X = \\begin{pmatrix} \n",
        "  \\boldsymbol{x}_1 \\\\ \n",
        "  \\boldsymbol{x}_2 \\\\ \n",
        "  \\dots \\\\ \n",
        "  \\boldsymbol{x}_n \\\\ \n",
        "\\end{pmatrix} \\in \\mathbb{R}^{n \\times d},\n",
        "Y = \\begin{pmatrix} \n",
        "  y_1 \\\\ \n",
        "  y_2 \\\\ \n",
        "  \\dots \\\\ \n",
        "  y_n \\\\ \n",
        "\\end{pmatrix} \\in \\mathbb{N}^{n}\n",
        "$$\n",
        "\n",
        "\n",
        " ここで，$n$は学習データの事例数であり，$\\boldsymbol x_i \\in \\mathbb{R}^d$と$y_i \\in \\mathbb N$はそれぞれ，$i \\in \\{1, \\dots, n\\}$番目の事例の特徴量ベクトルと正解ラベルを表す．\n",
        " なお，今回は「ビジネス」「科学技術」「エンターテイメント」「健康」の4カテゴリ分類である．$\\mathbb N_{<4}$で$4$未満の自然数（$0$を含む）を表すことにすれば，任意の事例の正解ラベル$y_i$は$y_i \\in \\mathbb N_{<4}$で表現できる．\n",
        " 以降では，ラベルの種類数を$L$で表す（今回の分類タスクでは$L=4$である）．\n",
        "\n",
        " $i$番目の事例の特徴ベクトル$\\boldsymbol x_i$は，次式で求める．\n",
        "\n",
        " $$\\boldsymbol x_i = \\frac{1}{T_i} \\sum_{t=1}^{T_i} \\mathrm{emb}(w_{i,t})$$\n",
        "\n",
        " ここで，$i$番目の事例は$T_i$個の（記事見出しの）単語列$(w_{i,1}, w_{i,2}, \\dots, w_{i,T_i})$から構成され，$\\mathrm{emb}(w) \\in \\mathbb{R}^d$は単語$w$に対応する単語ベクトル（次元数は$d$）である．  \n",
        " すなわち，$i$番目の事例の記事見出しを，その見出しに含まれる単語のベクトルの平均で表現したものが$\\boldsymbol x_i$である．今回は単語ベクトルとして，問題60でダウンロードしたものを用いればよい．$300$次元の単語ベクトルを用いたので，$d=300$である．  \n",
        " $i$番目の事例のラベル$y_i$は，次のように定義する．\n",
        "\n",
        "$$\n",
        "y_i = \\begin{cases}\n",
        "0 & (\\mbox{記事}\\boldsymbol x_i\\mbox{が「ビジネス」カテゴリの場合}) \\\\\n",
        "1 & (\\mbox{記事}\\boldsymbol x_i\\mbox{が「科学技術」カテゴリの場合}) \\\\\n",
        "2 & (\\mbox{記事}\\boldsymbol x_i\\mbox{が「エンターテイメント」カテゴリの場合}) \\\\\n",
        "3 & (\\mbox{記事}\\boldsymbol x_i\\mbox{が「健康」カテゴリの場合}) \\\\\n",
        "\\end{cases}\n",
        "$$\n",
        "\n",
        "なお，カテゴリ名とラベルの番号が一対一で対応付いていれば，上式の通りの対応付けでなくてもよい．\n",
        "\n",
        "以上の仕様に基づき，以下の行列・ベクトルを作成し，ファイルに保存せよ．\n",
        "\n",
        " + 学習データの特徴量行列: $X_{\\rm train} \\in \\mathbb{R}^{N_t \\times d}$\n",
        " + 学習データのラベルベクトル: $Y_{\\rm train} \\in \\mathbb{N}^{N_t}$\n",
        " + 検証データの特徴量行列: $X_{\\rm valid} \\in \\mathbb{R}^{N_v \\times d}$\n",
        " + 検証データのラベルベクトル: $Y_{\\rm valid} \\in \\mathbb{N}^{N_v}$\n",
        " + 評価データの特徴量行列: $X_{\\rm test} \\in \\mathbb{R}^{N_e \\times d}$\n",
        " + 評価データのラベルベクトル: $Y_{\\rm test} \\in \\mathbb{N}^{N_e}$\n",
        "\n",
        "なお，$N_t, N_v, N_e$はそれぞれ，学習データの事例数，検証データの事例数，評価データの事例数である．"
      ]
    },
    {
      "cell_type": "markdown",
      "metadata": {
        "id": "NmR8nIpblRqS"
      },
      "source": [
        "問題50のプログラムを利用\n"
      ]
    },
    {
      "cell_type": "code",
      "metadata": {
        "colab": {
          "base_uri": "https://localhost:8080/"
        },
        "id": "hQAGOU03-lR7",
        "outputId": "d03febfd-4764-469f-9a17-5cf8f997a071"
      },
      "source": [
        "!wget https://archive.ics.uci.edu/ml/machine-learning-databases/00359/NewsAggregatorDataset.zip\n",
        "!unzip NewsAggregatorDataset.zip"
      ],
      "execution_count": null,
      "outputs": [
        {
          "output_type": "stream",
          "text": [
            "--2021-06-29 05:23:49--  https://archive.ics.uci.edu/ml/machine-learning-databases/00359/NewsAggregatorDataset.zip\n",
            "Resolving archive.ics.uci.edu (archive.ics.uci.edu)... 128.195.10.252\n",
            "Connecting to archive.ics.uci.edu (archive.ics.uci.edu)|128.195.10.252|:443... connected.\n",
            "HTTP request sent, awaiting response... 200 OK\n",
            "Length: 29224203 (28M) [application/x-httpd-php]\n",
            "Saving to: ‘NewsAggregatorDataset.zip’\n",
            "\n",
            "NewsAggregatorDatas 100%[===================>]  27.87M  91.5MB/s    in 0.3s    \n",
            "\n",
            "2021-06-29 05:23:49 (91.5 MB/s) - ‘NewsAggregatorDataset.zip’ saved [29224203/29224203]\n",
            "\n",
            "Archive:  NewsAggregatorDataset.zip\n",
            "  inflating: 2pageSessions.csv       \n",
            "   creating: __MACOSX/\n",
            "  inflating: __MACOSX/._2pageSessions.csv  \n",
            "  inflating: newsCorpora.csv         \n",
            "  inflating: __MACOSX/._newsCorpora.csv  \n",
            "  inflating: readme.txt              \n",
            "  inflating: __MACOSX/._readme.txt   \n"
          ],
          "name": "stdout"
        }
      ]
    },
    {
      "cell_type": "code",
      "metadata": {
        "id": "70vG9K98OIzR"
      },
      "source": [
        "# 読込時のエラー回避のためダブルクォーテーションをシングルクォーテーションに置換\n",
        "!sed -e 's/\"/'\\''/g' ./newsCorpora.csv > ./newsCorpora_re.csv"
      ],
      "execution_count": null,
      "outputs": []
    },
    {
      "cell_type": "code",
      "metadata": {
        "colab": {
          "base_uri": "https://localhost:8080/"
        },
        "id": "hLsfaRJGONMe",
        "outputId": "87ad7085-2198-4886-d206-bbbf608356b7"
      },
      "source": [
        "import pandas as pd\n",
        "from sklearn.model_selection import train_test_split\n",
        "#pandas使い方 https://qiita.com/ysdyt/items/9ccca82fc5b504e7913a\n",
        "\n",
        "df = pd.read_table('./newsCorpora_re.csv', header=None, names=['ID', 'TITLE', 'URL', 'PUBLISHER', 'CATEGORY', 'STORY', 'HOSTNAME', 'TIMESTAMP'])#csvファイルをpandas.DataFrameとして読み込む\n",
        "#pandas.DataFrameは、values(実際のデータの値)、columns(列名）、indexは(行名）の3つで構成\n",
        "#namesにより、列名を指定することができる。\n",
        "\n",
        "df = df.loc[df['PUBLISHER'].isin(['Reuters', 'Huffington Post', 'Businessweek', 'Contactmusic.com', 'Daily Mail']), ['TITLE', 'CATEGORY']]\n",
        "\n",
        "#isin()は列の要素が引数に渡したリストの要素に含まれているかをbool値（True, False）で返すメソッド。ある列の要素が特定の値に一致する行のみを抽出できる。\n",
        "#df.query('PUBLISHER ==['Reuters', 'Huffington Post', 'Businessweek', 'Contactmusic.com', 'Daily Mail']')等でも同様\n",
        "#pandas.DataFrameの任意の位置のデータを取り出したり変更（代入）したりする場合、pandas.DataFrameのプロパティ、at, iat, loc, ilocを使う\n",
        "#DataFrame型変数.loc['行ラベル名', '列ラベル名']\n",
        "\n",
        "#scikit-learnでデータを訓練用とテスト用に分割する\n",
        "train, valid_test = train_test_split(df, test_size=0.2, shuffle=True, random_state=123, stratify=df['CATEGORY'])\n",
        "valid, test = train_test_split(valid_test, test_size=0.5, shuffle=True, random_state=123, stratify=valid_test['CATEGORY'])\n",
        "\n",
        "#train_test_split()は、指定された条件に基づいて、トレーニングデータとテストデータに分割する。2回に分けて行うことで、80%を学習データ，残りの10%ずつを検証データと評価データに分割。\n",
        "#test_sizeでテスト用（返されるリストの2つめの要素）の割合または個数を指定\n",
        "#shuffleでデータをシャッフルするかどうかを指定\n",
        "#ramdom_stateを指定することで、毎回同じようにシャッフルされる\n",
        "#stratifyは指定したデータの割合が同じになるように分割する。テスト用データと訓練用データの偏りをなくす\n",
        "\n",
        "# データの保存\n",
        "train.to_csv('./train.txt', sep='\\t', index=False)\n",
        "valid.to_csv('./valid.txt', sep='\\t', index=False)\n",
        "test.to_csv('./test.txt', sep='\\t', index=False)\n",
        "#to_csvでtrain.txt，valid.txt，test.txtというファイル名で保存\n",
        "#seqで区切り文字、indexで行名を出力するかどうかを指定\n",
        "\n",
        "# 事例数の確認\n",
        "print('Category : b = business, t = science and technology, e = entertainment, m = health')\n",
        "print('【学習データ】')\n",
        "print(train['CATEGORY'].value_counts())\n",
        "print('【検証データ】')\n",
        "print(valid['CATEGORY'].value_counts())\n",
        "print('【評価データ】')\n",
        "print(test['CATEGORY'].value_counts())\n",
        "\n",
        "#value.counts()は、それぞれの値の出現回数を数え上げてくれる関数"
      ],
      "execution_count": null,
      "outputs": [
        {
          "output_type": "stream",
          "text": [
            "Category : b = business, t = science and technology, e = entertainment, m = health\n",
            "【学習データ】\n",
            "b    4501\n",
            "e    4235\n",
            "t    1220\n",
            "m     728\n",
            "Name: CATEGORY, dtype: int64\n",
            "【検証データ】\n",
            "b    563\n",
            "e    529\n",
            "t    153\n",
            "m     91\n",
            "Name: CATEGORY, dtype: int64\n",
            "【評価データ】\n",
            "b    563\n",
            "e    530\n",
            "t    152\n",
            "m     91\n",
            "Name: CATEGORY, dtype: int64\n"
          ],
          "name": "stdout"
        }
      ]
    },
    {
      "cell_type": "markdown",
      "metadata": {
        "id": "rKEDkr8dlQ6U"
      },
      "source": [
        "問題60のプログラムを利用\n"
      ]
    },
    {
      "cell_type": "code",
      "metadata": {
        "colab": {
          "base_uri": "https://localhost:8080/"
        },
        "id": "lzVIU2WaPov_",
        "outputId": "5e58076a-d788-4b75-fc08-5b1af1e37ad2"
      },
      "source": [
        "FILE_ID = \"0B7XkCwpI5KDYNlNUTTlSS21pQmM\"\n",
        "FILE_NAME = \"GoogleNews-vectors-negative300.bin.gz\"\n",
        "!wget --load-cookies /tmp/cookies.txt \"https://docs.google.com/uc?export=download&confirm=$(wget --quiet --save-cookies /tmp/cookies.txt --keep-session-cookies --no-check-certificate 'https://docs.google.com/uc?export=download&id=$FILE_ID' -O- | sed -rn 's/.*confirm=([0-9A-Za-z_]+).*/\\1\\n/p')&id=$FILE_ID\" -O $FILE_NAME && rm -rf /tmp/cookies.txt"
      ],
      "execution_count": null,
      "outputs": [
        {
          "output_type": "stream",
          "text": [
            "--2021-06-29 05:24:06--  https://docs.google.com/uc?export=download&confirm=noqg&id=0B7XkCwpI5KDYNlNUTTlSS21pQmM\n",
            "Resolving docs.google.com (docs.google.com)... 142.250.141.102, 142.250.141.100, 142.250.141.101, ...\n",
            "Connecting to docs.google.com (docs.google.com)|142.250.141.102|:443... connected.\n",
            "HTTP request sent, awaiting response... 302 Moved Temporarily\n",
            "Location: https://doc-10-9s-docs.googleusercontent.com/docs/securesc/kj9a2jc65pd4ge6h7evkcjar16uob9us/4t0vr84p8ddurmlqhv8o9qoprqlfnqlt/1624944225000/06848720943842814915/00198279833050187718Z/0B7XkCwpI5KDYNlNUTTlSS21pQmM?e=download [following]\n",
            "--2021-06-29 05:24:07--  https://doc-10-9s-docs.googleusercontent.com/docs/securesc/kj9a2jc65pd4ge6h7evkcjar16uob9us/4t0vr84p8ddurmlqhv8o9qoprqlfnqlt/1624944225000/06848720943842814915/00198279833050187718Z/0B7XkCwpI5KDYNlNUTTlSS21pQmM?e=download\n",
            "Resolving doc-10-9s-docs.googleusercontent.com (doc-10-9s-docs.googleusercontent.com)... 142.250.141.132, 2607:f8b0:4023:c0b::84\n",
            "Connecting to doc-10-9s-docs.googleusercontent.com (doc-10-9s-docs.googleusercontent.com)|142.250.141.132|:443... connected.\n",
            "HTTP request sent, awaiting response... 302 Found\n",
            "Location: https://docs.google.com/nonceSigner?nonce=0520do4gm60l2&continue=https://doc-10-9s-docs.googleusercontent.com/docs/securesc/kj9a2jc65pd4ge6h7evkcjar16uob9us/4t0vr84p8ddurmlqhv8o9qoprqlfnqlt/1624944225000/06848720943842814915/00198279833050187718Z/0B7XkCwpI5KDYNlNUTTlSS21pQmM?e%3Ddownload&hash=9e03o7063aujlcihaas4o4uobhpu564r [following]\n",
            "--2021-06-29 05:24:07--  https://docs.google.com/nonceSigner?nonce=0520do4gm60l2&continue=https://doc-10-9s-docs.googleusercontent.com/docs/securesc/kj9a2jc65pd4ge6h7evkcjar16uob9us/4t0vr84p8ddurmlqhv8o9qoprqlfnqlt/1624944225000/06848720943842814915/00198279833050187718Z/0B7XkCwpI5KDYNlNUTTlSS21pQmM?e%3Ddownload&hash=9e03o7063aujlcihaas4o4uobhpu564r\n",
            "Connecting to docs.google.com (docs.google.com)|142.250.141.102|:443... connected.\n",
            "HTTP request sent, awaiting response... 302 Found\n",
            "Location: https://doc-10-9s-docs.googleusercontent.com/docs/securesc/kj9a2jc65pd4ge6h7evkcjar16uob9us/4t0vr84p8ddurmlqhv8o9qoprqlfnqlt/1624944225000/06848720943842814915/00198279833050187718Z/0B7XkCwpI5KDYNlNUTTlSS21pQmM?e=download&nonce=0520do4gm60l2&user=00198279833050187718Z&hash=jka8becv2g5o15801bs3s64bklfi1uuk [following]\n",
            "--2021-06-29 05:24:07--  https://doc-10-9s-docs.googleusercontent.com/docs/securesc/kj9a2jc65pd4ge6h7evkcjar16uob9us/4t0vr84p8ddurmlqhv8o9qoprqlfnqlt/1624944225000/06848720943842814915/00198279833050187718Z/0B7XkCwpI5KDYNlNUTTlSS21pQmM?e=download&nonce=0520do4gm60l2&user=00198279833050187718Z&hash=jka8becv2g5o15801bs3s64bklfi1uuk\n",
            "Connecting to doc-10-9s-docs.googleusercontent.com (doc-10-9s-docs.googleusercontent.com)|142.250.141.132|:443... connected.\n",
            "HTTP request sent, awaiting response... 200 OK\n",
            "Length: unspecified [application/x-gzip]\n",
            "Saving to: ‘GoogleNews-vectors-negative300.bin.gz’\n",
            "\n",
            "GoogleNews-vectors-     [<=>                 ]   1.53G  84.4MB/s    in 22s     \n",
            "\n",
            "2021-06-29 05:24:29 (73.0 MB/s) - ‘GoogleNews-vectors-negative300.bin.gz’ saved [1647046227]\n",
            "\n"
          ],
          "name": "stdout"
        }
      ]
    },
    {
      "cell_type": "code",
      "metadata": {
        "id": "4Mc6kSulP48q"
      },
      "source": [
        "from gensim.models import KeyedVectors\n",
        "\n",
        "model = KeyedVectors.load_word2vec_format('./GoogleNews-vectors-negative300.bin.gz', binary=True)\n",
        "#今回のデータセットは学習済みであるため、KeyedVectors.load_word2vec_format(ファイルパス)を用いて、データを読み込む。\n",
        "#バイナリファイルを読み込む場合は，binary=Trueを指定"
      ],
      "execution_count": null,
      "outputs": []
    },
    {
      "cell_type": "markdown",
      "metadata": {
        "id": "m4BWYsb_lQA4"
      },
      "source": [
        "pyTorchを利用するためには、Tensor型にしなければならない。torch.tensor()によって、Tensor型に変換する。\n",
        "引数dtypeを指定して、任意のデータ型のtorch.Tensorを生成可能。\n",
        "\n",
        "![2021-06-19.png](data:image/png;base64,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)"
      ]
    },
    {
      "cell_type": "code",
      "metadata": {
        "id": "dDRYCRnwlPrG"
      },
      "source": [
        "import string\n",
        "import torch\n",
        "\n",
        "def transform_w2v(text):\n",
        "  table = str.maketrans(string.punctuation, ' '*len(string.punctuation))#記号を同じ個数のスペースに置換\n",
        "  words = text.translate(table).split()#スペースで分割してリスト化\n",
        "  vec = [model[word] for word in words if word in model]  #1語ずつベクトル化\n",
        "\n",
        "  return torch.tensor(sum(vec) / len(vec))#平均ベクトルをTensor型に変換して出力\n",
        "  #torch.tensor()"
      ],
      "execution_count": null,
      "outputs": []
    },
    {
      "cell_type": "markdown",
      "metadata": {
        "id": "rsARuk0Ld8T9"
      },
      "source": [
        "PyTorch（パイトーチ）とは、Facebookが開発しているオープンソースの機械学習（特にディープラーニング）のライブラリ"
      ]
    },
    {
      "cell_type": "markdown",
      "metadata": {
        "id": "8Xppa1E6usDi"
      },
      "source": [
        "trainデータ、validデータ、testデータを利用して、それぞれの特徴量行列を作成する。\n"
      ]
    },
    {
      "cell_type": "markdown",
      "metadata": {
        "id": "WedtIbXA7pRY"
      },
      "source": [
        "https://www.hellocybernetics.tech/entry/2017/10/19/070522\n",
        "\n",
        "【Pytorch】torch.Tensorの作成と基本操作"
      ]
    },
    {
      "cell_type": "code",
      "metadata": {
        "colab": {
          "base_uri": "https://localhost:8080/"
        },
        "id": "PDD8ODOkur58",
        "outputId": "d054e8e2-5a61-410b-c47c-9b25f7004416"
      },
      "source": [
        "# 特徴ベクトルの作成\n",
        "X_train = torch.stack([transform_w2v(text) for text in train['TITLE']])\n",
        "X_valid = torch.stack([transform_w2v(text) for text in valid['TITLE']])\n",
        "X_test = torch.stack([transform_w2v(text) for text in test['TITLE']])\n",
        "#torch.stackは、torch.Tensorをリストにして渡す\n",
        "\n",
        "print(X_train.size())\n",
        "print(X_train)"
      ],
      "execution_count": null,
      "outputs": [
        {
          "output_type": "stream",
          "text": [
            "torch.Size([10684, 300])\n",
            "tensor([[ 0.0837,  0.0056,  0.0068,  ...,  0.0751,  0.0433, -0.0868],\n",
            "        [ 0.0272,  0.0266, -0.0947,  ..., -0.1046, -0.0489, -0.0092],\n",
            "        [ 0.0577, -0.0159, -0.0780,  ..., -0.0421,  0.1229,  0.0876],\n",
            "        ...,\n",
            "        [ 0.0392, -0.0052,  0.0686,  ..., -0.0175,  0.0061, -0.0224],\n",
            "        [ 0.0798,  0.1017,  0.1066,  ..., -0.0752,  0.0623,  0.1138],\n",
            "        [ 0.1664,  0.0451,  0.0508,  ..., -0.0531, -0.0183, -0.0039]])\n"
          ],
          "name": "stdout"
        }
      ]
    },
    {
      "cell_type": "markdown",
      "metadata": {
        "id": "Rr55pkSI39ne"
      },
      "source": [
        "trainデータ、validデータ、testデータのラベルベクトルを作成する"
      ]
    },
    {
      "cell_type": "code",
      "metadata": {
        "colab": {
          "base_uri": "https://localhost:8080/"
        },
        "id": "3_fV0pSh3-gx",
        "outputId": "09143e74-3e67-4658-abfa-82d4767814f1"
      },
      "source": [
        "# ラベルベクトルの作成\n",
        "category_dict = {'b': 0, 't': 1, 'e':2, 'm':3}#ラベルを定義\n",
        "y_train = torch.tensor(train['CATEGORY'].map(lambda x: category_dict[x]).values)\n",
        "y_valid = torch.tensor(valid['CATEGORY'].map(lambda x: category_dict[x]).values)\n",
        "y_test = torch.tensor(test['CATEGORY'].map(lambda x: category_dict[x]).values)\n",
        "\n",
        "#カテゴリ名\n",
        "\n",
        "print(y_train.size())\n",
        "print(y_train)"
      ],
      "execution_count": null,
      "outputs": [
        {
          "output_type": "stream",
          "text": [
            "torch.Size([10684])\n",
            "tensor([0, 1, 3,  ..., 0, 3, 2])\n"
          ],
          "name": "stdout"
        }
      ]
    },
    {
      "cell_type": "code",
      "metadata": {
        "colab": {
          "base_uri": "https://localhost:8080/"
        },
        "id": "W9q4MOpUESsA",
        "outputId": "bdc50465-7f8d-4c68-8bb2-63790c7cded1"
      },
      "source": [
        "print(lambda x: category_dict[x])\n",
        "#lambda \"返り値\": \"演算式\""
      ],
      "execution_count": null,
      "outputs": [
        {
          "output_type": "stream",
          "text": [
            "<function <lambda> at 0x7f51a8d1cd40>\n"
          ],
          "name": "stdout"
        }
      ]
    },
    {
      "cell_type": "code",
      "metadata": {
        "colab": {
          "base_uri": "https://localhost:8080/"
        },
        "id": "GCAkGX-YEHOc",
        "outputId": "04f2d797-4927-408b-a94f-ee49295ce703"
      },
      "source": [
        "print(train['CATEGORY'].map(lambda x: category_dict[x]))"
      ],
      "execution_count": null,
      "outputs": [
        {
          "output_type": "stream",
          "text": [
            "16218     0\n",
            "350381    1\n",
            "148768    3\n",
            "210596    2\n",
            "234365    0\n",
            "         ..\n",
            "248020    0\n",
            "280908    2\n",
            "132357    0\n",
            "404892    3\n",
            "274877    2\n",
            "Name: CATEGORY, Length: 10684, dtype: int64\n"
          ],
          "name": "stdout"
        }
      ]
    },
    {
      "cell_type": "code",
      "metadata": {
        "colab": {
          "base_uri": "https://localhost:8080/"
        },
        "id": "3EAocAA7EOqJ",
        "outputId": "c84732a0-eaa7-4539-c7f4-cf1c0022163e"
      },
      "source": [
        "train['CATEGORY'].map(lambda x: category_dict[x]).values"
      ],
      "execution_count": null,
      "outputs": [
        {
          "output_type": "execute_result",
          "data": {
            "text/plain": [
              "array([0, 1, 3, ..., 0, 3, 2])"
            ]
          },
          "metadata": {
            "tags": []
          },
          "execution_count": 11
        }
      ]
    },
    {
      "cell_type": "markdown",
      "metadata": {
        "id": "AN_V1r63Fr-S"
      },
      "source": [
        "ファイルに保存(PyTorchでモデルを保存するときは，.ptか.pthで保存するのが一般的)"
      ]
    },
    {
      "cell_type": "code",
      "metadata": {
        "id": "eFdq9qHdFsg3"
      },
      "source": [
        "# 保存\n",
        "torch.save(X_train, 'X_train.pt')\n",
        "torch.save(X_valid, 'X_valid.pt')\n",
        "torch.save(X_test, 'X_test.pt')\n",
        "torch.save(y_train, 'y_train.pt')\n",
        "torch.save(y_valid, 'y_valid.pt')\n",
        "torch.save(y_test, 'y_test.pt')"
      ],
      "execution_count": null,
      "outputs": []
    },
    {
      "cell_type": "markdown",
      "metadata": {
        "id": "2GCShFBPtZB0"
      },
      "source": [
        "## 71. 単層ニューラルネットワークによる予測\n",
        "問題70で保存した行列を読み込み，学習データについて以下の計算を実行せよ．\n",
        "\n",
        "$$ \n",
        "\\hat{y}_1=softmax(x_1W),\\\\\\hat{Y}=softmax(X_{[1:4]}W)\n",
        "$$\n",
        "\n",
        "\n",
        "ただし，$softmax$はソフトマックス関数，$X_{[1:4]}∈\\mathbb{R}^{4×d}$は特徴ベクトル$x_1$,$x_2$,$x_3$,$x_4$を縦に並べた行列である．\n",
        "\n",
        "$$\n",
        "X_{[1:4]}=\\begin{pmatrix}x_1\\\\x_2\\\\x_3\\\\x_4\\end{pmatrix}\n",
        "$$\n",
        "\n",
        "行列$W \\in \\mathbb{R}^{d \\times L}$は単層ニューラルネットワークの重み行列で，ここではランダムな値で初期化すればよい（問題73以降で学習して求める）．  \n",
        "なお，$\\hat{\\boldsymbol y_1} \\in \\mathbb{R}^L$は未学習の行列$W$で事例$x_1$を分類したときに，各カテゴリに属する確率を表すベクトルである．\n",
        "同様に，$\\hat{Y} \\in \\mathbb{R}^{n \\times L}$は，学習データの事例$x_1, x_2, x_3, x_4$について，各カテゴリに属する確率を行列として表現している．\n"
      ]
    },
    {
      "cell_type": "markdown",
      "metadata": {
        "id": "vyHFuRlRP_2i"
      },
      "source": [
        "確率値を出力する関数であるという性質から、機械学習の分類問題においては2値分類ではシグモイド関数、多値分類（3値以上）ではソフトマックス関数が、出力層の活性化関数として用いられる。\n"
      ]
    },
    {
      "cell_type": "markdown",
      "metadata": {
        "id": "mL_uohTUdtCI"
      },
      "source": [
        "torch.nn.Moduleクラスを継承した単層ニューラルネットワークを定義。\n",
        "\n",
        "クラス内には、\n",
        "\n",
        "・init関数： レイヤー（層）を定義\n",
        "\n",
        "・forward関数： フォワードパス（＝活性化関数で変換しながらデータを流す処理）を実装"
      ]
    },
    {
      "cell_type": "code",
      "metadata": {
        "id": "-dK6BtsbG90U"
      },
      "source": [
        "from torch import nn\n",
        "\n",
        "class SLPNet(nn.Module):\n",
        "  def __init__(self, input_size, output_size):\n",
        "    super().__init__()\n",
        "    self.fc = nn.Linear(input_size, output_size, bias=False)#レイヤー（層）を定義しているtorch.nn.Linearクラス。線形変換を行う。\n",
        "    nn.init.normal_(self.fc.weight, 0.0, 1.0)  # 正規乱数で重みを初期化\n",
        "    #weightに対して，nn.initの中のメソッドを適用すれば初期化をすることができる\n",
        "\n",
        "  def forward(self, x):#入力値xを受け取って、重みとバイアスを利用して出力する値を計算する処理\n",
        "    x = self.fc(x)\n",
        "    return x"
      ],
      "execution_count": null,
      "outputs": []
    },
    {
      "cell_type": "markdown",
      "metadata": {
        "id": "BluPFJxIiQSy"
      },
      "source": [
        "![2021-06-20 (1).png](data:image/png;base64,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)"
      ]
    },
    {
      "cell_type": "markdown",
      "metadata": {
        "id": "8yh5iGfqo0FT"
      },
      "source": [
        "ソフトマックス関数による計算。ソフトマックスは非線形関数の1つであり、実数値ベクトルの入力に対して確率分布を返す。"
      ]
    },
    {
      "cell_type": "code",
      "metadata": {
        "colab": {
          "base_uri": "https://localhost:8080/"
        },
        "id": "BfLXZasXdapo",
        "outputId": "ca2f99dc-1ad7-4bfd-b915-705a83585a31"
      },
      "source": [
        "model = SLPNet(300, 4)#単層ニューラルネットワークの初期化\n",
        "y_hat_1 = torch.softmax(model(X_train[:1]), dim=1)\n",
        "print(y_hat_1)"
      ],
      "execution_count": null,
      "outputs": [
        {
          "output_type": "stream",
          "text": [
            "tensor([[0.2311, 0.0119, 0.0372, 0.7199]], grad_fn=<SoftmaxBackward>)\n"
          ],
          "name": "stdout"
        }
      ]
    },
    {
      "cell_type": "code",
      "metadata": {
        "colab": {
          "base_uri": "https://localhost:8080/"
        },
        "id": "y3hnlTE9jHLs",
        "outputId": "2bba91df-8e7f-4cb5-c5a0-0c52127c3b1c"
      },
      "source": [
        "Y_hat = torch.softmax(model.forward(X_train[:4]), dim=1)\n",
        "#torch.softmax関数により、計算を行う。dim=0で列毎（各列合計が1）、dim=1で行毎（各行合計が１）の計算。\n",
        "print(Y_hat)"
      ],
      "execution_count": null,
      "outputs": [
        {
          "output_type": "stream",
          "text": [
            "tensor([[0.2311, 0.0119, 0.0372, 0.7199],\n",
            "        [0.1813, 0.4592, 0.1242, 0.2353],\n",
            "        [0.0620, 0.8211, 0.0786, 0.0384],\n",
            "        [0.2926, 0.0682, 0.3944, 0.2448]], grad_fn=<SoftmaxBackward>)\n"
          ],
          "name": "stdout"
        }
      ]
    },
    {
      "cell_type": "markdown",
      "metadata": {
        "id": "S2AZ3dWHJqo9"
      },
      "source": [
        "## 72. 損失と勾配の計算\n",
        "\n",
        "学習データの事例x1\n",
        "と事例集合x1,x2,x3,x4\n",
        "に対して，クロスエントロピー損失と，行列W\n",
        "に対する勾配を計算せよ．なお，ある事例xi\n",
        "に対して損失は次式で計算される．\n",
        "\n",
        "$$\n",
        "l_i=−log[事例x_iがy_iに分類される確率]\n",
        "$$\n",
        "\n",
        "ただし，事例集合に対するクロスエントロピー損失は，その集合に含まれる各事例の損失の平均とする．"
      ]
    },
    {
      "cell_type": "code",
      "metadata": {
        "id": "R1VsXbYFdUee"
      },
      "source": [
        "criterion = nn.CrossEntropyLoss()\n",
        "#Pytorchに用意されている、CrossEntropyLossを利用。"
      ],
      "execution_count": null,
      "outputs": []
    },
    {
      "cell_type": "code",
      "metadata": {
        "colab": {
          "base_uri": "https://localhost:8080/"
        },
        "id": "T1KlJtDQ0r45",
        "outputId": "4dc57b00-e9f1-49e5-de78-533b53abde5f"
      },
      "source": [
        "#学習データの事例x1に対して\n",
        "\n",
        "l_1 = criterion(model(X_train[:1]), y_train[:1]) #入力ベクトルはsoftmax前の値\n",
        "\n",
        "model.zero_grad() #勾配をゼロで初期化\n",
        "#計算された重みは追加されていくため、初期化が必要\n",
        "\n",
        "l_1.backward() #勾配を計算\n",
        "#目的の関数(l_1)に対して微分を行った時の勾配を計算する（値はmodel.fc.weight.grad）\n",
        "\n",
        "print('損失:' ,l_1)\n",
        "print('勾配:\\n',model.fc.weight.grad)"
      ],
      "execution_count": null,
      "outputs": [
        {
          "output_type": "stream",
          "text": [
            "損失: tensor(1.4651, grad_fn=<NllLossBackward>)\n",
            "勾配:\n",
            " tensor([[-6.4330e-02, -4.3323e-03, -5.2402e-03,  ..., -5.7767e-02,\n",
            "         -3.3301e-02,  6.6742e-02],\n",
            "        [ 9.9397e-04,  6.6938e-05,  8.0967e-05,  ...,  8.9256e-04,\n",
            "          5.1453e-04, -1.0312e-03],\n",
            "        [ 3.1091e-03,  2.0938e-04,  2.5326e-04,  ...,  2.7919e-03,\n",
            "          1.6094e-03, -3.2257e-03],\n",
            "        [ 6.0227e-02,  4.0559e-03,  4.9060e-03,  ...,  5.4083e-02,\n",
            "          3.1177e-02, -6.2485e-02]])\n"
          ],
          "name": "stdout"
        }
      ]
    },
    {
      "cell_type": "code",
      "metadata": {
        "colab": {
          "base_uri": "https://localhost:8080/"
        },
        "id": "xrMA1Dus6DMu",
        "outputId": "0ef8df68-74bd-448a-84ad-de81e84cd453"
      },
      "source": [
        "#事例集合x1,x2,x3,x4 に対して\n",
        "\n",
        "l = criterion(model(X_train[:4]), y_train[:4])\n",
        "model.zero_grad()\n",
        "l.backward()\n",
        "print('損失:' ,l)\n",
        "print('勾配:\\n',model.fc.weight.grad)"
      ],
      "execution_count": null,
      "outputs": [
        {
          "output_type": "stream",
          "text": [
            "損失: tensor(1.6086, grad_fn=<NllLossBackward>)\n",
            "勾配:\n",
            " tensor([[-0.0180,  0.0035, -0.0023,  ..., -0.0208, -0.0058,  0.0161],\n",
            "        [ 0.0075, -0.0060, -0.0021,  ...,  0.0055,  0.0326,  0.0186],\n",
            "        [ 0.0112, -0.0069, -0.0138,  ..., -0.0013, -0.0046,  0.0038],\n",
            "        [-0.0006,  0.0094,  0.0182,  ...,  0.0166, -0.0222, -0.0385]])\n"
          ],
          "name": "stdout"
        }
      ]
    },
    {
      "cell_type": "markdown",
      "metadata": {
        "id": "uudzTu5mWLp1"
      },
      "source": [
        "## 73. 確率的勾配降下法による学習\n",
        "\n",
        "確率的勾配降下法（SGD: Stochastic Gradient Descent）を用いて，行列W\n",
        "を学習せよ．なお，学習は適当な基準で終了させればよい（例えば「100エポックで終了」など）．"
      ]
    },
    {
      "cell_type": "markdown",
      "metadata": {
        "id": "zPyyIijedSa0"
      },
      "source": [
        "学習に当たり、DatasetとDataloaderを準備。"
      ]
    },
    {
      "cell_type": "markdown",
      "metadata": {
        "id": "VLY6Tb3nb_dq"
      },
      "source": [
        "Datasetを実装するのに必要な要件\n",
        "\n",
        "オリジナルDatasetを実装するときに守る必要がある要件は以下３つ。\n",
        "\n",
        "・torch.utils.data.Datasetを継承する。\n",
        "\n",
        "・lenを実装する。\n",
        "\n",
        "・getitemを実装する。\n",
        "\n",
        "lenは、len(obj)で実行されたときにコールされる関数。\n",
        "getitemは、obj[i]のようにインデックスで指定されたときにコールされる関数。"
      ]
    },
    {
      "cell_type": "code",
      "metadata": {
        "id": "HfHGWnhIdVha"
      },
      "source": [
        "from torch.utils.data import Dataset\n",
        "\n",
        "class NewsDataset(Dataset):\n",
        "  def __init__(self, X, y): #datasetの構成要素を指定。特徴ベクトルとラベルベクトルを合わせて保持。\n",
        "    self.X = X #特徴ベクトル\n",
        "    self.y = y #ラベルベクトル\n",
        "\n",
        "  def __len__(self): #len(dataset)で返す値を指定\n",
        "    return len(self.y)\n",
        "\n",
        "  def __getitem__(self, idx): #dataset[idx]で返す値を指定\n",
        "    return [self.X[idx], self.y[idx]]"
      ],
      "execution_count": null,
      "outputs": []
    },
    {
      "cell_type": "markdown",
      "metadata": {
        "id": "6mxQJB9Zb_3W"
      },
      "source": [
        "Dataloaderによって、実際にDatasetを使用する。\n",
        "\n",
        "DataLoaderは，DataSetのインスタンスを渡すことで，ミニバッチ化した後のデータを返す。"
      ]
    },
    {
      "cell_type": "markdown",
      "metadata": {
        "id": "6sURxgZ0iW7T"
      },
      "source": [
        "ミニバッチ化とは…\n",
        "\n",
        "ミニバッチ化とは，訓練データをそれなりに小さいサイズで分割し，それによって得られた小規模な訓練データ（ミニバッチ）で訓練すること。分割する際には，バッチサイズが必要であり、例えばバッチサイズが2だと、全てのデータを2個ずつの組みに分ける。\n",
        "\n"
      ]
    },
    {
      "cell_type": "markdown",
      "metadata": {
        "id": "vb-S9GFti0oc"
      },
      "source": [
        "例として、データ数10に対してバッチサイズを2とすると、ミニバッチは5つ作成される。このミニバッチを用いて学習するとき、ミニバッチ5つ分の学習を行えば、分割前のデータ数に相当する学習を行ったことになる。このように，分割前のデータ1回分の学習に相当する学習を1単位として1エポックと呼ぶ。"
      ]
    },
    {
      "cell_type": "code",
      "metadata": {
        "id": "TTkIFsFSZNBr"
      },
      "source": [
        "from torch.utils.data import DataLoader\n",
        "\n",
        "#特徴ベクトルとラベルベクトルからDatasetを作成\n",
        "dataset_train = NewsDataset(X_train, y_train)\n",
        "dataset_valid = NewsDataset(X_valid, y_valid)\n",
        "dataset_test = NewsDataset(X_test, y_test)\n",
        "\n",
        "#Dataloaderの作成\n",
        "dataloader_train = DataLoader(dataset_train, batch_size=1, shuffle=True)#Datasetのインスタンスと，バッチサイズを渡す\n",
        "#shuffle=Trueで順番をバラバラに\n",
        "dataloader_valid = DataLoader(dataset_valid, batch_size=len(dataset_valid), shuffle=False)\n",
        "dataloader_test = DataLoader(dataset_test, batch_size=len(dataset_test), shuffle=False)"
      ],
      "execution_count": null,
      "outputs": []
    },
    {
      "cell_type": "code",
      "metadata": {
        "colab": {
          "base_uri": "https://localhost:8080/"
        },
        "id": "fSYcufeiv39p",
        "outputId": "20d28789-4e45-4f6e-c44a-4d748da89786"
      },
      "source": [
        "print(len(dataset_valid))\n",
        "print(len(dataset_test))"
      ],
      "execution_count": null,
      "outputs": [
        {
          "output_type": "stream",
          "text": [
            "1336\n",
            "1336\n"
          ],
          "name": "stdout"
        }
      ]
    },
    {
      "cell_type": "markdown",
      "metadata": {
        "id": "e2-ylVAFcAUp"
      },
      "source": [
        "行列Wを学習する。\n",
        "モデルの定義、損失関数の定義は前問と同様。"
      ]
    },
    {
      "cell_type": "code",
      "metadata": {
        "colab": {
          "base_uri": "https://localhost:8080/"
        },
        "id": "w8IrjAZoauMt",
        "outputId": "4ddfe8b7-d5fb-477c-f56d-681b4d4bfa91"
      },
      "source": [
        "#モデルの定義\n",
        "model = SLPNet(300, 4)\n",
        "\n",
        "#損失関数の定義\n",
        "criterion = nn.CrossEntropyLoss()\n",
        "\n",
        "#オプティマイザの定義\n",
        "optimizer = torch.optim.SGD(model.parameters(), lr=1e-1)\n",
        "#SGDとは、確率的勾配降下法のことであり、パラメータの更新手法を表す\n",
        "#torch.optim.SGDには、更新したいパラメータを渡す。このパラメータは微分可能でないといけない\n",
        "#lrには、学習率(learning rate)としてfloat型を渡す\n",
        "\n",
        "\n",
        "#学習\n",
        "num_epochs = 20\n",
        "for epoch in range(num_epochs):\n",
        "  # 訓練モードに設定\n",
        "  model.train()\n",
        "  loss_train = 0.0\n",
        "  for i, (inputs, labels) in enumerate(dataloader_train):\n",
        "    #入力データ・ラベルに分割\n",
        "    #勾配をゼロで初期化\n",
        "    optimizer.zero_grad()\n",
        "\n",
        "    #順伝播 + 誤差逆伝播 + 重み更新\n",
        "    outputs = model(inputs)#順伝播\n",
        "    loss = criterion(outputs, labels)#ラベルデータに対するCross-Entropyがとられる\n",
        "    loss.backward()\n",
        "    optimizer.step()#重みの更新\n",
        "\n",
        "    #損失を記録\n",
        "    loss_train += loss.item()\n",
        "\n",
        "  #バッチ単位の平均損失計算\n",
        "  loss_train = loss_train / i\n",
        "\n",
        "  #検証データの損失計算\n",
        "  model.eval()#model.eval()を実行して、推論モードに切り替え \n",
        "  with torch.no_grad():#torch.no_grad()を使用してパラメータの保存を止める→メモリの消費を減らす\n",
        "    inputs, labels = next(iter(dataloader_valid))\n",
        "    #組み込み関数iter()を使用してイテレータオブジェクトを取得\n",
        "    #組み込み関数next()を使用すると要素を一つずつ取り出す\n",
        "    outputs = model(inputs)\n",
        "    loss_valid = criterion(outputs, labels)\n",
        "\n",
        "  #ログを出力\n",
        "  print(f'epoch: {epoch + 1}, loss_train: {loss_train:.4f}, loss_valid: {loss_valid:.4f}')"
      ],
      "execution_count": null,
      "outputs": [
        {
          "output_type": "stream",
          "text": [
            "epoch: 1, loss_train: 0.4753, loss_valid: 0.3618\n",
            "epoch: 2, loss_train: 0.3169, loss_valid: 0.3356\n",
            "epoch: 3, loss_train: 0.2849, loss_valid: 0.3164\n",
            "epoch: 4, loss_train: 0.2683, loss_valid: 0.3113\n",
            "epoch: 5, loss_train: 0.2574, loss_valid: 0.3057\n",
            "epoch: 6, loss_train: 0.2497, loss_valid: 0.3071\n",
            "epoch: 7, loss_train: 0.2445, loss_valid: 0.3073\n",
            "epoch: 8, loss_train: 0.2403, loss_valid: 0.3054\n",
            "epoch: 9, loss_train: 0.2370, loss_valid: 0.3048\n",
            "epoch: 10, loss_train: 0.2337, loss_valid: 0.3065\n",
            "epoch: 11, loss_train: 0.2316, loss_valid: 0.3045\n",
            "epoch: 12, loss_train: 0.2288, loss_valid: 0.3064\n",
            "epoch: 13, loss_train: 0.2266, loss_valid: 0.3123\n",
            "epoch: 14, loss_train: 0.2259, loss_valid: 0.3092\n",
            "epoch: 15, loss_train: 0.2244, loss_valid: 0.3128\n",
            "epoch: 16, loss_train: 0.2238, loss_valid: 0.3132\n",
            "epoch: 17, loss_train: 0.2219, loss_valid: 0.3142\n",
            "epoch: 18, loss_train: 0.2214, loss_valid: 0.3133\n",
            "epoch: 19, loss_train: 0.2200, loss_valid: 0.3125\n",
            "epoch: 20, loss_train: 0.2195, loss_valid: 0.3145\n"
          ],
          "name": "stdout"
        }
      ]
    },
    {
      "cell_type": "markdown",
      "metadata": {
        "id": "weT30v7R4Yd2"
      },
      "source": [
        "ニューラルネットワークの全体像。誤差逆伝播法が登場するのは、STEP2の勾配の算出部分。\n",
        "\n",
        "![2021-06-20 (2).png](data:image/png;base64,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)"
      ]
    },
    {
      "cell_type": "markdown",
      "metadata": {
        "id": "x6uSmaljF8H0"
      },
      "source": [
        "## 74. 正解率の計測\n",
        "\n",
        "問題73で求めた行列を用いて学習データおよび評価データの事例を分類したとき，その正解率をそれぞれ求めよ．"
      ]
    },
    {
      "cell_type": "markdown",
      "metadata": {
        "id": "03pbQUtj3VbT"
      },
      "source": [
        "学習したモデルとDataloaderを入力として、正解率を算出する関数を定義"
      ]
    },
    {
      "cell_type": "code",
      "metadata": {
        "id": "pPC7JFmzdV5Y"
      },
      "source": [
        "def calculate_accuracy(model, loader):\n",
        "  model.eval()#model.eval()を実行して、推論モードに切り替え \n",
        "  total = 0\n",
        "  correct = 0\n",
        "  with torch.no_grad():\n",
        "    for inputs, labels in loader:\n",
        "      outputs = model(inputs)\n",
        "      pred = torch.argmax(outputs, dim=1)#テンソルのすべての要素の最大値のインデックスを返す\n",
        "      total += len(inputs)\n",
        "      correct += (pred == labels).sum().item()#予測と正解が一緒なら、1を追加\n",
        "\n",
        "  return correct / total"
      ],
      "execution_count": null,
      "outputs": []
    },
    {
      "cell_type": "markdown",
      "metadata": {
        "id": "s-bGe0cQ3U7d"
      },
      "source": [
        "正解率の算出"
      ]
    },
    {
      "cell_type": "code",
      "metadata": {
        "colab": {
          "base_uri": "https://localhost:8080/"
        },
        "id": "JQfptrRw3SwO",
        "outputId": "835a15da-5a72-4043-87a4-f477d31750f9"
      },
      "source": [
        "acc_train = calculate_accuracy(model, dataloader_train)#学習データについて\n",
        "acc_test = calculate_accuracy(model, dataloader_test)#テストデータについて\n",
        "print('正解率（学習データ）：', acc_train)\n",
        "print('正解率（評価データ）：', acc_test)"
      ],
      "execution_count": null,
      "outputs": [
        {
          "output_type": "stream",
          "text": [
            "正解率（学習データ）： 0.9283976038936728\n",
            "正解率（評価データ）： 0.9026946107784432\n"
          ],
          "name": "stdout"
        }
      ]
    },
    {
      "cell_type": "markdown",
      "metadata": {
        "id": "OKnCbpspuexA"
      },
      "source": [
        "## 75. 損失と正解率のプロット\n",
        "問題73のコードを改変し，各エポックのパラメータ更新が完了するたびに，訓練データでの損失，正解率，検証データでの損失，正解率をグラフにプロットし，学習の進捗状況を確認できるようにせよ．"
      ]
    },
    {
      "cell_type": "markdown",
      "metadata": {
        "id": "RPB0dhQ1AnDM"
      },
      "source": [
        "各エポックのパラメータ更新が完了するたびに，訓練データでの損失，正解率，検証データでの損失，正解率をグラフにプロットするために、前問74の関数を損失も求められるようにして、エポック毎に呼び出し、進捗状況を記録する。"
      ]
    },
    {
      "cell_type": "code",
      "metadata": {
        "id": "AG4bN4MOdWgK"
      },
      "source": [
        "#損失の求め方は前問と同様\n",
        "def calculate_loss_and_accuracy(model, criterion, loader):\n",
        "  model.eval()\n",
        "  loss = 0.0\n",
        "  total = 0\n",
        "  correct = 0\n",
        "  with torch.no_grad():\n",
        "    for inputs, labels in loader:\n",
        "      outputs = model(inputs)\n",
        "      loss += criterion(outputs, labels).item()\n",
        "      pred = torch.argmax(outputs, dim=-1)\n",
        "      total += len(inputs)\n",
        "      correct += (pred == labels).sum().item()\n",
        "\n",
        "  return loss / len(loader), correct / total#損失と正解率を返す"
      ],
      "execution_count": null,
      "outputs": []
    },
    {
      "cell_type": "code",
      "metadata": {
        "colab": {
          "base_uri": "https://localhost:8080/"
        },
        "id": "NLCRZlf9_EZ-",
        "outputId": "63c08734-98ec-405e-9121-948064a9a5e6"
      },
      "source": [
        "#モデルの定義\n",
        "model = SLPNet(300, 4)\n",
        "\n",
        "#損失関数の定義\n",
        "criterion = nn.CrossEntropyLoss()\n",
        "\n",
        "#オプティマイザの定義\n",
        "optimizer = torch.optim.SGD(model.parameters(), lr=1e-1)\n",
        "#SGDとは、確率的勾配降下法のことであり、パラメータの更新手法を表す\n",
        "#torch.optim.SGDには、更新したいパラメータを渡す。このパラメータは微分可能でないといけない\n",
        "#lrには、学習率(learning rate)としてfloat型を渡す\n",
        "\n",
        "# 学習\n",
        "num_epochs = 30\n",
        "log_train = []\n",
        "log_valid = []\n",
        "for epoch in range(num_epochs):\n",
        "  # 訓練モードに設定\n",
        "  model.train()\n",
        "  for inputs, labels in dataloader_train:\n",
        "    #入力データ・ラベルに分割\n",
        "    #勾配をゼロで初期化\n",
        "    optimizer.zero_grad()\n",
        "\n",
        "    #順伝播 + 誤差逆伝播 + 重み更新\n",
        "    outputs = model(inputs)#順伝播\n",
        "    loss = criterion(outputs, labels)#ラベルデータに対するCross-Entropyがとられる\n",
        "    loss.backward()\n",
        "    optimizer.step()#重みの更新\n",
        "\n",
        "  #損失と正解率の算出\n",
        "  loss_train, acc_train = calculate_loss_and_accuracy(model, criterion, dataloader_train)\n",
        "  loss_valid, acc_valid = calculate_loss_and_accuracy(model, criterion, dataloader_valid)\n",
        "  log_train.append([loss_train, acc_train])#グラフにプロットできるように、行列に損失と正解率を保存\n",
        "  log_valid.append([loss_valid, acc_valid])\n",
        "\n",
        "  #ログを出力\n",
        "  print(f'epoch: {epoch + 1}, loss_train: {loss_train:.4f}, accuracy_train: {acc_train:.4f}, loss_valid: {loss_valid:.4f}, accuracy_valid: {acc_valid:.4f}')  "
      ],
      "execution_count": null,
      "outputs": [
        {
          "output_type": "stream",
          "text": [
            "epoch: 1, loss_train: 0.3255, accuracy_train: 0.8852, loss_valid: 0.3732, accuracy_valid: 0.8713\n",
            "epoch: 2, loss_train: 0.2891, accuracy_train: 0.9006, loss_valid: 0.3436, accuracy_valid: 0.8840\n",
            "epoch: 3, loss_train: 0.2651, accuracy_train: 0.9095, loss_valid: 0.3221, accuracy_valid: 0.8967\n",
            "epoch: 4, loss_train: 0.2538, accuracy_train: 0.9140, loss_valid: 0.3146, accuracy_valid: 0.8960\n",
            "epoch: 5, loss_train: 0.2495, accuracy_train: 0.9158, loss_valid: 0.3173, accuracy_valid: 0.8915\n",
            "epoch: 6, loss_train: 0.2393, accuracy_train: 0.9191, loss_valid: 0.3093, accuracy_valid: 0.8960\n",
            "epoch: 7, loss_train: 0.2442, accuracy_train: 0.9189, loss_valid: 0.3160, accuracy_valid: 0.8937\n",
            "epoch: 8, loss_train: 0.2350, accuracy_train: 0.9206, loss_valid: 0.3117, accuracy_valid: 0.8990\n",
            "epoch: 9, loss_train: 0.2268, accuracy_train: 0.9222, loss_valid: 0.3069, accuracy_valid: 0.8922\n",
            "epoch: 10, loss_train: 0.2272, accuracy_train: 0.9232, loss_valid: 0.3113, accuracy_valid: 0.8915\n",
            "epoch: 11, loss_train: 0.2261, accuracy_train: 0.9209, loss_valid: 0.3142, accuracy_valid: 0.8982\n",
            "epoch: 12, loss_train: 0.2239, accuracy_train: 0.9227, loss_valid: 0.3139, accuracy_valid: 0.8937\n",
            "epoch: 13, loss_train: 0.2204, accuracy_train: 0.9244, loss_valid: 0.3125, accuracy_valid: 0.8975\n",
            "epoch: 14, loss_train: 0.2194, accuracy_train: 0.9247, loss_valid: 0.3111, accuracy_valid: 0.8930\n",
            "epoch: 15, loss_train: 0.2189, accuracy_train: 0.9261, loss_valid: 0.3123, accuracy_valid: 0.8960\n",
            "epoch: 16, loss_train: 0.2159, accuracy_train: 0.9274, loss_valid: 0.3102, accuracy_valid: 0.8922\n",
            "epoch: 17, loss_train: 0.2151, accuracy_train: 0.9274, loss_valid: 0.3124, accuracy_valid: 0.8915\n",
            "epoch: 18, loss_train: 0.2143, accuracy_train: 0.9285, loss_valid: 0.3126, accuracy_valid: 0.8922\n",
            "epoch: 19, loss_train: 0.2147, accuracy_train: 0.9286, loss_valid: 0.3170, accuracy_valid: 0.8922\n",
            "epoch: 20, loss_train: 0.2122, accuracy_train: 0.9278, loss_valid: 0.3181, accuracy_valid: 0.8930\n",
            "epoch: 21, loss_train: 0.2109, accuracy_train: 0.9276, loss_valid: 0.3173, accuracy_valid: 0.8922\n",
            "epoch: 22, loss_train: 0.2111, accuracy_train: 0.9286, loss_valid: 0.3188, accuracy_valid: 0.8930\n",
            "epoch: 23, loss_train: 0.2101, accuracy_train: 0.9289, loss_valid: 0.3189, accuracy_valid: 0.8915\n",
            "epoch: 24, loss_train: 0.2134, accuracy_train: 0.9281, loss_valid: 0.3246, accuracy_valid: 0.8885\n",
            "epoch: 25, loss_train: 0.2127, accuracy_train: 0.9262, loss_valid: 0.3256, accuracy_valid: 0.8915\n",
            "epoch: 26, loss_train: 0.2085, accuracy_train: 0.9275, loss_valid: 0.3222, accuracy_valid: 0.8922\n",
            "epoch: 27, loss_train: 0.2100, accuracy_train: 0.9280, loss_valid: 0.3245, accuracy_valid: 0.8900\n",
            "epoch: 28, loss_train: 0.2100, accuracy_train: 0.9299, loss_valid: 0.3261, accuracy_valid: 0.8922\n",
            "epoch: 29, loss_train: 0.2116, accuracy_train: 0.9273, loss_valid: 0.3278, accuracy_valid: 0.8915\n",
            "epoch: 30, loss_train: 0.2069, accuracy_train: 0.9292, loss_valid: 0.3251, accuracy_valid: 0.8930\n"
          ],
          "name": "stdout"
        }
      ]
    },
    {
      "cell_type": "code",
      "metadata": {
        "colab": {
          "base_uri": "https://localhost:8080/",
          "height": 334
        },
        "id": "VgYAngc-_pet",
        "outputId": "f7f9f24e-aced-4d5d-8a28-c093733a6afc"
      },
      "source": [
        "from matplotlib import pyplot as plt\n",
        "import numpy as np\n",
        "\n",
        "# 視覚化\n",
        "fig, ax = plt.subplots(1, 2, figsize=(15, 5))\n",
        "ax[0].plot(np.array(log_train).T[0], label='train')\n",
        "ax[0].plot(np.array(log_valid).T[0], label='valid')\n",
        "ax[0].set_xlabel('epoch')\n",
        "ax[0].set_ylabel('loss')\n",
        "ax[0].legend()#凡例を表示する\n",
        "ax[1].plot(np.array(log_train).T[1], label='train')\n",
        "ax[1].plot(np.array(log_valid).T[1], label='valid')\n",
        "ax[1].set_xlabel('epoch')\n",
        "ax[1].set_ylabel('accuracy')\n",
        "ax[1].legend()\n",
        "plt.show()"
      ],
      "execution_count": null,
      "outputs": [
        {
          "output_type": "display_data",
          "data": {
            "image/png": "iVBORw0KGgoAAAANSUhEUgAAA4UAAAE9CAYAAAC81seRAAAABHNCSVQICAgIfAhkiAAAAAlwSFlzAAALEgAACxIB0t1+/AAAADh0RVh0U29mdHdhcmUAbWF0cGxvdGxpYiB2ZXJzaW9uMy4yLjIsIGh0dHA6Ly9tYXRwbG90bGliLm9yZy+WH4yJAAAgAElEQVR4nOzdd3xV9f3H8dc3e5PJSghhCQk7BAQXw4XKELeiom0dLVb7a2uL1bqq1VY7tHVRRetAqrhQUVwIbmRD2JsEAmGEJEDm/f7+ODdwRUbWzcl4Px+P87j3nnU/B4+593O/42OstYiIiIiIiEjLFOB2ACIiIiIiIuIeJYUiIiIiIiItmJJCERERERGRFkxJoYiIiIiISAumpFBERERERKQFU1IoIiIiIiLSggW5HUBDSExMtGlpaW6HISIifrZgwYJd1tokt+NoKvT5KCLSchzvM7JFJIVpaWnMnz/f7TBERMTPjDGb3Y6hKdHno4hIy3G8z0h1HxUREREREWnBlBSKiIiIiIi0YEoKRUREREREWrAWMaZQRKQlKC8vJycnh5KSErdD8buwsDBSUlIIDg52O5RmR/eRiEjL49ek0BgzEngMCASetdY+fMT2m4GJQCVQDNxorV1hjBkP3O6zax8g01q72BjzOdAOOOjddo61dqc/r0NEpCnIyckhOjqatLQ0jDFuh+M31lp2795NTk4OnTp1cjucZkf3kYhIy+O37qPGmEDgCeA8IAO40hiTccRuU621va21/YC/An8HsNa+Yq3t511/DbDRWrvY57jxVduVEIqIOEpKSkhISGjWX+QBjDEkJCS0iJYsN+g+EhFpefw5pnAQsM5au8FaWwZMA8b67mCtLfR5GQnYo5znSu+xIiJyAs39i3yV5nydxpiRxpjVxph1xphJR9ne0RjzqTFmqTHmc2NMis/6hcaYxcaYbG9vnNrGUJdLaDJaynWKiJyIP5PCZGCrz+sc77ofMMZMNMasx2kpvPUo57kcePWIdc97P/T+aPQXXUSkUSgoKODJJ5+s8XHnn38+BQUFfoio6almL5tHgRettX2A+4GHvOu3A0O8vWxOBiYZY9o3TOT1S/eSiEjDcn32UWvtE9baLsDvgbt8txljTgYOWGuX+6web63tDZzuXa452nmNMTcaY+YbY+bn5+f7KXoREalyrC/yFRUVxz1u5syZxMbG+iuspuaEvWxwksXPvM9nV2231pZZa0u960NpBJ/xtaV7SUSkYfnzAyMX6ODzOsW77limARcese4KjmgltNbmeh+LgKk4H6A/Yq2dbK3NstZmJSUl1TD0I2ydB0tfr9s5RESauUmTJrF+/Xr69evHwIEDOf300xkzZgwZGU5D14UXXsiAAQPo2bMnkydPPnRcWloau3btYtOmTaSnp3PDDTfQs2dPzjnnHA4ePHist2uuqtPLZglwkff5OCDaGJMAYIzpYIxZ6j3HX6y12/wcr1/oXhKRpsLjsXy6cgf7DpS7HUqd+DMp/B7oZozpZIwJwUnwZvjuYIzp5vPyAmCtz7YA4DJ8xhMaY4KMMYne58HAKMC3FdE/FrwAH9wOnkq/v5WISFP18MMP06VLFxYvXswjjzzCwoULeeyxx1izZg0AU6ZMYcGCBcyfP5/HH3+c3bt3/+gca9euZeLEiWRnZxMbG8sbb7zR0JfRFPwWGGqMWQQMxfnBtRLAWrvV2620KzDBGNPmyIObQk8a3Usi0hRs3LWfyyd/w0//O5+Ln/6a7fua7o9PfitJYa2tMMbcAszCKUkxxVqbbYy5H5hvrZ0B3GKMOQsoB/YCE3xOcQaw1Vq7wWddKDDLmxAGAp8A//HXNRzSeTgsfgW2L4HkTL+/nYhIXd33bjYrthWeeMcayGgfwz2je1Z7/0GDBv1gqv/HH3+ct956C4CtW7eydu1aEhISfnBMp06d6NevHwADBgxg06ZNdQ+8aTlhLxtv699FAMaYKOBia23BkfsYY5bjDLOYfsS2ycBkgKysrKNN8HZIY7iPQPeSiDQulR7L819t5JFZqwkNCuC2M7vx3JcbueSpb3jpp4PonBTldog15tc6hdbamcDMI9bd7fP8tuMc+zkw+Ih1+4EB9RtlNXQe5jxumK2kUESkmiIjIw89//zzz/nkk0/45ptviIiIYNiwYUctBRAaGnroeWBgYEvs8neolw1OMngFcJXvDt4eM3ustR7gDmCKd30KsNtae9AYEwecBvyjIYP3F91LItJYrNtZzO+mL2HhlgLOSm/Dg+N60SYmjLMz2jBhyjwuffob/vuTQfRKblUv77d5937+9N4K/jyuN61jwurlnEfj16Sw2YhKgja9Yf1sOP03bkcjInJCNW2JqQ/R0dEUFRUdddu+ffuIi4sjIiKCVatW8e233zZwdE1DNXvZDAMeMsZYYC4w0Xt4OvA373oDPGqtXVaXeNy4j0D3kkhTV17pwQBBgU12vqsfqaj08OyXG/n7x2uICAnksSv6MaZv+0OlbXolt+K1m4dwzbPfceXkb3l2QhYnd044wVmPzVrLtO+38qf3VhAYYFi3s1hJYaPQZTh8+xSU7YeQyBPvLyLSwiQkJHDqqafSq1cvwsPDadPm8HC2kSNH8vTTT5Oenk737t0ZPHjwcc7UslWjl810jugS6l3/MdDH7wE2AN1LIo1TWYWH/OJSdhSWsLOwlPyiEnYUlrLz0KOzbvf+MiKCAxncOYFTuyZyatdETmoT1WRrg67ZUcTtry9hSc4+RvZsy/0X9qR19I8TtC5JUUz/+Slc89x3XDtlHk+Oz+TM9B8N7T6h/KJSJr2xlE9X7eSULgk8emlf2seG18elHJOx9rjDCZqFrKwsO3/+/LqdZP1n8NI4GD8dup1dP4GJiNSjlStXkp6e7nYYDeZo12uMWWCtzXIppCbnaJ+Puo9E6t+qvEI+XbmTA2UVlJR7KK2o9D56KC2vpOSIx9IKD0EBhoGd4jmtayJDOicQFxnS4HGXlFfyycodvLUwl0VbC9izv+xH+wQYSIwKpU1MGK2jQ2ntfdxVXMrX63ezcdd+AJKiQzm1y+Ek0d9JTn0or/TwzJz1PP7pOqLCgrh/bE8u6N3uhMntnv1lXPf8PLK3FfLopX0Y1z+l2u85KzuPP7y5jKLSCn4/sgfXn5JGQED9JNPH+4xUS2F1pQ6BwFCnC6mSQhERERE5jgNlFby3ZDtT521h8VZnLqjAAENYUAChwYGHHkN9HluFBxMaHUpYcCD7SyuYsXgbU7/bgjHQs30Mp3ZN5LSuiQxMiycsONAvcXs8lnmb9vDWwlxmLttOUWkFbWPCOCejDe1ahdM6JpQ2MaG0jg6jdUwoCZGhBB4nacnZe4Cv1+3my3W7+HLdLt5e7FTK6ZwYeShBHNI5gVYRwX65ntpaub2Q26cvYXluIRf0acf9Y3qSEBV64gOB+MgQpt4wmBv+O5//+98SCg6Uc/2pnY57THFpBfe/m81r83Po2T6GVy/vx0ltouvjUqpFSWF1BYdDx1OcFkMRERERkaNYnruPV+dt4Z3F2yguraBr6yj+OCqDcf2Tia9ha19FpYclOfv4at0uvlq3iylfbuSZORsICQpgQGocp3Vzkqreya2Om5hVx/r8Yt5amMtbi3LJLThIZEggI3u146LMZAZ3Tqj1+VPiIrhsYASXDeyAtZbVO4r4cq1zPW8szOGlbzcTYOCs9DbcP7YXbVv5b9zciezZX8ayXOff+/mvNtIqPJinr85kZK92NT5XVGgQz18/kFtfXcR9766g4EA5vzqr21FbGb/ftIdfv7aY3L0HmTi8C7edeRIhQQ07HlNJYU10GQ4f3w2F2yGm5jeHiIiIiDQ/xd5WvVfnbWFZ7j5CgwK4oE87rhqUyoCOcbUeSxcUGMCAjnEM6BjHrWd240BZBfM27vEmibt5ZNZqHpm1muiwIDJT42gfG0ZSdNihlryqx8SokKNO+rK7uJR3l2zjrUW5LMnZR4CB07olcfu53TmnZxsiQuo3VTDG0KNtDD3axvCz0ztTVuFhSU4Bs1ftZMpXGzn7H3P44wUZXJqV4vfxh7uKS1mWu4/lOfucx9x9bNt3eCbjsf3ac+/onnXqthsWHMiT4zOZ9OYyHvt0LQUHyrhndM9D3UFLKyr5x8dreWbuejrERfDaTUPISouv87XVhpLCmug83Hnc8Dn0u9LVUERERETEPdZaluY4rYIzlmzjQFklPdpGc9+YnlzYL9kv3SEjQoIY1r01w7q3Bpyk7uv1u/lq3S6W5uwje1shu/eXcuSUIcZAQmQoraMPd/3cVVzKnDX5VHgsGe1iuOuCdMb0be/XGS6PFBIUwMC0eAamxXNZVgd+N30pv3tjKe8t285DF/UmuZ7GHe7dX8airXtZllPI8m1OArjdJwHsnBhJVlo8vZJj6JXcip7tW9EqvH7++wUFBvDXi/sQGx7Ms19upOBgOY9e2pcN+fv51f8Ws3J7IVcO6sCdF2QQFepeaqaksCba9IKIRKdeoZJCERERkSav0mP5cHke0xds5WB5ZbWP211cxtqdxYQHBzK6bzuuHJRKvw6xDTrDZkJUKKP7tmd03/aH1lVUethVXOYzI6gzU2jV446iErK3FRIcGMBPT+/ERf1T6N624cauHUtaYiTTbhzMS99u5i8fruLcf8zlD+enc+WgDrX+N12ytYAXvt7Ee0u3UV5pMcZJAAd1iqd3citvAhhDdJh/xzMGBBjuvCCduMgQHpm1mo279rNqexEx4UE8e20WZ2XUfIbS+qaksCYCApwupOtng7XOzy4iIiIi0uSUlFcyfUEO//liA5t3H6BDfDjtWlW/ZaptqzAmnJLG2H7t/Z5U1ERQYABtW4W5OjavtgICDBNOSWNEj9b8bvpS/vDWMt5fto2HL+pDh/iIap2jrMLDB8u388LXm1i0pYCo0CCuHtyR83q1I6N9jGutccYYJg7vSmxEMH98ezlnprfhoYt6k1jNyWv8TUlhTXUeDstehx3Z0LaX29GIiDRZUVFRFBcXs23bNm699VamT/9R6T2GDRvGo48+SlaWqkzIselekpooOFDGS99s5oWvN7F7fxl9O8Ryx3k9ODujbZ0na5H60SE+gld+djJT523hoZkrOfefc7njvB6MP7njMcsz5BeV8uq8Lbz87WZ2FpXSOTGS+8b05OIBKa52yzzS+JM7MqpPe2LCghpV3cbG8y/UVHSpGlc4W0mhiEg9aN++/VG/xIvUlO4lOZ7cgoM898VGpn2/hQNllQzrnsTNQ7twcqf4RvXlXBwBAYarB3dkWPck7nhzGX98J5v3l23nLxf3oWNC5KH9luXs4/mvN/Leku2UVXoY1j2Jv56Sxhndkuqtvl99q6/xivVJSWFNxbSHxO5OF9JTful2NCIijcakSZPo0KEDEydOBODee+8lKCiI2bNns3fvXsrLy3nggQcYO3bsD47btGkTo0aNYvny5Rw8eJDrr7+eJUuW0KNHDw4ePOjGpYjLdC9JfVqdV8Qzc9YzY8k2LDCmb3tuPKMz6e1i3A5NqiElLoIXfzKI/32/lQffX8nIf37B70Z2JzEqlBe+3sSCzXuJDAnkqpNTuWZIR7okRbkdcpOkpLA2uoyABc9DeQkEN73+2iIi/nD55Zfzq1/96tAX+ddee41Zs2Zx6623EhMTw65duxg8eDBjxow55q/yTz31FBEREaxcuZKlS5eSmZnZkJcgjYTuJakray3zNu7h6Tnrmb06n/DgQK4Z0pGfntaJlLjqjU2TxsMYwxWDUjnjpCT+8NYy7nt3BQAdEyK4e5RTwqIxjetsipQU1kaX4fDdU7D1W+g8zO1oRER+7INJkLesfs/Ztjec9/AxN/fv35+dO3eybds28vPziYuLo23btvzf//0fc+fOJSAggNzcXHbs2EHbtm2Peo65c+dy6623AtCnTx/69OlTv9cgNePCfQS6l6T2PB7LRyt28PSc9SzeWkB8ZAi/PvskrhncsU715qRxaB8bzvPXDeSzVTsJCDAMbcRdRJsaJYW10fFUCAh2upB2HuZ2NCIijcall17K9OnTycvL4/LLL+eVV14hPz+fBQsWEBwcTFpaGiUlJSc+kbR4upekJkorKnlrYS6T525gw679dIgP509je3LJgA6EhwS6HZ7UI2MMZ6a7X8KhuVFSWBuhUdBhEKz/DM6+z+1oRER+7AQtMf5y+eWXc8MNN7Br1y7mzJnDa6+9RuvWrQkODmb27Nls3rz5uMefccYZTJ06lREjRrB8+XKWLl3aQJHLUbl0H4HuJamewpJyXvl2C1O+2kh+USk928fwryv7c16vtgQFBrgdnkiToaSwtroMh88egP27IDLR7WhERBqFnj17UlRURHJyMu3atWP8+PGMHj2a3r17k5WVRY8ePY57/M9//nOuv/560tPTSU9PZ8CAAQ0UuTQ2upfkeHYUljDly4288t0WiksrOL1bIv+4rB+ndk3QTKIitaCksLY6j3CSwg2fQ+9L3I5GRKTRWLbs8Bi0xMREvvnmm6PuV1xcDEBaWhrLly8HIDw8nGnTpvk/SGkSdC/JkdbtLGby3PW8tSiXSo/lgj7tuemMzvRKbuV2aCJNmpLC2mrfD8JinXqFSgpFRERE6k1JeSW5BQfZsucAW/ccYMvuA6zeUcSX63YRGhTAlYNS+dlpnUlN0EyiIvVBSWFtBQRCpzOcyWasBXVVEBEREam2fQfKWZdfxJY9B9iy2ycB3HOAHUUlWHt437DgAFLjI/jl8K5MOCWNhKhQ9wIXaYaUFNZFlxGwcgbsWgtJJ7kdjYiIiEijV1JeyeS5G3hi9jpKKzyA89t625gwOsRHcFq3RFLjI0iNj6BDfDgd4iNIigrVWEERP1JSWBddhjuPG2YrKRSRRsFa2yK+OFnfJgSpd7qPxF8+XbmD+95dwZY9B7igTzsuyUwhNSGC5NhwwoJVOkLELUoK6yIuDeI6OV1IT77J7WhEpIULCwtj9+7dJCQ079n3rLXs3r2bsLAwt0NplnQfiT9s3r2f+95dwWerdtK1dRSv/OxkTu2q2dtFGgslhXXVZTgsfQ0qyyEw2O1oRKQFS0lJIScnh/z8fLdD8buwsDBSUlLcDqNZ0n0k9elgWSVPfr6OZ+ZsIDjQcOf56Vx3ahrBqiEo0qgoKayrLiNg/hTI+R46nuJ2NCLSggUHB9OpUye3w5AmTvdR81TpsczftIeEqFC6to7y+/tZa5mVncef3ltJbsFBxvVP5o7zetA6Ri2zIo2RksK6SjsdTIDThVRJoYiIiDQiq/OKeHNRDu8s2kZeYQnBgYYHx/XmsqwOfnvP9fnF3Dsjmy/W7qJH22heu2kIgzrF++39RKTulBTWVXgsJA9wJpsZcafb0YiIiEgLt7OohBmLt/HmwlxWbC8kMMAw9KQk7ji/B6/Pz+F305eyJq+IO85PJzCg/saNFpdW8K/P1jLly42EBQdy7+gMrh7ckSB1FRVp9JQU1ocuI2DuI3BwL4THuR2NiIiItDAHyyr5aEUeby7M5Yu1+Xgs9ElpxT2jMxjdtz2J3rp+F/RuxwPvr+TZLzeydmcx/7qqPzFhdZ8TYVZ2Hve8k01eYQmXZaXwu5E9Dr2niDR+fk0KjTEjgceAQOBZa+3DR2y/GZgIVALFwI3W2hXGmDRgJbDau+u31tqbvccMAF4AwoGZwG3W7TmlOw+HOX+BjV9AxhhXQxEREZGWweOxfLthN28szOXD5dvZX1ZJcmw4Px/WhXH9k+naOvpHxwQFBnDvmJ50axPFPe9kM+6Jr3h2wkA6JUbWKobt+w5yzzvZfLRiBz3aRvPE+EwGdNQP5CJNjd+SQmNMIPAEcDaQA3xvjJlhrV3hs9tUa+3T3v3HAH8HRnq3rbfW9jvKqZ8CbgC+w0kKRwIf+OcqqiklC0KinS6kSgpFRETEzz5fvZMH31/J2p3FRIcGMapPe8ZlJjMoLZ6AanQJHX9yRzonRvGLVxZw4RNf8eT4zBqViKj0WF78ZhOPzlpNpbVMOq8HPz2tk2YVFWmi/NlSOAhYZ63dAGCMmQaMBQ4lhdbaQp/9I4HjtvgZY9oBMdbab72vXwQuxO2kMDAY0k6D9Z+5GoaIiIg0b6vzinhw5krmrsmnY0IE/7y8HyN7ta1V4fchXRJ4Z+Jp/OzF77l2yjzuGZ3BNYM7nrA+Zfa2ffzhzWUsydnH0JOSeODCXnSIj6jtJYlII+DPpDAZ2OrzOgc4+cidjDETgV8DIcAIn02djDGLgELgLmvtF95z5hxxzuR6jrt2uoyANR/Ano0Qr6m8RUREpP7kF5Xyj0/WMG3eFqJCg/jjKCeBCwmqW8tcakIEb/z8FH41bTF3v5PN6rwi7h3T86gtfgfKKvjnJ2t57suNxEUE8/iV/Rndp90Jk0gRafxcn2jGWvsE8IQx5irgLmACsB1Itdbu9o4hfNsY07Mm5zXG3AjcCJCamlrPUR9Fl+HO44bZSgpFRESkXpSUVzLlq408OXs9JeWVTDgljVtHdCMuMqTe3iM6LJjJ12bxyKzVPD1nPevzi3lq/IAfvMfsVTu56+3l5BYc5MpBHZg0Mp1WEXWfoEZEGgd/JoW5gG8RnBTvumOZhjNeEGttKVDqfb7AGLMeOMl7fEp1zmmtnQxMBsjKyvL/RDQJXSEmxalXmPUTv7+diIiINF/WWt5dup2/fLCK3IKDnJ3RhjvO60HnJP8Ung8MMEw6rwcntYli0hvLGPvEVzw7IYvY8GDue28F7y/dTtfWUbx+8xAGpqnmoEhz48+k8HugmzGmE07idgVwle8Oxphu1tq13pcXAGu965OAPdbaSmNMZ6AbsMFau8cYU2iMGYwz0cy1wL/8eA3VZwx0GQYr3wVPJQTUvG+/iIiIyILNe3ng/RUs2lJARrsYHrm0D6d0qf4kMHVxUWYKaYmR3PjiAi568muMgdIKD785+yRuGtqlzt1VRaRx8ltSaK2tMMbcAszCKUkxxVqbbYy5H5hvrZ0B3GKMOQsoB/bidB0FOAO43xhTDniAm621e7zbfsHhkhQf4PYkM766jIBFL8O2Rc6MpCIiIjVUjXJOHYEpQBKwB7jaWptjjOmH0+MmBqfU04PW2v81aPBSJzl7D/DwB6t4b+l2WkeH8sglfbgoM6VeC8xXR2ZqHDNuOZVfvrqIiJBA7hvT028tlCLSOBi3S/w1hKysLDt//nz/v9H+3fBIFxh+Jwy93f/vJyIiP2CMWWCtbbK/ynnLOa3Bp5wTcKVvOSdjzOvAe9ba/xpjRgDXW2uvMcacBFhr7VpjTHtgAZBurS041vs12OejHFdFpYcpX23kHx+vxWK56Ywu3DS0MxEhrk/9ICLNyPE+I/XXpj5FJkC7Ps5kM0oKRUSk5k5YzgnIwJm1G2A28DaAtXZN1Q7W2m3GmJ04rYnHTArFfUu2FnDHm8tYsb2Qs9Jbc9/YXiTHhrsdloi0MOoYXt86D4et30FpkduRiIhI03O0ck5Hll5aAlzkfT4OiDbGJPjuYIwZhFPqab2f4pQ6Ki6t4N4Z2Yx78it27y/l6asz+c+1WUoIRcQVSgrrW5cR4KmATV+5HYmIiDRPvwWGemv5DsWZzK2yaqMxph3wEk63Us+RBxtjbjTGzDfGzM/Pz2+omMXHrOw8zvrbHP77zSauHtyRj389lJG9VO9PRNyj7qP1LXUwBIU7XUi7j3Q7GhERaVpOWM7JWrsNb0uhMSYKuLhq3KAxJgZ4H7jTWvvt0d6gwUs2ySHb9x3knney+WjFDnq0jebJqzPJTI1zOywRESWF9S4oFNJOg9UfwLkPQYAaY0VEpNqqU84pEadskwe4A2cmUowxIcBbwIvW2ukNGnUL4vFYAmo4G2ilx/LSN5t49KM1VHg8/H5kD352eieCA/UdQUQaByWF/tDnMnjzBtjyDaSd6nY0IiLSRFSznNMw4CFjjAXmAhO9h1+GU9IpwRhznXfdddbaxQ15Dc3Zvz9byz8/WUtUWBCto0NpExNGUnQoraPDaBPjPLaOCaWN9zEsOJDsbfv4w5vLWJKzj9O7JfLghb1JTYhw+1JERH5ASaE/9BgFIdGweKqSQhERqRFr7Uxg5hHr7vZ5Ph34UUugtfZl4GW/B9hCvbM4l0c/WsPw7kmkxEWwo7CEnUWlrN9ZTH5xKeWVP+6JGx0WxIGySuIignnsin6M6dte4wZFpFFSUugPIRHQ80JY/iac9xcIVcFXERGRpmrB5r3cPn0pJ3eK55lrsggJ+mG3T4/HUnCw/FCiuKOwhPyiUnYWlhARGsRNZ3QmNiLEpehFRE5MSaG/9BsPi16Cle9CvyvdjkZERERqIWfvAW56aT7tWoXx9NUDfpQQAgQEGOIjQ4iPDCG9nQtBiojUkUY4+0vqYIjrBItfcTsSERERqYXi0gp+9t/5lFZ4eG7CQOIi1donIs2TkkJ/McZpLdz0Bezd7HY0IiIiUgOVHsttry5i7c5inhyfSdfWGgoiIs2XkkJ/6nsFYGDJNLcjERERkRp4+IOVfLpqJ/eOzuD0bkluhyMi4ldKCv0ptgN0OgOWTAWr+sAiIiJNwbR5W/jPFxuZMKQj1wxJczscERG/U1Lob/3Gw95NTs1CERERadS+Xr+Lu95ezhknJfHHURluhyMi0iCUFPpbelXNQk04IyIi0pht3LWfn7+8kLTESP59VX+CAvU1SURaBv2187eQSKdmYfbbULbf7WhERETkKPYdKOenL3xPgIHnJmQRExbsdkgiIg1GSWFD6HcVlBU7NQtFRESkUSmv9PCLqQvYuvcAz1yTRceESLdDEhFpUEoKG0LqEIhLUxdSERGRRsZay70zsvlq3W7+PK43gzrFux2SiEiDU1LYEKpqFm6cCwVb3I5GREREvF74ehOvfLeFm4Z25tKsDm6HIyLiCiWFDaXvFc6jahaKiIi4rtJjefaLDfzpvRWcndGG35/bw+2QRERco6SwocSmOjULF7+imoUiIiIuWp67jwuf+IoH3l/JGScl8c/L+xEQYNwOS0TENUoKG5JqFoqIiLhmf2kFD7y3gjH//pLt+0p4/Mr+PH/dQCJDg9wOTUTEVfor2PWd0FkAACAASURBVJDSR8P7v3FaCzue4nY0IiIiLcZnq3bwx7ezyS04yJWDUpk0sgetIlR2QkQElBQ2LN+ahef91XktIiIifrOzsIT73l3B+8u207V1FK/fPISBaZphVETEl5LChtZvPCx62alZWDX5jIiIiNQrj8cydd4W/vLhKkorPPzm7JO4aWgXQoI0ckZE5EhKChuab81CJYUiIiL1bnVeEXe8uZSFWwoY0jmBB8f1onNSlNthiYg0WkoKG5ox0Pcq+PzPTs3C2FS3IxIREWkWyis9/POTNTwzZwPRYUE8emlfLs5MxhjNLCoicjxKCt3Q9wonKVzyPxh6u9vRiIjUXWUF5K+CbYtg20LnMSAY0kdBxlinh4SIn/3r07U8MXs9F2emcOcF6cRHhrgdkohIk+DXpNAYMxJ4DAgEnrXWPnzE9puBiUAlUAzcaK1dYYw5G3gYCAHKgNuttZ95j/kcaAcc9J7mHGvtTn9eR72L6whppztdSM/4rdN6KCLSVHg8sGc95C48nARuXwoV3j/LoTHQri+UFsHHdztLu35OcpgxFhK6uBu/NEtrdxTx1Jz1XNivPX+7rK/b4YiINCl+SwqNMYHAE8DZQA7wvTFmhrV2hc9uU621T3v3HwP8HRgJ7AJGW2u3GWN6AbOAZJ/jxltr5/sr9gbRbzy8fTNs+RY6DnE7GhGRo7MW9m2F3AU+SeBiKCtytgeFOwlg1vXQvj+0z4T4zhDgncxj7yZYMQNWvA2f3ucsbXt7E8RxkNjVtUuT5sPjsfzhrWVEhgZx16gMt8MREWly/NlSOAhYZ63dAGCMmQaMBQ4lhdbaQp/9IwHrXb/IZ302EG6MCbXWlvox3mOasyafrXsOcPXgjvV30owxMPO33pqFSgpFWryy/bB3s5NE7d0EBZuh/AD0uRw6ntpwPQoO7nWSv9yF3kRwAez3dsYIDIE2vaDv5d4EsD8kdofA43yUxKXBqbc6S8EWZ+bl7LfhswecpXXPwy2IrXs0yCVK8zPt+618v2kvf72kD4lRoW6HIyLS5PgzKUwGtvq8zgFOPnInY8xE4Nc4XUVHHOU8FwMLj0gInzfGVAJvAA9Ya229RX0UM5du58PsPMafnFp/g9VDIiGjqmbhX1SzUKQlKNwGu9f/MPGrer4//4f7hkQ7ieDCF6FNbxh8M/S6BILD6i+e8hLYsRxy5h9OAPesP7w9sTt0PQuSMyF5gJMQBtVhjFZsKgyZ6Cz7cp0EccXb8PlDzjjrrmfD1dPrfl3SouwsKuGhD1YyuHM8lw5IcTscEZEmyfWJZqy1TwBPGGOuAu4CJlRtM8b0BP4CnONzyHhrba4xJhonKbwGePHI8xpjbgRuBEhNrdsMn5kdY/nf/K1s2LWfLvU5pXW/q2Dxy7DyPeeXdxFpnkqL4cPfOzVKq5hAaJXitKR1P98ZaxyX5l06QXgclB+EZa/Dd0/DOxPh43ucbppZP4WYdjWPw1onCVz7Maz7BLbOA0+5sy2qLaRkQf/xTgLYvj+EtaqHiz+GVslOojv4ZijcDqvegwDXP5KkCbr/3RWUlnt4cFxvzTIqIlJL/vwEzgU6+LxO8a47lmnAU1UvjDEpwFvAtdbaQz9dW2tzvY9FxpipON1Uf5QUWmsnA5MBsrKy6tSS2D81DoBFWwrqNyn8Qc1CJYUizVLOAnjzZ7BnI5zyS6flLS4NYlKO3+0SICQCBkyAzGth41wnOZz7KHz5D6enweCfO4nc8ZTsgw2fexPBT6Fom7O+bW8Y8gtIGegkgTHt6+NqayemHQy6wb33lyZr9qqdvLd0O/931kn1+/ksItLC+DMp/B7oZozphJMMXgFc5buDMaabtXat9+UFwFrv+ljgfWCStfYrn/2DgFhr7S5jTDAwCvjEj9cAQNekKKJDg1i4ZS+X1GfXlIAAb83Ch1SzUKS58VTCl3+H2Q85Cdd170PaqbU7lzHQeaiz7NkA8/4DC1+C5dMhOctJDjPGQmCw0xq4c4WTBK79GLZ+C54KCG0FXYY5XTS7nlW7lkaRRuRAWQV3vb2crq2juHlYZ7fDERFp0vyWFFprK4wxt+DMHBoITLHWZhtj7gfmW2tnALcYY84CyoG9HO46egvQFbjbGHO3d905wH5gljchDMRJCP/jr2uoEhBg6Jcay6ItBfV/8qqahYunwrBJ9X9+EWl4BVvgzZtgy9fQ62K44O8QHls/547vDCMfguF/cP5ufPc0vPFT+Ogup9TN5q+g0Nspo01vb+vk2dBhkJM0ijQT//h4DbkFB3n95iGEBgW6HY6ISJPm1wEc1tqZwMwj1t3t8/y2Yxz3APDAMU47oN4CrIH+qXH8+7O1FJdWEBVaj/9scR2h2zkw9xFIPAl6XVR/5xaRhrdsOrz3a7AeGDcZ+lzmn5lDQ6Ph5Jtg4A2w7mP49ilnnGDaac4PTF3PcrdLqIgfLc/dx5SvNnHloA4MTIt3OxwRkSZPo/qrqX9qLB4LS3MKOKVLYv2e/OJnYerlzq/9Zfsh85r6Pb+I+F/JPph5Oyz9H3Q4GS6a7Iwd9LeAADjpXGcRaQEqPZY73lxGXEQIk0amux2OiEizEOB2AE1F/w5O1y+/dCENawVXvwmdh8OMW+CbJ+v/PUTEf7Z8C0+f5rQSDvsDXDezYRJCkRboha83sSx3H/eMzqBVhLpEi4jUByWF1RQbEULnpEgWbdnrnzcIiYArX4X0MTDrDpjzV2fCCBFpvCorYPaf4fnzAAM/+RCG/f7Es4qKSK3kFhzkbx+tZlj3JEb10WRJIiL1Rd9caiAzNY7PVu3EWuufWkhBoXDJ8zDjlzD7QSgthLP/5J/xSCLiqCiD/FWwfQnsXAkVJYD3BxlrnedHPuJ92LHMOa7vlXDeXyEsxpVLkObFGDMSeAxnQrVnrbUPH7G9IzAFSAL2AFdba3O82z4EBgNfWmtHNWjgfmat5Z53lmMt/GlsL9UkFBGpR0oKa6B/aizTF+SwZc8BOiZE+udNAoNg7BMQGgVf/wtKi5yZCwM0s5q0UJXlzmyeezc6j8ERENUGottBdBsIi63+DyflB2FHNmxf7CRzVYlgZZmzPTgCgsMB7/mMcZ4f+Vi1LTgCLn4Oel9Sv9csLZYxJhB4AjgbyAG+N8bMsNau8NntUeBFa+1/jTEjgIeAqsHojwARwE0NGHaD+HB5Hp+s3Mmd56fTIT7C7XBERJoVJYU1kOktYr9wy17/JYXgTBxx3l+d2QW/+BuUFsO4p2s3nby1TitIqxTnfCKNUUmhk/Tt3eQUed+78fDjvhxnJs9jCQrzJoltDz9Gt4WothCR4NT1q0oAd60BW+kcFx4P7frC4F9Auz7Qrh/EdXL+/xNxzyBgnbV2A4AxZhowFvBNCjOAX3ufzwbertpgrf3UGDOsYUJtOIUl5dwzI5ue7WO4/tQ0t8MREWl2lBTWwEltookMCWTRlgLG9a/HIvZHYwycebeTyH1yrzMr6aUvQHDYiY+11mkNyX4Lst90vhS37gkTZkBkPc+cKlJbOfPh84dg2yI4sPuH28LjIb4TpAyCPpc7k7bEdXJKuJSXQHEeFHkX3+f5q2DDHCjd98PzRbdzEsD00c5ju77ODyXqfiaNTzKw1ed1DnDyEfssAS7C6WI6Dog2xiRYa4/4H6n5+OuHq9hVXMqzE7IICtQPNyIi9U1JYQ0EBhj6dohlob8mmzma0/4PQqJg5m9h6qVwxatO19KjyV8Ny990EsFda8AEQKcznPFOX/wN/jvGP4nh5m+gdQ8Ij6vf80rztHs9fHo/rHgbIpOgxygnAYzr5H1Mc2bkPZ7ErsffXnbASRb374bYVKebqUjz8Vvg38aY64C5QC5QWd2DjTE3AjcCpKam+iO+erVg815e+W4L152SRp+UWLfDERFplpQU1lBmahxPzVnPwbJKwkMaaJzfoBucFsO3fwEvXQjjXz+cgO1efzgR3LkCME7x6pNvdmYyjUpy9uswCKZeAf8dDdfOOLy+LirL4YPfw/znnC/xp/3aKaYdHF73c0vzs3+XM6vu/OcgMASGToJTbvFPt+aQCIjv7CwiTUsu0MHndYp33SHW2m04LYUYY6KAi6211a6XZK2dDEwGyMrKatTTXJdXevjDm8toFxPGb87p7nY4IiLNlpLCGuqfGkulx7I0p4CTOyc03Bv3vQJCImH6T+CF0dBrnNM9NG+Zsz11iDMOMWOsM57qSJ2HwVX/g6mXO4nhhHfrlhge2AOvXwcb58DAG6BgM3xyD3z3NAybBP2u1rT84ig7AN8+CV/+E8oPQOa1zj1ytPtURL4HuhljOuEkg1cAV/nuYIxJBPZYaz3AHTgzkTZLn6zYweodRTx9dSZRofpMERHxF/2FraH+hyabaeCkEJzxUFdOg2njne53yVlw7p8h40JolXzi4zsP9UkMR3kTw9Y1j2PXWuccBVtg7JPQf7yzftNXTmL47m3w9b/hzD86rZWNddzWgT1OF8bNX0NAkFMSJCjceQwOP8rrMGcJi4GkHhAR7/YVNG6eSlg81SmvUrQdul8AZ90DSfq1X+RYrLUVxphbgFk4JSmmWGuzjTH3A/OttTOAYcBDxhiL0310YtXxxpgvgB5AlDEmB/iptXZWQ19HffkwO4+4iGDOSlcXcBERf1JSWEPxkSGkJUT4r4j9iXQ9E37xjVOiIrYWY0E6D3W6n069zKfFsAaJ4frPnBbCgCDn2I5DDm9LOxV++jGset9JWl+7Ftpnwln3Ou/bGJTth9UfwLLpsO4T8JRDdHunVbO8BCpKoeLg4RIFxxPVFlqnQ5ue0DoD2mRAYnen62JLZi2s/Rg+vhvyV0LKQKf+pu+9IiLHZK2dCcw8Yt3dPs+nA9OPcezp/o2u4ZRVePhs5U5G9mqryWVERPxMSWEtZKbGMXftLv8VsT+R+E51O77T6U5i+Mql8IK3xbA6E3HM+48zhjCpu9NiGdfxx/sYA+mjoPt5sORVmP1neHEMdBnhJIft+tYt9tqoLIcNn8PS15yEtXy/kwgOvhl6Xwpt+/y4NdPjcYqY+y7lJU7CeGCvM36zavn+WW/BcwDjjGNrk+HM+No6Hdr0cv6bNcVak5UVUFoIngrn39FT7qzzlB/9ddl+pwvxpi+cf4fLXmzcrcUi0mh9vX4XRaUVjOylruYiIv6mpLAW+qfG8uaiXHL2Hmy6BXTTTjucGFZ1JT3WGK/KcvhwkpP8nDQSLn72xJODBARC/6uh18XOcV/8DZ45w3k9/E5I6FL/1+TL44GcebDsdWfs5YHdzmQ4vS+BPpdB6inHr0cXEOC0+B2r1a/bWT7vVemU/diRfThR3LECVr4HeOdwCAo/3KrYppf3sWfNuqCWHYA9652ZZXetcx53r3VmmU073Rk3mjqk7i2VezbC+k9h3WewcS6UFdXs+IhEOP9RGHBd7WpriogAs7LziAwJ5NSuKqUkIuJvSgprob9PEfsmmxSCNzGcfrjF8Lr3fpwYHtwLr01wJpQ55Vanta8mLV7B4XDKL6H/NfD14/DNk7DiHWd21KG/d8bn1aeiHTDvGVj6Ouzb4owB7H4e9L7M6XobFFq/7wfOv0diN2fpeeHh9WUHnLp5VcnijmxYPRMWvXR4n+j2hxPEqmQxrBXsrkr61h1OAvdt8XlTA606OO9ZfhC+fcr59w0McWr7dR7mdNltn3niCX9Ki2HTl95E8FMn8QRolQq9L3a6xAYGO12GA0N8ngdDQLBz/oDgw69bpx+7bIqISDVUeiwfr9jBsB6tCQtugr0sRESaGCWFtdCjbTThwU4R+7H9qjHBS2OWdipcPR1evgReuAAmvAcx7Zxtu9bBq5fD3s0/nFCmNsJj4cy7YdCNzsQj3zzhtOKd/Sen5a6u3QvL9jvn/PKfTlfOLsNhxJ3Q4wL/lDyojpAISM50lirWQvFO2LHcSRKrlg2fO10wjxQc6SR+qSdD4jWQ0NV5Hd/lhy2CZfudepEbP3eKt89+EGY/ACHRTvLfeaiTKCb1cPbPW3Y4CdzyrfPewRHOvoNudBLohK7q9ikirli4ZS+7iss4t6e6joqINAQlhbUQFBhAn5RW7k02U986ngJXvwGvXOLtSvqe08L1+oSjTyhTF9FtYcy/IPM6mPlbeOtGWPA8nP8ItO1d8/N5Kp2xi5894MxwmT4azrrP/91Ta8sYZ/xmdBsn8apSWe60Cu7IhpICb/J3EkS3q15iFhLpdGmt6ta6fzdsmuskiBvnwJoPnPVR3rGjxTucxza9YPDPnVhSh/inJVVEpIY+XJ5HSGAAw7vXQ01dERE5ISWFtdQ/NY5nv9hASXll8+ja0nGIkxi+fDH8Z4STNBxvQpm6ShkAP/sUFr0In9znjDcceAMM/4PTqlgd6z+Dj/7otLolD2jaM1wGertdtk6vn/NFJkDPcc4CTvmQDXOcMYLW40z802XE4VZhEZFGwlrLrOw8Tu2aQHSYxiWLiDQEJYW1lJkaS4XHsjx3H1lpzaReXepguPpNZ4xht3Pg4v/4t+tlQIAzGUn6GKelb95kWP4GnH0f9L3q2BPB7Mh2yh2s+8Qpy3HJFOh5kbo6Hk9sKmRe4ywiIo1Y9rZCcvYe5JcjurodiohIi6GksJaqJptZtKWg+SSF4Ixd++0apxthQyVZEfEw6u+QeS3MvB3emQgLXnBmsGzf7/B+RXlO8rj4FSdZPecBZ/ybujyKiDQbH2XnEWBQwXoRkQakpLCWkqJD6RAfzsLmMq7QV3CYO+/bvh/8ZJYzRvDju2HyMMi6Hk7/DSx6Gb56zBl7d/LNcMbtNSvnICIiTcKH2XkMTIsnIUo/+ImINBQlhXXQv0Mc8zbucTuM5iUgwJnltMcF8PlDTpfS+VOcbRkXwln3OEXRRUSk2dmQX8yaHcXcPSrD7VBERFoUJYV1kJkay4wl29hWcJD2seFuh9O8hMfCeX9x6hsunQY9RjtdW0VEpNmale3MjHxuL5WiEBFpSEoK68B3XKGSQj9p2wvaPuB2FCIi0gBmZefRO7kVyfpMFRFpUMeY3lGqI71dDKFBAc1zXKGIiEgDyttXwuKtBYxUK6GISINTUlgHIUEB9E5uRkXsRUREXPLRijwAzu2pWUdFRBqaksI6yuwYx/LcQkorKt0ORUREpMn6cHkeXZIi6draj/VxRUTkqJQU1lFmaixllR6ytxW6HYqIiDQixpg3jTEXGGP0WXsCe/eX8d3GPZzbU11HRUTc4NcPKmPMSGPMamPMOmPMpKNsv9kYs8wYs9gY86UxJsNn2x3e41YbY86t7jkbmu9kMyIiIj6eBK4C1hpjHjbGdHc7oMbqk5U7qPRYjScUEXGJ35JCY0wg8ARwHpABXOmb9HlNtdb2ttb2A/4K/N17bAZwBdATGAk8aYwJrOY5G1SbmDCSY5tpEXsREak1a+0n1trxQCawCfjEGPO1MeZ6Y0ywu9E1LrOyd9C+VRi9k1u5HYqISIvkz5bCQcA6a+0Ga20ZMA0Y67uDtda3z2UkYL3PxwLTrLWl1tqNwDrv+U54Tjf0S41lsVoKRUTkCMaYBOA64GfAIuAxnCTxYxfDalT2l1Ywd20+5/RsizHG7XBERFokfyaFycBWn9c53nU/YIyZaIxZj9NSeOsJjq3WORtaZmocuQUH2VFY4nYoIiLSSBhj3gK+ACKA0dbaMdba/1lrfwlEuRtd4zFnTT5lFR6NJxQRcZHrg9+ttU9Ya7sAvwfuqq/zGmNuNMbMN8bMz8/Pr6/THlX/1FgAlaYQERFfj1trM6y1D1lrt/tusNZmuRVUY/Ph8jziI0MYmBbndigiIi2WP5PCXKCDz+sU77pjmQZceIJjq31Oa+1ka22WtTYrKSmphqHXTM/2MYQEBrBQXUhFROSwDGNMbNULY0ycMeYXbgbU2JRWVDJ71U7OSm9NUKDrv1OLiLRY/vwL/D3QzRjTyRgTgjNxzAzfHYwx3XxeXgCs9T6fAVxhjAk1xnQCugHzqnNON4QGBdIzOUYthSIi4usGa+2hXwuttXuBG1yMp9H5ev1uikorNOuoiIjLgvx1YmtthTHmFmAWEAhMsdZmG2PuB+Zba2cAtxhjzgLKgb3ABO+x2caY14AVQAUw0VpbCXC0c/rrGmoiMzWOl7/dTFmFh5Ag/dopIiIEGmOMtdbCoVm5Q1yOqVH5KDuPyJBATumS6HYoIiItmt+SQgBr7Uxg5hHr7vZ5fttxjn0QeLA652wM+qfG8tyXG1mVV0iflNgTHyAiIs3dh8D/jDHPeF/f5F0nQKXH8lH2Dob3aE1YcKDb4YiItGhq0qonmd4i9gs3qwupiIgAzgRqs4Gfe5dPgd+5GlEjsmDzXnbvL9OsoyIijYBfWwpbknatwmgTE8qirQVc53YwIiLiOmutB3jKu8gRPlyeR0hgAMN7tHY7FBGRFk9JYT0xxpCZGsdCTTYjIiIcmkztISADCKtab63t7FpQjYS1llnZeZzWLZGoUH0VERFxW7W6jxpjbjPGxBjHc8aYhcaYc/wdXFPTPzWWrXsOkl9U6nYoIiLivudxWgkrgOHAi8DLrkbUSGRvKyS34CAj1XVURKRRqO6Ywp9YawuBc4A44BrgYb9F1URVjStUaQoREQHCrbWfAsZau9laey9O+aUWb1Z2HgEGzkxX11ERkcagukmh8T6eD7zkLQNhjrN/i9QruRVBAYZFW1XEXkREKDXGBABrjTG3GGPGAVFuB9UYzMrOY1CneBKiQt0ORUREqH5SuMAY8xFOUjjLGBMNePwXVtMUFhxIz/YxmoFUREQAbgMigFuBAcDVeOvxtmQb8otZs6NYs46KiDQi1R3d/VOgH7DBWnvAGBMPXO+/sJqu/qlx/O/7rVRUeggKVMUPEZGWyFuo/nJr7W+BYvSZecis7B0AnKOkUESk0ahu1jIEWG2tLTDGXA3cBezzX1hNV//UWA6WV7Iqr8jtUERExCXW2krgNLfjaIw+zM6jT0orkmPD3Q5FRES8qpsUPgUcMMb0BX4DrMeZRU2OoMlmRETEa5ExZoYx5hpjzEVVy4kOMsaMNMasNsasM8ZMOsr2jsaYT40xS40xnxtjUny2TTDGrPUuja6r6s7CEpZsLVDXURGRRqa6SWGFtdYCY4F/W2ufAKL9F1bTlRIXTmJUKIu2aLIZEZEWLgzYDYwARnuXUcc7wNvt9AngPJz6hlcaYzKO2O1R4EVrbR/gfpxaiHiHdtwDnAwMAu4xxsTV29XUgyU5TiejwZ3jXY5ERER8VXdMYZEx5g6cUhSne2dTC/ZfWE2XMYaBaXF8tX4XHo8lIECTtIqItETW2tqMIxwErLPWbgAwxkzD+UF2hc8+GcCvvc9nA297n58LfGyt3eM99mNgJPBqLeLwi5XbCwHo3jbG5UhERMRXdVsKLwdKceoV5gEpwCN+i6qJO7dnW3YUlrJQXUhFRFosY8zzxpgpRy4nOCwZ2OrzOse7ztcSoKob6jgg2hiTUM1jMcbcaIyZb4yZn5+fX5NLqrOV2wvpmBBBVGh1f5MWEZGGUK2k0JsIvgK0MsaMAkqstRpTeAxnprcmJCiA95ZudzsUERFxz3vA+97lUyAGZybSuvotMNQYswgYCuQCldU92Fo72VqbZa3NSkpKqodwqm/l9kLS1UooItLoVCspNMZcBswDLgUuA74zxlziz8CasuiwYIadlMQHy7fj8Vi3wxERERdYa9/wWV7B+fzMOsFhuUAHn9cp3nW+591mrb3IWtsfuNO7rqA6x7ppf2kFm/ccIL2dkkIRkcamut1H7wQGWmsnWGuvxRnz8Ef/hdX0XdCnHTsKS1mgLqQiIuLoBrQ+wT7fA92MMZ2MMSHAFcAM3x2MMYnesf0AdwBVXVJnAecYY+K8E8yc413XKKzKK8JaSG+neepERBqb6iaFAdbanT6vd9fg2BbpzPQ2hAQF8L66kIqItEjGmCJjTGHVArwL/P54x1hrK4BbcJK5lcBr1tpsY8z9xpgx3t2GAauNMWuANsCD3mP3AH/CSSy/B+6vmnSmMaiaZEYthcfxyX3w7Fng8bgdiYi0MNUd6f2hMWYWh2cwuxyY6Z+Qmoeo0CCGnZTEzGXbuXtUhmYhFRFpYay1tWoSs9bO5IjPWGvt3T7PpwPTj3HsFA63HDYqq/IKiQ4NIiVOReuPavd6+Ppx8FTAhs+g61luRyQiLUh1J5q5HZgM9PEuk621x/21U5wupDuLSpm/WV1IRURaGmPMOGNMK5/XscaYC92MyU0rtxfRo100xuhH0qP67AEICIaIRJj3H7ejEZEWptpdQL0D5X/tXd7yZ1DNRVUX0pnL1IVURKQFusdau6/qhXcymHtcjMc1Ho9l1fZCdR09ltyFkP0mDJkIWT+BNbNg7ya3o4IPJsEXf3M7ChFpAMdNCo8cD+GzFHnHR8hxRIUGMby704VUs5CKiLQ4R/uMbZEF+rbuPcD+skolhUdjLXxyD4THw6m3Qdb1YALg++fcjWvXOvjuKacFM3eBu7GIiN8dNym01kZba2OOskRba/WXvRou6NNeXUhFRFqm+caYvxtjuniXvwMt8tu1Jpk5jvWfwsa5MPR3EBYDMe0hfRQsegnKD7oX1/znnO6skUnw7m1QWeFeLCLid5pB1M/O7NGa0KAA3l+67f/bu/P4qKrzj+OfJztZCATCGsIiyCIgSMQdUFERrWDdFbeq/Npqq9W26k9r1dZq1Vrrr7aVuisuuKPiviDiAojsYd8SCPsSQkhCkvP740wgYiALmcwk832/Xnll5sy9d87NJHPzzDnneULdFRERaVi/AkqAl4GXgCLg2pD2KEQW5O0gyqBnW5Wj+IHycvjoTmiR6aeNVjjyGti1Fea9Fpp+leyE78dDn1Ew8kFYNxe++Vf9Pkd5GXxyN6z6un6PKyJ1oqAwyJLiYzixZxvem7eOMk0hFRGJGM65xVWayQAAIABJREFUnc65W5xzWc65I51z/+uc2xnqfoVCdl4+XVon0SwuOtRdCS/zXoX1c+GkOyAmfm97l+MhvTdMG+enlza0OROgeDsMHgu9fwI9R8Ln99bvOsfJ9/v1iq9cAUXbq91cRIJLQWEDGFmRhXRl2JSLEhGRIDOzj8ysRaX7LQPlnSJOtpLM/FhpMXz6J2jXD/qe88PHzGDwNZA3G3JnNGy/nPPZT9v1g06DfV9GPuDXOb57U/0Eqcs+g8l/ha5DYOcGP2IoIiGloLABVEwhVRZSEZGI0jqQcRQA59xWoE0I+xMS+UW7yd26iz51CQpLi+HLv0P2O7BrW/XbNybTn4Btq2H4XRBVxb9j/S+A+OZ+tLAhrf4aNsz3o4QV5UNSM+CkP8DSjw9+Smt+Hrx2NaT3hIte8s8z/QnImXbwfReROlNQ2AAqppBO0hRSEZFIUm5mmRV3zKwLEHEXgYV5OwDo3b4O6wkXfwAf3wkvXwL3d4X/nuxHlVZ84QPGxqpoO3zxAHQbBt1Prnqb+GQYcDEseBMKNjRc36aNg4QW0PfcH7YPvgY6HAHv3+LXO9ZFWSm8+jPYXQjnPwtxSXDS7T65ztvXQ9nug++/iNSJgsIGckb/9mzUFFIRkUhyG/ClmT1nZs8Dk4FbQ9ynBndQmUdzp0F0HFz2FpzwWz+F8cuH4ZmfwH2d4bmz/f21s3zSlsZi6iOwawsMv/PA2x15NZSVwMxnGqJXfhQv+20YOAbiEn/4WFQ0/OQfULgFPrqjbsf/7B5Y/RWc+bAfKQSIT/HJbDYsgK8eObj+i0idBTUoNLMRZrbIzJaa2S1VPH6jmS0wszlm9omZdQ60n2hmsyp9FZnZ6MBjT5vZikqPDQjmOdSXkyqykGoKqYhIRHDOvQ9kAYuAF4GbgBDWGAiN7Lx8WiTG0q55Qu13zpkO7Qf4EbWTboOrP4KbV/pph4Muh/y1vsbfuKHwwCEw4TKY9ULwAsSifL8e7mDW1e1YB18/6tcRdhh44G1b94BuJ8KMpxqmJMR3T/usoEdeVfXj7fvDMdfCzGdh1Ve1O/biD+HLh+CIy+HwC374WK+RPqHN5Pth87I6df1HnINln0JJYf0cT6SJC1pQaGbRwKPA6UAf4CIz67PPZt8DWc65/sCrwP0AzrnPnHMDnHMDgJOAQuDDSvv9ruJx59ysYJ1DfUqKj+GkXm2YNFdTSEVEIoGZXQ18gg8Gfws8B9wZyj6FQva6HfRu1xyrWJ9WU6UlsPZ7n+yksoTm0PN0OP2vcO23cONCOHscHDrCB5Fv/sLX2AuGN38Bz42G16+pe7Dx+b1QXurX6NXE4Gsgfw0smlS356up0hL47inocQqkddv/dsNu8SU03r6+5lN4t+XAG2OhbT//ulXl9Pv9qPA7vzn4ZDbO+Q8Lnjvbv1ahyOAq0sgEc6RwMLDUObfcOVeCr9E0qvIGgeCv4l31GyCjiuOcC7xXabtG64z+7dlUUMx0TSEVEYkE1wNHAquccycCA4Emli3lwMrKHYvW1THz6Lq5UFYMGUceeLvm7f3I09n/hhsX+JG1j+/yo4j1KfsdWPgOdDkB5r4KT55a+xINGxfDzOd8TcK0rjXb59ARkNop+AlnFr4NBet9jcQDiUuCM/4Omxb7JEDVKS2BV6/0I53nPwOxzarernkHOPkOWDEZ5rxc+/5XNuVvMPUf0K6/f82++ffBHU8kAgQzKOwI5FS6nxto25+rgPeqaL8QP+2msnsCU07/bmbxVewTlk7q1YaE2CjenaMppCIiEaDIOVcEYGbxzrmFQM8Q96lBrdy8k6Ld5fSqS5KZ3EA2yn1HCg/EDM58CMp3w3u/r/1z7k9RPkz6HbTtC5e+AZe84jOHPjYUln5S8+N8ercPiob8rub7REX7IHLlFNiwsPZ9r6lp/4WWXaD78Oq37THcJ6KZ8jcf6B7IJ3dB7nQ46xFodciBt826yn8I8MH/ws7NNe76D3z7mC/10f9CGPs59DwDPvqDH0UWkf0Ki0QzZjYGv+7igX3a2wP9gMp1nW4FeuE/fU0Dbt7PMcea2Qwzm7Fx48ag9Lu2EuP8FFIVshcRiQi5gTqFbwIfmdlbwKoQ96lBVSSZqVM5ipxp0DzDjyDVRlo3GHqzT5iy8N3aP29VPv0T7MiDnzwC0bF+iuXYz6F5R3j+HJjyUPVTFHOm+z4d+2tITq/d8x9xGUTHw/T/1vUMDmzdXF+K4shrqi6PUZUR9/oA950b9r+GM/sd+PqfvuxE359Wf8yoKJ/Mpmg7fHh7zftf4fvx/sOAXmfCqEd9QD36Uf879OqVPkmOiFQpmEHhGqBTpfsZgbYfMLPh+AxtZznn9p2cfj7whnNuT45i51ye84qBp/DTVH/EOTfOOZflnMtKT6/lm28Qjeznp5BOW6E3JhGRpsw5d7Zzbptz7k7gD8ATwOjQ9qphZeflEx1ldG+TXPudc6dDp2qmju7Psb+CNofBu7/1o3wHI3eGH0UbfA1kDNrbntbNJ77p+1M/GjbhMijeUfUxnPMZO5Pa+EQttZXU2j/P7JcO/nyqMu2/ENMMBl5S832S28Apf4JVU2HW8z9+fMsKePOXPpnOqX+u+XHbHuYD59kvwPLJNd9v/psw8To/ffjcJyE6xrc3awnnPe0T/Lz5i8aVpVakAQUzKJwO9DCzrmYWh58GOrHyBmY2EHgMHxBWVYTnIvaZOhoYPcT8ivXRwLwg9D1oKqaQqpC9iEjkcM5Nds5NDKyxjxjZeTs4JD2JhNjo2u2Ynwfbc6pfT7g/0bF+xGlHHnxai4BkX2W7fUKVlPZVJ4aJS4JznvBBz8J34PHhsGnpj7db/IEvxTDsZl9/sC4GXwMlBT4wrE+7tsKcCdD/PB9A1cbASyHzWPjwD1BQaVZWaTG8coW/fd7TEFPLlT5Dfw8tu/pRyN01SNi75CN47WrIGAwXjv/x83UcBKf9BRa/r7IXIvsRtKDQOVcKXIef+pkNTHDOzTezu83srMBmDwDJwCuB8hJ7gsZAkd9O+LpOlY03s7nAXKA1cBDv9g1PU0hFRCRSZOfVMclMbmD9V0Yt1hPuq9ORvs7ftHGQ+13djvH1P2H9PBj5gM96WhUzPzJ56ZuwcyP890RYVClFQnkZfHwnpB3iyzHUVcdBvnj89P/WbzbNWS9A6a7qE8xUJSoKfvKwL0b/QaUSnB/cBnmzfPKfll1qf9zYZv64W5bDFw8eeNuVX8LLY6BtH7hkgg/UqzL4GugzGj65G1Z9Xfs+iTRxQV1T6Jyb5Jw71Dl3iHPunkDbHc65iYHbw51zbSuVlzir0r4rnXMdnXPl+xzzJOdcP+dcX+fcGOdcQTDPIRjO6NdBU0hFRKRJ21ZYQt72ooMrWt++/8F14uQ7IKWdH+0r21399pVtWQGf/9WvT+t9ZvXbdxsKYyf7aaUvXgif/cVPVZz9ImzM9n2Jjq3beVQYPNZn/VxRi2mVB1Je7qeOdjq67j/r9J5w/I0w9xVY8jHMe90HrsdcB73OqHvfug3zyWKmPgwbsqveZs138MKF0KIzjHkdElL3fzwzn+ymZWe/vnDnprr3TaQJCotEM5HmxF7pPgvp3HpOly0iIhImFgSSzNQpKKwoWl/baYf7SmjuR/nWz/UF42vKOXj3RoiK8fXzaqpFJ/jZ+zDgEpj8173BYcdB0GdU9ftX57CzIbGVD+Tqw7JPYesKP4p2ME64EVr18MH3xF/7Ed7hdx58/067B+Kb++PuuxZw/QKf5CcxDS5706+7rE5CKpz3jE848/o1Wl8oUomCwhBIjIvh5F5teV9TSEVEpInKzvNJV3rXthzF/orW11Xvn/iyBJ/fV/O6gnNf9QHTyXdA6oGqaVUhtpnPfDnyQVj2iS88P/wuP1J1sGITfCbSRZN8QfiDNW2cT37T+6zqtz2QmHg/3TM/14+GnvfUwY+Kgg/0TrsHcr6F757a2755GTw3GmIS4LK3apehtn1/OP2v/vWd8reD76NIE6GgMER8IfsSvl1Rxzo8IiIiYSw7L5/WyXG0SUmo3Y41LVpfGyPv9+UJ3rmx+vV4hVvg/VugYxYceVXdns/Mj7797ANfxqLrCXU7TlWyfua/z3jy4I6zZQUs+RAGXQExcQfdLbocDz99HMa8BqkZB3+8CodfBF2HwMd3+Qyi23Ph2dF+OvClb0Ja19ofc9AV0O98+PwvtctwKtKEKSgMkRN7tqFZbLSykIqISJNU9yQzdShaX53UDD/qt+wTPwp4IB/9AYq2+eylUbXMmrqvjCwYdBDJZarSIhMOPR1mPgO7i+p+nBlPgEVB1pX117f+50HHI+rveOAD7DMfhtIimPgreHaUf30ufR3a9DqIY/4dWnX3WUt3rK/fPovUt/pMLrUfCgpDpFlcNCf1bsP789ZRWqY57SIi0nSUlpWzZH1BHdcT1rFofXWOvNqv7Xv/lv0XMV8xBb5/3idJade3fp+/Pg2+Bgo3w4I367Z/SSHMfM4n0Knvn3MwtDoEhv7Oj2xuXwMXT/D1Dw9GfLJfX1i8A167ymeJbYx2bvbJfSb+2q+x/OJBn223vs5ney58Px5euwbe+DlsXFw/x5Wacc7X4PzXMX7adBDFBPXockBn9GvPu3PymLZiC8d2r8ECaRERkUZg+aadlJSV1349IRxc0foDiYr2o3+PDfWF5Ef984eP7y7ydfFadIahN9f/89enbsN8Ypdp4+DwC2u//7zX/Gjb4LH13bPgOfZ6Xwux95nQ+Zj6OWbbPnDmQ76o/ef3wkm3189xg6mk0Ne8XP65/1o317fHN/f1NJd+DJ/+ySfV6XKC/13pNsyPitZkXeuurb7Mx/LP/dTazUt8e2JrP1o752UYcDEMvcUnVpLgcM6ve/3kbl/eJb2Xf22CSEFhCFVMIX13bp6CQhERaTKy65p5tKJo/dG/DEKvgHb94NjrYOo/fDDV5fi9j335EGxe6ksbxCUG5/nrS8Waxfd+78sydBxU832d88Fkmz7Q+bjg9bG+xcT5taH1bcDFsHKqH2HLPBq6D6//5zgYZaU+8dLyz30pkpxvoawEomJ9f0+83Qd9HQZCdIwPnFdM3hvULXzHH6d5R+g6NBAkDvWlWsB/GJLz7d4gM28WuHKITYIux/n1l92G+d+XXVt8cp7pj8OcCX70/YSbapb5VWoud4avbbpyCqRmwuh/Q/8LDn46ezUUFIZQ5Smkd511GDHRms0rIiKN34K8fGKjjW6tk2u3YzDWE+5r6C1+OtbbN8AvpvrMmRsXwZSHfPKR7icH77nr0+EX+uQrH/3Rl4TIPMZnPq1O7nRYNwfOeKh+MqI2BSMfgLUz4fWxcNIffBBUlwQ2VXEOtizfG3DVpgxG4WZYNRWK/YcstOsPR/3cB3WZx0Bc0o/3SU6Hfuf6L+d8yZGKAHHxezD7Bb9dem+/bc40PwJo0T6505Df++N3zPpxAqKk1jDiXv+hzeT74Nv/wMxn/XTrY671JWDCTfEOH/Sv/tonfApG0F+UD1//E5ql+d+d9J51+9vakA2f/tkH8omtYcRf/Zrfgy3NU0MKCkPsTE0hFRGRJiY7bwfd26QQF1PLDztzpkF0vP/nN1jiEv2UwefP8YHg0Jt9gBifDKf9JXjPW98SUmHo7/0/kc+d7X9unQYHRoJOhA4Dqh5ZmDbOTzXsf0FD9zh8xSXC+c/C+HP9FGLwCX26DfNfXYfWbjSsYAOs+AKWf+aDse2B8iGJrSCmBoF75X71/anvQ5chkNSq5vuCD0zSuvmvrJ/5gHTdnL0jiTs3+vauQ6HzsTUP6lp08mVXjv21//2bfJ//vRryW8i6ypdOCZXSElgzY+/IZ+4McIH1lVMf9n/vQ2+BqHoaiNm4GF66eO80W4Dkdj6w7jbM/2yrK2uzdZWfvjz7JYhPgRNvg6N/4W83IAWFITYsMIX0je/XKCgUEZEmITsvnxN61OGaljvdBzP1USLhQLoPh37n+alwu3f6NVqjHvUjJ43J8Tf4aaSrvt4bgHz6J/8Vn+pHRroN27umbOdGP0p65FU+CJa9WveAX8/yU4grAor5b/mRMIC2/fb+o595zA9/fsU7YNVX/ue//HPYMN+3J6T6chrHXe8D9VaHhHZ0NirK/311GOD7dLDSe8IFz/kpzJ/cDR/8L3z9Lxh2Mxx+sZ/OGmzl5f7nXTEauuor/zdtUX5K7fE3+MCs/eE+ydTkv0LebDj7MWjW4uCeO/sdn3wnJh4uf8d/kFARcC/9xK+/BL/+t9uwQHB//N7nLdjgpy3PeNL399jr4PgbITHt4PpVR+YaIMVpqGVlZbkZM2aEuhv7dcdb83jum1W8cPXRHHNILT8FEhGRPczsO+dcVqj70VgE4/q4qaCYrD9/zO1n9ObqE7rVfMfSErg3wwc5p91Tr32qUsFG+GeWT7jS5QS4/O2mMZ2yYCOs/ML/Y7rsc9i+2rendPDryNbOhOtm+CBIDqys1AcQyz/zP8/K6/kyjvSBRt4s/2FGeakfrc08em/w2H4/o7VN1fLP/ZTmtTN9IHT6fcFbo7nkI5j9og8ECzf5tv0FXxWcg2n/hQ9u9QmlLhwPbXrX/rnLy+Czv8CUB6HDET4w3rc2Z3k5bFiw9wOGVVNhd+HeYDW9N8x/w0/dHTjGj2BWN6JYDw50jVRQGAYKS0o545EvKdpdxvvXDyE1MTbUXRIRaZQUFNZOMK6PU5Zs5NInpjH+6qM4rjYzYHJnwOMn+zIBh42u1z7t15xX4OM/wmVvNc0gac+assl7E5V0OcH/Eyu1V1IIOd9Uyvw5D9r33ztNMPPomq3rbMqc82viPrnbr6W84HnoeXr9PsfcV319yaR0OOTEmk/TrLDqK5hwOZTshNGPwmFn1/y5d231z730Yxh4KYx8sGbTZUtL/IcHFSOJa2dBr5E+UVDr7jV//oOkoDDMg0KA2TnbOOffX3Fa33b886KBWFP4tFJEpIEpKKydYFwfx32xjL9MWsjMP5xCWlItpoF+/S//Cf6N2Q1bO8+5pjFCWBORdK4Noby8/tamNTVF+fDsKFg/Hy55xY+e1oeFk+DlMX4K75hX6x6E56+FCZf5QO246+HkP1Y/qrtuHrx8ia+VOfJ+GHRl3f+eQvS3eKBrpH6Tw8ThnVrwm1MO5d05ebw+c02ouyMiIlIn2Xk7aNs8vnYBIfh/zoJRtL46kRQkRdK5NgQFhPuX0BzGvObXUb54EeRMP/hjLv8cXrnCr4m8+KWDG5Vt3gGueNcHdlP/Ac//FAq37H/7ua/CE6f4Eh5XTvIJeg7m7ykM/xb12xxGfj70EAZ3SeOPE+eTs6Uw1N0REZEQMLMRZrbIzJaa2S1VPJ5pZp+Z2fdmNsfMRgba48zsKTOba2azzWxYg3cen2Sm1vUJIXhF60UkNBLT4NI3IKUtjD8H1s2t+7FypsGLF/sg85JX6yczZ0w8/ORhOOv//JTScUP9GtLKykrhg9vgtat8VuT/mRzckjkhpKAwjERHGQ9dcDhmcMPLsygtq0UtGxERafTMLBp4FDgd6ANcZGZ99tnsdmCCc24gcCHwr0D7NQDOuX7AKcDfzKxBr/PFpWUs3VBQ96L1GU3zny2RiJXSzq/ZjUuGZ0fDpiXV77OvvDnw/Lk+uLz0zfrPznnEZXDl+z6BzBOnwuxA1tCdm+D5s30NwsFjfTKqlHb1+9xhREFhmMlomcifR/flu1VbefSzZaHujoiINKzBwFLn3HLnXAnwEjBqn20cUBF1pQJrA7f7AJ8COOc2ANuABl1fuWzDTkrLXe2DwoYoWi8iodEiEy6b6KdMPjvK1+WrqY2LfR3O+BQfXKa0DU4fMwbB2MnQMQveGAtvXQvjhvkRytH/hpEPBL9UTogpKAxDowZ0ZPSADjzy6RJmrt4a6u6IiEjD6QjkVLqfG2ir7E5gjJnlApOAXwXaZwNnmVmMmXUFBgGd9n0CMxtrZjPMbMbGjRvrtfPZefkA9Glfy6ldDVG0XkRCp3V3P5W0pMAHhjvWVb/P1lV+WzMfELbIDG4fk9Phsjfh6F/C98/7tp99AAMuDu7zhgkFhWHq7tF9adc8gRtemkVBcWmouyMiIuHjIuBp51wGMBJ4LjBN9El8EDkDeBj4Cijbd2fn3DjnXJZzLis9vX6LtWfn5RMfE0WXVkm127GhitaLSOi06weXvOaLtj87+sCJXfLz4NmzfCH6S99suLIN0bEw4l646mP4ny/8+1KEUFAYpponxPL3CwaQu7WQuybOD3V3RESkYazhh6N7GYG2yq4CJgA4574GEoDWzrlS59xvnHMDnHOjgBbA4gbo8x7Z6/Lp2S6FmOha/HtRWuJrdmUoyYxIk9fpSLjoRV/D8Pmf+tIV+9q5GZ4bDQUbYczr0K5vaPpZ32sXw5yCwjA2uGsavxzWnVe+y2XS3LxQd0dERIJvOtDDzLqaWRw+kczEfbZZDZwMYGa98UHhRjNLNLOkQPspQKlzbkFDddw5R3beDnq1q+XU0XVzoKxY6wlFIkW3oXD+Mz4b6YsXQkmljPtF+T5Y3LLCl53IUNnZhqKgMMxdP7wHh2ekcuvrc8nbvivU3RERkSByzpUC1wEfANn4LKPzzexuMzsrsNlNwDVmNht4EbjCOeeANsBMM8sGbgYubci+b9hRzJadJbVPMpMTSDKjzKMikaPn6XD2Y74UxIRL/YyBkkJ44QJYPw/Ofxa6Dgl1LyNKTKg7IAcWGx3FwxcOZOQ/pnDThNk8f9VRREWFX8FLERGpH865SfgEMpXb7qh0ewFwXBX7rQR6Brt/+7MgkGSmTplHUztB8/ZB6JWIhK1+50LJTnj7174O4O5CWP01nPM49BwR6t5FHI0UNgJdWyfxx5/04atlm3n8y+Wh7o6IiMiPVGQe7d2utiOF07WeUCRSDbocTvsLZE+EpR/DT/7hg0VpcBopbCQuOLITny3awAMfLOK47q05rENqqLskIiKyR3beDjq2aEZqYmzNd8pfC/m50Om64HVMRMLbMddCXBLENIPDLwh1byKWRgobCTPjvp/2p2ViHNe/NItdJT/KMi4iIhIy2Xn59K5LfULQSKFIpBt0hQLCEFNQ2Ii0TIrjb+cfztINBVz97PQ9U3VERERCqWh3Gcs3FtRhPeF0Fa0XEQkDCgobmRN6pPOn0X2Zk7udkY9M4fqXvmflpp2h7paIiESwxet3UO7qkGQmZ5qK1ouIhAEFhY3QpUd35svfn8Qvhh7Ch/PXc/JDk1WyQkREQia7LplHS4shT0XrRUTCQVCDQjMbYWaLzGypmd1SxeM3mtkCM5tjZp+YWedKj5WZ2azA18RK7V3N7NvAMV8OFPeNOKmJsfx+RC8m/34YY47K5NXvchj6wOf8+Z0FbC4oDnX3REQkgmTn7SAxLprOaYk132ndXCgrUdF6EZEwELSg0MyigUeB04E+wEVm1mefzb4Hspxz/YFXgfsrPbbLOTcg8HVWpfa/An93znUHtgJXBescGoM2KQncNaovn940jLMO78CTU1cw5P7PeOijxeQX7Q5190REJAJk5+XTs11K7eroqmi9iEjYCOZI4WBgqXNuuXOuBHgJGFV5A+fcZ865wsDdb4CMAx3QzAw4CR9AAjwDjK7XXjdSndISefC8w/nwN0MY2jOdRz5ZwpD7P+Oxycso2q1MpSIiEhzOuUDmURWtFxFprIIZFHYEcirdzw207c9VwHuV7ieY2Qwz+8bMKgK/VsA251xpdcc0s7GB/Wds3LixbmfQCHVvk8K/LhnE29cdz+EZLbj3vYUMfeAzJi+OnJ+BiIg0nLXbi8gvKq1DkhkVrRcRCRdhkWjGzMYAWcADlZo7O+eygIuBh83skNoc0zk3zjmX5ZzLSk9Pr8feNg79MlJ55meDeXns0bRoFse142eybGNBqLslIiJNTPZan2SmT21qFO4pWq+poyIi4SCYQeEaoFOl+xmBth8ws+HAbcBZzrk9GVKcc2sC35cDnwMDgc1ACzOLOdAxZa+jurXiqSuPJC4mip8/9x07i0ur30lERKSGKjKP9mxXi5FCrScUEQkrwQwKpwM9AtlC44ALgYmVNzCzgcBj+IBwQ6X2lmYWH7jdGjgOWOCcc8BnwLmBTS8H3griOTQJHVo04/8uGsiyjQXc/Noc/I9RRETk4GWvyyczLZHk+JjqN66QOx1iEqBdv+B1TEREaixoQWFg3d91wAdANjDBOTffzO42s4psog8AycAr+5Se6A3MMLPZ+CDwPufcgsBjNwM3mtlS/BrDJ4J1Dk3Jcd1b87vTevHOnDyenLoy1N0REZEmIjtvB71rM3UU/EhhexWtFxEJF7X4WK/2nHOTgEn7tN1R6fbw/ez3FVDlx4eB6aSab1IHPx/aje9Xb+Uvk7Lp1zGVwV3TQt0lERFpxApLSlm5eSejBnSo+U4VReuP+p/gdUxERGolLBLNSMMwMx48/3Ay0xK59oWZbMgvCnWXRESkESssKeO8QRkc3a1VzXfKm+OL1ms9oYhI2FBQGGGaJ8TynzGDKCgq5doXZrK7rDzUXRIRkUaqdXI89597eO2CwtyKJDMqRyEiEi4UFEagnu1SuO+cfkxfuZV7Jy08qGMtWJvPdS/M5Jvlm+updyIi0qTlqGi9iEi4CeqaQglfowZ0ZFbONp6cuoIBmS046/BarAcBdhaX8vDHi3ly6krKyh2TF23klV8cQ6/apCQXEZHIkzsdOh0V6l6IiEglGimMYP87sjdZnVty86tzWLx+R433+3D+Ok55aDL/nbKC87MyeO/6E0iMj+bKp6azbrvWKYqIyH5sXwP5a1S0XkQkzCgojGCx0VE8eskRJMXH8PPnvmNH0e4Dbr9m2y6ufmYGY5/7jubNYnntF8dw70/707t9c566YjA7ikq58unp1R5HREQiVK6K1ouIhCMFhRGubfPhtPY+AAAeAElEQVQEHr14IKu2FPLbV2ZXWdh+d1k5475YxvC/TWbq0k3cenov3v7V8QzqvLekRZ8OzfnXJUeweP0OfjleCWxERKQKOSpaLyISjhQUCkd1a8Wtp/fig/nreeyL5T947LtVW/nJ/33JXyYt5LjurfjoxiH8z9BDiI3+8a/OkEPTuffsfkxZsonb3phbZYApIiIRLHe6itaLiIQhJZoRAK46vivf52zj/vcX0r9jKod1SOW+9xfy4rTVtE9N4LFLB3HaYe2qPc75R3Yid9suHvlkCRktE/n1yT0aoPciIhL2VLReRCRsKSgUwBe2/+s5/Vm0bgfXvjCTKDO27drN1cd35TenHEpSfM1/VX4zvAe5Wwt56KPFdGjRjHMHZQSx5yIi0iioaL2ISNjS9FHZIzk+hv+MGURZuaNTWiITrzuO28/sU6uAEHyAed9P+3Nc91bc8tocpi7dFKQei4hIo1GRZEaZR0VEwo6CQvmB7m2S+fZ/h/PGL4/lsA6pdT5OXEwU/x4ziEPSk/n5c9+xcF1+PfZSREQanZxpkJoJKdUvRRARkYaloFB+pFlcNGZ20MdpnhDLU1ceqRqGIiISKFp/ZKh7ISIiVVBQKEHVoUUznrziSPJ37VYNQxGRSFVRtF7rCUVEwpKCQgm6wzqk8q8xg1TDUEQkUu1ZT6iRQhGRcKSgUBrE0EPT+cvZfVXDUEQkElUUrW+rovUiIuFIJSmkwVxwZCZrtu7ikU+XkpYUz80jetbL2kUREQlzudOgw0AVrRcRCVMKCqVB/eaUQ9lYUMJ/Ji8jPiaK35xyaKi7JCIiwVRaDHmzVbReRCSMafqoNCgz457RfTl3UAb/+GQJj362NNRdEhEJK2Y2wswWmdlSM7ulisczzewzM/vezOaY2chAe6yZPWNmc80s28xubfjeVyFvtorWi4iEOY0USoOLijL+ek5/dpeV88AHi4iPieLqE7qFulsiIiFnZtHAo8ApQC4w3cwmOucWVNrsdmCCc+7fZtYHmAR0Ac4D4p1z/cwsEVhgZi8651Y26EnsK0dF60VEwp2CQgmJ6Cjjb+cdTklpOX9+N5u4mCguO6ZLqLslIhJqg4GlzrnlAGb2EjAKqBwUOqB54HYqsLZSe5KZxQDNgBIgvyE6fUC5KlovIhLuNH1UQiYmOop/XDiQ4b3bcMdb83lp2upQd0lEJNQ6AjmV7ucG2iq7ExhjZrn4UcJfBdpfBXYCecBq4EHn3Jag9rYmclS0XkQk3CkolJCKi4ni0UuOYOih6dz6xlxe+y431F0SEQl3FwFPO+cygJHAc2YWhR9lLAM6AF2Bm8zsR3PzzWysmc0wsxkbN24Mbk+358KOtVpPKCIS5hQUSsjFx0Tz2KWDOKZbK3736mzenr22+p1ERJqmNUCnSvczAm2VXQVMAHDOfQ0kAK2Bi4H3nXO7nXMbgKlA1r5P4Jwb55zLcs5lpaenB+EUKslR0XoRkcZAQaGEhYTYaB6/PIuszmnc8PIs3p+3LtRdEhEJhelADzPramZxwIXAxH22WQ2cDGBmvfFB4cZA+0mB9iTgaGBhA/W7arkqWi8i0hgoKJSwkRgXw5NXHkn/jFR+9eJMPl24PtRdEhFpUM65UuA64AMgG59ldL6Z3W1mZwU2uwm4xsxmAy8CVzjnHD5rabKZzccHl0855+Y0/FlUkjtdRetFRBoBZR+VsJIcH8PTVw5mzOPf8vPnZ/L4ZVkMOTTI05tERMKIc24SPoFM5bY7Kt1eABxXxX4F+LIU4WFP0fqfh7onIiJSDQWFEnZSm8Xy3FWDuXDcN1zz7AyevnIwxxzSCoDyckfh7jJ2FpdSUFzqvxcFbpeUUlBcRklpOR1SE8hslUhmWiIpCbEhPiMRkQhUUbRe9QlFRMJeUINCMxsB/AOIBh53zt23z+M3AlcDpfj1ED9zzq0yswHAv/F1mMqAe5xzLwf2eRoYCmwPHOYK59ysYJ6HNLwWiXGMv/ooLhz3DZc/NY0WzWLZWVxK4e4ynKvdsdKS4shM8wFi51YV35PITEukTUo8UVEWnJMQEYlkFUlmlHlURCTsBS0oNLNo/PqGU/B1lqab2cTAtJcK3wNZzrlCM/sFcD9wAVAIXOacW2JmHYDvzOwD59y2wH6/c869Gqy+S3holRzP+GuO4h8fL6G0zJEUH0NyQgzJ8dH+dnwMSXExJMXHkJLgvyfFRxMbFcWabbtYvaWQ1VsKWbW5kNVbdvJ9zlbembOW8kpBZXxMFF1bJ3HMIa0Y0iOdo7qlkRinAXQRkYOWOw1aZEJK21D3REREqhHM/34HA0udc8sBzOwlYBSwJyh0zn1WaftvgDGB9sWVtllrZhuAdGAbElHapCRwz9m1z1rXMimOvh1Tf9S+u6ycNVt9wLhqSyE5WwrJzsvnxWmreWrqSmKjjazOaZxwaGuG9EinT/vmGkkUEamLnOnQ+dhQ90JERGogmEFhRyCn0v1c4KgDbH8V8N6+jWY2GIgDllVqvsfM7gA+AW5xzhUffHclEsRGR9GldRJdWif9oL1odxnfrdrKF4s38sWSTdz//iLuf38RaUlxHN+9NSf0aM0JPdJpl5oQop6LiDQiFUXrtZ5QRKRRCIt5cmY2Bl9gd+g+7e2B54DLnXPlgeZbgXX4QHEccDNwdxXHHAuMBcjMzAxa36VpSIiN5rjurTmue2tuBTbsKGLq0k1MWbyJL5ZsYuLstQAc2jaZE3u24aLBmT8KLEVEJGDPekIVrRcRaQyCGRSuATpVup8RaPsBMxsO3AYMrTziZ2bNgXeB25xz31S0O+fyAjeLzewp4LdVPblzbhw+aCQrK6uWqUkk0rVJSeDsgRmcPTAD5xwL1+1gypKNTFmyiSe+XMG4Kcs5qWcbrjyuK8d1b4WZppiKiOyROx1imkE7Fa0XEWkMghkUTgd6mFlXfDB4IXBx5Q3MbCDwGDDCObehUnsc8Abw7L4JZcysvXMuz/x/4aOBeUE8BxHMjN7tm9O7fXPGDjmEDflFPP/NKsZ/u5oxT3xLjzbJXHFcF346MINmcdGh7q6ISOjlTPNF66NVEkhEpDGICtaBnXOlwHXAB0A2MME5N9/M7jazswKbPQAkA6+Y2SwzmxhoPx8YAlwRaJ8VKFMBMN7M5gJzgdbAn4N1DiJVadM8gRtP7cnUW07iwfMOJy4mitvemMfR937Cve9ls2bbrlB3UUQkdHYX+RqFGVmh7omIiNRQUNcUOucmAZP2abuj0u3h+9nveeD5/Tx2Un32UaSuEmKjOXdQBucc0ZHpK7fy1NQV/PeL5Tw+ZQWnHdaWK4/rSlbnlppaKiKRJW82lO9WkhkRkUYkLBLNiDRmZsbgrmkM7prGmm27ePbrlbw0LYdJc9fRt2Nzzs/qRPf0ZDqlJdI+NYGY6KAN0IuIhF6uitaLiDQ2CgpF6lHHFs249fTeXH9yD974fg1PT13JHW/N3/N4TJTRsWUzMtMS6ZSWSKeWiWSm7f1KTdT6GxFp5HJUtF5EpLFRUCgSBIlxMVxyVGcuHpxJ7tZd5GwpZHXgK2frLlZvKeT9eevYsrPkB/s1T4ihXWoCKQmxJMfH7P1K8N9TEmJIqtSWEh9DZqtE2qSofqKIhAHnfObRzseFuiciIlILCgpFgsjM/IhgWiLHVvH4jqLd5GzxQWLOlkJythaybnsRO0tK2VZYQu7WQgqKSykoKmVnSVmVzxFlMOTQdM7P6sTw3m2Ji9H0VBEJke25sCNP6wlFRBoZBYUiIZSSEEufDrH06dC82m3Lyx07S0opKC5lZ3EpO4r81/SVW3j1u1x+OX4maUlxjB7QkfOPzKBXu+qPKSJSr3JVtF5EpDFSUCjSSERFGSkJsaQk/HDd4ZBD07lh+KFMWbKRCTNyeO6blTw5dQWHZ6RyXlYnzhrQgeYJWqsoIg0gR0XrRUQaIwWFIk1AdJQxrGcbhvVsw5adJbzx/RomTM/h9jfn8ed3F3B63/acn9WJo7qmERWlEhkiEiS501W0XkSkEVJQKNLEpCXFcdXxXfnZcV2Yk7udCTNymDhrLW98v4bMtERO7JlO29QE2qQk0LZ5/J7vqc1iVVNRROquomj9Mb8MdU9ERKSWFBSKNFFmxuGdWnB4pxbcfkYf3p+fx4Tpubw+cw07ikt/tH1cTBRtUuJp2zxhz/f0lHj/lRxP6+R4WqfE0SopXslsROTHKorWqz6hiEijo6BQJAI0i4vm7IEZnD0wA4DCklI25BezPr+IDTv8942B7+vzi1m8fgdfLtlUZfAIvnRG6xQfKPqAMY7WyfG0So7HDHYW702IU1Bcxs49t0t9spwi376rpJQebVMY0bcdIw5rR5fWSQ35YxGR+lSRZEaZR0VEGh0FhSIRKDEuhi6tY6oNwgpLStm0o4SNBcVsCnxtLijZc3vTjhKy8/LZWFDMjqIfB5AJsVF7ai0mBb7apCTQtXUMyfHRxMdEM3P1Vu57byH3vbeQXu1SOPUwHyD2bp+i6awijUnONGjRGZLbhLonIiJSSwoKRWS/EuNiyGwVQ2arxGq3LS4tY3NBCYAPAOOiiYmu2TTT3K2FfDh/Pe/PX8c/P13CI58soVNaM0Yc1o4RfdsxsFPLRpsgxznHnNztjP92FZ8v2khyfAxpSXG0So4jLcmPsvr78bTa0x5HWmJcjX9+IiFXUbS+y/Gh7omIiNSBgkIRqRfxMdF0aNGsTvtmtEzkZ8d35WfHd2VTQTEfL/AB4tNfreS/U1aQnhLPqX3actph7RjUuSVJ8eH/1lVYUspbs9Yy/ttVzFuTT2JcNCf3bku5c2wuKGbFpp3MWLmVrYUllLuqj9GxRTOuPqErFx+VSXxMdMOegEhtVBSt13pCEZFGKfz/sxKRiNI6OZ4LB2dy4eBM8ot289nCDXwwfx2vz1zD+G9XAz5Y6t4mmR5tkjm0bQrd2ybTvU1yWNRjXLRuB+O/XcUbgYQ+Pdum8KdRhzF6YMcf1ZgEKCt3bCssYcvOEjYV+O+bd/pput8s38xdby/g8SkruGF4D84e2LFRjB4W7S5j4bodpDaLpavWiUaGPesJVbReRKQxUlAoImGreUIsowZ0ZNSAjhTtLuOrZZtYsDafJRsKWLK+gG+Wb6a4tHzP9u2aJ9CjbTI92qTQo20yh6QnEx1lFJeWUby73H8vLf/B7aLdgbbScnaXlZOeEk+nlolktGxGp7REWiXFVbu2sbi0jPfmrmP8t6uYvnIrcTFRnNGvPWOOzuSIzJYH3D86yvzU0eR4erT94WPOOb5cuokHPljE716dw38mL+OmU3tyet92YbPesri0jIV5O5i7Zjtzc7czZ812lqzfQWm5I8rgkqM6c9Oph9IiMS7UXZVgqiha37ZvqHsiIiJ1oKBQRBqFhNhoTurVlpN67Y2cysoduVsLWby+gCUbdrB0fQFLNhTw4rTV7NpdVuNjm0FCTDTRUUbBPhlXE2KjyGiZSKeWzcioFCxmtGxGfEw0r8/M5ZXvctmys4QurRK5bWRvzhmUQVrSwQdBZsYJPdI5vntrPpi/jgc/XMwvx8+kX8dUfntaT4b0aN2gwWFJaTmL1gUCwDXbmJO7ncXrd7C7zM9/bZkYS9+OqZzUqxt9O6Ty7YotPPv1St6es5bfntqTiwZnEt1I14ZKNXKnQccjVLReRKSRMuf2s5ilCcnKynIzZswIdTdEpIGUlzvWbNvF8k07cc4RHxNNQmwU8THRxMdGER8TRUJsNPExvi022vYEVwXFpazZuoucLYXkbi0kd+sucgLfc7fuYvuu3T94rugo45TebRlzdGeOPaRVUBPilJU73vh+DX//aDFrtu3iqK5p/H5ETwZ1Tqt2300Fxcxbs535a/OZv3Y789bks3bbLszAMMwgyn743YCoKPP3gR1FpZSU+ZHZ1Gax9M9IpW/HVPp39N8zWjb7UZC6cF0+d06czzfLt9CnfXPuGnUYR3apvr91ZWbfOeeygvYETUy9XB93F8G9Gb5o/Sl310/HRESk3h3oGqmgUESkFvKLdpO7ZRe5WwvZWljCsJ5taNs8oUH7UFxaxkvTcvi/T5eyqaCYk3u14aZTe9KnQ3Occ+RtL2Lemu3MW5vP/EAguC6/aM/+mWmJ9O3YnMy0JMx84kjnHA4fUJc7cLg97eUOyp0jJSGWfh1T6Z9RdQC4P845Js1dxz3vLmDt9iJGDejAraf3pl1q/f/cFBTWTr1cH1d/A0+eBheMh95n1k/HRESk3h3oGqnpoyIitdA8IZY+HWLp06F5yPoQHxPN5cd24bysDJ6aupLHJi9j5CNTGNCpBas272RroR/NjDI4JD2Zo7ul0bdjKod1SKVPh+akNmvYKX5mxhn923Nir3T+8/ky/vPFcj5asJ7rTurOVcd3VWbVxi5HRetFRBo7BYUiIo1UYlwM157YnTFHdeaxL5bx9fLNnNqnHX07NqdPh1R6t08hMS583uYT42K48dSenJfViT+9s4D731/Ey9NzuOPMPpzcu231B5DwlKui9SIijV34/LcgIiJ1kpoYy+9H9Ap1N2qsU1oi4y7L4ovFG7nr7flc9cwMTuyZzh/O7EO39ORQd09qwzmfebTrCaHuiYiIHITwL3glIiJN0pBD03n/hiHcfkZvpq/cym9enkUkrHNvUrbnQME6Fa0XEWnkNFIoIiIhExsdxdUndOOsAR3YVrg7bOovSg017wi/+AqSNHVURKQx00ihiIiEXJuUBA5tmxLqboQFMxthZovMbKmZ3VLF45lm9pmZfW9mc8xsZKD9EjObVemr3MwGBLWzUdHQ9jBITg/q04iISHApKBQREQkTZhYNPAqcDvQBLjKzPvtsdjswwTk3ELgQ+BeAc268c26Ac24AcCmwwjk3q+F6LyIijZWCQhERkfAxGFjqnFvunCsBXgJG7bONAypqoqQCa6s4zkWBfUVERKqlNYUiIiLhoyOQU+l+LnDUPtvcCXxoZr8CkoDhVRznAn4cTIqIiFRJI4UiIiKNy0XA0865DGAk8JyZ7bmem9lRQKFzbl5VO5vZWDObYWYzNm7c2DA9FhGRsBbUoLAGi+VvNLMFgYXyn5hZ50qPXW5mSwJfl1dqH2RmcwPHfMSUqk5ERJqONUCnSvczAm2VXQVMAHDOfQ0kAK0rPX4h8OL+nsA5N845l+Wcy0pPV4IYEREJYlBYw8Xy3wNZzrn+wKvA/YF904A/4qfMDAb+aGYtA/v8G7gG6BH4GhGscxAREWlg04EeZtbVzOLwAd7EfbZZDZwMYGa98UHhxsD9KOB8tJ5QRERqIZgjhdUulnfOfeacKwzc/Qb/iSjAacBHzrktzrmtwEfACDNrDzR3zn3jfIXjZ4HRQTwHERGRBuOcKwWuAz4AsvFZRueb2d1mdlZgs5uAa8xsNn5E8IrANRFgCJDjnFve0H0XEZHGK5iJZmqyWL6yq4D3DrBvx8BXbhXtIiIiTYJzbhIwaZ+2OyrdXgAct599PweODmb/RESk6QmL7KNmNgbIAobW4zHHAmMBMjMz6+uwIiIiIiIiTUowp4/WZLE8ZjYcuA04yzlXXM2+a9g7xXS/xwQtpBcREREREakJ27sMoZ4PbBYDLMYvhl+DXzx/sXNufqVtBuITzIxwzi2p1J4GfAccEWiaCQxyzm0xs2nAr4Fv8dNr/i8w1eZAfdkIrDrIU2oNbDrIYzQmkXS+kXSuoPNtyiLpXKHq8+3snNMngTVUT9dHiKzfvUg6V9D5NmWRdK4QWee7v3Pd7zUyaNNHnXOlZlaxWD4aeLJisTwwwzk3EXgASAZeCVSWWO2cOysQ/P0JH0gC3O2c2xK4/UvgaaAZfg3ie1SjPv5BMLMZzrmsgz1OYxFJ5xtJ5wo636Ysks4VIu98g6G+AuhIei0i6VxB59uURdK5QmSdb13ONahrCmuwWH74AfZ9EniyivYZQN967KaIiIiIiEjECmrxehEREREREQlvCgprblyoO9DAIul8I+lcQefblEXSuULknW84i6TXIpLOFXS+TVkknStE1vnW+lyDlmhGREREREREwp9GCkVERERERCKYgsIaMLMRZrbIzJaa2S2h7k8wmdlKM5trZrPMbEao+1PfzOxJM9tgZvMqtaWZ2UdmtiTwvWUo+1if9nO+d5rZmsBrPMvMRoayj/XFzDqZ2WdmtsDM5pvZ9YH2Jvn6HuB8m9zra2YJZjbNzGYHzvWuQHtXM/s28N78spnFhbqvkSaSro+ga2QTew+NmOsjRNY1MpKuj1B/10hNH62GmUXj6y2eAuTiy2Rc5JxbENKOBYmZrQSynHNNso6LmQ0BCoBnnXN9A233A1ucc/cF/qlp6Zy7OZT9rC/7Od87gQLn3IOh7Ft9M7P2QHvn3EwzS8HXOh0NXEETfH0PcL7n08ReXzMzIMk5V2BmscCXwPXAjcDrzrmXzOw/wGzn3L9D2ddIEmnXR9A1som9h0bM9REi6xoZSddHqL9rpEYKqzcYWOqcW+6cKwFeAkaFuE9SR865L4At+zSPAp4J3H4G/8bRJOznfJsk51yec25m4PYOIBvoSBN9fQ9wvk2O8woCd2MDXw44CXg10N5kXttGRNfHJiaSrpGRdH2EyLpGRtL1EervGqmgsHodgZxK93Npwr9Y+F+iD83sOzMbG+rONJC2zrm8wO11QNtQdqaBXGdmcwLTZxr9VJF9mVkXYCDwLRHw+u5zvtAEX18zizazWcAG4CNgGbDNOVca2KSpvzeHo0i7PoKukU3yPXQfTe79c1+RdI2MhOsj1M81UkGh7Ot459wRwOnAtYHpFRHD+fnUTX1O9b+BQ4ABQB7wt9B2p36ZWTLwGnCDcy6/8mNN8fWt4nyb5OvrnCtzzg0AMvAjVL1C3CWJTLpGNrH30H00yffPyiLpGhkp10eon2ukgsLqrQE6VbqfEWhrkpxzawLfNwBv4H+xmrr1gfnnFfPQN4S4P0HlnFsfePMoB/5LE3qNA3PpXwPGO+deDzQ32de3qvNtyq8vgHNuG/AZcAzQwsxiAg816ffmMBVR10fQNbKpvYfuq6m/f0bSNTISr49wcNdIBYXVmw70CGTwiQMuBCaGuE9BYWZJgQW5mFkScCow78B7NQkTgcsDty8H3gphX4Ku4s0/4GyayGscWGj9BJDtnHuo0kNN8vXd3/k2xdfXzNLNrEXgdjN8YpNs/IXv3MBmTea1bUQi5voIukYGbjfpv7Om+P5ZIZKukZF0fYT6u0Yq+2gNBFLWPgxEA0865+4JcZeCwsy64T/5BIgBXmhq52pmLwLDgNbAeuCPwJvABCATWAWc75xrEovP93O+w/BTJxywEvifSusJGi0zOx6YAswFygPN/4tfR9DkXt8DnO9FNLHX18z64xfJR+M/zJzgnLs78J71EpAGfA+Mcc4Vh66nkSdSro+gayRN7z00Yq6PEFnXyEi6PkL9XSMVFIqIiIiIiEQwTR8VERERERGJYAoKRUREREREIpiCQhERERERkQimoFBERERERCSCKSgUERERERGJYAoKRSKUmQ0zs3dC3Q8REZFwo2ukRBoFhSIiIiIiIhFMQaFImDOzMWY2zcxmmdljZhZtZgVm9nczm29mn5hZemDbAWb2jZnNMbM3zKxloL27mX1sZrPNbKaZHRI4fLKZvWpmC81svJlZyE5URESklnSNFKkfCgpFwpiZ9QYuAI5zzg0AyoBLgCRghnPuMGAy8MfALs8CNzvn+gNzK7WPBx51zh0OHAvkBdoHAjcAfYBuwHFBPykREZF6oGukSP2JCXUHROSATgYGAdMDH1A2AzYA5cDLgW2eB143s1SghXNucqD9GeAVM0sBOjrn3gBwzhUBBI43zTmXG7g/C+gCfBn80xIRETloukaK1BMFhSLhzYBnnHO3/qDR7A/7bOfqePziSrfL0HuCiIg0HrpGitQTTR8VCW+fAOeaWRsAM0szs874v91zA9tcDHzpnNsObDWzEwLtlwKTnXM7gFwzGx04RryZJTboWYiIiNQ/XSNF6ok+8RAJY865BWZ2O/ChmUUBu4FrgZ3A4MBjG/BrKgAuB/4TuKAtB64MtF8KPGZmdweOcV4DnoaIiEi90zVSpP6Yc3UdUReRUDGzAudccqj7ISIiEm50jRSpPU0fFRERERERiWAaKRQREREREYlgGikUERERERGJYAoKRUREREREIpiCQhERERERkQimoFBERERERCSCKSgUERERERGJYAoKRUREREREItj/A7XBqGVJchyaAAAAAElFTkSuQmCC\n",
            "text/plain": [
              "<Figure size 1080x360 with 2 Axes>"
            ]
          },
          "metadata": {
            "tags": [],
            "needs_background": "light"
          }
        }
      ]
    },
    {
      "cell_type": "markdown",
      "metadata": {
        "id": "PnR6u561QW8I"
      },
      "source": [
        "## 76. チェックポイント\n",
        "\n",
        "問題75のコードを改変し，各エポックのパラメータ更新が完了するたびに，チェックポイント（学習途中のパラメータ（重み行列など）の値や最適化アルゴリズムの内部状態）をファイルに書き出せ．\n",
        "\n"
      ]
    },
    {
      "cell_type": "code",
      "metadata": {
        "colab": {
          "base_uri": "https://localhost:8080/"
        },
        "id": "R6Tfi1mzdW7k",
        "outputId": "37a6686a-fef4-4418-da22-f490a7b52647"
      },
      "source": [
        "#モデルの定義\n",
        "model = SLPNet(300, 4)\n",
        "\n",
        "#損失関数の定義\n",
        "criterion = nn.CrossEntropyLoss()\n",
        "\n",
        "#オプティマイザの定義\n",
        "optimizer = torch.optim.SGD(model.parameters(), lr=1e-1)\n",
        "#SGDとは、確率的勾配降下法のことであり、パラメータの更新手法を表す\n",
        "#torch.optim.SGDには、更新したいパラメータを渡す。このパラメータは微分可能でないといけない\n",
        "#lrには、学習率(learning rate)としてfloat型を渡す\n",
        "\n",
        "# 学習\n",
        "num_epochs = 30\n",
        "log_train = []\n",
        "log_valid = []\n",
        "for epoch in range(num_epochs):\n",
        "  # 訓練モードに設定\n",
        "  model.train()\n",
        "  for inputs, labels in dataloader_train:\n",
        "    #入力データ・ラベルに分割\n",
        "    #勾配をゼロで初期化\n",
        "    optimizer.zero_grad()\n",
        "\n",
        "    #順伝播 + 誤差逆伝播 + 重み更新\n",
        "    outputs = model(inputs)#順伝播\n",
        "    loss = criterion(outputs, labels)#ラベルデータに対するCross-Entropyがとられる\n",
        "    loss.backward()\n",
        "    optimizer.step()#重みの更新\n",
        "\n",
        "  #損失と正解率の算出\n",
        "  loss_train, acc_train = calculate_loss_and_accuracy(model, criterion, dataloader_train)\n",
        "  loss_valid, acc_valid = calculate_loss_and_accuracy(model, criterion, dataloader_valid)\n",
        "  log_train.append([loss_train, acc_train])#グラフにプロットできるように、行列に損失と正解率を保存\n",
        "  log_valid.append([loss_valid, acc_valid])\n",
        "\n",
        "  #チェックポイントの保存\n",
        "  torch.save({'epoch': epoch, 'model_state_dict': model.state_dict(), 'optimizer_state_dict': optimizer.state_dict()}, f'checkpoint{epoch + 1}.pt')\n",
        "\n",
        "\n",
        "  #ログを出力\n",
        "  print(f'epoch: {epoch + 1}, loss_train: {loss_train:.4f}, accuracy_train: {acc_train:.4f}, loss_valid: {loss_valid:.4f}, accuracy_valid: {acc_valid:.4f}')  "
      ],
      "execution_count": null,
      "outputs": [
        {
          "output_type": "stream",
          "text": [
            "epoch: 1, loss_train: 0.3306, accuracy_train: 0.8880, loss_valid: 0.3557, accuracy_valid: 0.8787\n",
            "epoch: 2, loss_train: 0.2846, accuracy_train: 0.9031, loss_valid: 0.3241, accuracy_valid: 0.8870\n",
            "epoch: 3, loss_train: 0.2656, accuracy_train: 0.9097, loss_valid: 0.3142, accuracy_valid: 0.8945\n",
            "epoch: 4, loss_train: 0.2538, accuracy_train: 0.9157, loss_valid: 0.3091, accuracy_valid: 0.8952\n",
            "epoch: 5, loss_train: 0.2450, accuracy_train: 0.9186, loss_valid: 0.3065, accuracy_valid: 0.8937\n",
            "epoch: 6, loss_train: 0.2397, accuracy_train: 0.9199, loss_valid: 0.3041, accuracy_valid: 0.8975\n",
            "epoch: 7, loss_train: 0.2336, accuracy_train: 0.9232, loss_valid: 0.3045, accuracy_valid: 0.8945\n",
            "epoch: 8, loss_train: 0.2345, accuracy_train: 0.9220, loss_valid: 0.3088, accuracy_valid: 0.8922\n",
            "epoch: 9, loss_train: 0.2276, accuracy_train: 0.9242, loss_valid: 0.3060, accuracy_valid: 0.8960\n",
            "epoch: 10, loss_train: 0.2280, accuracy_train: 0.9227, loss_valid: 0.3109, accuracy_valid: 0.8997\n",
            "epoch: 11, loss_train: 0.2228, accuracy_train: 0.9267, loss_valid: 0.3073, accuracy_valid: 0.8907\n",
            "epoch: 12, loss_train: 0.2203, accuracy_train: 0.9257, loss_valid: 0.3082, accuracy_valid: 0.8930\n",
            "epoch: 13, loss_train: 0.2203, accuracy_train: 0.9263, loss_valid: 0.3111, accuracy_valid: 0.8922\n",
            "epoch: 14, loss_train: 0.2232, accuracy_train: 0.9227, loss_valid: 0.3155, accuracy_valid: 0.8952\n",
            "epoch: 15, loss_train: 0.2190, accuracy_train: 0.9269, loss_valid: 0.3130, accuracy_valid: 0.8937\n",
            "epoch: 16, loss_train: 0.2176, accuracy_train: 0.9272, loss_valid: 0.3134, accuracy_valid: 0.8907\n",
            "epoch: 17, loss_train: 0.2164, accuracy_train: 0.9269, loss_valid: 0.3146, accuracy_valid: 0.8945\n",
            "epoch: 18, loss_train: 0.2145, accuracy_train: 0.9253, loss_valid: 0.3166, accuracy_valid: 0.8915\n",
            "epoch: 19, loss_train: 0.2120, accuracy_train: 0.9291, loss_valid: 0.3138, accuracy_valid: 0.8945\n",
            "epoch: 20, loss_train: 0.2152, accuracy_train: 0.9257, loss_valid: 0.3197, accuracy_valid: 0.8930\n",
            "epoch: 21, loss_train: 0.2123, accuracy_train: 0.9276, loss_valid: 0.3178, accuracy_valid: 0.8930\n",
            "epoch: 22, loss_train: 0.2121, accuracy_train: 0.9286, loss_valid: 0.3185, accuracy_valid: 0.8945\n",
            "epoch: 23, loss_train: 0.2128, accuracy_train: 0.9287, loss_valid: 0.3212, accuracy_valid: 0.8922\n",
            "epoch: 24, loss_train: 0.2091, accuracy_train: 0.9298, loss_valid: 0.3194, accuracy_valid: 0.8952\n",
            "epoch: 25, loss_train: 0.2094, accuracy_train: 0.9297, loss_valid: 0.3210, accuracy_valid: 0.8922\n",
            "epoch: 26, loss_train: 0.2085, accuracy_train: 0.9306, loss_valid: 0.3207, accuracy_valid: 0.8945\n",
            "epoch: 27, loss_train: 0.2073, accuracy_train: 0.9301, loss_valid: 0.3231, accuracy_valid: 0.8937\n",
            "epoch: 28, loss_train: 0.2080, accuracy_train: 0.9295, loss_valid: 0.3255, accuracy_valid: 0.8945\n",
            "epoch: 29, loss_train: 0.2065, accuracy_train: 0.9295, loss_valid: 0.3238, accuracy_valid: 0.8937\n",
            "epoch: 30, loss_train: 0.2066, accuracy_train: 0.9300, loss_valid: 0.3256, accuracy_valid: 0.8930\n"
          ],
          "name": "stdout"
        }
      ]
    },
    {
      "cell_type": "markdown",
      "metadata": {
        "id": "rpR29zZErLhv"
      },
      "source": [
        "## 77. ミニバッチ化\n",
        "\n",
        "問題76のコードを改変し，B\n",
        "事例ごとに損失・勾配を計算し，行列W\n",
        "の値を更新せよ（ミニバッチ化）．B\n",
        "の値を1,2,4,8,…\n",
        "と変化させながら，1エポックの学習に要する時間を比較せよ．\n",
        "\n"
      ]
    },
    {
      "cell_type": "code",
      "metadata": {
        "id": "RGjHBYgidXd9"
      },
      "source": [
        "import time\n",
        "\n",
        "def train_model(dataset_train, dataset_valid, batch_size, model, criterion, optimizer, num_epochs):\n",
        "  #dataloaderの作成\n",
        "  dataloader_train = DataLoader(dataset_train, batch_size=batch_size, shuffle=True)\n",
        "  dataloader_valid = DataLoader(dataset_valid, batch_size=len(dataset_valid), shuffle=False)\n",
        "\n",
        "  #学習\n",
        "  log_train = []\n",
        "  log_valid = []\n",
        "  for epoch in range(num_epochs):\n",
        "    #開始時刻の記録\n",
        "    s_time = time.time()\n",
        "\n",
        "    #訓練モードに設定\n",
        "    model.train()\n",
        "    for inputs, labels in dataloader_train:\n",
        "      #勾配をゼロで初期化\n",
        "      optimizer.zero_grad()\n",
        "\n",
        "      #順伝播 + 誤差逆伝播 + 重み更新\n",
        "      outputs = model(inputs)\n",
        "      loss = criterion(outputs, labels)\n",
        "      loss.backward()\n",
        "      optimizer.step()\n",
        "\n",
        "    #損失と正解率の算出\n",
        "    loss_train, acc_train = calculate_loss_and_accuracy(model, criterion, dataloader_train)\n",
        "    loss_valid, acc_valid = calculate_loss_and_accuracy(model, criterion, dataloader_valid)\n",
        "    log_train.append([loss_train, acc_train])\n",
        "    log_valid.append([loss_valid, acc_valid])\n",
        "\n",
        "    #チェックポイントの保存\n",
        "    torch.save({'epoch': epoch, 'model_state_dict': model.state_dict(), 'optimizer_state_dict': optimizer.state_dict()}, f'checkpoint{epoch + 1}.pt')\n",
        "\n",
        "    #終了時刻の記録\n",
        "    e_time = time.time()\n",
        "\n",
        "    cal_time = e_time - s_time\n",
        "\n",
        "    #ログを出力\n",
        "    print(f'epoch: {epoch + 1}, loss_train: {loss_train:.4f}, accuracy_train: {acc_train:.4f}, loss_valid: {loss_valid:.4f}, accuracy_valid: {acc_valid:.4f}, {cal_time:.4f}sec') \n",
        "\n",
        "  return {'train': log_train, 'valid': log_valid}"
      ],
      "execution_count": null,
      "outputs": []
    },
    {
      "cell_type": "code",
      "metadata": {
        "colab": {
          "base_uri": "https://localhost:8080/"
        },
        "id": "FCITqLQVKUHw",
        "outputId": "b55de96f-44ac-425b-85a8-5b32dccbceed"
      },
      "source": [
        "#datasetの作成\n",
        "dataset_train = NewsDataset(X_train, y_train)\n",
        "dataset_valid = NewsDataset(X_valid, y_valid)\n",
        "\n",
        "#モデルの定義\n",
        "model = SLPNet(300, 4)\n",
        "\n",
        "#損失関数の定義\n",
        "criterion = nn.CrossEntropyLoss()\n",
        "\n",
        "#オプティマイザの定義\n",
        "optimizer = torch.optim.SGD(model.parameters(), lr=1e-1)\n",
        "\n",
        "time_list = []\n",
        "\n",
        "#モデルの学習\n",
        "for batch_size in [2 ** i for i in range(11)]:\n",
        "  print(f'バッチサイズ: {batch_size}')\n",
        "  log, cal_time = train_model(dataset_train, dataset_valid, batch_size, model, criterion, optimizer, 1)"
      ],
      "execution_count": null,
      "outputs": [
        {
          "output_type": "stream",
          "text": [
            "バッチサイズ: 1\n",
            "epoch: 1, loss_train: 0.3338, accuracy_train: 0.8819, loss_valid: 0.3559, accuracy_valid: 0.8698, 3.6899sec\n",
            "バッチサイズ: 2\n",
            "epoch: 1, loss_train: 0.3008, accuracy_train: 0.8984, loss_valid: 0.3275, accuracy_valid: 0.8847, 2.1633sec\n",
            "バッチサイズ: 4\n",
            "epoch: 1, loss_train: 0.2920, accuracy_train: 0.9024, loss_valid: 0.3227, accuracy_valid: 0.8847, 1.1703sec\n",
            "バッチサイズ: 8\n",
            "epoch: 1, loss_train: 0.2881, accuracy_train: 0.9040, loss_valid: 0.3195, accuracy_valid: 0.8855, 0.6405sec\n",
            "バッチサイズ: 16\n",
            "epoch: 1, loss_train: 0.2857, accuracy_train: 0.9031, loss_valid: 0.3178, accuracy_valid: 0.8847, 0.3946sec\n",
            "バッチサイズ: 32\n",
            "epoch: 1, loss_train: 0.2848, accuracy_train: 0.9030, loss_valid: 0.3173, accuracy_valid: 0.8840, 0.2653sec\n",
            "バッチサイズ: 64\n",
            "epoch: 1, loss_train: 0.2843, accuracy_train: 0.9032, loss_valid: 0.3171, accuracy_valid: 0.8847, 0.1890sec\n",
            "バッチサイズ: 128\n",
            "epoch: 1, loss_train: 0.2855, accuracy_train: 0.9033, loss_valid: 0.3170, accuracy_valid: 0.8847, 0.1520sec\n",
            "バッチサイズ: 256\n",
            "epoch: 1, loss_train: 0.2835, accuracy_train: 0.9033, loss_valid: 0.3170, accuracy_valid: 0.8847, 0.1336sec\n",
            "バッチサイズ: 512\n",
            "epoch: 1, loss_train: 0.2836, accuracy_train: 0.9033, loss_valid: 0.3169, accuracy_valid: 0.8847, 0.1198sec\n",
            "バッチサイズ: 1024\n",
            "epoch: 1, loss_train: 0.2824, accuracy_train: 0.9034, loss_valid: 0.3169, accuracy_valid: 0.8847, 0.1023sec\n"
          ],
          "name": "stdout"
        }
      ]
    },
    {
      "cell_type": "markdown",
      "metadata": {
        "id": "hv4gAVHc9Zkj"
      },
      "source": [
        "## 78. GPU上での学習\n",
        "\n",
        "問題77のコードを改変し，GPU上で学習を実行せよ．(デフォルトはCPU)"
      ]
    },
    {
      "cell_type": "code",
      "metadata": {
        "colab": {
          "base_uri": "https://localhost:8080/"
        },
        "id": "6fi6ouYDWnA3",
        "outputId": "4420bb52-8410-4215-9c50-65455829311a"
      },
      "source": [
        "torch.cuda.is_available()#GPUが使用可能かどうか"
      ],
      "execution_count": null,
      "outputs": [
        {
          "output_type": "execute_result",
          "data": {
            "text/plain": [
              "True"
            ]
          },
          "metadata": {
            "tags": []
          },
          "execution_count": 34
        }
      ]
    },
    {
      "cell_type": "code",
      "metadata": {
        "colab": {
          "base_uri": "https://localhost:8080/"
        },
        "id": "7FPK4wMtWTjT",
        "outputId": "57d2a997-97d2-4077-da74-3e32380cbdda"
      },
      "source": [
        "print(torch.cuda.get_device_name())#GPUの名称"
      ],
      "execution_count": null,
      "outputs": [
        {
          "output_type": "stream",
          "text": [
            "Tesla T4\n"
          ],
          "name": "stdout"
        }
      ]
    },
    {
      "cell_type": "code",
      "metadata": {
        "id": "QSQNou3ydX6l"
      },
      "source": [
        "def calculate_loss_and_accuracy(model, criterion, loader, device):\n",
        "  model.eval()\n",
        "  loss = 0.0\n",
        "  total = 0\n",
        "  correct = 0\n",
        "  with torch.no_grad():\n",
        "    for inputs, labels in loader:\n",
        "      inputs = inputs.to(device)\n",
        "      labels = labels.to(device)\n",
        "      outputs = model(inputs)\n",
        "      loss += criterion(outputs, labels).item()\n",
        "      pred = torch.argmax(outputs, dim=-1)\n",
        "      total += len(inputs)\n",
        "      correct += (pred == labels).sum().item()\n",
        "\n",
        "  return loss / len(loader), correct / total\n",
        "\n",
        "\n",
        "def train_model(dataset_train, dataset_valid, batch_size, model, criterion, optimizer, num_epochs, device=None):\n",
        "  #GPUに送る\n",
        "  model.to(device)#to()を用いて明示的にCPU-GPU間を移動する\n",
        "\n",
        "\n",
        "  #dataloaderの作成\n",
        "  dataloader_train = DataLoader(dataset_train, batch_size=batch_size, shuffle=True)\n",
        "  dataloader_valid = DataLoader(dataset_valid, batch_size=len(dataset_valid), shuffle=False)\n",
        "\n",
        "  #学習\n",
        "  log_train = []\n",
        "  log_valid = []\n",
        "  for epoch in range(num_epochs):\n",
        "    #開始時刻の記録\n",
        "    s_time = time.time()\n",
        "\n",
        "    #訓練モードに設定\n",
        "    model.train()\n",
        "    for inputs, labels in dataloader_train:\n",
        "      #勾配をゼロで初期化\n",
        "      optimizer.zero_grad()\n",
        "\n",
        "      #順伝播 + 誤差逆伝播 + 重み更新\n",
        "      inputs = inputs.to(device)\n",
        "      labels = labels.to(device)\n",
        "      outputs = model.forward(inputs)\n",
        "      loss = criterion(outputs, labels)\n",
        "      loss.backward()\n",
        "      optimizer.step()\n",
        "\n",
        "    #損失と正解率の算出\n",
        "    loss_train, acc_train = calculate_loss_and_accuracy(model, criterion, dataloader_train, device)\n",
        "    loss_valid, acc_valid = calculate_loss_and_accuracy(model, criterion, dataloader_valid, device)\n",
        "    log_train.append([loss_train, acc_train])\n",
        "    log_valid.append([loss_valid, acc_valid])\n",
        "\n",
        "    #チェックポイントの保存\n",
        "    torch.save({'epoch': epoch, 'model_state_dict': model.state_dict(), 'optimizer_state_dict': optimizer.state_dict()}, f'checkpoint{epoch + 1}.pt')\n",
        "\n",
        "    #終了時刻の記録\n",
        "    e_time = time.time()\n",
        "\n",
        "    #ログを出力\n",
        "    print(f'epoch: {epoch + 1}, loss_train: {loss_train:.4f}, accuracy_train: {acc_train:.4f}, loss_valid: {loss_valid:.4f}, accuracy_valid: {acc_valid:.4f}, {(e_time - s_time):.4f}sec') \n",
        "\n",
        "  return {'train': log_train, 'valid': log_valid}"
      ],
      "execution_count": null,
      "outputs": []
    },
    {
      "cell_type": "code",
      "metadata": {
        "colab": {
          "base_uri": "https://localhost:8080/"
        },
        "id": "VycbFdTSOdHg",
        "outputId": "39fac01f-6b7e-4a13-dffc-f4a59111f298"
      },
      "source": [
        "#datasetの作成\n",
        "dataset_train = NewsDataset(X_train, y_train)\n",
        "dataset_valid = NewsDataset(X_valid, y_valid)\n",
        "\n",
        "#モデルの定義\n",
        "model = SLPNet(300, 4)\n",
        "\n",
        "#損失関数の定義\n",
        "criterion = nn.CrossEntropyLoss()\n",
        "\n",
        "#オプティマイザの定義\n",
        "optimizer = torch.optim.SGD(model.parameters(), lr=1e-1)\n",
        "\n",
        "#デバイスの指定\n",
        "device = torch.device('cuda')\n",
        "\n",
        "#モデルの学習\n",
        "for batch_size in [2 ** i for i in range(11)]:\n",
        "  print(f'バッチサイズ: {batch_size}')\n",
        "  log = train_model(dataset_train, dataset_valid, batch_size, model, criterion, optimizer, 1, device=device)"
      ],
      "execution_count": null,
      "outputs": [
        {
          "output_type": "stream",
          "text": [
            "バッチサイズ: 1\n",
            "epoch: 1, loss_train: 0.3278, accuracy_train: 0.8867, loss_valid: 0.3742, accuracy_valid: 0.8638, 8.8176sec\n",
            "バッチサイズ: 2\n",
            "epoch: 1, loss_train: 0.2993, accuracy_train: 0.8975, loss_valid: 0.3473, accuracy_valid: 0.8825, 4.4167sec\n",
            "バッチサイズ: 4\n",
            "epoch: 1, loss_train: 0.2901, accuracy_train: 0.9031, loss_valid: 0.3393, accuracy_valid: 0.8832, 2.2919sec\n",
            "バッチサイズ: 8\n",
            "epoch: 1, loss_train: 0.2856, accuracy_train: 0.9037, loss_valid: 0.3363, accuracy_valid: 0.8847, 1.1809sec\n",
            "バッチサイズ: 16\n",
            "epoch: 1, loss_train: 0.2840, accuracy_train: 0.9042, loss_valid: 0.3348, accuracy_valid: 0.8862, 0.6542sec\n",
            "バッチサイズ: 32\n",
            "epoch: 1, loss_train: 0.2831, accuracy_train: 0.9043, loss_valid: 0.3343, accuracy_valid: 0.8855, 0.3822sec\n",
            "バッチサイズ: 64\n",
            "epoch: 1, loss_train: 0.2827, accuracy_train: 0.9047, loss_valid: 0.3340, accuracy_valid: 0.8855, 0.2456sec\n",
            "バッチサイズ: 128\n",
            "epoch: 1, loss_train: 0.2824, accuracy_train: 0.9048, loss_valid: 0.3338, accuracy_valid: 0.8855, 0.1757sec\n",
            "バッチサイズ: 256\n",
            "epoch: 1, loss_train: 0.2826, accuracy_train: 0.9048, loss_valid: 0.3338, accuracy_valid: 0.8855, 0.4348sec\n",
            "バッチサイズ: 512\n",
            "epoch: 1, loss_train: 0.2826, accuracy_train: 0.9048, loss_valid: 0.3337, accuracy_valid: 0.8855, 0.2685sec\n",
            "バッチサイズ: 1024\n",
            "epoch: 1, loss_train: 0.2863, accuracy_train: 0.9048, loss_valid: 0.3337, accuracy_valid: 0.8855, 0.1943sec\n"
          ],
          "name": "stdout"
        }
      ]
    },
    {
      "cell_type": "markdown",
      "metadata": {
        "id": "4pf9znncKUyM"
      },
      "source": [
        "## 79. 多層ニューラルネットワーク\n",
        "\n",
        "問題78のコードを改変し，バイアス項の導入や多層化など，ニューラルネットワークの形状を変更しながら，高性能なカテゴリ分類器を構築せよ"
      ]
    },
    {
      "cell_type": "markdown",
      "metadata": {
        "id": "z1wi0sJzUbfn"
      },
      "source": [
        "多層ニューラルネットワークMLPNetを\n",
        "定義"
      ]
    },
    {
      "cell_type": "code",
      "metadata": {
        "id": "yPPjFWiQdYeG"
      },
      "source": [
        "from torch.nn import functional as F\n",
        "\n",
        "class MLPNet(nn.Module):\n",
        "  def __init__(self, input_size, mid_size, output_size, mid_layers):\n",
        "    super().__init__()\n",
        "    self.mid_layers = mid_layers\n",
        "    self.fc = nn.Linear(input_size, mid_size)#入力層を定義\n",
        "    self.fc_mid = nn.Linear(mid_size, mid_size)#中間層を定義\n",
        "    self.fc_out = nn.Linear(mid_size, output_size)#出力層を定義 \n",
        "    self.bn = nn.BatchNorm1d(mid_size)#バッチノーマライゼーション（バッチ正規化）を行う\n",
        "\n",
        "  def forward(self, x):\n",
        "    x = F.relu(self.fc(x))#reluは活性化関数\n",
        "    for _ in range(self.mid_layers):\n",
        "      x = F.relu(self.bn(self.fc_mid(x)))#中間層の後にバッチノーマライゼーション\n",
        "    x = F.relu(self.fc_out(x))\n",
        "\n",
        "    return x"
      ],
      "execution_count": null,
      "outputs": []
    },
    {
      "cell_type": "markdown",
      "metadata": {
        "id": "X9mBfLIrVgCX"
      },
      "source": [
        "バッチノーマライゼーションについて\n",
        "\n",
        "https://arxiv.org/abs/1502.03167\n",
        "\n",
        "ミニバッチを学習する際に、ある層からの出力（チャネルごと）を平均が0で分散が1となるように出力を加工（正規化）してから（活性化関数を経由して）、次の層への入力とする手法。\n",
        "\n",
        "勾配消失や発散をさせることなく、学習を安定させることができる。"
      ]
    },
    {
      "cell_type": "code",
      "metadata": {
        "id": "_78Fo9LYXGCD"
      },
      "source": [
        "from torch import optim\n",
        "\n",
        "def calculate_loss_and_accuracy(model, criterion, loader, device):\n",
        "  model.eval()\n",
        "  loss = 0.0\n",
        "  total = 0\n",
        "  correct = 0\n",
        "  with torch.no_grad():\n",
        "    for inputs, labels in loader:\n",
        "      inputs = inputs.to(device)\n",
        "      labels = labels.to(device)\n",
        "      outputs = model(inputs)\n",
        "      loss += criterion(outputs, labels).item()\n",
        "      pred = torch.argmax(outputs, dim=-1)\n",
        "      total += len(inputs)\n",
        "      correct += (pred == labels).sum().item()\n",
        "\n",
        "  return loss / len(loader), correct / total\n",
        "\n",
        "\n",
        "def train_model(dataset_train, dataset_valid, batch_size, model, criterion, optimizer, num_epochs, device=None):\n",
        "  #GPUに送る\n",
        "  model.to(device)\n",
        "\n",
        "  #dataloaderの作成\n",
        "  dataloader_train = DataLoader(dataset_train, batch_size=batch_size, shuffle=True)\n",
        "  dataloader_valid = DataLoader(dataset_valid, batch_size=len(dataset_valid), shuffle=False)\n",
        "\n",
        "  #スケジューラの設定\n",
        "  scheduler = optim.lr_scheduler.CosineAnnealingLR(optimizer, num_epochs, eta_min=1e-5, last_epoch=-1)\n",
        "  #pytorchでは、schedulerを用いることで、学習の途中で学習率を変化させることができる\n",
        "\n",
        "  #学習\n",
        "  log_train = []\n",
        "  log_valid = []\n",
        "  for epoch in range(num_epochs):\n",
        "    #開始時刻の記録\n",
        "    s_time = time.time()\n",
        "\n",
        "    #訓練モードに設定\n",
        "    model.train()\n",
        "    for inputs, labels in dataloader_train:\n",
        "      #勾配をゼロで初期化\n",
        "      optimizer.zero_grad()\n",
        "\n",
        "      #順伝播 + 誤差逆伝播 + 重み更新\n",
        "      inputs = inputs.to(device)\n",
        "      labels = labels.to(device)\n",
        "      outputs = model.forward(inputs)\n",
        "      loss = criterion(outputs, labels)\n",
        "      loss.backward()\n",
        "      optimizer.step()\n",
        "\n",
        "    #損失と正解率の算出\n",
        "    loss_train, acc_train = calculate_loss_and_accuracy(model, criterion, dataloader_train, device)\n",
        "    loss_valid, acc_valid = calculate_loss_and_accuracy(model, criterion, dataloader_valid, device)\n",
        "    log_train.append([loss_train, acc_train])\n",
        "    log_valid.append([loss_valid, acc_valid])\n",
        "\n",
        "    #チェックポイントの保存\n",
        "    torch.save({'epoch': epoch, 'model_state_dict': model.state_dict(), 'optimizer_state_dict': optimizer.state_dict()}, f'checkpoint{epoch + 1}.pt')\n",
        "\n",
        "    #終了時刻の記録\n",
        "    e_time = time.time()\n",
        "\n",
        "    #ログを出力\n",
        "    print(f'epoch: {epoch + 1}, loss_train: {loss_train:.4f}, accuracy_train: {acc_train:.4f}, loss_valid: {loss_valid:.4f}, accuracy_valid: {acc_valid:.4f}, {(e_time - s_time):.4f}sec') \n",
        "\n",
        "    #検証データの損失が3エポック連続で低下しなかった場合は学習終了\n",
        "    if epoch > 2 and log_valid[epoch - 3][0] <= log_valid[epoch - 2][0] <= log_valid[epoch - 1][0] <= log_valid[epoch][0]:\n",
        "      break\n",
        "\n",
        "    #スケジューラを1ステップ進める\n",
        "    scheduler.step()\n",
        "\n",
        "  return {'train': log_train, 'valid': log_valid}"
      ],
      "execution_count": null,
      "outputs": []
    },
    {
      "cell_type": "markdown",
      "metadata": {
        "id": "Fr6rZAjuqROE"
      },
      "source": [
        "PyTorchのscheduler一覧\n",
        "\n",
        "・LambdaLR\n",
        "\n",
        "・StepLR\n",
        "\n",
        "・MultiStepLR\n",
        "\n",
        "・ExponentialLR\n",
        "\n",
        "・CosineAnnealingLR\n",
        "\n",
        "・ReduceLROnPlateau"
      ]
    },
    {
      "cell_type": "markdown",
      "metadata": {
        "id": "PFGi1GJ7q1mz"
      },
      "source": [
        "![8836d62c.png](data:image/png;base64,iVBORw0KGgoAAAANSUhEUgAAAYIAAAGeCAAAAAC8hVm1AAAM3UlEQVR42u3dDXAU5R3H8Q2gEAIlEGiRlyQmEDBHXiACvhXNESgQwVZQ8ZUKirwIOA5arNpUK2SKtThUy9CqqKGiJEosL1aZEiBKkJDBjOILKlSgVEASgiIvSe7f3bvcQUgCd3t7u/fy/Y1z2Tn22X/czz377MvNE0WIxVHYBRBAwC6AAAJ2AQQQBMVvseWmSy7qkvNyXdN/WabsabFVH+Vtn6rkaf+zSl4L/5pwu3uXKEpU3LhPIotgUdTwVzcVz4gubvpPh8pOttTqfUW50XeCsn0XJPh1WenzXXtVRxLBpqhZzp9fVfrU7N42Iy8+4jNBizlD8Kj6slxZEUkEo+NOuBc/HB7T3v6hurAtp0v0pdMbDkQJt6/o3z6rVFtho71D+5Efa0snOo1ZrzyvLV179fqB0bZVzp28a0xM/BP16uLhaT0u7rdU60dT+0b3unX/2Qeis1aruKZtr/m/U5oQfKr8MYII6qJvdS9WthtUWHR5u4/k+86/+GfJsnvdBPGXF67O7KQeGta0HldcfGXsXnXdFcrr9b2GOAm6pxa8k9P6S23f2v60frbykkhNSu+/rZ/barHI57OLNq24POFEIwL3aodjU99YNSy+KcE6pSiCCL5V5rkXx2u7uabzr6RcqTxrOE6IrRL1rX+IJNvV92ri5qivozqdkHnKZxpBm10iB1vN1/atultlwAiRJ9uq78k9cbUu5b3KW40I3Ks9cpE6NPz408YEv609uc12xenIJOjm3A2TusjR2CsK9p4hGK0unVTyZZfyYq2a6weKHGh9j8hnyiMawWXamt3v0/btQXVpYj+Rq4ZpKxZqkn9Nj1FPcvIbEbhXyx6mNb1bOeeMSFESD0XSGVHtmQNR67na62+iRHbc2FGxFXnGAnHtvPcVV+JFFiqrq6urM3vVa2OBczidpO1b7VM/KUE7YXVlgyxWHnx321bXnvcQuFfrP0FrOq8xweTy0t+3sjsiajju6j7x7HaHsxfEOWXKxrX6+ByCz5T8ci3qZ3tAwz5e3zzB0KucK5Yfk6uGq2/tboGg2V7wqHPoXhmJJ6W7Kyd0PiZyrEvD6X6luhsaEzgS72hos125r0TNu23vbJ4gr8vBhjUzR6kvj7dA0OxYoBH82MPmiCAC9dIsZ/nmt2e3L65sN7jozSHqGdHqsS9uWD2i475zCGRtm5uLNr4x5xmZFbXb2fSWmO+bJTjaP2XJhtVPj1OPMlHz1z/StwUC7YyoeFjvKK39zwu17HcRyHOmnRIFxw2KDyZ0b9N5REG9bG24Lvj85sS2XUdvPXcsENmSG9s24ZYtp7vaXS3fU5Y1SyBVDyRe1O2aRerneVrXDrktHYik4uq2PZ6cHau1dx3YChsITiVkOiKJwOILk3Q7t+msy2MvlxSNUtZBYF0eT2oXPbRYIIjoQAABgQACAgEEBAIICAQQEAggIBBAQCCAgEAAAYEAAgIBBAQCCAgEEBAIQosgLosYmDgdBFl8ZI1MFgQQQAABBBBAAAEEEEAAAQTBTXB3N5vzp2NWcloFBFYQbKpwEawd5SgbAoElB6I9LoKpr4mkHGie4PDCw1b98uFR2juC3FIRe7lzcWlWVnyjVRYqC63aD+FR2juCMRrB9hZ7gSWfRlfdMCjt/4HIqk+jq2gYlPaOYI06HA9ueTi26qMYHqXPTzCxe5ueLyxZIo4ZSQPKOSPi0gwCCIKcwNyDcqNqIV7aMAJzT00aVQvx0vSC8OkFBAIICAQQEAggMPHksJk6oVzaSAKzLpGaqRPKpekFYdULCAQQEAggIBBAQCCAgAQDQeCvUlusELKlDSYI/L2aFiuEbGl6Qbj1AgIBBAQCCAgEEBAIICAQQEAggEACe7vsAtsOzdLGEwTypvEFth2apekFYdgLCAQQEAggIBBAQCCAgEAAATGW4J2U5Hzt59Hr01NfgsACgrqkr0+l71QX5j8shzqfgsB8gi0jRRYsUBcWTHfsTq6HwHyCwikir85UF45d1z1mjfOtJnNWk4ASrNQI7tcsHnB8mVjjbS8IzH17r7YagqW9PBCN2SyS/aG3BIF5euXVVkOw9PkJai/dfSr9E3VhWp582+MwvcD8XiBr+yY9JUuWyH9HDLAVcFLKpRkEEEAAAQQQQAABBBBAAAEEEEAAAQQQQAABBBD4QmD0oxMfthdqpQNFYPQDRB+2F2ql6QVh2wsIBBAQCCAgEEBAIICAQAABgQACAgEEBAIICAQQkGAgMO4Zrs9bCqnSASQw7psMPm8ppErTC8K5FxAIICAQQEAggIBAAAGBAAJiCIF7wmQpyUgdBoEFBJ4Jk6sv+0YOQmABgWee0ucf5UBkDYFnwuQ5M64d9IrzLSZMNpfAM2HyzKE/HO7zBb3AwgNRfp7I5JUQmE/gmTD5U3vtcdvHEFhwUuqeMFkWXmZbxHDMpRkEvhMY8Rhd5zZCp3RgCYz4MonObYROaXpBmPcCAgEEBAIICAQQEAggIBBAQCCAgEAAAYEAAgIBBASCUCSotxlM4N9jdL9ah0jpJr3gtm+MJfDvyyR+tQ6R0k0IsjvYx44dSy+wsBdsdIaxgOE4cgk6dNTSoSME9AIIIIAAAggggAACCCCAAAIIIIAAAggggAACCCCAAAIIDCXQ+yDcgGkkQqG0GQR6vw5iwGQqoVCaXhARvYD4Q+CZMFm2tSqEwAICz4TJUpc9GgIrCDzzlMqi5yZBYAWBZ8Lk/cPqILCEwDNh8oQyaSBgzmqLDkSJCQkx3VbRC8wn8EyYrIYDkTUnpZ4JkyGwioBLMwgggAACCCCAAAIIIIAAAggggCBsCHx/HG7EH0LRtyHDKnu5JZMIfP9SiBF/Dkjfhgyr7OWW6AWR0gsIBBAQCCAgEEBAIICAQAABgQACAgEEBAIICAQQiE/PA417dBgKpc0j8OGpuHEP0EOhNL0ggnoBgQACAgEEBAIICAQQEAggIBBAQCCAgEAAAdFH4J6zenla2pUf+U3g1SMpo59bBX1pL+es/qBK1g3xm8CrB7NGP70N+tLezlktUtWDXmBBL/DMWa3m6SnOH0yYbO5Y4JmzWmRD/+8Yji0gOHMgqkz6gjMiKwg8c1Z/k/wBJ6XWnJS656yeEpuRkQUBl2YQQAABBBBAAAEEEEAAAQQQQBAeBOe/ex6YO/aWlz7vtk0nOP8zpMA8t7K89Hm3TS+IvF5AIICAQAABgQACAgEEBAIICAQQSMs3rQJ6jy5oS1tC0NKt24DeqQ7a0vSCyOwFBAIICAQQEAggIBBAQIKBoOmlognXp0FY2kKCpjdMTLhLE4Sl6QWR3AsIBBAQCCAgEEBwzhmaaaeFQVXacoKzr1NMuzgKqtL0AnoBgSBECNwTJjtmJadVGE7g6pUmHwqCpLS3BJ4Jk9eOcpQNMZzANTaZPCAGSWlvCTzzlE59TSTlQAB6ges/Sz6KFpb2gcAzYXJuqYi9XHvL4AmTLfkcWl7aBwLPhMljNILtARiOLfkcWl46eA5E5MIEngmT16jD8WBOSq04KXVPmOyYkTSgHAIuzSCAAAIIIIAAAggggAACCCCAIGgI4rIaJT7Ln8Rb1jhYSsfpIDC0U2QJpSGAgNJ+Eyz165dZKpT2m4AYEgggIH4QuL9w53P2Xtc/9Vk5ktMnp0pP87rMXP2Nq8f3679Fd+s/p9omntDT+u5uNnH/0guSU/5lDIHnC3c+50CFHOu786F8yX9YT/Nnbs0V3Y3v+rucqtbben/ij3LTMj2tN1WoBK6GO9NP7k6qM4TgzB8G15Nx76UckAMpOlrus/87V/Q2rkl0iOhuvb/Xkdrcd3W13mNzl9X22cgthhB4vnCnJ3t613RSf8TqaDp+e0mu6G28Y/CkzCk/6G0tz8Z0vU1fbY3A1XBmgcjkQkMIPF+405HvB72pdy+uni5+EJS33iqzH9Pbuir70OkbCvwkmKERFFl9IDo98hndR4N5PRN+Fn273kPJ/xJENo/R23rlZJFXpgfPgcjzhTuf47hzjvo6Vx2cHtJVWe0Fuhtf87nkzdXbemvqccddi3W11ghcDT9Rh+NLjRmOXV+405NSJS0jY+139j72I3oJdDfekZV2Q5Xu1r/rZ7vjpJ7WE7u36flCQ8OnklLWcWnG1TGBAAICAQQkYgjUs1cIIIgYgoLBGVPrYh4caD8kO4am/bJKvhyePvCrkmvH97vNAYEZ+fT60zL9FWW5PDFT0jbK43NkyFty4njJT/bVX1EKgRn5yyUZGSl5rWrl64yjvUW+Gnisp/NAlCMyrQACM7J4nvaqEWS6CGp6useCmcsgMCM7+xyUI/9RVsgf7pf0zZL3gAxdJSePQ2BiXs9IG1QW89igbOdwfEOV7MpOG/Q1BGYnhkszCLg0g4BAAAGBAAKiK/8HzO+Kfqd3uXkAAAAASUVORK5CYII=)"
      ]
    },
    {
      "cell_type": "code",
      "metadata": {
        "colab": {
          "base_uri": "https://localhost:8080/"
        },
        "id": "LD5beLXUXOhn",
        "outputId": "0b10ba3f-223a-4e30-d3dd-2b58d75a904d"
      },
      "source": [
        "#datasetの作成\n",
        "dataset_train = NewsDataset(X_train, y_train)\n",
        "dataset_valid = NewsDataset(X_valid, y_valid)\n",
        "\n",
        "#モデルの定義\n",
        "model = MLPNet(300, 200, 4, 1)\n",
        "\n",
        "#損失関数の定義\n",
        "criterion = nn.CrossEntropyLoss()\n",
        "\n",
        "#オプティマイザの定義\n",
        "optimizer = torch.optim.SGD(model.parameters(), lr=1e-3)\n",
        "\n",
        "#デバイスの指定\n",
        "device = torch.device('cuda')\n",
        "\n",
        "#モデルの学習\n",
        "log = train_model(dataset_train, dataset_valid, 64, model, criterion, optimizer, 1000, device)"
      ],
      "execution_count": null,
      "outputs": [
        {
          "output_type": "stream",
          "text": [
            "epoch: 1, loss_train: 0.8282, accuracy_train: 0.7662, loss_valid: 0.8280, accuracy_valid: 0.7582, 0.4051sec\n",
            "epoch: 2, loss_train: 0.6867, accuracy_train: 0.7758, loss_valid: 0.6888, accuracy_valid: 0.7702, 0.3910sec\n",
            "epoch: 3, loss_train: 0.6291, accuracy_train: 0.7858, loss_valid: 0.6342, accuracy_valid: 0.7822, 0.3764sec\n",
            "epoch: 4, loss_train: 0.5912, accuracy_train: 0.7930, loss_valid: 0.5997, accuracy_valid: 0.7844, 0.3847sec\n",
            "epoch: 5, loss_train: 0.5631, accuracy_train: 0.8007, loss_valid: 0.5739, accuracy_valid: 0.7927, 0.3816sec\n",
            "epoch: 6, loss_train: 0.5414, accuracy_train: 0.8112, loss_valid: 0.5540, accuracy_valid: 0.8024, 0.3975sec\n",
            "epoch: 7, loss_train: 0.5242, accuracy_train: 0.8175, loss_valid: 0.5384, accuracy_valid: 0.8054, 0.3727sec\n",
            "epoch: 8, loss_train: 0.5102, accuracy_train: 0.8240, loss_valid: 0.5262, accuracy_valid: 0.8106, 0.3826sec\n",
            "epoch: 9, loss_train: 0.4938, accuracy_train: 0.8297, loss_valid: 0.5110, accuracy_valid: 0.8136, 0.3942sec\n",
            "epoch: 10, loss_train: 0.4801, accuracy_train: 0.8336, loss_valid: 0.4985, accuracy_valid: 0.8174, 0.3827sec\n",
            "epoch: 11, loss_train: 0.4635, accuracy_train: 0.8399, loss_valid: 0.4838, accuracy_valid: 0.8256, 0.4058sec\n",
            "epoch: 12, loss_train: 0.4443, accuracy_train: 0.8500, loss_valid: 0.4656, accuracy_valid: 0.8331, 0.3819sec\n",
            "epoch: 13, loss_train: 0.4188, accuracy_train: 0.8603, loss_valid: 0.4416, accuracy_valid: 0.8436, 0.3719sec\n",
            "epoch: 14, loss_train: 0.4015, accuracy_train: 0.8736, loss_valid: 0.4245, accuracy_valid: 0.8555, 0.3897sec\n",
            "epoch: 15, loss_train: 0.3854, accuracy_train: 0.8792, loss_valid: 0.4096, accuracy_valid: 0.8615, 0.3950sec\n",
            "epoch: 16, loss_train: 0.3722, accuracy_train: 0.8822, loss_valid: 0.3981, accuracy_valid: 0.8653, 0.3718sec\n",
            "epoch: 17, loss_train: 0.3600, accuracy_train: 0.8887, loss_valid: 0.3861, accuracy_valid: 0.8698, 0.3901sec\n",
            "epoch: 18, loss_train: 0.3489, accuracy_train: 0.8919, loss_valid: 0.3759, accuracy_valid: 0.8743, 0.3758sec\n",
            "epoch: 19, loss_train: 0.3370, accuracy_train: 0.8929, loss_valid: 0.3660, accuracy_valid: 0.8795, 0.3721sec\n",
            "epoch: 20, loss_train: 0.3301, accuracy_train: 0.8957, loss_valid: 0.3600, accuracy_valid: 0.8825, 0.3730sec\n",
            "epoch: 21, loss_train: 0.3242, accuracy_train: 0.8978, loss_valid: 0.3550, accuracy_valid: 0.8832, 0.3807sec\n",
            "epoch: 22, loss_train: 0.3153, accuracy_train: 0.8989, loss_valid: 0.3479, accuracy_valid: 0.8840, 0.3865sec\n",
            "epoch: 23, loss_train: 0.3106, accuracy_train: 0.9018, loss_valid: 0.3434, accuracy_valid: 0.8885, 0.3722sec\n",
            "epoch: 24, loss_train: 0.3041, accuracy_train: 0.9019, loss_valid: 0.3388, accuracy_valid: 0.8847, 0.3732sec\n",
            "epoch: 25, loss_train: 0.2982, accuracy_train: 0.9042, loss_valid: 0.3340, accuracy_valid: 0.8885, 0.3773sec\n",
            "epoch: 26, loss_train: 0.2936, accuracy_train: 0.9065, loss_valid: 0.3299, accuracy_valid: 0.8930, 0.3731sec\n",
            "epoch: 27, loss_train: 0.2889, accuracy_train: 0.9078, loss_valid: 0.3266, accuracy_valid: 0.8907, 0.3681sec\n",
            "epoch: 28, loss_train: 0.2836, accuracy_train: 0.9085, loss_valid: 0.3231, accuracy_valid: 0.8915, 0.3834sec\n",
            "epoch: 29, loss_train: 0.2816, accuracy_train: 0.9099, loss_valid: 0.3218, accuracy_valid: 0.8967, 0.3779sec\n",
            "epoch: 30, loss_train: 0.2758, accuracy_train: 0.9103, loss_valid: 0.3174, accuracy_valid: 0.8930, 0.3766sec\n",
            "epoch: 31, loss_train: 0.2723, accuracy_train: 0.9115, loss_valid: 0.3156, accuracy_valid: 0.8937, 0.3763sec\n",
            "epoch: 32, loss_train: 0.2691, accuracy_train: 0.9123, loss_valid: 0.3138, accuracy_valid: 0.8960, 0.3682sec\n",
            "epoch: 33, loss_train: 0.2668, accuracy_train: 0.9136, loss_valid: 0.3121, accuracy_valid: 0.8967, 0.3754sec\n",
            "epoch: 34, loss_train: 0.2650, accuracy_train: 0.9142, loss_valid: 0.3113, accuracy_valid: 0.8997, 0.3711sec\n",
            "epoch: 35, loss_train: 0.2613, accuracy_train: 0.9154, loss_valid: 0.3091, accuracy_valid: 0.8975, 0.3707sec\n",
            "epoch: 36, loss_train: 0.2575, accuracy_train: 0.9158, loss_valid: 0.3067, accuracy_valid: 0.8997, 0.4001sec\n",
            "epoch: 37, loss_train: 0.2552, accuracy_train: 0.9168, loss_valid: 0.3052, accuracy_valid: 0.8975, 0.3999sec\n",
            "epoch: 38, loss_train: 0.2512, accuracy_train: 0.9171, loss_valid: 0.3036, accuracy_valid: 0.9004, 0.3956sec\n",
            "epoch: 39, loss_train: 0.2490, accuracy_train: 0.9186, loss_valid: 0.3021, accuracy_valid: 0.8982, 0.3865sec\n",
            "epoch: 40, loss_train: 0.2467, accuracy_train: 0.9203, loss_valid: 0.3014, accuracy_valid: 0.9012, 0.3948sec\n",
            "epoch: 41, loss_train: 0.2445, accuracy_train: 0.9201, loss_valid: 0.3010, accuracy_valid: 0.8975, 0.4124sec\n",
            "epoch: 42, loss_train: 0.2427, accuracy_train: 0.9206, loss_valid: 0.2996, accuracy_valid: 0.8997, 0.3975sec\n",
            "epoch: 43, loss_train: 0.2410, accuracy_train: 0.9213, loss_valid: 0.2993, accuracy_valid: 0.9019, 0.3804sec\n",
            "epoch: 44, loss_train: 0.2382, accuracy_train: 0.9228, loss_valid: 0.2977, accuracy_valid: 0.8967, 0.3781sec\n",
            "epoch: 45, loss_train: 0.2355, accuracy_train: 0.9234, loss_valid: 0.2966, accuracy_valid: 0.8982, 0.3697sec\n",
            "epoch: 46, loss_train: 0.2344, accuracy_train: 0.9241, loss_valid: 0.2973, accuracy_valid: 0.8952, 0.3829sec\n",
            "epoch: 47, loss_train: 0.2319, accuracy_train: 0.9257, loss_valid: 0.2949, accuracy_valid: 0.8975, 0.3711sec\n",
            "epoch: 48, loss_train: 0.2312, accuracy_train: 0.9249, loss_valid: 0.2953, accuracy_valid: 0.8990, 0.3832sec\n",
            "epoch: 49, loss_train: 0.2286, accuracy_train: 0.9260, loss_valid: 0.2941, accuracy_valid: 0.8990, 0.3867sec\n",
            "epoch: 50, loss_train: 0.2273, accuracy_train: 0.9275, loss_valid: 0.2935, accuracy_valid: 0.8997, 0.3721sec\n",
            "epoch: 51, loss_train: 0.2252, accuracy_train: 0.9288, loss_valid: 0.2927, accuracy_valid: 0.8982, 0.3847sec\n",
            "epoch: 52, loss_train: 0.2232, accuracy_train: 0.9286, loss_valid: 0.2926, accuracy_valid: 0.9004, 0.3789sec\n",
            "epoch: 53, loss_train: 0.2217, accuracy_train: 0.9288, loss_valid: 0.2926, accuracy_valid: 0.9004, 0.4039sec\n",
            "epoch: 54, loss_train: 0.2200, accuracy_train: 0.9294, loss_valid: 0.2916, accuracy_valid: 0.9012, 0.3950sec\n",
            "epoch: 55, loss_train: 0.2184, accuracy_train: 0.9295, loss_valid: 0.2917, accuracy_valid: 0.9004, 0.3726sec\n",
            "epoch: 56, loss_train: 0.2166, accuracy_train: 0.9314, loss_valid: 0.2907, accuracy_valid: 0.8990, 0.3749sec\n",
            "epoch: 57, loss_train: 0.2151, accuracy_train: 0.9327, loss_valid: 0.2904, accuracy_valid: 0.9012, 0.3842sec\n",
            "epoch: 58, loss_train: 0.2133, accuracy_train: 0.9317, loss_valid: 0.2905, accuracy_valid: 0.9004, 0.3667sec\n",
            "epoch: 59, loss_train: 0.2113, accuracy_train: 0.9335, loss_valid: 0.2897, accuracy_valid: 0.9012, 0.4005sec\n",
            "epoch: 60, loss_train: 0.2106, accuracy_train: 0.9338, loss_valid: 0.2898, accuracy_valid: 0.9004, 0.3696sec\n",
            "epoch: 61, loss_train: 0.2085, accuracy_train: 0.9334, loss_valid: 0.2892, accuracy_valid: 0.8997, 0.3711sec\n",
            "epoch: 62, loss_train: 0.2076, accuracy_train: 0.9331, loss_valid: 0.2893, accuracy_valid: 0.9004, 0.3821sec\n",
            "epoch: 63, loss_train: 0.2067, accuracy_train: 0.9351, loss_valid: 0.2891, accuracy_valid: 0.9012, 0.3739sec\n",
            "epoch: 64, loss_train: 0.2042, accuracy_train: 0.9358, loss_valid: 0.2884, accuracy_valid: 0.9019, 0.3804sec\n",
            "epoch: 65, loss_train: 0.2037, accuracy_train: 0.9364, loss_valid: 0.2887, accuracy_valid: 0.9019, 0.3885sec\n",
            "epoch: 66, loss_train: 0.2033, accuracy_train: 0.9352, loss_valid: 0.2892, accuracy_valid: 0.9004, 0.3811sec\n",
            "epoch: 67, loss_train: 0.2006, accuracy_train: 0.9364, loss_valid: 0.2880, accuracy_valid: 0.9004, 0.3810sec\n",
            "epoch: 68, loss_train: 0.2015, accuracy_train: 0.9373, loss_valid: 0.2901, accuracy_valid: 0.9019, 0.3726sec\n",
            "epoch: 69, loss_train: 0.1979, accuracy_train: 0.9379, loss_valid: 0.2878, accuracy_valid: 0.9012, 0.3872sec\n",
            "epoch: 70, loss_train: 0.1968, accuracy_train: 0.9382, loss_valid: 0.2879, accuracy_valid: 0.9019, 0.3919sec\n",
            "epoch: 71, loss_train: 0.1948, accuracy_train: 0.9393, loss_valid: 0.2875, accuracy_valid: 0.9027, 0.3895sec\n",
            "epoch: 72, loss_train: 0.1939, accuracy_train: 0.9397, loss_valid: 0.2874, accuracy_valid: 0.9027, 0.3832sec\n",
            "epoch: 73, loss_train: 0.1927, accuracy_train: 0.9393, loss_valid: 0.2877, accuracy_valid: 0.9034, 0.3801sec\n",
            "epoch: 74, loss_train: 0.1924, accuracy_train: 0.9396, loss_valid: 0.2881, accuracy_valid: 0.9019, 0.3707sec\n",
            "epoch: 75, loss_train: 0.1912, accuracy_train: 0.9400, loss_valid: 0.2879, accuracy_valid: 0.9042, 0.3946sec\n",
            "epoch: 76, loss_train: 0.1889, accuracy_train: 0.9412, loss_valid: 0.2876, accuracy_valid: 0.9042, 0.3743sec\n",
            "epoch: 77, loss_train: 0.1872, accuracy_train: 0.9415, loss_valid: 0.2884, accuracy_valid: 0.9042, 0.3816sec\n",
            "epoch: 78, loss_train: 0.1868, accuracy_train: 0.9424, loss_valid: 0.2869, accuracy_valid: 0.9049, 0.3833sec\n",
            "epoch: 79, loss_train: 0.1856, accuracy_train: 0.9428, loss_valid: 0.2869, accuracy_valid: 0.9042, 0.3904sec\n",
            "epoch: 80, loss_train: 0.1841, accuracy_train: 0.9435, loss_valid: 0.2873, accuracy_valid: 0.9027, 0.3868sec\n",
            "epoch: 81, loss_train: 0.1831, accuracy_train: 0.9438, loss_valid: 0.2869, accuracy_valid: 0.9049, 0.3777sec\n",
            "epoch: 82, loss_train: 0.1819, accuracy_train: 0.9438, loss_valid: 0.2869, accuracy_valid: 0.9042, 0.3734sec\n",
            "epoch: 83, loss_train: 0.1815, accuracy_train: 0.9446, loss_valid: 0.2884, accuracy_valid: 0.9057, 0.3879sec\n",
            "epoch: 84, loss_train: 0.1802, accuracy_train: 0.9454, loss_valid: 0.2870, accuracy_valid: 0.9064, 0.3863sec\n",
            "epoch: 85, loss_train: 0.1785, accuracy_train: 0.9447, loss_valid: 0.2872, accuracy_valid: 0.9034, 0.3802sec\n",
            "epoch: 86, loss_train: 0.1782, accuracy_train: 0.9446, loss_valid: 0.2869, accuracy_valid: 0.9042, 0.3862sec\n",
            "epoch: 87, loss_train: 0.1762, accuracy_train: 0.9462, loss_valid: 0.2870, accuracy_valid: 0.9042, 0.3808sec\n",
            "epoch: 88, loss_train: 0.1770, accuracy_train: 0.9453, loss_valid: 0.2909, accuracy_valid: 0.9064, 0.3893sec\n",
            "epoch: 89, loss_train: 0.1736, accuracy_train: 0.9465, loss_valid: 0.2868, accuracy_valid: 0.9049, 0.3825sec\n",
            "epoch: 90, loss_train: 0.1735, accuracy_train: 0.9463, loss_valid: 0.2873, accuracy_valid: 0.9027, 0.3786sec\n",
            "epoch: 91, loss_train: 0.1712, accuracy_train: 0.9466, loss_valid: 0.2865, accuracy_valid: 0.9049, 0.3788sec\n",
            "epoch: 92, loss_train: 0.1709, accuracy_train: 0.9486, loss_valid: 0.2867, accuracy_valid: 0.9057, 0.3759sec\n",
            "epoch: 93, loss_train: 0.1706, accuracy_train: 0.9469, loss_valid: 0.2887, accuracy_valid: 0.9034, 0.3757sec\n",
            "epoch: 94, loss_train: 0.1690, accuracy_train: 0.9486, loss_valid: 0.2865, accuracy_valid: 0.9049, 0.3702sec\n",
            "epoch: 95, loss_train: 0.1681, accuracy_train: 0.9482, loss_valid: 0.2858, accuracy_valid: 0.9049, 0.3956sec\n",
            "epoch: 96, loss_train: 0.1668, accuracy_train: 0.9486, loss_valid: 0.2867, accuracy_valid: 0.9049, 0.3969sec\n",
            "epoch: 97, loss_train: 0.1659, accuracy_train: 0.9486, loss_valid: 0.2865, accuracy_valid: 0.9057, 0.3767sec\n",
            "epoch: 98, loss_train: 0.1653, accuracy_train: 0.9499, loss_valid: 0.2885, accuracy_valid: 0.9072, 0.4047sec\n",
            "epoch: 99, loss_train: 0.1638, accuracy_train: 0.9509, loss_valid: 0.2878, accuracy_valid: 0.9072, 0.3853sec\n",
            "epoch: 100, loss_train: 0.1618, accuracy_train: 0.9516, loss_valid: 0.2870, accuracy_valid: 0.9057, 0.3775sec\n",
            "epoch: 101, loss_train: 0.1610, accuracy_train: 0.9510, loss_valid: 0.2867, accuracy_valid: 0.9042, 0.4130sec\n",
            "epoch: 102, loss_train: 0.1607, accuracy_train: 0.9518, loss_valid: 0.2864, accuracy_valid: 0.9034, 0.3704sec\n",
            "epoch: 103, loss_train: 0.1586, accuracy_train: 0.9526, loss_valid: 0.2877, accuracy_valid: 0.9079, 0.3818sec\n",
            "epoch: 104, loss_train: 0.1577, accuracy_train: 0.9519, loss_valid: 0.2875, accuracy_valid: 0.9064, 0.3769sec\n",
            "epoch: 105, loss_train: 0.1573, accuracy_train: 0.9523, loss_valid: 0.2878, accuracy_valid: 0.9064, 0.3831sec\n",
            "epoch: 106, loss_train: 0.1568, accuracy_train: 0.9525, loss_valid: 0.2878, accuracy_valid: 0.9064, 0.3831sec\n",
            "epoch: 107, loss_train: 0.1551, accuracy_train: 0.9531, loss_valid: 0.2872, accuracy_valid: 0.9057, 0.3873sec\n",
            "epoch: 108, loss_train: 0.1542, accuracy_train: 0.9530, loss_valid: 0.2874, accuracy_valid: 0.9049, 0.3784sec\n",
            "epoch: 109, loss_train: 0.1531, accuracy_train: 0.9544, loss_valid: 0.2877, accuracy_valid: 0.9072, 0.3869sec\n",
            "epoch: 110, loss_train: 0.1525, accuracy_train: 0.9541, loss_valid: 0.2884, accuracy_valid: 0.9079, 0.3820sec\n"
          ],
          "name": "stdout"
        }
      ]
    },
    {
      "cell_type": "code",
      "metadata": {
        "colab": {
          "base_uri": "https://localhost:8080/",
          "height": 334
        },
        "id": "-OCggM4MXpCj",
        "outputId": "877ac74e-64ca-4881-e48a-1d0e471cef6e"
      },
      "source": [
        "fig, ax = plt.subplots(1, 2, figsize=(15, 5))\n",
        "ax[0].plot(np.array(log['train']).T[0], label='train')\n",
        "ax[0].plot(np.array(log['valid']).T[0], label='valid')\n",
        "ax[0].set_xlabel('epoch')\n",
        "ax[0].set_ylabel('loss')\n",
        "ax[0].legend()\n",
        "ax[1].plot(np.array(log['train']).T[1], label='train')\n",
        "ax[1].plot(np.array(log['valid']).T[1], label='valid')\n",
        "ax[1].set_xlabel('epoch')\n",
        "ax[1].set_ylabel('accuracy')\n",
        "ax[1].legend()\n",
        "plt.show()"
      ],
      "execution_count": null,
      "outputs": [
        {
          "output_type": "display_data",
          "data": {
            "image/png": "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\n",
            "text/plain": [
              "<Figure size 1080x360 with 2 Axes>"
            ]
          },
          "metadata": {
            "tags": [],
            "needs_background": "light"
          }
        }
      ]
    },
    {
      "cell_type": "markdown",
      "metadata": {
        "id": "Yaq3waSZbh9W"
      },
      "source": [
        "精度の計算\n"
      ]
    },
    {
      "cell_type": "code",
      "metadata": {
        "id": "9ciYywBpXwTO"
      },
      "source": [
        "def calculate_accuracy(model, loader, device):\n",
        "  model.eval()\n",
        "  total = 0\n",
        "  correct = 0\n",
        "  with torch.no_grad():\n",
        "    for inputs, labels in loader:\n",
        "      inputs = inputs.to(device)\n",
        "      labels = labels.to(device)\n",
        "      outputs = model(inputs)\n",
        "      pred = torch.argmax(outputs, dim=-1)\n",
        "      total += len(inputs)\n",
        "      correct += (pred == labels).sum().item()\n",
        "\n",
        "  return correct / total"
      ],
      "execution_count": null,
      "outputs": []
    },
    {
      "cell_type": "code",
      "metadata": {
        "id": "ZszaZb_yX0xO",
        "colab": {
          "base_uri": "https://localhost:8080/"
        },
        "outputId": "8fbf7839-1544-4241-b8cf-4800de4a8457"
      },
      "source": [
        "acc_train = calculate_accuracy(model, dataloader_train, device)\n",
        "acc_test = calculate_accuracy(model, dataloader_test, device)\n",
        "print(f'正解率（学習データ）：{acc_train:.3f}')\n",
        "print(f'正解率（評価データ）：{acc_test:.3f}')"
      ],
      "execution_count": null,
      "outputs": [
        {
          "output_type": "stream",
          "text": [
            "正解率（学習データ）：0.954\n",
            "正解率（評価データ）：0.913\n"
          ],
          "name": "stdout"
        }
      ]
    }
  ]
}
