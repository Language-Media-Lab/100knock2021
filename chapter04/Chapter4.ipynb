{
  "nbformat": 4,
  "nbformat_minor": 0,
  "metadata": {
    "colab": {
      "name": "Chapter4.ipynb",
      "provenance": [],
      "collapsed_sections": []
    },
    "kernelspec": {
      "name": "python3",
      "display_name": "Python 3"
    }
  },
  "cells": [
    {
      "cell_type": "markdown",
      "metadata": {
        "id": "d9okSLEQK2Y-"
      },
      "source": [
        "# 言語処理100本ノック　第4章 形態素解析"
      ]
    },
    {
      "cell_type": "markdown",
      "metadata": {
        "id": "LIa_x_GYK_1p"
      },
      "source": [
        "## 30. 形態素解析結果の読み込み  \n",
        "形態素解析結果（neko.txt.mecab）を読み込むプログラムを実装せよ．ただし，各形態素は表層形（surface），基本形（base），品詞（pos），品詞細分類1（pos1）をキーとするマッピング型に格納し，1文を形態素（マッピング型）のリストとして表現せよ．第4章の残りの問題では，ここで作ったプログラムを活用せよ．"
      ]
    },
    {
      "cell_type": "code",
      "metadata": {
        "colab": {
          "base_uri": "https://localhost:8080/"
        },
        "id": "xVB5B4IgK9Aa",
        "outputId": "c28e22c0-8ddf-4770-cf85-2c0970ff130e"
      },
      "source": [
        "!wget https://nlp100.github.io/data/neko.txt"
      ],
      "execution_count": 1,
      "outputs": [
        {
          "output_type": "stream",
          "text": [
            "--2021-05-26 05:43:12--  https://nlp100.github.io/data/neko.txt\n",
            "Resolving nlp100.github.io (nlp100.github.io)... 185.199.109.153, 185.199.110.153, 185.199.111.153, ...\n",
            "Connecting to nlp100.github.io (nlp100.github.io)|185.199.109.153|:443... connected.\n",
            "HTTP request sent, awaiting response... 200 OK\n",
            "Length: 975789 (953K) [text/plain]\n",
            "Saving to: ‘neko.txt’\n",
            "\n",
            "neko.txt            100%[===================>] 952.92K  --.-KB/s    in 0.04s   \n",
            "\n",
            "2021-05-26 05:43:12 (23.9 MB/s) - ‘neko.txt’ saved [975789/975789]\n",
            "\n"
          ],
          "name": "stdout"
        }
      ]
    },
    {
      "cell_type": "code",
      "metadata": {
        "colab": {
          "base_uri": "https://localhost:8080/"
        },
        "id": "doIdO_54K13N",
        "outputId": "4109c58f-8651-478d-e144-65141c296b0b"
      },
      "source": [
        "# 形態素分析ライブラリーMeCab と 辞書(mecab-ipadic-NEologd)のインストール \n",
        "!apt-get -q -y install sudo file mecab libmecab-dev mecab-ipadic-utf8 git curl python-mecab > /dev/null\n",
        "!git clone --depth 1 https://github.com/neologd/mecab-ipadic-neologd.git > /dev/null \n",
        "!echo yes | mecab-ipadic-neologd/bin/install-mecab-ipadic-neologd -n > /dev/null 2>&1\n",
        "!pip install mecab-python3 > /dev/null\n",
        "\n",
        "# シンボリックリンクによるエラー回避\n",
        "!ln -s /etc/mecabrc /usr/local/etc/mecabrc"
      ],
      "execution_count": 2,
      "outputs": [
        {
          "output_type": "stream",
          "text": [
            "Cloning into 'mecab-ipadic-neologd'...\n",
            "remote: Enumerating objects: 75, done.\u001b[K\n",
            "remote: Counting objects: 100% (75/75), done.\u001b[K\n",
            "remote: Compressing objects: 100% (74/74), done.\u001b[K\n",
            "remote: Total 75 (delta 5), reused 54 (delta 0), pack-reused 0\u001b[K\n",
            "Unpacking objects: 100% (75/75), done.\n"
          ],
          "name": "stdout"
        }
      ]
    },
    {
      "cell_type": "code",
      "metadata": {
        "id": "aJeSr3SSOPdF"
      },
      "source": [
        "!mecab -o ./neko.txt.mecab ./neko.txt"
      ],
      "execution_count": 3,
      "outputs": []
    },
    {
      "cell_type": "code",
      "metadata": {
        "colab": {
          "base_uri": "https://localhost:8080/"
        },
        "id": "PLbU1LIDOYov",
        "outputId": "99cb0c18-ee23-4121-8773-45d0cf486dc9"
      },
      "source": [
        "!head -18 ./neko.txt.mecab"
      ],
      "execution_count": 4,
      "outputs": [
        {
          "output_type": "stream",
          "text": [
            "一\t名詞,数,*,*,*,*,一,イチ,イチ\n",
            "\r\t記号,一般,*,*,*,*,*\n",
            "EOS\n",
            "\r\t記号,一般,*,*,*,*,*\n",
            "EOS\n",
            "　\t記号,空白,*,*,*,*,　,　,　\n",
            "吾輩\t名詞,代名詞,一般,*,*,*,吾輩,ワガハイ,ワガハイ\n",
            "は\t助詞,係助詞,*,*,*,*,は,ハ,ワ\n",
            "猫\t名詞,一般,*,*,*,*,猫,ネコ,ネコ\n",
            "で\t助動詞,*,*,*,特殊・ダ,連用形,だ,デ,デ\n",
            "ある\t助動詞,*,*,*,五段・ラ行アル,基本形,ある,アル,アル\n",
            "。\t記号,句点,*,*,*,*,。,。,。\n",
            "\r\t記号,一般,*,*,*,*,*\n",
            "EOS\n",
            "名前\t名詞,一般,*,*,*,*,名前,ナマエ,ナマエ\n",
            "は\t助詞,係助詞,*,*,*,*,は,ハ,ワ\n",
            "まだ\t副詞,助詞類接続,*,*,*,*,まだ,マダ,マダ\n",
            "無い\t形容詞,自立,*,*,形容詞・アウオ段,基本形,無い,ナイ,ナイ\n"
          ],
          "name": "stdout"
        }
      ]
    },
    {
      "cell_type": "code",
      "metadata": {
        "id": "PzR1zgHQPLRz"
      },
      "source": [
        "filename = \"./neko.txt.mecab\"\n",
        "sentences = []\n",
        "ans = []\n",
        "\n",
        "with open(filename,\"r\") as f:\n",
        "  for line in f:\n",
        "    if line != \"EOS\\n\": # 文末以外を追加\n",
        "        fields = line.split('\\t')\n",
        "        if len(fields) != 2 or fields[0] == '':  # 文頭以外の空白と改行文字はスキップ\n",
        "          continue\n",
        "        else:\n",
        "          word_dic = {\"surface\":fields[0], \"base\":fields[1].split(',')[6], \"pos\":fields[1].split(',')[0], \"pos1\":fields[1].split(',')[1] }\n",
        "          ans.append(word_dic)\n",
        "    else:\n",
        "        sentences.append(ans)\n",
        "        ans = []\n"
      ],
      "execution_count": 5,
      "outputs": []
    },
    {
      "cell_type": "code",
      "metadata": {
        "colab": {
          "base_uri": "https://localhost:8080/"
        },
        "id": "BWpdh4mbZgbx",
        "outputId": "2a21974e-4728-48fd-b9f1-45a0542ff17a"
      },
      "source": [
        "for i in range(5):\n",
        "  print(sentences[i])"
      ],
      "execution_count": 6,
      "outputs": [
        {
          "output_type": "stream",
          "text": [
            "[{'surface': '一', 'base': '一', 'pos': '名詞', 'pos1': '数'}]\n",
            "[]\n",
            "[{'surface': '\\u3000', 'base': '\\u3000', 'pos': '記号', 'pos1': '空白'}, {'surface': '吾輩', 'base': '吾輩', 'pos': '名詞', 'pos1': '代名詞'}, {'surface': 'は', 'base': 'は', 'pos': '助詞', 'pos1': '係助詞'}, {'surface': '猫', 'base': '猫', 'pos': '名詞', 'pos1': '一般'}, {'surface': 'で', 'base': 'だ', 'pos': '助動詞', 'pos1': '*'}, {'surface': 'ある', 'base': 'ある', 'pos': '助動詞', 'pos1': '*'}, {'surface': '。', 'base': '。', 'pos': '記号', 'pos1': '句点'}]\n",
            "[{'surface': '名前', 'base': '名前', 'pos': '名詞', 'pos1': '一般'}, {'surface': 'は', 'base': 'は', 'pos': '助詞', 'pos1': '係助詞'}, {'surface': 'まだ', 'base': 'まだ', 'pos': '副詞', 'pos1': '助詞類接続'}, {'surface': '無い', 'base': '無い', 'pos': '形容詞', 'pos1': '自立'}, {'surface': '。', 'base': '。', 'pos': '記号', 'pos1': '句点'}]\n",
            "[]\n"
          ],
          "name": "stdout"
        }
      ]
    },
    {
      "cell_type": "markdown",
      "metadata": {
        "id": "ZYbrpPZ02YDF"
      },
      "source": [
        "## 31. 動詞\n",
        "動詞の表層形をすべて抽出せよ．"
      ]
    },
    {
      "cell_type": "code",
      "metadata": {
        "id": "DUCVTm_wbLxm",
        "colab": {
          "base_uri": "https://localhost:8080/"
        },
        "outputId": "013dd01a-9bb5-4880-d94e-e33c5dec960e"
      },
      "source": [
        "verbs = []\n",
        "for sentence in sentences:\n",
        "  for word in sentence:\n",
        "    if '動詞' == (word['pos']) :\n",
        "      verbs.append(word[\"surface\"])\n",
        "print(\"重複有りの場合, 動詞の数 = {}\".format(len(verbs)))"
      ],
      "execution_count": 7,
      "outputs": [
        {
          "output_type": "stream",
          "text": [
            "重複有りの場合, 動詞の数 = 28906\n"
          ],
          "name": "stdout"
        }
      ]
    },
    {
      "cell_type": "code",
      "metadata": {
        "colab": {
          "base_uri": "https://localhost:8080/"
        },
        "id": "Q66QsKoK1OjC",
        "outputId": "485c6b86-ca72-4775-8836-ce5d710f1db4"
      },
      "source": [
        "verbs = list(set(verbs))\n",
        "print(\"重複無しの場合, 動詞の数 = {}\\n例を以下に示す\\n\".format(len(verbs)))\n",
        "for i in range(10):\n",
        "  print(verbs[i])"
      ],
      "execution_count": 8,
      "outputs": [
        {
          "output_type": "stream",
          "text": [
            "重複無しの場合, 動詞の数 = 3893\n",
            "例を以下に示す\n",
            "\n",
            "にたて\n",
            "放つ\n",
            "呼び立て\n",
            "構う\n",
            "やむ\n",
            "引け\n",
            "捕まっ\n",
            "始め\n",
            "直す\n",
            "仰せつけ\n"
          ],
          "name": "stdout"
        }
      ]
    },
    {
      "cell_type": "markdown",
      "metadata": {
        "id": "zb98LWTX2gyQ"
      },
      "source": [
        "## 32. 動詞の基本形\n",
        "動詞の基本形をすべて抽出せよ．"
      ]
    },
    {
      "cell_type": "code",
      "metadata": {
        "colab": {
          "base_uri": "https://localhost:8080/"
        },
        "id": "9C8bJ24n2jxA",
        "outputId": "054f2e2f-b350-4d85-b9a7-47ad0440d589"
      },
      "source": [
        "verbs_base = []\n",
        "for sentence in sentences:\n",
        "  for word in sentence:\n",
        "    if '動詞' == (word['pos']) :\n",
        "      verbs_base.append(word[\"base\"])\n",
        "print(\"重複有りの場合, 動詞(基本形)の数 = {}\".format(len(verbs_base)))"
      ],
      "execution_count": 9,
      "outputs": [
        {
          "output_type": "stream",
          "text": [
            "重複有りの場合, 動詞(基本形)の数 = 28906\n"
          ],
          "name": "stdout"
        }
      ]
    },
    {
      "cell_type": "code",
      "metadata": {
        "id": "ciZ2rNd12ts1",
        "colab": {
          "base_uri": "https://localhost:8080/"
        },
        "outputId": "d4282925-65a9-43cf-e2e7-691ff8b4ce57"
      },
      "source": [
        "verbs_base = list(set(verbs_base))\n",
        "print(\"重複無しの場合, 動詞(基本形)の数 = {}\\n例を以下に示す\\n\".format(len(verbs_base)))\n",
        "for i in range(10):\n",
        "  print(verbs_base[i])"
      ],
      "execution_count": 10,
      "outputs": [
        {
          "output_type": "stream",
          "text": [
            "重複無しの場合, 動詞(基本形)の数 = 2300\n",
            "例を以下に示す\n",
            "\n",
            "小突く\n",
            "放つ\n",
            "構う\n",
            "差す\n",
            "やむ\n",
            "あげる\n",
            "厭く\n",
            "おどろかす\n",
            "直す\n",
            "刈る\n"
          ],
          "name": "stdout"
        }
      ]
    },
    {
      "cell_type": "markdown",
      "metadata": {
        "id": "1K3Ds0igAExe"
      },
      "source": [
        "## 33. 「AのB」\n",
        "2つの名詞が「の」で連結されている名詞句を抽出せよ"
      ]
    },
    {
      "cell_type": "code",
      "metadata": {
        "id": "1RqaLHbx2yS0",
        "colab": {
          "base_uri": "https://localhost:8080/"
        },
        "outputId": "9cd1d6ea-87eb-4371-e24b-b341aab28acf"
      },
      "source": [
        "nouns = []\n",
        "for sentence in sentences:\n",
        "  for i in range(len(sentence)):\n",
        "    if i+2 >= len(sentence):\n",
        "      break\n",
        "    if '名詞' == (sentence[i][\"pos\"]) and '助詞' == (sentence[i+1]['pos']) and 'の' == (sentence[i+1]['surface'])  and '名詞' == (sentence[i+2]['pos'])  :\n",
        "      nouns.append(sentence[i][\"surface\"] + sentence[i+1][\"surface\"] + sentence[i+2][\"surface\"])\n",
        "\n",
        "print(\"重複有りの場合, 「の」で連結されている名詞句の数 = {}\".format(len(nouns)))"
      ],
      "execution_count": 11,
      "outputs": [
        {
          "output_type": "stream",
          "text": [
            "重複有りの場合, 「の」で連結されている名詞句の数 = 6044\n"
          ],
          "name": "stdout"
        }
      ]
    },
    {
      "cell_type": "code",
      "metadata": {
        "colab": {
          "base_uri": "https://localhost:8080/"
        },
        "id": "5HZXafoWBGtD",
        "outputId": "4cab9ea7-2605-4c39-f5b2-c8f156bb9f00"
      },
      "source": [
        "verbs_base = list(set(verbs_base))\n",
        "print(\"重複無しの場合,「の」で連結されている名詞句の数 = {}\\n例を以下に示す\\n\".format(len(nouns)))\n",
        "for i in range(10):\n",
        "  print(nouns[i])"
      ],
      "execution_count": 12,
      "outputs": [
        {
          "output_type": "stream",
          "text": [
            "重複無しの場合,「の」で連結されている名詞句の数 = 6044\n",
            "例を以下に示す\n",
            "\n",
            "彼の掌\n",
            "掌の上\n",
            "書生の顔\n",
            "はずの顔\n",
            "顔の真中\n",
            "穴の中\n",
            "書生の掌\n",
            "掌の裏\n",
            "何の事\n",
            "肝心の母親\n"
          ],
          "name": "stdout"
        }
      ]
    },
    {
      "cell_type": "markdown",
      "metadata": {
        "id": "rIMshXTlGEnh"
      },
      "source": [
        "## 34.  名詞の連接\n",
        "名詞の連接（連続して出現する名詞）を最長一致で抽出せよ．"
      ]
    },
    {
      "cell_type": "code",
      "metadata": {
        "colab": {
          "base_uri": "https://localhost:8080/"
        },
        "id": "9IBu_p0tFvYp",
        "outputId": "1d3c4235-c6da-41b6-cebb-dc76cf72e330"
      },
      "source": [
        "nouns_long = []\n",
        "max_noun=\"\"\n",
        "max=2\n",
        "\n",
        "for sentence in sentences:\n",
        "  n=0\n",
        "  nouns = \"\"\n",
        "  for i in range(len(sentence)):\n",
        "    if '名詞' == (sentence[i][\"pos\"]): ##名詞のとき\n",
        "      nouns = ''.join([nouns,sentence[i][\"surface\"]])\n",
        "      n += 1\n",
        "    elif n>=2: ##以下,名詞以外のとき\n",
        "      nouns_long.append(nouns)\n",
        "      if max<n:\n",
        "        max = n\n",
        "        max_noun=nouns\n",
        "      n=0\n",
        "      nouns=\"\"\n",
        "      \n",
        "    else:\n",
        "      n=0\n",
        "      nouns=\"\"\n",
        "  if n>=2:\n",
        "    nouns_long.append(nouns)\n",
        "\n",
        "\n",
        "print(\"重複有りの場合, 連接名詞の数 = {}\".format(len(nouns_long)))\n",
        "for n in nouns_long[:10]:\n",
        "  print(n)"
      ],
      "execution_count": 13,
      "outputs": [
        {
          "output_type": "stream",
          "text": [
            "重複有りの場合, 連接名詞の数 = 7338\n",
            "人間中\n",
            "一番獰悪\n",
            "時妙\n",
            "一毛\n",
            "その後猫\n",
            "一度\n",
            "ぷうぷうと煙\n",
            "邸内\n",
            "三毛\n",
            "書生以外\n"
          ],
          "name": "stdout"
        }
      ]
    },
    {
      "cell_type": "code",
      "metadata": {
        "colab": {
          "base_uri": "https://localhost:8080/"
        },
        "id": "nltINYQjKfD7",
        "outputId": "6a1d4b3c-f505-42ac-c1c1-d0882d76f07d"
      },
      "source": [
        "nouns_long = list(set(nouns_long))\n",
        "print(\"重複無しの場合,連接名詞の数 = {}\\n例を以下に示す\\n\".format(len(nouns_long)))\n",
        "for i in range(10):\n",
        "  print(nouns_long[i])"
      ],
      "execution_count": 14,
      "outputs": [
        {
          "output_type": "stream",
          "text": [
            "重複無しの場合,連接名詞の数 = 4457\n",
            "例を以下に示す\n",
            "\n",
            "八時半頃\n",
            "君代さん\n",
            "直径一寸\n",
            "もっとも集\n",
            "なあに二三行\n",
            "ため逆上\n",
            "先生そこ\n",
            "儘卓上\n",
            "吾等猫族\n",
            "当人自身\n"
          ],
          "name": "stdout"
        }
      ]
    },
    {
      "cell_type": "code",
      "metadata": {
        "id": "n9XO-j9wLQmM"
      },
      "source": [
        "nouns_long = sorted(nouns_long, reverse=True)"
      ],
      "execution_count": 15,
      "outputs": []
    },
    {
      "cell_type": "markdown",
      "metadata": {
        "id": "qjOVwp82v3GK"
      },
      "source": [
        "## 35. 単語の出現頻度\n",
        "文章中に出現する単語とその出現頻度を求め，出現頻度の高い順に並べよ．"
      ]
    },
    {
      "cell_type": "code",
      "metadata": {
        "colab": {
          "base_uri": "https://localhost:8080/"
        },
        "id": "2mZvK521MSNx",
        "outputId": "3d706835-0d55-4b33-8583-72217828e826"
      },
      "source": [
        "words_list = []\n",
        "for sentence in sentences:\n",
        "  for word in sentence:\n",
        "      words_list.append(word[\"base\"])\n",
        "print(\"重複有りの場合, 単語の数 = {}\".format(len(words_list)))"
      ],
      "execution_count": 16,
      "outputs": [
        {
          "output_type": "stream",
          "text": [
            "重複有りの場合, 単語の数 = 206338\n"
          ],
          "name": "stdout"
        }
      ]
    },
    {
      "cell_type": "code",
      "metadata": {
        "id": "f5n90JNexkKS"
      },
      "source": [
        "import collections\n",
        "c = collections.Counter(words_list)"
      ],
      "execution_count": 17,
      "outputs": []
    },
    {
      "cell_type": "code",
      "metadata": {
        "colab": {
          "base_uri": "https://localhost:8080/"
        },
        "id": "wEHmbsSAzoyG",
        "outputId": "9b0b624a-3706-4fcc-9722-62f0ccbc2c60"
      },
      "source": [
        "type(c)"
      ],
      "execution_count": 18,
      "outputs": [
        {
          "output_type": "execute_result",
          "data": {
            "text/plain": [
              "collections.Counter"
            ]
          },
          "metadata": {
            "tags": []
          },
          "execution_count": 18
        }
      ]
    },
    {
      "cell_type": "code",
      "metadata": {
        "id": "vbKlBKimx2Kn"
      },
      "source": [
        "c =  sorted(c.items(), key=lambda x: -x[1])"
      ],
      "execution_count": 19,
      "outputs": []
    },
    {
      "cell_type": "markdown",
      "metadata": {
        "id": "ODiV7Mgnz935"
      },
      "source": [
        "## 36. 頻度上位10語\n",
        "出現頻度が高い10語とその出現頻度をグラフ（例えば棒グラフなど）で表示せよ．"
      ]
    },
    {
      "cell_type": "code",
      "metadata": {
        "colab": {
          "base_uri": "https://localhost:8080/"
        },
        "id": "k3o-G4R_1rBq",
        "outputId": "27a62eee-c7bc-44c4-8417-65c8b9b3150c"
      },
      "source": [
        "pip install japanize-matplotlib"
      ],
      "execution_count": 20,
      "outputs": [
        {
          "output_type": "stream",
          "text": [
            "Collecting japanize-matplotlib\n",
            "\u001b[?25l  Downloading https://files.pythonhosted.org/packages/aa/85/08a4b7fe8987582d99d9bb7ad0ff1ec75439359a7f9690a0dbf2dbf98b15/japanize-matplotlib-1.1.3.tar.gz (4.1MB)\n",
            "\u001b[K     |████████████████████████████████| 4.1MB 8.5MB/s \n",
            "\u001b[?25hRequirement already satisfied: matplotlib in /usr/local/lib/python3.7/dist-packages (from japanize-matplotlib) (3.2.2)\n",
            "Requirement already satisfied: pyparsing!=2.0.4,!=2.1.2,!=2.1.6,>=2.0.1 in /usr/local/lib/python3.7/dist-packages (from matplotlib->japanize-matplotlib) (2.4.7)\n",
            "Requirement already satisfied: python-dateutil>=2.1 in /usr/local/lib/python3.7/dist-packages (from matplotlib->japanize-matplotlib) (2.8.1)\n",
            "Requirement already satisfied: numpy>=1.11 in /usr/local/lib/python3.7/dist-packages (from matplotlib->japanize-matplotlib) (1.19.5)\n",
            "Requirement already satisfied: kiwisolver>=1.0.1 in /usr/local/lib/python3.7/dist-packages (from matplotlib->japanize-matplotlib) (1.3.1)\n",
            "Requirement already satisfied: cycler>=0.10 in /usr/local/lib/python3.7/dist-packages (from matplotlib->japanize-matplotlib) (0.10.0)\n",
            "Requirement already satisfied: six>=1.5 in /usr/local/lib/python3.7/dist-packages (from python-dateutil>=2.1->matplotlib->japanize-matplotlib) (1.15.0)\n",
            "Building wheels for collected packages: japanize-matplotlib\n",
            "  Building wheel for japanize-matplotlib (setup.py) ... \u001b[?25l\u001b[?25hdone\n",
            "  Created wheel for japanize-matplotlib: filename=japanize_matplotlib-1.1.3-cp37-none-any.whl size=4120276 sha256=5046954f6a7975186cc7e5c0143d7b30af0885bf1ea850a1a0704e22d0c582bc\n",
            "  Stored in directory: /root/.cache/pip/wheels/b7/d9/a2/f907d50b32a2d2008ce5d691d30fb6569c2c93eefcfde55202\n",
            "Successfully built japanize-matplotlib\n",
            "Installing collected packages: japanize-matplotlib\n",
            "Successfully installed japanize-matplotlib-1.1.3\n"
          ],
          "name": "stdout"
        }
      ]
    },
    {
      "cell_type": "code",
      "metadata": {
        "id": "t-_7dwh80qx9"
      },
      "source": [
        "import matplotlib.pyplot as plt\n",
        "import japanize_matplotlib"
      ],
      "execution_count": 21,
      "outputs": []
    },
    {
      "cell_type": "code",
      "metadata": {
        "colab": {
          "base_uri": "https://localhost:8080/"
        },
        "id": "cRpbh0F2yzaA",
        "outputId": "4a605a6e-fa82-4353-ef9f-25460cb0b938"
      },
      "source": [
        "x =[] \n",
        "y = []\n",
        "for i in range(10):\n",
        "  x.append(c[i][0])\n",
        "  y.append(c[i][1])\n",
        "  print(c[i])"
      ],
      "execution_count": 22,
      "outputs": [
        {
          "output_type": "stream",
          "text": [
            "('の', 9194)\n",
            "('。', 7486)\n",
            "('て', 6848)\n",
            "('、', 6772)\n",
            "('は', 6420)\n",
            "('に', 6243)\n",
            "('を', 6071)\n",
            "('だ', 5972)\n",
            "('と', 5508)\n",
            "('が', 5337)\n"
          ],
          "name": "stdout"
        }
      ]
    },
    {
      "cell_type": "code",
      "metadata": {
        "colab": {
          "base_uri": "https://localhost:8080/",
          "height": 280
        },
        "id": "BdupchOJxtbt",
        "outputId": "bdb4cfdc-c6a5-4ffb-f484-a2e6c4a8008a"
      },
      "source": [
        "plt.bar(x,y)\n",
        "plt.title(\"出現頻度が高い10語\")\n",
        "plt.show()"
      ],
      "execution_count": 23,
      "outputs": [
        {
          "output_type": "display_data",
          "data": {
            "image/png": "[encoded data removed]",
            "text/plain": [
              "<Figure size 432x288 with 1 Axes>"
            ]
          },
          "metadata": {
            "tags": [],
            "needs_background": "light"
          }
        }
      ]
    },
    {
      "cell_type": "markdown",
      "metadata": {
        "id": "d1Sm7r-Q19nD"
      },
      "source": [
        "## 37. 「猫」と共起頻度の高い上位10語\n",
        "「猫」とよく共起する（共起頻度が高い）10語とその出現頻度をグラフ（例えば棒グラフなど）で表示せよ"
      ]
    },
    {
      "cell_type": "code",
      "metadata": {
        "colab": {
          "base_uri": "https://localhost:8080/"
        },
        "id": "INLLDL3Z3ZgU",
        "outputId": "a3506eb6-da84-40f1-a240-599d7e8699b1"
      },
      "source": [
        "neko_list = []\n",
        "for sentence in sentences:\n",
        "  for i in range(len(sentence)):\n",
        "     if '猫' == (sentence[i]['surface']):\n",
        "      neko_list.append(sentence[i+1][\"base\"])\n",
        "\n",
        "print(\"重複有りの場合, 「猫」とよく共起する単語の数 = {}\".format(len(neko_list)))"
      ],
      "execution_count": 24,
      "outputs": [
        {
          "output_type": "stream",
          "text": [
            "重複有りの場合, 「猫」とよく共起する単語の数 = 248\n"
          ],
          "name": "stdout"
        }
      ]
    },
    {
      "cell_type": "code",
      "metadata": {
        "id": "ZzIdx2b73vNd"
      },
      "source": [
        "neko_cnt = collections.Counter(neko_list)\n",
        "neko_cnt =  sorted(neko_cnt.items(), key=lambda x: -x[1])"
      ],
      "execution_count": 25,
      "outputs": []
    },
    {
      "cell_type": "code",
      "metadata": {
        "colab": {
          "base_uri": "https://localhost:8080/"
        },
        "id": "VdEzHLFL3tcz",
        "outputId": "24e6efca-6075-422d-ebfb-a87b0ad49d48"
      },
      "source": [
        "x =[] \n",
        "y = []\n",
        "for i in range(10):\n",
        "  x.append(neko_cnt[i][0])\n",
        "  y.append(neko_cnt[i][1])\n",
        "  print(neko_cnt[i])"
      ],
      "execution_count": 26,
      "outputs": [
        {
          "output_type": "stream",
          "text": [
            "('の', 46)\n",
            "('だ', 33)\n",
            "('と', 21)\n",
            "('に', 20)\n",
            "('が', 20)\n",
            "('で', 9)\n",
            "('は', 9)\n",
            "('を', 8)\n",
            "('だって', 7)\n",
            "('など', 7)\n"
          ],
          "name": "stdout"
        }
      ]
    },
    {
      "cell_type": "code",
      "metadata": {
        "colab": {
          "base_uri": "https://localhost:8080/",
          "height": 280
        },
        "id": "sHV85i4q5P5e",
        "outputId": "054db3f3-1482-43f7-bd11-d5c665a0f48e"
      },
      "source": [
        "plt.bar(x,y)\n",
        "plt.title(\"猫」と共起頻度の高い上位10語\")\n",
        "plt.show()"
      ],
      "execution_count": 27,
      "outputs": [
        {
          "output_type": "display_data",
          "data": {
            "image/png": "[encoded data removed]",
            "text/plain": [
              "<Figure size 432x288 with 1 Axes>"
            ]
          },
          "metadata": {
            "tags": [],
            "needs_background": "light"
          }
        }
      ]
    },
    {
      "cell_type": "markdown",
      "metadata": {
        "id": "QDY58pyL6T2d"
      },
      "source": [
        "## 38. ヒストグラム\n",
        "単語の出現頻度のヒストグラムを描け．ただし，横軸は出現頻度を表し，1から単語の出現頻度の最大値までの線形目盛とする．縦軸はx軸で示される出現頻度となった単語の異なり数（種類数）である．"
      ]
    },
    {
      "cell_type": "code",
      "metadata": {
        "colab": {
          "base_uri": "https://localhost:8080/"
        },
        "id": "z08cdm-yTgV2",
        "outputId": "dc28c0fc-6222-4281-ee7b-51a2c14e2b1d"
      },
      "source": [
        "from collections import defaultdict\n",
        "words_dict = defaultdict(int)\n",
        "for sentence in sentences:\n",
        "  for word in sentence:\n",
        "      words_dict[word[\"base\"]] += 1\n",
        "print(\"重複有りの場合, 単語の数 = {}\".format(len(words_dict)))"
      ],
      "execution_count": 47,
      "outputs": [
        {
          "output_type": "stream",
          "text": [
            "重複有りの場合, 単語の数 = 11251\n"
          ],
          "name": "stdout"
        }
      ]
    },
    {
      "cell_type": "code",
      "metadata": {
        "colab": {
          "base_uri": "https://localhost:8080/",
          "height": 278
        },
        "id": "oUHN_dbT6Voz",
        "outputId": "f261aa9b-a879-4b39-fea7-8e22dbcc6ecb"
      },
      "source": [
        "plt.hist(words_dict.values(), bins=50)\n",
        "plt.xlabel('単語の出現頻度')\n",
        "plt.ylabel('単語の種類数')\n",
        "plt.show()"
      ],
      "execution_count": 48,
      "outputs": [
        {
          "output_type": "display_data",
          "data": {
            "image/png": "[encoded data removed]",
            "text/plain": [
              "<Figure size 432x288 with 1 Axes>"
            ]
          },
          "metadata": {
            "tags": [],
            "needs_background": "light"
          }
        }
      ]
    },
    {
      "cell_type": "markdown",
      "metadata": {
        "id": "RQK9fn7gVobG"
      },
      "source": [
        "## 39. Zipfの法則\n",
        "単語の出現頻度順位を横軸，その出現頻度を縦軸として，両対数グラフをプロットせよ"
      ]
    },
    {
      "cell_type": "code",
      "metadata": {
        "colab": {
          "base_uri": "https://localhost:8080/",
          "height": 283
        },
        "id": "i0Al81wbVtBG",
        "outputId": "441b0561-942a-4db4-c227-f62de01a8ba7"
      },
      "source": [
        "words_dict = sorted(words_dict.items(), key=lambda x: x[1], reverse=True)\n",
        "y = [i+1 for i in range(len(words_dict))]\n",
        "x = [i[1] for i in words_dict]\n",
        "plt.scatter(x,y)\n",
        "ax = plt.gca()\n",
        "ax.set_yscale('log') \n",
        "ax.set_xscale('log')\n",
        "plt.xlabel('単語の出現頻度')\n",
        "plt.ylabel('単語の種類数')\n",
        "plt.show()"
      ],
      "execution_count": 49,
      "outputs": [
        {
          "output_type": "display_data",
          "data": {
            "image/png": "[encoded data removed]",
            "text/plain": [
              "<Figure size 432x288 with 1 Axes>"
            ]
          },
          "metadata": {
            "tags": [],
            "needs_background": "light"
          }
        }
      ]
    },
    {
      "cell_type": "markdown",
      "metadata": {
        "id": "Kh8iWaTrr4d2"
      },
      "source": [
        "2021/05/26追記：**離散的なデータなので、点でプロットしたほうが良い。**"
      ]
    }
  ]
}