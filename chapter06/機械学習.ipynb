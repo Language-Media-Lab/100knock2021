{
  "nbformat": 4,
  "nbformat_minor": 0,
  "metadata": {
    "accelerator": "GPU",
    "colab": {
      "name": "機械学習.ipynb",
      "provenance": [],
      "machine_shape": "hm"
    },
    "kernelspec": {
      "display_name": "Python 3",
      "name": "python3"
    },
    "language_info": {
      "name": "python"
    }
  },
  "cells": [
    {
      "cell_type": "markdown",
      "metadata": {
        "id": "JwBZtGRdkAyq"
      },
      "source": [
        "## 50"
      ]
    },
    {
      "cell_type": "code",
      "metadata": {
        "colab": {
          "base_uri": "https://localhost:8080/"
        },
        "id": "Xo8zkRgwjgx-",
        "outputId": "74f4a85a-9be8-4ea7-f07a-63c8e559fd63"
      },
      "source": [
        "!wget https://archive.ics.uci.edu/ml/machine-learning-databases/00359/NewsAggregatorDataset.zip\n",
        "!unzip NewsAggregatorDataset.zip"
      ],
      "execution_count": null,
      "outputs": [
        {
          "output_type": "stream",
          "text": [
            "--2021-06-08 16:58:24--  https://archive.ics.uci.edu/ml/machine-learning-databases/00359/NewsAggregatorDataset.zip\n",
            "Resolving archive.ics.uci.edu (archive.ics.uci.edu)... 128.195.10.252\n",
            "Connecting to archive.ics.uci.edu (archive.ics.uci.edu)|128.195.10.252|:443... connected.\n",
            "HTTP request sent, awaiting response... 200 OK\n",
            "Length: 29224203 (28M) [application/x-httpd-php]\n",
            "Saving to: ‘NewsAggregatorDataset.zip’\n",
            "\n",
            "NewsAggregatorDatas 100%[===================>]  27.87M  11.6MB/s    in 2.4s    \n",
            "\n",
            "2021-06-08 16:58:28 (11.6 MB/s) - ‘NewsAggregatorDataset.zip’ saved [29224203/29224203]\n",
            "\n",
            "Archive:  NewsAggregatorDataset.zip\n",
            "  inflating: 2pageSessions.csv       \n",
            "   creating: __MACOSX/\n",
            "  inflating: __MACOSX/._2pageSessions.csv  \n",
            "  inflating: newsCorpora.csv         \n",
            "  inflating: __MACOSX/._newsCorpora.csv  \n",
            "  inflating: readme.txt              \n",
            "  inflating: __MACOSX/._readme.txt   \n"
          ],
          "name": "stdout"
        }
      ]
    },
    {
      "cell_type": "code",
      "metadata": {
        "id": "F-jKmNv7ks_a"
      },
      "source": [
        "!sed -e 's/\"/'\\''/g' ./newsCorpora.csv > ./newsCorpora_re.csv"
      ],
      "execution_count": null,
      "outputs": []
    },
    {
      "cell_type": "code",
      "metadata": {
        "id": "akblfV7_jp9P"
      },
      "source": [
        "import pandas as pd\n",
        "from sklearn.model_selection import train_test_split\n",
        "\n",
        "df = pd.read_csv('newsCorpora_re.csv', header=None, sep='\\t', names=['ID', 'TITLE', 'URL', 'PUBLISHER', 'CATEGORY', 'STORY', 'HOSTNAME', 'TIMESTAMP'])\n",
        "df = df.loc[df['PUBLISHER'].isin(['Reuters', 'Huffington Post', 'Businessweek', 'Contactmusic.com', 'Daily Mail']), ['TITLE', 'CATEGORY']]\n",
        "train, valid_test = train_test_split(df, test_size=0.2, shuffle=True, random_state=123, stratify=df['CATEGORY'])\n",
        "valid, test = train_test_split(valid_test, test_size=0.5, shuffle=True, random_state=123, stratify=valid_test['CATEGORY'])\n",
        "\n",
        "train.to_csv('train.txt', sep='\\t', index=False)\n",
        "valid.to_csv('valid.txt', sep='\\t', index=False)\n",
        "test.to_csv('test.txt', sep='\\t', index=False)"
      ],
      "execution_count": null,
      "outputs": []
    },
    {
      "cell_type": "code",
      "metadata": {
        "colab": {
          "base_uri": "https://localhost:8080/"
        },
        "id": "P_o270xIkcxY",
        "outputId": "d27eedc1-0416-466e-82b2-de0277c3af70"
      },
      "source": [
        "train['CATEGORY'].value_counts(),valid['CATEGORY'].value_counts(),test['CATEGORY'].value_counts()"
      ],
      "execution_count": null,
      "outputs": [
        {
          "output_type": "execute_result",
          "data": {
            "text/plain": [
              "(b    4501\n",
              " e    4235\n",
              " t    1220\n",
              " m     728\n",
              " Name: CATEGORY, dtype: int64, b    563\n",
              " e    529\n",
              " t    153\n",
              " m     91\n",
              " Name: CATEGORY, dtype: int64, b    563\n",
              " e    530\n",
              " t    152\n",
              " m     91\n",
              " Name: CATEGORY, dtype: int64)"
            ]
          },
          "metadata": {
            "tags": []
          },
          "execution_count": 10
        }
      ]
    },
    {
      "cell_type": "markdown",
      "metadata": {
        "id": "AdI4utq_k4aL"
      },
      "source": [
        "## 51"
      ]
    },
    {
      "cell_type": "code",
      "metadata": {
        "colab": {
          "base_uri": "https://localhost:8080/"
        },
        "id": "ca244ViTkvZT",
        "outputId": "48c4c11c-67d4-4d4e-d757-338067aca885"
      },
      "source": [
        "import string\n",
        "import re\n",
        "\n",
        "def preprocessing(text):\n",
        "    table = str.maketrans(string.punctuation, ' '*len(string.punctuation))\n",
        "    text = re.sub('[0-9]+', '0', text.translate(table).lower()) \n",
        "    return text\n",
        "df = pd.concat([train, valid, test], axis=0)\n",
        "df.reset_index(drop=True, inplace=True) \n",
        "df['TITLE'] = df['TITLE'].map(lambda x: preprocessing(x))\n",
        "print(df.head())\n"
      ],
      "execution_count": null,
      "outputs": [
        {
          "output_type": "stream",
          "text": [
            "                                               TITLE CATEGORY\n",
            "0  refile update 0 european car sales up for sixt...        b\n",
            "1  amazon plans to fight ftc over mobile app purc...        t\n",
            "2  kids still get codeine in emergency rooms desp...        m\n",
            "3  what on earth happened between solange and jay...        e\n",
            "4  nato missile defense is flight tested over hawaii        b\n"
          ],
          "name": "stdout"
        }
      ]
    },
    {
      "cell_type": "code",
      "metadata": {
        "colab": {
          "base_uri": "https://localhost:8080/"
        },
        "id": "2Euwfd8Zlbpx",
        "outputId": "d42649c3-ce32-40ac-b792-cb68f0786830"
      },
      "source": [
        "from sklearn.feature_extraction.text import TfidfVectorizer\n",
        "\n",
        "train_valid = df[:len(train) + len(valid)]\n",
        "test = df[len(train) + len(valid):]\n",
        "vec_tfidf = TfidfVectorizer(min_df=10, ngram_range=(1, 2)) \n",
        "X_train_valid = vec_tfidf.fit_transform(train_valid['TITLE']) \n",
        "X_test = vec_tfidf.transform(test['TITLE'])\n",
        "X_train_valid = pd.DataFrame(X_train_valid.toarray(), columns=vec_tfidf.get_feature_names())\n",
        "X_test = pd.DataFrame(X_test.toarray(), columns=vec_tfidf.get_feature_names())\n",
        "X_train = X_train_valid[:len(train)]\n",
        "X_valid = X_train_valid[len(train):]\n",
        "X_train.to_csv('X_train.txt', sep='\\t', index=False)\n",
        "X_valid.to_csv('X_valid.txt', sep='\\t', index=False)\n",
        "X_test.to_csv('X_test.txt', sep='\\t', index=False)\n",
        "\n",
        "print(X_train.head())"
      ],
      "execution_count": null,
      "outputs": [
        {
          "output_type": "stream",
          "text": [
            "    0m  0million  0nd   0s  0st  ...  yuan  zac  zac efron  zendaya  zone\n",
            "0  0.0       0.0  0.0  0.0  0.0  ...   0.0  0.0        0.0      0.0   0.0\n",
            "1  0.0       0.0  0.0  0.0  0.0  ...   0.0  0.0        0.0      0.0   0.0\n",
            "2  0.0       0.0  0.0  0.0  0.0  ...   0.0  0.0        0.0      0.0   0.0\n",
            "3  0.0       0.0  0.0  0.0  0.0  ...   0.0  0.0        0.0      0.0   0.0\n",
            "4  0.0       0.0  0.0  0.0  0.0  ...   0.0  0.0        0.0      0.0   0.0\n",
            "\n",
            "[5 rows x 2815 columns]\n"
          ],
          "name": "stdout"
        }
      ]
    },
    {
      "cell_type": "markdown",
      "metadata": {
        "id": "8Icft8UuluVN"
      },
      "source": [
        "## 52\n",
        "\n",
        "ロジスティック回帰\n",
        "https://istat.co.jp/ta_commentary/logistic"
      ]
    },
    {
      "cell_type": "code",
      "metadata": {
        "colab": {
          "base_uri": "https://localhost:8080/"
        },
        "id": "g7veqvYJlv8a",
        "outputId": "1cb192bf-954e-48af-95d2-d115834803a3"
      },
      "source": [
        "from sklearn.linear_model import LogisticRegression\n",
        "\n",
        "# model\n",
        "lg = LogisticRegression(random_state=123, max_iter=10000)\n",
        "lg.fit(X_train, train['CATEGORY'])\n",
        "LogisticRegression(C=1.0, class_weight=None, dual=False, fit_intercept=True,\n",
        "                   intercept_scaling=1, l1_ratio=None, max_iter=10000,\n",
        "                   multi_class='auto', n_jobs=None, penalty='l2',\n",
        "                   random_state=123, solver='lbfgs', tol=0.0001, verbose=0,\n",
        "                   warm_start=False)"
      ],
      "execution_count": null,
      "outputs": [
        {
          "output_type": "execute_result",
          "data": {
            "text/plain": [
              "LogisticRegression(C=1.0, class_weight=None, dual=False, fit_intercept=True,\n",
              "                   intercept_scaling=1, l1_ratio=None, max_iter=10000,\n",
              "                   multi_class='auto', n_jobs=None, penalty='l2',\n",
              "                   random_state=123, solver='lbfgs', tol=0.0001, verbose=0,\n",
              "                   warm_start=False)"
            ]
          },
          "metadata": {
            "tags": []
          },
          "execution_count": 14
        }
      ]
    },
    {
      "cell_type": "markdown",
      "metadata": {
        "id": "ZpPxi-MnmRiS"
      },
      "source": [
        "## 53"
      ]
    },
    {
      "cell_type": "code",
      "metadata": {
        "colab": {
          "base_uri": "https://localhost:8080/"
        },
        "id": "ydQDXWbvmTWX",
        "outputId": "e998e7b2-ab57-446d-8cee-a11ac662fae1"
      },
      "source": [
        "import numpy as np\n",
        "def score(lg, X):\n",
        "    return [np.max(lg.predict_proba(X), axis=1), lg.predict(X)]\n",
        "train_pred = score(lg, X_train)\n",
        "test_pred = score(lg, X_test)\n",
        "print(train_pred)"
      ],
      "execution_count": null,
      "outputs": [
        {
          "output_type": "stream",
          "text": [
            "[array([0.84029321, 0.67900957, 0.55639016, ..., 0.86051156, 0.61358963,\n",
            "       0.90827882]), array(['b', 't', 'm', ..., 'b', 'm', 'e'], dtype=object)]\n"
          ],
          "name": "stdout"
        }
      ]
    },
    {
      "cell_type": "markdown",
      "metadata": {
        "id": "r6A_TU3Pmg_R"
      },
      "source": [
        "## 54"
      ]
    },
    {
      "cell_type": "code",
      "metadata": {
        "colab": {
          "base_uri": "https://localhost:8080/"
        },
        "id": "tv_pMpJCmid1",
        "outputId": "6003fd54-f6a4-4b2f-90d0-4ba0cb303678"
      },
      "source": [
        "from sklearn.metrics import accuracy_score\n",
        "\n",
        "train_accuracy = accuracy_score(train['CATEGORY'], train_pred[1])\n",
        "test_accuracy = accuracy_score(test['CATEGORY'], test_pred[1])\n",
        "print(f'train acc：{train_accuracy:.3f}')\n",
        "print(f'test acc：{test_accuracy:.3f}')"
      ],
      "execution_count": null,
      "outputs": [
        {
          "output_type": "stream",
          "text": [
            "train acc：0.927\n",
            "test acc：0.885\n"
          ],
          "name": "stdout"
        }
      ]
    },
    {
      "cell_type": "markdown",
      "metadata": {
        "id": "hEqJulD3mopA"
      },
      "source": [
        "## 55"
      ]
    },
    {
      "cell_type": "code",
      "metadata": {
        "colab": {
          "base_uri": "https://localhost:8080/"
        },
        "id": "EksO49flmqE2",
        "outputId": "e0428ef5-e124-44b3-e848-95b3f3448294"
      },
      "source": [
        "from sklearn.metrics import confusion_matrix\n",
        "import seaborn as sns\n",
        "import matplotlib.pyplot as plt\n",
        "train_cm = confusion_matrix(train['CATEGORY'], train_pred[1])\n",
        "print(\"train confusion matrix\")\n",
        "print(train_cm)\n",
        "test_cm = confusion_matrix(test['CATEGORY'], test_pred[1])\n",
        "print(\"test confusion matrix\")\n",
        "print(test_cm)\n"
      ],
      "execution_count": null,
      "outputs": [
        {
          "output_type": "stream",
          "text": [
            "train confusion matrix\n",
            "[[4344   93    8   56]\n",
            " [  52 4173    2    8]\n",
            " [  96  125  494   13]\n",
            " [ 192  133    7  888]]\n",
            "test confusion matrix\n",
            "[[528  20   2  13]\n",
            " [ 12 516   1   1]\n",
            " [ 11  26  52   2]\n",
            " [ 38  26   1  87]]\n"
          ],
          "name": "stdout"
        }
      ]
    },
    {
      "cell_type": "markdown",
      "metadata": {
        "id": "IeJ9k27HmqLC"
      },
      "source": [
        "## 56"
      ]
    },
    {
      "cell_type": "code",
      "metadata": {
        "colab": {
          "base_uri": "https://localhost:8080/"
        },
        "id": "6BxWSa5tmrVa",
        "outputId": "c26b288d-b444-4af8-b509-2c8cfab9d310"
      },
      "source": [
        "from sklearn.metrics import precision_score, recall_score, f1_score\n",
        "\n",
        "def calculate_scores(y_true, y_pred):\n",
        "    # Precision\n",
        "    precision = precision_score(test['CATEGORY'], test_pred[1], average=None, labels=['b', 'e', 't', 'm']) \n",
        "    precision = np.append(precision, precision_score(y_true, y_pred, average='micro'))  \n",
        "    precision = np.append(precision, precision_score(y_true, y_pred, average='macro'))  \n",
        "    # recall\n",
        "    recall = recall_score(test['CATEGORY'], test_pred[1], average=None, labels=['b', 'e', 't', 'm'])\n",
        "    recall = np.append(recall, recall_score(y_true, y_pred, average='micro'))\n",
        "    recall = np.append(recall, recall_score(y_true, y_pred, average='macro'))\n",
        "    # F1 score\n",
        "    f1 = f1_score(test['CATEGORY'], test_pred[1], average=None, labels=['b', 'e', 't', 'm'])\n",
        "    f1 = np.append(f1, f1_score(y_true, y_pred, average='micro'))\n",
        "    f1 = np.append(f1, f1_score(y_true, y_pred, average='macro'))\n",
        "    scores = pd.DataFrame({'適合率': precision, '再現率': recall, 'F1スコア': f1},index=['b', 'e', 't', 'm', 'マイクロ平均', 'マクロ平均'])\n",
        "    return scores\n",
        "print(calculate_scores(test['CATEGORY'], test_pred[1]))"
      ],
      "execution_count": null,
      "outputs": [
        {
          "output_type": "stream",
          "text": [
            "             適合率       再現率     F1スコア\n",
            "b       0.896435  0.937833  0.916667\n",
            "e       0.877551  0.973585  0.923077\n",
            "t       0.844660  0.572368  0.682353\n",
            "m       0.928571  0.571429  0.707483\n",
            "マイクロ平均  0.885479  0.885479  0.885479\n",
            "マクロ平均   0.886804  0.763804  0.807395\n"
          ],
          "name": "stdout"
        }
      ]
    },
    {
      "cell_type": "markdown",
      "metadata": {
        "id": "n4zX0GOumreA"
      },
      "source": [
        "## 57"
      ]
    },
    {
      "cell_type": "code",
      "metadata": {
        "colab": {
          "base_uri": "https://localhost:8080/",
          "height": 719
        },
        "id": "hx-Ng5EWmsSP",
        "outputId": "2ac59686-914e-4a41-c681-9077c4571b3e"
      },
      "source": [
        "features = X_train.columns.values\n",
        "index = [i for i in range(1, 11)]\n",
        "for c, coef in zip(lg.classes_, lg.coef_):\n",
        "    print(\"categoty\")\n",
        "    best10 = pd.DataFrame(features[np.argsort(coef)[::-1][:10]], columns=['重要度上位'], index=index).T\n",
        "    worst10 = pd.DataFrame(features[np.argsort(coef)[:10]], columns=['重要度下位'], index=index).T\n",
        "    display(pd.concat([best10, worst10], axis=0))\n",
        "    print(\"\")"
      ],
      "execution_count": null,
      "outputs": [
        {
          "output_type": "stream",
          "text": [
            "categoty\n"
          ],
          "name": "stdout"
        },
        {
          "output_type": "display_data",
          "data": {
            "text/html": [
              "<div>\n",
              "<style scoped>\n",
              "    .dataframe tbody tr th:only-of-type {\n",
              "        vertical-align: middle;\n",
              "    }\n",
              "\n",
              "    .dataframe tbody tr th {\n",
              "        vertical-align: top;\n",
              "    }\n",
              "\n",
              "    .dataframe thead th {\n",
              "        text-align: right;\n",
              "    }\n",
              "</style>\n",
              "<table border=\"1\" class=\"dataframe\">\n",
              "  <thead>\n",
              "    <tr style=\"text-align: right;\">\n",
              "      <th></th>\n",
              "      <th>1</th>\n",
              "      <th>2</th>\n",
              "      <th>3</th>\n",
              "      <th>4</th>\n",
              "      <th>5</th>\n",
              "      <th>6</th>\n",
              "      <th>7</th>\n",
              "      <th>8</th>\n",
              "      <th>9</th>\n",
              "      <th>10</th>\n",
              "    </tr>\n",
              "  </thead>\n",
              "  <tbody>\n",
              "    <tr>\n",
              "      <th>重要度上位</th>\n",
              "      <td>bank</td>\n",
              "      <td>fed</td>\n",
              "      <td>china</td>\n",
              "      <td>ecb</td>\n",
              "      <td>stocks</td>\n",
              "      <td>euro</td>\n",
              "      <td>obamacare</td>\n",
              "      <td>oil</td>\n",
              "      <td>yellen</td>\n",
              "      <td>dollar</td>\n",
              "    </tr>\n",
              "    <tr>\n",
              "      <th>重要度下位</th>\n",
              "      <td>video</td>\n",
              "      <td>ebola</td>\n",
              "      <td>the</td>\n",
              "      <td>her</td>\n",
              "      <td>and</td>\n",
              "      <td>she</td>\n",
              "      <td>apple</td>\n",
              "      <td>google</td>\n",
              "      <td>star</td>\n",
              "      <td>microsoft</td>\n",
              "    </tr>\n",
              "  </tbody>\n",
              "</table>\n",
              "</div>"
            ],
            "text/plain": [
              "          1      2      3    4   ...         7       8       9          10\n",
              "重要度上位   bank    fed  china  ecb  ...  obamacare     oil  yellen     dollar\n",
              "重要度下位  video  ebola    the  her  ...      apple  google    star  microsoft\n",
              "\n",
              "[2 rows x 10 columns]"
            ]
          },
          "metadata": {
            "tags": []
          }
        },
        {
          "output_type": "stream",
          "text": [
            "\n",
            "categoty\n"
          ],
          "name": "stdout"
        },
        {
          "output_type": "display_data",
          "data": {
            "text/html": [
              "<div>\n",
              "<style scoped>\n",
              "    .dataframe tbody tr th:only-of-type {\n",
              "        vertical-align: middle;\n",
              "    }\n",
              "\n",
              "    .dataframe tbody tr th {\n",
              "        vertical-align: top;\n",
              "    }\n",
              "\n",
              "    .dataframe thead th {\n",
              "        text-align: right;\n",
              "    }\n",
              "</style>\n",
              "<table border=\"1\" class=\"dataframe\">\n",
              "  <thead>\n",
              "    <tr style=\"text-align: right;\">\n",
              "      <th></th>\n",
              "      <th>1</th>\n",
              "      <th>2</th>\n",
              "      <th>3</th>\n",
              "      <th>4</th>\n",
              "      <th>5</th>\n",
              "      <th>6</th>\n",
              "      <th>7</th>\n",
              "      <th>8</th>\n",
              "      <th>9</th>\n",
              "      <th>10</th>\n",
              "    </tr>\n",
              "  </thead>\n",
              "  <tbody>\n",
              "    <tr>\n",
              "      <th>重要度上位</th>\n",
              "      <td>kardashian</td>\n",
              "      <td>chris</td>\n",
              "      <td>her</td>\n",
              "      <td>movie</td>\n",
              "      <td>star</td>\n",
              "      <td>film</td>\n",
              "      <td>paul</td>\n",
              "      <td>he</td>\n",
              "      <td>wedding</td>\n",
              "      <td>she</td>\n",
              "    </tr>\n",
              "    <tr>\n",
              "      <th>重要度下位</th>\n",
              "      <td>us</td>\n",
              "      <td>update</td>\n",
              "      <td>google</td>\n",
              "      <td>study</td>\n",
              "      <td>china</td>\n",
              "      <td>gm</td>\n",
              "      <td>ceo</td>\n",
              "      <td>facebook</td>\n",
              "      <td>apple</td>\n",
              "      <td>says</td>\n",
              "    </tr>\n",
              "  </tbody>\n",
              "</table>\n",
              "</div>"
            ],
            "text/plain": [
              "               1       2       3      4   ...    7         8        9     10\n",
              "重要度上位  kardashian   chris     her  movie  ...  paul        he  wedding   she\n",
              "重要度下位          us  update  google  study  ...   ceo  facebook    apple  says\n",
              "\n",
              "[2 rows x 10 columns]"
            ]
          },
          "metadata": {
            "tags": []
          }
        },
        {
          "output_type": "stream",
          "text": [
            "\n",
            "categoty\n"
          ],
          "name": "stdout"
        },
        {
          "output_type": "display_data",
          "data": {
            "text/html": [
              "<div>\n",
              "<style scoped>\n",
              "    .dataframe tbody tr th:only-of-type {\n",
              "        vertical-align: middle;\n",
              "    }\n",
              "\n",
              "    .dataframe tbody tr th {\n",
              "        vertical-align: top;\n",
              "    }\n",
              "\n",
              "    .dataframe thead th {\n",
              "        text-align: right;\n",
              "    }\n",
              "</style>\n",
              "<table border=\"1\" class=\"dataframe\">\n",
              "  <thead>\n",
              "    <tr style=\"text-align: right;\">\n",
              "      <th></th>\n",
              "      <th>1</th>\n",
              "      <th>2</th>\n",
              "      <th>3</th>\n",
              "      <th>4</th>\n",
              "      <th>5</th>\n",
              "      <th>6</th>\n",
              "      <th>7</th>\n",
              "      <th>8</th>\n",
              "      <th>9</th>\n",
              "      <th>10</th>\n",
              "    </tr>\n",
              "  </thead>\n",
              "  <tbody>\n",
              "    <tr>\n",
              "      <th>重要度上位</th>\n",
              "      <td>ebola</td>\n",
              "      <td>study</td>\n",
              "      <td>cancer</td>\n",
              "      <td>drug</td>\n",
              "      <td>mers</td>\n",
              "      <td>fda</td>\n",
              "      <td>cases</td>\n",
              "      <td>cdc</td>\n",
              "      <td>could</td>\n",
              "      <td>cigarettes</td>\n",
              "    </tr>\n",
              "    <tr>\n",
              "      <th>重要度下位</th>\n",
              "      <td>facebook</td>\n",
              "      <td>gm</td>\n",
              "      <td>ceo</td>\n",
              "      <td>apple</td>\n",
              "      <td>bank</td>\n",
              "      <td>deal</td>\n",
              "      <td>google</td>\n",
              "      <td>sales</td>\n",
              "      <td>climate</td>\n",
              "      <td>twitter</td>\n",
              "    </tr>\n",
              "  </tbody>\n",
              "</table>\n",
              "</div>"
            ],
            "text/plain": [
              "             1      2       3      4   ...      7      8        9           10\n",
              "重要度上位     ebola  study  cancer   drug  ...   cases    cdc    could  cigarettes\n",
              "重要度下位  facebook     gm     ceo  apple  ...  google  sales  climate     twitter\n",
              "\n",
              "[2 rows x 10 columns]"
            ]
          },
          "metadata": {
            "tags": []
          }
        },
        {
          "output_type": "stream",
          "text": [
            "\n",
            "categoty\n"
          ],
          "name": "stdout"
        },
        {
          "output_type": "display_data",
          "data": {
            "text/html": [
              "<div>\n",
              "<style scoped>\n",
              "    .dataframe tbody tr th:only-of-type {\n",
              "        vertical-align: middle;\n",
              "    }\n",
              "\n",
              "    .dataframe tbody tr th {\n",
              "        vertical-align: top;\n",
              "    }\n",
              "\n",
              "    .dataframe thead th {\n",
              "        text-align: right;\n",
              "    }\n",
              "</style>\n",
              "<table border=\"1\" class=\"dataframe\">\n",
              "  <thead>\n",
              "    <tr style=\"text-align: right;\">\n",
              "      <th></th>\n",
              "      <th>1</th>\n",
              "      <th>2</th>\n",
              "      <th>3</th>\n",
              "      <th>4</th>\n",
              "      <th>5</th>\n",
              "      <th>6</th>\n",
              "      <th>7</th>\n",
              "      <th>8</th>\n",
              "      <th>9</th>\n",
              "      <th>10</th>\n",
              "    </tr>\n",
              "  </thead>\n",
              "  <tbody>\n",
              "    <tr>\n",
              "      <th>重要度上位</th>\n",
              "      <td>google</td>\n",
              "      <td>facebook</td>\n",
              "      <td>apple</td>\n",
              "      <td>microsoft</td>\n",
              "      <td>climate</td>\n",
              "      <td>gm</td>\n",
              "      <td>nasa</td>\n",
              "      <td>tesla</td>\n",
              "      <td>comcast</td>\n",
              "      <td>heartbleed</td>\n",
              "    </tr>\n",
              "    <tr>\n",
              "      <th>重要度下位</th>\n",
              "      <td>stocks</td>\n",
              "      <td>fed</td>\n",
              "      <td>her</td>\n",
              "      <td>percent</td>\n",
              "      <td>drug</td>\n",
              "      <td>american</td>\n",
              "      <td>cancer</td>\n",
              "      <td>ukraine</td>\n",
              "      <td>still</td>\n",
              "      <td>shares</td>\n",
              "    </tr>\n",
              "  </tbody>\n",
              "</table>\n",
              "</div>"
            ],
            "text/plain": [
              "           1         2      3          4   ...      7        8        9           10\n",
              "重要度上位  google  facebook  apple  microsoft  ...    nasa    tesla  comcast  heartbleed\n",
              "重要度下位  stocks       fed    her    percent  ...  cancer  ukraine    still      shares\n",
              "\n",
              "[2 rows x 10 columns]"
            ]
          },
          "metadata": {
            "tags": []
          }
        },
        {
          "output_type": "stream",
          "text": [
            "\n"
          ],
          "name": "stdout"
        }
      ]
    },
    {
      "cell_type": "markdown",
      "metadata": {
        "id": "AljWGuhdmsai"
      },
      "source": [
        "## 58"
      ]
    },
    {
      "cell_type": "code",
      "metadata": {
        "id": "oSi9newimt-5"
      },
      "source": [
        "result = []\n",
        "for C in np.logspace(-5, 4, 10, base=10):\n",
        "    lg = LogisticRegression(random_state=123, max_iter=10000, C=C)\n",
        "    lg.fit(X_train, train['CATEGORY'])\n",
        "    train_pred = score(lg, X_train)\n",
        "    valid_pred = score(lg, X_valid)\n",
        "    test_pred = score(lg, X_test)\n",
        "    train_accuracy = accuracy_score(train['CATEGORY'], train_pred[1])\n",
        "    valid_accuracy = accuracy_score(valid['CATEGORY'], valid_pred[1])\n",
        "    test_accuracy = accuracy_score(test['CATEGORY'], test_pred[1])\n",
        "    result.append([C, train_accuracy, valid_accuracy, test_accuracy])"
      ],
      "execution_count": null,
      "outputs": []
    },
    {
      "cell_type": "code",
      "metadata": {
        "colab": {
          "base_uri": "https://localhost:8080/",
          "height": 279
        },
        "id": "v_bZGSSKoJ3w",
        "outputId": "588da788-b507-4817-8e50-4a2aeddcbcab"
      },
      "source": [
        "result = np.array(result).T\n",
        "plt.plot(result[0], result[1], label='train')\n",
        "plt.plot(result[0], result[2], label='valid')\n",
        "plt.plot(result[0], result[3], label='test')\n",
        "plt.ylabel('Accuracy')\n",
        "plt.xlabel('C')\n",
        "plt.legend()\n",
        "plt.show()"
      ],
      "execution_count": null,
      "outputs": [
        {
          "output_type": "display_data",
          "data": {
            "image/png": "[encoded data removed]",
            "text/plain": [
              "<Figure size 432x288 with 1 Axes>"
            ]
          },
          "metadata": {
            "tags": []
          }
        }
      ]
    },
    {
      "cell_type": "markdown",
      "metadata": {
        "id": "ZjpktKVimuHv"
      },
      "source": [
        "## 59"
      ]
    },
    {
      "cell_type": "markdown",
      "metadata": {
        "id": "V_v7imElonft"
      },
      "source": [
        "C,l1_ratioを探索"
      ]
    },
    {
      "cell_type": "code",
      "metadata": {
        "colab": {
          "background_save": true,
          "base_uri": "https://localhost:8080/"
        },
        "id": "Ysba76xvmvC3",
        "outputId": "f1b29496-038a-451b-ed61-c93cd480f016"
      },
      "source": [
        "!pip install optuna\n",
        "import optuna\n",
        "\n",
        "def objective_lg(trial):\n",
        "    l1_ratio = trial.suggest_uniform('l1_ratio', 0, 1)\n",
        "    C = trial.suggest_loguniform('C', 1e-4, 1e4)    \n",
        "    lg = LogisticRegression(random_state=123, \n",
        "                            max_iter=10000, \n",
        "                            penalty='elasticnet', \n",
        "                            solver='saga', \n",
        "                            l1_ratio=l1_ratio, \n",
        "                            C=C)\n",
        "    lg.fit(X_train, train['CATEGORY'])  \n",
        "    valid_pred = score(lg, X_valid)  \n",
        "    valid_accuracy = accuracy_score(valid['CATEGORY'], valid_pred[1])       \n",
        "    return valid_accuracy \n",
        "study = optuna.create_study(direction='maximize')\n",
        "study.optimize(objective_lg, timeout=3600)\n",
        "\n",
        "print('Best trial:')\n",
        "trial = study.best_trial\n",
        "print('  Value: {:.3f}'.format(trial.value))\n",
        "print('  Params: ')\n",
        "for key, value in trial.params.items():\n",
        "    print('    {}: {}'.format(key, value))\n",
        "\n",
        "l1_ratio = trial.params['l1_ratio']\n",
        "C = trial.params['C']\n",
        "\n",
        "lg = LogisticRegression(random_state=123, \n",
        "                        max_iter=10000, \n",
        "                        penalty='elasticnet', \n",
        "                        solver='saga', \n",
        "                        l1_ratio=l1_ratio, \n",
        "                        C=C)\n",
        "lg.fit(X_train, train['CATEGORY'])\n",
        "\n",
        "train_pred = score_lg(lg, X_train)\n",
        "valid_pred = score_lg(lg, X_valid)\n",
        "test_pred = score_lg(lg, X_test)\n",
        "\n",
        "train_accuracy = accuracy_score(train['CATEGORY'], train_pred[1]) \n",
        "valid_accuracy = accuracy_score(valid['CATEGORY'], valid_pred[1]) \n",
        "test_accuracy = accuracy_score(test['CATEGORY'], test_pred[1]) \n",
        "\n",
        "print(f'acc train：{train_accuracy:.3f}')\n",
        "print(f'acc valid：{valid_accuracy:.3f}')\n",
        "print(f'acc test：{test_accuracy:.3f}')"
      ],
      "execution_count": null,
      "outputs": [
        {
          "output_type": "stream",
          "text": [
            "Requirement already satisfied: optuna in /usr/local/lib/python3.7/dist-packages (2.8.0)\n",
            "Requirement already satisfied: packaging>=20.0 in /usr/local/lib/python3.7/dist-packages (from optuna) (20.9)\n",
            "Requirement already satisfied: scipy!=1.4.0 in /usr/local/lib/python3.7/dist-packages (from optuna) (1.4.1)\n",
            "Requirement already satisfied: tqdm in /usr/local/lib/python3.7/dist-packages (from optuna) (4.41.1)\n",
            "Requirement already satisfied: sqlalchemy>=1.1.0 in /usr/local/lib/python3.7/dist-packages (from optuna) (1.4.15)\n",
            "Requirement already satisfied: numpy in /usr/local/lib/python3.7/dist-packages (from optuna) (1.19.5)\n",
            "Requirement already satisfied: colorlog in /usr/local/lib/python3.7/dist-packages (from optuna) (5.0.1)\n",
            "Requirement already satisfied: cliff in /usr/local/lib/python3.7/dist-packages (from optuna) (3.8.0)\n",
            "Requirement already satisfied: alembic in /usr/local/lib/python3.7/dist-packages (from optuna) (1.6.5)\n",
            "Requirement already satisfied: cmaes>=0.8.2 in /usr/local/lib/python3.7/dist-packages (from optuna) (0.8.2)\n",
            "Requirement already satisfied: pyparsing>=2.0.2 in /usr/local/lib/python3.7/dist-packages (from packaging>=20.0->optuna) (2.4.7)\n",
            "Requirement already satisfied: greenlet!=0.4.17; python_version >= \"3\" in /usr/local/lib/python3.7/dist-packages (from sqlalchemy>=1.1.0->optuna) (1.1.0)\n",
            "Requirement already satisfied: importlib-metadata; python_version < \"3.8\" in /usr/local/lib/python3.7/dist-packages (from sqlalchemy>=1.1.0->optuna) (4.0.1)\n",
            "Requirement already satisfied: PyYAML>=3.12 in /usr/local/lib/python3.7/dist-packages (from cliff->optuna) (3.13)\n",
            "Requirement already satisfied: pbr!=2.1.0,>=2.0.0 in /usr/local/lib/python3.7/dist-packages (from cliff->optuna) (5.6.0)\n",
            "Requirement already satisfied: PrettyTable>=0.7.2 in /usr/local/lib/python3.7/dist-packages (from cliff->optuna) (2.1.0)\n",
            "Requirement already satisfied: stevedore>=2.0.1 in /usr/local/lib/python3.7/dist-packages (from cliff->optuna) (3.3.0)\n",
            "Requirement already satisfied: cmd2>=1.0.0 in /usr/local/lib/python3.7/dist-packages (from cliff->optuna) (2.0.1)\n",
            "Requirement already satisfied: Mako in /usr/local/lib/python3.7/dist-packages (from alembic->optuna) (1.1.4)\n",
            "Requirement already satisfied: python-dateutil in /usr/local/lib/python3.7/dist-packages (from alembic->optuna) (2.8.1)\n",
            "Requirement already satisfied: python-editor>=0.3 in /usr/local/lib/python3.7/dist-packages (from alembic->optuna) (1.0.4)\n",
            "Requirement already satisfied: zipp>=0.5 in /usr/local/lib/python3.7/dist-packages (from importlib-metadata; python_version < \"3.8\"->sqlalchemy>=1.1.0->optuna) (3.4.1)\n",
            "Requirement already satisfied: typing-extensions>=3.6.4; python_version < \"3.8\" in /usr/local/lib/python3.7/dist-packages (from importlib-metadata; python_version < \"3.8\"->sqlalchemy>=1.1.0->optuna) (3.7.4.3)\n",
            "Requirement already satisfied: wcwidth in /usr/local/lib/python3.7/dist-packages (from PrettyTable>=0.7.2->cliff->optuna) (0.2.5)\n",
            "Requirement already satisfied: colorama>=0.3.7 in /usr/local/lib/python3.7/dist-packages (from cmd2>=1.0.0->cliff->optuna) (0.4.4)\n",
            "Requirement already satisfied: pyperclip>=1.6 in /usr/local/lib/python3.7/dist-packages (from cmd2>=1.0.0->cliff->optuna) (1.8.2)\n",
            "Requirement already satisfied: attrs>=16.3.0 in /usr/local/lib/python3.7/dist-packages (from cmd2>=1.0.0->cliff->optuna) (21.2.0)\n",
            "Requirement already satisfied: MarkupSafe>=0.9.2 in /usr/local/lib/python3.7/dist-packages (from Mako->alembic->optuna) (2.0.1)\n",
            "Requirement already satisfied: six>=1.5 in /usr/local/lib/python3.7/dist-packages (from python-dateutil->alembic->optuna) (1.15.0)\n"
          ],
          "name": "stdout"
        },
        {
          "output_type": "stream",
          "text": [
            "\u001b[32m[I 2021-06-08 17:35:57,190]\u001b[0m A new study created in memory with name: no-name-15cefd82-a1ba-4b13-ab6f-b2b397b9b790\u001b[0m\n",
            "\u001b[32m[I 2021-06-08 17:35:58,196]\u001b[0m Trial 0 finished with value: 0.4214071856287425 and parameters: {'l1_ratio': 0.27450334588699676, 'C': 0.000147668641533175}. Best is trial 0 with value: 0.4214071856287425.\u001b[0m\n",
            "\u001b[32m[I 2021-06-08 17:41:30,337]\u001b[0m Trial 1 finished with value: 0.875 and parameters: {'l1_ratio': 0.6849942368167306, 'C': 25.41972747816227}. Best is trial 1 with value: 0.875.\u001b[0m\n",
            "\u001b[32m[I 2021-06-08 18:15:39,640]\u001b[0m Trial 2 finished with value: 0.8547904191616766 and parameters: {'l1_ratio': 0.6331398589931918, 'C': 5272.220719362687}. Best is trial 1 with value: 0.875.\u001b[0m\n",
            "\u001b[32m[I 2021-06-08 18:15:59,402]\u001b[0m Trial 3 finished with value: 0.4214071856287425 and parameters: {'l1_ratio': 0.0506024276047885, 'C': 0.001108125346911354}. Best is trial 1 with value: 0.875.\u001b[0m\n",
            "\u001b[32m[I 2021-06-08 18:20:57,466]\u001b[0m Trial 4 finished with value: 0.8712574850299402 and parameters: {'l1_ratio': 0.23072534399463462, 'C': 68.11483317583271}. Best is trial 1 with value: 0.875.\u001b[0m\n",
            "\u001b[32m[I 2021-06-08 18:21:16,546]\u001b[0m Trial 5 finished with value: 0.7874251497005988 and parameters: {'l1_ratio': 0.6792832487041512, 'C': 0.20831881890825385}. Best is trial 1 with value: 0.875.\u001b[0m\n",
            "\u001b[32m[I 2021-06-08 18:21:20,418]\u001b[0m Trial 6 finished with value: 0.39595808383233533 and parameters: {'l1_ratio': 0.6159869792511344, 'C': 0.0009702987987854813}. Best is trial 1 with value: 0.875.\u001b[0m\n",
            "\u001b[32m[I 2021-06-08 18:21:44,968]\u001b[0m Trial 7 finished with value: 0.8450598802395209 and parameters: {'l1_ratio': 0.5730633758529776, 'C': 0.43401988204366165}. Best is trial 1 with value: 0.875.\u001b[0m\n",
            "\u001b[32m[I 2021-06-08 18:21:48,846]\u001b[0m Trial 8 finished with value: 0.39595808383233533 and parameters: {'l1_ratio': 0.6891090531885269, 'C': 0.00045375292668491427}. Best is trial 1 with value: 0.875.\u001b[0m\n",
            "\u001b[32m[I 2021-06-08 18:21:57,274]\u001b[0m Trial 9 finished with value: 0.4214071856287425 and parameters: {'l1_ratio': 0.3981425512986344, 'C': 0.004293806485012325}. Best is trial 1 with value: 0.875.\u001b[0m\n"
          ],
          "name": "stderr"
        }
      ]
    }
  ]
}