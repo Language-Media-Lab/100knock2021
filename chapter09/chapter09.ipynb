{
  "nbformat": 4,
  "nbformat_minor": 0,
  "metadata": {
    "colab": {
      "name": "NLP90_100.ipynb",
      "provenance": [],
      "collapsed_sections": [
        "3-DPvxnyXg6Y",
        "-Nk8aEnGnNWw",
        "VLDNPNAbVmcZ",
        "Ucr7k-26ITRG",
        "TIcy8hdzP8S3",
        "4lHrJE0yQs3u",
        "wFpytluk_yrP"
      ]
    },
    "kernelspec": {
      "display_name": "Python 3",
      "name": "python3"
    },
    "accelerator": "GPU"
  },
  "cells": [
    {
      "cell_type": "markdown",
      "metadata": {
        "id": "pjxNBHyB8AQR"
      },
      "source": [
        "# 第9章: RNN, CNN"
      ]
    },
    {
      "cell_type": "markdown",
      "metadata": {
        "id": "4QjfFRhGldfy"
      },
      "source": [
        "## 80. ID番号への変換\n",
        "\n",
        "問題51で構築した学習データ中の単語にユニークなID番号を付与したい．学習データ中で最も頻出する単語に1，2番目に頻出する単語に2，……といった方法で，学習データ中で2回以上出現する単語にID番号を付与せよ．そして，与えられた単語列に対して，ID番号の列を返す関数を実装せよ．ただし，出現頻度が2回未満の単語のID番号はすべて0とせよ．"
      ]
    },
    {
      "cell_type": "code",
      "metadata": {
        "id": "gNQRcPvT8CWi",
        "colab": {
          "base_uri": "https://localhost:8080/"
        },
        "outputId": "78156dc0-5217-4949-cf3a-546886310da8"
      },
      "source": [
        "# データのダウンロード\n",
        "!wget https://archive.ics.uci.edu/ml/machine-learning-databases/00359/NewsAggregatorDataset.zip\n",
        "!unzip NewsAggregatorDataset.zip"
      ],
      "execution_count": 1,
      "outputs": [
        {
          "output_type": "stream",
          "text": [
            "--2021-07-13 08:13:19--  https://archive.ics.uci.edu/ml/machine-learning-databases/00359/NewsAggregatorDataset.zip\n",
            "Resolving archive.ics.uci.edu (archive.ics.uci.edu)... 128.195.10.252\n",
            "Connecting to archive.ics.uci.edu (archive.ics.uci.edu)|128.195.10.252|:443... connected.\n",
            "HTTP request sent, awaiting response... 200 OK\n",
            "Length: 29224203 (28M) [application/x-httpd-php]\n",
            "Saving to: ‘NewsAggregatorDataset.zip’\n",
            "\n",
            "NewsAggregatorDatas 100%[===================>]  27.87M  25.8MB/s    in 1.1s    \n",
            "\n",
            "2021-07-13 08:13:21 (25.8 MB/s) - ‘NewsAggregatorDataset.zip’ saved [29224203/29224203]\n",
            "\n",
            "Archive:  NewsAggregatorDataset.zip\n",
            "  inflating: 2pageSessions.csv       \n",
            "   creating: __MACOSX/\n",
            "  inflating: __MACOSX/._2pageSessions.csv  \n",
            "  inflating: newsCorpora.csv         \n",
            "  inflating: __MACOSX/._newsCorpora.csv  \n",
            "  inflating: readme.txt              \n",
            "  inflating: __MACOSX/._readme.txt   \n"
          ],
          "name": "stdout"
        }
      ]
    },
    {
      "cell_type": "code",
      "metadata": {
        "id": "unJct2NL8XtM"
      },
      "source": [
        "import pandas as pd\n",
        "from sklearn.model_selection import train_test_split\n",
        "\n",
        "# データの読込\n",
        "df = pd.read_csv('./newsCorpora.csv', header=None, sep='\\t', names=['ID', 'TITLE', 'URL', 'PUBLISHER', 'CATEGORY', 'STORY', 'HOSTNAME', 'TIMESTAMP'])\n",
        "\n",
        "# データの抽出\n",
        "df = df.loc[df['PUBLISHER'].isin(['Reuters', 'Huffington Post', 'Businessweek', 'Contactmusic.com', 'Daily Mail']), ['TITLE', 'CATEGORY']]\n",
        "\n",
        "# データの分割\n",
        "train, valid_test = train_test_split(df, test_size=0.2, shuffle=True, random_state=123, stratify=df['CATEGORY'])\n",
        "valid, test = train_test_split(valid_test, test_size=0.5, shuffle=True, random_state=123, stratify=valid_test['CATEGORY'])\n"
      ],
      "execution_count": 2,
      "outputs": []
    },
    {
      "cell_type": "code",
      "metadata": {
        "colab": {
          "base_uri": "https://localhost:8080/"
        },
        "id": "ixBL2re7-GlQ",
        "outputId": "8a0cc804-af07-4108-8ee3-62447fb14486"
      },
      "source": [
        "from collections import defaultdict\n",
        "import string\n",
        "\n",
        "# 単語の頻度集計\n",
        "d = defaultdict(int)  # 0で初期化された辞書作成\n",
        "table = str.maketrans(string.punctuation, ' '*len(string.punctuation))  # 記号をスペースに置換するテーブル\n",
        "for text in train['TITLE']:\n",
        "  for word in text.translate(table).lower().split():\n",
        "    d[word] += 1\n",
        "\n",
        "d = sorted(d.items(), key=lambda x:x[1], reverse=True)  # 辞書のキーの値でソート\n",
        "word2id = {}\n",
        "# 単語ID辞書の作成\n",
        "# 出現頻度が2回以上の単語を登録\n",
        "for i, (word, cnt) in enumerate(d):\n",
        "  if cnt > 1:\n",
        "    word2id.update({word : i+1})\n",
        "\n",
        "print(f'ID数: {len(set(word2id.values()))}\\n')\n",
        "print('---頻度上位20語---')\n",
        "for key in list(word2id)[:20]:\n",
        "    print(f'{key}: {word2id[key]}')"
      ],
      "execution_count": 3,
      "outputs": [
        {
          "output_type": "stream",
          "text": [
            "ID数: 7616\n",
            "\n",
            "---頻度上位20語---\n",
            "to: 1\n",
            "s: 2\n",
            "in: 3\n",
            "the: 4\n",
            "of: 5\n",
            "for: 6\n",
            "on: 7\n",
            "as: 8\n",
            "update: 9\n",
            "us: 10\n",
            "and: 11\n",
            "a: 12\n",
            "1: 13\n",
            "with: 14\n",
            "at: 15\n",
            "2: 16\n",
            "is: 17\n",
            "after: 18\n",
            "new: 19\n",
            "up: 20\n"
          ],
          "name": "stdout"
        }
      ]
    },
    {
      "cell_type": "code",
      "metadata": {
        "id": "OLtO9I5tBXf0"
      },
      "source": [
        "def tokenizer(text, word2id=word2id, unk=0):\n",
        "  \"\"\" 入力テキストをスペースで分割しID列に変換(辞書になければunkで指定した数字を設定)\"\"\"\n",
        "  table = str.maketrans(string.punctuation, ' '*len(string.punctuation))\n",
        "\n",
        "  # 辞書オブジェクトのget()メソッドを使うと、キーが存在しない場合にエラーを発生させずに任意の値（デフォルト値）を取得できる。\n",
        "  return [word2id.get(word, unk) for word in text.lower().translate(table).split()]  "
      ],
      "execution_count": 4,
      "outputs": []
    },
    {
      "cell_type": "code",
      "metadata": {
        "colab": {
          "base_uri": "https://localhost:8080/"
        },
        "id": "GC3XNT5nBsYo",
        "outputId": "4efdbf3e-78af-4933-be8a-5ee712eecce3"
      },
      "source": [
        "# 確認\n",
        "text = train.iloc[1, train.columns.get_loc('TITLE')]\n",
        "print(f'テキスト: {text}')\n",
        "print(f'ID列: {tokenizer(text)}')"
      ],
      "execution_count": 5,
      "outputs": [
        {
          "output_type": "stream",
          "text": [
            "テキスト: FOREX-Dollar rises on US rate speculation after Yellen comments\n",
            "ID列: [62, 46, 100, 7, 10, 111, 1124, 18, 131, 357]\n"
          ],
          "name": "stdout"
        }
      ]
    },
    {
      "cell_type": "markdown",
      "metadata": {
        "id": "3-DPvxnyXg6Y"
      },
      "source": [
        "## 81. RNNによる予測\n",
        "ID番号で表現された単語列$\\boldsymbol{x} = (x_1, x_2, \\dots, x_T)$がある．ただし，$T$は単語列の長さ，$x_t \\in \\mathbb{R}^{V}$は単語のID番号のone-hot表記である（$V$は単語の総数である）．再帰型ニューラルネットワーク（RNN: Recurrent Neural Network）を用い，単語列$\\boldsymbol{x}$からカテゴリ$y$を予測するモデルとして，次式を実装せよ．\n",
        "\n",
        "\n",
        "$$\n",
        "\\overrightarrow h_0 = 0,\\\\\n",
        "\\overrightarrow h_t = {\\rm \\overrightarrow{RNN}}(\\mathrm{emb}(x_t), \\overrightarrow h_{t-1}), \\\\\n",
        "y = {\\rm softmax}(W^{(yh)} \\overrightarrow h_T + b^{(y)})\n",
        "$$\n",
        "\n",
        "\n",
        "ただし，$\\mathrm{emb}(x) \\in \\mathbb{R}^{d_w}$は単語埋め込み（単語のone-hot表記から単語ベクトルに変換する関数），$\\overrightarrow h_t \\in \\mathbb{R}^{d_h}$は時刻$t$の隠れ状態ベクトル，${\\rm \\overrightarrow{RNN}}(x,h)$は入力$x$と前時刻の隠れ状態$h$から次状態を計算するRNNユニット，$W^{(yh)} \\in \\mathbb{R}^{L \\times d_h}$は隠れ状態ベクトルからカテゴリを予測するための行列，$b^{(y)} \\in \\mathbb{R}^{L}$はバイアス項である（$d_w, d_h, L$はそれぞれ，単語埋め込みの次元数，隠れ状態ベクトルの次元数，ラベル数である）．RNNユニット${\\rm \\overrightarrow{RNN}}(x,h)$には様々な構成が考えられるが，典型例として次式が挙げられる．\n",
        "\n",
        "$$\n",
        "{\\rm \\overrightarrow{RNN}}(x,h) = g(W^{(hx)} x + W^{(hh)}h + b^{(h)})\n",
        "$$\n",
        "\n",
        "ただし，$W^{(hx)} \\in \\mathbb{R}^{d_h \\times d_w}，W^{(hh)} \\in \\mathbb{R}^{d_h \\times d_h}, b^{(h)} \\in \\mathbb{R}^{d_h}$はRNNユニットのパラメータ，$g$は活性化関数（例えば$\\tanh$やReLUなど）である．\n",
        "\n",
        "なお，この問題ではパラメータの学習を行わず，ランダムに初期化されたパラメータで$y$を計算するだけでよい．次元数などのハイパーパラメータは，$d_w = 300, d_h=50$など，適当な値に設定せよ（以降の問題でも同様である）．"
      ]
    },
    {
      "cell_type": "markdown",
      "metadata": {
        "id": "_p1PRQkWdYVk"
      },
      "source": [
        "One-Hotベクトルなので、次元数は単語数と同じ$\\mathbb{R}^{V}$"
      ]
    },
    {
      "cell_type": "markdown",
      "metadata": {
        "id": "NExj-bCHl88h"
      },
      "source": [
        "nn.Embeddingについて  \n",
        "　入力は，単語IDの並びです。出力は，各単語の埋め込みベクトルです。  \n",
        "　nn.Embeddingは，同一バッチ内で系列長が異なるとエラーを吐く。paddingは，系列長が足りない部分を何かしらの値で埋めることです。  \n",
        "　これでnn.Embedding()の入力とできますが，paddingした0というのはダミーのIDであって，何かしらの単語を表すものではありません．0に対しては埋め込みベクトルも計算して欲しくないので，オプションのpadding_idxを用いて無視するようにします．また，ダミーIDのために単語IDが1つ余分に消費されるため，宣言時の語彙サイズも1つ大きくする必要があります．"
      ]
    },
    {
      "cell_type": "code",
      "metadata": {
        "id": "yGm1xxSvc9I8"
      },
      "source": [
        "import torch\n",
        "from torch import nn\n",
        "\n",
        "class RNN(nn.Module):\n",
        "  def __init__(self, vocab_size, emb_size, padding_idx, output_size, hidden_size):\n",
        "    super().__init__()\n",
        "    self.hidden_size = hidden_size  # hidden_sizeが「dh」\n",
        "    # 埋め込み層にはnn.Embeddingを使います。この層は、単語IDを与えるとone-hotベクトルに変換した後、指定したサイズ（emb_size）のベクトルに変換します。\n",
        "    self.emb = nn.Embedding(vocab_size, emb_size, padding_idx=padding_idx)  # vocab_sizeが「V」、emb_sizeが「dw」、padding_idxが単語IDの最後のID番号+1の値\n",
        "    # RNNの入力はエンベディングベクトルと隠れ状態ベクトル。\n",
        "      # batch_first – If True, then the input and output tensors are provided as (batch, seq, feature).\n",
        "    self.rnn = nn.RNN(emb_size, hidden_size, nonlinearity='tanh', batch_first=True)\n",
        "    # RNNの出力の隠れ状態ベクトルを、アフィン変換してカテゴリyの予測に使用。\n",
        "    self.fc = nn.Linear(hidden_size, output_size)  # output_sizeが「L」(ラベル数)\n",
        "\n",
        "  def forward(self, x):\n",
        "    self.batch_size = x.size()[0]  # バッチ内のデータ数\n",
        "    hidden = self.init_hidden()  # h0のゼロベクトルを作成\n",
        "    # ここスタック使った方がまとまりそう\n",
        "    emb = self.emb(x)  # 入力の単語IDをエンベディングベクトルに\n",
        "    # emb.size() = (batch_size, seq_len, emb_size) # (バッチ内のデータ数, 文字列中の単語数、単語ベクトル)\n",
        "    # outは各時刻の隠れ状態(各単語に対応する隠れ状態)を保持、hiddenは最後の時刻の隠れ状態\n",
        "    out, hidden = self.rnn(emb, hidden)\n",
        "    # out.size() = (batch_size, seq_len, hidden_size)\n",
        "    out = self.fc(out[:, -1, :])  # 最後の隠れ状態ベクトルだけ使う？\n",
        "    # out.size() = (batch_size, output_size)  # output_size = 4（カテゴリ数）\n",
        "    return out\n",
        "\n",
        "  def init_hidden(self):\n",
        "    hidden = torch.zeros(1, self.batch_size, self.hidden_size)\n",
        "    return hidden"
      ],
      "execution_count": 7,
      "outputs": []
    },
    {
      "cell_type": "code",
      "metadata": {
        "id": "cqupFLLapa6h"
      },
      "source": [
        "# テキストとラベルを受け取り、テキストを指定したtokenizerでID化した後、それぞれをTensor型で出力する機能を持たせます。\n",
        "from torch.utils.data import Dataset\n",
        "\n",
        "class CreateDataset(Dataset):\n",
        "  def __init__(self, X, y, tokenizer):\n",
        "    self.X = X\n",
        "    self.y = y\n",
        "    self.tokenizer = tokenizer\n",
        "\n",
        "  def __len__(self):  # len(Dataset)で返す値を指定\n",
        "    return len(self.y)\n",
        "\n",
        "  def __getitem__(self, index):  # Dataset[index]で返す値を指定\n",
        "    text = self.X[index]\n",
        "    inputs = self.tokenizer(text)\n",
        "\n",
        "    return {  # 何でtorchの型にしてる？\n",
        "      'inputs': torch.tensor(inputs, dtype=torch.int64),\n",
        "      'labels': torch.tensor(self.y[index], dtype=torch.int64)\n",
        "    }"
      ],
      "execution_count": 8,
      "outputs": []
    },
    {
      "cell_type": "code",
      "metadata": {
        "colab": {
          "base_uri": "https://localhost:8080/"
        },
        "id": "5pLx8OcKqO4B",
        "outputId": "b2593b7b-85ad-407c-992e-4d6de27e0c83"
      },
      "source": [
        "# ラベルベクトルの作成\n",
        "category_dict = {'b': 0, 't': 1, 'e':2, 'm':3}\n",
        "y_train = train['CATEGORY'].map(lambda x: category_dict[x]).values\n",
        "y_valid = valid['CATEGORY'].map(lambda x: category_dict[x]).values\n",
        "y_test = test['CATEGORY'].map(lambda x: category_dict[x]).values\n",
        "\n",
        "# Datasetの作成\n",
        "dataset_train = CreateDataset(train['TITLE'].values, y_train, tokenizer)  # train['TITLE']:記事, y_train:カテゴリID\n",
        "dataset_valid = CreateDataset(valid['TITLE'].values, y_valid, tokenizer)\n",
        "dataset_test = CreateDataset(test['TITLE'].values, y_test, tokenizer)\n",
        "\n",
        "print(f'len(Dataset)の出力: {len(dataset_train)}')  # 10684個の記事\n",
        "print('Dataset[index]の出力:')  # index番目の記事の各単語をid化したもの\n",
        "for var in dataset_train[1]:  # 記事の１つ目をgetitem処理した出力  # 辞書オブジェクトをそのままfor文で回すとキーkeyが取得できる\n",
        "  print(f'  {var}: {dataset_train[1][var]}')\n"
      ],
      "execution_count": 9,
      "outputs": [
        {
          "output_type": "stream",
          "text": [
            "len(Dataset)の出力: 10672\n",
            "Dataset[index]の出力:\n",
            "  inputs: tensor([  62,   46,  100,    7,   10,  111, 1124,   18,  131,  357])\n",
            "  labels: 0\n"
          ],
          "name": "stdout"
        }
      ]
    },
    {
      "cell_type": "markdown",
      "metadata": {
        "id": "_4kQMh3M7Fbn"
      },
      "source": [
        "本問では学習しないため、Datasetからinputsをモデルに与え、Softmax後にそのまま出力を確認します。"
      ]
    },
    {
      "cell_type": "code",
      "metadata": {
        "colab": {
          "base_uri": "https://localhost:8080/"
        },
        "id": "_DaEXIaX6_15",
        "outputId": "284edcb9-caef-4f36-c587-d3616ff73a7f"
      },
      "source": [
        "# パラメータの設定\n",
        "VOCAB_SIZE = len(set(word2id.values())) + 1  # 辞書のID数 + パディングID\n",
        "EMB_SIZE = 300\n",
        "PADDING_IDX = len(set(word2id.values()))\n",
        "OUTPUT_SIZE = 4\n",
        "HIDDEN_SIZE = 50\n",
        "\n",
        "# モデルの定義\n",
        "model = RNN(VOCAB_SIZE, EMB_SIZE, PADDING_IDX, OUTPUT_SIZE, HIDDEN_SIZE)\n",
        "\n",
        "# 先頭10件の予測値取得\n",
        "for i in range(10):\n",
        "  X = dataset_train[i]['inputs']  # i番目の記事テキストを(getitem()した)ID化したもの\n",
        "  print(torch.softmax(model(X.unsqueeze(0)), dim=-1))  # modelの入力の形に直してる？バッチとか考えて？"
      ],
      "execution_count": 10,
      "outputs": [
        {
          "output_type": "stream",
          "text": [
            "tensor([[0.2164, 0.3061, 0.2080, 0.2694]], grad_fn=<SoftmaxBackward>)\n",
            "tensor([[0.2356, 0.2726, 0.3749, 0.1168]], grad_fn=<SoftmaxBackward>)\n",
            "tensor([[0.1859, 0.3389, 0.3283, 0.1469]], grad_fn=<SoftmaxBackward>)\n",
            "tensor([[0.1873, 0.1672, 0.1889, 0.4566]], grad_fn=<SoftmaxBackward>)\n",
            "tensor([[0.3070, 0.2561, 0.2476, 0.1893]], grad_fn=<SoftmaxBackward>)\n",
            "tensor([[0.2353, 0.2380, 0.2122, 0.3145]], grad_fn=<SoftmaxBackward>)\n",
            "tensor([[0.1423, 0.3673, 0.3633, 0.1271]], grad_fn=<SoftmaxBackward>)\n",
            "tensor([[0.1128, 0.3928, 0.2680, 0.2264]], grad_fn=<SoftmaxBackward>)\n",
            "tensor([[0.2379, 0.2690, 0.2927, 0.2003]], grad_fn=<SoftmaxBackward>)\n",
            "tensor([[0.0955, 0.4474, 0.1739, 0.2833]], grad_fn=<SoftmaxBackward>)\n"
          ],
          "name": "stdout"
        }
      ]
    },
    {
      "cell_type": "markdown",
      "metadata": {
        "id": "-Nk8aEnGnNWw"
      },
      "source": [
        "## 82. 確率的勾配降下法による学習\n",
        "\n",
        "確率的勾配降下法（SGD: Stochastic Gradient Descent）を用いて，問題81で構築したモデルを学習せよ．訓練データ上の損失と正解率，評価データ上の損失と正解率を表示しながらモデルを学習し，適当な基準（例えば10エポックなど）で終了させよ．\n",
        "\n"
      ]
    },
    {
      "cell_type": "code",
      "metadata": {
        "id": "9epJE9npcsG2"
      },
      "source": [
        "from torch.utils.data import DataLoader\n",
        "import time\n",
        "from torch import optim\n",
        "\n",
        "def calculate_loss_and_accuracy(model, dataloader, device=None, loss_fn=None):\n",
        "    total_loss = len(dataloader)  # バッチ数(損失はバッチ毎(1イテレータ)に1つ求まるので)\n",
        "    total_data = dataloader.batch_size * len(dataloader)  # ※全データ =  (バッチ内のデータ数) * (バッチ数)\n",
        "                                  # 予測結果はバッチ毎に、バッチ内のデータ数だけ求まる\n",
        "    correct, loss = 0, 0\n",
        "\n",
        "    with torch.no_grad():  # テスト中は伝播記録をしない\n",
        "        for data in dataloader:\n",
        "            inputs = data['inputs'].to(device)\n",
        "            labels = data['labels'].to(device)         \n",
        "            pred = model(inputs)\n",
        "            loss += loss_fn(pred, labels).item()  # バッチ内に複数データがあるなら、各データの損失の平均を返す?\n",
        "            correct += (pred.argmax(1) == labels).type(torch.float).sum().item()\n",
        "\n",
        "    return loss / total_loss, correct / total_data"
      ],
      "execution_count": 11,
      "outputs": []
    },
    {
      "cell_type": "code",
      "metadata": {
        "id": "PfX_GMJYm6V_"
      },
      "source": [
        "# dataloaderではなくdataset読み込みver\n",
        "\n",
        "# def calculate_loss_and_accuracy(model, dataset, device=None, loss_fn=None):\n",
        "    \n",
        "#     dataloader = DataLoader(dataset, batch_size=1, shuffle=False)\n",
        "#     total_loss = len(dataloader)  # バッチ数(損失はバッチ毎(1イテレータ)に1つ求まるので)\n",
        "#     total_data = dataloader.batch_size * len(dataloader)  # ※全データ =  (バッチ内のデータ数) * (バッチ数)\n",
        "#                                   # 予測結果はバッチ毎に、バッチ内のデータ数だけ求まる\n",
        "#     correct, loss = 0, 0\n",
        "\n",
        "#     with torch.no_grad():  # テスト中は伝播記録をしない\n",
        "#         for data in dataloader:\n",
        "#             inputs = data['inputs'].to(device)\n",
        "#             labels = data['labels'].to(device)         \n",
        "#             pred = model(inputs)\n",
        "#             loss += loss_fn(pred, labels).item()  # バッチ内に複数データがあるなら、各データの損失の平均を返す?\n",
        "#             correct += (pred.argmax(1) == labels).type(torch.float).sum().item()\n",
        "\n",
        "#     return loss / total_loss, correct / total_data "
      ],
      "execution_count": null,
      "outputs": []
    },
    {
      "cell_type": "markdown",
      "metadata": {
        "id": "Q46wh1WAT_vo"
      },
      "source": [
        "現実問題では、常に、過学習を起こしていないかを確認する必要があるので、validation set（検証用のデータセット）を使用しなくてはなりません。"
      ]
    },
    {
      "cell_type": "markdown",
      "metadata": {
        "id": "pEiH45nQTvvx"
      },
      "source": [
        "検証時は誤差逆伝播による訓練ステップが存在しないためメモリをそれほど使用しません（勾配を保存する必要がないため）。そこで検証セットには学習セットの2?倍のバッチサイズを使用します。\n",
        "\n",
        "こうすることにより、より大きなバッチサイズを使用して損失をより迅速に計算することができます。"
      ]
    },
    {
      "cell_type": "markdown",
      "metadata": {
        "id": "t4Zzo-lVT4Oa"
      },
      "source": [
        "バッチ内で相関が現れてしまうことや過学習を防ぐには、訓練データをあらかじめシャッフルしておくことが重要です。\n",
        "\n",
        "一方で、検証のためのデータセットはシャフルの有無は関係なく、損失は同じになります。\n",
        "\n",
        "余分な時間がかかってしまうので、検証データはシャッフルしないようにしましょう。"
      ]
    },
    {
      "cell_type": "code",
      "metadata": {
        "id": "kzpB4F9odktO"
      },
      "source": [
        "def train_model(dataset_train, dataset_valid, batch_size, model, criterion, optimizer, num_epochs, collate_fn=None, device=None):\n",
        "  \"\"\"モデルの学習を実行し、損失・正解率のログを返す\"\"\"\n",
        "  # デバイスの指定\n",
        "  model.to(device)\n",
        "\n",
        "  # dataloaderの作成\n",
        "  dataloader_train = DataLoader(dataset_train, batch_size=batch_size, shuffle=True, collate_fn=collate_fn)\n",
        "  dataloader_valid = DataLoader(dataset_valid, batch_size=1, shuffle=False)\n",
        "\n",
        "  # スケジューラの設定\n",
        "  scheduler = optim.lr_scheduler.CosineAnnealingLR(optimizer, num_epochs, eta_min=1e-5, last_epoch=-1)\n",
        "\n",
        "  # 学習\n",
        "  log_train = []\n",
        "  log_valid = []\n",
        "  for epoch in range(num_epochs):\n",
        "    # 開始時刻の記録\n",
        "    s_time = time.time()\n",
        "\n",
        "    # 訓練モードに設定\n",
        "    model.train()\n",
        "    for data in dataloader_train:\n",
        "      # 勾配をゼロで初期化\n",
        "      optimizer.zero_grad()\n",
        "\n",
        "      # 順伝播 + 誤差逆伝播 + 重み更新\n",
        "      inputs = data['inputs'].to(device)  # 記事テキストを(getitem()した)ID化したもの\n",
        "      labels = data['labels'].to(device)  # 記事カテゴリをラベル付けしたもの\n",
        "      outputs = model(inputs)\n",
        "      loss = criterion(outputs, labels)\n",
        "      loss.backward()\n",
        "      optimizer.step()\n",
        "\n",
        "    # 評価モードに設定\n",
        "    model.eval()\n",
        "\n",
        "    # 損失と正解率の算出\n",
        "    loss_train, acc_train = calculate_loss_and_accuracy(model, dataloader_train, device, loss_fn=criterion)  ##\n",
        "    loss_valid, acc_valid = calculate_loss_and_accuracy(model, dataloader_valid, device, loss_fn=criterion)  ##\n",
        "    log_train.append([loss_train, acc_train])\n",
        "    log_valid.append([loss_valid, acc_valid])\n",
        "\n",
        "    # チェックポイントの保存\n",
        "    torch.save({'epoch': epoch, 'model_state_dict': model.state_dict(), 'optimizer_state_dict': optimizer.state_dict()}, f'checkpoint{epoch + 1}.pt')\n",
        "\n",
        "    # 終了時刻の記録\n",
        "    e_time = time.time()\n",
        "\n",
        "    # ログを出力\n",
        "    print(f'epoch: {epoch + 1}, loss_train: {loss_train:.4f}, accuracy_train: {acc_train:.4f}, loss_valid: {loss_valid:.4f}, accuracy_valid: {acc_valid:.4f}, {(e_time - s_time):.4f}sec') \n",
        "\n",
        "    # 検証データの損失が3エポック連続で低下しなかった場合は学習終了\n",
        "    if epoch > 2 and log_valid[epoch - 3][0] <= log_valid[epoch - 2][0] <= log_valid[epoch - 1][0] <= log_valid[epoch][0]:\n",
        "      break\n",
        "\n",
        "    # スケジューラを1ステップ進める\n",
        "    scheduler.step()\n",
        "\n",
        "  return {'train': log_train, 'valid': log_valid}"
      ],
      "execution_count": 12,
      "outputs": []
    },
    {
      "cell_type": "code",
      "metadata": {
        "id": "m3JJeeGSgIGs"
      },
      "source": [
        "# import numpy as np\n",
        "# from matplotlib import pyplot as plt\n",
        "\n",
        "# def visualize_logs(log):\n",
        "#   fig, ax = plt.subplots(1, 2, figsize=(15, 5))\n",
        "#   ax[0].plot(np.array(log['train']).T[0], label='train')\n",
        "#   ax[0].plot(np.array(log['valid']).T[0], label='valid')\n",
        "#   ax[0].set_xlabel('epoch')\n",
        "#   ax[0].set_ylabel('loss')\n",
        "#   ax[0].legend()\n",
        "#   ax[1].plot(np.array(log['train']).T[1], label='train')\n",
        "#   ax[1].plot(np.array(log['valid']).T[1], label='valid')\n",
        "#   ax[1].set_xlabel('epoch')\n",
        "#   ax[1].set_ylabel('accuracy')\n",
        "#   ax[1].legend()\n",
        "#   plt.show()"
      ],
      "execution_count": 13,
      "outputs": []
    },
    {
      "cell_type": "code",
      "metadata": {
        "colab": {
          "base_uri": "https://localhost:8080/"
        },
        "id": "18kHAn6XgK-q",
        "outputId": "c5bf9336-b02d-4e6c-a753-375e1addcd56"
      },
      "source": [
        "# パラメータの設定\n",
        "VOCAB_SIZE = len(set(word2id.values())) + 1 \n",
        "EMB_SIZE = 300\n",
        "PADDING_IDX = len(set(word2id.values()))\n",
        "OUTPUT_SIZE = 4\n",
        "HIDDEN_SIZE = 50\n",
        "LEARNING_RATE = 1e-3\n",
        "BATCH_SIZE = 1\n",
        "NUM_EPOCHS = 10\n",
        "\n",
        "# モデルの定義\n",
        "model = RNN(VOCAB_SIZE, EMB_SIZE, PADDING_IDX, OUTPUT_SIZE, HIDDEN_SIZE)\n",
        "\n",
        "# 損失関数の定義\n",
        "criterion = nn.CrossEntropyLoss()\n",
        "\n",
        "# オプティマイザの定義\n",
        "optimizer = torch.optim.SGD(model.parameters(), lr=LEARNING_RATE)\n",
        "\n",
        "# モデルの学習\n",
        "log = train_model(dataset_train, dataset_valid, BATCH_SIZE, model, criterion, optimizer, NUM_EPOCHS)"
      ],
      "execution_count": 14,
      "outputs": [
        {
          "output_type": "stream",
          "text": [
            "epoch: 1, loss_train: 1.0696, accuracy_train: 0.5483, loss_valid: 1.0932, accuracy_valid: 0.5375, 54.5403sec\n",
            "epoch: 2, loss_train: 0.9524, accuracy_train: 0.6240, loss_valid: 0.9980, accuracy_valid: 0.6124, 50.9775sec\n",
            "epoch: 3, loss_train: 0.7637, accuracy_train: 0.7225, loss_valid: 0.8474, accuracy_valid: 0.6912, 50.1116sec\n",
            "epoch: 4, loss_train: 0.6450, accuracy_train: 0.7684, loss_valid: 0.7590, accuracy_valid: 0.7279, 50.4914sec\n",
            "epoch: 5, loss_train: 0.5643, accuracy_train: 0.7983, loss_valid: 0.7070, accuracy_valid: 0.7459, 50.2361sec\n",
            "epoch: 6, loss_train: 0.5020, accuracy_train: 0.8161, loss_valid: 0.6693, accuracy_valid: 0.7526, 50.4088sec\n",
            "epoch: 7, loss_train: 0.4511, accuracy_train: 0.8338, loss_valid: 0.6380, accuracy_valid: 0.7669, 50.7787sec\n",
            "epoch: 8, loss_train: 0.4273, accuracy_train: 0.8419, loss_valid: 0.6422, accuracy_valid: 0.7676, 52.2318sec\n",
            "epoch: 9, loss_train: 0.4087, accuracy_train: 0.8505, loss_valid: 0.6282, accuracy_valid: 0.7736, 53.8458sec\n",
            "epoch: 10, loss_train: 0.4039, accuracy_train: 0.8503, loss_valid: 0.6266, accuracy_valid: 0.7811, 53.9071sec\n"
          ],
          "name": "stdout"
        }
      ]
    },
    {
      "cell_type": "code",
      "metadata": {
        "colab": {
          "base_uri": "https://localhost:8080/",
          "height": 334
        },
        "id": "TUnLAs9VmgOY",
        "outputId": "beb0d403-d6f7-4c1b-def7-9926a3bc43f5"
      },
      "source": [
        "# # ログの可視化\n",
        "# visualize_logs(log)"
      ],
      "execution_count": 15,
      "outputs": [
        {
          "output_type": "display_data",
          "data": {
            "image/png": "[encoded data removed]",
            "text/plain": [
              "<Figure size 1080x360 with 2 Axes>"
            ]
          },
          "metadata": {
            "tags": [],
            "needs_background": "light"
          }
        }
      ]
    },
    {
      "cell_type": "code",
      "metadata": {
        "id": "89r_NBx9V2S2"
      },
      "source": [
        "# # 正解率の算出\n",
        "# _, acc_train = calculate_loss_and_accuracy(model, dataloader_train)\n",
        "# _, acc_test = calculate_loss_and_accuracy(model, dataloader_test)\n",
        "# print(f'正解率（学習データ）：{acc_train:.3f}')\n",
        "# print(f'正解率（評価データ）：{acc_test:.3f}')"
      ],
      "execution_count": null,
      "outputs": []
    },
    {
      "cell_type": "markdown",
      "metadata": {
        "id": "nupeZdZ979gD"
      },
      "source": [
        "## 83. ミニバッチ化・GPU上での学習\n",
        "\n",
        "問題82のコードを改変し，B事例ごとに損失・勾配を計算して学習を行えるようにせよ（Bの値は適当に選べ）．また，GPU上で学習を実行せよ．\n",
        "\n"
      ]
    },
    {
      "cell_type": "code",
      "metadata": {
        "id": "WRZn86C8fcrD"
      },
      "source": [
        "# ラベルベクトルの作成\n",
        "category_dict = {'b': 0, 't': 1, 'e':2, 'm':3}\n",
        "y_train = train['CATEGORY'].map(lambda x: category_dict[x]).values\n",
        "y_valid = valid['CATEGORY'].map(lambda x: category_dict[x]).values\n",
        "y_test = test['CATEGORY'].map(lambda x: category_dict[x]).values\n",
        "\n",
        "# Datasetの作成\n",
        "dataset_train = CreateDataset(train['TITLE'].values, y_train, tokenizer)  # train['TITLE']:記事, y_train:カテゴリID\n",
        "dataset_valid = CreateDataset(valid['TITLE'].values, y_valid, tokenizer)\n",
        "dataset_test = CreateDataset(test['TITLE'].values, y_test, tokenizer)"
      ],
      "execution_count": 31,
      "outputs": []
    },
    {
      "cell_type": "code",
      "metadata": {
        "id": "3DBJQAYjZDBj"
      },
      "source": [
        "class RNN(nn.Module):\n",
        "  def __init__(self, vocab_size, emb_size, padding_idx, output_size, hidden_size):\n",
        "    super().__init__()\n",
        "    self.hidden_size = hidden_size  # hidden_sizeが「dh」\n",
        "    # 埋め込み層にはnn.Embeddingを使います。この層は、単語IDを与えるとone-hotベクトルに変換した後、指定したサイズ（emb_size）のベクトルに変換します。\n",
        "    self.emb = nn.Embedding(vocab_size, emb_size, padding_idx=padding_idx)  # vocab_sizeが「V」、emb_sizeが「dw」、padding_idxが単語IDの最後のID番号+1の値\n",
        "    # RNNの入力はエンベディングベクトルと隠れ状態ベクトル。\n",
        "      # batch_first – If True, then the input and output tensors are provided as (batch, seq, feature).\n",
        "    self.rnn = nn.RNN(emb_size, hidden_size, nonlinearity='tanh', batch_first=True)\n",
        "    # RNNの出力の隠れ状態ベクトルを、アフィン変換してカテゴリyの予測に使用。\n",
        "    self.fc = nn.Linear(hidden_size, output_size)  # output_sizeが「L」(ラベル数)\n",
        "\n",
        "  def forward(self, x):\n",
        "    self.batch_size = x.size()[0]  # バッチ内のデータ数\n",
        "    hidden = self.init_hidden()  # h0のゼロベクトルを作成\n",
        "    # ここスタック使った方がまとまりそう\n",
        "    emb = self.emb(x)  # 入力の単語IDをエンベディングベクトルに\n",
        "    # emb.size() = (batch_size, seq_len, emb_size) # (バッチ内のデータ数, 文字列中の単語数、単語ベクトル)\n",
        "    # outは各時刻の隠れ状態(各単語に対応する隠れ状態)を保持、hiddenは最後の時刻の隠れ状態\n",
        "    out, hidden = self.rnn(emb, hidden)\n",
        "    # out.size() = (batch_size, seq_len, hidden_size)\n",
        "    out = self.fc(out[:, -1, :])  # 最後の隠れ状態ベクトルだけ使う？\n",
        "    # out.size() = (batch_size, output_size)  # output_size = 4（カテゴリ数）\n",
        "    return out\n",
        "\n",
        "  def init_hidden(self):\n",
        "    hidden = torch.zeros(1, self.batch_size, self.hidden_size).to(device)  ##\n",
        "    return hidden"
      ],
      "execution_count": 22,
      "outputs": []
    },
    {
      "cell_type": "markdown",
      "metadata": {
        "id": "ifIxSEaIjFR3"
      },
      "source": [
        "現在は文ごとに系列長が異なりますが、ミニバッチとしてまとめるには系列長を揃える必要があります。\n",
        "そこで、複数の文の最大系列長に合わせてパディングする機能を持つPadsequenceクラスを新たに定義します。これをDataloaderの引数collate_fnに与えることで、ミニバッチを取り出すごとに系列長を揃える処理を実現することができます。"
      ]
    },
    {
      "cell_type": "code",
      "metadata": {
        "id": "5bKQWt6Skyxb"
      },
      "source": [
        "class Padsequence():\n",
        "  \"\"\"Dataloaderからミニバッチを取り出すごとに最大系列長でパディング\"\"\"  # 1つのバッチには、inputsとlabelsの辞書が、バッチ内数だけ並んでいる？\n",
        "  def __init__(self, padding_idx):\n",
        "    self.padding_idx = padding_idx\n",
        "\n",
        "  def __call__(self, batch):\n",
        "    # 辞書のキー(つまりinputs)の長さ(つまり系列長)が一番長いもの探す\n",
        "    sorted_batch = sorted(batch, key=lambda x: x['inputs'].shape[0], reverse=True)  # 辞書のリストをキーに関連する値でソートする方法\n",
        "    sequences = [x['inputs'] for x in sorted_batch]\n",
        "    # pad_sequenceは長さの違うテンソルを与えると, 短いものの末尾にゼロ埋めを施して次元を揃えてくれる関数\n",
        "    # 軸の並びを(バッチサイズ×最大シーケンス長×特徴量次元数)にしたければbatch_first=Trueにしましょう\n",
        "    sequences_padded = torch.nn.utils.rnn.pad_sequence(sequences, batch_first=True, padding_value=self.padding_idx)\n",
        "    labels = torch.LongTensor([x['labels'] for x in sorted_batch])  # 何で？\n",
        "\n",
        "    return {'inputs': sequences_padded, 'labels': labels}  # 並び替える必要ある？"
      ],
      "execution_count": 34,
      "outputs": []
    },
    {
      "cell_type": "code",
      "metadata": {
        "id": "Zo1sGtCosYVj"
      },
      "source": [
        "from torch.utils.data import DataLoader\n",
        "import time\n",
        "from torch import optim"
      ],
      "execution_count": 18,
      "outputs": []
    },
    {
      "cell_type": "code",
      "metadata": {
        "id": "uzxY6xXekdtw"
      },
      "source": [
        "def calculate_loss_and_accuracy(model, dataloader, device=None, loss_fn=None):\n",
        "    total_loss = len(dataloader)  # バッチ数(損失はバッチ毎(1イテレータ)に1つ求まるので)\n",
        "    total_data = dataloader.batch_size * len(dataloader)  # ※全データ =  (バッチ内のデータ数) * (バッチ数)\n",
        "                                  # 予測結果はバッチ毎に、バッチ内のデータ数だけ求まる\n",
        "    correct, loss = 0, 0\n",
        "\n",
        "    with torch.no_grad():  # テスト中は伝播記録をしない\n",
        "        for data in dataloader:\n",
        "            inputs = data['inputs'].to(device)\n",
        "            labels = data['labels'].to(device)         \n",
        "            pred = model(inputs)\n",
        "            loss += loss_fn(pred, labels).item()  # バッチ内に複数データがあるなら、各データの損失の平均を返す?\n",
        "            correct += (pred.argmax(1) == labels).type(torch.float).sum().item()\n",
        "\n",
        "    return loss / total_loss, correct / total_data"
      ],
      "execution_count": 37,
      "outputs": []
    },
    {
      "cell_type": "code",
      "metadata": {
        "id": "ihhLSqJJkoZV"
      },
      "source": [
        "def train_model(dataset_train, dataset_valid, batch_size, model, criterion, optimizer, num_epochs, collate_fn=None, device=None):\n",
        "  \"\"\"モデルの学習を実行し、損失・正解率のログを返す\"\"\"\n",
        "  # デバイスの指定\n",
        "  model.to(device)\n",
        "\n",
        "  # dataloaderの作成\n",
        "  dataloader_train = DataLoader(dataset_train, batch_size=batch_size, shuffle=True, collate_fn=collate_fn)\n",
        "  dataloader_valid = DataLoader(dataset_valid, batch_size=1, shuffle=False)\n",
        "\n",
        "  # スケジューラの設定\n",
        "  scheduler = optim.lr_scheduler.CosineAnnealingLR(optimizer, num_epochs, eta_min=1e-5, last_epoch=-1)\n",
        "\n",
        "  # 学習\n",
        "  log_train = []\n",
        "  log_valid = []\n",
        "  for epoch in range(num_epochs):\n",
        "    # 開始時刻の記録\n",
        "    s_time = time.time()\n",
        "\n",
        "    # 訓練モードに設定\n",
        "    model.train()\n",
        "    for data in dataloader_train:\n",
        "      # 勾配をゼロで初期化\n",
        "      optimizer.zero_grad()\n",
        "\n",
        "      # 順伝播 + 誤差逆伝播 + 重み更新\n",
        "      inputs = data['inputs'].to(device)  # 記事テキストを(getitem()した)ID化したもの\n",
        "      labels = data['labels'].to(device)  # 記事カテゴリをラベル付けしたもの\n",
        "      outputs = model(inputs)\n",
        "      loss = criterion(outputs, labels)\n",
        "      loss.backward()\n",
        "      optimizer.step()\n",
        "\n",
        "    # 評価モードに設定\n",
        "    model.eval()\n",
        "\n",
        "    # 損失と正解率の算出\n",
        "    loss_train, acc_train = calculate_loss_and_accuracy(model, dataloader_train, device, loss_fn=criterion)  ##\n",
        "    loss_valid, acc_valid = calculate_loss_and_accuracy(model, dataloader_valid, device, loss_fn=criterion)  ##\n",
        "    log_train.append([loss_train, acc_train])\n",
        "    log_valid.append([loss_valid, acc_valid])\n",
        "\n",
        "    # チェックポイントの保存\n",
        "    torch.save({'epoch': epoch, 'model_state_dict': model.state_dict(), 'optimizer_state_dict': optimizer.state_dict()}, f'checkpoint{epoch + 1}.pt')\n",
        "\n",
        "    # 終了時刻の記録\n",
        "    e_time = time.time()\n",
        "\n",
        "    # ログを出力\n",
        "    print(f'epoch: {epoch + 1}, loss_train: {loss_train:.4f}, accuracy_train: {acc_train:.4f}, loss_valid: {loss_valid:.4f}, accuracy_valid: {acc_valid:.4f}, {(e_time - s_time):.4f}sec') \n",
        "\n",
        "    # 検証データの損失が3エポック連続で低下しなかった場合は学習終了\n",
        "    if epoch > 2 and log_valid[epoch - 3][0] <= log_valid[epoch - 2][0] <= log_valid[epoch - 1][0] <= log_valid[epoch][0]:\n",
        "      break\n",
        "\n",
        "    # スケジューラを1ステップ進める\n",
        "    scheduler.step()\n",
        "\n",
        "  return {'train': log_train, 'valid': log_valid}"
      ],
      "execution_count": 36,
      "outputs": []
    },
    {
      "cell_type": "code",
      "metadata": {
        "id": "AGepE7qbeXYT"
      },
      "source": [
        "dataloader_train2 = DataLoader(dataset_train, batch_size=32, shuffle=True, collate_fn=Padsequence(len(set(word2id.values()))))"
      ],
      "execution_count": 29,
      "outputs": []
    },
    {
      "cell_type": "code",
      "metadata": {
        "id": "iLcjnQGDtaqy",
        "colab": {
          "base_uri": "https://localhost:8080/"
        },
        "outputId": "550c4e0e-cdcd-4629-fc10-8525a7369897"
      },
      "source": [
        "# パラメータの設定\n",
        "VOCAB_SIZE = len(set(word2id.values())) + 1\n",
        "EMB_SIZE = 300\n",
        "PADDING_IDX = len(set(word2id.values()))\n",
        "OUTPUT_SIZE = 4\n",
        "HIDDEN_SIZE = 50\n",
        "LEARNING_RATE = 5e-2\n",
        "BATCH_SIZE = 32\n",
        "NUM_EPOCHS = 10\n",
        "\n",
        "# モデルの定義\n",
        "model = RNN(VOCAB_SIZE, EMB_SIZE, PADDING_IDX, OUTPUT_SIZE, HIDDEN_SIZE)\n",
        "\n",
        "# 損失関数の定義\n",
        "criterion = nn.CrossEntropyLoss()\n",
        "\n",
        "# オプティマイザの定義\n",
        "optimizer = torch.optim.SGD(model.parameters(), lr=LEARNING_RATE)\n",
        "\n",
        "# デバイスの指定\n",
        "device = torch.device('cuda')\n",
        "\n",
        "# モデルの学習\n",
        "log = train_model(dataset_train, dataset_valid, BATCH_SIZE, model, criterion, optimizer, NUM_EPOCHS, collate_fn=Padsequence(PADDING_IDX), device=device)"
      ],
      "execution_count": 38,
      "outputs": [
        {
          "output_type": "stream",
          "text": [
            "epoch: 1, loss_train: 1.1520, accuracy_train: 0.4735, loss_valid: 1.2607, accuracy_valid: 0.3958, 2.0252sec\n",
            "epoch: 2, loss_train: 1.1096, accuracy_train: 0.5260, loss_valid: 1.2537, accuracy_valid: 0.4438, 1.9619sec\n",
            "epoch: 3, loss_train: 0.9788, accuracy_train: 0.6429, loss_valid: 1.1527, accuracy_valid: 0.5180, 1.9436sec\n",
            "epoch: 4, loss_train: 0.9290, accuracy_train: 0.6688, loss_valid: 1.0886, accuracy_valid: 0.5885, 1.9831sec\n",
            "epoch: 5, loss_train: 0.8721, accuracy_train: 0.7019, loss_valid: 1.0232, accuracy_valid: 0.6327, 1.9784sec\n",
            "epoch: 6, loss_train: 0.8059, accuracy_train: 0.7262, loss_valid: 0.9225, accuracy_valid: 0.6904, 1.9624sec\n",
            "epoch: 7, loss_train: 0.7026, accuracy_train: 0.7572, loss_valid: 0.9087, accuracy_valid: 0.6979, 1.9671sec\n",
            "epoch: 8, loss_train: 0.6492, accuracy_train: 0.7710, loss_valid: 0.8768, accuracy_valid: 0.7129, 1.9611sec\n",
            "epoch: 9, loss_train: 0.6156, accuracy_train: 0.7783, loss_valid: 0.8502, accuracy_valid: 0.7241, 1.9632sec\n",
            "epoch: 10, loss_train: 0.6013, accuracy_train: 0.7807, loss_valid: 0.8321, accuracy_valid: 0.7249, 1.9779sec\n"
          ],
          "name": "stdout"
        }
      ]
    },
    {
      "cell_type": "code",
      "metadata": {
        "colab": {
          "base_uri": "https://localhost:8080/",
          "height": 334
        },
        "id": "QLCw-Al6iO_n",
        "outputId": "bfe5b32b-8275-4c6d-965f-aa4bc700d4b2"
      },
      "source": [
        "# ログの可視化\n",
        "visualize_logs(log)"
      ],
      "execution_count": 39,
      "outputs": [
        {
          "output_type": "display_data",
          "data": {
            "image/png": "[encoded data removed]",
            "text/plain": [
              "<Figure size 1080x360 with 2 Axes>"
            ]
          },
          "metadata": {
            "tags": [],
            "needs_background": "light"
          }
        }
      ]
    },
    {
      "cell_type": "markdown",
      "metadata": {
        "id": "VLDNPNAbVmcZ"
      },
      "source": [
        "## 84. 単語ベクトルの導入\n",
        "事前学習済みの単語ベクトル（例えば，Google Newsデータセット（約1,000億単語）での学習済み単語ベクトル）で単語埋め込み$emb(x)$を初期化し，学習せよ．\n"
      ]
    },
    {
      "cell_type": "code",
      "metadata": {
        "id": "ClCLwqzojIih"
      },
      "source": [
        "import gdown  # Download a large file from Google Drive.\n",
        "# If you use curl/wget, it fails with a large file because of the security warning from Google Drive.\n",
        "from gensim.models import KeyedVectors\n",
        "\n",
        "# 学習済み単語ベクトルのダウンロード\n",
        "url = \"https://drive.google.com/uc?id=0B7XkCwpI5KDYNlNUTTlSS21pQmM\"\n",
        "output = 'GoogleNews-vectors-negative300.bin.gz'\n",
        "gdown.download(url, output, quiet=True)\n",
        "\n",
        "# ダウンロードファイルのロード\n",
        "model = KeyedVectors.load_word2vec_format('GoogleNews-vectors-negative300.bin.gz', binary=True)"
      ],
      "execution_count": 42,
      "outputs": []
    },
    {
      "cell_type": "markdown",
      "metadata": {
        "id": "hIy_hw7TVX-M"
      },
      "source": [
        "手元のデータの辞書はそのまま利用し、それらの単語ベクトルの初期値としてのみ利用する方法があります。"
      ]
    },
    {
      "cell_type": "code",
      "metadata": {
        "id": "itla4lojLW0A",
        "colab": {
          "base_uri": "https://localhost:8080/"
        },
        "outputId": "cc566ef4-45fb-4354-f65e-b9db20fea3f8"
      },
      "source": [
        "# 学習済み単語ベクトルの取得\n",
        "VOCAB_SIZE = len(set(word2id.values())) + 1\n",
        "EMB_SIZE = 300\n",
        "weights = np.zeros((VOCAB_SIZE, EMB_SIZE))\n",
        "words_in_pretrained = 0\n",
        "for i, word in enumerate(word2id.keys()):\n",
        "  try:\n",
        "    weights[i] = model[word]  # 重みの各行に単語辞書の各単語の学習済みベクトルの値を代入していく\n",
        "    words_in_pretrained += 1\n",
        "  except KeyError:\n",
        "    weights[i] = np.random.normal(scale=0.4, size=(EMB_SIZE,))\n",
        "weights = torch.from_numpy(weights.astype((np.float32)))  # pytorchの型に変換\n",
        "\n",
        "print(f'学習済みベクトル利用単語数: {words_in_pretrained} / {VOCAB_SIZE}')\n",
        "print(weights.size())"
      ],
      "execution_count": 43,
      "outputs": [
        {
          "output_type": "stream",
          "text": [
            "学習済みベクトル利用単語数: 6746 / 7617\n",
            "torch.Size([7617, 300])\n"
          ],
          "name": "stdout"
        }
      ]
    },
    {
      "cell_type": "code",
      "metadata": {
        "colab": {
          "base_uri": "https://localhost:8080/"
        },
        "id": "LqeglDAqjfnJ",
        "outputId": "1d45f4fb-74c7-4791-b3cd-ead3316e3911"
      },
      "source": [
        "import gc\n",
        "del model\n",
        "gc.collect()"
      ],
      "execution_count": 44,
      "outputs": [
        {
          "output_type": "execute_result",
          "data": {
            "text/plain": [
              "129"
            ]
          },
          "metadata": {
            "tags": []
          },
          "execution_count": 44
        }
      ]
    },
    {
      "cell_type": "markdown",
      "metadata": {
        "id": "zqGF1A5AViyz"
      },
      "source": [
        "次の問題用に双方向化、多層化のための設定も追加"
      ]
    },
    {
      "cell_type": "code",
      "metadata": {
        "id": "xHxyEyFVVZoG"
      },
      "source": [
        "class RNN(nn.Module):\n",
        "  def __init__(self, vocab_size, emb_size, padding_idx, output_size, hidden_size, num_layers, emb_weights=None, bidirectional=False):\n",
        "    super().__init__()\n",
        "    self.hidden_size = hidden_size\n",
        "    self.num_layers = num_layers\n",
        "    self.num_directions = bidirectional + 1  # 単方向：1、双方向：2\n",
        "    if emb_weights != None:  # 指定があれば埋め込み層の重みをemb_weightsで初期化\n",
        "      self.emb = nn.Embedding.from_pretrained(emb_weights, padding_idx=padding_idx)  # エンベディングの重みがあるならvocab_sizeとemb_sizeは自明\n",
        "    else:\n",
        "      self.emb = nn.Embedding(vocab_size, emb_size, padding_idx=padding_idx)\n",
        "    self.rnn = nn.RNN(emb_size, hidden_size, num_layers, nonlinearity='tanh', bidirectional=bidirectional, batch_first=True)\n",
        "    self.fc = nn.Linear(hidden_size * self.num_directions, output_size)\n",
        "\n",
        "  def forward(self, x):\n",
        "    self.batch_size = x.size()[0]\n",
        "    hidden = self.init_hidden()  # h0のゼロベクトルを作成\n",
        "    emb = self.emb(x)\n",
        "    # emb.size() = (batch_size, seq_len, emb_size)\n",
        "    out, hidden = self.rnn(emb, hidden)\n",
        "    # out.size() = (batch_size, seq_len, hidden_size * num_directions)\n",
        "    out = self.fc(out[:, -1, :])\n",
        "    # out.size() = (batch_size, output_size)\n",
        "    return out\n",
        "\n",
        "  def init_hidden(self):\n",
        "    hidden = torch.zeros(self.num_layers * self.num_directions, self.batch_size, self.hidden_size).to(device)\n",
        "    return hidden"
      ],
      "execution_count": 47,
      "outputs": []
    },
    {
      "cell_type": "markdown",
      "metadata": {
        "id": "Ucr7k-26ITRG"
      },
      "source": [
        "## 85. 双方向RNN・多層化\n",
        "順方向と逆方向のRNNの両方を用いて入力テキストをエンコードし，モデルを学習せよ．\n",
        "\n",
        "$$\n",
        "\\overleftarrow h_{T+1} = 0, \\\\\n",
        "\\overleftarrow h_t = {\\rm \\overleftarrow{RNN}}(\\mathrm{emb}(x_t), \\overleftarrow h_{t+1}), \\\\\n",
        "y = {\\rm softmax}(W^{(yh)} [\\overrightarrow h_T; \\overleftarrow h_1] + b^{(y)})\n",
        "$$\n",
        "\n",
        "ただし，$\\overrightarrow h_t \\in \\mathbb{R}^{d_h}, \\overleftarrow h_t \\in \\mathbb{R}^{d_h}$はそれぞれ，順方向および逆方向のRNNで求めた時刻$t$の隠れ状態ベクトル，${\\rm \\overleftarrow{RNN}}(x,h)$は入力$x$と次時刻の隠れ状態$h$から前状態を計算するRNNユニット，$W^{(yh)} \\in \\mathbb{R}^{L \\times 2d_h}$は隠れ状態ベクトルからカテゴリを予測するための行列，$b^{(y)} \\in \\mathbb{R}^{L}$はバイアス項である．また，$[a; b]$はベクトル$a$と$b$の連結を表す。\n",
        "\n",
        "さらに，双方向RNNを多層化して実験せよ．\n"
      ]
    },
    {
      "cell_type": "markdown",
      "metadata": {
        "id": "vz1MoFE_IQTe"
      },
      "source": [
        "双方向を指定する引数であるbidirectionalをTrueとし、またNUM_LAYERSを2に設定して学習を実行します"
      ]
    },
    {
      "cell_type": "code",
      "metadata": {
        "id": "6M1GKceXIQAS",
        "colab": {
          "base_uri": "https://localhost:8080/"
        },
        "outputId": "90ffc154-b4fb-4e41-b991-0ae8d5f17625"
      },
      "source": [
        "# パラメータの設定\n",
        "VOCAB_SIZE = len(set(word2id.values())) + 1\n",
        "EMB_SIZE = 300\n",
        "PADDING_IDX = len(set(word2id.values()))\n",
        "OUTPUT_SIZE = 4\n",
        "HIDDEN_SIZE = 50\n",
        "NUM_LAYERS = 2\n",
        "LEARNING_RATE = 5e-2\n",
        "BATCH_SIZE = 32\n",
        "NUM_EPOCHS = 10\n",
        "\n",
        "# モデルの定義\n",
        "model = RNN(VOCAB_SIZE, EMB_SIZE, PADDING_IDX, OUTPUT_SIZE, HIDDEN_SIZE, NUM_LAYERS, emb_weights=weights, bidirectional=True)\n",
        "\n",
        "# 損失関数の定義\n",
        "criterion = nn.CrossEntropyLoss()\n",
        "\n",
        "# オプティマイザの定義\n",
        "optimizer = torch.optim.SGD(model.parameters(), lr=LEARNING_RATE)\n",
        "\n",
        "# デバイスの指定\n",
        "device = torch.device('cuda')\n",
        "\n",
        "# モデルの学習\n",
        "log = train_model(dataset_train, dataset_valid, BATCH_SIZE, model, criterion, optimizer, NUM_EPOCHS, collate_fn=Padsequence(PADDING_IDX), device=device)"
      ],
      "execution_count": 48,
      "outputs": [
        {
          "output_type": "stream",
          "text": [
            "epoch: 1, loss_train: 1.0811, accuracy_train: 0.5682, loss_valid: 1.1617, accuracy_valid: 0.4933, 3.2957sec\n",
            "epoch: 2, loss_train: 1.0352, accuracy_train: 0.6060, loss_valid: 1.0732, accuracy_valid: 0.5637, 3.2757sec\n",
            "epoch: 3, loss_train: 1.0013, accuracy_train: 0.6367, loss_valid: 1.1035, accuracy_valid: 0.5750, 3.2748sec\n",
            "epoch: 4, loss_train: 0.9191, accuracy_train: 0.6792, loss_valid: 1.0191, accuracy_valid: 0.6184, 3.3011sec\n",
            "epoch: 5, loss_train: 1.0260, accuracy_train: 0.5614, loss_valid: 1.0318, accuracy_valid: 0.6012, 3.2206sec\n",
            "epoch: 6, loss_train: 0.9016, accuracy_train: 0.6806, loss_valid: 1.1431, accuracy_valid: 0.5352, 3.3088sec\n",
            "epoch: 7, loss_train: 0.8725, accuracy_train: 0.6922, loss_valid: 1.0280, accuracy_valid: 0.6162, 3.2731sec\n",
            "epoch: 8, loss_train: 0.8735, accuracy_train: 0.6905, loss_valid: 0.9898, accuracy_valid: 0.6394, 3.2596sec\n",
            "epoch: 9, loss_train: 0.8557, accuracy_train: 0.6964, loss_valid: 0.9990, accuracy_valid: 0.6334, 3.2473sec\n",
            "epoch: 10, loss_train: 0.8558, accuracy_train: 0.6979, loss_valid: 1.0307, accuracy_valid: 0.6139, 3.2826sec\n"
          ],
          "name": "stdout"
        }
      ]
    },
    {
      "cell_type": "code",
      "metadata": {
        "colab": {
          "base_uri": "https://localhost:8080/",
          "height": 334
        },
        "id": "1AjZm7gDkBIM",
        "outputId": "2da4474a-f2b2-45a3-8f6f-09093d61537b"
      },
      "source": [
        "# ログの可視化\n",
        "visualize_logs(log)"
      ],
      "execution_count": 49,
      "outputs": [
        {
          "output_type": "display_data",
          "data": {
            "image/png": "[encoded data removed]",
            "text/plain": [
              "<Figure size 1080x360 with 2 Axes>"
            ]
          },
          "metadata": {
            "tags": [],
            "needs_background": "light"
          }
        }
      ]
    },
    {
      "cell_type": "markdown",
      "metadata": {
        "id": "TIcy8hdzP8S3"
      },
      "source": [
        "## 86. 畳み込みニューラルネットワーク (CNN)\n",
        ">ID番号で表現された単語列$\\boldsymbol x = (x_1, x_2, \\dots, x_T)$がある．ただし，$T$は単語列の長さ，$x_t \\in \\mathbb{R}^{V}$は単語のID番号のone-hot表記である（$V$は単語の総数である）．畳み込みニューラルネットワーク（CNN: Convolutional Neural Network）を用い，単語列$\\boldsymbol x$からカテゴリ$y$を予測するモデルを実装せよ．\n",
        ">\n",
        ">ただし，畳み込みニューラルネットワークの構成は以下の通りとする．\n",
        ">\n",
        ">+ 単語埋め込みの次元数: $d_w$\n",
        "+ 畳み込みのフィルターのサイズ: 3 トークン\n",
        "+ 畳み込みのストライド: 1 トークン\n",
        "+ 畳み込みのパディング: あり\n",
        "+ 畳み込み演算後の各時刻のベクトルの次元数: $d_h$\n",
        "+ 畳み込み演算後に最大値プーリング（max pooling）を適用し，入力文を$d_h$次元の隠れベクトルで表現\n",
        " すなわち，時刻$t$の特徴ベクトル$p_t \\in \\mathbb{R}^{d_h}$は次式で表される．\n",
        ">\n",
        ">$$\n",
        "p_t = g(W^{(px)} [\\mathrm{emb}(x_{t-1}); \\mathrm{emb}(x_t); \\mathrm{emb}(x_{t+1})] + b^{(p)})\n",
        "]\n",
        "$$\n",
        ">\n",
        ">ただし，$W^{(px)} \\in \\mathbb{R}^{d_h \\times 3d_w}, b^{(p)} \\in \\mathbb{R}^{d_h}$はCNNのパラメータ，$g$は活性化関数（例えば$\\tanh$やReLUなど），$[a; b; c]$はベクトル$a, b, c$の連結である．なお，行列$W^{(px)}$の列数が$3d_w$になるのは，3個のトークンの単語埋め込みを連結したものに対して，線形変換を行うためである．\n",
        "最大値プーリングでは，特徴ベクトルの次元毎に全時刻における最大値を取り，入力文書の特徴ベクトル$c \\in \\mathbb{R}^{d_h}$を求める．$c[i]$でベクトル$c$の$i$番目の次元の値を表すことにすると，最大値プーリングは次式で表される．\n",
        ">\n",
        ">$$\n",
        "c[i] = \\max_{1 \\leq t \\leq T} p_t[i]\n",
        "$$\n",
        ">\n",
        ">最後に，入力文書の特徴ベクトル$c$に行列$W^{(yc)} \\in \\mathbb{R}^{L \\times d_h}$とバイアス項$b^{(y)} \\in \\mathbb{R}^{L}$による線形変換とソフトマックス関数を適用し，カテゴリ$y$を予測する．\n",
        ">\n",
        ">$$\n",
        "y = {\\rm softmax}(W^{(yc)} c + b^{(y)})\n",
        "$$\n",
        ">\n",
        ">なお，この問題ではモデルの学習を行わず，ランダムに初期化された重み行列で$y$を計算するだけでよい．"
      ]
    },
    {
      "cell_type": "markdown",
      "metadata": {
        "id": "FrglfthvLcVL"
      },
      "source": [
        "つまり、単語IDを単語ベクトル化したトークン(長さ3dw)を３つ分まとめて線形変換し、活性化関数に通して長さdhの隠れ状態ベクトルを作る。その操作を３連続するすべての単語間(T組ある)で行って、T個の隠れ状態ベクトルを作る。そのT個の各次元の値を見比べて、最も大きいものを１つずつ取り出したものを文書全体の隠れ状態ベクトルcとみなす。最後に、cを線形変換とソフトマックスして各カテゴリの確率を導く。  \n",
        "畳み込みとは言うけど、画像における畳み込みとは計算方法が違うように見える。  \n",
        "☆ただ、単語ベクトルの列の各次元の値を１画素とみなして、パディングサイズを単語ベクトルのサイズ３つ分にすれば、畳み込みと解釈できる?"
      ]
    },
    {
      "cell_type": "code",
      "metadata": {
        "id": "0DEOUVT0NG07"
      },
      "source": [
        "from torch.nn import functional as F\n",
        "\n",
        "class CNN(nn.Module):\n",
        "  def __init__(self, vocab_size, emb_size, padding_idx, output_size, out_channels, kernel_heights, stride, padding, emb_weights=None):\n",
        "    super().__init__()\n",
        "    if emb_weights != None:  # 指定があれば埋め込み層の重みをemb_weightsで初期化\n",
        "      self.emb = nn.Embedding.from_pretrained(emb_weights, padding_idx=padding_idx)\n",
        "    else:\n",
        "      self.emb = nn.Embedding(vocab_size, emb_size, padding_idx=padding_idx)\n",
        "    # 1 input channel, 100 output channels(フィルタ数), 3x300 square(フィルタサイズ)\n",
        "    # 入力は(バッチ数無視すると) 単語列数(T) × 単語ベクトルサイズ(emb_size)なので、3 × emb_size のフィルタを使う(かつstrideが1)と、下方向にのみフィルタを１つずつズラしていく操作となる\n",
        "      # 全体にフィルタを通したあとの出力は(T,1)になる（T × 300 → T × 1）\n",
        "      # フィルタ数が100個なので、その出力が100個分できる(100 × T × 1)\n",
        "    self.conv = nn.Conv2d(1, out_channels, (kernel_heights, emb_size), stride, (padding, 0))\n",
        "    self.drop = nn.Dropout(0.3)\n",
        "    self.fc = nn.Linear(out_channels, output_size)\n",
        "\n",
        "  def forward(self, x):\n",
        "    # x.size() = (batch_size, seq_len)  # (バッチサイズ, 単語ID番号がT個並ぶ？)\n",
        "    emb = self.emb(x).unsqueeze(1)\n",
        "    # emb.size() = (batch_size, 1, seq_len, emb_size)\n",
        "    conv = self.conv(emb)\n",
        "    # conv.size() = (batch_size, out_channels, seq_len, 1)\n",
        "    act = F.relu(conv.squeeze(3))\n",
        "    # act.size() = (batch_size, out_channels, seq_len)\n",
        "    max_pool = F.max_pool1d(act, act.size()[2])  # seq_len方向に最大値を取得\n",
        "    # max_pool.size() = (batch_size, out_channels, 1)\n",
        "    out = self.fc(self.drop(max_pool.squeeze(2)))\n",
        "    # out.size() = (batch_size, output_size)\n",
        "    return out"
      ],
      "execution_count": 50,
      "outputs": []
    },
    {
      "cell_type": "code",
      "metadata": {
        "id": "rGwwLnooNKAI",
        "colab": {
          "base_uri": "https://localhost:8080/"
        },
        "outputId": "c006ccdf-b3c6-430a-9a5c-031526e4c7af"
      },
      "source": [
        "# パラメータの設定\n",
        "VOCAB_SIZE = len(set(word2id.values())) + 1\n",
        "EMB_SIZE = 300\n",
        "PADDING_IDX = len(set(word2id.values()))\n",
        "OUTPUT_SIZE = 4\n",
        "OUT_CHANNELS = 100\n",
        "KERNEL_HEIGHTS = 3\n",
        "STRIDE = 1\n",
        "PADDING = 1\n",
        "\n",
        "# モデルの定義\n",
        "model = CNN(VOCAB_SIZE, EMB_SIZE, PADDING_IDX, OUTPUT_SIZE, OUT_CHANNELS, KERNEL_HEIGHTS, STRIDE, PADDING, emb_weights=weights)\n",
        "\n",
        "# 先頭10件の予測値取得\n",
        "for i in range(10):\n",
        "  X = dataset_train[i]['inputs']\n",
        "  print(torch.softmax(model(X.unsqueeze(0)), dim=-1))"
      ],
      "execution_count": 51,
      "outputs": [
        {
          "output_type": "stream",
          "text": [
            "tensor([[0.2027, 0.2634, 0.2842, 0.2498]], grad_fn=<SoftmaxBackward>)\n",
            "tensor([[0.2222, 0.2866, 0.2612, 0.2300]], grad_fn=<SoftmaxBackward>)\n",
            "tensor([[0.2204, 0.3072, 0.2874, 0.1849]], grad_fn=<SoftmaxBackward>)\n",
            "tensor([[0.2083, 0.2923, 0.2741, 0.2253]], grad_fn=<SoftmaxBackward>)\n",
            "tensor([[0.1958, 0.3205, 0.2731, 0.2106]], grad_fn=<SoftmaxBackward>)\n",
            "tensor([[0.2232, 0.3323, 0.2651, 0.1794]], grad_fn=<SoftmaxBackward>)\n",
            "tensor([[0.2214, 0.3006, 0.2892, 0.1889]], grad_fn=<SoftmaxBackward>)\n",
            "tensor([[0.2493, 0.2414, 0.2821, 0.2273]], grad_fn=<SoftmaxBackward>)\n",
            "tensor([[0.2129, 0.2728, 0.3012, 0.2131]], grad_fn=<SoftmaxBackward>)\n",
            "tensor([[0.2254, 0.2830, 0.3143, 0.1773]], grad_fn=<SoftmaxBackward>)\n"
          ],
          "name": "stdout"
        },
        {
          "output_type": "stream",
          "text": [
            "/usr/local/lib/python3.7/dist-packages/torch/nn/functional.py:652: UserWarning: Named tensors and all their associated APIs are an experimental feature and subject to change. Please do not use them for anything important until they are released as stable. (Triggered internally at  /pytorch/c10/core/TensorImpl.h:1156.)\n",
            "  return torch.max_pool1d(input, kernel_size, stride, padding, dilation, ceil_mode)\n"
          ],
          "name": "stderr"
        }
      ]
    },
    {
      "cell_type": "markdown",
      "metadata": {
        "id": "4lHrJE0yQs3u"
      },
      "source": [
        "## 87. 確率的勾配降下法によるCNNの学習\n",
        "確率的勾配降下法（SGD: Stochastic Gradient Descent）を用いて，問題86で構築したモデルを学習せよ．訓練データ上の損失と正解率，評価データ上の損失と正解率を表示しながらモデルを学習し，適当な基準（例えば10エポックなど）で終了させよ"
      ]
    },
    {
      "cell_type": "code",
      "metadata": {
        "id": "8__QkJO_Ib6V",
        "colab": {
          "base_uri": "https://localhost:8080/"
        },
        "outputId": "6f09e14e-1a40-4472-c908-4551679304cb"
      },
      "source": [
        "# パラメータの設定\n",
        "VOCAB_SIZE = len(set(word2id.values())) + 1\n",
        "EMB_SIZE = 300\n",
        "PADDING_IDX = len(set(word2id.values()))\n",
        "OUTPUT_SIZE = 4\n",
        "OUT_CHANNELS = 100\n",
        "KERNEL_HEIGHTS = 3\n",
        "STRIDE = 1\n",
        "PADDING = 1\n",
        "LEARNING_RATE = 5e-2\n",
        "BATCH_SIZE = 64\n",
        "NUM_EPOCHS = 10\n",
        "\n",
        "# モデルの定義\n",
        "model = CNN(VOCAB_SIZE, EMB_SIZE, PADDING_IDX, OUTPUT_SIZE, OUT_CHANNELS, KERNEL_HEIGHTS, STRIDE, PADDING, emb_weights=weights)\n",
        "\n",
        "# 損失関数の定義\n",
        "criterion = nn.CrossEntropyLoss()\n",
        "\n",
        "# オプティマイザの定義\n",
        "optimizer = torch.optim.SGD(model.parameters(), lr=LEARNING_RATE)\n",
        "\n",
        "# デバイスの指定\n",
        "device = torch.device('cuda')\n",
        "\n",
        "# モデルの学習\n",
        "log = train_model(dataset_train, dataset_valid, BATCH_SIZE, model, criterion, optimizer, NUM_EPOCHS, collate_fn=Padsequence(PADDING_IDX), device=device)"
      ],
      "execution_count": 52,
      "outputs": [
        {
          "output_type": "stream",
          "text": [
            "epoch: 1, loss_train: 1.0484, accuracy_train: 0.5877, loss_valid: 1.0655, accuracy_valid: 0.5840, 1.3738sec\n",
            "epoch: 2, loss_train: 0.9867, accuracy_train: 0.6642, loss_valid: 1.0135, accuracy_valid: 0.6499, 1.3184sec\n",
            "epoch: 3, loss_train: 0.9173, accuracy_train: 0.6979, loss_valid: 0.9556, accuracy_valid: 0.6754, 1.3108sec\n",
            "epoch: 4, loss_train: 0.8556, accuracy_train: 0.7178, loss_valid: 0.9042, accuracy_valid: 0.6904, 1.3461sec\n",
            "epoch: 5, loss_train: 0.8063, accuracy_train: 0.7268, loss_valid: 0.8640, accuracy_valid: 0.6994, 1.2931sec\n",
            "epoch: 6, loss_train: 0.7761, accuracy_train: 0.7330, loss_valid: 0.8464, accuracy_valid: 0.6934, 1.3057sec\n",
            "epoch: 7, loss_train: 0.7472, accuracy_train: 0.7439, loss_valid: 0.8206, accuracy_valid: 0.7106, 1.3074sec\n",
            "epoch: 8, loss_train: 0.7338, accuracy_train: 0.7479, loss_valid: 0.8111, accuracy_valid: 0.7144, 1.3170sec\n",
            "epoch: 9, loss_train: 0.7278, accuracy_train: 0.7490, loss_valid: 0.8067, accuracy_valid: 0.7144, 1.3111sec\n",
            "epoch: 10, loss_train: 0.7261, accuracy_train: 0.7490, loss_valid: 0.8055, accuracy_valid: 0.7144, 1.3106sec\n"
          ],
          "name": "stdout"
        }
      ]
    },
    {
      "cell_type": "code",
      "metadata": {
        "id": "yDfsnSBLIeVO",
        "colab": {
          "base_uri": "https://localhost:8080/",
          "height": 334
        },
        "outputId": "045df328-d746-4253-da52-fdfab7f00e7c"
      },
      "source": [
        "# ログの可視化\n",
        "visualize_logs(log)"
      ],
      "execution_count": 54,
      "outputs": [
        {
          "output_type": "display_data",
          "data": {
            "image/png": "[encoded data removed]",
            "text/plain": [
              "<Figure size 1080x360 with 2 Axes>"
            ]
          },
          "metadata": {
            "tags": [],
            "needs_background": "light"
          }
        }
      ]
    },
    {
      "cell_type": "markdown",
      "metadata": {
        "id": "wFpytluk_yrP"
      },
      "source": [
        "## 88. パラメータチューニング\n",
        "\n",
        "問題85や問題87のコードを改変し，ニューラルネットワークの形状やハイパーパラメータを調整しながら，高性能なカテゴリ分類器を構築せよ．"
      ]
    },
    {
      "cell_type": "code",
      "metadata": {
        "id": "MU7XC8PZm0fN"
      },
      "source": [
        "# dataloader読み込みver\n",
        "\n",
        "def calculate_loss_and_accuracy(model, dataloader, device=None, loss_fn=None):\n",
        "    total_loss = len(dataloader)  # バッチ数(損失はバッチ毎(1イテレータ)に1つ求まるので)\n",
        "    total_data = dataloader.batch_size * len(dataloader)  # ※全データ =  (バッチ内のデータ数) * (バッチ数)\n",
        "                                  # 予測結果はバッチ毎に、バッチ内のデータ数だけ求まる\n",
        "    correct, loss = 0, 0\n",
        "\n",
        "    with torch.no_grad():  # テスト中は伝播記録をしない\n",
        "        for data in dataloader:\n",
        "            inputs = data['inputs'].to(device)\n",
        "            labels = data['labels'].to(device)         \n",
        "            pred = model(inputs)\n",
        "            loss += loss_fn(pred, labels).item()  # バッチ内に複数データがあるなら、各データの損失の平均を返す?\n",
        "            correct += (pred.argmax(1) == labels).type(torch.float).sum().item()\n",
        "\n",
        "    return loss / total_loss, correct / total_data "
      ],
      "execution_count": 68,
      "outputs": []
    },
    {
      "cell_type": "code",
      "metadata": {
        "id": "69_vcYr-QraO"
      },
      "source": [
        "from torch.nn import functional as F\n",
        "\n",
        "class textCNN(nn.Module):\n",
        "  def __init__(self, vocab_size, emb_size, padding_idx, output_size, out_channels, conv_params, drop_rate, emb_weights=None):\n",
        "    super().__init__()\n",
        "    if emb_weights != None:  # 指定があれば埋め込み層の重みをemb_weightsで初期化\n",
        "      self.emb = nn.Embedding.from_pretrained(emb_weights, padding_idx=padding_idx)\n",
        "    else:\n",
        "      self.emb = nn.Embedding(vocab_size, emb_size, padding_idx=padding_idx)\n",
        "    self.convs = nn.ModuleList([nn.Conv2d(1, out_channels, (kernel_height, emb_size), padding=(padding, 0)) for kernel_height, padding in conv_params])\n",
        "    self.drop = nn.Dropout(drop_rate)\n",
        "    self.fc = nn.Linear(len(conv_params) * out_channels, output_size)\n",
        "\n",
        "  def forward(self, x):\n",
        "    # x.size() = (batch_size, seq_len)\n",
        "    emb = self.emb(x).unsqueeze(1)\n",
        "    # emb.size() = (batch_size, 1, seq_len, emb_size)\n",
        "    conv = [F.relu(conv(emb)).squeeze(3) for i, conv in enumerate(self.convs)]  # こうやって複数のフィルタサイズの畳み込みを同時に試す\n",
        "    # conv[i].size() = (batch_size, out_channels, seq_len + padding * 2 - kernel_height + 1)\n",
        "    max_pool = [F.max_pool1d(i, i.size(2)) for i in conv]\n",
        "    # max_pool[i].size() = (batch_size, out_channels, 1) -> seq_len方向に最大値を取得\n",
        "    max_pool_cat = torch.cat(max_pool, 1)\n",
        "    # max_pool_cat.size() = (batch_size, len(conv_params) * out_channels, 1)  -> フィルター別の結果を結合\n",
        "    out = self.fc(self.drop(max_pool_cat.squeeze(2)))\n",
        "    # out.size() = (batch_size, output_size)\n",
        "    return out"
      ],
      "execution_count": 55,
      "outputs": []
    },
    {
      "cell_type": "code",
      "metadata": {
        "id": "w4-JLt-XQuPL"
      },
      "source": [
        "!pip install optuna"
      ],
      "execution_count": null,
      "outputs": []
    },
    {
      "cell_type": "code",
      "metadata": {
        "id": "p1Po8K7yQxYn"
      },
      "source": [
        "import optuna\n",
        "\n",
        "def objective(trial):\n",
        "  # チューニング対象パラメータのセット\n",
        "  emb_size = int(trial.suggest_discrete_uniform('emb_size', 100, 400, 100))\n",
        "  out_channels = int(trial.suggest_discrete_uniform('out_channels', 50, 200, 50))\n",
        "  drop_rate = trial.suggest_discrete_uniform('drop_rate', 0.0, 0.5, 0.1)\n",
        "  learning_rate = trial.suggest_loguniform('learning_rate', 5e-4, 5e-2)\n",
        "  momentum = trial.suggest_discrete_uniform('momentum', 0.5, 0.9, 0.1)\n",
        "  batch_size = int(trial.suggest_discrete_uniform('batch_size', 16, 128, 16))\n",
        "\n",
        "  # 固定パラメータの設定\n",
        "  VOCAB_SIZE = len(set(word2id.values())) + 1\n",
        "  PADDING_IDX = len(set(word2id.values()))\n",
        "  OUTPUT_SIZE = 4\n",
        "  CONV_PARAMS = [[2, 0], [3, 1], [4, 2]]\n",
        "  NUM_EPOCHS = 30\n",
        "\n",
        "  # モデルの定義\n",
        "  model = textCNN(VOCAB_SIZE, EMB_SIZE, PADDING_IDX, OUTPUT_SIZE, out_channels, CONV_PARAMS, drop_rate, emb_weights=weights)\n",
        "\n",
        "  # 損失関数の定義\n",
        "  criterion = nn.CrossEntropyLoss()\n",
        "\n",
        "  # オプティマイザの定義\n",
        "  optimizer = torch.optim.SGD(model.parameters(), lr=learning_rate, momentum=momentum)\n",
        "\n",
        "  # デバイスの指定\n",
        "  device = torch.device('cuda')\n",
        "\n",
        "  # モデルの学習\n",
        "  log = train_model(dataset_train, dataset_valid, batch_size, model, criterion, optimizer, NUM_EPOCHS, collate_fn=Padsequence(PADDING_IDX), device=device)\n",
        "\n",
        "  # 損失の算出\n",
        "  dataloader_valid = DataLoader(dataset_valid, batch_size=1, shuffle=False)\n",
        "  loss_valid, _ = calculate_loss_and_accuracy(model, dataloader_valid, device, loss_fn=criterion) \n",
        "\n",
        "  return loss_valid "
      ],
      "execution_count": 70,
      "outputs": []
    },
    {
      "cell_type": "markdown",
      "metadata": {
        "id": "My8V1sC7Q7Vj"
      },
      "source": [
        "パラメータ探索を実行します。"
      ]
    },
    {
      "cell_type": "code",
      "metadata": {
        "id": "A9XLxE_CQz5G",
        "colab": {
          "base_uri": "https://localhost:8080/"
        },
        "outputId": "fe625c52-ad4c-4dba-e8ee-5b9898c19669"
      },
      "source": [
        "# 最適化\n",
        "study = optuna.create_study()\n",
        "study.optimize(objective, timeout=300)\n",
        "\n",
        "# 結果の表示\n",
        "print('Best trial:')\n",
        "trial = study.best_trial\n",
        "print('  Value: {:.3f}'.format(trial.value))\n",
        "print('  Params: ')\n",
        "for key, value in trial.params.items():\n",
        "  print('    {}: {}'.format(key, value))"
      ],
      "execution_count": 71,
      "outputs": [
        {
          "output_type": "stream",
          "text": [
            "\u001b[32m[I 2021-07-13 06:48:50,268]\u001b[0m A new study created in memory with name: no-name-340271ab-f492-48aa-92b2-f744c17c70b3\u001b[0m\n"
          ],
          "name": "stderr"
        },
        {
          "output_type": "stream",
          "text": [
            "epoch: 1, loss_train: 1.0992, accuracy_train: 0.5621, loss_valid: 1.1073, accuracy_valid: 0.5510, 2.2056sec\n",
            "epoch: 2, loss_train: 1.0605, accuracy_train: 0.5824, loss_valid: 1.0761, accuracy_valid: 0.5780, 2.1860sec\n",
            "epoch: 3, loss_train: 1.0362, accuracy_train: 0.5848, loss_valid: 1.0572, accuracy_valid: 0.5877, 2.1650sec\n",
            "epoch: 4, loss_train: 1.0125, accuracy_train: 0.6040, loss_valid: 1.0368, accuracy_valid: 0.5982, 2.2043sec\n",
            "epoch: 5, loss_train: 0.9873, accuracy_train: 0.6422, loss_valid: 1.0161, accuracy_valid: 0.6274, 2.1712sec\n",
            "epoch: 6, loss_train: 0.9615, accuracy_train: 0.6671, loss_valid: 0.9986, accuracy_valid: 0.6432, 2.1831sec\n",
            "epoch: 7, loss_train: 0.9354, accuracy_train: 0.6699, loss_valid: 0.9744, accuracy_valid: 0.6447, 2.1691sec\n",
            "epoch: 8, loss_train: 0.9088, accuracy_train: 0.6867, loss_valid: 0.9523, accuracy_valid: 0.6589, 2.1772sec\n",
            "epoch: 9, loss_train: 0.8824, accuracy_train: 0.7015, loss_valid: 0.9344, accuracy_valid: 0.6687, 2.1784sec\n",
            "epoch: 10, loss_train: 0.8568, accuracy_train: 0.7115, loss_valid: 0.9135, accuracy_valid: 0.6852, 2.1914sec\n",
            "epoch: 11, loss_train: 0.8342, accuracy_train: 0.7164, loss_valid: 0.8941, accuracy_valid: 0.6837, 2.2314sec\n",
            "epoch: 12, loss_train: 0.8122, accuracy_train: 0.7227, loss_valid: 0.8803, accuracy_valid: 0.6867, 2.1625sec\n",
            "epoch: 13, loss_train: 0.7940, accuracy_train: 0.7290, loss_valid: 0.8649, accuracy_valid: 0.6919, 2.1868sec\n",
            "epoch: 14, loss_train: 0.7755, accuracy_train: 0.7324, loss_valid: 0.8518, accuracy_valid: 0.6979, 2.2242sec\n",
            "epoch: 15, loss_train: 0.7610, accuracy_train: 0.7381, loss_valid: 0.8416, accuracy_valid: 0.6972, 2.1679sec\n",
            "epoch: 16, loss_train: 0.7463, accuracy_train: 0.7442, loss_valid: 0.8318, accuracy_valid: 0.7054, 2.1936sec\n",
            "epoch: 17, loss_train: 0.7344, accuracy_train: 0.7465, loss_valid: 0.8233, accuracy_valid: 0.7054, 2.1785sec\n",
            "epoch: 18, loss_train: 0.7237, accuracy_train: 0.7495, loss_valid: 0.8165, accuracy_valid: 0.7054, 2.2045sec\n",
            "epoch: 19, loss_train: 0.7146, accuracy_train: 0.7525, loss_valid: 0.8088, accuracy_valid: 0.7046, 2.2081sec\n",
            "epoch: 20, loss_train: 0.7064, accuracy_train: 0.7555, loss_valid: 0.8055, accuracy_valid: 0.7106, 2.2110sec\n",
            "epoch: 21, loss_train: 0.7004, accuracy_train: 0.7568, loss_valid: 0.8008, accuracy_valid: 0.7084, 2.2014sec\n",
            "epoch: 22, loss_train: 0.6955, accuracy_train: 0.7582, loss_valid: 0.7975, accuracy_valid: 0.7076, 2.1717sec\n",
            "epoch: 23, loss_train: 0.6906, accuracy_train: 0.7594, loss_valid: 0.7952, accuracy_valid: 0.7099, 2.1681sec\n",
            "epoch: 24, loss_train: 0.6875, accuracy_train: 0.7607, loss_valid: 0.7924, accuracy_valid: 0.7106, 2.2099sec\n",
            "epoch: 25, loss_train: 0.6847, accuracy_train: 0.7603, loss_valid: 0.7911, accuracy_valid: 0.7129, 2.2017sec\n",
            "epoch: 26, loss_train: 0.6828, accuracy_train: 0.7621, loss_valid: 0.7898, accuracy_valid: 0.7121, 2.1714sec\n",
            "epoch: 27, loss_train: 0.6819, accuracy_train: 0.7624, loss_valid: 0.7891, accuracy_valid: 0.7121, 2.1828sec\n",
            "epoch: 28, loss_train: 0.6819, accuracy_train: 0.7624, loss_valid: 0.7886, accuracy_valid: 0.7114, 2.1868sec\n",
            "epoch: 29, loss_train: 0.6811, accuracy_train: 0.7625, loss_valid: 0.7885, accuracy_valid: 0.7121, 2.2265sec\n",
            "epoch: 30, loss_train: 0.6807, accuracy_train: 0.7626, loss_valid: 0.7884, accuracy_valid: 0.7121, 2.2198sec\n"
          ],
          "name": "stdout"
        },
        {
          "output_type": "stream",
          "text": [
            "\u001b[32m[I 2021-07-13 06:49:56,991]\u001b[0m Trial 0 finished with value: 0.7883979455165417 and parameters: {'emb_size': 200.0, 'out_channels': 100.0, 'drop_rate': 0.30000000000000004, 'learning_rate': 0.003700617905438782, 'momentum': 0.6, 'batch_size': 32.0}. Best is trial 0 with value: 0.7883979455165417.\u001b[0m\n"
          ],
          "name": "stderr"
        },
        {
          "output_type": "stream",
          "text": [
            "epoch: 1, loss_train: 1.1894, accuracy_train: 0.5260, loss_valid: 1.1870, accuracy_valid: 0.5150, 1.5425sec\n",
            "epoch: 2, loss_train: 1.1487, accuracy_train: 0.5508, loss_valid: 1.1503, accuracy_valid: 0.5277, 1.5449sec\n",
            "epoch: 3, loss_train: 1.1278, accuracy_train: 0.5512, loss_valid: 1.1314, accuracy_valid: 0.5345, 1.5416sec\n",
            "epoch: 4, loss_train: 1.1106, accuracy_train: 0.5560, loss_valid: 1.1170, accuracy_valid: 0.5600, 1.5372sec\n",
            "epoch: 5, loss_train: 1.0968, accuracy_train: 0.5591, loss_valid: 1.1064, accuracy_valid: 0.5547, 1.5623sec\n",
            "epoch: 6, loss_train: 1.0870, accuracy_train: 0.5630, loss_valid: 1.0977, accuracy_valid: 0.5675, 1.5355sec\n",
            "epoch: 7, loss_train: 1.0792, accuracy_train: 0.5667, loss_valid: 1.0914, accuracy_valid: 0.5682, 1.5391sec\n",
            "epoch: 8, loss_train: 1.0728, accuracy_train: 0.5703, loss_valid: 1.0863, accuracy_valid: 0.5750, 1.5303sec\n",
            "epoch: 9, loss_train: 1.0678, accuracy_train: 0.5714, loss_valid: 1.0816, accuracy_valid: 0.5810, 1.5560sec\n",
            "epoch: 10, loss_train: 1.0625, accuracy_train: 0.5738, loss_valid: 1.0778, accuracy_valid: 0.5817, 1.5367sec\n",
            "epoch: 11, loss_train: 1.0593, accuracy_train: 0.5757, loss_valid: 1.0745, accuracy_valid: 0.5855, 1.5457sec\n",
            "epoch: 12, loss_train: 1.0554, accuracy_train: 0.5799, loss_valid: 1.0715, accuracy_valid: 0.5892, 1.5474sec\n",
            "epoch: 13, loss_train: 1.0517, accuracy_train: 0.5812, loss_valid: 1.0687, accuracy_valid: 0.5952, 1.5471sec\n",
            "epoch: 14, loss_train: 1.0487, accuracy_train: 0.5846, loss_valid: 1.0663, accuracy_valid: 0.5975, 1.5472sec\n",
            "epoch: 15, loss_train: 1.0451, accuracy_train: 0.5862, loss_valid: 1.0642, accuracy_valid: 0.5990, 1.5813sec\n",
            "epoch: 16, loss_train: 1.0436, accuracy_train: 0.5874, loss_valid: 1.0622, accuracy_valid: 0.5960, 1.5344sec\n",
            "epoch: 17, loss_train: 1.0390, accuracy_train: 0.5878, loss_valid: 1.0603, accuracy_valid: 0.6034, 1.5367sec\n",
            "epoch: 18, loss_train: 1.0378, accuracy_train: 0.5900, loss_valid: 1.0587, accuracy_valid: 0.6027, 1.5307sec\n",
            "epoch: 19, loss_train: 1.0355, accuracy_train: 0.5922, loss_valid: 1.0573, accuracy_valid: 0.6042, 1.5935sec\n",
            "epoch: 20, loss_train: 1.0360, accuracy_train: 0.5933, loss_valid: 1.0560, accuracy_valid: 0.6042, 1.5461sec\n",
            "epoch: 21, loss_train: 1.0346, accuracy_train: 0.5932, loss_valid: 1.0549, accuracy_valid: 0.6072, 1.5526sec\n",
            "epoch: 22, loss_train: 1.0335, accuracy_train: 0.5950, loss_valid: 1.0540, accuracy_valid: 0.6064, 1.5673sec\n",
            "epoch: 23, loss_train: 1.0323, accuracy_train: 0.5958, loss_valid: 1.0533, accuracy_valid: 0.6087, 1.5427sec\n",
            "epoch: 24, loss_train: 1.0303, accuracy_train: 0.5964, loss_valid: 1.0528, accuracy_valid: 0.6087, 1.5703sec\n",
            "epoch: 25, loss_train: 1.0304, accuracy_train: 0.5977, loss_valid: 1.0524, accuracy_valid: 0.6102, 1.5762sec\n",
            "epoch: 26, loss_train: 1.0316, accuracy_train: 0.5977, loss_valid: 1.0521, accuracy_valid: 0.6102, 1.5334sec\n",
            "epoch: 27, loss_train: 1.0301, accuracy_train: 0.5975, loss_valid: 1.0519, accuracy_valid: 0.6109, 1.5865sec\n",
            "epoch: 28, loss_train: 1.0304, accuracy_train: 0.5981, loss_valid: 1.0518, accuracy_valid: 0.6117, 1.5334sec\n",
            "epoch: 29, loss_train: 1.0290, accuracy_train: 0.5982, loss_valid: 1.0517, accuracy_valid: 0.6117, 1.5776sec\n",
            "epoch: 30, loss_train: 1.0304, accuracy_train: 0.5980, loss_valid: 1.0517, accuracy_valid: 0.6117, 1.5712sec\n"
          ],
          "name": "stdout"
        },
        {
          "output_type": "stream",
          "text": [
            "\u001b[32m[I 2021-07-13 06:50:44,507]\u001b[0m Trial 1 finished with value: 1.0516795721435654 and parameters: {'emb_size': 400.0, 'out_channels': 50.0, 'drop_rate': 0.1, 'learning_rate': 0.003312880042964734, 'momentum': 0.6, 'batch_size': 128.0}. Best is trial 0 with value: 0.7883979455165417.\u001b[0m\n"
          ],
          "name": "stderr"
        },
        {
          "output_type": "stream",
          "text": [
            "epoch: 1, loss_train: 1.2392, accuracy_train: 0.4264, loss_valid: 1.2372, accuracy_valid: 0.4010, 1.6540sec\n",
            "epoch: 2, loss_train: 1.1937, accuracy_train: 0.4776, loss_valid: 1.1916, accuracy_valid: 0.4460, 1.7041sec\n",
            "epoch: 3, loss_train: 1.1739, accuracy_train: 0.5063, loss_valid: 1.1732, accuracy_valid: 0.4685, 1.6651sec\n",
            "epoch: 4, loss_train: 1.1631, accuracy_train: 0.5211, loss_valid: 1.1637, accuracy_valid: 0.4828, 1.6652sec\n",
            "epoch: 5, loss_train: 1.1549, accuracy_train: 0.5294, loss_valid: 1.1573, accuracy_valid: 0.4955, 1.6933sec\n",
            "epoch: 6, loss_train: 1.1534, accuracy_train: 0.5346, loss_valid: 1.1524, accuracy_valid: 0.5007, 1.6773sec\n",
            "epoch: 7, loss_train: 1.1485, accuracy_train: 0.5363, loss_valid: 1.1482, accuracy_valid: 0.4978, 1.6775sec\n",
            "epoch: 8, loss_train: 1.1403, accuracy_train: 0.5387, loss_valid: 1.1445, accuracy_valid: 0.5015, 1.6378sec\n",
            "epoch: 9, loss_train: 1.1397, accuracy_train: 0.5404, loss_valid: 1.1410, accuracy_valid: 0.5007, 1.6510sec\n",
            "epoch: 10, loss_train: 1.1334, accuracy_train: 0.5406, loss_valid: 1.1378, accuracy_valid: 0.5090, 1.6898sec\n",
            "epoch: 11, loss_train: 1.1288, accuracy_train: 0.5415, loss_valid: 1.1349, accuracy_valid: 0.5127, 1.6537sec\n",
            "epoch: 12, loss_train: 1.1276, accuracy_train: 0.5421, loss_valid: 1.1324, accuracy_valid: 0.5120, 1.6472sec\n",
            "epoch: 13, loss_train: 1.1238, accuracy_train: 0.5424, loss_valid: 1.1300, accuracy_valid: 0.5157, 1.6463sec\n",
            "epoch: 14, loss_train: 1.1251, accuracy_train: 0.5426, loss_valid: 1.1278, accuracy_valid: 0.5165, 1.6678sec\n",
            "epoch: 15, loss_train: 1.1231, accuracy_train: 0.5432, loss_valid: 1.1259, accuracy_valid: 0.5172, 1.6544sec\n",
            "epoch: 16, loss_train: 1.1181, accuracy_train: 0.5435, loss_valid: 1.1243, accuracy_valid: 0.5142, 1.6566sec\n",
            "epoch: 17, loss_train: 1.1176, accuracy_train: 0.5434, loss_valid: 1.1228, accuracy_valid: 0.5150, 1.6552sec\n",
            "epoch: 18, loss_train: 1.1167, accuracy_train: 0.5438, loss_valid: 1.1215, accuracy_valid: 0.5150, 1.6573sec\n",
            "epoch: 19, loss_train: 1.1146, accuracy_train: 0.5450, loss_valid: 1.1204, accuracy_valid: 0.5157, 1.6503sec\n",
            "epoch: 20, loss_train: 1.1141, accuracy_train: 0.5451, loss_valid: 1.1194, accuracy_valid: 0.5165, 1.6518sec\n",
            "epoch: 21, loss_train: 1.1114, accuracy_train: 0.5447, loss_valid: 1.1186, accuracy_valid: 0.5172, 1.6470sec\n",
            "epoch: 22, loss_train: 1.1097, accuracy_train: 0.5451, loss_valid: 1.1179, accuracy_valid: 0.5172, 1.6372sec\n",
            "epoch: 23, loss_train: 1.1097, accuracy_train: 0.5451, loss_valid: 1.1173, accuracy_valid: 0.5172, 1.6607sec\n",
            "epoch: 24, loss_train: 1.1093, accuracy_train: 0.5450, loss_valid: 1.1169, accuracy_valid: 0.5172, 1.6422sec\n",
            "epoch: 25, loss_train: 1.1092, accuracy_train: 0.5450, loss_valid: 1.1166, accuracy_valid: 0.5180, 1.6447sec\n",
            "epoch: 26, loss_train: 1.1114, accuracy_train: 0.5450, loss_valid: 1.1163, accuracy_valid: 0.5180, 1.6630sec\n",
            "epoch: 27, loss_train: 1.1104, accuracy_train: 0.5451, loss_valid: 1.1161, accuracy_valid: 0.5180, 1.6425sec\n",
            "epoch: 28, loss_train: 1.1102, accuracy_train: 0.5451, loss_valid: 1.1160, accuracy_valid: 0.5187, 1.6576sec\n",
            "epoch: 29, loss_train: 1.1119, accuracy_train: 0.5452, loss_valid: 1.1159, accuracy_valid: 0.5187, 1.7228sec\n",
            "epoch: 30, loss_train: 1.1117, accuracy_train: 0.5451, loss_valid: 1.1159, accuracy_valid: 0.5187, 1.6526sec\n"
          ],
          "name": "stdout"
        },
        {
          "output_type": "stream",
          "text": [
            "\u001b[32m[I 2021-07-13 06:51:35,318]\u001b[0m Trial 2 finished with value: 1.115865707553845 and parameters: {'emb_size': 200.0, 'out_channels': 150.0, 'drop_rate': 0.1, 'learning_rate': 0.0005344124187496943, 'momentum': 0.6, 'batch_size': 96.0}. Best is trial 0 with value: 0.7883979455165417.\u001b[0m\n"
          ],
          "name": "stderr"
        },
        {
          "output_type": "stream",
          "text": [
            "epoch: 1, loss_train: 1.0453, accuracy_train: 0.5903, loss_valid: 1.0629, accuracy_valid: 0.5900, 1.5573sec\n",
            "epoch: 2, loss_train: 0.9712, accuracy_train: 0.6584, loss_valid: 1.0083, accuracy_valid: 0.6477, 1.6368sec\n",
            "epoch: 3, loss_train: 0.8748, accuracy_train: 0.6985, loss_valid: 0.9277, accuracy_valid: 0.6814, 1.5622sec\n",
            "epoch: 4, loss_train: 0.7823, accuracy_train: 0.7300, loss_valid: 0.8602, accuracy_valid: 0.7031, 1.5546sec\n",
            "epoch: 5, loss_train: 0.6972, accuracy_train: 0.7525, loss_valid: 0.7957, accuracy_valid: 0.7159, 1.6015sec\n",
            "epoch: 6, loss_train: 0.6293, accuracy_train: 0.7710, loss_valid: 0.7565, accuracy_valid: 0.7249, 1.5650sec\n",
            "epoch: 7, loss_train: 0.5551, accuracy_train: 0.7935, loss_valid: 0.7164, accuracy_valid: 0.7354, 1.5590sec\n",
            "epoch: 8, loss_train: 0.5008, accuracy_train: 0.8191, loss_valid: 0.6893, accuracy_valid: 0.7489, 1.5640sec\n",
            "epoch: 9, loss_train: 0.4504, accuracy_train: 0.8537, loss_valid: 0.6592, accuracy_valid: 0.7601, 1.5564sec\n",
            "epoch: 10, loss_train: 0.4031, accuracy_train: 0.8616, loss_valid: 0.6305, accuracy_valid: 0.7669, 1.5701sec\n",
            "epoch: 11, loss_train: 0.3666, accuracy_train: 0.8779, loss_valid: 0.6119, accuracy_valid: 0.7669, 1.5598sec\n",
            "epoch: 12, loss_train: 0.3354, accuracy_train: 0.8982, loss_valid: 0.6030, accuracy_valid: 0.7789, 1.5775sec\n",
            "epoch: 13, loss_train: 0.3059, accuracy_train: 0.9059, loss_valid: 0.5770, accuracy_valid: 0.7796, 1.5503sec\n",
            "epoch: 14, loss_train: 0.2814, accuracy_train: 0.9222, loss_valid: 0.5726, accuracy_valid: 0.7946, 1.6378sec\n",
            "epoch: 15, loss_train: 0.2618, accuracy_train: 0.9272, loss_valid: 0.5626, accuracy_valid: 0.7976, 1.5935sec\n",
            "epoch: 16, loss_train: 0.2442, accuracy_train: 0.9354, loss_valid: 0.5544, accuracy_valid: 0.8028, 1.6156sec\n",
            "epoch: 17, loss_train: 0.2301, accuracy_train: 0.9443, loss_valid: 0.5457, accuracy_valid: 0.8028, 1.5778sec\n",
            "epoch: 18, loss_train: 0.2181, accuracy_train: 0.9485, loss_valid: 0.5410, accuracy_valid: 0.8036, 1.5583sec\n",
            "epoch: 19, loss_train: 0.2083, accuracy_train: 0.9515, loss_valid: 0.5409, accuracy_valid: 0.8021, 1.5729sec\n",
            "epoch: 20, loss_train: 0.1991, accuracy_train: 0.9594, loss_valid: 0.5356, accuracy_valid: 0.8043, 1.6250sec\n",
            "epoch: 21, loss_train: 0.1939, accuracy_train: 0.9573, loss_valid: 0.5316, accuracy_valid: 0.8081, 1.5764sec\n",
            "epoch: 22, loss_train: 0.1880, accuracy_train: 0.9612, loss_valid: 0.5302, accuracy_valid: 0.8081, 1.5956sec\n",
            "epoch: 23, loss_train: 0.1842, accuracy_train: 0.9624, loss_valid: 0.5284, accuracy_valid: 0.8096, 1.5703sec\n",
            "epoch: 24, loss_train: 0.1816, accuracy_train: 0.9660, loss_valid: 0.5286, accuracy_valid: 0.8096, 1.5845sec\n",
            "epoch: 25, loss_train: 0.1787, accuracy_train: 0.9646, loss_valid: 0.5262, accuracy_valid: 0.8088, 1.5674sec\n",
            "epoch: 26, loss_train: 0.1771, accuracy_train: 0.9658, loss_valid: 0.5260, accuracy_valid: 0.8081, 1.5772sec\n",
            "epoch: 27, loss_train: 0.1756, accuracy_train: 0.9661, loss_valid: 0.5261, accuracy_valid: 0.8096, 1.5639sec\n",
            "epoch: 28, loss_train: 0.1751, accuracy_train: 0.9665, loss_valid: 0.5258, accuracy_valid: 0.8096, 1.5809sec\n",
            "epoch: 29, loss_train: 0.1746, accuracy_train: 0.9667, loss_valid: 0.5257, accuracy_valid: 0.8096, 1.5690sec\n",
            "epoch: 30, loss_train: 0.1753, accuracy_train: 0.9667, loss_valid: 0.5257, accuracy_valid: 0.8096, 1.5674sec\n"
          ],
          "name": "stdout"
        },
        {
          "output_type": "stream",
          "text": [
            "\u001b[32m[I 2021-07-13 06:52:23,638]\u001b[0m Trial 3 finished with value: 0.5256779955427319 and parameters: {'emb_size': 100.0, 'out_channels': 100.0, 'drop_rate': 0.0, 'learning_rate': 0.011668799131382964, 'momentum': 0.9, 'batch_size': 128.0}. Best is trial 3 with value: 0.5256779955427319.\u001b[0m\n"
          ],
          "name": "stderr"
        },
        {
          "output_type": "stream",
          "text": [
            "epoch: 1, loss_train: 1.0896, accuracy_train: 0.5547, loss_valid: 1.0961, accuracy_valid: 0.5465, 2.1939sec\n",
            "epoch: 2, loss_train: 1.0527, accuracy_train: 0.5749, loss_valid: 1.0650, accuracy_valid: 0.5907, 2.2532sec\n",
            "epoch: 3, loss_train: 1.0269, accuracy_train: 0.5937, loss_valid: 1.0501, accuracy_valid: 0.5750, 2.2130sec\n",
            "epoch: 4, loss_train: 0.9981, accuracy_train: 0.6316, loss_valid: 1.0231, accuracy_valid: 0.6177, 2.2323sec\n",
            "epoch: 5, loss_train: 0.9692, accuracy_train: 0.6672, loss_valid: 1.0020, accuracy_valid: 0.6469, 2.2019sec\n",
            "epoch: 6, loss_train: 0.9378, accuracy_train: 0.6638, loss_valid: 0.9727, accuracy_valid: 0.6417, 2.1986sec\n",
            "epoch: 7, loss_train: 0.9030, accuracy_train: 0.6926, loss_valid: 0.9493, accuracy_valid: 0.6679, 2.2479sec\n",
            "epoch: 8, loss_train: 0.8705, accuracy_train: 0.7039, loss_valid: 0.9232, accuracy_valid: 0.6717, 2.2174sec\n",
            "epoch: 9, loss_train: 0.8399, accuracy_train: 0.7129, loss_valid: 0.8992, accuracy_valid: 0.6739, 2.2288sec\n",
            "epoch: 10, loss_train: 0.8109, accuracy_train: 0.7220, loss_valid: 0.8776, accuracy_valid: 0.6837, 2.1834sec\n",
            "epoch: 11, loss_train: 0.7849, accuracy_train: 0.7328, loss_valid: 0.8589, accuracy_valid: 0.6957, 2.2099sec\n",
            "epoch: 12, loss_train: 0.7609, accuracy_train: 0.7371, loss_valid: 0.8410, accuracy_valid: 0.6979, 2.2123sec\n",
            "epoch: 13, loss_train: 0.7406, accuracy_train: 0.7464, loss_valid: 0.8261, accuracy_valid: 0.7016, 2.2046sec\n",
            "epoch: 14, loss_train: 0.7201, accuracy_train: 0.7536, loss_valid: 0.8145, accuracy_valid: 0.7166, 2.2027sec\n",
            "epoch: 15, loss_train: 0.7031, accuracy_train: 0.7568, loss_valid: 0.8042, accuracy_valid: 0.7181, 2.2440sec\n",
            "epoch: 16, loss_train: 0.6876, accuracy_train: 0.7611, loss_valid: 0.7937, accuracy_valid: 0.7174, 2.2085sec\n",
            "epoch: 17, loss_train: 0.6750, accuracy_train: 0.7666, loss_valid: 0.7848, accuracy_valid: 0.7286, 2.2376sec\n",
            "epoch: 18, loss_train: 0.6626, accuracy_train: 0.7679, loss_valid: 0.7796, accuracy_valid: 0.7256, 2.1878sec\n",
            "epoch: 19, loss_train: 0.6538, accuracy_train: 0.7690, loss_valid: 0.7710, accuracy_valid: 0.7211, 2.2332sec\n",
            "epoch: 20, loss_train: 0.6442, accuracy_train: 0.7736, loss_valid: 0.7681, accuracy_valid: 0.7271, 2.1935sec\n",
            "epoch: 21, loss_train: 0.6371, accuracy_train: 0.7749, loss_valid: 0.7619, accuracy_valid: 0.7294, 2.2241sec\n",
            "epoch: 22, loss_train: 0.6314, accuracy_train: 0.7768, loss_valid: 0.7596, accuracy_valid: 0.7309, 2.2373sec\n",
            "epoch: 23, loss_train: 0.6269, accuracy_train: 0.7784, loss_valid: 0.7571, accuracy_valid: 0.7309, 2.2322sec\n",
            "epoch: 24, loss_train: 0.6232, accuracy_train: 0.7792, loss_valid: 0.7552, accuracy_valid: 0.7316, 2.2196sec\n",
            "epoch: 25, loss_train: 0.6205, accuracy_train: 0.7800, loss_valid: 0.7534, accuracy_valid: 0.7346, 2.2506sec\n",
            "epoch: 26, loss_train: 0.6191, accuracy_train: 0.7803, loss_valid: 0.7523, accuracy_valid: 0.7346, 2.2191sec\n",
            "epoch: 27, loss_train: 0.6180, accuracy_train: 0.7801, loss_valid: 0.7514, accuracy_valid: 0.7346, 2.1861sec\n",
            "epoch: 28, loss_train: 0.6170, accuracy_train: 0.7806, loss_valid: 0.7510, accuracy_valid: 0.7354, 2.2019sec\n",
            "epoch: 29, loss_train: 0.6165, accuracy_train: 0.7805, loss_valid: 0.7508, accuracy_valid: 0.7354, 2.2180sec\n",
            "epoch: 30, loss_train: 0.6165, accuracy_train: 0.7803, loss_valid: 0.7507, accuracy_valid: 0.7354, 2.2219sec\n"
          ],
          "name": "stdout"
        },
        {
          "output_type": "stream",
          "text": [
            "\u001b[32m[I 2021-07-13 06:53:31,162]\u001b[0m Trial 4 finished with value: 0.7507460635330673 and parameters: {'emb_size': 400.0, 'out_channels': 150.0, 'drop_rate': 0.2, 'learning_rate': 0.005256849316592947, 'momentum': 0.5, 'batch_size': 32.0}. Best is trial 3 with value: 0.5256779955427319.\u001b[0m\n"
          ],
          "name": "stderr"
        },
        {
          "output_type": "stream",
          "text": [
            "epoch: 1, loss_train: 1.0618, accuracy_train: 0.5624, loss_valid: 1.0756, accuracy_valid: 0.5622, 1.6840sec\n",
            "epoch: 2, loss_train: 1.0138, accuracy_train: 0.6273, loss_valid: 1.0420, accuracy_valid: 0.6229, 1.6888sec\n",
            "epoch: 3, loss_train: 0.9593, accuracy_train: 0.6669, loss_valid: 0.9964, accuracy_valid: 0.6552, 1.7029sec\n",
            "epoch: 4, loss_train: 0.8993, accuracy_train: 0.6841, loss_valid: 0.9483, accuracy_valid: 0.6649, 1.7136sec\n",
            "epoch: 5, loss_train: 0.8378, accuracy_train: 0.7133, loss_valid: 0.9004, accuracy_valid: 0.6814, 1.6843sec\n",
            "epoch: 6, loss_train: 0.7811, accuracy_train: 0.7351, loss_valid: 0.8616, accuracy_valid: 0.6979, 1.6987sec\n",
            "epoch: 7, loss_train: 0.7278, accuracy_train: 0.7510, loss_valid: 0.8251, accuracy_valid: 0.7046, 1.7014sec\n",
            "epoch: 8, loss_train: 0.6829, accuracy_train: 0.7627, loss_valid: 0.7944, accuracy_valid: 0.7136, 1.7130sec\n",
            "epoch: 9, loss_train: 0.6432, accuracy_train: 0.7713, loss_valid: 0.7712, accuracy_valid: 0.7241, 1.7095sec\n",
            "epoch: 10, loss_train: 0.6057, accuracy_train: 0.7830, loss_valid: 0.7438, accuracy_valid: 0.7286, 1.6874sec\n",
            "epoch: 11, loss_train: 0.5737, accuracy_train: 0.7947, loss_valid: 0.7289, accuracy_valid: 0.7331, 1.6909sec\n",
            "epoch: 12, loss_train: 0.5430, accuracy_train: 0.8023, loss_valid: 0.7064, accuracy_valid: 0.7429, 1.7046sec\n",
            "epoch: 13, loss_train: 0.5182, accuracy_train: 0.8214, loss_valid: 0.6982, accuracy_valid: 0.7474, 1.6963sec\n",
            "epoch: 14, loss_train: 0.4943, accuracy_train: 0.8285, loss_valid: 0.6834, accuracy_valid: 0.7549, 1.6794sec\n",
            "epoch: 15, loss_train: 0.4730, accuracy_train: 0.8360, loss_valid: 0.6705, accuracy_valid: 0.7601, 1.6788sec\n",
            "epoch: 16, loss_train: 0.4574, accuracy_train: 0.8391, loss_valid: 0.6654, accuracy_valid: 0.7519, 1.6886sec\n",
            "epoch: 17, loss_train: 0.4389, accuracy_train: 0.8502, loss_valid: 0.6539, accuracy_valid: 0.7571, 1.6903sec\n",
            "epoch: 18, loss_train: 0.4266, accuracy_train: 0.8634, loss_valid: 0.6494, accuracy_valid: 0.7631, 1.6948sec\n",
            "epoch: 19, loss_train: 0.4137, accuracy_train: 0.8578, loss_valid: 0.6403, accuracy_valid: 0.7661, 1.6965sec\n",
            "epoch: 20, loss_train: 0.4041, accuracy_train: 0.8711, loss_valid: 0.6367, accuracy_valid: 0.7639, 1.6869sec\n",
            "epoch: 21, loss_train: 0.3959, accuracy_train: 0.8757, loss_valid: 0.6326, accuracy_valid: 0.7691, 1.6872sec\n",
            "epoch: 22, loss_train: 0.3898, accuracy_train: 0.8743, loss_valid: 0.6291, accuracy_valid: 0.7654, 1.6623sec\n",
            "epoch: 23, loss_train: 0.3845, accuracy_train: 0.8791, loss_valid: 0.6278, accuracy_valid: 0.7684, 1.6946sec\n",
            "epoch: 24, loss_train: 0.3800, accuracy_train: 0.8798, loss_valid: 0.6258, accuracy_valid: 0.7706, 1.7480sec\n",
            "epoch: 25, loss_train: 0.3772, accuracy_train: 0.8812, loss_valid: 0.6228, accuracy_valid: 0.7699, 1.7009sec\n",
            "epoch: 26, loss_train: 0.3749, accuracy_train: 0.8834, loss_valid: 0.6220, accuracy_valid: 0.7751, 1.6701sec\n",
            "epoch: 27, loss_train: 0.3743, accuracy_train: 0.8837, loss_valid: 0.6213, accuracy_valid: 0.7751, 1.6817sec\n",
            "epoch: 28, loss_train: 0.3736, accuracy_train: 0.8839, loss_valid: 0.6209, accuracy_valid: 0.7744, 1.7090sec\n",
            "epoch: 29, loss_train: 0.3718, accuracy_train: 0.8842, loss_valid: 0.6208, accuracy_valid: 0.7744, 1.6938sec\n",
            "epoch: 30, loss_train: 0.3728, accuracy_train: 0.8841, loss_valid: 0.6207, accuracy_valid: 0.7744, 1.7080sec\n"
          ],
          "name": "stdout"
        },
        {
          "output_type": "stream",
          "text": [
            "\u001b[32m[I 2021-07-13 06:54:22,996]\u001b[0m Trial 5 finished with value: 0.6206952978406254 and parameters: {'emb_size': 100.0, 'out_channels': 100.0, 'drop_rate': 0.0, 'learning_rate': 0.02218792194617958, 'momentum': 0.5, 'batch_size': 80.0}. Best is trial 3 with value: 0.5256779955427319.\u001b[0m\n"
          ],
          "name": "stderr"
        },
        {
          "output_type": "stream",
          "text": [
            "Best trial:\n",
            "  Value: 0.526\n",
            "  Params: \n",
            "    emb_size: 100.0\n",
            "    out_channels: 100.0\n",
            "    drop_rate: 0.0\n",
            "    learning_rate: 0.011668799131382964\n",
            "    momentum: 0.9\n",
            "    batch_size: 128.0\n"
          ],
          "name": "stdout"
        }
      ]
    },
    {
      "cell_type": "markdown",
      "metadata": {
        "id": "6uMO6ElTHRzy"
      },
      "source": [
        "## 89.事前学習済み言語モデルからの転移学習\n",
        ">事前学習済み言語モデル（例えばBERTなど）を出発点として，ニュース記事見出しをカテゴリに分類するモデルを構築せよ．"
      ]
    },
    {
      "cell_type": "markdown",
      "metadata": {
        "id": "tIlwu6Pw5H8v"
      },
      "source": [
        "BERTモデルを利用するためにtransformersライブラリをインストールしておきます。transformersを通じて、BERT以外にも多くの事前学習済みモデルを短いコードで非常に簡単に利用することができます。"
      ]
    },
    {
      "cell_type": "code",
      "metadata": {
        "id": "oNUbGpNdHiBp",
        "colab": {
          "base_uri": "https://localhost:8080/"
        },
        "outputId": "d5990305-1df0-46e7-9fa2-d68171207b0c"
      },
      "source": [
        "!pip install transformers"
      ],
      "execution_count": 6,
      "outputs": [
        {
          "output_type": "stream",
          "text": [
            "Collecting transformers\n",
            "\u001b[?25l  Downloading https://files.pythonhosted.org/packages/fd/1a/41c644c963249fd7f3836d926afa1e3f1cc234a1c40d80c5f03ad8f6f1b2/transformers-4.8.2-py3-none-any.whl (2.5MB)\n",
            "\u001b[K     |████████████████████████████████| 2.5MB 4.0MB/s \n",
            "\u001b[?25hRequirement already satisfied: packaging in /usr/local/lib/python3.7/dist-packages (from transformers) (20.9)\n",
            "Requirement already satisfied: tqdm>=4.27 in /usr/local/lib/python3.7/dist-packages (from transformers) (4.41.1)\n",
            "Requirement already satisfied: requests in /usr/local/lib/python3.7/dist-packages (from transformers) (2.23.0)\n",
            "Requirement already satisfied: filelock in /usr/local/lib/python3.7/dist-packages (from transformers) (3.0.12)\n",
            "Requirement already satisfied: importlib-metadata; python_version < \"3.8\" in /usr/local/lib/python3.7/dist-packages (from transformers) (4.6.0)\n",
            "Collecting sacremoses\n",
            "\u001b[?25l  Downloading https://files.pythonhosted.org/packages/75/ee/67241dc87f266093c533a2d4d3d69438e57d7a90abb216fa076e7d475d4a/sacremoses-0.0.45-py3-none-any.whl (895kB)\n",
            "\u001b[K     |████████████████████████████████| 901kB 33.1MB/s \n",
            "\u001b[?25hRequirement already satisfied: numpy>=1.17 in /usr/local/lib/python3.7/dist-packages (from transformers) (1.19.5)\n",
            "Collecting tokenizers<0.11,>=0.10.1\n",
            "\u001b[?25l  Downloading https://files.pythonhosted.org/packages/d4/e2/df3543e8ffdab68f5acc73f613de9c2b155ac47f162e725dcac87c521c11/tokenizers-0.10.3-cp37-cp37m-manylinux_2_5_x86_64.manylinux1_x86_64.manylinux_2_12_x86_64.manylinux2010_x86_64.whl (3.3MB)\n",
            "\u001b[K     |████████████████████████████████| 3.3MB 35.0MB/s \n",
            "\u001b[?25hRequirement already satisfied: pyyaml in /usr/local/lib/python3.7/dist-packages (from transformers) (3.13)\n",
            "Requirement already satisfied: regex!=2019.12.17 in /usr/local/lib/python3.7/dist-packages (from transformers) (2019.12.20)\n",
            "Collecting huggingface-hub==0.0.12\n",
            "  Downloading https://files.pythonhosted.org/packages/2f/ee/97e253668fda9b17e968b3f97b2f8e53aa0127e8807d24a547687423fe0b/huggingface_hub-0.0.12-py3-none-any.whl\n",
            "Requirement already satisfied: pyparsing>=2.0.2 in /usr/local/lib/python3.7/dist-packages (from packaging->transformers) (2.4.7)\n",
            "Requirement already satisfied: idna<3,>=2.5 in /usr/local/lib/python3.7/dist-packages (from requests->transformers) (2.10)\n",
            "Requirement already satisfied: urllib3!=1.25.0,!=1.25.1,<1.26,>=1.21.1 in /usr/local/lib/python3.7/dist-packages (from requests->transformers) (1.24.3)\n",
            "Requirement already satisfied: certifi>=2017.4.17 in /usr/local/lib/python3.7/dist-packages (from requests->transformers) (2021.5.30)\n",
            "Requirement already satisfied: chardet<4,>=3.0.2 in /usr/local/lib/python3.7/dist-packages (from requests->transformers) (3.0.4)\n",
            "Requirement already satisfied: zipp>=0.5 in /usr/local/lib/python3.7/dist-packages (from importlib-metadata; python_version < \"3.8\"->transformers) (3.4.1)\n",
            "Requirement already satisfied: typing-extensions>=3.6.4; python_version < \"3.8\" in /usr/local/lib/python3.7/dist-packages (from importlib-metadata; python_version < \"3.8\"->transformers) (3.7.4.3)\n",
            "Requirement already satisfied: click in /usr/local/lib/python3.7/dist-packages (from sacremoses->transformers) (7.1.2)\n",
            "Requirement already satisfied: six in /usr/local/lib/python3.7/dist-packages (from sacremoses->transformers) (1.15.0)\n",
            "Requirement already satisfied: joblib in /usr/local/lib/python3.7/dist-packages (from sacremoses->transformers) (1.0.1)\n",
            "Installing collected packages: sacremoses, tokenizers, huggingface-hub, transformers\n",
            "Successfully installed huggingface-hub-0.0.12 sacremoses-0.0.45 tokenizers-0.10.3 transformers-4.8.2\n"
          ],
          "name": "stdout"
        }
      ]
    },
    {
      "cell_type": "markdown",
      "metadata": {
        "id": "NyLcFW0I5OVJ"
      },
      "source": [
        "モデルの学習と評価に必要なライブラリをインポートします。"
      ]
    },
    {
      "cell_type": "code",
      "metadata": {
        "id": "vwwfOa3f5PEG"
      },
      "source": [
        "import numpy as np\n",
        "import transformers\n",
        "import torch\n",
        "from torch.utils.data import Dataset, DataLoader\n",
        "from transformers import BertTokenizer, BertModel\n",
        "from torch import optim\n",
        "from torch import cuda\n",
        "import time\n",
        "from matplotlib import pyplot as plt"
      ],
      "execution_count": 8,
      "outputs": []
    },
    {
      "cell_type": "markdown",
      "metadata": {
        "id": "YMUgA4s75ZFB"
      },
      "source": [
        "次に、データをモデルに投入可能な形に整形します。  \n",
        "まずは、PyTorchでよく利用される、特徴ベクトルとラベルベクトルを合わせて保持するDatasetを作成するためのクラスを定義します。  \n",
        "このクラスにtokenizerを渡すことで、入力テキストの前処理を行い、指定した最長系列長までパディングした上で単語IDに変換する処理を実現できるようにしておきます。  \n",
        "とはいえ、BERT用にすべての処理が書かれたtokenizerそのものは、のちほどtranformersを通じて取得するため、クラス内で必要なものはtokenizerに渡す処理と結果を受け取る処理のみです。"
      ]
    },
    {
      "cell_type": "code",
      "metadata": {
        "id": "elXiktDW5Z3F"
      },
      "source": [
        "# Datasetの定義\n",
        "class CreateDataset2(Dataset):\n",
        "  def __init__(self, X, y, tokenizer, max_len):\n",
        "    self.X = X\n",
        "    self.y = y\n",
        "    self.tokenizer = tokenizer\n",
        "    self.max_len = max_len\n",
        "\n",
        "  def __len__(self):  # len(Dataset)で返す値を指定\n",
        "    return len(self.y)\n",
        "\n",
        "  def __getitem__(self, index):  # Dataset[index]で返す値を指定\n",
        "    text = self.X[index]\n",
        "    inputs = self.tokenizer.encode_plus(  # 入力テキストの前処理を行い、指定した最長系列長までパディングした上で単語IDに変換\n",
        "      text,\n",
        "      add_special_tokens=True,\n",
        "      max_length=self.max_len,\n",
        "      pad_to_max_length=True\n",
        "    )\n",
        "    ids = inputs['input_ids']\n",
        "    mask = inputs['attention_mask']\n",
        "\n",
        "    return {\n",
        "      'ids': torch.LongTensor(ids),\n",
        "      'mask': torch.LongTensor(mask),\n",
        "      'labels': torch.Tensor(self.y[index])\n",
        "    }"
      ],
      "execution_count": 35,
      "outputs": []
    },
    {
      "cell_type": "markdown",
      "metadata": {
        "id": "LBwrH3MD6kJ1"
      },
      "source": [
        "上記を用いてDatasetを作成します。  \n",
        "なお、英語版事前学習済みモデルとして利用できるBERTは、最高精度を目指した構成であるLARGEと、それよりパラメータの少ないBASE、それらのそれぞれについて小文字のみ（Uncased）と大文字小文字混在（Cased）の4パターンがあります。  \n",
        "今回は、手軽に試すことができるBASEのUncasedを使っていきます"
      ]
    },
    {
      "cell_type": "code",
      "metadata": {
        "id": "HyfWFau06uWI"
      },
      "source": [
        "# 正解ラベルのone-hot化\n",
        "y_train = pd.get_dummies(train, columns=['CATEGORY'])[['CATEGORY_b', 'CATEGORY_e', 'CATEGORY_t', 'CATEGORY_m']].values\n",
        "y_valid = pd.get_dummies(valid, columns=['CATEGORY'])[['CATEGORY_b', 'CATEGORY_e', 'CATEGORY_t', 'CATEGORY_m']].values\n",
        "y_test = pd.get_dummies(test, columns=['CATEGORY'])[['CATEGORY_b', 'CATEGORY_e', 'CATEGORY_t', 'CATEGORY_m']].values\n",
        "\n",
        "# Datasetの作成\n",
        "max_len = 20\n",
        "tokenizer = BertTokenizer.from_pretrained('bert-base-uncased')\n",
        "dataset_train = CreateDataset2(train['TITLE'].values.tolist(), y_train, tokenizer, max_len)\n",
        "dataset_valid = CreateDataset2(valid['TITLE'].values.tolist(), y_valid, tokenizer, max_len)\n",
        "dataset_test = CreateDataset2(test['TITLE'].values.tolist(), y_test, tokenizer, max_len)"
      ],
      "execution_count": 36,
      "outputs": []
    },
    {
      "cell_type": "code",
      "metadata": {
        "colab": {
          "base_uri": "https://localhost:8080/"
        },
        "id": "gCc9cmgcujhL",
        "outputId": "32a1cd1b-5ec1-43af-a02d-04d00b0c64f2"
      },
      "source": [
        "for var in dataset_train[1]:  # 記事の１つ目をgetitem処理した出力  # 辞書オブジェクトをそのままfor文で回すとキーkeyが取得できる\n",
        "  print(f'  {var}: {dataset_train[1][var]}')"
      ],
      "execution_count": 37,
      "outputs": [
        {
          "output_type": "stream",
          "text": [
            "Truncation was not explicitly activated but `max_length` is provided a specific value, please use `truncation=True` to explicitly truncate examples to max length. Defaulting to 'longest_first' truncation strategy. If you encode pairs of sequences (GLUE-style) with the tokenizer you can select this strategy more precisely by providing a specific strategy to `truncation`.\n"
          ],
          "name": "stderr"
        },
        {
          "output_type": "stream",
          "text": [
            "  ids: tensor([  101, 18921,  2595,  1011,  7922,  9466,  2006,  2149,  3446, 12143,\n",
            "         2044, 14315,  2368,  7928,   102,     0,     0,     0,     0,     0])\n",
            "  mask: tensor([1, 1, 1, 1, 1, 1, 1, 1, 1, 1, 1, 1, 1, 1, 1, 0, 0, 0, 0, 0])\n",
            "  labels: tensor([1., 0., 0., 0.])\n"
          ],
          "name": "stdout"
        },
        {
          "output_type": "stream",
          "text": [
            "/usr/local/lib/python3.7/dist-packages/transformers/tokenization_utils_base.py:2132: FutureWarning: The `pad_to_max_length` argument is deprecated and will be removed in a future version, use `padding=True` or `padding='longest'` to pad to the longest sequence in the batch, or use `padding='max_length'` to pad to a max length. In this case, you can give a specific length with `max_length` (e.g. `max_length=45`) or leave max_length to None to pad to the maximal input size of the model (e.g. 512 for Bert).\n",
            "  FutureWarning,\n"
          ],
          "name": "stderr"
        }
      ]
    },
    {
      "cell_type": "markdown",
      "metadata": {
        "id": "yN3K6T9o8TfM"
      },
      "source": [
        "入力文字列がidsとしてID系列に変換されていることが確認できます。BERTでは、変換の過程で元の文の文頭と文末に特殊区切り文字である[CLS]と[SEP]がそれぞれ挿入されるため、それらも101と102として系列に含まれています。0はパディングを表します。  \n",
        "正解ラベルもlabelsとしてone-hot形式で保持しています。  \n",
        "また、パディングの位置を表すmaskも合わせて保持し、学習時にidsと一緒にモデルに渡せるようにしておきます。"
      ]
    },
    {
      "cell_type": "markdown",
      "metadata": {
        "id": "3SuYTSNH9sQQ"
      },
      "source": [
        "続いて、ネットワークを定義します。  \n",
        "transfomersを用いることで、BERT部分はまるごとBertModelで表現可能です。その後、分類タスクに対応するため、BERTの出力ベクトルを受け取るドロップアウトと全結合層を定義すれば完成です。"
      ]
    },
    {
      "cell_type": "code",
      "metadata": {
        "id": "Add9MRRG9r74"
      },
      "source": [
        "# BERT分類モデルの定義\n",
        "class BERTClass(torch.nn.Module):\n",
        "  def __init__(self, drop_rate, otuput_size):\n",
        "    super().__init__()\n",
        "    self.bert = BertModel.from_pretrained('bert-base-uncased',return_dict=False)\n",
        "    self.drop = torch.nn.Dropout(drop_rate)\n",
        "    self.fc = torch.nn.Linear(768, otuput_size)  # BERTの出力に合わせて768次元を指定\n",
        "\n",
        "  def forward(self, ids, mask):\n",
        "    _, out = self.bert(ids, attention_mask=mask)\n",
        "    # print(out.size())  # (32, 20, 768) # (batch_size, sequence_length, hidden_size)  # 右の出力\n",
        "    out = self.fc(self.drop(out))## \n",
        "    # print(out.size())  # (32, 20, 4)\n",
        "    return out"
      ],
      "execution_count": 87,
      "outputs": []
    },
    {
      "cell_type": "markdown",
      "metadata": {
        "id": "02OKLtA3-x0-"
      },
      "source": [
        "### BERT分類モデルの学習"
      ]
    },
    {
      "cell_type": "markdown",
      "metadata": {
        "id": "tOwThaay-qWT"
      },
      "source": [
        "ここまでで、Datasetとネットワークが準備できたため、あとは普段通りの学習ループを作成します。  \n",
        "ここでは一連の流れをtrain_model関数として定義しています。"
      ]
    },
    {
      "cell_type": "code",
      "metadata": {
        "id": "o05xuRkW--Pf"
      },
      "source": [
        "def calculate_loss_and_accuracy(model, criterion, loader, device):\n",
        "  \"\"\" 損失・正解率を計算\"\"\"\n",
        "  model.eval()\n",
        "  loss = 0.0\n",
        "  total = 0\n",
        "  correct = 0\n",
        "  with torch.no_grad():\n",
        "    for data in loader:\n",
        "      # デバイスの指定\n",
        "      ids = data['ids'].to(device)\n",
        "      mask = data['mask'].to(device)\n",
        "      labels = data['labels'].to(device)\n",
        "\n",
        "      # 順伝播\n",
        "      outputs = model(ids, mask)\n",
        "\n",
        "      # 損失計算\n",
        "      # print(outputs.size())\n",
        "      # print(labels.size())\n",
        "      loss += criterion(outputs, labels).item()\n",
        "\n",
        "      # 正解率計算\n",
        "      pred = torch.argmax(outputs, dim=-1).cpu().numpy() # バッチサイズの長さの予測ラベル配列\n",
        "      labels = torch.argmax(labels, dim=-1).cpu().numpy()  # バッチサイズの長さの正解ラベル配列\n",
        "      # pred = torch.argmax(outputs, dim=-1)\n",
        "      # abels = torch.argmax(labels, dim=-1)\n",
        "\n",
        "      total += len(labels)\n",
        "      correct += (pred == labels).sum().item()\n",
        "\n",
        "  return loss / len(loader), correct / total"
      ],
      "execution_count": 89,
      "outputs": []
    },
    {
      "cell_type": "code",
      "metadata": {
        "id": "Nkv37KD8_ByA"
      },
      "source": [
        "def train_model(dataset_train, dataset_valid, batch_size, model, criterion, optimizer, num_epochs, device=None):\n",
        "  \"\"\"モデルの学習を実行し、損失・正解率のログを返す\"\"\"\n",
        "  # デバイスの指定\n",
        "  model.to(device)\n",
        "\n",
        "  # dataloaderの作成\n",
        "  dataloader_train = DataLoader(dataset_train, batch_size=batch_size, shuffle=True)\n",
        "  dataloader_valid = DataLoader(dataset_valid, batch_size=len(dataset_valid), shuffle=False)\n",
        "\n",
        "  # 学習\n",
        "  log_train = []\n",
        "  log_valid = []\n",
        "  for epoch in range(num_epochs):\n",
        "    # 開始時刻の記録\n",
        "    s_time = time.time()\n",
        "\n",
        "    # 訓練モードに設定\n",
        "    model.train()\n",
        "    for data in dataloader_train:\n",
        "      # デバイスの指定\n",
        "      ids = data['ids'].to(device)\n",
        "      mask = data['mask'].to(device)\n",
        "      labels = data['labels'].to(device)\n",
        "\n",
        "      # 勾配をゼロで初期化\n",
        "      optimizer.zero_grad()\n",
        "\n",
        "      # 順伝播 + 誤差逆伝播 + 重み更新\n",
        "      # print(ids.size())\n",
        "      outputs = model(ids, mask)\n",
        "      # print(outputs.size())\n",
        "      # print(labels.size())\n",
        "      loss = criterion(outputs, labels)\n",
        "      loss.backward()\n",
        "      optimizer.step()\n",
        "\n",
        "    # 損失と正解率の算出\n",
        "    loss_train, acc_train = calculate_loss_and_accuracy(model, criterion, dataloader_train, device)\n",
        "    loss_valid, acc_valid = calculate_loss_and_accuracy(model, criterion, dataloader_valid, device)\n",
        "    log_train.append([loss_train, acc_train])\n",
        "    log_valid.append([loss_valid, acc_valid])\n",
        "\n",
        "    # チェックポイントの保存\n",
        "    torch.save({'epoch': epoch, 'model_state_dict': model.state_dict(), 'optimizer_state_dict': optimizer.state_dict()}, f'checkpoint{epoch + 1}.pt')\n",
        "\n",
        "    # 終了時刻の記録\n",
        "    e_time = time.time()\n",
        "\n",
        "    # ログを出力\n",
        "    print(f'epoch: {epoch + 1}, loss_train: {loss_train:.4f}, accuracy_train: {acc_train:.4f}, loss_valid: {loss_valid:.4f}, accuracy_valid: {acc_valid:.4f}, {(e_time - s_time):.4f}sec') \n",
        "\n",
        "  return {'train': log_train, 'valid': log_valid}"
      ],
      "execution_count": 88,
      "outputs": []
    },
    {
      "cell_type": "markdown",
      "metadata": {
        "id": "8IQHxUVfB_wD"
      },
      "source": [
        "パラメータを設定して、ファインチューニングを実行します。"
      ]
    },
    {
      "cell_type": "code",
      "metadata": {
        "id": "ppaommQqCAMY",
        "colab": {
          "base_uri": "https://localhost:8080/"
        },
        "outputId": "806d098a-1161-4529-9955-1a6536272ff3"
      },
      "source": [
        "# パラメータの設定\n",
        "DROP_RATE = 0.4\n",
        "OUTPUT_SIZE = 4\n",
        "BATCH_SIZE = 32\n",
        "NUM_EPOCHS = 4\n",
        "LEARNING_RATE = 2e-5\n",
        "\n",
        "# モデルの定義\n",
        "model = BERTClass(DROP_RATE, OUTPUT_SIZE)\n",
        "\n",
        "# 損失関数の定義\n",
        "criterion = torch.nn.BCEWithLogitsLoss()\n",
        "\n",
        "# オプティマイザの定義\n",
        "optimizer = torch.optim.AdamW(params=model.parameters(), lr=LEARNING_RATE)\n",
        "\n",
        "# デバイスの指定\n",
        "device = 'cuda' if cuda.is_available() else 'cpu'\n",
        "\n",
        "# モデルの学習\n",
        "log = train_model(dataset_train, dataset_valid, BATCH_SIZE, model, criterion, optimizer, NUM_EPOCHS, device=device)"
      ],
      "execution_count": 90,
      "outputs": [
        {
          "output_type": "stream",
          "text": [
            "Some weights of the model checkpoint at bert-base-uncased were not used when initializing BertModel: ['cls.predictions.decoder.weight', 'cls.predictions.transform.dense.bias', 'cls.predictions.transform.dense.weight', 'cls.predictions.bias', 'cls.predictions.transform.LayerNorm.bias', 'cls.seq_relationship.bias', 'cls.predictions.transform.LayerNorm.weight', 'cls.seq_relationship.weight']\n",
            "- This IS expected if you are initializing BertModel from the checkpoint of a model trained on another task or with another architecture (e.g. initializing a BertForSequenceClassification model from a BertForPreTraining model).\n",
            "- This IS NOT expected if you are initializing BertModel from the checkpoint of a model that you expect to be exactly identical (initializing a BertForSequenceClassification model from a BertForSequenceClassification model).\n",
            "/usr/local/lib/python3.7/dist-packages/transformers/tokenization_utils_base.py:2132: FutureWarning: The `pad_to_max_length` argument is deprecated and will be removed in a future version, use `padding=True` or `padding='longest'` to pad to the longest sequence in the batch, or use `padding='max_length'` to pad to a max length. In this case, you can give a specific length with `max_length` (e.g. `max_length=45`) or leave max_length to None to pad to the maximal input size of the model (e.g. 512 for Bert).\n",
            "  FutureWarning,\n"
          ],
          "name": "stderr"
        },
        {
          "output_type": "stream",
          "text": [
            "epoch: 1, loss_train: 0.0835, accuracy_train: 0.9517, loss_valid: 0.1111, accuracy_valid: 0.9273, 50.6492sec\n",
            "epoch: 2, loss_train: 0.0433, accuracy_train: 0.9785, loss_valid: 0.0859, accuracy_valid: 0.9453, 50.6518sec\n",
            "epoch: 3, loss_train: 0.0262, accuracy_train: 0.9880, loss_valid: 0.0813, accuracy_valid: 0.9468, 50.7967sec\n",
            "epoch: 4, loss_train: 0.0191, accuracy_train: 0.9922, loss_valid: 0.0978, accuracy_valid: 0.9415, 50.6149sec\n"
          ],
          "name": "stdout"
        }
      ]
    },
    {
      "cell_type": "code",
      "metadata": {
        "id": "-Y93ZehGCKdI",
        "colab": {
          "base_uri": "https://localhost:8080/",
          "height": 334
        },
        "outputId": "2a018d79-aa8b-46f9-d054-89c76793e394"
      },
      "source": [
        "# ログの可視化\n",
        "x_axis = [x for x in range(1, len(log['train']) + 1)]\n",
        "fig, ax = plt.subplots(1, 2, figsize=(15, 5))\n",
        "ax[0].plot(x_axis, np.array(log['train']).T[0], label='train')\n",
        "ax[0].plot(x_axis, np.array(log['valid']).T[0], label='valid')\n",
        "ax[0].set_xlabel('epoch')\n",
        "ax[0].set_ylabel('loss')\n",
        "ax[0].legend()\n",
        "ax[1].plot(x_axis, np.array(log['train']).T[1], label='train')\n",
        "ax[1].plot(x_axis, np.array(log['valid']).T[1], label='valid')\n",
        "ax[1].set_xlabel('epoch')\n",
        "ax[1].set_ylabel('accuracy')\n",
        "ax[1].legend()\n",
        "plt.show()"
      ],
      "execution_count": 91,
      "outputs": [
        {
          "output_type": "display_data",
          "data": {
            "image/png": "[encoded data removed]",
            "text/plain": [
              "<Figure size 1080x360 with 2 Axes>"
            ]
          },
          "metadata": {
            "tags": [],
            "needs_background": "light"
          }
        }
      ]
    },
    {
      "cell_type": "code",
      "metadata": {
        "id": "vWLlhdOhCNJT",
        "colab": {
          "base_uri": "https://localhost:8080/",
          "height": 454
        },
        "outputId": "51a54005-d18f-4301-bcba-d2dc0f7fc36d"
      },
      "source": [
        "# 正解率の算出\n",
        "def calculate_accuracy(model, dataset, device):\n",
        "  # Dataloaderの作成\n",
        "  loader = DataLoader(dataset, batch_size=len(dataset), shuffle=False)\n",
        "\n",
        "  model.eval()\n",
        "  total = 0\n",
        "  correct = 0\n",
        "  with torch.no_grad():\n",
        "    for data in loader:\n",
        "      # デバイスの指定\n",
        "      ids = data['ids'].to(device)\n",
        "      mask = data['mask'].to(device)\n",
        "      labels = data['labels'].to(device)\n",
        "\n",
        "      # 順伝播 + 予測値の取得 + 正解数のカウント\n",
        "      outputs = model.forward(ids, mask)\n",
        "      pred = torch.argmax(outputs, dim=-1).cpu().numpy()\n",
        "      labels = torch.argmax(labels, dim=-1).cpu().numpy()\n",
        "      # pred = torch.argmax(outputs, dim=-1)\n",
        "      # labels = torch.argmax(labels, dim=-1)\n",
        "      total += len(labels)\n",
        "      correct += (pred == labels).sum().item()\n",
        "\n",
        "  return correct / total\n",
        "\n",
        "print(f'正解率（学習データ）：{calculate_accuracy(model, dataset_train, device):.3f}')\n",
        "print(f'正解率（検証データ）：{calculate_accuracy(model, dataset_valid, device):.3f}')\n",
        "print(f'正解率（評価データ）：{calculate_accuracy(model, dataset_test, device):.3f}')"
      ],
      "execution_count": 60,
      "outputs": [
        {
          "output_type": "stream",
          "text": [
            "/usr/local/lib/python3.7/dist-packages/transformers/tokenization_utils_base.py:2132: FutureWarning: The `pad_to_max_length` argument is deprecated and will be removed in a future version, use `padding=True` or `padding='longest'` to pad to the longest sequence in the batch, or use `padding='max_length'` to pad to a max length. In this case, you can give a specific length with `max_length` (e.g. `max_length=45`) or leave max_length to None to pad to the maximal input size of the model (e.g. 512 for Bert).\n",
            "  FutureWarning,\n"
          ],
          "name": "stderr"
        },
        {
          "output_type": "stream",
          "text": [
            "torch.Size([10672, 20, 768])\n"
          ],
          "name": "stdout"
        },
        {
          "output_type": "stream",
          "text": [
            "/usr/local/lib/python3.7/dist-packages/ipykernel_launcher.py:23: DeprecationWarning: elementwise comparison failed; this will raise an error in the future.\n"
          ],
          "name": "stderr"
        },
        {
          "output_type": "error",
          "ename": "AttributeError",
          "evalue": "ignored",
          "traceback": [
            "\u001b[0;31m---------------------------------------------------------------------------\u001b[0m",
            "\u001b[0;31mAttributeError\u001b[0m                            Traceback (most recent call last)",
            "\u001b[0;32m<ipython-input-60-7c485a86ca5c>\u001b[0m in \u001b[0;36m<module>\u001b[0;34m()\u001b[0m\n\u001b[1;32m     25\u001b[0m   \u001b[0;32mreturn\u001b[0m \u001b[0mcorrect\u001b[0m \u001b[0;34m/\u001b[0m \u001b[0mtotal\u001b[0m\u001b[0;34m\u001b[0m\u001b[0;34m\u001b[0m\u001b[0m\n\u001b[1;32m     26\u001b[0m \u001b[0;34m\u001b[0m\u001b[0m\n\u001b[0;32m---> 27\u001b[0;31m \u001b[0mprint\u001b[0m\u001b[0;34m(\u001b[0m\u001b[0;34mf'正解率（学習データ）：{calculate_accuracy(model, dataset_train, device):.3f}'\u001b[0m\u001b[0;34m)\u001b[0m\u001b[0;34m\u001b[0m\u001b[0;34m\u001b[0m\u001b[0m\n\u001b[0m\u001b[1;32m     28\u001b[0m \u001b[0mprint\u001b[0m\u001b[0;34m(\u001b[0m\u001b[0;34mf'正解率（検証データ）：{calculate_accuracy(model, dataset_valid, device):.3f}'\u001b[0m\u001b[0;34m)\u001b[0m\u001b[0;34m\u001b[0m\u001b[0;34m\u001b[0m\u001b[0m\n\u001b[1;32m     29\u001b[0m \u001b[0mprint\u001b[0m\u001b[0;34m(\u001b[0m\u001b[0;34mf'正解率（評価データ）：{calculate_accuracy(model, dataset_test, device):.3f}'\u001b[0m\u001b[0;34m)\u001b[0m\u001b[0;34m\u001b[0m\u001b[0;34m\u001b[0m\u001b[0m\n",
            "\u001b[0;32m<ipython-input-60-7c485a86ca5c>\u001b[0m in \u001b[0;36mcalculate_accuracy\u001b[0;34m(model, dataset, device)\u001b[0m\n\u001b[1;32m     21\u001b[0m       \u001b[0;31m# labels = torch.argmax(labels, dim=-1)\u001b[0m\u001b[0;34m\u001b[0m\u001b[0;34m\u001b[0m\u001b[0;34m\u001b[0m\u001b[0m\n\u001b[1;32m     22\u001b[0m       \u001b[0mtotal\u001b[0m \u001b[0;34m+=\u001b[0m \u001b[0mlen\u001b[0m\u001b[0;34m(\u001b[0m\u001b[0mlabels\u001b[0m\u001b[0;34m)\u001b[0m\u001b[0;34m\u001b[0m\u001b[0;34m\u001b[0m\u001b[0m\n\u001b[0;32m---> 23\u001b[0;31m       \u001b[0mcorrect\u001b[0m \u001b[0;34m+=\u001b[0m \u001b[0;34m(\u001b[0m\u001b[0mpred\u001b[0m \u001b[0;34m==\u001b[0m \u001b[0mlabels\u001b[0m\u001b[0;34m)\u001b[0m\u001b[0;34m.\u001b[0m\u001b[0msum\u001b[0m\u001b[0;34m(\u001b[0m\u001b[0;34m)\u001b[0m\u001b[0;34m.\u001b[0m\u001b[0mitem\u001b[0m\u001b[0;34m(\u001b[0m\u001b[0;34m)\u001b[0m\u001b[0;34m\u001b[0m\u001b[0;34m\u001b[0m\u001b[0m\n\u001b[0m\u001b[1;32m     24\u001b[0m \u001b[0;34m\u001b[0m\u001b[0m\n\u001b[1;32m     25\u001b[0m   \u001b[0;32mreturn\u001b[0m \u001b[0mcorrect\u001b[0m \u001b[0;34m/\u001b[0m \u001b[0mtotal\u001b[0m\u001b[0;34m\u001b[0m\u001b[0;34m\u001b[0m\u001b[0m\n",
            "\u001b[0;31mAttributeError\u001b[0m: 'bool' object has no attribute 'sum'"
          ]
        }
      ]
    },
    {
      "cell_type": "code",
      "metadata": {
        "id": "Aw6KwEeMGJim"
      },
      "source": [
        ""
      ],
      "execution_count": null,
      "outputs": []
    }
  ]
}