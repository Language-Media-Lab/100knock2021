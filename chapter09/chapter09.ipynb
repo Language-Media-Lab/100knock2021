t": 4,
  "nbformat_minor": 0,
  "metadata": {
    "accelerator": "GPU",
    "colab": {
      "name": "言語処理100本ノック第9章.ipynb",
      "provenance": [],
      "collapsed_sections": []
    },
    "kernelspec": {
      "display_name": "Python 3",
      "name": "python3"
    },
    "widgets": {
      "application/vnd.jupyter.widget-state+json": {
        "a4f61ae20954471e836f69ba8a113542": {
          "model_module": "@jupyter-widgets/controls",
          "model_name": "HBoxModel",
          "state": {
            "_view_name": "HBoxView",
            "_dom_classes": [],
            "_model_name": "HBoxModel",
            "_view_module": "@jupyter-widgets/controls",
            "_model_module_version": "1.5.0",
            "_view_count": null,
            "_view_module_version": "1.5.0",
            "box_style": "",
            "layout": "IPY_MODEL_380dad7ff4c44cd5be2057503748f36f",
            "_model_module": "@jupyter-widgets/controls",
            "children": [
              "IPY_MODEL_7424696dc10943998712d02f48c747b5",
              "IPY_MODEL_42b64662820e462bb79029c4831d7774"
            ]
          }
        },
        "380dad7ff4c44cd5be2057503748f36f": {
          "model_module": "@jupyter-widgets/base",
          "model_name": "LayoutModel",
          "state": {
            "_view_name": "LayoutView",
            "grid_template_rows": null,
            "right": null,
            "justify_content": null,
            "_view_module": "@jupyter-widgets/base",
            "overflow": null,
            "_model_module_version": "1.2.0",
            "_view_count": null,
            "flex_flow": null,
            "width": null,
            "min_width": null,
            "border": null,
            "align_items": null,
            "bottom": null,
            "_model_module": "@jupyter-widgets/base",
            "top": null,
            "grid_column": null,
            "overflow_y": null,
            "overflow_x": null,
            "grid_auto_flow": null,
            "grid_area": null,
            "grid_template_columns": null,
            "flex": null,
            "_model_name": "LayoutModel",
            "justify_items": null,
            "grid_row": null,
            "max_height": null,
            "align_content": null,
            "visibility": null,
            "align_self": null,
            "height": null,
            "min_height": null,
            "padding": null,
            "grid_auto_rows": null,
            "grid_gap": null,
            "max_width": null,
            "order": null,
            "_view_module_version": "1.2.0",
            "grid_template_areas": null,
            "object_position": null,
            "object_fit": null,
            "grid_auto_columns": null,
            "margin": null,
            "display": null,
            "left": null
          }
        },
        "7424696dc10943998712d02f48c747b5": {
          "model_module": "@jupyter-widgets/controls",
          "model_name": "FloatProgressModel",
          "state": {
            "_view_name": "ProgressView",
            "style": "IPY_MODEL_6a8a18d6c8b043bba29b76b2072ef5d1",
            "_dom_classes": [],
            "description": "Downloading: 100%",
            "_model_name": "FloatProgressModel",
            "bar_style": "success",
            "max": 231508,
            "_view_module": "@jupyter-widgets/controls",
            "_model_module_version": "1.5.0",
            "value": 231508,
            "_view_count": null,
            "_view_module_version": "1.5.0",
            "orientation": "horizontal",
            "min": 0,
            "description_tooltip": null,
            "_model_module": "@jupyter-widgets/controls",
            "layout": "IPY_MODEL_2749179dca1543e5a9ceddc13c11855e"
          }
        },
        "42b64662820e462bb79029c4831d7774": {
          "model_module": "@jupyter-widgets/controls",
          "model_name": "HTMLModel",
          "state": {
            "_view_name": "HTMLView",
            "style": "IPY_MODEL_ae468e543535419e83145c3bef393002",
            "_dom_classes": [],
            "description": "",
            "_model_name": "HTMLModel",
            "placeholder": "​",
            "_view_module": "@jupyter-widgets/controls",
            "_model_module_version": "1.5.0",
            "value": " 232k/232k [00:00&lt;00:00, 662kB/s]",
            "_view_count": null,
            "_view_module_version": "1.5.0",
            "description_tooltip": null,
            "_model_module": "@jupyter-widgets/controls",
            "layout": "IPY_MODEL_f812c3d1cdd449808c0c42548e581e0b"
          }
        },
        "6a8a18d6c8b043bba29b76b2072ef5d1": {
          "model_module": "@jupyter-widgets/controls",
          "model_name": "ProgressStyleModel",
          "state": {
            "_view_name": "StyleView",
            "_model_name": "ProgressStyleModel",
            "description_width": "initial",
            "_view_module": "@jupyter-widgets/base",
            "_model_module_version": "1.5.0",
            "_view_count": null,
            "_view_module_version": "1.2.0",
            "bar_color": null,
            "_model_module": "@jupyter-widgets/controls"
          }
        },
        "2749179dca1543e5a9ceddc13c11855e": {
          "model_module": "@jupyter-widgets/base",
          "model_name": "LayoutModel",
          "state": {
            "_view_name": "LayoutView",
            "grid_template_rows": null,
            "right": null,
            "justify_content": null,
            "_view_module": "@jupyter-widgets/base",
            "overflow": null,
            "_model_module_version": "1.2.0",
            "_view_count": null,
            "flex_flow": null,
            "width": null,
            "min_width": null,
            "border": null,
            "align_items": null,
            "bottom": null,
            "_model_module": "@jupyter-widgets/base",
            "top": null,
            "grid_column": null,
            "overflow_y": null,
            "overflow_x": null,
            "grid_auto_flow": null,
            "grid_area": null,
            "grid_template_columns": null,
            "flex": null,
            "_model_name": "LayoutModel",
            "justify_items": null,
            "grid_row": null,
            "max_height": null,
            "align_content": null,
            "visibility": null,
            "align_self": null,
            "height": null,
            "min_height": null,
            "padding": null,
            "grid_auto_rows": null,
            "grid_gap": null,
            "max_width": null,
            "order": null,
            "_view_module_version": "1.2.0",
            "grid_template_areas": null,
            "object_position": null,
            "object_fit": null,
            "grid_auto_columns": null,
            "margin": null,
            "display": null,
            "left": null
          }
        },
        "ae468e543535419e83145c3bef393002": {
          "model_module": "@jupyter-widgets/controls",
          "model_name": "DescriptionStyleModel",
          "state": {
            "_view_name": "StyleView",
            "_model_name": "DescriptionStyleModel",
            "description_width": "",
            "_view_module": "@jupyter-widgets/base",
            "_model_module_version": "1.5.0",
            "_view_count": null,
            "_view_module_version": "1.2.0",
            "_model_module": "@jupyter-widgets/controls"
          }
        },
        "f812c3d1cdd449808c0c42548e581e0b": {
          "model_module": "@jupyter-widgets/base",
          "model_name": "LayoutModel",
          "state": {
            "_view_name": "LayoutView",
            "grid_template_rows": null,
            "right": null,
            "justify_content": null,
            "_view_module": "@jupyter-widgets/base",
            "overflow": null,
            "_model_module_version": "1.2.0",
            "_view_count": null,
            "flex_flow": null,
            "width": null,
            "min_width": null,
            "border": null,
            "align_items": null,
            "bottom": null,
            "_model_module": "@jupyter-widgets/base",
            "top": null,
            "grid_column": null,
            "overflow_y": null,
            "overflow_x": null,
            "grid_auto_flow": null,
            "grid_area": null,
            "grid_template_columns": null,
            "flex": null,
            "_model_name": "LayoutModel",
            "justify_items": null,
            "grid_row": null,
            "max_height": null,
            "align_content": null,
            "visibility": null,
            "align_self": null,
            "height": null,
            "min_height": null,
            "padding": null,
            "grid_auto_rows": null,
            "grid_gap": null,
            "max_width": null,
            "order": null,
            "_view_module_version": "1.2.0",
            "grid_template_areas": null,
            "object_position": null,
            "object_fit": null,
            "grid_auto_columns": null,
            "margin": null,
            "display": null,
            "left": null
          }
        },
        "8fc9d6f78c7a4234a4471aaa64e93292": {
          "model_module": "@jupyter-widgets/controls",
          "model_name": "HBoxModel",
          "state": {
            "_view_name": "HBoxView",
            "_dom_classes": [],
            "_model_name": "HBoxModel",
            "_view_module": "@jupyter-widgets/controls",
            "_model_module_version": "1.5.0",
            "_view_count": null,
            "_view_module_version": "1.5.0",
            "box_style": "",
            "layout": "IPY_MODEL_a09c4419ae2d48ec9af5f0f6606df31a",
            "_model_module": "@jupyter-widgets/controls",
            "children": [
              "IPY_MODEL_a21a6cc3dff24e57a19734ac690cfb55",
              "IPY_MODEL_2ee50a2d2ede45568349150bcb16284f"
            ]
          }
        },
        "a09c4419ae2d48ec9af5f0f6606df31a": {
          "model_module": "@jupyter-widgets/base",
          "model_name": "LayoutModel",
          "state": {
            "_view_name": "LayoutView",
            "grid_template_rows": null,
            "right": null,
            "justify_content": null,
            "_view_module": "@jupyter-widgets/base",
            "overflow": null,
            "_model_module_version": "1.2.0",
            "_view_count": null,
            "flex_flow": null,
            "width": null,
            "min_width": null,
            "border": null,
            "align_items": null,
            "bottom": null,
            "_model_module": "@jupyter-widgets/base",
            "top": null,
            "grid_column": null,
            "overflow_y": null,
            "overflow_x": null,
            "grid_auto_flow": null,
            "grid_area": null,
            "grid_template_columns": null,
            "flex": null,
            "_model_name": "LayoutModel",
            "justify_items": null,
            "grid_row": null,
            "max_height": null,
            "align_content": null,
            "visibility": null,
            "align_self": null,
            "height": null,
            "min_height": null,
            "padding": null,
            "grid_auto_rows": null,
            "grid_gap": null,
            "max_width": null,
            "order": null,
            "_view_module_version": "1.2.0",
            "grid_template_areas": null,
            "object_position": null,
            "object_fit": null,
            "grid_auto_columns": null,
            "margin": null,
            "display": null,
            "left": null
          }
        },
        "a21a6cc3dff24e57a19734ac690cfb55": {
          "model_module": "@jupyter-widgets/controls",
          "model_name": "FloatProgressModel",
          "state": {
            "_view_name": "ProgressView",
            "style": "IPY_MODEL_501efc8c81ca41eb81aae724f7bff027",
            "_dom_classes": [],
            "description": "Downloading: 100%",
            "_model_name": "FloatProgressModel",
            "bar_style": "success",
            "max": 28,
            "_view_module": "@jupyter-widgets/controls",
            "_model_module_version": "1.5.0",
            "value": 28,
            "_view_count": null,
            "_view_module_version": "1.5.0",
            "orientation": "horizontal",
            "min": 0,
            "description_tooltip": null,
            "_model_module": "@jupyter-widgets/controls",
            "layout": "IPY_MODEL_c8472ab2a5af4dfc94b4cb5f87c8bd31"
          }
        },
        "2ee50a2d2ede45568349150bcb16284f": {
          "model_module": "@jupyter-widgets/controls",
          "model_name": "HTMLModel",
          "state": {
            "_view_name": "HTMLView",
            "style": "IPY_MODEL_69c871edf38e4b7587d45b8bc1539c24",
            "_dom_classes": [],
            "description": "",
            "_model_name": "HTMLModel",
            "placeholder": "​",
            "_view_module": "@jupyter-widgets/controls",
            "_model_module_version": "1.5.0",
            "value": " 28.0/28.0 [00:00&lt;00:00, 30.6B/s]",
            "_view_count": null,
            "_view_module_version": "1.5.0",
            "description_tooltip": null,
            "_model_module": "@jupyter-widgets/controls",
            "layout": "IPY_MODEL_7bfd1f31428944c699dea151e60bfbda"
          }
        },
        "501efc8c81ca41eb81aae724f7bff027": {
          "model_module": "@jupyter-widgets/controls",
          "model_name": "ProgressStyleModel",
          "state": {
            "_view_name": "StyleView",
            "_model_name": "ProgressStyleModel",
            "description_width": "initial",
            "_view_module": "@jupyter-widgets/base",
            "_model_module_version": "1.5.0",
            "_view_count": null,
            "_view_module_version": "1.2.0",
            "bar_color": null,
            "_model_module": "@jupyter-widgets/controls"
          }
        },
        "c8472ab2a5af4dfc94b4cb5f87c8bd31": {
          "model_module": "@jupyter-widgets/base",
          "model_name": "LayoutModel",
          "state": {
            "_view_name": "LayoutView",
            "grid_template_rows": null,
            "right": null,
            "justify_content": null,
            "_view_module": "@jupyter-widgets/base",
            "overflow": null,
            "_model_module_version": "1.2.0",
            "_view_count": null,
            "flex_flow": null,
            "width": null,
            "min_width": null,
            "border": null,
            "align_items": null,
            "bottom": null,
            "_model_module": "@jupyter-widgets/base",
            "top": null,
            "grid_column": null,
            "overflow_y": null,
            "overflow_x": null,
            "grid_auto_flow": null,
            "grid_area": null,
            "grid_template_columns": null,
            "flex": null,
            "_model_name": "LayoutModel",
            "justify_items": null,
            "grid_row": null,
            "max_height": null,
            "align_content": null,
            "visibility": null,
            "align_self": null,
            "height": null,
            "min_height": null,
            "padding": null,
            "grid_auto_rows": null,
            "grid_gap": null,
            "max_width": null,
            "order": null,
            "_view_module_version": "1.2.0",
            "grid_template_areas": null,
            "object_position": null,
            "object_fit": null,
            "grid_auto_columns": null,
            "margin": null,
            "display": null,
            "left": null
          }
        },
        "69c871edf38e4b7587d45b8bc1539c24": {
          "model_module": "@jupyter-widgets/controls",
          "model_name": "DescriptionStyleModel",
          "state": {
            "_view_name": "StyleView",
            "_model_name": "DescriptionStyleModel",
            "description_width": "",
            "_view_module": "@jupyter-widgets/base",
            "_model_module_version": "1.5.0",
            "_view_count": null,
            "_view_module_version": "1.2.0",
            "_model_module": "@jupyter-widgets/controls"
          }
        },
        "7bfd1f31428944c699dea151e60bfbda": {
          "model_module": "@jupyter-widgets/base",
          "model_name": "LayoutModel",
          "state": {
            "_view_name": "LayoutView",
            "grid_template_rows": null,
            "right": null,
            "justify_content": null,
            "_view_module": "@jupyter-widgets/base",
            "overflow": null,
            "_model_module_version": "1.2.0",
            "_view_count": null,
            "flex_flow": null,
            "width": null,
            "min_width": null,
            "border": null,
            "align_items": null,
            "bottom": null,
            "_model_module": "@jupyter-widgets/base",
            "top": null,
            "grid_column": null,
            "overflow_y": null,
            "overflow_x": null,
            "grid_auto_flow": null,
            "grid_area": null,
            "grid_template_columns": null,
            "flex": null,
            "_model_name": "LayoutModel",
            "justify_items": null,
            "grid_row": null,
            "max_height": null,
            "align_content": null,
            "visibility": null,
            "align_self": null,
            "height": null,
            "min_height": null,
            "padding": null,
            "grid_auto_rows": null,
            "grid_gap": null,
            "max_width": null,
            "order": null,
            "_view_module_version": "1.2.0",
            "grid_template_areas": null,
            "object_position": null,
            "object_fit": null,
            "grid_auto_columns": null,
            "margin": null,
            "display": null,
            "left": null
          }
        },
        "49d1f2f0d27549a79c64ed337494fc15": {
          "model_module": "@jupyter-widgets/controls",
          "model_name": "HBoxModel",
          "state": {
            "_view_name": "HBoxView",
            "_dom_classes": [],
            "_model_name": "HBoxModel",
            "_view_module": "@jupyter-widgets/controls",
            "_model_module_version": "1.5.0",
            "_view_count": null,
            "_view_module_version": "1.5.0",
            "box_style": "",
            "layout": "IPY_MODEL_0c9ab8a019ee4f9c92c38e905c3a19fb",
            "_model_module": "@jupyter-widgets/controls",
            "children": [
              "IPY_MODEL_a9d384d8f92b468baea413071b65a1b1",
              "IPY_MODEL_9c89832c341948569e389226b3d829e8"
            ]
          }
        },
        "0c9ab8a019ee4f9c92c38e905c3a19fb": {
          "model_module": "@jupyter-widgets/base",
          "model_name": "LayoutModel",
          "state": {
            "_view_name": "LayoutView",
            "grid_template_rows": null,
            "right": null,
            "justify_content": null,
            "_view_module": "@jupyter-widgets/base",
            "overflow": null,
            "_model_module_version": "1.2.0",
            "_view_count": null,
            "flex_flow": null,
            "width": null,
            "min_width": null,
            "border": null,
            "align_items": null,
            "bottom": null,
            "_model_module": "@jupyter-widgets/base",
            "top": null,
            "grid_column": null,
            "overflow_y": null,
            "overflow_x": null,
            "grid_auto_flow": null,
            "grid_area": null,
            "grid_template_columns": null,
            "flex": null,
            "_model_name": "LayoutModel",
            "justify_items": null,
            "grid_row": null,
            "max_height": null,
            "align_content": null,
            "visibility": null,
            "align_self": null,
            "height": null,
            "min_height": null,
            "padding": null,
            "grid_auto_rows": null,
            "grid_gap": null,
            "max_width": null,
            "order": null,
            "_view_module_version": "1.2.0",
            "grid_template_areas": null,
            "object_position": null,
            "object_fit": null,
            "grid_auto_columns": null,
            "margin": null,
            "display": null,
            "left": null
          }
        },
        "a9d384d8f92b468baea413071b65a1b1": {
          "model_module": "@jupyter-widgets/controls",
          "model_name": "FloatProgressModel",
          "state": {
            "_view_name": "ProgressView",
            "style": "IPY_MODEL_3daa2fe643f3483fb3242587ef86f5cc",
            "_dom_classes": [],
            "description": "Downloading: 100%",
            "_model_name": "FloatProgressModel",
            "bar_style": "success",
            "max": 466062,
            "_view_module": "@jupyter-widgets/controls",
            "_model_module_version": "1.5.0",
            "value": 466062,
            "_view_count": null,
            "_view_module_version": "1.5.0",
            "orientation": "horizontal",
            "min": 0,
            "description_tooltip": null,
            "_model_module": "@jupyter-widgets/controls",
            "layout": "IPY_MODEL_b39f027f8dda47d8a745eec171efd308"
          }
        },
        "9c89832c341948569e389226b3d829e8": {
          "model_module": "@jupyter-widgets/controls",
          "model_name": "HTMLModel",
          "state": {
            "_view_name": "HTMLView",
            "style": "IPY_MODEL_7105a94f404046b28f39c32248a1e206",
            "_dom_classes": [],
            "description": "",
            "_model_name": "HTMLModel",
            "placeholder": "​",
            "_view_module": "@jupyter-widgets/controls",
            "_model_module_version": "1.5.0",
            "value": " 466k/466k [00:00&lt;00:00, 2.82MB/s]",
            "_view_count": null,
            "_view_module_version": "1.5.0",
            "description_tooltip": null,
            "_model_module": "@jupyter-widgets/controls",
            "layout": "IPY_MODEL_502721469c6b412198da1fad4a74ae25"
          }
        },
        "3daa2fe643f3483fb3242587ef86f5cc": {
          "model_module": "@jupyter-widgets/controls",
          "model_name": "ProgressStyleModel",
          "state": {
            "_view_name": "StyleView",
            "_model_name": "ProgressStyleModel",
            "description_width": "initial",
            "_view_module": "@jupyter-widgets/base",
            "_model_module_version": "1.5.0",
            "_view_count": null,
            "_view_module_version": "1.2.0",
            "bar_color": null,
            "_model_module": "@jupyter-widgets/controls"
          }
        },
        "b39f027f8dda47d8a745eec171efd308": {
          "model_module": "@jupyter-widgets/base",
          "model_name": "LayoutModel",
          "state": {
            "_view_name": "LayoutView",
            "grid_template_rows": null,
            "right": null,
            "justify_content": null,
            "_view_module": "@jupyter-widgets/base",
            "overflow": null,
            "_model_module_version": "1.2.0",
            "_view_count": null,
            "flex_flow": null,
            "width": null,
            "min_width": null,
            "border": null,
            "align_items": null,
            "bottom": null,
            "_model_module": "@jupyter-widgets/base",
            "top": null,
            "grid_column": null,
            "overflow_y": null,
            "overflow_x": null,
            "grid_auto_flow": null,
            "grid_area": null,
            "grid_template_columns": null,
            "flex": null,
            "_model_name": "LayoutModel",
            "justify_items": null,
            "grid_row": null,
            "max_height": null,
            "align_content": null,
            "visibility": null,
            "align_self": null,
            "height": null,
            "min_height": null,
            "padding": null,
            "grid_auto_rows": null,
            "grid_gap": null,
            "max_width": null,
            "order": null,
            "_view_module_version": "1.2.0",
            "grid_template_areas": null,
            "object_position": null,
            "object_fit": null,
            "grid_auto_columns": null,
            "margin": null,
            "display": null,
            "left": null
          }
        },
        "7105a94f404046b28f39c32248a1e206": {
          "model_module": "@jupyter-widgets/controls",
          "model_name": "DescriptionStyleModel",
          "state": {
            "_view_name": "StyleView",
            "_model_name": "DescriptionStyleModel",
            "description_width": "",
            "_view_module": "@jupyter-widgets/base",
            "_model_module_version": "1.5.0",
            "_view_count": null,
            "_view_module_version": "1.2.0",
            "_model_module": "@jupyter-widgets/controls"
          }
        },
        "502721469c6b412198da1fad4a74ae25": {
          "model_module": "@jupyter-widgets/base",
          "model_name": "LayoutModel",
          "state": {
            "_view_name": "LayoutView",
            "grid_template_rows": null,
            "right": null,
            "justify_content": null,
            "_view_module": "@jupyter-widgets/base",
            "overflow": null,
            "_model_module_version": "1.2.0",
            "_view_count": null,
            "flex_flow": null,
            "width": null,
            "min_width": null,
            "border": null,
            "align_items": null,
            "bottom": null,
            "_model_module": "@jupyter-widgets/base",
            "top": null,
            "grid_column": null,
            "overflow_y": null,
            "overflow_x": null,
            "grid_auto_flow": null,
            "grid_area": null,
            "grid_template_columns": null,
            "flex": null,
            "_model_name": "LayoutModel",
            "justify_items": null,
            "grid_row": null,
            "max_height": null,
            "align_content": null,
            "visibility": null,
            "align_self": null,
            "height": null,
            "min_height": null,
            "padding": null,
            "grid_auto_rows": null,
            "grid_gap": null,
            "max_width": null,
            "order": null,
            "_view_module_version": "1.2.0",
            "grid_template_areas": null,
            "object_position": null,
            "object_fit": null,
            "grid_auto_columns": null,
            "margin": null,
            "display": null,
            "left": null
          }
        }
      }
    }
  },
  "cells": [
    {
      "cell_type": "markdown",
      "metadata": {
        "id": "4QjfFRhGldfy"
      },
      "source": [
        "# 第9章: RNN, CNN\n",
        "\n",
        "![ch09.png](data:image/png;base64,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)\n",
        "## 80. ID番号への変換\n",
        "\n",
        "問題51で構築した学習データ中の単語にユニークなID番号を付与したい．学習データ中で最も頻出する単語に1，2番目に頻出する単語に2，……といった方法で，学習データ中で2回以上出現する単語にID番号を付与せよ．そして，与えられた単語列に対して，ID番号の列を返す関数を実装せよ．ただし，出現頻度が2回未満の単語のID番号はすべて0とせよ．"
      ]
    },
    {
      "cell_type": "markdown",
      "metadata": {
        "id": "YA8lWTWTSVZC"
      },
      "source": [
        "問題50と同様にデータの入手と整形を行う。\n"
      ]
    },
    {
      "cell_type": "code",
      "metadata": {
        "colab": {
          "base_uri": "https://localhost:8080/"
        },
        "id": "oGOiBrtOSVM7",
        "outputId": "624d1ce1-f3b5-40ce-c298-2afa8c470794"
      },
      "source": [
        "!wget https://archive.ics.uci.edu/ml/machine-learning-databases/00359/NewsAggregatorDataset.zip\n",
        "!unzip NewsAggregatorDataset.zip"
      ],
      "execution_count": null,
      "outputs": [
        {
          "output_type": "stream",
          "text": [
            "--2021-07-13 05:43:59--  https://archive.ics.uci.edu/ml/machine-learning-databases/00359/NewsAggregatorDataset.zip\n",
            "Resolving archive.ics.uci.edu (archive.ics.uci.edu)... 128.195.10.252\n",
            "Connecting to archive.ics.uci.edu (archive.ics.uci.edu)|128.195.10.252|:443... connected.\n",
            "HTTP request sent, awaiting response... 200 OK\n",
            "Length: 29224203 (28M) [application/x-httpd-php]\n",
            "Saving to: ‘NewsAggregatorDataset.zip’\n",
            "\n",
            "NewsAggregatorDatas 100%[===================>]  27.87M  24.9MB/s    in 1.1s    \n",
            "\n",
            "2021-07-13 05:44:00 (24.9 MB/s) - ‘NewsAggregatorDataset.zip’ saved [29224203/29224203]\n",
            "\n",
            "Archive:  NewsAggregatorDataset.zip\n",
            "  inflating: 2pageSessions.csv       \n",
            "   creating: __MACOSX/\n",
            "  inflating: __MACOSX/._2pageSessions.csv  \n",
            "  inflating: newsCorpora.csv         \n",
            "  inflating: __MACOSX/._newsCorpora.csv  \n",
            "  inflating: readme.txt              \n",
            "  inflating: __MACOSX/._readme.txt   \n"
          ],
          "name": "stdout"
        }
      ]
    },
    {
      "cell_type": "code",
      "metadata": {
        "id": "C09csIA7WADV"
      },
      "source": [
        "!sed -e 's/\"/'\\''/g' ./newsCorpora.csv > ./newsCorpora_re.csv"
      ],
      "execution_count": null,
      "outputs": []
    },
    {
      "cell_type": "markdown",
      "metadata": {
        "id": "EeHhuOmHc7aq"
      },
      "source": [
        "学習データと検証データと評価データに分ける。"
      ]
    },
    {
      "cell_type": "code",
      "metadata": {
        "colab": {
          "base_uri": "https://localhost:8080/"
        },
        "id": "nFrBLHbkWTUC",
        "outputId": "3ce35df2-64d7-479b-96e7-2903d1f23aff"
      },
      "source": [
        "import pandas as pd\n",
        "from sklearn.model_selection import train_test_split\n",
        "\n",
        "#データの読込\n",
        "df = pd.read_csv('./newsCorpora_re.csv', header=None, sep='\\t', names=['ID', 'TITLE', 'URL', 'PUBLISHER', 'CATEGORY', 'STORY', 'HOSTNAME', 'TIMESTAMP'])\n",
        "\n",
        "#データの抽出\n",
        "df = df.loc[df['PUBLISHER'].isin(['Reuters', 'Huffington Post', 'Businessweek', 'Contactmusic.com', 'Daily Mail']), ['TITLE', 'CATEGORY']]\n",
        "\n",
        "#データの分割\n",
        "train, valid_test = train_test_split(df, test_size=0.2, shuffle=True, random_state=123, stratify=df['CATEGORY'])\n",
        "valid, test = train_test_split(valid_test, test_size=0.5, shuffle=True, random_state=123, stratify=valid_test['CATEGORY'])\n",
        "\n",
        "#事例数の確認\n",
        "print('【学習データ】')\n",
        "print(train['CATEGORY'].value_counts())\n",
        "print('【検証データ】')\n",
        "print(valid['CATEGORY'].value_counts())\n",
        "print('【評価データ】')\n",
        "print(test['CATEGORY'].value_counts())"
      ],
      "execution_count": null,
      "outputs": [
        {
          "output_type": "stream",
          "text": [
            "【学習データ】\n",
            "b    4501\n",
            "e    4235\n",
            "t    1220\n",
            "m     728\n",
            "Name: CATEGORY, dtype: int64\n",
            "【検証データ】\n",
            "b    563\n",
            "e    529\n",
            "t    153\n",
            "m     91\n",
            "Name: CATEGORY, dtype: int64\n",
            "【評価データ】\n",
            "b    563\n",
            "e    530\n",
            "t    152\n",
            "m     91\n",
            "Name: CATEGORY, dtype: int64\n"
          ],
          "name": "stdout"
        }
      ]
    },
    {
      "cell_type": "markdown",
      "metadata": {
        "id": "0pwepFSpoaMS"
      },
      "source": [
        "学習データ中で最も頻出する単語に1，2番目に頻出する単語に2，……といった方法で，学習データ中で2回以上出現する単語にID番号を付与する。"
      ]
    },
    {
      "cell_type": "code",
      "metadata": {
        "colab": {
          "base_uri": "https://localhost:8080/"
        },
        "id": "qvm3cXGo0k79",
        "outputId": "4c74f747-c78b-425a-f5f8-c666d7b1ecb6"
      },
      "source": [
        "from collections import defaultdict\n",
        "import string\n",
        "\n",
        "#単語の頻度集計\n",
        "d = defaultdict(int)#0で初期化された辞書\n",
        "table = str.maketrans(string.punctuation, ' '*len(string.punctuation))  #記号をスペースに置換するテーブル\n",
        "#maketransは、マッピング変換テーブルを作成し、translateで実行\n",
        "for text in train['TITLE']:#一文ごと\n",
        "  for word in text.translate(table).split():#単語ごと\n",
        "    d[word] = d.get(word, 0) + 1#見つけた単語の要素に1をプラスする\n",
        "d = sorted(d.items(), key=lambda x:x[1], reverse=True)#sorted関数のkeyに「要素xを受け取り、x[1]を返す」というlambda式を指定\n",
        "#sorted関数は、リストの2番目の要素をkeyとしてソートを行う\n",
        "\n",
        "#単語ID辞書の作成\n",
        "word2id = {word: i + 1 for i, (word, cnt) in enumerate(d) if cnt > 1}  #出現頻度が2回以上の単語を登録\n",
        "\n",
        "print(f'ID数: {len(set(word2id.values()))}\\n')\n",
        "print('---頻度上位20語---')\n",
        "for key in list(word2id)[:20]:\n",
        "    print(f'{key}: {word2id[key]}')"
      ],
      "execution_count": null,
      "outputs": [
        {
          "output_type": "stream",
          "text": [
            "ID数: 9405\n",
            "\n",
            "---頻度上位20語---\n",
            "to: 1\n",
            "s: 2\n",
            "in: 3\n",
            "on: 4\n",
            "UPDATE: 5\n",
            "as: 6\n",
            "US: 7\n",
            "for: 8\n",
            "The: 9\n",
            "of: 10\n",
            "1: 11\n",
            "To: 12\n",
            "2: 13\n",
            "the: 14\n",
            "and: 15\n",
            "In: 16\n",
            "Of: 17\n",
            "a: 18\n",
            "at: 19\n",
            "A: 20\n"
          ],
          "name": "stdout"
        }
      ]
    },
    {
      "cell_type": "markdown",
      "metadata": {
        "id": "QY9dS8jzhHG8"
      },
      "source": [
        "辞書を用いて与えられた単語列をID番号の列に変換する関数tokenizerを定義。\n",
        "辞書にない単語は0。"
      ]
    },
    {
      "cell_type": "code",
      "metadata": {
        "id": "VK-3MSNd0qKL"
      },
      "source": [
        "import torch\n",
        "\n",
        "def tokenizer(text, word2id=word2id, unk=0):\n",
        "  \"\"\"入力テキストをスペースで分割しID列に変換(辞書になければunkで指定した0を設定)\"\"\"\n",
        "  table = str.maketrans(string.punctuation, ' '*len(string.punctuation))\n",
        "  return [word2id.get(word, unk) for word in text.translate(table).split()]"
      ],
      "execution_count": null,
      "outputs": []
    },
    {
      "cell_type": "markdown",
      "metadata": {
        "id": "9YfC2z28hmCY"
      },
      "source": [
        "確認。"
      ]
    },
    {
      "cell_type": "code",
      "metadata": {
        "colab": {
          "base_uri": "https://localhost:8080/"
        },
        "id": "uBTjFX9v0xoW",
        "outputId": "080ca8af-ba96-4f83-d97f-145f9400e0e0"
      },
      "source": [
        "text = train.iloc[1, train.columns.get_loc('TITLE')]\n",
        "#iloc は 行、列を番号で指定\n",
        "#pandas.DataFrameのindex, columnsにはget_loc()というメソッドがあり、それぞれ行番号と列番号を所得する\n",
        "\n",
        "print(f'テキスト: {text}')\n",
        "print(f'ID列: {tokenizer(text)}')"
      ],
      "execution_count": null,
      "outputs": [
        {
          "output_type": "stream",
          "text": [
            "テキスト: Amazon Plans to Fight FTC Over Mobile-App Purchases\n",
            "ID列: [169, 539, 1, 683, 1237, 82, 279, 1898, 4199]\n"
          ],
          "name": "stdout"
        }
      ]
    },
    {
      "cell_type": "markdown",
      "metadata": {
        "id": "3-DPvxnyXg6Y"
      },
      "source": [
        "## 81. RNNによる予測\n",
        "ID番号で表現された単語列$\\boldsymbol{x} = (x_1, x_2, \\dots, x_T)$がある．ただし，$T$は単語列の長さ，$x_t \\in \\mathbb{R}^{V}$は単語のID番号のone-hot表記である（$V$は単語の総数である）．再帰型ニューラルネットワーク（RNN: Recurrent Neural Network）を用い，単語列$\\boldsymbol{x}$からカテゴリ$y$を予測するモデルとして，次式を実装せよ．\n",
        "\n",
        "\n",
        "$$\n",
        "\\overrightarrow h_0 = 0,\\\\\n",
        "\\overrightarrow h_t = {\\rm \\overrightarrow{RNN}}(\\mathrm{emb}(x_t), \\overrightarrow h_{t-1}), \\\\\n",
        "y = {\\rm softmax}(W^{(yh)} \\overrightarrow h_T + b^{(y)})\n",
        "$$\n",
        "\n",
        "\n",
        "ただし，$\\mathrm{emb}(x) \\in \\mathbb{R}^{d_w}$は単語埋め込み（単語のone-hot表記から単語ベクトルに変換する関数），$\\overrightarrow h_t \\in \\mathbb{R}^{d_h}$は時刻$t$の隠れ状態ベクトル，${\\rm \\overrightarrow{RNN}}(x,h)$は入力$x$と前時刻の隠れ状態$h$から次状態を計算するRNNユニット，$W^{(yh)} \\in \\mathbb{R}^{L \\times d_h}$は隠れ状態ベクトルからカテゴリを予測するための行列，$b^{(y)} \\in \\mathbb{R}^{L}$はバイアス項である（$d_w, d_h, L$はそれぞれ，単語埋め込みの次元数，隠れ状態ベクトルの次元数，ラベル数である）．RNNユニット${\\rm \\overrightarrow{RNN}}(x,h)$には様々な構成が考えられるが，典型例として次式が挙げられる．\n",
        "\n",
        "$$\n",
        "{\\rm \\overrightarrow{RNN}}(x,h) = g(W^{(hx)} x + W^{(hh)}h + b^{(h)})\n",
        "$$\n",
        "\n",
        "ただし，$W^{(hx)} \\in \\mathbb{R}^{d_h \\times d_w}，W^{(hh)} \\in \\mathbb{R}^{d_h \\times d_h}, b^{(h)} \\in \\mathbb{R}^{d_h}$はRNNユニットのパラメータ，$g$は活性化関数（例えば$\\tanh$やReLUなど）である．\n",
        "\n",
        "なお，この問題ではパラメータの学習を行わず，ランダムに初期化されたパラメータで$y$を計算するだけでよい．次元数などのハイパーパラメータは，$d_w = 300, d_h=50$など，適当な値に設定せよ（以降の問題でも同様である）．"
      ]
    },
    {
      "cell_type": "markdown",
      "metadata": {
        "id": "YeTMIXFqsFow"
      },
      "source": [
        "ニューラルネットを用いた自然言語処理、特にテキスト分類における処理の流れを整理しておきます。\n",
        "ニューラルネットを用いたテキスト分類は、主に以下の4つの工程からなります。\n",
        "\n",
        "\n",
        "1.   文をトークン（例えば単語）の列に分割\n",
        "2.   それぞれのトークンをベクトルに変換\n",
        "3.   トークンベクトルを文ベクトルとして1つに集約\n",
        "4.   文ベクトルを入力としてラベルを分類\n",
        "\n",
        "\n",
        "それぞれの工程について、いろいろな方法が考えられますが、例えば第8章では、\n",
        "\n",
        "\n",
        "1.   文をトークン（例えば単語）の列に分割 ⇒ スペースで分割\n",
        "2.   それぞれのトークンをベクトルに変換 ⇒ 事前学習済みWord2Vecで変換\n",
        "3.   トークンベクトルを文ベクトルとして1つに集約 ⇒ トークンベクトルを平均\n",
        "4.   文ベクトルを入力としてラベルを分類 ⇒ 全結合層で分類\n",
        "\n",
        "\n",
        "の流れを実装し、No.4のパラメータを学習していました（日本語文書を対象とする場合は、No.1で第4章の形態素解析が必要となります）。\n",
        "\n",
        "それに対し、本章では、\n",
        "\n",
        "\n",
        "1.   文をトークン（例えば単語）の列に分割 ⇒ スペースで分割\n",
        "2.   それぞれのトークンをベクトルに変換 ⇒ 埋め込み層で変換\n",
        "3.   トークンベクトルを文ベクトルとして1つに集約 ⇒ RNNまたはCNNで集約\n",
        "4.   文ベクトルを入力としてラベルを分類 ⇒ 全結合層で分類\n",
        "\n",
        "\n",
        "となり、No.2～4を繋げたネットワークのパラメータを学習していきます。\n",
        "なお、本章の問題のように、便宜的に分割したトークンを対応するIDに変換しておくことも多いですが、工程としてはNo.1に含まれます。\n",
        "\n",
        "それでは、早速本問のネットワークを実装します。\n",
        "埋め込み層にはnn.Embeddingを使います。この層は、単語IDを与えるとone-hotベクトルに変換した後、指定したサイズ（emb_size）のベクトルに変換します。\n",
        "続くRNN部分は、全結合層を再帰的に通す処理で実現できますが、nn.RNNを用いることでシンプルに書くことができます。\n",
        "最後に全結合層を繋げれば完成です。"
      ]
    },
    {
      "cell_type": "code",
      "metadata": {
        "id": "23uP04LP1hMg"
      },
      "source": [
        "import torch\n",
        "from torch import nn\n",
        "\n",
        "class RNN(nn.Module):\n",
        "  def __init__(self, vocab_size, emb_size, padding_idx, output_size, hidden_size):\n",
        "    super().__init__()\n",
        "    self.hidden_size = hidden_size\n",
        "    self.emb = nn.Embedding(vocab_size, emb_size, padding_idx=padding_idx)#nn.Embedding()は，基本的に2つの引数．第一引数: 語彙サイズ（単語IDの最大値+1）第二引数: 埋め込む次元\n",
        "    #https://pytorch.org/docs/stable/generated/torch.nn.Embedding.html\n",
        "    self.rnn = nn.RNN(emb_size, hidden_size, nonlinearity='tanh', batch_first=True)#入力のサイズ(emb_size)と隠れ状態のサイズ(hidden_size)を引数で指定。\n",
        "    #https://pytorch.org/docs/stable/generated/torch.nn.RNN.html\n",
        "    self.fc = nn.Linear(hidden_size, output_size)#レイヤー（層）を定義\n",
        "\n",
        "  def forward(self, x):\n",
        "    self.batch_size = x.size()[0]\n",
        "    hidden = self.init_hidden()  # h0のゼロベクトルを作成\n",
        "    emb = self.emb(x)\n",
        "    # emb.size() = (batch_size, seq_len, emb_size)\n",
        "    out, hidden = self.rnn(emb, hidden)\n",
        "    # out.size() = (batch_size, seq_len, hidden_size)\n",
        "    out = self.fc(out[:, -1, :])\n",
        "    # out.size() = (batch_size, output_size)\n",
        "    return out\n",
        "\n",
        "  def init_hidden(self):\n",
        "    hidden = torch.zeros(1, self.batch_size, self.hidden_size)#隠れ状態の初期化\n",
        "    return hidden"
      ],
      "execution_count": null,
      "outputs": []
    },
    {
      "cell_type": "markdown",
      "metadata": {
        "id": "PyCke88FF1Vw"
      },
      "source": [
        "![l_di-gsdl1203.gif](data:image/gif;base64,R0lGODlhjAP3AfcAAAQEBAQEBAsLCwwMDBAQEBcXFx4eHR8hHiIiIiMjIyQmJCcnJy8vLy4uLjAwMDQ0NDU1NTc4Nzs7Oz0+PZoEBEBAQENDQEJCQkRERK8EBEdHR0tLRUpKSrcAAE1NTbsAAFBQUMYAAMsAAFRUVFpaWlhYWNwAANsAAFxcXOYAAGBgYF1jWekAAGJiYmBmXfUEBGhkZPQAAPkAAP0AAGlpaf8AAGdtY2xsbP8EBG5ubv8MDP8PD3V1df8YGP8dHf8gIHF4bXV1df8oKP8oKHh4eP8sLHp6ev8wMHx8fP80NH2BdX9/f3uDdv84OP87O4KCgoeHh/9AQP9ERIaGhv9MTImJif9MTIuLi/9QUI2NjYmShI+Pj/9XV5GWh5KSkpWVlf9gYJaWlpeXl/9kZJidjpmZmf9nZ5ubm/9sbJ+fn/90dKCgoP9zc6Ojo6OsnP94eKWlpaampv98fKenp6ioqP9/f6mpqaqqqqurq/+Dg7Csra2trf+Li66urqq0o6+vr7CwsP+Li7GxsbaysrG8qrOzs/+Pj7S0tLW1tf+Tk7C7qbq2tre3t7i4uP+bm7m5ubS/rb6+vru7u7y8vL29vbfDsP+fn76+vv+hob+/v8TExP+jo8HBwcLCwv+np8PDw8TExMnFxcbGxv+wsMfHx8jIyP+vr83NzcrKysjUwP+zs8vLy8zMzMbSvs3Nzf+3t9LS0s/Pz9DQ0P+7u9XR0dLS0v+/v9PT09TU1NnZ2f/Hx9PZ7tbW1tfX1//GxtjY2NnZ2d7e3tna7dvb2//Ly9zc3P/Nzd3d3f/Pz97e3tvp0+Pj4+Dg4Nvg7+Hh4dvo0uLi4uPj4//X1+jo6OXl5eXp9t7s1v/f3+bm5ufn5+zs7P/f3+np6eLw2erq6uvq9e/r6//j4+zs7O3t7e7u7v/n5/Pz8/Hv9/T09PHx8f/r6/Ly8vf39//v7/T09Pf0+vn5+fT1+vb29v/z8/f39/z4/Pn5+f/39/n6/P7+/vv7+/z8/P/7+/39/f7+/v///ywAAAAAjAP3AQAI/wD/CRxIsKDBgwgTKlzIsKHDhxAjSpxIsaLFixgzatzIsaPHjyBDihxJsqTJkyhTqlzJsqXLlzBjypxJs6bNmzhz6tzJs6fPn0CDCh1KtKjRo0iTKl3KtKnTp1CjSp1KtarVq1izat3KtavXr2DDih1LtqzZs2jTql3Ltq3bt3Djyp1Lt+7HfKZq2N3Lt6/fv4B3GnJiqIbhw4cNNfThAy2bGooDS55MuXJdH4hNDSx8mEtBJ2wGH/QRWSEXJ2nx1jBmubXr17C3GvIssHBkH6wF1qD9z9hq0b31CiS90LepfA5rYPpp5khGLrxjS59OvXpRJ9E3C//HBvXgx4gNEf9X2H1gD+UK0SOkUiOPwTw1qKhsjlF1buv48+vfz9IHm4N55YaZKcD5NtB4CSH4DxXLVWSGewZhIh9R+fRQGn8YZqjhhhFx0ZhB+TxWG2aeFLidggb5dt+CDVL04EESGsXFfxzWaOONGBpG40E10EhaDQSihlhjKBaUV0EMHmYGQYe1KJAvSo4B4T/n1XBEjAIdoeRAhvlSpZPpGXZEDwOZIWZBmCBmZZmHOVcQdDjGKeecrz2m2WeN4SVkkP8IZwyRFxrkyXYCsddgD2AySBCUA7EHIaICwTchFVNSMeE/Yy7HKEM9+BIpof/44uZAWFLp6T95XJoHmQTBSeersMb/WhcXTbwJap8lCinQn/8USdCRBCkq0IvBOknFqYW6l8eUqE44aqGnHjHlEcgmdOuizxYEaZYFLdvqjrKGK+64Y7HxoUBOXAukaH4CqpCKxZbJLIsEsSovvaTKB6Wa6lE7kL8LpXlYtaFma56TVSK25IGBkuvwwxBH5QRq6J5b0LpCHuauQgoK+4+USBpbLaWoMpsqtwgdocu/BDMEqqgHbfuvQsBGbPPNOP9E2ECPCWjxxbmO1nBB5TXaIrFGYzsQfI8OBOWEeSycZYMAY9pyt5f2WZAuBsvMKswDjSF1E9nlbPbZaLOUF2ID+cYvxX0SyG9ixQGJXJXusRffgvw2/wifmGbqi1iarOptGIRNUnm4Qqsiduq+iLlpJmL2/m3YpTWnrfnmnN9FEcZCM3RaWo8N3fnpqKceEnIXMab667DHLvvstNduu6yW8zvv7bz37vvvwAcv/PDEF2/88cjDWsfyyTfv/PM/HQb99NRX/5L01mev/fYeYc/99+KCYRgY4Bflffnozyl+DeSnH9T57sfP4fpYyB+9Yfbnr6EUhiWhP0/w+58ApyMEw9hrgDYJIAIXaBkdHIYfDKyJAnGSjwpa8IIVjKAGbdIOxEhjgzKZYE0u2I8SmtCEF9wKBlfIwha68IUwjKEMZ0jDGroQhD55BWI8gUOYiPAlFuzHPv/0oQ98wAMduTAHO5bIDng4ER/62EcJM0gVEpZwH1jMoha3yMUuevGLYAyjGMdIxjJu8YQW7EoMe6cGhfXwevizSQWF+IsqqIADDSgAAPY4gAZgQAVLEAU65NFEeEixH1R8Sj6uiI9g5OIXv+iFJCdJyUpa8pKYzKQmN8nJTnryk5MchjwI2UQiSjGRVQniCdGISqbwIWFzi6UsZ0nLWtrylrjMpS53ycte+tKXPaiD2X6okjnuYxVEaAAADFABFSAhDIKYhCDEsAQVYIAAADgADzKRDnMQEh5RRKRTFlmKHCBgj+hMpzrXyc52uvOd8IynPOdJT3gqAAaPQAc6Son/SNZBZY5CLKITp0ENJi7xiVE8pT+PMotfOvShEH3oD5oQ0Ypa9KKxvNPNiImSCsLjCwkAAAJ4wImFIkQUSDinAZ7gjXWgw4mnZEo/0kEDAECACW5QRCt2ytOe+vSnQA2qUIdK1KIa9ahI/aki3MCECACgBMMgxzrkAU5xjnOO6NgDD0owgQQIAJ0GmEAJcjAHbXzTkDFFCv8wyta2OlQI0pBGEdxK17riMgo542hJKriPRyxAAEQ4hUkZkg9eIIEACFiDN8ihRENa9Sj5oMQBCuCHbnTDGpa9rGYxy9nNerazoP2saENL2tGatrSoPa1qUxtazXZDEQoogGLJ8VJ9/zw2KYvshznwQIKvRkAFRNhCHChBiThsgQgqcOoARtCGabi0lAolyj1wYJgP5k8d1K2BOnCm15Es8hccAAAJlnGRbLQAABOIhDbSUdt+GqUflACAC56R2fra9774za9+98vf/vr3vwAOcGafYQMAnIEaLWWHbQdLoX5MgwYDAAAGzuANhmjjDBgAwABQ0Av2sgOK7hUKMQwjBAEmwTCv4G4cWTLHLAAgAqLYSCwqAAAeYEMbU8VHWoWSj3QcwAUCDrKQh0zkIhsZCAVABTQSrI9W8rgf8IACARQgBm1I5MJ/5QE0pErVBTNYJ5YwTNnihwbDJELF1zpJPuCRAwBs4f8jaXhqMLyRDqru+CeLpIEB6GvkPvv5z4D+rzUU4AFeOEMb5jDkl32ySEAkgABQYIdF9OEFAhjgC4ut7T4WjZO/yUGAf1MDmlnc4xEM4A8hyYQAJIALbNBWwbftST9IAYDKBvrWuM61kRUBgC/wYhlmhUesGZ0PdpQAAC3IhkbIcQMJ/2KxhFwwcwzjCAFuQsyjXkk+qCGBApBiJLcogAJEQY1xvPTOO1lkDiCg63a7+937nQAHWJELbKRDwZzOST640e1MeCQWBWgAKqZB26rmeyZ6U8XBuWcLw8AtYt3lSAXR8YAF9KIk2VgAAmIBbCVKuyf52IcCmADvkpu83Vr/IMAnYMEMbaDj48T+xQIWMAyQZMMBBngEgtfRxE33ZK41QIYAr2GYH2S7o/1QAQGYcZJsFAADvwD2uZ0sx3zoAwBuwOzJt871IvsBAIBYRS6ywXOf41kUBZAAOURiDg0IAA7OoDOsF/6SHxjmGkMv+tFNssgyAEASKaF1DqJubkXzpILDAAAkus74xgO4FQBIgyZusWV5SJHYxSDACPZBEn3QQACAYAY36ixsurfE7jXA+/+IXgOjb3TFe81HKQRwhZWcAQBhyAU1yEHVYY+wH7kAQCscT/zi3xfyYshELFouD9syWh4PkIA+TKIPDSAAFaK/N8xvgpkahEOA/Ig4/53EX59xFAAFLWlBASQxDGrUefty7AcuhG/8+hcf+ZNYRTG8keh+gHwfKlAAynYS5GAAGIALzMBkvhdCsKc/5CcnD1gRi4QECmAOLbEPDTACsBAM3LAOhqdv/fAL9Gd/JNh1kOcFklAKw+Bczpdu/eB3n6ASsiAAN2BoiPaBN7E8wjRAOrh3IlFBy0AAafASfSAAeIAL0OBypadv+zB/w1eCUGhykBcGj1AKY+eB/rcT/TCDXsAScZYGvbAMvIcPC/hG2ROBE6FuCTB9L8EAGiB29oZvTMgLIxiFdthuJ9gIpPALZNeCTOgBFeASIPAApzAM2aB9pmeGJ1EHNdADP//wA0UgBVJiCcQwD6+ChhLRD8sgAEMIE38AAHMgC3P2UmUIRE1Yh3eYioEGeV/ACHt4iMKmExW0CgDgby1xCgDgBSzHfzhIE/kQD81QDcE4jMJYjMR4jMaYjMgYjP/wDcr4jMsIjdJYDc0ojdF4jdZYDd/wD9jYjdmIjOfQD944jt9YDeeAD+SYjtIYDwTBiLKEA1KQYhDYgCHRDzSgAGwIE25YCr2we+xgdnK0D72AiqpYkEZ2gowgCr9gb7EIghxwATBRAg5QCrywe82XhTZRDbuwkRzZkR75kSAZkhvZDxopkiZ5kiCZD82AkiyJks3wDy0ZkyLZDPggkzbpkdX/EA83uZO7sI0D4Y60tIM4gokQkQ/mMABiMBNtAACNEAvB4HLwJxMhdwsEaZBWGWSsmJALmQ4NiRP9IAkAEAswkXhTcArH0IG9KJUluQuysJFtyZZuGZdwOZdvWZdy2ZYqeZd6SZd7aZd8uQv/IAx9OZh/6Zd22Qz7wJGGSZiLWZi7UA3soJiMOZmOaY6S6ZiY2Zh2eQ4GEQ7XcA3IoAqOIAdcUECGoQPzmGYSlw+MAADQMBPmAABIUAq/4H7/mIhqJpBVeZW86V8IqZAMiZEBeQEeIBMqsACiwAuVF5UwoZFvyZMtuQ9rCZ0tmZfU2ZLCkA9zeZ0nSZPbyZ0iWQ3m//Cd4AmS1KgQ/hQORAkb69kQFZQDDlATGKABnCALzEeGuLlXp/iEvdmfvtlrWhmc+kYNfycTqAAAcXAKxcAN/Zef3jWdu3AKGymhETqhFlqhGEqhGnqh1rmhGXqhHhqiFxoLGxmYH3qiIoqiILqRzaAPHEmiKhqjKUqhJJqTL7qiMoqjHlqj5+CRM6qjQIqhnPkQ7ekaRboQQpQAS1ATW0AAkrAKhoiFDupd+0CH/OmfuLYCAGBZkKcEUpiLAcqVwumL/ZAGApCPMEEANCAKuGCRTZaRuwCj5QmSsWCdcyqSdnqnHhkLzaCdehqS3vmn5qmTGCqoceqTyUGPHHKkCv/RDwO5CjURfF7Apv4IkDMRck5YcpCnTitgXwYAAJ1aX1+nCJalBHt0XwcQqpnVBepEqv2lpZcFeSSnqQAKnGJKQf0wAiNAEzAAAZxwCk/5cmMKE/kwnawQpD8ao4C5kjnarCkKoyaKrNKqrIGarNYapM1AqNfqrDhqjnK6reDKkUOaqKqZIYyKECG3BQVwEwpAAplgn2blh5eqm1eKhwAABNaQr5BXAPV1AHtka5bFa7bGBHuEAvaVqvW1R62Qr9ZgqvzKX1qKWZAHBF/qBWHalSGRCIZwDxEBZUJIE58oCKhQb/dmqTFRkhRqqLuADxCqsnkpp38qocIAkyrbkYH/WrNxaqM4u5HnSa6p6V2eV5w2oQIXkH8L2n8mgQVC5577QJX1mmvWIKv1xapkkFkFsAIFcACiWmuWBQT3CgCualkIa1l6pHWWhVkV0F8osKVRCwCzCm9ZaasYCxKMaCEc6xB9BQAD2BD9sEcSEBLmIABL8AlISA5ySBPVALO7cKyLu5GM+7iOG7mNO7mMS6IdeqGMS6GZK7mai7kbCa0fCbmUK7miW7o2mw8warqju7qqW7mPqZOdy7qkO7uyy7M96rm127q0K6Hj2hDnShm/WxAVhA8goAI3wQMMoIdbmZYgYRhKS1j0SqsUm1kTm1mp+nVv+3UDCwDWMFn9Gqpk/wAAXcBf4YtOABux3VC9tGqxcjusHgGUdgu9S/AAidgPRPC3IYEBHBAJTukNvTelILGWKSuoLLuzG3m5McuRNLuzN4uzNjrAhtqzvquoGxK8BFFB+iABSxoRJLBHBiAQRIBOG3EFBoAImtCm5MC8H4EYz5sQmLqbt9a2byvD1tupEzCCo9q1Wxq+bzu2NwyxbGsNVGtZsErDtNqK7UsSQGlAG4ue+oACJSARRoC/INECE/AIUDoNDXqpEBq7upu7HMqssTvGnFvGk0ujJSqYHOnFtPvFjMuR1drGcgzGGJqtazzHbry7j3m7d0zHeSykEGHBgSHIAuFRBtCFElEGC/8wDYUMBQuADRuRBgNQCJwAC85guG9KEvzSwiBSpTB8a+prWQTLnwgLeSQQsFzbDQSLWTesdWN7ABOwX+G7sJlVAVrbDegbyu/2m8vrvh2xxIcRvyBidRpwA1JMxR+xBAzgirwQnAD8ERoJwX9ap8y6sy8rqCk7swa8C96puIJqmYUawYFMwRpCyP+wSPAAAHhAEWfQAIyMAijAyBsRCer8rsyXySMRS5w8EC/8tLhmxN3AqkpgtmPrtaSaw93gtVwKqmIbqgdgAfEWy/U1yrjMtlJ7xBfryxwBzJTTxBe8ZgzwBMd8BwtQsPKsEWJQAIfwCbcghrfJxR3poX/8xcv/iqObe8ZmfNOuC5ggycZ+LLmfy801ibszPcc1Sqh9XNS1S6Hg3JFK/cUk2rsuQ87mStX10Q8EGgkVcQYSAM8eQZVhQAlm6b/w8MxEKkv7HHID6c+4tqnoxK9m2w1jK9f8qr2izL2lyrWvDNH65a/stLC5fK9fSgEdEAInkAIxIAMzYFe1JMznvGYF0IkQYQQE4M75gA0o4M4bEbL16QzjYHlm3REoi7MFbMAIPKcQDJPe/KdxrLKxYKOpq7ISPNXlmiNWfRGL5Ay1aBHhVQoG0ZoAUBGyAAAU8AEiYAIskNiMbUstPJWfDGhti69CDAB8XcOZxcMIrdBnm01yHao//9zXE8Cw4o1ZRXzR79a2hG3YiK3Yy11LP6B6i8QOAMAIUmwAJ50PDXAHG8EJkce/T3mRAoEE6WS8AZ5OgSgQt4dOB/4PCb5HC+4QieuRX+zTPm25YpzTuEvGqwutzQCzqkvhtOuRDYyhOp3hGF7HSE3iRL3iKj65exySMm3iOD3jUr0Q5uwX5hzfAGAHFDENDWAEpFAAvk0QBtAPETCl9JwBHXDcyS0D7W1LwqTWzw1oXZpZBKuq3V1fN2zXqozXlhW+ZGAA4Cu++mUBt4xfgT29cEvchX3YLMDeTz43OoAG5cDPwAcAk3DMBSEBRrARwYB7lMAKx4BofihEU0QQhv9+W4m+UIseEQJcs6VtzdUszdAZu9oczoLazTursx6qp689zrXNHzneD+xgAEkpET5+BgJRCg3wCAaBzBFxe0ouAifQ5Isd53NzBHfSz/AG0N3QwT2M5fuayqZqXxKQTaqqR/iVtmBuX6G6trHqtl+6BSbcCwI6Ehx9GDjABnV+wTNVoBExxXve5wLRtwDg6hPB32nwpEdLhjANkiX+0zOelz791GbM0z2Nx3P8kSMu73981KGr7/IuoeYozfUu8KK7CzUeJqG+H6PODhGwwRCR6gRB8QQB6xBxBQVwB1g8DNwgrCUxS7p+wZ7M1qAs2FpO5lmeWdZAsKm8yvW1qVj/rrDXvUyWdcNVK7ZbWtESi/Jrzr69rMRyzu0HsUjyMACS/RDifvHk/g8SwAtE0AgU0Qc7Lgmo4PHmIK/N2eIE3LLTXNOdTp2xy6faGduG2tqyjdRv/M2g/rOrQ+rFGxF06MEgjE5N7/QVkUx78KQeT4ohn+saxc/72evmbbUMPdeZ9VWuqt315bVYPt3pBLDd8HXoJNEVHe1vu8u1GvTYriZzXg5fFt8LINLhDut8XhBGgO4SEQYEsAePcPUMOrcuUawB7+9GvQt2evC27+KAqcYxjfAhzu9D/ZG6/8cUSpMeDvx0zNR8nNTK/+EK3/ZxMurwAANCCxGGzjq5dVsY//8QKjABfTAJY01VoT3BkRP4JL/WJhfXAcb++eX+4o1fDHtfZuv+9gr01y4SQPn5CxHfAIEhxz+CBQ0eLGhEwkEJRg4aeYRQosQlC/pIWlWMmzl9/SZ+BBlSJMFqu3adMplS5UqWLV3ia7YrlkuaNWnmi3nS5s6UKHexMunzX1CiPI2qbIav51GmJmNVi6dTalOj1UYWrJH16lauXb1+BRuWa9YaYkXm68euigGzIBeCbQACUKRYwbSh05ev7UiyNY6YAplv3y0ArbodRpxY8WLGjR0/hhxZ8mTKlRu3AvCFkahf2NLB87gXZJ0aONiUG4mWHYoSXPsBgA3g1z9Gsf/ZJoz4FUaEPpMyekMHWrToajOX/jQJFPly5T6bJy/6L+dx5dWhM79uXerQlc6zX/e+3GVSmtrNf8euE2rL8M/Tt7++q9o5l/DTn1/u89xYrcP9/wcwQJDIEpCgfPKB5xQAYBHwLa+CAWCJQjKBhZlx5MmrQIOy+uusfXopzDIRRySxRBNPTAwzLzbr7LPQNOQDDdSuUs2IB7rqZ59++tHrnx15NAgisDTQ4I9ITrELrxc13KqkoqgyCh8nfYLSKJxkqpKl8HwSZijjtMuyJfJ8ojJMl9aTqkwzV7JqKwKZhDNOOT96U8AD4UHngCf+4yU22M7oyosB6Dikk1ugIYf/nQzh7DC1fXAJEUVJJ6W0Uskw04wzz4Sbk8Z+4BEEAG0CFNIrdgTIQZBM6rqro05DysdJlezDr1andpHOOKlsvQ89Kv8RRiX8aI1vPKVq2hI8ZfMzqZmoukOPV/eem0/XlaSN9rqZ9nOzv1e/Bde/Ou3URx4YHBwuRx2B5AoDCe7YrBdq0mFnnx7DlUiwPg2ztF9//y1RRRY3XRLfg+5MR4A2SM2tq0IASKOQTmBBVB57DUaoJDXXbElKjm2aSbons0w2Je5K/ngX8qZKmc1n02tZPv7Kwrhmm0MaN8B89GGHDlFv/sccAG7Y4xFUcplmHVeBNvDRSAGGOmqpU8xs/2AXmTZwZ3Q8QOE/AvzsmisaGLADEVFwWYbei2+O9dplp82W2V2uLAruXevGWzxc2YsbP5dmWrkmbHvFEk3q8h7cvflsKtnukrm9KmesJw9X8v8Eg2caAMoAeg4AzpiL1eAKtlkwEPmdOnXVKxVY06sn35kdLwjQ578cd7z3qgJIwKORUn7JZh122L25pJk2btlj5GO+8kuSlzWpSywJ55g8a2N2aj37Un5qZsq/x9dy2+FZhwQFareZAQgI/YRicjAkvWbBCEN9dfvvFxFTqznFemd4fgFAJm6moCz0hhXDAE5HcoextkGLcIm7Fd0O98C+RSdYfKOg3mgSOMZV8P89zXpZBrVDLPEsrjwe5NUuIMcXb4HPhXISn3/6Ua5VQMxmfwDAFPDwiN95pl4LLN2HnoY/IhbRMa1rEf+Yhrl0RAAEN1PBAeggCE7IwkIYAiID94EPLnIxH14EIz6+KMYwjtGMZeSRYLpIRjaesY1lhKMY2bXFNcbRjW6sYx0vRsc81vGOdoRjaPj4xzcWkpBjTCMf83hIQBoyi3Rq4QslWaAYDkc16YBBAtBnMAZMYA6CoMsxEkg8oAkGUvUzYipTqT/XKZFpM0QHIAAQi5oNAwA5wIPZeJG2H07Sl78EpgsrGUxidotmGkILnm4hgDRgDIdXwAMjNMELRCnqkVr/3JcqtblKAKyolfGzWY7kQQ4n1kwFCIDDH3wzjKTBY23FhGc85SmgYc7TngSp515iN44WaBJf+uhkHABBiVWwcx3uvKbBTDnEbTZUdaxMIjjl9ylz4GGWBrNlDgjVCStqA373BGlIRYqzSI4UpPlsCxNhUYAW4IsHA9hCNDVxqHEo6XumY6hDdQo1JBLspgiShzY08ER8qaABcbhIKXLhGYsl1KRPhaovURrVSU7VLDMc5x0+B6413PKTkWAF0g76zv4NJqc7RaulIOrTm+oDHumQhA3BZQcAGMEOh6giM4CDD1JS1a9//Z5VAUs5wYZFMOxYxzSIAABSvCoWAwAB/xz68AhRULOmCrypEFGZVs5Oqqev+96n0KENJAiAlq/qBWTTKQlU/GJe1hxsbGVrs8LOlrYltVPsyEENDhQgG3PSxgEasIY7IKITdeHGWJ2qUKdttrPPDVjVSAE80FLusOnAhgcO4I1OmWMBDlhDLtun19Et17bnRe9eapveyuHWTvuAhzm8wYsFLOC3cMqGBAogBjuAchW5oMb7lpZZWyoCugc+kcCmm43qwu5TQaWvBjYJpxEYgL8TOkUuGFwvibLXwx/uynpBPCcRfyVH7EjHNDShgAL0gkm9WIABqvBJSZTCsuV1oWDWAQA3INjHI3IDxBpBCg0ftMOl41k6uP/xiAHcYMIFyoEAniDQGu+SHEoy74i1vOV/lJjLlHSvnfqBj3FSIxYRGIAABfSJAizAC3QAhCREcQu9KjfL4UKLPBDAhB/3mTJdEMAdeChWvkoSq7ttgwA8YA4NsaMEqJrDZDVRIW+YA6FfxnSmsRJmTX/Ly17BHDrGsQxeeAAAcwgQHgYAgTTMIc6TPgY36IXZHKelBRDwc64hswEJ7IG1w9jIgMGXzKAuAxEFYMB9AZTfAiwBDntgxCdkUYxpzPrIncb2bD+d7bZsuyuYM4c2oNELGABAAy4WzTBMrYE23EEQkoA1g+UBmjvjSzWPAICBdb3vxFQCADz4AyVOIUr/m0rSf+vwBjM4EeNbAAjGBsjCHKB93GEEWB58rTe3NW5Sb2/8Kx3fyoF4Fu5xt4EBQyOHWcjBAwAgwAhxwEMhJkEKWBwjG+/D+CSTiY4SKOAZ/Oa3NRwQAToUghMVupCwhz1DxCYcFRP4d8r3Yo7SNqAMc/gDI44L4Pdd2uNfly3IwR45TmtohvH1xjJycYonGIAAV1jGV5ZxhQIQoAVwsMMfEJEJVNwiGAzGC1lzrLViFMAGQN83Ewgghj0MeZfpaKov0YIPFHMjGLhYQgH2+2SvpKHuLSCuIB7xiVgAuKZeH3vqqSp21Q+o7AVCi1vNMQ5qFOMWn4DB1xzwBHSH/2QYT5AAAAgAgjXQYQ+FgPcpesEMWc9b8C/0Hzm6CgRrIP7H1mDC0PqbiVNoxNJ9rXWSveGMXoiiBQBowB/YYao/QAAAHrg6Hg4xc1lU/PT2ynjr9V/V1++/2/0XM55BB3LIhmDghVMQhS0AgQJouRHIgSuYg09ghk+YgyvIgRFoAOG7AB5otz4ohEfghFKAhVxYBm+APHoLJsxBuDMoAAXQN+t7rkpwAALIAayTBFKwMizKP4ViunQQt1yIhT/gAAAYABRQP5Fghz9AgQEAgAmAQDwQhEbghL47Bmy4MncCP//TwmJivS3ctGMCl9jDk3RIu2LABVbQBErIAhCYgP8GYEA/KYAGiAAOWAI6wIM9EARGkIQQlIVfYIabMwdFyUJD24cyQwVTmwAt8INWYMRGdMRHhMRIlMRJpMRKtMRLxMRMlEQ/6IINAIAICIO8Gz1YCIbkQr1fij12mD1qOAZcWIVHIAIJEAABGIEbeII0kIRbuAVJSIMnuIERmEUIoIE0ML48jARRiIVfcAZvuEId2UEvhMbbAsNoFI0u5IoD2YeRI4dpcIZhuIVTIAVOoIRHQIRCOAMxOIM9UMc+AARBOAQ9zARNQAVZ6IVgoAZtOEFaI6ad8wZo4IUv4ICv8ZOBJMiCNMiDRMiEVMiFZMiGdMgJ4IFihLf6kzelQ0X/phtAbswFWCiFThAEHtAACFAAgYQNAUCAB6gAGiAuPPiDQmiESNAEVsCFYqAGb1gHDME/atTJX7JGL+zJkBNDdEiHcZgGaDiGXoCFUygFUegEToiESZCEqKSETOCETyCFVYgFXBgGe9SGK2MHLHzG0jm48eMFVugEQDjHL/CCtWTLtnTLt4TLuJTLuWzLLKCAu6TLvNTLvczLNLjDlmSETCCF+gswHIMntIAveVgHbcCGYNjIVdCETJiERjiEPRCDMIiDPeiDPvgDQSgERngESuiEUjgFXiiGZeCGK8SHnNzJ1nyhn9RC2ATKbMSTdSAHb6AGZyiGXOAFWIiFU2AF/1RAhVVghVOQhVvghVwIhmXIBnwMRH3Qx3hKRYRbhmGABciUTElohEZghO70zu8Ez/AUz/Ekz/Lszg5Az3c0z/Vkz/Ysz0Z4BEkQTVKIBV74u2Y8EHnCRrcSSsZkhmHAhVhYBVL4BKeEyviUz0zoBE0oBVaAhV44hmWYBnIQHrB0zQsVJgDEUEiaRgbKEXiAB3kwh6H0hmxYBmhghmA4hmEYhmI4hmBwhmWghmnoynRAh6/UB2cEKTFch3FozFy4BQEthVIgBVEw0iNF0iRV0iVl0iZ1UlHQhBCQ0iel0iq10iclBVIoBVQwTtOEhubDwh3NkZHzwWlYhv/8BVzwTf/gJE5WiIXjTM5jcIaapNB5y9FB3NA8DR8N1dODkE1Q2xG3Ygd5QId1SAdyGAdvUFRF1QZtGAdySAdzuFF4uNP8FKlUFMoSRdFiGIZc+IVPBdVQFdVRJdVSNdVTBdUTUNVeQNVWddVXRdVcyIVhOAZmoAZuGIebtNCQQkwQLVRy0AZuwIZlcAYV5dQWDYZggAZqyAZvGAcbxVHW7NNpxZg/1T9r/Ta0GFOeGVRCRQdzAFd0QAd5+EpKrVRLHan9HFTb1AZvmIZpyIZswIZ5pdd6tdd7xdd81dd9pYYU8Nd9BdiAFdiBjddsmAZuaNRItVM8lU5thS94GNQRRdRG9Qb/buAGb2jUZ12HcY3WNKLWjzUYbFU9kf2KA9mRfchG6MQHt4JOlP0RdI0qk3WrEP1Wc1gHQ02HnNXZneXZnvXZnwXaoE2HGGCBGBDao0XapBXam10HSZ1UsAxLg3PYme1WcbVajv3KlXXGqAXZrjULkh07sC3ZA9HWHzFbsuXaFETMlKVUEHXbt4XbuJXbuaXbun1bGcBbu9XbveVbvXWrlT3XwSLbk4VOSsWHtoXOHF0XsvXaxvU0Pv1YsYVGkzVbdUHZy8XczNXczeXczvXcfZiB0P3c0SXd0v3cyk2jtC0mtKVc1lVdx4Xdj4NcapXc2H3cDrXd3NVd8Kndjevd/92Fk98F3uEl3g2Z3WkV3uIFkORV3ua1XebtNOh13v/D3em13uv92uPtU+nFXtmt3u4F3/B1ve+NXe4VX7Ij3/NV3/A13y9r3/XlUPiV3/V93y2r3/k13vTF3/0F3vsdMf/dXwDm3wHWMgH2MAOWXwQm4AVGLwVuYO1lYA1x4Aim4L+aYNu6YPHN4Arm4JHa4Nj64O4N4Q4mYXkaYQuG4BKuxhRW4Rb+uhP2KxieXhl24RoOLBbGUBpuXh224R6+GR7mOBz2Ye8Z4iLePyD2YCE2YpFA4iV2YiZp4pCK4t2d4ie2YnFR4tas4tzd4iv2YrHoYhPO4i/+QjI2Yy4L4/94SmPHXeMzduOJaGNiimM9fQMwsGM7Jos7tmM2eOM+BuEx1sk5zlND6ItC7os68ONEjmFApkZB3tB76AFDLuQdaAdFtuSncmSpYmQnJmRJJgtEvuRQluJNhsZMxlBI9uQaoGRRZmV7MmVJeuUL7WRJBuVWtmUuJGWfzGUjRmVDXuVbBmZgiuUM1d9WnuVDDuZk1uRi9tphds1eJotfVuZpvmFm7lpnds1jroFapuZuZhpsJqxdXmJolmZvNueaAefJSeednGVuPud3bi9rBtl11klULmd4xudOoWeg2WdqJGR3zueADl5x9r9+jsZ7EIJKFuiFHmh5jlyCduIZYej/iaYniL5Wi6bojO5mg0ZnjNbojw5mjq5WjwbpkmZlkQ5ZkhYL13Vd9mLpl4bpmJbpmabpmrbpm8ZpxjXpIkbpPXVoPBtc1MUdnY4ttP0R00XqpFbqpWZqpj5bmJ2tmd7psFNpsHvfwU3Zw0WHXAhEdvBqt9XaofYrh8UHx/zUXkDrtFbrtWbrtnbrt4bruJbruabruk7rYZAHcsXRwC1qyhVqop7qRf5p5K3qs0DMX4CCFuCABmBC2IhDDFCBJdAEjoWH1RTrp0KLUsgBBHDIzvbszwbt0P5sBYCBRxBXHPXYmJ3aw80cavDq1wZRrd3awIaqno7nJULMVTCCk0MA/xCggSVIA0SYBERIgyX4xQw0AB7IhEid1EodqX5IBxoAAAhgAjdQBE3E7uzW7u3m7kxUBDdggggAgBIYhjqlVIZtWLRAhz3ggRKYgAQQANuYgBKoQY8qV5d9Xdr+5sL2OOi9ky/g7ARAglM4i1x4ggxEgCewyeCw7PyWH0o4gALwg8OoPgrvhurD8AvX8Azn8A338A4H8Q8X8RAn8RE38RJH8RPX8BVXBBZbA2YMjui0J22tKBKAjQcAgRuAgjaghEloAyi4ARBwAACgxTZImuaebf12Zf72XSYvCMT8gwUQACIgcK/IBSQgAAQ4A2YMxF2Vp36gBABwgZ+DwQN7Bv8b+JyaFB4Zl85+0AYaYEIJ2AJocCpoCAMMIHIV6AVoPW+oVnI5dnJuE160OIUKAAAVUDaw8IYb+MRDMMGF9XNUTIcDcIEy7zMgKABUgAabtCYHD8NP2QICOAAxGJWu8IYzWAACIAJE0VUF8vQ/J7FAz7bexUYkAIALOK296IUhhAFnwEfnQ++b6gcaMAAyt3QEswYF8ABe8HVLez5gQgtEkPInWL+w0AcoEPUygHFKfXZYh2VZxzZahwcbj4MA6QMB0ABeSM3g0NFg6gdSAIAJP/YfU4TM2CWPQsF9zAd2GIHxjru9yAYUeL9cMEF2D3Zv3+/B3t7CPpBp0K9PKJD/WIjDUgiw5zz4UuqHHMC1ee+zCeCAsPKhRUnBdLiAAUAEAIkEAngAWJjQGL94hO9ohddTyc0H+lqAYWCSbHiAAmiEe7T4V4e9fVAAPuP4H9MCAhivVnl5sVyGnW+4AOkFBUAATfB5QQR6mP8P2wYXsG14A5AAdIgTc1hATfD1NV96e9sZHqvwoj8wPwAAQPiv4OklVLT5RF+2CCgARoAGbTgoNsf6hFderoeHC1gARpMTc3CABriFZbQ0v++ffLAlSGB7H8OMNJipitERycuHaTgACTB8DRH7AviEZTT7q/976g18kkYLHhCA3pOTYCiAZS97DjN90UCLXDiryUcr/8wQg1VhBo+ySGHXgMKXE3Z4AAegM5s879MPZ5nPU5E9kDQAgEIAl7jigV5YhvurfX3qh1PS/QPjfd8ohkpzJWFHggF4ejlhhgJAAWqqtB/afuYPMXCPXo/Oh18QACTAlysAADgAiFzUyLGD1y/fv4QKFzJs6PAhxIgK8/X7BaBVt4waN3Ls6PEjyJAiR5IsafLkx1YAvEgqNWzaOn39JNKsaTNivnyNAMy56VMiIwBVekEbhw7ePoQ/lzJt6vQp1KhSp1KtarVmjaxXt3LtejVrDa8MKZJwIJZmBQmxik1Lh3TmWaf59uG6iPIu3rx69/LdqDLMo1K5sq0zGBdqvv9lBXIcHrtEgKBc2MjJw3ewMebMmjdz7rwUrOfQom+CjpuTFYA9oTOtvMVMmzmkSkc3nMvLbt/cunfzJqnSSyNSvwjLpA2RYg4H+jjrk8Ah1rG2so1Tr279eujS2Ldn1i6WogcIovNdeFDq10B5MmdXn1sXY+/48ufrVfmFkfBsbuFiz7lMwB+esWaHa9ocdRl3CSq4IIMRedcghFI92FU/nAAQyWixCAUdN7El1d8+veBGH4klmujXSoyI8gs2+3GHnFmhVcABKugRVFyEOeq4I2cT8vijRD5eNVcFExjnwQKk4LIMZThaN9ctI544JZW72aciiy5u189/Aa4GQBz/sQTjjYfsGRfPOWmquSabbbr5Zpr/oAknnXW6mc+cdupJZzz57PknnPHsAyihbLKDT6GJnoOPT0IC+ShDjlaVTzYA3GGcJGCeUkyH0z0ZopRVijoqSr9h2aJhINIQo2gVaEBKLwOxo4+ZtFWzC6656rorr736ius+t/46LLG9/tNMsckWK8w/yjr7azP4PDvtrtXEQy22u3zTqFaQevuQpFNRlAYA5hinzwA0iMILk7PWOpp7oZI6L70eXbkiqvw9ac4AbdAWFCPQeXPgu6EJGwuuCO+iMMMJO7zwww1DvEs+yE4sMcYRazyxLLj+I8zGGV8c8sMdN6NPriKrTDLH/7tUw07KLK88csvVnBMzzTPP3PE53Ib1LdALhSsVRSNoUB0KEHAipoGWFeyZbfLWO7UFB2SkCABkTGkqvlo+2U9Q5NDGzgBIlBJrOux8WJ2w2TobSz5tu61sxXM7y+zEdhMbbd56/1qNOX373Ws1Pgd9+D9DR9UPPAScUd0ckJ2nn0FPdxYvfCX6AQDnnTOxkTWcf74RGbitAIDVHAEwukZKdM555iFVkPrmWp94b5apPplPDkYeqQEnsryGjpO0xb3LKbgmj7zyzTP//PLRO788xRZLD/302WP/vMIfb389+NqHvwvf4pv/vfYIW5vr+O2fv7z6N+vqPvr1L98zaf/dIv6t4lDtkyk0qmMOACxBE7eABmXWRp25iCh29MFaF6whwc1NYCOdi13pWmGNbpwOAEpQHRA0ohIASFCCp6ugSKqWkc11YWsp6pruqtOPfSQACtQRAwEkgYrBFEaBthrcsJK3D4sB8Vd1K2KvYtGMZiHRV+VrIq/W9zwoLqxw+fvZ/rzVP7nsYwmsog4GOJAJMQ2seF7BAjJsAiWpxad2GwECABSRkdDBEYUZ6YLpCkCCEYVudKErwAZBZ4GRqLAbbrwdAO4DQ31xJRGGuMdP+iGiW9ykH5yTQFeOsRJNsOtGltPM8ZzHClyNchelPCUpU2lKVZbSY9Z7Hyy3173/+bGylqu8JSpvSb3yXS+XvrRlLpfXjGtt75e4BKYql2czhT3PmM60JfXwZ5MtZlFB1GRKPvSBghJcBwYS0OFLCsPIrmQFjTRhIBt7w8KNQFAjAABC6VqYkQxucAVWA4AELBjCbjABAH4QST8vqJHZXQ0A8jQR13I3zqvUoQY9eKQa97GFAnySIf0gAia7sgASBO818oBHTqhzK2Y2cXnBoiKv6kZSJC6PiSjN1RNfGgspvhRXVpym/qoJpGv+JCf60MANrrOEBqgIbZ4SC1hqYM7j0CWdvDnkCrM2x9V1owAA0Age4WPPbsDRdn3MiAEMkMICdGODcPxnNwoJ1RLh/y5fZ2loVh4KSYlkkwYeWIoRMsoVFVxAEqwYBjcIZpxQsg+ZxzxsLnN1xOU9E7GG7R7IaOnYyRoTV09krGEbm0v1XQuzlM2sLV0mv2KC9rMQkyZWcqpTHvHUJzmBxwKesBQUcI4ACTFC5xbKFDEU4BCfWBJBfEjOpCo1jQ6JmgPn006NnC6Q3XhnN7D2wW7Qk4OpO4BYM+JB7a4gJP3kyAEqkBG1GtSFXjiV17oCV7DI9Tj5wAcIVIBXvW6FBw5oxNkIUzmRCg6I1MMHEWu6WCguD28rhWJMX7o+6qH0pqnF4mpZq1qrvLYAa2BKGRYwjYTkowoLwAZV9gAAQXR0HP/qqaiEiFtO4y4EcyeCaj9tV1aqdmOPGMlqRrZqSKp+NXTdBUkBfszcq3aDoDuWMVsTid4YcmW9SW1vbbIpgSXM9w4L4BwKNkyVKxwAEZpYUtqECzW5GdOzZg4txI4VS/qNb5aSDWYy43xYmErrzaK8czPxLExi5lmXci7lmf1ss12V+c94BjSuUEuT1kaYOoxWYz/QAQBENOUMDdgwCrJclU8A4AyRYNpHURwVFSd1qRwGVXLls7nXScC52t3nc/NZXR1z0C7Qfa6QPfK6XW+wkMtF6AsV+lZSxxWiLc4HPAzgBbwS4NL5wAYKLk2VNAygEJ2ABQLlIWbPCIvBg2P/sD7k9lKVElhXTPR2E/l24CYOeopQnKnhGi1hCA+pH7fJhFPOIIFMX6UYAKDAB0RgAhbEQAbEPjjCE67wpa4x1W00qFkBkOuvZqSrOLauCAEwAYoXILse8XEJQz5e2knVRNZQCQU6EIITpKDgM1A4zGN+cCj/gyLwAAAe8GoALde8AZeaCiVwPsZgGMiMBlupZzWLZsW+0rRKvyVkeZX00iYWYgl2OtUdRtNDZ/2wyhytrp7+9F0oOkgTlneDHl0TigywEU/hAABI0ZAz5JYpnAa4wAkug5fLvO9+z0odao7qE/36dKx77nQzcoADzDp1ZXXd5vbZT7R6pAB27IiR/9eJyJSvvOV7/zvoYf6Da3C4H9S40HwZIgEjUCVKYaDEKYhOPN1ypm3onptn8SFulA64iAw2sCoRXOfbA3Gm11JYK9kdb7TnSO3n7Ic8BpCGpkyjAUYghQFKsZBHSKAf9jYAU/AAgA4EfOAuDz36iX0EU5z6PS8ueUYkUHKKR3UApnM8WK3qR9R5RLz9lONG/Bh5IRmJoJzKsdz5pZ8CZgUOsEE5TEQ/OAMA4NtP5JXqsV5C3AbnPAJTyAIAiMEkrEIxDIxlJAQSvI58meDrVIBC0F3nsGBCuCDnwKAaidvUYd0tpRSy3KDYQRPTkVQPTtauXB3X4SCikQ+f9VkQVv9Wu0kWD3YdwpSdg5wd81kTFYpLP7BDbDFF9T3OP5RCA3CgQ6DALyxFGBDAHTzCKuRCYDEZVyDc+rXYPtyGw6lTeW2EVaHVrQ3ZRdQT/u3YHo6Qc/UTCuWhO2WXr90hsGUBIoiCUdEeVTgZcemAA7IHRbADANhB6i3E6ikEAOzDPvRDAZThT7AGHIBThzjJDHkfe6wigiSEK7ZiKL6iTdwK8bmNZ8FNgFERwqiZ8/iNZ+3Cuf0iEqlbTbkMMd3i4DjYol1hFW6H89FVFmIAY/xEFy7ENTYE+C3FEizAHkjCKgDW7MWF+rHfWDRVHT4V/E3V6tAfO2rVH9YYjZUVV+3/WuzgUecIWeatI32cnJIt0rCpmA6gQTnUyiUagBhsokJ0Ys3Nxhl4oU+kgQDswSOgAmDFBiRmBmEpYdcl3674IkcaIZq51K48oWnxChF25GMhI68c4RLGmc0wmEk2VqBJIURE4zN2hzNGxSVu009YRG3dVucQAUMYACn+BAxAQB/41QgeCDkSVxwe1+DVi6t1RAnlhchZZVXSS0K5lVhI4kA+4ENcYgRQWQXS1z8wpOod5U1cgQF8o0WmYkZmRrf5V5z1w0gdY91cj93kYjPkw8RU3eDwUk3RlDLaDbxdUU5CCE4eRxYawQP01CpCYCiyhwGI4VJogAb8AewdQ9GJ/xpUJFVUjuU+REk6Tg1qUklbpVeTgUUDiqVjskN8+YQldU4ZBgXnbKNCoABE+gQRNMA3imCnzCVmVAPS6Zmh5WCvHFFhieRktVRk2ZmfTadg6kpKNqdLIud0RgsQGlagZefzNKF0gudM5opNgstOLqajpedT2JwgAIA3XIVFMEJTmIMA5IAgZILwaMOJPeVoMlUDpaaAcmWweaVXNBQlwiZOMA4M3BVtzqJSeB8togAGLoUKVEAfUAIrHEMZEWdj2B4wypnuESMU9Z7enBne9NlhUstloZTxbQ8UMaPZ0Zt6QiN7ygWykYMA9KZUBIVSkOFP/AEArEEhcMItOIMnxf/Ff+IEOg6ok4rKarohhfEBQYraJVaBblaFAVToUizACABCJMQefxrd5digSiqnsTQD9XyndpJnrpBkEY5dr1xnrrykoCUhdp5pYolnnJ5pFC5fjXJHY45lNqGDB4CAVdDW6/DCT6hAA9iBl+ECNYQZaB4Gcj0ppiLSeQFkeyDbKQAAo1YFANDnPzzkTywDARWCfjKDidEKf62osgTaLoxoTfUisqwbtshqsyDf0s0N3/AluyVjYQJqoGLHoI6lPrCDFwgAO0zKDIGihyqEPhRACeBBYAyGW+zDp7hfpnbrfERptDbGa6HDAVxBVYjBrvEoTZzBANBBIXwCtgVXpX7/h9yUpxAmUfXkqXNWljBGp9d1HbTUWbHYK5whodTpqQ8u03gi7POcp0Mca7FuBcTWhj7AQy6MmHFw2hX8wSSwwghi5KcEqLeOLG90JWsajz7IQwvQ4FQ8Kyv+xAhIwB2oCC9MqtrMq1jUZV/KGa6MKKzajYniIs+m6A3+bLEQpoLxmdFSS2LiFI1G7Ho+7aTsAzykQwSwbGiAwAHMQZHCAquqR7haamk6FcmWrUmA63VkEzuIn7mMBrrcgLXuEEzsl3EYZ0meKbEwZ586Z0v1CsEGH77SKaH5KUsubEjSpE2Bnb7a6w2SHbFCbdSeRT/oAzq8JyVkCADALX7UbDpo/xvOngU6nabZjm5ImKyUjgfVToMA9MRoBMUZAAIlCAzxhFTdNme2mCStLi22kBuaPousekxgGpavSguuFt+CkWgRyegUSi3kisbENsQMyQM5XO1oaG0ccOYpXCTdLlCTkq73ngTaXkc/4MM6lMAXeUYFQIC7XhuS9udgmSl1FmGxHMuaMmzB9quvFG2vzqnAxmpyBtowhV3XsWkO8unhJqcx/aliNq91PO9YMI457MTleoaGEIEdHEInHGmr0i730uH3frBvFOjJ0sbkygNqeImAAMAT7EFwoAelVgei6EmepMkM68l71fA51LAOs8kOr0k8yMme9HAQ/4OitAkOs/8JPvhJoLzJEftwm+BDDAOKEPOwmsQDoywwA0fudyCbPGiDBmCtZnDAAsDBH+iQZLzwtpItCH9w+H4NO6SD+YrGBDxAHIDpKXCoOZApvJzTWPQxQvxxzfFxi/XxIBfycQTycRHyIAMyB09EIDPyI9MVYoylJBONIivyvDpwFjuFJrdYxaZDppgrZ9AdElxwJ+znOKbtVK4xK3OE6YatuDIOOpACAKDwZrDGE9yBlx1Qk8DyJv9yNXUyMD8uV0wuOmgDFACAJGwGLY/AHABCCJ7xzYKIabayNWecIglbfyTrOIyAcnRGBdAxx4YjTLADLQ4zOlehMKdzMzIvhe0DO6z/QzaUAAEwQ2ZkQwFEQBvgASMY0PCsB4iI7DW38itvx1xU7SoQABJwxhUIQBXgASJ8gmuY2Pays0VH2DpfNHq6s7PCgzyMQzA4gAO0bVzoQwQgwBncwSFwwqboxzSDCLcONCtfSX6MsHGU8DiUAQAUgmawRgvUMSWsoUtvm0YXNdBktFELzY0SDdWugzeUQgGAAEl7hT6MAAFkAR0IwiSgQi8wCdi+yD4MQxzJNEGnSE2frvHAszzDwADYc2Pg8wXAAQuLAi5AA386TVLnddAgtV7z9T+UcDpgAyIUwANkg1hogwQQwBI88yPQ9WuUCVivAwC4AVmzshsAQBoEBw+h/zW8ZNNHM0MEMECzlrQEJEAaqPTScMo6vLRet/aj+HVS+7XNSe8yaMICGEAsdEUv3HYWzEEfNLYsBAM3rLarvgj0IcDhVbb3doEApKFgwEQJgjU8ODVUS/VZVPUAYLUgUEKNpAdAuzZ4z1t4ewVsH7Q5aAM0sMIEVNtWZEKzncEc/MEjaIIsFIN+gO3nYsYltgAEKDcIb4AEwOVF6jF1zNAbZ8NgR4Bhd4U5VEABGEF8S4KSOIOBHNV4XziDwLZRl/cMwcN5O8MtlAAAgMAwUMUyqIDGrYEdAMJ81/dkfNQ5p20WPsJY+zfpVgIA8AD2cmgqG7dHjwM1ZAICLEAvcP/FMixAAVTB9TaCJsCCcPdQfmO4lGuGhhe1hlNEsjq1M+CCGFwZD4jNU5ADEghAAfBAHOBBIUiCKMDCMLy4bER5LMMDOpSAAjyDjZutNThABLgrJ3htq/qyRpo3eouCAxQABVZFLBQAAniBbzN5fbv0d0+5pBvrUk96O28Glsczev9CLBhBARDAFSwDUyzDFXy6CqwBHfQBImRCKdxCMGQDZbz5gvgUOhRDAdjAnZctExCAGLAwKbBL5xK1dXS4OXhDelcAALSANkwFOeQAACzAGdABi2tCLLQ5OQiWpWe7Fmv7U1R5zU2uplNDLsgCJ7QAAeDTFog6TSzDFkQAABD/AAikAR3sQSE8QiewAi4wwzTEelLAuUZWLDmswTttZa6npjX00w3YQX5uynD6eyxXrJbzwhQYAAF4wXI8xRkUQAHAABzcgSCouYvzu8NzO8mPWqVvhROwwTB7+7dXrDmQQzYwAy+cgiZsAQhYVQSoABJ4AR58AjN8Ah6IwRKogPwRwAUQQRukuiA8AieUAizkwjJ4Q+fqQ79DyEE7dcYrAAAWvIBWggMQQA5E+K97Na2MvKWCu1NDwy+QggoIQAPEwVTbBDv8wQMAgAdE+x4gAiWQAiwUw2QcRdWXvOBvBssnhA+YQg8Qmw/UhCHUgCFIBBtwAeJThSk4/lkUPpbL/3k6eMMyDMMtrIImTEIWgIAENIBVvU4BNIBzLAEd4MEeCAIiMD0pnEIvMAM2jMNqV47ZY0b0kgM1oIIHaJwW+EErFL/xHz/yJ7/yLz/zN7/zPz/0R7/0L78fdMEGAEAEhIEdyDe8PrmFz/rkTrc2iDssAALcCQAItMGyS4Q5tAEI2J8EXMEcvL69rwIvvLrI7/7g77/TTgVAsKkxsAabfwf/OSFI0Ni/fKZq5OthCiFCQz4qZkRorAbFioZqVPQB0lgTjxpRohRIkI2hlC9hviQYk2bNmPn67dPHzhy5ac6G4TpFqhOlR4gKpflyZk/TPoAEHWIkKZMmVLJ6BaPmLf8dOnj6+uXLZ5NsWbMZccJDpw0ary8cCACQO5duXbt38ebVu5dvX79/90rgQWePIEmaZA3Llk4e2LOPIcPEudPcOGzBcLGSRCSCAAARVCARUyjWLUZnlqioAEAABBpp7OwpxCgTKVm5nHGVB2+f2Mi/gQcXPpx4cePHkSOfKTzkQY4GDzrhkpLLdB+mxnKBfpEmFydjP2JE6MSQdkNOzCpc2BF88ozL3dcU208fPHnptGWDVowXLFalNOEkE0omeeQRSSaJhJNOREHllFty0cobctBhB599wopPQ7F2WscbZ3hhpRNAzhDjCy9QTFHFFVls0cUXYVQxCwpojNHGG3H/tDENPPb4Y7baEqOGQngy1DC5ydRKhxtohoFllU8K4UEDBxLwbC4CDmjgAhrWuGMPQBB5JBNRTuElGGy0WWe33toz0s034YxTzjnnhK84NsRLaDqUOvrnB0/WGylPmU5CCM+KyHupuo/QS4mjQo20k06EcNoHniTH4YYaZ47JhZdbZDnlFFZWYeWUWGTBpZdhglkmmwnN2Q0s3yYdbjJ2PFymyVU0yWQSSRpphJFhiS3W2GORTVbZZYftwFmpmI1W2mmXbeRASjohpcxgshmSzVqDq7TDcbJhJhcnA5SEkUP2MHEOp/4QpJAwsS0lFlyOWYarCmdtE9x/AQ5Y4IGD/5N0OJDG2zMjkJr457qDtDuIO5gM6QEl7yqKODzn2DuIDYU14siTOA0GV1x25DEnnXG8yWYZaJg5pphhaD4mGGagoWYabchRk52vwvKXYLOQXMeyYHK5JZZVSimFFFGgjlrqqamu2uqrsRZFkxC4ztrrr8HOmhRSSnEQFl6KgYYbxnjrZ+jHxNIpyfyA4kWW/wIc8FcEFfykwQd/0Yobcsz5GUNa305c8cUZf7Pk4LjIU72BoHPYB/Qmgni7QS8GOeGK2GhUJJf+WTQ60lF6lOSBhp5PbnbQUTkdcrTxxhtucPdGm3HISWcddHb76nChG7+JPtjTaRnmmXP5xfnnof+PXvrpqa/e+udPyL6X67nv3vvrc8llmGOYWYabcdRsm/jiUaoUH0ynoSaYYXrBRZZYSEVllVVOPTuXY5yBDVjJKmjsM+ABEZhAPrHOOBxBXUUgMp2LhO4fE1nJQAwxsZc4oXIVqcEDTWGxjBzqHxBBSMcgsh4VYjA+jwOY6/RRH3agTB7osCHwgPcz4Q1PgTaJ207ksQ7aeWMa08hGNrCRRCUukYlNdOIToRhFaqSAilG04hWxmMUjZmMa3PDGONIRK6Ctr4cHmU8MUSZEbXADG8twRsxmVoxi3AwarppQV2R1uDLukY99BJcLI3O5lOQDYSah4J/YAB0uZJBzGuH/IFog0hBK9ek9FJGISypGqZBR0nEMTJxYcJITndSnPl/5ij72gaF+FNCPkkGSfWJnjnWsIx21tOUtcZlLXe6Sl72sZQxYEANfDpOYxfTlLNdhDuDlkZWtREtOZJiy2Q3xdrb7Yu98Bo8LNdOZ3fTmNyMDyMc4oZEQrIEkKXidREKMkTF5ZEYwlhEO+ks6bXpnSiBCjNU1h32gDKU/EQdOV4oyhqa81EERmlCFLpShDXXoQWUQ0YdOlKIVfSgp8RFDHgq0IjAsJQ1jqcxl6hCVqwwoR1GaUo6K0yw+KGdFAIVOzJlinaVrJ0xMtxFOWuSlH+Fn+wQiJ5aqtJXzWeVR/1OZVKUulalNdepToZrUGUw1qlW16lWjetSjgpKoaAllKmNY0LCmMmgn7epZ0drDodpEkDFRQ54oaMGF3PQlGoTYd1AyEpg8ioz/qIHnIuXJtA52aGsl7OL8qdWt+vOwjXXs4gwbkxqIjlKmEB1ITnJIT/jLrinhJElSgrDQ7pRPPXVPZB+b2uKgVrWtde1rYYsQHFBOFe34TQrXs6f1GKM96VxhDUwLsYaV8IMwIadGuMA6MiaXsnBibWyhS5PnRpe61bVuKyc3EB38IApg8G4dwBteyUAmrpD6R2dT16cePNCzJ2GuZCAS3BYK9rr1tcl07Ztf/e4XYNIQwm9/u/84kLB3vAjEL39fe2AEL5jBDR6ONLILYAU7eMIOPmyFLZxhDW8YIVJQYQ+SgAXvjiG84OXwWTB8YpWmWMUtdnF1Z1sDMGxCGvx4ccHoe+ME51jHPfaxfgnSV8Vp52NdZfGP/XhkJC+Zyd5ksXQ0UhCy+ACwm/Srw34KTiU3WYFb5vKXwWzAJwNWyjVRiKEkTJ6IxVOgXg5z8dz8ZjnPGWBjjnIHFUValDihuX41rzPjTOe3BVrQhTb0fLMMHCi/B88X6xhMIIIdeA5Xyzw+9DcJfWlNbzqclm6phOeaEh+cU8j/aAJeO2rCNnua033MdKthHWvPsvosi/Zgoy0yEEn/xgS0fNq1k2kt6wS+WtjFhrWdGa2Rh1DunDUpM5/+nORgG5t9xKb2tQ2NbA+yN7nFjSRN2urZkVU60dg28LTNnW51H0TbHDvJqAcVU3cOpM8nRMaqy73uxllb3/3+caBB0tdvb1A8wEWJqsnt7wPyW+ENb3Gg/wrfZouasgbvaE4xjW6H/1HjG/e4oONscZjIWyMQafSoK8JXfH8csh1n+cu/rORlR5wmA0fUxDWCcohxodRlZDjMpetyoA/dx08miKRrYvN/ODAmVMZySn9O9FnnW+pVX7KXe27G60bd6h4UetfBbmGuA/nrYR/O2M2ediOXnclo77rb1R73lR+b/+1yr8kbvJt3guTdu7i2+9/rC/et1x3wdQX1QOpQeMXbV/DWbfzH79EDUO/Atou3PHUfj3nCX96nEk4850G/Y6oXOvMejzyAKR961au29NBt/cZB8tvPr572F9580W8f+tOrMPW1931aXw/b4Ds89uuZ/e+Rv+Lc63j4Dd89QXqffOmvdPk3bn7Di4/46W9/7q2+vsKfH33uj1/aowd59UNf/OOTn/0+R7+Lvw9+yYu//fU/t/npHH+Fg2T99vc/nN/v4QKQ8+5BCCrv/xBw3wbwxPRP4cohASGQcRqwsSYwAi3w/yqQsDLwAjmQ/DYQ+BawA0VwBO8rBDfsA0kwBf9XDwXPigVV8AUtzwWJSgZhsAbtjgahzgRtcAcjEAdRygdjzRhMwRPujQeN8DeAsPsscCX87gidULJ0MMOSsNWY8AmtkCymMOPw7wq5kASzENi2sAvF8AK/sJvKcAzRUNbOsJXWMA3dUNPa0NWi8A3p8AbnkMLuUO5oig2Qrg6tMA75CBDnLB+q0A+vUBDdLwzJ7zwSxRD/MA8ZDBEdcRJxTxHDTBIpMRPhDxIXDBM18RNPkBMRzBNBsRQbjBQXThRNcRWvDRXFTBXDjhEJjBU70BWrDRbBrhBp0QtxMb9skcmEkAh3MQV/UQEtcRiREeaKUQJ7MRmdcc6WseWO8Rn/qdHfolFxrrEatTEHp5HLsnEb/w8ZPMEUfs36mjHwzhEckVEXmS8dHc8d1ZEW2dEcu7HJvjEe8TEQ4VHz6lH6xCsf6+8eCUYgX4wgAbIT9zG6DFIA+/EgF28h6ywhlVEiHdLcIPJfLpLDMtIQHyKRok3FNnJSQlIKKbIihYMJsw4PGxLJRlLsStIkgUMW/+0lXaslVRImuc8m90kEdRIna5ImW6snEXIlfVLthNJNjpK/krIoKRAoWc8pG24pmVIDofKxpNIXq3IqeY3PZpEhY+0qGS8rtfIl5rEgxdL2iNL3wNIKxZEcZzIte2wtBw8ux1Lq5NI47rK68rIulXDT//ZSIc+SLy8xMAfrL12PMAXTGxETrQwzthozMcvvKxcT2x4TMvWRLumRJyfTMitRMjFT9SqTM9VqM2eQNI0tNEVz2EyTGzXzM1NT4VDzMWIztWbzNQHQNb2yFlfTNjVyN6kPNzmvNnlTGj2zNYcT8IQTC32zOI/TDoGTAZeT7p6zOaktOUtwOh8yOqlzFLUTDCHwGsAzPAkiPMNzO9+uO80QPekMCw6vBqLAPK3OOp1NPecMGdrTFuCz6uQz6LBT7thTwt4zP+2SPiMTAu1TwvBTQIluP6GwP/0TwAJUQYeOQWGCQlPqQFcoQSUU6Cx06i7wP9cjQjd0Ih3UJUs07v8wdCE0dERfrkMX6ETjDkQHQkRZlOVcNMoIVNBStAZWtEY/7kbfI0cFDURp1Ec9Dki9DkZRlCB61Eg3DklPSEiH1D2dlESZkwPts0mrNCqlNBFHsCu31Bq7dDSVNEzNNLDKlDvT9EzZ9DiglN3GtE238039qioB6k5TUqDwdE/5tE/99E8BNVAFdVAJlbHk1DHjVDXXlGhASbG0ylDRKrFWCasotVIt9VIxFVMVi6sO9ScXlew+1ZXERR/eBx1yoXBmSIe0qaS4SU8nFR+Qxnl6YVZptVZt9VZxNVd1dVd5tVd99VeBtVaHQR5S9ZQ2KlL91EzptPVc5xegoAU4oAH/BmAuCqABMEAFlkATckibVMmsnAknSiEHEAAwyLVczfVc0fVcFQAGHgF4LqVfzqpRHdWkvJVFlxUeXWcVjIABAKAAKiA0xEAQJkEQwiA1MMAAAOAAeCATwqhChKdIuqkf0oEGAAACmMANFKEVNHZjObZjPfZjQTZkRXZkSbZkTfZkP1YR3IAJIgAARmAYeoaA8hSBjEon3gce4idVZ+igUOlYR/ReQ7Wj8gEevmBcEYAHOoEm8kEUkOAAAAABnsAbfodbIdaP8oESDqAA/KAbusEauNZrwbZrxTZsyXZszbZs0fZs1TZt2XZt3bZt4fZt1VZsu0ERFMAA1mBCvGJW/76pUdEBD3iABCYgAejCACagBHJgDrSBWLlVj+w1Ue8vYOKmERoAAIjgFBzCLHgBCQgAAfKWcAynasuoHygBAFzgGbg2dVV3dVm3dV33dWE3dmV3dmm3dm2Xa5/BBgDgDLZiHX5GdPcolMxhD0pgWkGDCLYgDiiBEuJgC4hABVpWAEagDabhd36mpOq1OYH2hfrhFzgAAFBgGYAjG2AAACYgErSBbeC1jPIhHQ7ABW43fuV3fum3fu23G4CgAFABGtKEHfi2j3BiGmjAMzDgDLSBJrThDDCANVCgF7rCQtY3P7e3VuYjCz5DFGb2JWJhNXiAGtJkTYC3n/qBBgwAdf/v94RROIVVGHatQQE8gBdyYx2+InuLJy2ggAAUQAy84Sy84QwWQAB4ABpidowymC8neFKGNgcAYAuQIw0AoASCQTfUR4H6gRQAYGtXOIu1eIvnVxEA4At6ARrGYTdCWIQBIQEIAArY4Tf0wQsIwAC+QG/9tzckGHJTcU3FIh1AYAD+wD0yQQAkABewYUj+14BwIgcggIsVeZEZuXUngANOIRewIR3YAUMUSCzYoQQAoAWyYTjI4QYAAAN+YV/GyDyPWE7ygRokoABIQUNuoQAUQBSoYRwqxHH7aR8UgAkaeZd5WYu1gAA+ARaYwRvQAR/KGLG4YZUz4ThioVpRoVv/+OWYRfOU30Qs0OEBFqAX3CQbFgABYmEZtMEcSrmG80EfAMANvLaX1Xmd59cPAEAQUCEXFoM3ihiJ8+EXFmABhiE5soEBDOARtqJwLqSei5Ka3QQnVIAAmAFOsqEARBmcveJbGkcshgEAIIGdMTqjZ7cVACANPgEXhNh/CXpOlrYAJoAc4sMcNEAA4CA3KLmQedOgN6QfygAAJEFOrDgHfmEZaJmea7gfcgEAWkGjibqoVZejxSATYiEYtAEd9GGk4UQsioEARkAfjEQfBhgQmGFtyBiqK1Km3UMsSkEAroBOzgAAwiAXhKSYpVly+wEXhNqo5VqjkVoSWKEYuMEr/9ymhtEBAiTAqt1EHzQAAVAhGNbGf9vaiO34FWE0H8bBAFCgVlqgACRhGCa5MRLbZLo3rue6s9WZo73gEVBhGKZBnPeacfJhH1SgADoZTsjhADAAF4bZd2F6mhf7Fk8UJ5AgAcyhVvShAUYAFgzbd+kYsfYBrofas5W7kTk6DBqhFOTZtCeapgHgE+YkFgbgBmA4nH3aNsH6OMRiGQggDf7lDwTgDkC6qWubYFKbFzh7ueF7i0GbEUrhF7LBd09bcfoBFgDACybFidOgF5aBHLrau2/7Nqu5H3IgAQAbXBhAA1ZBkl/aq8P6uN87vjE8hTn6C+jbvmU4v98mtT2gAv/ABQQe4BQUY8INPGjRsUT7YRkEgLwB5g8AYA6Em5iJhMKRI7V74cIz/Mfrd75JoRewAb8RKx9YAQAiAVxiob+Fm7uL+232AR+ovMqt/MqxPMu1nMr/Ycq3/MvBPMv/gVTDvMzB3KrNPM23vDfUvM2vnM3dPM5BvEGvVENGmMEFxgE0oBR6QUgqWcfBex9uwceBvNBvd8MZYciLnEgQqx844AIAZgQeoBR4YcAxW3GqYRc0fdM5vdM9/dNBXdP/oRlCvdRNHdTzgdRPfdVNvRn6gdVhPdSrgR1ivdY7vRrOwdZ1fRfOoSy+uzjywRwGQAwGpg0AoBGWuqlz/JP2ocf/k9vQod12hZzIjVy/JwEAMPdfKvoJYuEYuEGGo5xgMl0WNJ3cd8Hc0b3c1f3c1z3d2V3T92Hc233e393d7X3dd2HU653e733f/d3cheEf+H3g/53gmwEfCL7fFZ7eqyEeEv7hC/7dv8HXD9wYjUQsEAEAxFdgzAEAkKC+qSEdurt1LPzZo12LOVqXu0EJCF2+vzjRqZ3Rmf0CPEBgVGABRIEXhBizAd1WMn3XYT0WdiHVgb7W/0EYih7WmyEfhD7pV/3gm97pTb3ho17qQ73XlZPF5/LiFfwBej44MAADOEGY1TuzUXkf3NvkFXkF7MLkyUAu1N4CKiB15UIJVvft/+OeLgpgowEACLiWCYQ6nRd52oucHeZcYPIhGwDgEQRmFQAADk4Br03764Uj05v+FDQd83dB8zk/8z1/8z+/8zVdHyw/9E0f9FFf9FV/04k+9U9/9V0/9jE/4Dcd9m3/9T9f6A++9nFf9nu/8xte0y//94k/9quB4rX+HftzlRJgCYZmCyg7wqt32UkeuXeZ7a0h+62BBACADFK3C+RiAla3Aizga+fC5MH/2d9e/LO/GwoAAFTeda0h5bkWCFoe5V9e0T/8k/ohDQBCgL5/BAsaPIgwocKFCAnQEIWLGjl5+vIxvIgxY8J81XZ5/AgypMiRJD3ma1YypUqSJ2OtfP+pslm/Xadg2hxZLR7Nmzw/VjvXM+iucxoJ1jhaNKnSpUybOn2q8GgNqBn7/QKAiqpWg8MAbIEokd0+i1vL5tvXC0Crbmzbun0LN65ctisAWHNbwEBbMgCAACDj1oKFtn0BSHDLt9VdPwBWwPXDZC7bVn3ZMlF7V7LmzW0pe2FEqhe2dez6lT2dr9+IEaeptojA6VQwbejgmW5NtaPLnbxr9vboOzjw4bxjnSQu/Lfy5MxNokQOfXn05B7/gWQ1Pbt03rua4buuvfl237t+hj8/3mO1pFJxu38PH3f7+Ge3FIjfNJ8CEplkMdNG0W34KXXWLWpxhqBmKADwVl1tdaH/1gQMtmVBBWxZAwATEALGFoRrdSPhZgUAQOJg3VhDWWTd+PVhgi6+RdkXoIm2jm34JWLIPUr1Aw8BaQyYFCAACIJKLtikA89YQBbFkVA9/fOckzZZx52UJLnkHXFWklRTTlpuKZJL5oG5ElFFzbdkmmoCieZ7+ehDgwdraqTCBZOsUgw35tgIJBbIaHRWWi2+SGhdmdFlF1uJMeYYWxWY2E1lByTaTWIoNnYoXJQpYc1dBhwwWWXdXKYYoaZ6NuNopeFXRw095FjUPpIAQM2cDJkjwBKf4AINOexUZCtDunmE3S7FHktsssYqWyx1+Ay7bLTISststdxBCR612k7L/21IwlD5UbfbWjvtR1lmK2661vqkk2/qjgtvsbGsdyZSwd6Lb1Nt4pbPmyCokK9CPDDQCCm/HJkkWfgd5SdGZ+FyoKmFTnhhYw8eSELEE5iIYWSMqehhN4xxKFcBjbI18qUqsigxoTGmWqOA77V61Ks6XnTWEg8EjBAGHEQSSzDeyGObwgE3SWZJLh2XdEr/CPNl0r6dW6XUHjWjU9Rk+jZm0ySZqdG+PI9N9j9io5YPPBIsUXZBUBiAiCa8LENOwmxK1fBCZ/ESccsJGtrWpIdaGulh3QhGGBCIrmWpIgB0MZfjfrxlMWWKj4qZ3wmiGpqqMrtHs1Q2M/QmCiUkZf8AAIzgp4IEkqySyzR79mN0wNCKh3t0xYL07C675Z7edrswHS65xmtLXnW+o3v8u8lnuVvz0kdL3rxZuzv9u82qx569bX+f79lmpX2AF0oRQeIZ/xBAIm5pDFAIJ7A44yuwA0qF958b7QPxoJprljESkYhkHYrYhkDEsQxVbALdCNnI5gIhAUpwBSpjC8v+x5mXdS5mrMKf6GCFkH7pQwM3SEo+SPAI/CyhAaDhBcJoRzakeQ0kviHeDEMCrqo1jWo6BJOYsqa1pP0kejf8CNgyIj7wKfFuU4FPauABgDkspQwEIMgZCgDD02QCAHfoz38oUrv3eDB/IURL3zAoGUP/dSp1k9tL5roxqcMxkC0AUEJbLtMFS1HmZHDhix86BcjMWM4yb0TjXDhHo1XFJ3RjHJ1B+gWPBjxBKShIYXzEUIBDfOIWdBNLGPEFLe1lT0u9w168Rsmd4xBRlPASTk2+NRJWiit5V/uOSGRpLep4CZWsFA69wua9JQpzSUnUSmqWAYBMMIURADCCBN4jCwCUgRKxKAZt8PFJ+YyRjAUp0BkNGRcHVaxvIUNZhhB3IgVe6AAHKKcEKPaYv8Slgiv6JjjdcikKdCAEJ0hBDGQwg20KdKAELWjNQPgPSBbgR0lBATNJZAT34AEA8ZOFM8YhDyWNTYZF/IgNO7qLp9Gw/4jn2l7TppY1kzZNTEABqRG718RhynRhweRXP5gBAE40BX2fK0taKPABEZiABf80qFGPWtC8Bcqe92wL4EJFKcIhigCQEhVbHDeiUjEKLoqITF5gFJlBYq5UTdUUAPTJT3/GIKBIbatbf3ANgjwRAIigJF370Y8CWPI0nwDAGoA2mwCVLZToAV5yjPMcU+Kylc6JJS/X9ZEcMu+U8DKXLW/5WG35BCi7WazzfALTmYoWPsWkSmrQwUWmoIAEfPtFQdAHANf+IwIQXcqsMhDUExAVoG7tbVvrkFD+MbWsC8InY0DVwDNiCAAJVFFbAtgiCFmoLRLyGACQW6kM0fOCZf+F0Vn32c9/stW35B0jDthQjm72g2+fUAoJGlEQI6ivNcWQJiVYITR06OM2SJAgwAjSXwFWoCBnkOCArWhgE3bEpdWJkkvBpVIyYSkfnQ2ilLqEjwr30ElcaylIXXJEjJR2tCReyoifkhp2GCAMS0FBRBOqun/8AgV4RQFBJIDXbDIkDQDIQAdEoFvxlnfIYzyCKeS6D775r7vdeOrF1CLVAs4xUpdzC4kq8RYJCbAAJ2pLBSTYRrGSKlNMpkwWECEKFyKpp61hpAd1gF6jpcYcAIBvQ/cqX9yQAgBneF2eZleQfuwjxwYRNKEDPegsEsTQitbI7TI7y4/0TsOezaX/Rx08WVNqGrIhLcm0Nk3ZWnpaWaA26e4+Yj3imFrVrOZNhMsT2hLLmiondkqKIcC2pLCPz/8YQPoK8oj50raZS7lCAe7QCFQMgxv6ZbM2BWrkRwp3yUyWy12uLTEyt+Xa2r5Qp7b9lm6X9VIy2qAi4ePmo+gADeUIY2rkMQCGFqWS8Z1vGUhkyQDaWCkT3YMklK2n/cZwwR8eHqY7CiUN0/LCV5sJqMHEtXaRmky761oRfRPii9R61hxPyMaZkmIPtGApeA10Fs9ggEL3Y99JIUID/L2KZdfG2a2B9pEPslRqV3vnPC8zAD6zQT6h+83s1ls/2LGASd653jeuMUFQ/8CLRmvkDATYwyMADmiyETZ4hhXJpAsL9lQevHiU/fRIJBuSxZryI6fgIWbLzunycBbSxwPJL5FY047rXcR5Rw2PWiAnYxrmHxH9xTP/cfikqGACfZjEKY7hDf3q+DRFvnkZDaTznmt+85rTYCJpvpXQnTe9pDs6BnKg61/ruyC/ePHqlbKEBcD8zwLfKMEv3lgGd9rVFr6JvLpjy4czXD3Xm7iVfOnhGf4+4wz5+N477nwCHb0KKddKgUl0un9cvwxLaQAIAAFYAMFj8mXBX7T1ZsbMc3797M/gz2Em9JnVAM6kx9nRTbejLB76EQC4Tb/6YQSyVRQwEAGNhyeRF/9/trM8cMeA5FFKdMdYuUcSakcSsJQSlTYSbvd2vUQSu6RYmbVw3FMvMfV8JRgVfTc+8HAKAHALxmRoKrcUxwAAT1AImQALzIBR9kNT50c609Z+PwiE7ldun0cffMBu5Kde7GAEO6MVBlAA+fBi1Zd4RaEBGvAHkSAbtFF7PMNRIPVRCAc1vLdhMJEcVCN8QfF7WMN2xicUyTFEN5QczLcQ0WeCJEaHTJI26HAASkc2XjAAc3AInXALvfIrSKgVPIgzSTZcQciIP4hIo5GAR8MjggAA2kAV/EciEUAQmEgESsEOApADgpAJQaOFoDcnj8Z12mFSiNVqGGh2BqcSFHj/dgs4gZkVEtBzgagUgrvEgJ8VEvMSa3UojAVxh0yCD/IAA1PIMxggAXfACKLQC9SAJBoVQz7YiNfIiJ7nOW0DSekgAG1gWnglIKlhiglRCACQBoXQCbDQKxlliEvShQg3djeUQ2fIE76BJZclhiEIEybFi/s4fF2SfMr3UiM4jAdpNihoFvrADncAAN5ANrhCA/5WCsMwDRzEjemHjRvpiO8XdOW4JpAkDx7AcjxDAwxgB2gWEengSYO1gK5ofA64dTBJPZdGi45Vkzl5at6Cdji5amIYJhrok622diJhHh8IkDrJhqBlkAgpjMUIKPsAD9nAa2MzB3wGfrIReVtY/42Yx5FfyXnaSBogGZIM6QUEMBBjUwAkgAeNUAq/kA1j+Y5AEo8ztDTzOEMitYY52RMmVVKW1hNrt0uRhobEYXFeg49DURTtAJVO+T2NWRX6sA4kkABpGTAMAAF0oEnsOBFcuVEaCZahuXOPiJFl8ybwkAsAQAljEwsAkAWNxwrDsJVSly9b13XbsZO78HWpyJvkwTT8aIsgEQvNkA/9OD0jURNCOZShJpweCIGvxpQHwQ/XcA2+4Al8wAZNgAPq5ph1CJkY0Q/6gA6sgI488wcAMAV4cHUHw5LUWI39I5rx2V1ieW7VCA/pIAEgMDYqgABzUIOwEAw5OJdLEg/f8P8N1VANB5qgCKqgDcqgD7qgEaqgCJqg+VCgDiqhEIqhG6qhCXoOFmqgEUqhI8qhGSqiFHqg8fAPBzqhI0qiHWqiLsqg3xAP+8CiMuqiJVqiLnoO8YAPN2qiOgqjLYqi+GAQ6bZNb9CdJvid9scO6dACCmCZ98IAEzAHgoCFkNdsAwqPiqh+8gmmLuORNBKJPBOe6ECJpxAwXZEDeIBmc9OeXLqkTjSnB4mk+OMEllCnz9ekpQcP6HALAiBvwXKeV4AHjCA3hKiDpmmNYeqofkOfZLkmgiYP5BAB+pkv/AkHf3AnFlkj7rmnoSqqoCMVP/ADTcAFamAIqqAOo6p3fUr/Ogw5DlE6pWuiD1UaB4BACTF3kXbzPTn3qMEqMaRZppIID+awBwCgpvfCpnYQiP4BIJ7pqtNKrdVqrcSokKghlekACwUwcsHCAwOwBYeqCYM4Ds2mRN70pcLKrt41hNv4q2kjD9qgAZgaLCrQAHHQB+t5JC15rf8KsAHrmLDKEOFZqXZQlWvSBgCQA1caCbHZq6BajYLSrhW7GcQqqWV5n7MyqGoyUUTgrPIzG7MjpwJrsieLsgFDsOjHDuswDehDCmsSCwLgAXCwrxABDRhVNOnaqBbrs+4KM/XZNjyCDtrQX7EwJ70gACCwqZLwltJYiCkrtVNLtWSzsgohQuxA/w7UwAEFkA1p4g0HwABrcAeI0AlBww2fWrJd2hWK8LNv6xao8pZxWaxcuA9Pig0ecACWmCbmsAAOsAaH+gk3iIC0WbWHi7iJW3PZ2hpncazewAsLsABfOyDZIAEFIAZ2UAiRADsSIVhLdBbrAABuALel6wboyAhzW5q/yiPzGrkaUKvxMQIFUAZ2IIqnMAzZ0J4Zq7i967u/axBXuxCC9qTToAkLUAC9gB+9sAAGUAVX6rS8kLMzt7bw2A/ygADOVbo+2wUC0JalkAvZkHXpypDpwA2PIAA3ELvukQMC8AS5Gr10s6XAS7/1a7/By7iN2w/HuLWxEAEDoEzv8QkGsP8AXkAHgCAJonALQqO21UuXR9cCELC9b7sBEgBzMle3Y2OwW9sGNGsO8cEOJQCKc3CzAOoN5uCv96vCK4y4wot+4jkOy8ALHhBFEiUAEJAGc4DAmgALx8ANLLlfDvzA7MB/bjvBFVsJAMADnPp4WynEA/JE87oMiFAADEC5uGG5BbAEcLAHjPAJslAM0wDEvMvCZWzGe+rCLGsO2gANvdACAKAByrsVw8ABAMABcHAHgiAJPHwMuks0hsuNRFsCCvAMR8yu1sAAEUAHFfVFi0q+8LAO3sAMnNC8LdgazGsAWTAHXdwJuOu5QXzG8eEENcAF8cEFpVwQTmAIBOEEThD/yq+scfnLL6e5xtDwC23AAABwA+QAFeTAAwCQAEYAB3hQCJNACj2cDZ0JyNz4JuhQDAVgA4YsrExAAGHQlmkmEfDgyOCTGgwZycyAChLCA7ysFeaABAKwAGUwB3/ACGc7DJ7rq7DMFD4gFYZAz/hjCvlgDAZxyhnBBq5cEIZAggRhCj1AED6Qz6N8FPkszw19EGlcsAy5xsvwC7HwBAZAAFewDEyxDMbmrXBgB3+ACJlQCgvsx/EsU6dJDmvQF+ImzRtpDZdxA4ucCaeQJ2o7U938pNzADLiwBAWAueubFGlQAATQAmQrCI/wCbGQC8twrijt0EXRA0fmA8bABqWs/8pGsc8F0c8Y8c8GIdBmwwasPEb/kNUEwQWrHNUNDdFGpw+QPA7UUAyw8AkwMCKSJMcXMQxP8E5LuwZ2sAeFsMen0AvM8MNEI7HC5LiRfEUKYMQvDZaV4AAEcAPr/AilMDfkgK6ipdPp4A3O0AuioAIC0AB9wA5LwQ5/8AA0KwZ0sAeHMAmiAAvv/NRj8cShjNDE4AP/UND/cNW83QQH0dVmfRS7TRDGMBVfHdBNVANjjRBX7QTObdZqvdaw3NZu/afkkA3MwAunoAlbAALsowAjkANXMAefwAyfMAdXkAMjsAAAUAAXQARtcAd9UAiPkAmoIAvDsAzakA6IfduTuv8PlUoNqEDDE6AFftAKC87gDe7gDw7hES7hE07hFW7hF47hEu4HXbABABABrf0Hj6AJshAMaQvVw/RET8rGuRALf6ABAiAAKPAHp30RqY0CviYB5o0HgtAInIAKt3AM2KDZSbLM1a0QO2AKbODcNUAMpuDKaU0QbCAVpSzQzu0EqPwPU63cBBHWD42nvu1BRi7P143d6GC+y1AMuMAKohAJVwACE9AAqSNBBdAAEsABSzAHeLAHgsAIksAJpSALv8AMyYzC4xfgIUm03gANvPAFHLBrEgTpkS7pk07plW7pl47pma7pmz4BPODaejzixaC7v1Lk3Bye7GAOcX0MuLD/Co9ABO80ACNwA0+QBpJwC7cgCWnwBDcwAgMgAA9AA2lABzvOCJEgCrHwC87ADRNB5Id+xgjdBKt8zx6E5f9wylxAgr/Nyobwz6YwUPtcA1ttCAAt5mtN5npzFhJNDtPgDLlwC6dACpxACY+ACIKQBmFwBnq+B30ACIVwCIyA35qg370QDNTg37UByrMmQpD82bzACp0ACGcgBl/gBRVv8ReP8Rmv8RvP8R3v8R8P8iEv8hmfBnr+B4XQCJFwzMMg5LWR2Cl96uiw7u0OC6XQCYLAAxrwAAkgABJEAAjgABdAA2SLB/ad8qLACrhQDAa/DgDu7M/uCaZg3M9d7dhO/+5ojeWn/M8KI+Vbja1S4cpnzQVTX+5mfO7oHp7wIA/pMA7TAA3H0AuwcAqoIAqdkAmRMAmSoPeUkAmc8AmksAqxgAu5wAzU4A2a/SuD9vSI7s3esAzDAAuroAmZkPeN0AiMgPmZr/mbz/md7/mfD/qhL/qjT/qln/mN8AiSEAmcQAqCHwxCjtilDrqCpvbroA3YEAy5EPmTPwmNgAh7IAZhsMl90Ad/IAiFAPCU0AmlcAq8UAzLsOzokPj9UvZJgdD5MNVNsE3VXgNXj9bSHeVXj+3UrdVcHvb17PXVz8JnTzrpzg7ysA7k4A3U4AzF8Au8AAuxcAqsgAqoABCrWP+dknWL17Bgy7JpS4eOnT59/fL9o1jR4kWMGTVu5NgxY75++uCtG4ctWK5bsVaVKkVK1EuYMWXOpFnT5k2cOXXu5PmSFKlSqAjyKgaNW0N4+/JN9NjU6dOnS/eJRJdOGzZmw3CpJPUpU6RJkh5JkkQpUydNpVjB6nVs2TRy69gllQjV7l28efXu5dvD1D8ubDKy4VKRTY3CF50YsmiohhOLPpxAtljDsmXIiysaEszX82fQoUWPJl0a72XTeUHugwdPnrl047xlWwaNWbBjw4YVOxbM2TJq07yRazhX3766qZV/DMmu6mzbxYbl+lXd+nXs2bVv597d+3fw4cVjzzX/7BizZdzGrZN3PPly+KvhObc6bVnWX7hgxTrFSiCrWAriJZdjnKFmOPbgcY8p+Bp08MGLfPAEMDZ8uOzCxIx5LLHITGFKMjYo+8eUGv6pwZjKUPzHkMwYo4iNziCUcUYaa7QRI9RuZC4kfdiRB5110iFnHG28MdIbbbQZhzhz5DEOuaV0LE2qHuVZh5wip5kmm2yw8fJLMMMUc0wyyzTzTDTTVFNNLrmchhtvxkmnSQUlYlDKz1brEUgsucFmGWeYOUa63YIJBhqF4ixOQaXuxPNRSCP8yy/DYqzIB0O44LCiGv6i8J8QKcpHU8BENNEYDWsQ7LALPY30VVhj1THH/1eX6qefqfBhx0d0ejXn116dbI1ROx2VFS9bRXINnV/XCTIdaKOVdlpqq7X2Wmyz1XZbbruF1llz0BGWLmOPjQokXHv0EbYhi/SGGziTJG4dcVtbsFxz84XPh8OcmIjFU//BtFTANv1HQ2IuCnXEEw+uwUWMKsQIX30rtvjijWiV1VZcp4JIJHwg2ge5W6PEWC9bR4ZIwWFbdvllmGOWeWaaa7b5Zpxj1ifke0++i+OpWvNRnh97DXZXe6Gk2Gem9aIUVC4ApqjTEkss+CINUXRCxYV7iPEwFZ1gQ0OKSF2M36bTVvtYjY9diuNb4y757bWRRVfukfPWe2+++/b7b//AAxd8cMIL11vuYut26u1bPWaZ5Y9HnntpxSvPyAcPs5baxHzErojUi7iwbOwXIfPBYCdKzJrsyBh72HLYY1+ubdlrt/32yt9mvFi6cfc9sgkrShUzjEDvKMTAMhLbcxMvtIwix36XfnqNaKf+euyz13577rv33nbrvxd/fPLLN/989M8PP33223f/ffjjl7/B9ee3/37889d/f+3r5/9/AAZQgAMkoIz8V0AEJlCBC2SgAA/YQAhGUIITpOD0HlhBDGZQgxvkIJ4u2EEQhlCEIyShRz5YQhSmUIUrXOAJWfhCGMZQhulz4QxteEMc5lB2NdRhD334QyBGiodBJGL/EY14RNAMEYlLZGITnahEJ0ZRilO8IRSpeEUsZhGEVtRiF734xQRyEYxjJGMZ5SdGM6ZRjWvsHhrZ+EY4xjF2bpRjHe14R33REY975GMfaaRHPwZSkINM4vMIeUhEJtJBgFRkIx35FB8Yw1RkZOQjLRkrY/jgeF+zFPxM0YSOOAYxnuEMFzwElagxsZKXZOVyRPkw542SIpncZKWMZwhNajJTDlPRLi2SyhsBjHWeyQeJDFnMSVrIeShSkegwVBG/FDOWlnGVXRq2xFW2Upt3wSX0GkYi6BVGkyXa2j/KOUtNMqwG6QSMKWBUKXMKxnlsECXmOgPMz0GMVcQr2+ug/wcZDbFTYKc054VUhBFhlmif0zTYRkwhzuZdaJLJ04gTCJpKzFGMchpxpvMgtqILCRSG2dxmSZ1CS1F9cjOmFIwpOSNJb67zHz3oQdlcxJl3vihGxUyM6HaZD85Q5Jz5NIyIQMcFC20GoOuM0dNUldJJKtVhymuoRzwB0X8gE2sP4xAXJnlNwDDmB8EDjTSrOVNXybQJHiLRR1lIUpPGlSMohelKTemJWHIok/4ElYs+CaOOXkaTxrSMIQjbqYlYbZqQWdiKKKMp0CWURCqKpvEiZJl0JrR4q8oUQTvyUIEt9DKnzFrZJvnKTmH0rHzREBvupKEPuaiciT0oCccQBf/c4vYyucVtVeX629FkEqUrrWtjEmPWX3pqIjklWEWuatNdaih4Ig1rUS91z8J0yrEOI8bCxorWy7nIq9sdZlZNISJN1tQj0jTkSrcqSS6Ul3k+IEYqKTVNiZ5UVY5xldQoaiKLMJeElsCvR4F74NEcBp3eRNEuMZdXaPbgTlwgK4lilNSKHNYQ9TTnwaiLz4VCjFSGqGlCUTQwzAXsIpsjm2aTu9GMPFekvrSIhly0MBIVRqX29ew/I1bghiEWRU14XUYBTBFTqBfJvu0gP34A5Br04B4IprJohDvjwgw1nC9CqmKQ8SKvdSaT9ExpTzecIYB+WJ+UeWrZEiM2E0v/E7xPa0wsjeHiSyUML6DFVCx1CWTB7MAUomRMKr+74qjmJXWUGa6An5tCAgPZrVWmNF7oKtBdLgbCSR4uRdIJ05wGZpgyPtFhBUPXC615lv4EXWuX2kwuVJYLjtqcVMsrsNoKD6wZ4fOKq0oYXYtqRelU7WZBo+AFT622+CwhP4RQYClXWtqWzqyHV/qYzViqB6gSaYk2rNNiphPYngbwd8PNKYqs9UWWQVFjHYMi4/WLl5yqwYQ0dNzzmsiteObyR8C5ERnre8u6dmd2971r8NY514q2WkXUbdnorTDS05z0tC3uUPVGnHW+3NpgQ8TOThf0mjAqracFs0vVkdMY/xSN5EAnErWsNRYwqd0UtksOKu0K1aCevhB5G34p6pbOoTlCG435m49xy7KgC5dQZRCOFws1NFU1fzoJnTzNaF9c6xyh3C5RPlpieCrkEQPbRfzS8tT1PGCpHF6iLwJj5eyzk1Bh7z01udyuMjaqzvwyzituF582JVV/L+HEU711xI+GKXBv4Lgt6WznZT3xk6c8Cg3P18pnXvMbvLplJL/5yQs4NaIPHeHx2XLSaHUvPye9uh1EY7I7fLWwzwjtizhxwoO+ypszMuChbIzDQtgiWr4IYvDLc/we9OcaAa1GlInYESl55qM18JHVyerLDO8ybucI6S8V2J2viMkD1/+IaEcXQ8h/XvcWJ5X2sx+Zw2Ok5agXNjwtwl4/N8ZU9Pc01y6sorH7JYrjOlNgJ4DZJUH7B9fDPzXwBMgAJtVTHR/QKvCbp9LzN4FyPeOaGszytXVTusuJLxkisNxbvyqLpP+KPsN4GJUyJ3Z6vliSrQJTGMJbDPcrrP7TqUsBwKBbsbmLKctIDE/4gRorsFMCNhjJN3xqwVhKNLQpwhksG3mKJcFIO025pohzpviSJf7LMOiTIX5wgikzQcQjG5TKqW7iKcNIjPk7MXibNO/zMKJDDGkam3RqOWCCwWWaJe4zjEJznoyAsAB0guChlKhRQheJQA9TveErtPPKtR7/vLcjUzfmcgyDqUQLOSjiAwxQYjwRmgcyTDy2SyerGSYBsxo9PLy0i0KBSQxWgZjJsMMczEP/20EkA6WOMCV8eT4VSTIonKa/IJGEsajnAqaOiqjt80CK2DZTab7icYLsEioPYS7L4sMVjBAcAcRQ3MYQGhhpqi3m0oyK0LIuxAhKcbxl9JRFMy6SG0Bc08EcZMRGhCa6K8AaCzp1CzMACyoIzDfh6cFNdJj8m8Dz+joLlCap+zQQFJgAA0Eb40aIzCBfNC1Lwafl25pVxK9ToiagyqVT0kV9a8EAs5TlE5gCUxEHDETh6UNepIgh/MVYIihMKQxdjBoyS8l/rJ5c/3QrMhO/yMi1HqjGg6EMaDQYdpK5nIxIpZQgiiIb+gMmdOw0+kNKkLLHf8Ar5VJAtoqqdxIbf0xKUPk/JONKDunJHsQIq6wIRvypFUQV9bJJxjAm1Ho/dOMIDTSvxNglTQk5GLG9dyIM2CuuccRBcltKw1ygYRqYYVKpmwutFXyqiOsnIIsM88LFkVy3TqIx5kK9kLu5lguqrRqtiZhInAO0fsqUG6OmHsC8APyUjSC+5vMlS7xHnyxCbqvNWwQMrmFDtrLMw/zNAWKeNvtGyTyow/i10VKYTnknbIsQxiiXnEKM1XQVDdxMTcQ3f1LD7cKadHI9TxAo4iQ/c8oy6v8ql9Y0Ee4br4ogBn/yJclInX3blMBzL6c7J9kMjKoDTv3cn8acmh6bOYHSvhghMsZIHddCus4gEelDxsu4sRABKyKrATAwlXdSJsVQO2g6KPAzBO07pbQ0pwWlsf+6QZJkqOJp0BMNP/ETnYsiTPdcSNzciMDqwxLSgCrIiASYg/08ME9ElrrpUc3LUY2wURzV0R09UiSNFRgAACa90YoQ0oqAAyad0in9BA3QUShNUi3dUhuhARrYBxiogjmgUiqVCFyZAgOQHIm40n/IUi59UzhdDi/9BxqoAnTZBwNoA8lRSwD4hH+oAg2gCDZ10zgtVEP9jDmtU4tw02MAABj/oIGJAABOEFQsNdJ/MIBDzVRNhYpErQIDINMphdQpAACKqAIMqIhBtVRM3VRWbVWMoIEpnYJ/6JiRgQEY6IeKgAJJBYBiaNM5SNV/QAEyJQBXLVZNpYFbDdNXpYH7W9I4+NME+AdgBQkC2FNjvdZC7VQNAFUmndR/aNQ2yIdPkFRprdSKWFVsTVc47dRZRY5avVWK0NVO+IdiAAAooFRfPVd13VcuZVcAmFeKmFM6hVRxZdJMuIgsRVd+Xdj97NRiGNVjCFhmVUtYhYM2AICIfVJV/QWKQAEJYFiQXUpYZVJZpdNTHdiKqAIm1YeJiAMAGAaNrYhHmFIiCFmbhci7TbmITwUAI8UAALgVtZTSS2XSjM2quAHSm03aygMJBjGZ+5sIplVaqZ1aqq1aq71arM1ard1aru1ar/1asA1bsR1bsi1bsz1btE3bGAoIADs=)"
      ]
    },
    {
      "cell_type": "markdown",
      "metadata": {
        "id": "trUqPC8hl6gt"
      },
      "source": [
        "データセットの作成"
      ]
    },
    {
      "cell_type": "code",
      "metadata": {
        "id": "Bz_AGM811nA8"
      },
      "source": [
        "from torch.utils.data import Dataset\n",
        "\n",
        "class CreateDataset(Dataset):\n",
        "  def __init__(self, X, y, tokenizer):\n",
        "    self.X = X\n",
        "    self.y = y#ラベル\n",
        "    self.tokenizer = tokenizer\n",
        "\n",
        "  def __len__(self):#len(Dataset)で返す値を指定\n",
        "    return len(self.y)\n",
        "\n",
        "  def __getitem__(self, index):#Dataset[index]で返す値を指定\n",
        "    t = list(self.X)#listにしないと、KeyErrorが出る\n",
        "    text = t[index]\n",
        "    inputs = self.tokenizer(text)\n",
        "\n",
        "    return {\n",
        "      'inputs': torch.tensor(inputs, dtype=torch.int64),\n",
        "      'labels': torch.tensor(self.y[index], dtype=torch.int64)\n",
        "    }"
      ],
      "execution_count": null,
      "outputs": []
    },
    {
      "cell_type": "code",
      "metadata": {
        "colab": {
          "base_uri": "https://localhost:8080/"
        },
        "id": "q4Q0nfutlAIR",
        "outputId": "ffcf3a80-801c-4650-a1b8-811e99a18ced"
      },
      "source": [
        "train['TITLE']"
      ],
      "execution_count": null,
      "outputs": [
        {
          "output_type": "execute_result",
          "data": {
            "text/plain": [
              "16218     REFILE-UPDATE 1-European car sales up for sixt...\n",
              "350381    Amazon Plans to Fight FTC Over Mobile-App Purc...\n",
              "148768    Kids Still Get Codeine In Emergency Rooms Desp...\n",
              "210596    What On Earth Happened Between Solange And Jay...\n",
              "234365    NATO Missile Defense Is Flight Tested Over Hawaii\n",
              "                                ...                        \n",
              "248020                      The Pillow Book of Tim Geithner\n",
              "280908    Robin Thicke spends $20000 on Amethyst stone a...\n",
              "132357    Japanese Shares Little Changed After Biggest R...\n",
              "404892    WRAPUP 1-Liberia shuts schools as Ebola spread...\n",
              "274877    Justin Bieber Caught Using N-Word & Joining KK...\n",
              "Name: TITLE, Length: 10684, dtype: object"
            ]
          },
          "metadata": {
            "tags": []
          },
          "execution_count": 81
        }
      ]
    },
    {
      "cell_type": "code",
      "metadata": {
        "id": "PHY3sMFgfqip"
      },
      "source": [
        "# ラベルベクトルの作成\n",
        "category_dict = {'b': 0, 't': 1, 'e':2, 'm':3}\n",
        "y_train = torch.tensor(train['CATEGORY'].map(lambda x: category_dict[x]).values)\n",
        "y_valid = torch.tensor(valid['CATEGORY'].map(lambda x: category_dict[x]).values)\n",
        "y_test = torch.tensor(test['CATEGORY'].map(lambda x: category_dict[x]).values)"
      ],
      "execution_count": null,
      "outputs": []
    },
    {
      "cell_type": "code",
      "metadata": {
        "colab": {
          "base_uri": "https://localhost:8080/"
        },
        "id": "XIcGXOr7fzVP",
        "outputId": "e8067903-661f-47f8-8cd4-4356645b5936"
      },
      "source": [
        "y_train"
      ],
      "execution_count": null,
      "outputs": [
        {
          "output_type": "execute_result",
          "data": {
            "text/plain": [
              "tensor([0, 1, 3,  ..., 0, 3, 2])"
            ]
          },
          "metadata": {
            "tags": []
          },
          "execution_count": 83
        }
      ]
    },
    {
      "cell_type": "code",
      "metadata": {
        "colab": {
          "base_uri": "https://localhost:8080/"
        },
        "id": "9Ika7x161uQp",
        "outputId": "c7080074-53c3-4026-da7b-a1bf1b50b7d8"
      },
      "source": [
        "\n",
        "# Datasetの作成\n",
        "dataset_train = CreateDataset(train['TITLE'], y_train, tokenizer)\n",
        "dataset_valid = CreateDataset(valid['TITLE'], y_valid, tokenizer)\n",
        "dataset_test = CreateDataset(test['TITLE'], y_test, tokenizer)\n",
        "\n",
        "print(f'len(Dataset)の出力: {len(dataset_train)}')\n",
        "print(type(dataset_train))\n",
        "print('Dataset[index]の出力:')\n"
      ],
      "execution_count": null,
      "outputs": [
        {
          "output_type": "stream",
          "text": [
            "len(Dataset)の出力: 10684\n",
            "<class '__main__.CreateDataset'>\n",
            "Dataset[index]の出力:\n"
          ],
          "name": "stdout"
        }
      ]
    },
    {
      "cell_type": "code",
      "metadata": {
        "colab": {
          "base_uri": "https://localhost:8080/"
        },
        "id": "6xXcdLgAgyZN",
        "outputId": "ddb59638-a7cd-4ab6-9aa3-610144a75278"
      },
      "source": [
        "for var in dataset_train[1]:\n",
        "  print(f'  {var}: {dataset_train[1][var]}')"
      ],
      "execution_count": null,
      "outputs": [
        {
          "output_type": "stream",
          "text": [
            "  inputs: tensor([ 169,  539,    1,  683, 1237,   82,  279, 1898, 4199])\n",
            "  labels: 1\n"
          ],
          "name": "stdout"
        }
      ]
    },
    {
      "cell_type": "code",
      "metadata": {
        "colab": {
          "base_uri": "https://localhost:8080/"
        },
        "id": "2itAjoUx96aq",
        "outputId": "664d4fba-70f6-45e6-9ea3-a7ca058327aa"
      },
      "source": [
        "#パラメータの設定\n",
        "VOCAB_SIZE = len(set(word2id.values())) + 1 #辞書のID数 + パディングID\n",
        "EMB_SIZE = 300\n",
        "PADDING_IDX = len(set(word2id.values()))\n",
        "OUTPUT_SIZE = 4 #4値分類\n",
        "HIDDEN_SIZE = 50\n",
        "\n",
        "# モデルの定義\n",
        "model = RNN(VOCAB_SIZE, EMB_SIZE, PADDING_IDX, OUTPUT_SIZE, HIDDEN_SIZE)\n",
        "\n",
        "# 先頭10件の予測値取得\n",
        "for i in range(10):\n",
        "  X = dataset_train[i]['inputs']\n",
        "  print(torch.softmax(model(X.unsqueeze(0)), dim=-1))"
      ],
      "execution_count": null,
      "outputs": [
        {
          "output_type": "stream",
          "text": [
            "tensor([[0.3326, 0.1986, 0.1277, 0.3412]], grad_fn=<SoftmaxBackward>)\n",
            "tensor([[0.2045, 0.2372, 0.2702, 0.2882]], grad_fn=<SoftmaxBackward>)\n",
            "tensor([[0.2552, 0.3129, 0.2257, 0.2062]], grad_fn=<SoftmaxBackward>)\n",
            "tensor([[0.2812, 0.2369, 0.2510, 0.2309]], grad_fn=<SoftmaxBackward>)\n",
            "tensor([[0.1717, 0.3723, 0.1724, 0.2835]], grad_fn=<SoftmaxBackward>)\n",
            "tensor([[0.1874, 0.1936, 0.4593, 0.1598]], grad_fn=<SoftmaxBackward>)\n",
            "tensor([[0.3762, 0.1869, 0.2079, 0.2290]], grad_fn=<SoftmaxBackward>)\n",
            "tensor([[0.1166, 0.2562, 0.3039, 0.3232]], grad_fn=<SoftmaxBackward>)\n",
            "tensor([[0.4209, 0.2280, 0.1258, 0.2254]], grad_fn=<SoftmaxBackward>)\n",
            "tensor([[0.3214, 0.1548, 0.2416, 0.2823]], grad_fn=<SoftmaxBackward>)\n"
          ],
          "name": "stdout"
        }
      ]
    },
    {
      "cell_type": "markdown",
      "metadata": {
        "id": "-Nk8aEnGnNWw"
      },
      "source": [
        "## 82. 確率的勾配降下法による学習\n",
        "\n",
        "確率的勾配降下法（SGD: Stochastic Gradient Descent）を用いて，問題81で構築したモデルを学習せよ．訓練データ上の損失と正解率，評価データ上の損失と正解率を表示しながらモデルを学習し，適当な基準（例えば10エポックなど）で終了させよ．\n",
        "\n"
      ]
    },
    {
      "cell_type": "markdown",
      "metadata": {
        "id": "WU0_peVwMffY"
      },
      "source": [
        "問題73と同様の方法で、"
      ]
    },
    {
      "cell_type": "code",
      "metadata": {
        "id": "KMea5KdK9-ap"
      },
      "source": [
        "from torch.utils.data import DataLoader\n",
        "import time\n",
        "from torch import optim\n",
        "\n",
        "def calculate_loss_and_accuracy(model, dataset, device=None, criterion=None):\n",
        "  \"\"\"損失・正解率を計算\"\"\"\n",
        "  dataloader = DataLoader(dataset, batch_size=1, shuffle=False)\n",
        "  loss = 0.0\n",
        "  total = 0\n",
        "  correct = 0\n",
        "  with torch.no_grad():\n",
        "    for data in dataloader:\n",
        "      # デバイスの指定\n",
        "      inputs = data['inputs'].to(device)\n",
        "      labels = data['labels'].to(device)\n",
        "\n",
        "      # 順伝播\n",
        "      outputs = model(inputs)\n",
        "\n",
        "      # 損失計算\n",
        "      if criterion != None:\n",
        "        loss += criterion(outputs, labels).item()\n",
        "\n",
        "      # 正解率計算\n",
        "      pred = torch.argmax(outputs, dim=-1)\n",
        "      total += len(inputs)\n",
        "      correct += (pred == labels).sum().item()\n",
        "\n",
        "  return loss / len(dataset), correct / total\n",
        "\n",
        "\n",
        "def train_model(dataset_train, dataset_valid, batch_size, model, criterion, optimizer, num_epochs, collate_fn=None, device=None):\n",
        "  \"\"\"モデルの学習を実行し、損失・正解率のログを返す\"\"\"\n",
        "  # デバイスの指定\n",
        "  model.to(device)\n",
        "\n",
        "  # dataloaderの作成\n",
        "  dataloader_train = DataLoader(dataset_train, batch_size=batch_size, shuffle=True, collate_fn=collate_fn)\n",
        "  dataloader_valid = DataLoader(dataset_valid, batch_size=1, shuffle=False)\n",
        "\n",
        "  # スケジューラの設定\n",
        "  scheduler = optim.lr_scheduler.CosineAnnealingLR(optimizer, num_epochs, eta_min=1e-5, last_epoch=-1)\n",
        "\n",
        "  # 学習\n",
        "  log_train = []\n",
        "  log_valid = []\n",
        "  for epoch in range(num_epochs):\n",
        "    # 開始時刻の記録\n",
        "    s_time = time.time()\n",
        "\n",
        "    # 訓練モードに設定\n",
        "    model.train()\n",
        "    for data in dataloader_train:\n",
        "      # 勾配をゼロで初期化\n",
        "      optimizer.zero_grad()\n",
        "\n",
        "      # 順伝播 + 誤差逆伝播 + 重み更新\n",
        "      inputs = data['inputs'].to(device)\n",
        "      labels = data['labels'].to(device)\n",
        "      outputs = model(inputs)#順伝播\n",
        "      loss = criterion(outputs, labels)#ラベルデータに対するCross-Entropyがとられる\n",
        "      loss.backward()\n",
        "      optimizer.step()#重みの更新\n",
        "\n",
        "    # 評価モードに設定\n",
        "    model.eval()\n",
        "\n",
        "    # 損失と正解率の算出\n",
        "    loss_train, acc_train = calculate_loss_and_accuracy(model, dataset_train, device, criterion=criterion)\n",
        "    loss_valid, acc_valid = calculate_loss_and_accuracy(model, dataset_valid, device, criterion=criterion)\n",
        "    log_train.append([loss_train, acc_train])\n",
        "    log_valid.append([loss_valid, acc_valid])\n",
        "\n",
        "    # チェックポイントの保存\n",
        "    torch.save({'epoch': epoch, 'model_state_dict': model.state_dict(), 'optimizer_state_dict': optimizer.state_dict()}, f'checkpoint{epoch + 1}.pt')\n",
        "\n",
        "    # 終了時刻の記録\n",
        "    e_time = time.time()\n",
        "\n",
        "    # ログを出力\n",
        "    print(f'epoch: {epoch + 1}, loss_train: {loss_train:.4f}, accuracy_train: {acc_train:.4f}, loss_valid: {loss_valid:.4f}, accuracy_valid: {acc_valid:.4f}, {(e_time - s_time):.4f}sec') \n",
        "\n",
        "    # 検証データの損失が3エポック連続で低下しなかった場合は学習終了\n",
        "    if epoch > 2 and log_valid[epoch - 3][0] <= log_valid[epoch - 2][0] <= log_valid[epoch - 1][0] <= log_valid[epoch][0]:\n",
        "      break\n",
        "\n",
        "    # スケジューラを1ステップ進める\n",
        "    scheduler.step()\n",
        "\n",
        "  return {'train': log_train, 'valid': log_valid}"
      ],
      "execution_count": null,
      "outputs": []
    },
    {
      "cell_type": "markdown",
      "metadata": {
        "id": "7TJyJEBhnPSf"
      },
      "source": [
        "結果をプロットする関数"
      ]
    },
    {
      "cell_type": "code",
      "metadata": {
        "id": "5cScseqTa3V0"
      },
      "source": [
        "import numpy as np\n",
        "from matplotlib import pyplot as plt\n",
        "\n",
        "def visualize_logs(log):\n",
        "  fig, ax = plt.subplots(1, 2, figsize=(15, 5))\n",
        "  ax[0].plot(np.array(log['train']).T[0], label='train')\n",
        "  ax[0].plot(np.array(log['valid']).T[0], label='valid')\n",
        "  ax[0].set_xlabel('epoch')\n",
        "  ax[0].set_ylabel('loss')\n",
        "  ax[0].legend()\n",
        "  ax[1].plot(np.array(log['train']).T[1], label='train')\n",
        "  ax[1].plot(np.array(log['valid']).T[1], label='valid')\n",
        "  ax[1].set_xlabel('epoch')\n",
        "  ax[1].set_ylabel('accuracy')\n",
        "  ax[1].legend()\n",
        "  plt.show()"
      ],
      "execution_count": null,
      "outputs": []
    },
    {
      "cell_type": "code",
      "metadata": {
        "colab": {
          "base_uri": "https://localhost:8080/"
        },
        "id": "XU5tIvEWa4Vh",
        "outputId": "a23b19a8-4324-46ff-f5ac-3a3aa1d87537"
      },
      "source": [
        "# パラメータの設定\n",
        "VOCAB_SIZE = len(set(word2id.values())) + 1 \n",
        "EMB_SIZE = 300\n",
        "PADDING_IDX = len(set(word2id.values()))\n",
        "OUTPUT_SIZE = 4\n",
        "HIDDEN_SIZE = 50\n",
        "LEARNING_RATE = 1e-3\n",
        "BATCH_SIZE = 1\n",
        "NUM_EPOCHS = 10\n",
        "\n",
        "#モデルの定義\n",
        "model = RNN(VOCAB_SIZE, EMB_SIZE, PADDING_IDX, OUTPUT_SIZE, HIDDEN_SIZE)\n",
        "\n",
        "#損失関数の定義\n",
        "criterion = nn.CrossEntropyLoss()\n",
        "\n",
        "#オプティマイザの定義\n",
        "optimizer = torch.optim.SGD(model.parameters(), lr=1e-1)\n",
        "#SGDとは、確率的勾配降下法のことであり、パラメータの更新手法を表す\n",
        "#torch.optim.SGDには、更新したいパラメータを渡す。このパラメータは微分可能でないといけない\n",
        "#lrには、学習率(learning rate)としてfloat型を渡す\n",
        "\n",
        "#モデルの学習\n",
        "log = train_model(dataset_train, dataset_valid, BATCH_SIZE, model, criterion, optimizer, NUM_EPOCHS)"
      ],
      "execution_count": null,
      "outputs": [
        {
          "output_type": "stream",
          "text": [
            "epoch: 1, loss_train: 1.0949, accuracy_train: 0.5256, loss_valid: 1.1282, accuracy_valid: 0.4865, 103.1325sec\n",
            "epoch: 2, loss_train: 0.9832, accuracy_train: 0.6080, loss_valid: 1.0577, accuracy_valid: 0.5651, 97.8123sec\n",
            "epoch: 3, loss_train: 0.8068, accuracy_train: 0.7104, loss_valid: 0.9086, accuracy_valid: 0.6729, 101.2114sec\n",
            "epoch: 4, loss_train: 0.6884, accuracy_train: 0.7533, loss_valid: 0.7994, accuracy_valid: 0.7193, 98.2884sec\n",
            "epoch: 5, loss_train: 0.5985, accuracy_train: 0.7821, loss_valid: 0.7441, accuracy_valid: 0.7358, 102.6499sec\n",
            "epoch: 6, loss_train: 0.5197, accuracy_train: 0.8108, loss_valid: 0.7034, accuracy_valid: 0.7515, 103.1178sec\n",
            "epoch: 7, loss_train: 0.4753, accuracy_train: 0.8261, loss_valid: 0.6752, accuracy_valid: 0.7672, 102.9991sec\n",
            "epoch: 8, loss_train: 0.4435, accuracy_train: 0.8356, loss_valid: 0.6676, accuracy_valid: 0.7635, 105.5156sec\n",
            "epoch: 9, loss_train: 0.4247, accuracy_train: 0.8454, loss_valid: 0.6564, accuracy_valid: 0.7695, 102.7811sec\n",
            "epoch: 10, loss_train: 0.4191, accuracy_train: 0.8457, loss_valid: 0.6598, accuracy_valid: 0.7702, 107.0868sec\n"
          ],
          "name": "stdout"
        }
      ]
    },
    {
      "cell_type": "code",
      "metadata": {
        "id": "PdM6oXwGa_GU",
        "colab": {
          "base_uri": "https://localhost:8080/",
          "height": 370
        },
        "outputId": "2e786474-7ddf-42c3-c686-1c896d7fa828"
      },
      "source": [
        "#ログの可視化\n",
        "visualize_logs(log)\n",
        "\n",
        "#正解率の算出\n",
        "_, acc_train = calculate_loss_and_accuracy(model, dataset_train)\n",
        "_, acc_test = calculate_loss_and_accuracy(model, dataset_test)\n",
        "print(f'正解率（学習データ）：{acc_train:.3f}')\n",
        "print(f'正解率（評価データ）：{acc_test:.3f}')"
      ],
      "execution_count": null,
      "outputs": [
        {
          "output_type": "display_data",
          "data": {
            "image/png": "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\n",
            "text/plain": [
              "<Figure size 1080x360 with 2 Axes>"
            ]
          },
          "metadata": {
            "tags": [],
            "needs_background": "light"
          }
        },
        {
          "output_type": "stream",
          "text": [
            "正解率（学習データ）：0.846\n",
            "正解率（評価データ）：0.767\n"
          ],
          "name": "stdout"
        }
      ]
    },
    {
      "cell_type": "markdown",
      "metadata": {
        "id": "nupeZdZ979gD"
      },
      "source": [
        "## 83. ミニバッチ化・GPU上での学習\n",
        "\n",
        "問題82のコードを改変し，B事例ごとに損失・勾配を計算して学習を行えるようにせよ（Bの値は適当に選べ）．また，GPU上で学習を実行せよ．\n",
        "\n"
      ]
    },
    {
      "cell_type": "code",
      "metadata": {
        "id": "ZKR0RjtD9-w7"
      },
      "source": [
        "class Padsequence():\n",
        "  \"\"\"Dataloaderからミニバッチを取り出すごとに最大系列長でパディング\"\"\"\n",
        "  def __init__(self, padding_idx):\n",
        "    self.padding_idx = padding_idx\n",
        "\n",
        "  def __call__(self, batch):\n",
        "    sorted_batch = sorted(batch, key=lambda x: x['inputs'].shape[0], reverse=True)\n",
        "    sequences = [x['inputs'] for x in sorted_batch]\n",
        "    sequences_padded = torch.nn.utils.rnn.pad_sequence(sequences, batch_first=True, padding_value=self.padding_idx)\n",
        "    #pad_sequenceは、長さの違うテンソルを与えると, 短いものの末尾にゼロ埋めを施して次元を揃えてくれる関数\n",
        "    #batch_first=Trueで、軸の並びを(バッチサイズ×最大シーケンス長×特徴量次元数)とする\n",
        "\n",
        "    labels = torch.LongTensor([x['labels'] for x in sorted_batch])\n",
        "\n",
        "    return {'inputs': sequences_padded, 'labels': labels}"
      ],
      "execution_count": null,
      "outputs": []
    },
    {
      "cell_type": "code",
      "metadata": {
        "colab": {
          "base_uri": "https://localhost:8080/"
        },
        "id": "JNu1aJ3d2LTz",
        "outputId": "ad40db4b-16dd-4b27-9a20-ed5b0875aa30"
      },
      "source": [
        "print(device)"
      ],
      "execution_count": null,
      "outputs": [
        {
          "output_type": "stream",
          "text": [
            "cuda\n"
          ],
          "name": "stdout"
        }
      ]
    },
    {
      "cell_type": "markdown",
      "metadata": {
        "id": "nDe319fIMkkC"
      },
      "source": [
        "GPU用にRNNクラスを再定義。\n",
        "hidden.to(device)としないと、hiddenがCPUのままになりエラーが発生。"
      ]
    },
    {
      "cell_type": "code",
      "metadata": {
        "id": "Rs4Usmna9xR8"
      },
      "source": [
        "import torch\n",
        "from torch import nn\n",
        "\n",
        "class RNN(nn.Module):\n",
        "  def __init__(self, vocab_size, emb_size, padding_idx, output_size, hidden_size):\n",
        "    super().__init__()\n",
        "    self.hidden_size = hidden_size\n",
        "    self.emb = nn.Embedding(vocab_size, emb_size, padding_idx=padding_idx)#nn.Embedding()は，基本的に2つの引数．第一引数: 語彙サイズ（単語IDの最大値+1）第二引数: 埋め込む次元\n",
        "    #https://pytorch.org/docs/stable/generated/torch.nn.Embedding.html\n",
        "    self.rnn = nn.RNN(emb_size, hidden_size, nonlinearity='tanh', batch_first=True)\n",
        "    self.fc = nn.Linear(hidden_size, output_size)\n",
        "\n",
        "  def forward(self, x):\n",
        "    self.batch_size = x.size()[0]\n",
        "    hidden = self.init_hidden()  # h0のゼロベクトルを作成\n",
        "    emb = self.emb(x)\n",
        "    # emb.size() = (batch_size, seq_len, emb_size)\n",
        "    out, hidden = self.rnn(emb, hidden)\n",
        "    # out.size() = (batch_size, seq_len, hidden_size)\n",
        "    out = self.fc(out[:, -1, :])\n",
        "    # out.size() = (batch_size, output_size)\n",
        "    return out\n",
        "\n",
        "  def init_hidden(self):\n",
        "    hidden = torch.zeros(1, self.batch_size, self.hidden_size)\n",
        "    hidden = hidden.to(device)#GPUにhiddenを移動する\n",
        "    return hidden"
      ],
      "execution_count": null,
      "outputs": []
    },
    {
      "cell_type": "code",
      "metadata": {
        "id": "nDg8L1AqbCu2",
        "colab": {
          "base_uri": "https://localhost:8080/"
        },
        "outputId": "51ec0a58-c61b-4880-903d-843a10524294"
      },
      "source": [
        "# パラメータの設定\n",
        "VOCAB_SIZE = len(set(word2id.values())) + 1\n",
        "EMB_SIZE = 300\n",
        "PADDING_IDX = len(set(word2id.values()))\n",
        "OUTPUT_SIZE = 4\n",
        "HIDDEN_SIZE = 50\n",
        "LEARNING_RATE = 5e-2\n",
        "BATCH_SIZE = 32\n",
        "NUM_EPOCHS = 10\n",
        "\n",
        "#モデルの定義\n",
        "model = RNN(VOCAB_SIZE, EMB_SIZE, PADDING_IDX, OUTPUT_SIZE, HIDDEN_SIZE)\n",
        "\n",
        "#損失関数の定義\n",
        "criterion = nn.CrossEntropyLoss()\n",
        "\n",
        "#オプティマイザの定義\n",
        "optimizer = torch.optim.SGD(model.parameters(), lr=LEARNING_RATE)\n",
        "\n",
        "#デバイスの指定\n",
        "device = torch.device('cuda')\n",
        "\n",
        "\n",
        "# モデルの学習\n",
        "log = train_model(dataset_train, dataset_valid, BATCH_SIZE, model, criterion, optimizer, NUM_EPOCHS, collate_fn=Padsequence(PADDING_IDX), device=device)"
      ],
      "execution_count": null,
      "outputs": [
        {
          "output_type": "stream",
          "text": [
            "epoch: 1, loss_train: 1.2460, accuracy_train: 0.4235, loss_valid: 1.2514, accuracy_valid: 0.4326, 33.7116sec\n",
            "epoch: 2, loss_train: 1.1734, accuracy_train: 0.4966, loss_valid: 1.1861, accuracy_valid: 0.4835, 33.7352sec\n",
            "epoch: 3, loss_train: 1.1239, accuracy_train: 0.5379, loss_valid: 1.1349, accuracy_valid: 0.5292, 33.6795sec\n",
            "epoch: 4, loss_train: 1.1832, accuracy_train: 0.4606, loss_valid: 1.2038, accuracy_valid: 0.4484, 33.5104sec\n",
            "epoch: 5, loss_train: 1.1273, accuracy_train: 0.5427, loss_valid: 1.1679, accuracy_valid: 0.5120, 33.6442sec\n",
            "epoch: 6, loss_train: 1.0799, accuracy_train: 0.5833, loss_valid: 1.1246, accuracy_valid: 0.5434, 33.8069sec\n",
            "epoch: 7, loss_train: 1.0723, accuracy_train: 0.5991, loss_valid: 1.1219, accuracy_valid: 0.5584, 33.7813sec\n",
            "epoch: 8, loss_train: 1.0396, accuracy_train: 0.6192, loss_valid: 1.0785, accuracy_valid: 0.5913, 33.7521sec\n",
            "epoch: 9, loss_train: 1.0295, accuracy_train: 0.6294, loss_valid: 1.0776, accuracy_valid: 0.5988, 33.7181sec\n",
            "epoch: 10, loss_train: 1.0353, accuracy_train: 0.6235, loss_valid: 1.0845, accuracy_valid: 0.5928, 33.7476sec\n"
          ],
          "name": "stdout"
        }
      ]
    },
    {
      "cell_type": "code",
      "metadata": {
        "id": "2A8iSXuNbGqs",
        "colab": {
          "base_uri": "https://localhost:8080/",
          "height": 276
        },
        "outputId": "ffe92196-2a0e-4007-a1c4-760a6df71bc3"
      },
      "source": [
        "# ログの可視化\n",
        "visualize_logs(log)\n",
        "\n",
        "# 正解率の算出\n",
        "_, acc_train = calculate_loss_and_accuracy(model, dataset_train, device)\n",
        "_, acc_test = calculate_loss_and_accuracy(model, dataset_test, device)\n",
        "print(f'正解率（学習データ）：{acc_train:.3f}')\n",
        "print(f'正解率（評価データ）：{acc_test:.3f}')"
      ],
      "execution_count": null,
      "outputs": [
        {
          "output_type": "display_data",
          "data": {
            "image/png": "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\n",
            "text/plain": [
              "<Figure size 1080x360 with 2 Axes>"
            ]
          },
          "metadata": {
            "tags": [],
            "needs_background": "light"
          }
        },
        {
          "output_type": "stream",
          "text": [
            "正解率（学習データ）：0.623\n",
            "正解率（評価データ）：0.598\n"
          ],
          "name": "stdout"
        }
      ]
    },
    {
      "cell_type": "markdown",
      "metadata": {
        "id": "VLDNPNAbVmcZ"
      },
      "source": [
        "## 84. 単語ベクトルの導入\n",
        "事前学習済みの単語ベクトル（例えば，Google Newsデータセット（約1,000億単語）での学習済み単語ベクトル）で単語埋め込み$emb(x)$を初期化し，学習せよ．\n"
      ]
    },
    {
      "cell_type": "markdown",
      "metadata": {
        "id": "hgeIhGJEAasX"
      },
      "source": [
        "前問60と同様にして、Google Newsデータセットをダウンロード。"
      ]
    },
    {
      "cell_type": "code",
      "metadata": {
        "id": "sH8eDLQw-ADo",
        "colab": {
          "base_uri": "https://localhost:8080/"
        },
        "outputId": "1169e338-f4ec-455e-fa6d-851739659718"
      },
      "source": [
        "# 学習済み単語ベクトルのダウンロード\n",
        "FILE_ID = \"0B7XkCwpI5KDYNlNUTTlSS21pQmM\"\n",
        "FILE_NAME = \"GoogleNews-vectors-negative300.bin.gz\"\n",
        "!wget --load-cookies /tmp/cookies.txt \"https://docs.google.com/uc?export=download&confirm=$(wget --quiet --save-cookies /tmp/cookies.txt --keep-session-cookies --no-check-certificate 'https://docs.google.com/uc?export=download&id=$FILE_ID' -O- | sed -rn 's/.*confirm=([0-9A-Za-z_]+).*/\\1\\n/p')&id=$FILE_ID\" -O $FILE_NAME && rm -rf /tmp/cookies.txt"
      ],
      "execution_count": null,
      "outputs": [
        {
          "output_type": "stream",
          "text": [
            "--2021-07-13 08:34:15--  https://docs.google.com/uc?export=download&confirm=Sk_7&id=0B7XkCwpI5KDYNlNUTTlSS21pQmM\n",
            "Resolving docs.google.com (docs.google.com)... 142.250.188.206, 2607:f8b0:4004:807::200e\n",
            "Connecting to docs.google.com (docs.google.com)|142.250.188.206|:443... connected.\n",
            "HTTP request sent, awaiting response... 302 Moved Temporarily\n",
            "Location: https://doc-00-5o-docs.googleusercontent.com/docs/securesc/glg9h6v8pafcch7rdqnhub7s5srf51kd/qgkte0b4gmmvejvhk6j4tvi4s2icbq00/1626165225000/06848720943842814915/11078031468695362207Z/0B7XkCwpI5KDYNlNUTTlSS21pQmM?e=download [following]\n",
            "--2021-07-13 08:34:16--  https://doc-00-5o-docs.googleusercontent.com/docs/securesc/glg9h6v8pafcch7rdqnhub7s5srf51kd/qgkte0b4gmmvejvhk6j4tvi4s2icbq00/1626165225000/06848720943842814915/11078031468695362207Z/0B7XkCwpI5KDYNlNUTTlSS21pQmM?e=download\n",
            "Resolving doc-00-5o-docs.googleusercontent.com (doc-00-5o-docs.googleusercontent.com)... 142.250.73.225, 2607:f8b0:4004:82a::2001\n",
            "Connecting to doc-00-5o-docs.googleusercontent.com (doc-00-5o-docs.googleusercontent.com)|142.250.73.225|:443... connected.\n",
            "HTTP request sent, awaiting response... 302 Found\n",
            "Location: https://docs.google.com/nonceSigner?nonce=oae9kkvh5k7kq&continue=https://doc-00-5o-docs.googleusercontent.com/docs/securesc/glg9h6v8pafcch7rdqnhub7s5srf51kd/qgkte0b4gmmvejvhk6j4tvi4s2icbq00/1626165225000/06848720943842814915/11078031468695362207Z/0B7XkCwpI5KDYNlNUTTlSS21pQmM?e%3Ddownload&hash=se77somksuv7nv3163l80rsn94th4229 [following]\n",
            "--2021-07-13 08:34:16--  https://docs.google.com/nonceSigner?nonce=oae9kkvh5k7kq&continue=https://doc-00-5o-docs.googleusercontent.com/docs/securesc/glg9h6v8pafcch7rdqnhub7s5srf51kd/qgkte0b4gmmvejvhk6j4tvi4s2icbq00/1626165225000/06848720943842814915/11078031468695362207Z/0B7XkCwpI5KDYNlNUTTlSS21pQmM?e%3Ddownload&hash=se77somksuv7nv3163l80rsn94th4229\n",
            "Connecting to docs.google.com (docs.google.com)|142.250.188.206|:443... connected.\n",
            "HTTP request sent, awaiting response... 302 Found\n",
            "Location: https://doc-00-5o-docs.googleusercontent.com/docs/securesc/glg9h6v8pafcch7rdqnhub7s5srf51kd/qgkte0b4gmmvejvhk6j4tvi4s2icbq00/1626165225000/06848720943842814915/11078031468695362207Z/0B7XkCwpI5KDYNlNUTTlSS21pQmM?e=download&nonce=oae9kkvh5k7kq&user=11078031468695362207Z&hash=raevtu4a1dt3vufg9sq1mv1jupg1csab [following]\n",
            "--2021-07-13 08:34:16--  https://doc-00-5o-docs.googleusercontent.com/docs/securesc/glg9h6v8pafcch7rdqnhub7s5srf51kd/qgkte0b4gmmvejvhk6j4tvi4s2icbq00/1626165225000/06848720943842814915/11078031468695362207Z/0B7XkCwpI5KDYNlNUTTlSS21pQmM?e=download&nonce=oae9kkvh5k7kq&user=11078031468695362207Z&hash=raevtu4a1dt3vufg9sq1mv1jupg1csab\n",
            "Connecting to doc-00-5o-docs.googleusercontent.com (doc-00-5o-docs.googleusercontent.com)|142.250.73.225|:443... connected.\n",
            "HTTP request sent, awaiting response... 200 OK\n",
            "Length: unspecified [application/x-gzip]\n",
            "Saving to: ‘GoogleNews-vectors-negative300.bin.gz’\n",
            "\n",
            "GoogleNews-vectors-     [      <=>           ]   1.53G   111MB/s    in 8.8s    \n",
            "\n",
            "2021-07-13 08:34:26 (178 MB/s) - ‘GoogleNews-vectors-negative300.bin.gz’ saved [1647046227]\n",
            "\n"
          ],
          "name": "stdout"
        }
      ]
    },
    {
      "cell_type": "code",
      "metadata": {
        "id": "-15wVM5sbLMQ",
        "colab": {
          "base_uri": "https://localhost:8080/"
        },
        "outputId": "55c7b343-62b0-4f5e-c119-7a52c64b175f"
      },
      "source": [
        "from gensim.models import KeyedVectors\n",
        "\n",
        "#学習済みモデルのロード\n",
        "model = KeyedVectors.load_word2vec_format('./GoogleNews-vectors-negative300.bin.gz', binary=True)\n",
        "#今回のデータセットは学習済みであるため、KeyedVectors.load_word2vec_format(ファイルパス)を用いて、データを読み込む。\n",
        "#バイナリファイルを読み込む場合は，binary=Trueを指定\n",
        "\n",
        "# 学習済み単語ベクトルの取得\n",
        "VOCAB_SIZE = len(set(word2id.values())) + 1\n",
        "EMB_SIZE = 300\n",
        "weights = np.zeros((VOCAB_SIZE, EMB_SIZE))\n",
        "words_in_pretrained = 0\n",
        "for i, word in enumerate(word2id.keys()):\n",
        "  try:#KeyErrorをtry-except構文を用いて対処\n",
        "    weights[i] = model[word]\n",
        "    words_in_pretrained += 1\n",
        "  except KeyError:\n",
        "    weights[i] = np.random.normal(scale=0.4, size=(EMB_SIZE,))#np.random.normalにより、正規分布に従った乱数を生成する\n",
        "weights = torch.from_numpy(weights.astype((np.float32)))#numpy to tensorの変換\n",
        "\n",
        "print(f'学習済みベクトル利用単語数: {words_in_pretrained} / {VOCAB_SIZE}')\n",
        "print(weights.size())"
      ],
      "execution_count": null,
      "outputs": [
        {
          "output_type": "stream",
          "text": [
            "学習済みベクトル利用単語数: 9174 / 9406\n",
            "torch.Size([9406, 300])\n"
          ],
          "name": "stdout"
        }
      ]
    },
    {
      "cell_type": "code",
      "metadata": {
        "id": "sUaiR2lBbN_y"
      },
      "source": [
        "class RNN(nn.Module):\n",
        "  def __init__(self, vocab_size, emb_size, padding_idx, output_size, hidden_size, num_layers, emb_weights=None, bidirectional=False):\n",
        "    super().__init__()\n",
        "    self.hidden_size = hidden_size\n",
        "    self.num_layers = num_layers\n",
        "    self.num_directions = bidirectional + 1  # 単方向：1、双方向：2\n",
        "    if emb_weights != None:  # 指定があれば埋め込み層の重みをemb_weightsで初期化\n",
        "      self.emb = nn.Embedding.from_pretrained(emb_weights, padding_idx=padding_idx)\n",
        "    else:\n",
        "      self.emb = nn.Embedding(vocab_size, emb_size, padding_idx=padding_idx)\n",
        "    self.rnn = nn.RNN(emb_size, hidden_size, num_layers, nonlinearity='tanh', bidirectional=bidirectional, batch_first=True)\n",
        "    self.fc = nn.Linear(hidden_size * self.num_directions, output_size)\n",
        "\n",
        "  def forward(self, x):\n",
        "    self.batch_size = x.size()[0]\n",
        "    hidden = self.init_hidden()#h0のゼロベクトルを作成\n",
        "    emb = self.emb(x)\n",
        "    #emb.size() = (batch_size, seq_len, emb_size)\n",
        "    out, hidden = self.rnn(emb, hidden)\n",
        "    #out.size() = (batch_size, seq_len, hidden_size * num_directions)\n",
        "    out = self.fc(out[:, -1, :])\n",
        "    #out.size() = (batch_size, output_size)\n",
        "    return out\n",
        "\n",
        "  def init_hidden(self):\n",
        "    hidden = torch.zeros(self.num_layers * self.num_directions, self.batch_size, self.hidden_size)\n",
        "    hidden = hidden.to(device)\n",
        "    return hidden"
      ],
      "execution_count": null,
      "outputs": []
    },
    {
      "cell_type": "code",
      "metadata": {
        "id": "80Y--PBDbRCh",
        "colab": {
          "base_uri": "https://localhost:8080/"
        },
        "outputId": "812157aa-948c-4a2d-e9a6-7e670f55539f"
      },
      "source": [
        "# パラメータの設定\n",
        "VOCAB_SIZE = len(set(word2id.values())) + 1\n",
        "EMB_SIZE = 300\n",
        "PADDING_IDX = len(set(word2id.values()))\n",
        "OUTPUT_SIZE = 4\n",
        "HIDDEN_SIZE = 50\n",
        "NUM_LAYERS = 1\n",
        "LEARNING_RATE = 5e-2\n",
        "BATCH_SIZE = 32\n",
        "NUM_EPOCHS = 10\n",
        "\n",
        "# モデルの定義\n",
        "model = RNN(VOCAB_SIZE, EMB_SIZE, PADDING_IDX, OUTPUT_SIZE, HIDDEN_SIZE, NUM_LAYERS, emb_weights=weights)\n",
        "\n",
        "# 損失関数の定義\n",
        "criterion = nn.CrossEntropyLoss()\n",
        "\n",
        "# オプティマイザの定義\n",
        "optimizer = torch.optim.SGD(model.parameters(), lr=LEARNING_RATE)\n",
        "\n",
        "# デバイスの指定\n",
        "device = torch.device('cuda')\n",
        "\n",
        "# モデルの学習\n",
        "log = train_model(dataset_train, dataset_valid, BATCH_SIZE, model, criterion, optimizer, NUM_EPOCHS, collate_fn=Padsequence(PADDING_IDX), device=device)"
      ],
      "execution_count": null,
      "outputs": [
        {
          "output_type": "stream",
          "text": [
            "epoch: 1, loss_train: 1.1660, accuracy_train: 0.4043, loss_valid: 1.1818, accuracy_valid: 0.3892, 33.6797sec\n",
            "epoch: 2, loss_train: 1.1176, accuracy_train: 0.5082, loss_valid: 1.1454, accuracy_valid: 0.4948, 33.8638sec\n",
            "epoch: 3, loss_train: 1.0478, accuracy_train: 0.6029, loss_valid: 1.0889, accuracy_valid: 0.5808, 33.8887sec\n",
            "epoch: 4, loss_train: 1.1411, accuracy_train: 0.5502, loss_valid: 1.1869, accuracy_valid: 0.5217, 33.7984sec\n",
            "epoch: 5, loss_train: 1.0997, accuracy_train: 0.5817, loss_valid: 1.1633, accuracy_valid: 0.5591, 33.9352sec\n",
            "epoch: 6, loss_train: 0.9670, accuracy_train: 0.6520, loss_valid: 1.0081, accuracy_valid: 0.6280, 33.9025sec\n",
            "epoch: 7, loss_train: 0.9875, accuracy_train: 0.6308, loss_valid: 1.0434, accuracy_valid: 0.6018, 33.6871sec\n",
            "epoch: 8, loss_train: 0.9692, accuracy_train: 0.6411, loss_valid: 1.0161, accuracy_valid: 0.6205, 34.1391sec\n",
            "epoch: 9, loss_train: 0.9552, accuracy_train: 0.6502, loss_valid: 1.0192, accuracy_valid: 0.6250, 33.8488sec\n",
            "epoch: 10, loss_train: 0.9462, accuracy_train: 0.6499, loss_valid: 1.0058, accuracy_valid: 0.6287, 33.8632sec\n"
          ],
          "name": "stdout"
        }
      ]
    },
    {
      "cell_type": "code",
      "metadata": {
        "id": "6VKJrwnqb-eL",
        "colab": {
          "base_uri": "https://localhost:8080/",
          "height": 276
        },
        "outputId": "fac9b8c8-4096-425f-aca3-c069f76d34f3"
      },
      "source": [
        "# ログの可視化\n",
        "visualize_logs(log)\n",
        "\n",
        "# 正解率の算出\n",
        "_, acc_train = calculate_loss_and_accuracy(model, dataset_train, device)\n",
        "_, acc_test = calculate_loss_and_accuracy(model, dataset_test, device)\n",
        "print(f'正解率（学習データ）：{acc_train:.3f}')\n",
        "print(f'正解率（評価データ）：{acc_test:.3f}')"
      ],
      "execution_count": null,
      "outputs": [
        {
          "output_type": "display_data",
          "data": {
            "image/png": "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\n",
            "text/plain": [
              "<Figure size 1080x360 with 2 Axes>"
            ]
          },
          "metadata": {
            "tags": [],
            "needs_background": "light"
          }
        },
        {
          "output_type": "stream",
          "text": [
            "正解率（学習データ）：0.650\n",
            "正解率（評価データ）：0.633\n"
          ],
          "name": "stdout"
        }
      ]
    },
    {
      "cell_type": "markdown",
      "metadata": {
        "id": "Ucr7k-26ITRG"
      },
      "source": [
        "## 85. 双方向RNN・多層化\n",
        "順方向と逆方向のRNNの両方を用いて入力テキストをエンコードし，モデルを学習せよ．\n",
        "\n",
        "$$\n",
        "\\overleftarrow h_{T+1} = 0, \\\\\n",
        "\\overleftarrow h_t = {\\rm \\overleftarrow{RNN}}(\\mathrm{emb}(x_t), \\overleftarrow h_{t+1}), \\\\\n",
        "y = {\\rm softmax}(W^{(yh)} [\\overrightarrow h_T; \\overleftarrow h_1] + b^{(y)})\n",
        "$$\n",
        "\n",
        "ただし，$\\overrightarrow h_t \\in \\mathbb{R}^{d_h}, \\overleftarrow h_t \\in \\mathbb{R}^{d_h}$はそれぞれ，順方向および逆方向のRNNで求めた時刻$t$の隠れ状態ベクトル，${\\rm \\overleftarrow{RNN}}(x,h)$は入力$x$と次時刻の隠れ状態$h$から前状態を計算するRNNユニット，$W^{(yh)} \\in \\mathbb{R}^{L \\times 2d_h}$は隠れ状態ベクトルからカテゴリを予測するための行列，$b^{(y)} \\in \\mathbb{R}^{L}$はバイアス項である．また，$[a; b]$はベクトル$a$と$b$の連結を表す。\n",
        "\n",
        "さらに，双方向RNNを多層化して実験せよ．\n"
      ]
    },
    {
      "cell_type": "code",
      "metadata": {
        "id": "G3VBxDje-AfU",
        "colab": {
          "base_uri": "https://localhost:8080/"
        },
        "outputId": "88d4482d-b7d7-4c31-b40f-0664617a2bf4"
      },
      "source": [
        "# パラメータの設定\n",
        "VOCAB_SIZE = len(set(word2id.values())) + 1\n",
        "EMB_SIZE = 300\n",
        "PADDING_IDX = len(set(word2id.values()))\n",
        "OUTPUT_SIZE = 4\n",
        "HIDDEN_SIZE = 50\n",
        "NUM_LAYERS = 2\n",
        "LEARNING_RATE = 5e-2\n",
        "BATCH_SIZE = 32\n",
        "NUM_EPOCHS = 10\n",
        "\n",
        "# モデルの定義\n",
        "model = RNN(VOCAB_SIZE, EMB_SIZE, PADDING_IDX, OUTPUT_SIZE, HIDDEN_SIZE, NUM_LAYERS, emb_weights=weights, bidirectional=True)\n",
        "#NUM_LAYERSを指定して、多層化する\n",
        "#bidirectional=Trueとすることで双方向にする\n",
        "\n",
        "\n",
        "# 損失関数の定義\n",
        "criterion = nn.CrossEntropyLoss()\n",
        "\n",
        "# オプティマイザの定義\n",
        "optimizer = torch.optim.SGD(model.parameters(), lr=LEARNING_RATE)\n",
        "\n",
        "# デバイスの指定\n",
        "device = torch.device('cuda')\n",
        "\n",
        "# モデルの学習\n",
        "log = train_model(dataset_train, dataset_valid, BATCH_SIZE, model, criterion, optimizer, NUM_EPOCHS, collate_fn=Padsequence(PADDING_IDX), device=device)"
      ],
      "execution_count": null,
      "outputs": [
        {
          "output_type": "stream",
          "text": [
            "epoch: 1, loss_train: 1.1801, accuracy_train: 0.4010, loss_valid: 1.1839, accuracy_valid: 0.4184, 40.3803sec\n",
            "epoch: 2, loss_train: 1.1217, accuracy_train: 0.5252, loss_valid: 1.1499, accuracy_valid: 0.5150, 40.6458sec\n",
            "epoch: 3, loss_train: 1.0489, accuracy_train: 0.5977, loss_valid: 1.0766, accuracy_valid: 0.5838, 40.3283sec\n",
            "epoch: 4, loss_train: 1.0312, accuracy_train: 0.6081, loss_valid: 1.0654, accuracy_valid: 0.5876, 40.3845sec\n",
            "epoch: 5, loss_train: 1.0215, accuracy_train: 0.6145, loss_valid: 1.0454, accuracy_valid: 0.6003, 40.5997sec\n",
            "epoch: 6, loss_train: 0.9897, accuracy_train: 0.6315, loss_valid: 1.0239, accuracy_valid: 0.6153, 40.5486sec\n",
            "epoch: 7, loss_train: 1.0065, accuracy_train: 0.6265, loss_valid: 1.0496, accuracy_valid: 0.6018, 40.1450sec\n",
            "epoch: 8, loss_train: 1.0231, accuracy_train: 0.6156, loss_valid: 1.0690, accuracy_valid: 0.5853, 40.5793sec\n",
            "epoch: 9, loss_train: 0.9645, accuracy_train: 0.6441, loss_valid: 1.0054, accuracy_valid: 0.6332, 40.4781sec\n",
            "epoch: 10, loss_train: 0.9954, accuracy_train: 0.6331, loss_valid: 1.0403, accuracy_valid: 0.6078, 40.5413sec\n"
          ],
          "name": "stdout"
        }
      ]
    },
    {
      "cell_type": "code",
      "metadata": {
        "id": "Vd6Q5ZeKcPFD",
        "colab": {
          "base_uri": "https://localhost:8080/",
          "height": 276
        },
        "outputId": "882ffccc-3ad9-4bf4-c5e6-3c03538178f1"
      },
      "source": [
        "# ログの可視化\n",
        "visualize_logs(log)\n",
        "\n",
        "# 正解率の算出\n",
        "_, acc_train = calculate_loss_and_accuracy(model, dataset_train, device)\n",
        "_, acc_test = calculate_loss_and_accuracy(model, dataset_test, device)\n",
        "print(f'正解率（学習データ）：{acc_train:.3f}')\n",
        "print(f'正解率（評価データ）：{acc_test:.3f}')"
      ],
      "execution_count": null,
      "outputs": [
        {
          "output_type": "display_data",
          "data": {
            "image/png": "iVBORw0KGgoAAAANSUhEUgAAA34AAAE9CAYAAABUerD/AAAABHNCSVQICAgIfAhkiAAAAAlwSFlzAAALEgAACxIB0t1+/AAAADh0RVh0U29mdHdhcmUAbWF0cGxvdGxpYiB2ZXJzaW9uMy4yLjIsIGh0dHA6Ly9tYXRwbG90bGliLm9yZy+WH4yJAAAgAElEQVR4nOzdd3iUVdrH8e9JJw3SKUlIIQm99w4qvagoiGLBChbs77rFFcuu7tpQV0HBggUBKwgqvffeSUJCSyhpEBLSM+f94wmQQFAmzGRmkvtzXXORzDPnmXtk5JnfnKa01gghhBBCCCGEqLmcbF2AEEIIIYQQQgjrkuAnhBBCCCGEEDWcBD8hhBBCCCGEqOEk+AkhhBBCCCFEDSfBTwghhBBCCCFqOAl+QgghhBBCCFHDudi6AEsKDAzUERERti5DCCGElW3bti1Dax1k6zochVwfhRCi9rjaNbJGBb+IiAi2bt1q6zKEEEJYmVLqqK1rcCRyfRRCiNrjatdIGeophBBCCCGEEDWcBD8hhBCimimlBiml4pVSh5RSL1zlMaOVUvuVUvuUUrPK3V+qlNpZdptffVULIYRwZDVqqKcQQghh75RSzsCHwE1ACrBFKTVfa72/3GNigL8CPbTWZ5RSweVOka+1blutRQshhHB4EvyEEMLBFBcXk5KSQkFBga1LsToPDw9CQ0NxdXW1dSmW1Bk4pLVOBlBKzQZGAvvLPeYh4EOt9RkArXWapYuQ95EQQtQuEvyEEMLBpKSk4OPjQ0REBEopW5djNVprMjMzSUlJITIy0tblWFIj4Hi531OALpc9JhZAKbUOcAYma61/LzvmoZTaCpQAb2itf67sSZRSDwMPA4SHh19xXN5HQghRu8gcPyGEcDAFBQUEBATU6A/rAEopAgICakWPVCVcgBigLzAWmK6Uqld2rLHWuiNwJzBFKRVd2Qm01p9orTtqrTsGBV2584W8j4QQonaR4CeEEA6opn9Yv6CGvs5UIKzc76Fl95WXAszXWhdrrQ8DCRhBEK11atmfycBKoF1VC6mh/32vUFtepxBC/BEJfkIIIcxy9uxZPvroI7PbDRkyhLNnz1qhIoezBYhRSkUqpdyAO4DLV+f8GaO3D6VUIMbQz2SllJ9Syr3c/T2oODfQYcj7SAghqpcEPyGEEGa52gf2kpKSP2z366+/Uq9evT98TG2gtS4BHgcWAQeAuVrrfUqpV5RSI8oetgjIVErtB1YAz2utM4FmwFal1K6y+98ovxqoI5H3kRBCVC9Z3KW8vT9CcDPjJoQQolIvvPACSUlJtG3bFldXVzw8PPDz8+PgwYMkJCRw8803c/z4cQoKCnjyySd5+OGHAYiIiGDr1q3k5uYyePBgevbsyfr162nUqBHz5s2jTp06Nn5l1Udr/Svw62X3/bPczxp4puxW/jHrgVbVUaO1yftICGEL246eoaTURIfGfrg4164+MAl+FxTlweJ/QEkh3LdAwp8QQlzFG2+8wd69e9m5cycrV65k6NCh7N279+KKiZ999hn+/v7k5+fTqVMnRo0aRUBAQIVzJCYm8u233zJ9+nRGjx7NDz/8wLhx42zxcoSNyPtICFGdCktKef3Xg3yx/ggAvh4u9I4Nol9cMH3jggjwdrdtgdVAgt8Fbp5wzzz4Yphxk/AnhHAAL/+yj/0nzln0nM0b+vLS8BbX/PjOnTtXWCb//fff56effgLg+PHjJCYmXvGBPTIykrZtjT3IO3TowJEjR66/cFFl8j4SQtRkx7PyeHzWdnalZHN/j0g6Rfix/GAaK+LTWbD7JEpBm9B69G8aTL+4YFo09MXJqeYtCiXBr7zAGLhvIXwx1Ah/9/4CIc1tXZUQQtg1Ly+viz+vXLmSpUuXsmHDBjw9Penbt2+ly+i7u1/6ZtXZ2Zn8/PxqqVXYL3kfCSGsYfG+Uzz33S40MG1cBwa1rA/A4FYNMJk0+06cY/nBNJbHp/Hu0gTeWZJAkI87/eKC6N80mB5NAvHxcLXti7AQCX7lnDlfRKlHGIH3LYSZw2DmcAl/Qgi7Zk6PiqX4+PiQk5NT6bHs7Gz8/Pzw9PTk4MGDbNy4sZqrE1Uh7yMhRE1TXGriP78dZMbaw7RqVJcP72xPeIBnhcc4OSlahdalVWhdnrwxhozcQlbFp7M8Po3f9p5i7tYUXJ0VnSL8jd7ApsFEBXo57BYxEvzKFBSXMui91XSLCmDKHe3g3gVl4W+Y8bOEPyGEACAgIIAePXrQsmVL6tSpQ0hIyMVjgwYNYtq0aTRr1oy4uDi6du1qw0qFPZP3kRDCWk6czefxWdvZfuws93RrzN+HNsPdxflP2wV6uzOqQyijOoRSXGpi29EzrDiYxor4NF5beIDXFh4g3N/zYgjsEumPh+ufn9deKGPhsJqhY8eOeuvWrVVu/87ieN5ffojvJ3SjY4Q/ZCYZwz5Li8p6/qr/G1EhhLjcgQMHaNas9sxBruz1KqW2aa072qgkh1PZ9VHeR0KImmjFwTSenruTklLNG6NaMax1Q4uc93hWHivj01h+MI31SZkUlpio4+pMjyaB9GtqLBLTsJ59rCp8tWuk9PiVM6FvNN9tS+Gl+fuY/3hPnAOiy+b8lR/2KeFPCCGEEEIIe1JSauKtxQlMW5VEswa+fHRXeyIDvf684TUK8/fk7m4R3N0tgoLiUjYkZRpzAw+msfTAaQCa1ve52BvYLqye3W0XIcGvHE83F/42pBlPfLuDuVuPM7ZzOAREGyt8Xgh/98yH+i1tXaoQQgghhBACOJVdwBPfbmfLkTOM7RzOS8ObW3UIpoerM/3KAt4rWnMoLfdiCPx4dTIfrUyibh1X+sQaC8T0jg3C38vNavVcKwl+lxnWugFfbTzKm4viGdKyAXU9Xa8Mf/f+IuFPCCGEEEIIG1udkM5Tc3ZSUFzKe3e0ZWTbRtX6/EopYkJ8iAnx4ZE+0WTnF7M2MYPlB9NYlZDG/F0ncFLQNqzexd7A5g18bbJAjAS/yyileGl4c4Z/sJYpyxIurXR2IfzNHC7hTwghhBBCCBsqNWmmLE3gfysOERvsw4d3tadJsLety6JuHVeGtm7A0NbGdhG7U7MvLhDz1uIE3lqcQIivO/3ijBDYs0kgXu7VE8kk+FWiRcO63NklnC83HGVs53BiQ3yMAwHRRuC7GP7mQ/1Wti1WCCGEEEKIWiQtp4Anv93JhuRMbu8QyisjW1LH7RqHdmYkgkc98A6ybpEY20W0DatH27B6PH1TLGk5BayMT2fFwTQW7D7J7C3HcXN2okuUP33jgunfNNii8xKvqMdqZ3Zwz94Uh7e7Cy//so8KK59e6PlzrQMzR8CpPbYrUgghhBBCiFpk/aEMhry3lh3Hz/DW7W148/Y21x76TuyEaT3hfx1h91yo5t0Ngn08GN0xjKnjOrD9xZuY9VAX7u3emBNn83l1wX76vbWSjNxCqz2/BL+r8PNy49kBsaw7lMmifacrHvSPKgt/nkbPn4Q/IYS4Km9vY+jNiRMnuO222yp9TN++fbme7XhEzSfvI2Erh9JyeWdJAjPWJLN43yniT+WQV1Ri67JqnVKT5r2liYz7dBN167gw77Ge3NYh9NpPkJcFc+4GzwAIioMfH4I54yA3zXpF/wE3Fye6Rwfy96HNWfZsX1Y/34/37mhLoLe71Z5Thnr+gTs7hzNr0zFeW7ifvnFBFVcH8o+C+36BL4ZfWu2zQWvbFSuEEHauYcOGfP/997YuQzg4eR+J6qC1ZmNyFtPXJLP8YOXBINDbnXD/OjQO8CLM35PwcrdgH3ecnKp/8Y6aKiO3kKdm72TtoQxuadeI125uad68OFMpfH8/5J6C8b9Dw7aw4UNY/hp82AWGvgUtR1nvBVyD8ABPwgM8rfocEvz+gIuzE/8c3pw7p29i+upknrghpuIDLvT8fTEMvhwB98yDBm1sU6wQQlSTF154gbCwMB577DEAJk+ejIuLCytWrODMmTMUFxfz2muvMXLkyArtjhw5wrBhw9i7dy/5+fmMHz+eXbt20bRpU/Lz823xUoQNyftI2KPiUhO/7jnJ9DXJ7E09R4CXG0/fGMu4ruE4KcWxrLxLt0zjz82Hs5i3MxVTuVGD7i5OFcJgmL8njf2ND/Zhfp7XPjRRsCk5kye+3UF2fjFv3NqKMZ3CzF8Rc/lrkLwChr8PoR2M+3pMgtiB8PNEIxTunw9D3wavQMu/CDshwe9PdI8OZEir+ny48hCjOoTSsF6dig/wj7y02ueXIyX8CSFqvDFjxvDUU09d/MA+d+5cFi1axKRJk/D19SUjI4OuXbsyYsSIq16cp06diqenJwcOHGD37t20b9++Ol+CsAPyPhL25FxBMXM2H+fzdYc5kV1AdJAXr9/ailvaNaow4svPy402YfWuaF9UYiL1bP7FUHg8K4+jmec5lpXPpuRMzheVVnh8kI+7EQTLQmF4WShs7O9JkI+7TZb6tzcmk2bqqiTeXhxP4wAvZt7fmWYNfM0/0f75sPYdaH8vdLi34rGgOLh/Max/H1a+DkfWwrB3ofkIy7wIOyPB7xr8bUgzlh1I4/XfDvLB2HZXPsA/stxqnyOM1T4l/AkhqsNvL1h+nnH9VjD4jasebteuHWlpaZw4cYL09HT8/PyoX78+Tz/9NKtXr8bJyYnU1FROnz5N/fr1Kz3H6tWrmTRpEgCtW7emdWsZKm9T8j4StVTq2Xw+X3uY2VuOk1tYQtcof169uSX94oLNGqrp5uJEZKBXpSsyaq05k1fMsbIweLxcr+HG5Ex+2plaYY0RD1cnwvwuhcHwy3oOrbkxub3IOl/EM3N3sjI+neFtGvL6ra3wrsqWB+nxRo9eow4w5M3KH+PsAr2egdhB8PMEmHs3tLzNeLyn//W9EDsjwe8ahPp5MrFvNFOWJjKuSzhdogKufNCFnr8vhhnh7555xvhhIYSogW6//Xa+//57Tp06xZgxY/jmm29IT09n27ZtuLq6EhERQUFBga3LFHZO3kfCVvakZDN9TTIL95wEYFjrBjzYM4pWoXUt/lxKKfy93PD3cqNtJb2FhSWlpJ7JL9dTeCkYbkjOJO+y3sIQX/cKPYUtGtale3RAte0FZ23bjmbx+KwdZOYW8erNLRnXJbxqPaAF52D2XeDiAaO/BJc/WTQlpDk8uAzWvgur/gNH1sCwKdB0SNVeiB2qGe+QavBI72i+25rC5F/2s+CJnjhX9i2QX0RZ+Cs37FPCnxDCmv6gR8WaxowZw0MPPURGRgarVq1i7ty5BAcH4+rqyooVKzh69Ogftu/duzezZs2if//+7N27l927d1dT5aJS8j4StYDJpFkRn8b0NclsTM7C292F+3tEcF+PSBpdPpWnGrm7OBMV5E1U0JWbj2utyTxfdDEUXphXeDQrjw1Jmfy0w+gtdHN2olOkH/3igukbF0R0kLfDDRfVWjN9TTL//T2ehvXq8OOj3WnZqIpB3GQyevqyko3P43WvcfVPZ1fo839lvX8TYfZYaDMWBr0OdfyqVosdkeB3jeq4OfP3oc149JvtfLv5GOO6Nq78gRfD3zAJf0KIGqtFixbk5OTQqFEjGjRowF133cXw4cNp1aoVHTt2pGnTpn/YfuLEiYwfP55mzZrRrFkzOnToUE2VC3si7yNRHQqKS/lpRyoz1iSTlH6ehnU9+PuQZozpHIavh6uty/tDSikCvd0J9HanffiVwaOguJTtx86wMj6dlfFpvLbwAK8tPECoXx36xgXRLy6YbtEBeLrZ90f+s3lFPPfdLpYeSGNQi/r89/bW1/d3s+5dOLgABv4bInuZ375Ba3hoBax+E9a8DckrYcQHEHNT1WuyA0pX88aF1tSxY0dtzf17tNaMnb6Rg6dyWPlcX+p5ul39wWeOGuGv8JyEPyGERR04cIBmzZrZuoxqU9nrVUpt01p3tFFJDqey66O8j0RNl5lbyFcbj/LVhqNkni+iZSNfHuoVxZBWDXB1rplbWaecyWNVQjorDqazPimDvKJS3Fyc6BLpT9+4YPrFBREZ6GVXvYE7jp3h8Vk7SMsp4G9DmnFf94jrq+/QMvh6FLS8FUZ9Ctf7Wk/sgJ8mQvoBaHc3DPwXeFh+SLAlXe0aad/x384opZg8ogVD3lvDu0sSeHlky6s/2K/xlVs9NKxkYRghhBBCCGExSem5fLr2MD9sS6GwxMQNTYN5sFcUXaP87SrwWEOonyd3dWnMXV0aU1hSypbDZ1gZn8aK+DReXbCfVxdAuL8n/eKC6BsXTNeoAJttLaG15vN1R3j9twME+3jw3YTulc6BNMuZI/DDAxDczOihs8Tfd8N28MgqY9XPde9B0goY+QFE97/+c1czCX5malrfl3FdG/PVxqOM7RJO0/p/sKzshfA3s2zY590/QyNZaloIIYQQwpK01mw+nMX0NYdZeuA0bi5OjGrfiAd6RtIk2MfW5dmEu4szPWMC6RkTyD+GNed4Vh4r49NYGZ/OnK3HmbnhKO4uTnSNCrgYBCMqWZXUGrLzi/nL97v5fd8pbmwWwtu3t6Gu53UOuy3KgznjjPl9Y74GNwu+Fhd3uHEyNB0GP02Ar26BDuNhwKvg7jjvLwl+VfDMTbHM33WCl+fvZ9ZDXf742yO/xnDfQvhiKHx1s4Q/IYQQQggLKSk18eveU8xYk8zulGz8vdyYdEMM93RrTKD3n6ziWMuE+Xtyd7cI7u4WQUFxKZsPZ7EiPo1V8elM/mU//LKfyEAv+sQG0a9pMF0i/a2ydcTe1Gwe/WY7J87m8/chzXiwV+T198RqDQueNraluXMuBERbptjLhXaECWtgxb9g/f8gaRmM/BAie1vn+SxMgl8V1PN049kBcbz4815+23uKIa0a/EmDcAl/QgiL0lrX+CFLYLxOYT3yPhKOKrewhNmbj/H5uiOkns0nKtCLf93SklHtQ2vFPnfXy8PVmd6xQfSODYLhcDTzPCvj01kRn8a3m4/xxfojeLg60T068OIiMWH+ntf1nFprvt54lFcXHCDA2405j3SjQ2MLrZS5ZQbsng19/wqxAy1zzqtxrQMDXjN6/36eaOzj3flho0fQkr2MViCLu1RRqUkz7IO1nMsvZukzfa5tfPTZY8acv/yzcM9PxmaSQghhpsOHD+Pj40NAQECN/tCutSYzM5OcnBwiIyMrHJPFXcxT2fVR3kfCEZ3MzueLdUeYtekYOYUldI7056FeUdzQ1LwN18XVFRSXsiE5k1VlQfBoZh4AUUFeF7eL6Bzpj7vLtQfsnIJi/vrjHhbsPknfuCDeGd0Wf68/WCTRHEc3GNOqmtwId3wLTtW4cE9RHix7GTZNA79IuPkjaNy9+p7/Kq52jZTgdx02JWcy5pONPHVjDE/dGHttjc4eN3r+JPwJIaqouLiYlJSUWrGxtYeHB6Ghobi6Vpz7IcHPPJVdH+V9JBzJ3tRsZqxJZsHuk2hgcMv6PNQrijbXuxiI+FOHM86z4mAaKxPS2ZicSVGJCU83Z7pHB9C3LAiG+l29N3D/iXM8Nms7x7LyeHZALBN6R1supJ87CZ/0MXraHloBdWz0fjiyFn5+1Ojk6foo3PCi0TNoIxL8rOTxWdtZsv80y57t84dv+grKh7+7f4JQCX9CCGEOCX7mscX1UYjrZTJpViWkM31NMuuTMvFyc+aOzuGM7xFx7Z+5hEXlF5WyITnj4rDQ41n5AMQEe18cEtoxwh83Fye01szecpyX5u+jXh1XPhjbji5RAZYrpqTI6Ok7tQceXAYhzS137qoozIWlLxnDTgOawM1TIayzTUqR4GclJ87m0//tldzQNIQP7zJj3t7Z48abNS/LmPMn4U8IIa6ZBD/zSPATjqSguJR5O1OZseYwiWm51Pf1YHyPCO7oHE7dOjbqtTWZqncIoQPQWpNc1hu4KiGdTclZFJWa8HJzpkeTQJyU4vd9p+gVE8i7Y9pafrGdhc/Blulw22fQcpRlz309klfCvMfhXCp0fwL6/g1cPaq1BAl+VvT+skTeWZLArIe60D068NobZqcYPX8S/oQQwiwS/MwjwU/Yu5JSE0ez8vh190lmbjhCRm4RzRv48lDvSIa2aoibiw1CV2kJHFoC276AxCXG9JzWo6HFLeBlxue9WuJ8YQkbkjJZUbZlxMnsfJ66MZbH+jXB2dLzL3fOMhZW6fa4saG6vSk4B4v/AdtnQmAc3DK1Wqd3SfCzooLiUm58ZxXe7i4seKInLs5m/ONUIfz9ZCwTK4QQ4g9J8DOPBD9hL0pNmmNZeSScziHxdA4Jp3NJOJ1Dcvp5ikpNAPSLC+KhXlF0i7bRwkNnjsKOr2DH15BzErxDoOlQOLYJ0vaBkwtE32CEwLjBdr+Soy1orSksMVlnhdUTO+GzgRDayeg4cbbjTQoOLYV5T0Duaej5NPT5P2NPQCuT4Gdlv+89yYSvt/PKyBbc0y3CvMbZKcZqn3mZMO5HCOtklRqFEKKmkOBnHgl+orqZTJqUM/nEn86pEPKS0nMpLDFdfFyjenWIDfEmNsSHmBAf2ofXIyrIu/oLLi2G+N+M3r2k5cZ9MTdB+3uN7QGcy4aYntoLe+bCnu+NoXyuXtBsGLQaDVF97TuE1AR5WfBxH9Cl8PAq8A6ydUV/Lv8sLPob7PwGglsYvX8N2lj1KSX4WZnWmnGfbmJv6jlWPtcXP3OXqM1OLev5k/AnhBB/RoKfeST4CWsxmTSpZ/NJTLvUe5d4OpdDabnkF5defFzDuh7EhPgQG+Jd9qcPTYK98Xa3cVDKTILtXxpDB8+ngW8jaHc3tBsH9cKu3s5kgmPrYfdc2P8zFGSDV5Ax16zVaGO/5hq8TYpNmErh61FwdB2M/93xpkjF/w6/TDI+6/d+Hno9e+kLBQuT4FcNEk7nMPi9NYztHMZrN7cy/wQXwt/5DGPYp4Q/IYSolAQ/89j6+igcn9aaE9kFFXrvEk/nkJiWS17RpYAX4utu9N4F+xBX3wh5McHe+HjY0VYaJYVw4Bdj/tXh1aCcIXYQdLjX2AvOyczhiSWFxhzA3XMgYRGUFoJ/NLS63RgOGhBtnddR2yx9Gda+A8PfN/6uHFFeFvz+gvFeqd8Kbp4G9Vta/Gkk+FWTyfP38eWGIyx4ohfNG/qaf4LsVGO1z9x0CX9CCHEVEvzMYw/XR+EYtNacPldIwsUhmrkkpBl/5haWXHxckI+70XsXbPTeXfi5rqcdBbzLpScYYW/nLMjPgnrh0P4eaDsOfBtY5jnyzxqhcs9cOLwG0MaiHq1GQ8tbwTvYMs9T2+yfD3PvNobejnjf1tVcvwO/wIKnjfdL379Aj6ctOky42oOfUuozYBiQprW+IsoqpZoCnwPtgb9rrd8qd+wIkAOUAiXXenG3hwtbdl4x/d5eSZNgb+Y83LVqk5IrhL8fbbYHiBBC2CsJfuaxh+ujsC9aa9JzCi8Nzyw3VDOn4FLAC/ByIybEm7iyOXixZT14Zk9psZXifNg/z5i7d2yDsTBL06FGgIjqZ90tGs6dMOYC7plr7DWnnI15gK3HGDW422AuoyNKj4fp/SEoDsb/Vi2Lo1SL85nw67Ow7ydo2M7o/QtuapFT2yL49QZygS+vEvyCgcbAzcCZSoJfR611hjnPaS8XtlmbjvG3n/bwwdh2DG/TsGonOXfCGPaZmw7jfoDwLpYtUgghHJgEP/PYy/VR2E6pSbM3NZs1iemsPZTBgZM5ZOcXXzzu5+l6cQ7ehaGasSHeBFh677XqcnofbJsJu2cb8+/8o4yw1/ZO2/S6pR00AuDu7yD7GLh6QtwQYyhodH+rzfVyeAXnjNCXfwYeWQ11G9m6Isvb+yMsfBaKcqHf3429/8wdbnwZmwz1VEpFAAsqC37lHjMZyK1Jwa/UpBnxv7WcOV/E0mf74OlWxa7bcyeM1T5z0yT8CSFEORL8zGMv10dRvU5m57MmIYPViemsO5TBmTwj6LVo6Evr0HrElVtNM9DbzTZbJ1hSYS7s+9EIfKlbwdkNmo2ADvdBRE/7WGzFZILjm4wQuO8nI9B4Bhh7A7YabYzysoc67YHJZAzvjP8N7pkHkb1sXZH15KYZQz8Pr4bHNl/30OOrXSPtdc1ZDSxWSmngY631J7YuyBzOTorJI1pw+7QNTFuZxDMD4qp2It+GcN8CI/x9cxtM2gleAZYtVgghhBA1Qn5RKZsOZ7I6IYM1iekkpuUCEOzjTv+mIfSODaRHk0ACHbUX72pO7DDC3p7voSjH2DB74OvQ5g7w9Ld1dRU5OUHjbsZt0H8gaZmx0MeOr2HLDPCLMBaFaTUagmJtXa1trXsXDi6Agf+u2aEPjF7oMV/D2WOWm29aCXsNfj211qllw0GXKKUOaq1XV/ZApdTDwMMA4eHh1VnjH+oU4c/Itg2ZtjqZ2zuGEebvWbUT+TaEO2bBR11g8yfQ76+WLVQIIYQQDklrzYGTOaxJTGd1YjpbDp+hqNSEu4sTnSP9Gd0xjF6xgcSF+Dh+b97lCs7Bnu+MxVpO7gIXD2hxq7HaY1gXx+g1c3EzNoCPG2y8noMLjO0h1rwNq9809nprPcbYIsKnvq2rrV6HlsGyV43X3vVRW1dTPZQCv8bWfQp7HOppzvHy7G0oy8nsfPq/tYo+sUFMu/s69xr59k5jv5in94Gbl2UKFEIIByVDPc1jb9dHUXXpOYWsPZReNoQzg4zcQgDiQnzoHRtIr5ggOkf64+F6fXOE7JLWkLIVtn9hzIsqzoOQlsZQzla3Q516tq7QMnJOGa9v9xw4uROUE0T2NnoBmw0HjyqsGu9IzhyBT/qCTwN4cKl87q0ChxnqqZTyApy01jllPw8AXrFxWVXSoG4dHu/fhDcXxbPuUAY9mgRW/WQ9n4JPFxqbjHadaLkihRBC2IRSahDwHuAMzNBav1HJY0YDkzGmQOzSWt9Zdv+9wD/KHvaa1npmtRQtql1BcSnbjp5hdaIR9vafPAeAv5cbPZsE0ismkN6xQYT4eti4UivKP2P0hG37AtL2g6sXtLoN2t9XMzdK96kP3R41bhmJxmvfMxfmPQoLnzH2HGw9xthz0MVBVle9VkV5MGecMb9vzNcS+izMmqt6fgv0BQKB08BLgCuA1n2msecAACAASURBVHqaUqo+sBXwBUwYK4A2L3v8T2WncQFmaa3/dS3PaY/faBYUlzLg3dV4uDqxcFIvXJ2vY9ngzwZD9nGYtENWfxJC1GqO3uOnlHIGEoCbgBRgCzBWa72/3GNigLlAf631GaVUsNY6TSnlj3H97IgRCLcBHbTWZ672fPZ4fRSV01qTlJ7LqrJ5ehuTMykoNuHqrOjQ2I9eMUH0iQ2ieQNfnJxqWOApT2tj+4VtXxjbMZQUGEvet7/XCH3uPrausHppDSlbjBC470fIy4Q6ftD8Zmg3DkId9p/DS7SGnyYYPZ13zoHYgbauyGFVe4+f1nrsnxw/BYRWcugc0MYqRdmAh6sz/xjajIe/2sbXG48yvkdk1U/W82mYdTvs/cGYsCyEEMJRdQYOaa2TAZRSs4GRwP5yj3kI+PBCoNNap5XdPxBYorXOKmu7BBgEfFtNtQsLO3O+iHVJGaxOSGdNYgYnswsAiAry4o5O4fSKCaRrVABe7nY3UMvyzmfCrlnGCKeMBHD3hbZ3GXP3GtSYj4fmU8pY8TOsMwx6HZJWlG0PMQe2fQ6NOhojwpqPdNzOgS0zjO03+v5NQp+V1IJ/QWzvpuYh9IoJ5N0lCYxo07Dqe+LE3ATBLWDtFGOctzU3HRVCCGFNjYDj5X5PAS7fsycWQCm1DmM46GSt9e9XaVsDN7equYpLTew4dtZYlCUhnd2p2WgNvh4u9GgSyKQbgujZJLDqC8M5msJcSFxkbG+QsAhKiyC0M4z8CFrcLMP9LufsCrEDjFthDuyaDRunwg8PwOIXodMD0GG8Y60Ef3QD/P6CMYy19/O2rqbGkuBXDZRSvDS8OYOmrOGtxQm8fmurqp4IejwJPz0MiYshbpBlCxVCCGFPXIAYjGkTocBqpdQ1X0DsddXr2upIxvmy1Tcz2JCUSW5hCc5OirZh9Xjyhhh6xwbRulFdXK5nSogjKTpvfJbZ9xMkLIaSfPAOgY4PQPt7IKS5rSt0DO4+0Pkh47/boaWw8SNY/qqxKmjr0dBlov3/tzx3Er67F+qFwy0fS8eGFUnwqyZNgn24t3sEn607zF1dwmnZqG7VTtTyVuN/6HVTJPgJIYTjSgXCyv0eWnZfeSnAJq11MXBYKZWAEQRTMcJg+bYrL3+Csj1wPwFjjp+lChfXptSkWXrg9MXhm8ey8gAI9avDiLYN6R0TSLfoQOrWcdBheVVRlAeHllzq2SvOA69gY45ai1sgvCs41cDVSKuDk9OlXsC0A7BpGuyaYwyZjexjDAONGWh/oaqkyAh9hTlw9881Z2VWOyXBrxpNuiGGn3ekMnn+Pr6b0K1qe+o4u0K3x+H3v8CxTRB++cggIYQQDmALEKOUisQIcncAd172mJ+BscDnSqlAjKGfyUAS8G+llF/Z4wYAssmrnXnjtwNMX3MYLzdnukUH8mCvSHrHBNE4wLPm7an3R4oLjJ6ofT9B/G9QfB48A421ClrcCo27S9iztOBmMPw9uOElY3GcLTPg2zvAPwo6PwLt7rKfxXEW/Q2Ob4LbPrP/nskaQIJfNapbx5X/GxTHX37Yw/xdJxjZtopTMtrfDav+Y/T6hctcfiGEcDRa6xKl1OPAIoz5e59prfcppV4Btmqt55cdG6CU2g+UAs9rrTMBlFKvYoRHgFcuLPQi7MOJs/nMXH+UW9o14j+jWuPmYme9LNZWUmhswH0h7BXlQB1/aH270bPXuCc4y0dQq/P0h17PQPcn4MB82DjN6DhY8S+jl7Xzw+B/HYsOXq+ds2DLdKNDo+Uo29VRi1h1A/fq5gjLVZtMmpEfriM9p5Blz/ap+gpdK9+Ala/DoxuNb3aEEKIWcfTtHKqbI1wfa5K//ribH7alsvy5PoT61ZIFWkqKIGl5Wdj7FQrPGdsNNBtuhL2IXo672mRNkrINNk01/p5MpRA3xBgGGtGzevdDPLETPhsIoZ2MIZ7yRYBFXe0aWcu+grI9JyfF5BHNOXWugI9WHqr6iTo/DK6esO59yxUnhBBCiOtyOOM8c7emcGeX8Jof+kqKIHEJ/PwovNkEvh0DCb9BsxFw1w/wXCKM+ACi+0vosxehHWDUDHhqD/R61tgrceYwmNYTdnxtDM21trwsmHM3eAbAbZ9L6KtG8l/aBjo09ufWdo2YvvowozuG0TigCssUe/obq15tmQH9/w51K9sSUQghhBDVacrSBNycnXi0X7StS7GO0mI4vMroMTqwAArOgntdaDrU6NmL6gsubrauUvwZ34Zww4vQ+znY850xDHTeY7DkJeg4Hjo9CD71Lf+8plL4/n7IPQX3/w7eQZZ/DnFV0uNnI38Z3BQXZ8VrCw9U/STdHjP+3PCRZYoSQgghRJUdPHWO+btOcF+PCIJ9PGxdjuWUlhjDOOc/AW/FwNejYN88Y8+1sXPg+US4ZaqxoqSEPsfiWsfoSJi4Du6Zb2wQv/oteLcl/PAQpG637PMtfw2SV8DQt6FRB8ueW/wp6fGzkRBfD57oH8N/fj/I6oR0esdW4RuPeuHQ8jZjxabezxm9gEIIIYSwibcXJ+Dt5sIjvaNsXcr1Ky2Bo+vKevbmQ14muHlD3GCjZy/6BnCtQeG2tlMKovoYt8wk2DzdGPq5Zy6EdTHmATYdfn3DMvfPh7XvQIf7jLApqp30+NnQ/T0jiAjw5OVf9lFcaqraSXo8aSyNvGWGZYsTQgghxDXbcewMS/af5uHeUdTzdNBeL1MpHF4DC56Bd5rClyNg91xj+OaYr+H5Q8b8sKZDJfTVZAHRMPgNeGY/DHoDck/Dd/fBe21g7RRjjp650uPh54lGL9/g/1q8ZHFtpMfPhtxdnHlxWHMemLmVmeuP8GCvKnxDGNLc2JBz0zRjOVy3Gj6RXAghhLBDby9OwN/LjfE9bbg8flWYTHB8I+z9EfbPg/NpxuJxsQONnr0mN8lni9rKw9fo6ev8MCQsgo0fwdKXjJXl246FLhMgKO7Pz1NwDmbfBS4eMPorcHG3fu2iUhL8bKx/02D6xAbx3tJEbm7XiEDvKvzP0PMp+Hww7PwGOj9k+SKFEEIIcVXrkzJYeyiDfwxthndVt2mqTiYTpGw2hnHu+9lYaMPFA2IGGGEvdiC4VWHhOVEzOTlD0yHG7dReYzuIHd/A1s+MIb9dJxp/OlUykNBkMnr6spLhnnlQt4p7WAuLcIB/nWo2pRT/HN6cge+u5s3f4/nPba3NP0l4N2P89fr3ocN4WRZXCCGEqCZaa95aFE99Xw/GdW1s63KMVTdzT0POacg5aYS6iz+fhpxTkH0c8s+AszvE3FQW9gaBu7etqxf2rn5LGPkh3PgybPscNs+Ab26DgBjo8gi0GVvxfbTuXTi4AAb+GyJ72a5uAUjwswvRQd6M7xHBjLWHuatrOK1D65l3AqWgx1Mwe6zx7V3r261TqBBCCCEqWH4wje3HzvLvW1rh4epsvScqKTRC24XwlnOq8lCXl3FlW+UEXkHgHQI+DaBhO2ND9diBxnA+IczlFQi9n4fuTxpDhDd+BL8+B8tehQ73GMNDMxKN31uOgq6P2rpiASitta1rsJiOHTvqrVu32rqMKskpKKbfW6sI96/D9xO64+SkzDuByQRTu4GTK0xYY4RBIYSooZRS27TWHW1dh6Nw5OujPTOZNEM/WEteUQlLn+mDq3MV1swrzi8X6E4aQS73VLlwV3Z//pkr2yrnsjAXAt71jX3XfOpfCngX7vcKktFAwrq0hpQtRgDcPx/QxvBhv0h4cIkMHa5mV7tGyr8CdsLHw5W/DIrj+e938/POVG5tb+aG7E5O0H0SzHsUDi2DmButU6gQQgghAFi45yQHTp5jypi2lYe+rMNw7kTlQe5CwCvIvrKdk2tZeKsP/lHGlI7yQe5CwPMMMOZfCWFrShl7AIZ1huwUYzuIo+vhlmkS+uyIBD87Mqp9KF9vOsYbvx1kQIv65k8Qb3U7rPgXrJsiwU8IIYSwopJSE+8uSSA2xJvhbRpe+YDVb8HyVyve5+xW1iNX31gNMarPlb1zPg2gjl/lC2UI4QjqhsJNL9u6ClEJCX52xMlJMXl4c275aD3/W36IFwY3Ne8ELm7Q7TFY9DdI2QqhMgpKCCGEsIYft6eSnHGej+/ugPPl0zPOnTSCX5OboNujRpjzDjECnUzFEELYiHydZGfahfsxqn0on609zOGM8+afoP294FEP1r5r+eKEEEIIQWFJKe8tS6RNaF0GNA+58gEr/gWmEhjyJkT3h+Bm4OkvoU8IYVMS/OzQXwbF4ebixGsL9pvf2N3b2Mvv4EJjNSUhhBBCWNTszcdJPZvPcwPjUJeHudP7L+2r6+9gm7kLIWo0CX52KNjXgyf6N2HZwTRWxKeZf4LOj4CLO6x7z/LFCSGEELVYXlEJHyw/RJdIf3o2CbzyAUtfAjcfY6l7IYSwIxL87NT4HpFEBXrx6i/7KSoxmdfYOwjajYPdc4x5BkIIIYSwiJnrj5KRW8jzlfX2Ja+CxMXQ+1ljaKcQQtgRCX52ys3FiReHNyc54zxfrD9s/gm6PwGmUmM/FSGEEEJct+z8YqatSqJfXBAdIy4LdiYTLHkR6oYZI2+EEMLOSPCzY/3igunfNJj3lx0iLafAvMZ+EdDiFtj6OeSftUp9QgghRG3y6ZpksvOLeXZA3JUH934PJ3dB/xfB1aP6ixNCiD8hwc/OvTisOYUlpfz393jzG/d4EopyYOunli9MCCGEqEUycwv5dO1hhrZqQMtGdSseLC6AZa9C/dbGnrpCCGGHJPjZuchAL+7vGcn321JIPJ1jXuMGrSH6Btg4zbgoCSGEEKJKpq5MIr+4lKdvir3y4OZPIPsYDHhVNl4XQtgt+dfJATzSO5o6rs5MW5VsfuOeT8H5NNg1y/KFCSGEELXAyex8vtx4lFvbh9Ik2LviwbwsWFO2WXtUX1uUJ4QQ10SCnwPw93Ljjs5hzNuZSurZfPMaR/SCRh1g3fvGYi9CCCGEMMsHyw+htebJG2KuPLjmbSjMgZterv7ChBDCDBL8HMSDvaIAmLHGzF4/paDHU3DmMOyfZ4XKhBBCiJrraOZ55m45ztjO4YT5e1Y8eOaIMcyz7Z0Q0sIm9QkhxLWS4OcgGtWrw8i2jZi9+ThZ54vMa9x0KAQ0gXVTQGvrFCiEEELUQFOWJuLirHi8X5MrDy57FZQz9Pt79RcmhBBmkuDnQCb0iSK/uJSZ64+Y19DJGbpPMpaZTl5pjdKEEEKIGif+VA4/70zl3u4RBPtetkVD6nZjC4duj4FvQ9sUKIQQZpDg50BiQny4qXkIMzcc4XxhiXmN29wB3vWNXj8hhBBC/Kl3lsTj7ebChN7RFQ9oDYtfBM9AY+skIYRwABL8HMzEvtGczStm9pbj5jV0cYdujxo9fid2WKU2IYQQoqbYdfwsi/ad5sFeUfh5uVU8mLAIjq6Fvi+Ah69tChRCCDNJ8HMw7cP96BLpz4w1yRSVmMxr3GE8uNeFtdLrJ4QQQvyRtxbH4+fpyv09IyoeKC2BJf8E/2jocJ8tShNCiCqR4OeAJvaN5mR2AfN2pprX0MMXOt0PB+ZDZpJ1ihNCCCEc3MbkTNYkZvBo3yb4eLhWPLjza8iIhxsng7NrZc2FEMIuSfBzQH1ig2jWwJdpq5IwmcxcpbPLRHByhfUfWKc4IYQQwoFprXlrUTwhvu7c3a1xxYOFubDi3xDWFZoNt02BQghRRRL8HJBSiol9o0lKP8/i/afNa+wTYuw3tHMW5JjZVgghhKjhViaks/XoGZ7oH4OHq3PFgxs+hNzTMOBVY59cIYRwIBL8HNSQlvUJ9/dk6qoktLl783V/AkzFsGmqdYoTQgghHJDJZPT2hfnXYXTHsIoHc07Duveg2QgI62ybAoUQ4jpI8HNQLs5OPNw7il3Hz7IhOdO8xgHRxoVry2dQcM46BQohhBAO5vd9p9h34hxP3xiLm8tlH5FWvg6lhcbcPiGEcEAS/BzYbR1CCfR2Z+rKKizU0vMpKMyGbZ9bvjAhhBDCwZSaNG8vjicm2JuRbRtVPJgeD9u/hI73G1+eCiGEA5Lg58A8XJ15oGckaxIz2JuabV7jhu0gsg9s+AhKCq1ToBBCCOEgftqRSlL6eZ4dEIuz02Xz95ZOBjcv6PMXm9QmhBCWIMHPwd3VNRwfdxemrqpKr9/TkHsKds22fGFCCCGEgygqMTFlaQKtGtVlYIv6FQ8eWQfxvxojZbwCbVOgEEJYgAQ/B+fr4cq4bo35bc9JDmecN69xVF9o0AbWvw+mUmuUJ4QQQti9OVuOkXImn+cGxqHKr9apNSx5EXwaGtshCSGEA5PgVwOM7xGBi7MTn6xONq+hUtDjKcg8BAcXWqc4IYQQwo7lF5Xy/vJDdI7wp3fMZT16+36E1G3Q/x/g5mmbAoUQwkIk+NUAwT4e3N4hlB+2pZB2rsC8xs1Hgl8krJtifLMphBBC1CJfbjhCek7hlb19JYWw9GUIbgFt7rBZfUIIYSkS/GqIh3tHUWIy8em6w+Y1dHI29vVL3QZH1lqnOCGEEMIOnSsoZuqqJPrEBtE50r/iwS2fwtmjMOAV41ophBAOzmrBTyn1mVIqTSm19yrHmyqlNiilCpVSz112bJBSKl4pdUgp9YK1aqxJGgd4MbR1Q77ZeIzs/GLzGre9C7yCYe271ilOCCGEsEOfrjnM2bxinhsQV/FA/llY/V+I6gdNbrRNcUIIYWHW7PH7Ahj0B8ezgEnAW+XvVEo5Ax8Cg4HmwFilVHMr1VijTOgTRW5hCV9vPGpeQ1cP6DoBkpbByd3WKU4IIcRFf/YFp1LqPqVUulJqZ9ntwXLHSsvdP796K685ss4XMWNNMoNb1qdVaN2KB9e+Y4S/m16xTXFCCGEFVgt+WuvVGOHuasfTtNZbgMu7pzoDh7TWyVrrImA2MNJaddYkLRrWpU9sEJ+vO0xBsZmrdHZ8ANx8YN171ilOCCEEYNYXnHO01m3LbjPK3Z9f7v4R1VFzTTRtVRL5xaU8c1NsxQNnj8HGaca8vgatbVOcEEJYgT3O8WsEHC/3e0rZfeIaTOwbTUZuEd9tSzGvYZ160PE+YwWzM0esUZoQQgiDfMFpY6fPFTBz/RFubteImBCfigeX/8v4s9/fq78wIYSwInsMfmZRSj2slNqqlNqanp5u63JsrkukP+3C6/HJ6iRKSk3mNe76KChnWP8/6xQnhBACrv0LzlFKqd1Kqe+VUmHl7vcou+5tVErdbNVKa6gPlidi0pqnb7yst+/kLtg9B7pOhHphlTcWQggHZY/BLxUo/69taNl9ldJaf6K17qi17hgUFGT14uydUoqJfaI5npXPwj0nzWvs29AY2rLjK8iVEC2EEDb0CxChtW4NLAFmljvWWGvdEbgTmKKUiq7sBPLFaOWOZeYxe/NxxnQKI8y/3N58WsPiF6GOH/R6xnYFCiGEldhj8NsCxCilIpVSbsAdgExeN8ONzUJoEuzN1JVJaHP35uvxpLF30eaPrVOcEEKIP/2CU2udqbUuLPt1BtCh3LHUsj+TgZVAu8qeRL4YrdyUZQk4Oyme6B9T8cChZXB4FfT5P/CoW3ljIYRwYNbczuFbYAMQp5RKUUo9oJSaoJSaUHa8vlIqBXgG+EfZY3y11iXA48Ai4AAwV2u9z1p11kROTooJfaI5eCqHlQlmfssbGANNh8Lm6VCYa50ChRCidvvTLziVUg3K/ToC43qIUspPKeVe9nMg0APYXy1V1wCJp3P4eUcq93aPIMTX49IBUyks+Sf4RRiLnQkhRA3kYq0Ta63H/snxUxjfclZ27FfgV2vUVVuMaNOQdxbHM3VlEv3igs1r3PNpOLgAts+Ebo9Zp0AhhKiltNYlSqkLX3A6A59prfcppV4Btmqt5wOTlFIjgBKMFbLvK2veDPhYKWXC+PL2Da21BL9r9M6SBDzdXJjQ57LRsbu+hbR9cNvn4OJmm+KEEMLKrBb8hG25uTjxYK8oXlmwn21Hs+jQ2P/aG4d2hMY9jUVeOj0kF0EhhLCwyr7g1Fr/s9zPfwX+Wkm79UArqxdYA+1Jyea3vad48oYY/L3KXdeK8mD5a9CoI7S4xXYFCiGEldnjHD9hIXd0DqOepytTVyaZ37jn05BzAvZ8Z/nChBBCiGr21uJ46nm68mCvyIoHNn4EOSdhwKuglG2KE0KIaiDBrwbzdHPhvu4RLD2QRvypHPMaN7kBQloZG7qbzNwWQgghhLAjmw9nsSohnYl9ovHxcL10IDcd1k6BuKHQuLvtChRCiGogwa+Gu7dbBJ5uzny8ysxeP6WMFT4z4iHhd+sUJ4QQQliZ1pq3FsUT5OPOPd0iKh5c/V8ozoMbJ9ugMiGEqF4S/Go4Py83xnYOZ96uE6ScyTOvcYtboF44rH3X2N9ICCFEBUqpH5VSQ5VScj21U6sTM9h8JItJ/ZtQx8350oGMQ7D1M+hwLwTFXv0EQghRQ8iFqhZ4sFckTgpmrDlsXkNnF+g+CVI2w7EN1ilOCCEc20cYG6knKqXeUErF2bogccmF3r5QvzqM6RRe8eCyyeDiAX2vWENHCCFqJAl+tUCDunW4uW0jZm85RmZu4Z83KK/tXeAZYMyBEEIIUYHWeqnW+i6gPXAEWKqUWq+UGq+Ucv3j1sLaFu07xZ7UbJ66MRY3l3IfeY5tggO/GFMavM3c8kgIIRyUBL9a4pE+URSWmJi5/oh5Dd08ocsESFwEp2WrKCGEuJxSKgBjn70HgR3AexhBcIkNy6r1Sk2atxYnEB3kxS3tGl06oDUs/gd415e9aoUQtYoEv1qiSbAPA5qHMHPDUXILS8xr3OlBcPUyVvgUQghxkVLqJ2AN4AkM11qP0FrP0Vo/AXjbtrrabd7OVA6l5fLsgDicncpt03DgF2MKQ7+/gZuX7QoUQohqJsGvFpnQJ5rs/GJmbz5mXkNPf2Py+97v4ayZbYUQomZ7X2vdXGv9utb6ZPkDWuuOtiqqtisqMTFlaSItGvoyqEX9SwdKi2HpZAhqZkxlEEKIWkSCXy3SLtyPblEBTF+TTGFJqXmNLwyH2fCh5QsTQgjH1VwpVe/CL0opP6XUo7YsSMDcrcc5lpXHcwPjcCrf27f1c8hKgpteNhYwE0KIWkSCXy0zsW80p88VMm/HCfMa1g2FVqNh+5eQl2Wd4oQQwvE8pLU+e+EXrfUZ4CEb1lPrFRSX8sHyRDo29qNvbFC5A+dg1RsQ0QtiBtiuQCGEsBEJfrVMr5hAWjT0ZdrqJEpNZu7N1+NJY6PbzZ9YpzghhHA8zkqpi11KSilnwM2G9dR6X204yulzhTw/MI5yfzWwbgrkZcKAV6H8/UIIUUtI8KtllFJM7BtNcvp5luw/ZV7j4KYQOxg2fQxF561ToBBCOJbfgTlKqRuUUjcA35bdJ2wgp6CYj1YeoldMIF2iAi4dyE41piq0uh0atrNdgUIIYUMS/GqhwS0b0DjAk6krk9DazF6/nk9BfhZs/8o6xQkhhGP5C7ACmFh2Wwb8n00rqsU+W3uEM3nFPD8wruKBFf8GbYL+L9qmMCGEsAMS/GohZyfFI72j2ZWSzYakTPMah3eF8G6w4X/G6mhCCFGLaa1NWuupWuvbym4fa63NXD1LWMKZ80XMWJPMwBYhtA6td+nAqb2w8xvo/DD4NbZdgUIIYWMS/GqpW9s3IsjHnamrksxv3OMpyD4Oe3+0fGFCCOFAlFIxSqnvlVL7lVLJF262rqs2mrY6idyiEp4dcFlv39KXwKMu9H7ONoUJIYSduKbgp5R6UinlqwyfKqW2K6VkSSwH5uHqzAM9I1mTmMGelGzzGscMMPZAWvcemDtUVAghapbPgalACdAP+BL42qYV1UJp5wqYuf4IN7dtRGyIz6UDSSvg0FIj9NXxs12BQghhB661x+9+rfU5YADgB9wNvGG1qkS1uKtLOD4eLkwzt9fPyclY4TNtHyQusU5xQgjhGOporZcBSmt9VGs9GRhq45pqnf+tOERJqeapG2Mu3WkywZIXoV64McxTCCFquWsNfhfWPR4CfKW13lfuPuGgfDxcubtrY37de5Lk9FzzGre6DXxDYe271ilOCCEcQ6FSyglIVEo9rpS6BfC2dVG1yfGsPL7dfIzRncJoHOB16cCeuXBqD9zwEri4265AIYSwE9ca/LYppRZjBL9FSikfwGS9skR1Gd8jEldnJz5ZbeaUFGdX6P44HFsP22ZCUZ51ChRCCPv2JOAJTAI6AOOAe21aUS3z3rJElFJM6l+ut6+4AJa9Cg3aQotbbVecEELYkWsNfg8ALwCdtNZ5gCsw3mpViWoT5OPO6I6h/LA9hVPZBeY1bn8PBDSBXybBm9Ew9x7Y+wMU5linWCGEsCNlm7WP0Vrnaq1TtNbjtdajtNYbbV1bbZFbWML8nSe4o1MY9et6XDqwaRqcSzE2a3eSdeyEEAKuPfh1A+K11meVUuOAfwBmrggi7NXDvaIpNWk+W3fYvIZuXvDoJrj3F2h7JxzbCN/fD282gW/vhF1zoEDeJkKImqls24aetq6jNludkE5RqYlhrRteujMvC9a8AzEDIbK37YoTQgg743KNj5sKtFFKtQGeBWZgrFzWx1qFieoTHuDJ8DYN+WbjUR7r24S6nq7X3tjZxbiwRvaGwf+F45tg/3zYPw/iF4KzG0T1g+YjIW4wePpb74UIIUT126GUmg98B5y/cKfWWva7qQZL95/Gz9OV9uHl9u1b/SYU5cBNr9iuMCGEsEPXGvxKtNZaKTUS+J/W+lOl1APWLExUrwl9opm38wRfbTzC4+XnSZjDyRkadzduA/8Nqdtg/89GEExcBE4uENnHCIFNh4FXgGVfhBBCVD8PIBPoX+4+DUjws7KSUhPL49PoHxeMi3PZAKasZNg8HdrdDcFNbVugEELYmWsNfjlKqb9ibOPQq2wFmI0ifgAAIABJREFUMzO6hYS9a9bAl35xQXy+7ggP9Iyijpvz9Z3QyQnCOhm3Aa/BiR1GL+D+ecacwAVPQ0RPIwQ2Gw7ewZZ5IUIIUY201jLf3Ua2HT3D2bxibmwecunOZa8ai4/1+5vtChNCCDt1rcFvDHAnxn5+p5RS4cCb1itL2MLEvk0Y/fEGvtt2nHu6RVjuxEpBo/bG7cbJxvLaF0Lgwmdg4bPQuMelEOjbwHLPLYQQVqSU+hyjh68CrfX9NiinVll64DRuzk70jg0y7kjZBvt+hD5/AZ/6ti1OCCHs0DUFv7Kw9w3w/+zdd3hUZd7G8e+TDiGEFnrvhA6h9yKCIqhYABGsgNh1ddW1u8W2roooiAURERUsiAUJHaSHIiQBQq9J6C0JKc/7x4m+rCuYQCZnZnJ/rmsuycmcc+6MkGd+87Q2xpj+wEpr7WTPRpPC1qZmaVrXKM2EhdsZ0rY6wYEeWAnNGKjUzHn0fBJSE/+/CPzhEedRrV1uETgASlUr+AwiIgVn1jl/DgOuAfa7lKXIsNYyJz6Z9nXKUiI0CKyFn56E8CjoeK/b8UREvFKe3tkbY24AVgLXAzcAK4wx13kymBQ+Ywx3davDvmNpfLfhQGHcEMo3gu6PwZhlcPcqpxjMPAOzn4DXm8DEnrD0DTiSzxVHRUQKgbV2xjmPT3DayBi3c/m7bamn2Xn4DJc1yp0msPkHZ1/Z7o9DaIS74UREvFReu3T+hrOH3whr7XCgLfCU52KJW3o2LE/9CiV4Z8E2rP2f0UueFVUfuj4Co5fAvXHOsFCbA3OehjdbwISusPjfcCipcHOJ/J61kDAL3u4Ac7VyoPyXeoAmLXtYbEIyAL0aVYDsLIh9BsrWg1YjXE4mIuK98lr4BVhrU875+nA+zhUfEhBgGN2tDpuTTzJ/c8qfn+ApZetA5wdh5AK4f4OzQExgiPMm+63W8E4nWPgypCS6l1GKpgMb4KOr4LOb4OhOp0f68Da3U4lLjDEnjTEnfn0A3wJ/dTuXv4uNT6Zx5ZJULlUM1k6GQ1vgsuecLYZEROQP5bV4+9EYM9sYc4sx5hbgO+B7z8USN13VvDJVShXjnQVe8ma2dA1nzsYdsfBgPPR9CUJLwvx/wtvt4K22MO8fcHCj0xMj4gknk+Gbe5ye5+RNcMWrcM8q5wOJeX93O524xFobYa0tec6jvrV2htu5/NnhUxnE7T5K70YVIDsTFrwE1TtCgyvcjiYi4tXyVPhZax8B3gWa5T7etdbqE00/FRwYwJ1darFq51FW7Tzidpz/FlkF2o+G236AhxOdN98lysPiV2F8JxjbGmKfg/3rVARKwchMg0WvwthWsH4adLgb7lsLbe+EyKrQfoyzkuD+tW4nFRcYY64xxkSe83UpY8zVbmbyd/M3p5Jj4bLoCrBlNpw6CJ3ud+aNi4jIeeV5uGbuxPWHch9feTKUuO/GNtUpEx7CeG/p9fsjERWdN9+3zIKHt0D/16FUdWfo3bvdnPlXSXPdTim+ylrYOCO3R/kFqN0d7l4Bl/8DipX6/+d1ug+KlYHYZ10KKi57xlp7/NcvrLXHgGdczOP3YuOTqVgyjMaVS0LcRxBRCer2djuWiIjXu2Dh9/u5C+c8TubOZRA/VSwkkFs61mRuYgqJB33gf3WJKIi5FYZ/DY8kwYCxkJ0BU66FT4dqVVDJn71r4IPLYfptEBYJI76FwZ84c09/LywSuv4Fti+AbfMKPaq47o/aUU0085D0zGwWbU2ld3R5zIl9kBQLLW7S3D4RkTy4YOH3B3MXfn1EWGtLFlZIccfwDjUoHhLIhIXb3Y6SP8XLQKvhMGa5szLo9gUwrh3MfQHOnnY5nHi14/vgy5HwXk/nw4IBY2HUQqjV9cLntbkDIqs7vX45OYUSVbzGamPMa8aYOrmP14A1bofyV8u2H+bM2Wxnft+6qc7Kzy2HuR1LRMQnaGVOOa9SxUMY2rY6M9fvZ8+RM27Hyb+gUGdl0HvXQOOrnXmAb7Vxhu9p/p+c6+xpZ7Ggsa1h09fQ+SG4L875ACEg8M/PDwqFHk/AgfUQr5HwRcy9wFngM2AakA7c7WoiPxYbn0x4SCAdapeGuI+dIdhlarkdS0TEJ6jwkwu6vUstAgy8t9jHev3OVbISXPsu3DYbwss5w/cmXQkHf3E7mbgtJwfWfeoUfAtfggb9nJU6ez+T/02gm90A5Rs7PctZZz2TV7yOtfa0tfYxa22MtbaNtfYJa62GFniAtZbYhGS61o8idNciOL7b+XBGRETyRIWfXFClyGJc07IK01bt4dCpDLfjXJrq7eHO+XDVG5Ca6CzL/93DcMbLVi6VwrFrmTOk8+vRULIy3PYTXP+hs33IxQgIdArGozucBSekSDDGzDHGlDrn69LGmNluZvJXG/edIPlEhjPMM24yFCsNDfu7HUtExGeo8JM/NbJrHc5m5zBp6U63o1y6gEBofYsz/LPtSFj9obNM/6r3ICfb7XRSGI7uhM+Hw4d9nb35rnkXbo+F6u0u/dr1+jj7iS18CTJOXfr1xBeUy13JEwBr7VGgvIt5/NachGQCDPSsHgCJ30HzIc4waxERyRMVfvKn6pYvweXRFZm8bCcn0zPdjlMwipWGfi/B6CVQoYnT8zehG+xc6nYy8ZT0EzDnGWee59Y50P0J5wOA5jdCQAH9KjQGLnsOTqfC8rcL5pri7XKMMdV//cIYUxPQJGIPiI1PJqZGGUpvnQE5mRrmKSKSTyr8JE/u6l6HE+lZfLpyt9tRClaFaGep/hsmQ/oxmHSFMwfw+F63k0lBycmGNZOcnt2lr0OTQU7B1/2vEFK84O9Xra0z/Gzpm3D6UMFfX7zN34AlxpiPjTFTgIXA4y5n8jv7jqURf+AEvRtFOcM8q7aF8o3cjiUi4lNU+EmeNK9Wik51y/Le4h1kZPnZkEhjIHog3L0Suj/uDCF6qw0segUy091OJ5di+wJnLue390PZus4cz2vGO3P6PKnX05B5Gha96tn7iOustT8CMcBm4FPgYSDN1VB+aG5CMgBXlt4Dh7aot09E5CKo8JM8u6tbXVJOZvBV3D63o3hGSHHo/pizqmO9y2De32FcW6cQ1PYPvuVQEkwdDJMHQsYJuP4juPUHqNKqcO4f1cDZVHrVe86cQvFbxpg7gLk4Bd9fgI+BZ/N4bl9jzGZjTJIx5rE/+P4txphUY8y63Mcd53xvhDFma+5jRMH8NN5rTnwytcuFU2X7FxBSAhpf43YkERGfo8JP8qxT3bI0rRLJhEXbyc7x40KoVHVn6OfwmRBcHKYNhSnXQupmt5PJn0k7Cj8+Dm+3g51LoPezcPcqZx9HYwo3S/fHncWE5v+zcO8rhe1+oA2wy1rbA2gJHLvwKWCMCQTGAf2AaGCIMSb6D576mbW2Re7jvdxzywDPAO2AtsAzxpjSBfLTeKGT6Zks336YK+uHw8Yvoel1EFrC7VgiIj5HhZ/kmTGGu7rXYceh08zedNDtOJ5Xu5uz+Eu/l2HfGninI8z+G6QfdzuZ/F52JqyYAG+2hBXjnd62++Kg84MQHOZOpsgq0G4UbPhce0b6t3RrbTqAMSbUWpsINMjDeW2BJGvtdmvtWZzN3wfm8Z6XA3OstUdyVxGdA/S9iOw+YdGWQ2RmW64NWQ5ZaRrmKSJykVT4Sb5c3rgitcqF886CbdiiMPwxMMh5835vHLQcBsvGOZt9r53ibP4t7rIWtvzkFOU/PAoVm8GoxTDgTSjhBSvqd34QwkpC7HNuJxHP2Zu7j9/XwBxjzDfArjycVwXYc+51co/93iBjzAZjzHRjTLV8nusXYhOSKV08mJq7pjurMFcupCHbIiJ+xmOFnzHmA2NMijFm43m+b4wxb+bObdhgjGl1zveyz5nTMNNTGSX/AgMMo7rW5pd9x1madNjtOIUnvJyz8fvI+VC6FnxzN7zXC/audjtZ0ZWS4AzBnXq9s3Ln4E9h+DdQsYnbyf5fsdLQ+SFImgM7FrudRjzAWnuNtfaYtfZZ4CngfeDqArr8t0BNa20znF69j/JzsjFmpDFmtTFmdWpqagFFKlxZ2TnMS0xhWI1jmAProNWIwh+2LSLiJzzZ4zeJCw896QfUy32MBN4553tp58xpGOC5iHIxrmlVhfIRobyzMMntKIWvcku4/Se4diKc2O8Uf1+PcTYCl8Jx+hDMetDp5du3Bi7/F4xZDg2v8M43hO1GQURliH1GiwT5OWvtQmvtzNyhm39mH1DtnK+r5h4793qHrbUZuV++B7TO67m5579rrY2x1sZERUXl9cfwKqt3HeV4WibXmfkQGArNrnc7koiIz/JY4WetXQQcucBTBgKTrWM5UMoYU8lTeaTghAYFckeXWixNOsz6PX+6hoH/MQaa3QD3rnaG8m343Bn++fNYyMrL+z25KFkZzt54b7aENR9BmzvhvnXQYQwEhbid7vyCi0GPx50iNeFbt9OI91gF1DPG1DLGhACDgf8a4fK7NnEAkJD759lAH2NM6dxFXfrkHvM7sfHJlAzMpPq+Wc62O8X8dg0bERGPc3OO34XmKITlDk9ZbowpqCEzUoCGtK1OybAgxi/c5nYU94RG5K4auQJqdoKfnnR6oZJi3U7mX6x1CqZx7WDOU1C9PYxZBle8DMXLuJ0ub5oPhXINYO7zkJ3ldhrxAtbaLOAenIItAfjcWrvJGPO8MebXkS73GWM2GWPWA/cBt+SeewR4Aad4XAU8n3vMr1hrmZOQzN0VN2EyTmhRFxGRS+Sti7vUsNbGAEOB140xdc73RH+Yw+CLIsKCGd6hJj9uOsjmgyfdjuOusnVg6Gcw9AuwOTBlEHw6BI5sdzuZ78s4CTPugM+GQVAoDJsBN33h7JPnSwKDnE3dD2+FdVPcTiNewlr7vbW2vrW2jrX2H7nHnrbWzsz98+PW2sbW2ubW2h65K4b+eu4H1tq6uY8P3foZPGlb6il2HT7D1TmxUKY21OzsdiQREZ/mZuF33jkK1tpf/7sdWICzL9If8oc5DL7qlk41KRESxIC3lvDP7xM4crqID3Os38fpier9HOxY5PRQzX0eMk65ncw3JW+Cd7vDpi+h55MweinU7e12qovX8Eqo2hYWvAhnz7idRsTrxSakUNvsp8LROKe3zxvn8IqI+BA3C7+ZwPDc1T3bA8ettQdy5yyEAhhjygGdgHgXc8p5lCsRynf3deHKppWYuHg7XV+ez3/mbOFkeqbb0dwTFAqdH4B7VkPja2Hxv+GtNvDLdC3skVfWQtzHMLGn0+M3fCZ0fcTpNfNlxjhDg08ecPYaFJELio1P5u7In8EEOsOlRUTkknhyO4dPgWVAA2PMXmPM7caY0caY0blP+R7YDiQBE4ExuccbAatz5zTMB1601qrw81LVyxbntRtbMPuBrnSuW4435m6ly8vzmbBwG2lns92O556SleDaCXDbT85+cjNuhw/7wYENbifzbmdPw9d3wcx7oFo7GL0EanVxO1XBqdkJ6l0OS16HM343JUukwBw+lcGG3an0zV4ADfpBRAW3I4mI+DzjT5twx8TE2NWrta+am37Ze5xXf9rMwi2pREWEcm/PugxuU52QIG+dTloIcrKdDd/nPgdpR6H1LdDzKd9ZmKSwpG6Gz4c7/+3+mNPLFxDodqqCl7wJ3ukEHe+BPn93O43PMsasyZ0LLnnga+3jF6v3MPfL9xgf8rozf7p+H7cjiYj4jPO1kUX43bh4QtOqkXx0W1s+H9WBWmXDefqbTfT89wK+WL2HrOwct+O5IyAQWo+Ae+Og7ShnK4JxbTX881zrP3Pm8505DDd/5RR+/lj0AVRoDM0Hw4p34fhet9OIeKXYhGRGhC7ERlSGur3cjiMi4hdU+IlHtK1Vhs9Gteej29pSungIj0zfQJ/XF/HdhgPk5BTRYqdYKej3IoxaCKWqO8M/P7kOju50O5l7MtNg5r3w1Uio3BJGLYY6PdxO5Xk9ngAszP+X20lEvE56ZjZbtyTSzq7DtBzmvx8CiYgUMhV+4jHGGLrVj2LmPZ0YP6wVgcZw99Q4+o9dwrzEZPxpmHG+VGwKt8+Bfi/D7uXwdgdnY/Kitr/boSR4rzfETYbODzmLuJSs9Ofn+YNS1Z0N6NdPhZSEP3++SBGybNthrsqZhwFoOcztOCIifkOFn3icMYa+TSrx4wNdee2G5pzKyOK2Sau5bvwylm077HY8dwQEQrtRzubvtbs7G5NP7AH74txOVjg2zoB3u8GJ/XDTdOj9jO+v2plfXR6GkBLOlh8i8pvY+P0MDlqArd0dStdwO46IiN9Q4SeFJjDAcG2rqsx9uBv/uKYJ+46mMWTicoa9t4J1e465Hc8dkVVh8FS44WM4lQLv9YIfH/ffvf8y02HWQzD9Nmeu2+jFUO8yt1O5I7wsdLoPNn/v9PyKCDk5llPxc6hkDhPQeoTbcURE/IoKPyl0wYEB3NSuBgse6c6TVzYi/sAJrh63lDsnrybx4Am34xU+YyB6ANyzElrfCsvfhrfbw5bZbicrWEe2wwd9YPX70PFeuOU7p/AtytqPgRIVYM4zRWOhn+xM+Go07F7hdhLxUhv3H+fyjJ/ICCkNDa5wO46IiF9R4SeuCQsO5I4utVn0aA8evqw+y7cfpt8bi7l/2lp2HjrtdrzCFxYJ/V9z9v4LKQFTb4AvboGTyW4nu3TxM2FCNzi6C4ZMc7YxCAx2O5X7QsKh219hz3LY8qPbaTwrOwtm3AHrP4WD2s9S/tjSdQlcFrCGnGZDICjU7TgiIn5FhZ+4rkRoEPf2qsfiR3swulsdftqUTK/XFvLYjA3sP5bmdrzCV70djFoEPZ+ExO/hrTaw+kPI8cHtMLLOwg+Pwec3Q7l6zs/VoJ/bqbxLq+FQpg7EPufs+eiPcrLhq1EQ/zX0+Qe0vdPtROKlgjd9RrDJpli7W9yOIiLid1T4idcoVTyEv/ZtyMJHu3Nz+xp8GbeP7q8s4LlvN5F6MsPteIUrKMTZwPyun6FSM5j1AHzYD1IS3U6Wd8d2w4d9YcU70O4uuPVHLdTwRwKDoddTkJoA66e5nabg5WTD12Ng43To/ayzcb3IH9h75DQ9Tv/IwcgWENXA7TgiIn5HhZ94nfIRYTw7oDHzH+nONS2rMHnZLrq+PJ9XZidy/Eym2/EKV7m6MOJbGPg2HNoM4zvD/H86i6R4s80/wPgucGgr3DDZ2b8wKMTtVN4r+mpnH0Nf+H+bHzk58O19sGEa9HgSOj/odiLxYr8sm02dgAMEtB7udhQREb+kwk+8VpVSxXjpumbMebArvaMrMG7+Nrq8PI+35m3ldEYR2vPOGGh5E9y9ChpfAwtfcgrAnUvcTva/sjPhp6fg08HOXnWjFkL0QLdTeT9joPdzcGIvrJrodpqCYS189xCsneLMY+z2iNuJxMtFbPqEUxSnfPvBbkcREfFLKvzE69WOKsHYIS354f4utK1Vlld/2kLXl+fz/pIdpGf66ZyoP1IiCgZNhGEzIPssTLoSZt4LaUfdTuY4vs/J9PObEHO7s0l9mdpup/IdtbtBnZ6w+N+Q5uPbm1gL3z8Caz6Ezg9B98fdTiRe7sSxQ8ScXsiW8pc7ix6JiEiBU+EnPqNRpZK8NyKGL8d0pGGlCF6YFU+PVxfw6crdZGb74MInF6tubxizHDrdD2s/cRZ/+WW6u9sBbI11eiGTN8Gg953VSYPD3Mvjq3o/6xTyS99wO8nFsxZmP+H0XHa4B3o97fRoilzArvmTCDOZhLa91e0oIiJ+S4Wf+JxW1UvzyR3tmXpHOypGhvH4l7/Q+7WFfLNuHzk5RWAvNICQ4nDZ8zByAURWgxm3wyfXOdslFKbsLJj7PHwyCCIqOXmaXle4GfxJpebQ5DpY/g6cOOB2mvyzFuY87exF2e4uZ9sOFX2SB6USp5FITRq27OJ2FBERv6XCT3xWx7rl+PKujrw/IobiIUHcP20d/d5YzOxNB7FFYTNscFb8vCMW+r4Eu5Y5G7//PNYpyDztxAGYPNAZmthqONw519myQS5NzychJwsWvuh2kvyxFua94Az1bXMH9P2Xij7Jk8y9cVTL2MqmitcQGKi3JSIinqLfsOLTjDH0alSB7+7tzFtDW5KZncOoj9dw9bil/LTpIGlni8AcwIBAaD8a7l4BtbrCT0/CxB6wf63n7rl9AUzoAvvj4OrxMGAsBBfz3P2KkjK1IOZWiPvYWRXVVyx4MfdDgBHQ7xUVfZJnhxdNJN0GE9l2iNtRRET8mgo/8QsBAYb+zSrz04Ndefm6Zhw6dZaRH6+hxfM/MfyDlby/ZAdJKaf8uyewVDUYMg2u/whOJcPEnvDjE5BxquDukZPtvMGffDUUKwN3zocWerNW4Lo+6hTS815wO0neLHrF6aFsMQz6vw4Balokj86eptS2b/jRtqdD4zpupxER8WtBbgcQKUhBgQHcEFONq1tUYfn2wyzcksqCzSm8MCueF3C2iOjWIIru9aPoWLccJUL97J+AMdD4aqjdHeY+B8vHQcJMuPLfUP/yS7v2qRT48k6nt6/ZYGcBF62+5xklopyFURa+CHvXQNXWbic6vyWvw7y/O38nBrypok/yxW76mrDs08RXuoar/e33sYiIlzH+1AMSExNjV69e7XYM8UJ7jpxh0dZUFm5OZWnSIU6fzSYowBBTszTd6penW/0oGlWKwPjb8LTdy+Hb+yE10dkDsO9LEFEh/9fZuQSm3w7px+CKV6DlzRrK52kZJ+GNFlC+EYz41jtf72XjnBU8mwyCayc6w44LiTFmjbU2ptBu6OO8tX1MG9+b/fv3sqzfjwzrUNPtOCIifuF8baQ+XpMioVqZ4tzUrgY3tavB2awc1uw6ysItqSzckspLPyby0o+JlI8IpVv9KLo1iKJL3Sgiiwe7HfvSVW8PoxY72wMsehm2zXNWA205PG89Mzk5sOQ1mP8PZ0++YTOgYhPP5xYIjYBuj8IPj0LSXKjX2+1E/23Fu07RFz0Qrnm3UIs+8ROpmyl2cBWfZQ/h1uiL+EBKRETyRYWfFDkhQQF0qFOWDnXK8li/hiSfSP+tCJy96SBfrNlLgIGW1Us7hWD9KJpWiSQgwAt7XPIiKAS6PeIMAf32AacHcP00uOoNiGpw/vNOH4avRkJSrNOjc9UbTjEihaf1rU6vWuyzzubu3jKMcvUH8MMj0LC/s29joJoSuQhxk8kikITyV1IpUotDiYh4mlprKfIqlAzjhphq3BBTjazsHNbvPc7CzSks3JLKf2K38NqcLZQJD6FLvXJ0bxBFl3pRlCsR6nbs/CtXD26ZBWunOCt/vtMJujwMXR6CoN/9PLuXw/Tb4HQqXPkaxNzmnUMN/V1QCPR8Cr68AzZOh2Y3uJ0I4ibDrAeh3uVw3YcQ6Ac941L4sjLIWfcpc7JbE9O4odtpRESKBBV+IucICgygdY3StK5Rmof6NODwqQyWJB1i4WanR/CbdfsBaFol8rdhoS2rlSLIV/aeMgZa3Qz1+8Lsx53FQzbOcHrzanZy9mL7eazTw1SqGtw+Byq3cDt10dZkEPz8hrPCZ/TA/y3SC9O6qTDzPqjTC26Y7BSmIhdj8/cEpB1mWvYdPNKovNtpRESKBBV+IhdQtkQoA1tUYWCLKuTkWDbtP8HCLU5v4DsLt/HW/CQiwoLoUq8c3epH0bV+lG8MWSoRBYPec1Zi/O5BmHSFswn7qVTY8gM0ugoGjoOwSLeTSkAA9H4WpgyC1R86eza6YcMX8PUYqN0NBn8CwWHu5BD/EDeZI4HlSSoRQ+PKJd1OIyJSJKjwE8mjgABD06qRNK0ayT0963E8LZOl5/QGfv/LQQAaVoz4bW5g65qlCQ3y4kUv6vWGMcudvfmWjQMT4Kz82W6Uhnbmwf5jaUQWCybc08vQ1+kFNbs4C/S0GAphhfxGeeOXznzPmp1h8KfOHoMiF+voLuy2+UzNGUTPppX9bzVlEREvpcJP5CJFFgvmiqaVuKJpJay1bEk+xYLcuYEfLN3BhEXbKR4SSMc6ZenWoDzd60dRrUxxt2P/r5Bw6PMCtLgJsM72AXJBiQdPMHZeEt//coCOdcoy5fZ2nn3zagxc9hxM7AnL3oIeT3juXr8XPxNm3AHV2sGQaRDihX+HxbesnQLA1LNd+ZdW8xQRKTQq/EQKgDGGBhUjaFAxglHd6nA6I4tl2w6zYEsKCzanEpuQAkDtcuF0b1CeMT3qeN8CMeW1wMKf2bD3GGPnJTEnPpkSoUF0qx/Fgs3OarB9m1Ty7M2rtHbm+P38FrS5A0oUwryoxO9h+q3OvW/6AkJLeP6e4t9ysmHtFLZEtOV4TgXa1y7jdiIRkSJDhZ+IB4SHBtE7ugK9oytgrWXHodO/bRkxZfkuFmxO4eM72lGllIbM+YI1u47w5twkFm5JpWRYEA/0rsctHWtSIjSI/mOX8PfvEujeoDxhwR4e1tvzaUiYBYtegSte8ey9tvwEnw+HSs1h2HRt5SEFI2kunNzPB4FD6dYgyruHwouI+BkfWYpQxHcZY6gdVYJbO9Vi0q1tmXpnO1JPZXDdOz+TlHLK7XhyHtZaft52iCHvLmfQO8v4Zd9xHu3bgKWP9eSB3vUpVTyEoMAAnr4qmr1H05i4aLvnQ5Wr6yzCs/oDOOLB+yXNhc+GQYVoGPalFvmRghP3EZlhZfnydDN6N9IwTxGRwqTCT6SQxdQsw2cjO5CZbblhwjJ+2Xvc7UhyDmstCzancP34ZQyduIJtqad48spGLPlrD8Z0r0tE2H/vW9exTjn6NanIuAVJ7D+W5vmA3R+DwBCY9w/PXH/7Qpg2FMrVh5u/hmKlPHMfKXpOJsOWH1lXph/ZJogeDbSNg4hIYVLhJ+KC6Mol+WJ0B4oFBzJk4nKWbz/sdqQiLyfH8tOmgwwct5RbPlzF/mNpvDCwMYse7cEdXWpTPOTIv90DAAAgAElEQVT8I+OfuKIR1sK/fkj0fNCIitD+LmdD9/3rCvbaO5fCp4OhTG0Y/g0U1/wrKUDrp0JOFhNOdiKmZhlKh2sfSBGRwqTCT8QltcqFM+OujlSMDGPEByuZm5DsdqQiKTvHMmvDfq54czEjP17DsTOZvHhtUxY80oObO9TM07y9amWKM6pbHb5dv5+VO454PnSn+6FYaZj7XMFdc/dy+OR6iKzqFH3hZQvu2iLWQtxk0iu3IzY1kss0zFNEpNCp8BNxUcXIMD4f1YGGFSMY+fEavl67z+1IRUZWdg5fxu2lz38Wcs/UtWRm5/CfG5sz7+FuDG5bnZCg/P16vKtbHSpHhvHszE1k51gPpc4VFgld/gLb5sH2BZd+vT2rYMp1ULISjPi2cFYMlaJl5xI4sp2Vpa8CoLe2cRARKXQq/ERcViY8hE/ubE/bmmV44LN1TF620+1Ifu1sVg7TVu6m578X8tDn6wkODGDc0Fb89GA3rmlZlaDAi/u1WCwkkMevaET8gRN8tmpPAaf+A23ugJJVYc4zkJNz8dfZFwdTroXwck7RF1Gx4DKK/CpuMoRGMuloM+pEhVOrXLjbiUREihwVfiJeoERoEB/e2obLoivw9DebGDt3K9Z6uNeoiEnPzGbysp10f2U+j335C6WKB/Puza35/r4uXNmsEoEBl74Be/9mlWhbqwyvzE7k+JnMSw99IcFh0PNvcGAdxH99cdc4sB4+vtpZwGXEt1CycsFmFAFIOwrx33C28SAW7Tyt3j4REZeo8BPxEmHBgbxzUyuubVWFf8/Zwt+/SyDH00MGi4AzZ7N4b/F2urw8n6e/2USlUsWYdGsbvrm7E30aVySgAAq+XxljePaqxhxPy+Q/sVsK7Lrn1exGKB8N816A7HwWmgc3wuSBEFoSRsyCUtU8k1FkwxeQncGyyCvJyrGa3yci4hJt4C7iRYICA3j1uuaUDAvm/SU7OJ7mLDRyscMPi7KT6ZlMXraL95fs4Mjps3SsU5Y3BregQ+2yGFNwxd7vRVcuyZC21fl4+S6GtqtO/Qoe3Pg8IBB6PQOf3ghxHznDP/MiJQEmD4CgYjBiJpSu4bmMUrRZ6/zdrNSCLw+UpUz4IVpWL+12KhGRIkmFn4iXCQgwPHNVNKWKB/N67FZOpmfyxuCWeVpdUuD4mUw+WLqDD5fu4ER6Ft0bRHFvz7q0rlF4WxM83KcB367fz/PfxvPx7W09WmhS/3Ko3gEWvgzNh0DIn8ydSt0CHw2AgGC4ZZazdYOIp+yPg+SNZF/xb+Z/n0KfxhULZFi1iIjkn7oRRLyQMYYHetfn6f7RzN6UzO0freJURpbbsbza4VMZvPRjIp1emscbc7fSvnZZZt7TiUm3ti3Uog+cBXseuqw+S5IO8VO8h7fpMAZ6PwenkmH52xd+7uFt8JGzqiIjvoWydTybTS7IGNPXGLPZGJNkjHnsAs8bZIyxxpiY3K9rGmPSjDHrch/jCy91PsVNhqBirInoxYn0LHprmKeIiGvU4yfixW7rXIvIYsE8OmMDN723gkm3tNGmx7+TciKdCYu288mKXWRk5XBl00rc3aMujSqVdDXXsPY1mLpyN3//Lp5u9aM822NbvR00uBKWvAGtb/vjPfiO7HCKvpxMuOU7iKrvuTzyp4wxgcA44DJgL7DKGDPTWhv/u+dFAPcDK353iW3W2haFEvZiZZyCX6ZD42uYvS2NkKAAutQr53YqEZEiSz1+Il5uUOuqvHNTKxIOnODGd5eRfCLd7UheYd+xNJ76eiOdX57PpJ93ckXTSsx5sBtvDW3letEHznzNZ69qzJ4jaby3eLvnb9jracg8DYv//b/fO7rLKfoyzzibs5dv5Pk88mfaAknW2u3W2rPANGDgHzzvBeAlwPf+4W/6Cs6ewrYaTmxCMh3rlCU8VJ83i4i4RYWfiA/o07gik25tw76jaVw3/md2HT7tdiTX7Dp8mr9O30C3l+czbdVurm1ZhXkPd+O1G1pQt3wJt+P9l451y9G3cUXGzd/GgeNpnr1Z+YbQYiismgjHdv//8eN7naIv4wTc/DVUbOrZHJJXVYBzN3zcm3vsN8aYVkA1a+13f3B+LWPMWmPMQmNMFw/mvHhxk6FcfZJCG7Pr8BkN8xQRcZkKPxEf0bFOOabe2Z5T6VlcN34ZiQdPuB2pUCWlnOTBz9bR49UFfLVuHze1q86CR3rw4qBm1CjrvZtB/+3KRmRby4s/JHr+Zt0fBwzM/6fz9Yn9MKm/s4/azV9BZe8eGSj/zxgTALwGPPwH3z4AVLfWtgQeAqYaY/6nm9sYM9IYs9oYszo1NdWzgX8vJQH2roRWw5mTmAJAr0blCzeDiIj8FxV+Ij6kebVSfD6qA4HGcOOE5cTtPup2JI9LOHCCuz+J47L/LOLHjQe5vXMtljzag+cGNqFKqWJux/tT1coUZ1TX2nyzbj+rdx7x7M0iq0K7UbB+GiTNdXr6Th+CYV9Cldaevbfk1z7g3M0Tq+Ye+1UE0ARYYIzZCbQHZhpjYqy1GdbawwDW2jXANuB/Jm1aa9+11sZYa2OioqI89GOcR9zHzsqxzYcQG59M0yqRVIr0/n+vIiL+TIWfiI+pVyGCL0Z3oHTxYG6auILFWwv5k/xCsnHfcUZOXk2/NxazcEsqd3Wrw5K/9uBvV0ZTvmSY2/Hy5a7udagUGcYzMzeRnWM9e7POD0JYSZhyLZw4AMOmQ7U2nr2nXIxVQD1jTC1jTAgwGJj56zettcetteWstTWttTWB5cAAa+1qY0xU7uIwGGNqA/WAQphImkdZGbD+U2h4Jak5Eazdc0zDPEVEvIAKPxEfVK1McT4f3YEaZYtz26RV/PDLAbcjFZi1u49y26RV9B+7hOXbD3N/r3os/WtPHu3bkLIlQt2Od1GKhwTx+BWN2LT/BJ+v3vPnJ1zSzcpAj79BaEm46XOo3t6z95OLYq3NAu4BZgMJwOfW2k3GmOeNMQP+5PSuwAZjzDpgOjDaWuvh7uR8SJwFaUeg1XDmJ6ZgLfSO1jBPERG3GWs9/OlzIYqJibGrV692O4ZIoTmelsltk1axdvdRXry2GTe0qfbnJ3mpVTuP8ObcrSzeeohSxYO5o3MthnesScmwYLejFQhrLTdOWE5S6inm/6U7kcU8/HNlZ0Kgf7x2f8QYs8ZaG+N2Dl9RqO3j5IFweDvcv547p8Sxad9xlj7WE2O0cbuISGE4XxupHj8RHxZZLJiPb29Ll3pRPDpjAxMXec9or7yw1vLztkMMfncZ149fRsKBEzzeryFL/9qTe3rW85uiD8AYw9NXRXP0zFneiN3q+Rv6cdEnXuzIDti+AFrdTHq2ZfHWVHpHV1DRJyLiBTxa+BljPjDGpBhjNp7n+8YY86YxJskYsyF36epfvzfCGLM19zHCkzlFfFnxkCAmDo/hymaV+Mf3CbwyOxFv78m31rJoSyrXj1/G0Ikr2J56mqf6R7P40Z6M6lbHb/f6alIlkiFtqzN52U62Jp90O45IwVs7BUwAtBjK0qRDpGfmaH6fiIiX8PS7q0nAW8Dk83y/H86k9HpAO+AdoJ0xpgzwDBADWGCNMWamtdb/lzAUuQghQQG8ObglJcOCGTd/G8fTMnl+QBMCArzrU3ZrLfMSU3hzXhLr9xyjUmQYzw9szA0x1QgLDnQ7XqH4S58GzFq/n+dnxTP5trbqCRH/kZ0F6z6Bur0hsiqxczdQIjSIdrXLuJ1MRETwcOFnrV1kjKl5gacMBCZbp3tiuTGmlDGmEtAdmPPrZHVjzBygL/CpJ/OK+LLAAMM/r2lCZLFgxi/cxom0LP59Q3OCA90f0Z2TY/kpPpmx87ayaf8JqpYuxj+vacqg1lUIDSoaBd+vyoSH8OBl9Xnu23jmxCfTp3FFtyOJFIykWDh5AK54hZwcS2xCCt3qRxW5f+MiIt7K7fFUVYBzl7jbm3vsfMf/hzFmJDASoHr16p5JKeIjjDE81q8hkcWCeenHRE6mZ/L2Ta0pFuLOG6/sHMsPGw8wdm4Sm5NPUrNscV65rhlXt6ziFQWpW4a1r8HUFbv5+3cJdK0fVWR6O8XPxX0E4eWhfl827DtO6skMreYpIuJFfP6dl6sb1Ip4qbu61+Gf1zRlwZZURnywkhPpmYV6/6zsHL5eu48+/1nIPVPXkpWTw+s3tiD2oW5cH1OtSBd9AMGBATxzVWN2HznD+0t2uB1H5NKdOABbZkOLoRAYTGx8MoEBhh4NVPiJiHgLt3v89gHnrj9fNffYPpzhnuceX1BoqUT8wNB21YkIC+Khz9cxeMJyJt/elnIe3gcvM7fgGzc/iZ2Hz9CgQgRvDW1JvyaVCPSy+YZu61yvHJc3rsC4+UkMalWVipG+tSm9yH9ZPxVsNrQaDkBsQjIxNUpTqniIy8FERORXbn/sPhMYnru6Z3vguLX2AM6Gtn2MMaWNMaWBPrnHRCQfrmpemYnDY9h+6BQ3jF/GvmNpHrnP2awcpq7YTY9XF/DI9A2EhwYxflhrfri/C/2bVVbRdx5PXhlNVo7lxR8S3I4icvFyciDuY6jRGcrWYc+RMyQePMll0VrNU0TEm3h6O4dPgWVAA2PMXmPM7caY0caY0blP+R7YDiQBE4ExALmLurwArMp9PP/rQi8ikj/dG5Rnyu3tSD2VwXXv/ExSyqkCu3Z6ZjaTl+2k+yvzeeKrXyhbIpT3R8Qw697O9G1S0etWFfU21coUZ2SX2ny9bj9rdhWNX3G7D58hO8e7txuRfNq5GI7ugNbOzkuxCckA9NI2DiIiXsXTq3oO+ZPvW+Du83zvA+ADT+QSKWpiapbhs5EdGP7BCm6YsIzJt7WlSZXIi75e2tlspq7czYSF20g5mUFMjdK8OKgZXeqV0/YE+TSmRx2mr9nLszPj+ebuTn5dLC/ffpg7P1rNLZ1q8nCfBm7HkYISNxnCIqHRVYBT+NUtX4Ja5cJdDiYiIudye6iniBSS6Mol+WJ0R4oFBzL43eWs2H4439c4nZHFhIXb6PLyPF6YFU/tqHCm3tmOL0Z3oGv9KBV9F6F4SBCPX9GQX/Yd54s1e/78BB/148YDDP9gJRUiwxjcVisw+40zRyBhJjS7EYKLcSI9kxXbj2jTdhERL6TCT6QIqVUunOl3daBiZBjDP1jJvMTkPJ13Mj2TcfOT6PzSPP71QyKNKpXki9EdmDayAx3rqJfvUg1oXpmYGqV5+cfNHE8r3BVYC8OU5bu465M4GlcuyRejOlClVDG3I0lB2fAZZJ/9bVGXhZtTycqx9G6k1TxFRLyNCj+RIqZSZDE+H9WBBhUjGDl5Dd+s23fe5x4/k8l/5myh04vzeGX2ZlpWL81XYzry8e3taFOzTCGm9m/GGJ4d0JgjZ87y5tytbscpMNZa/jNnC09+vZEeDcoz9Y72lA7XKo9+w1pnmGflVlCxKeAM8ywTHkLL6qVdDiciIr/n9nYOIuKCMuEhfHJHO+6cvJoHPlvHibRMbu5Q87fvHzl9lveXbOejn3dxKiOLPtEVuLdnPZpWvfh5gXJhTapEMrhNNT76eSdD2lajbvkItyNdkuwcy5Nfb+TTlbu5rnVV/nVt0yK/f6Pf2bcGUuKh/+uAs53L/MQU+jSuqJV8RUS8kAo/kSIqIiyYSbe25Z6pa3nqm00cO5PJ4LbVeW/xdj5evou0zGyuaFKJe3rWpVGlkm7HLRL+0qcBszYc4PlZCXx0axufHUKbnpnN/dPWMntTMmO61+GRyxv47M8iFxD3EQQXhyaDAFi18wgn0rM0v09ExEup8BMpwsKCAxk/rBWPTt/Av+ds4c15W8nOsVzVvDL39KhLvQq+3evka8qWCOXB3vV5flY8cxNS6O2D+6AdT8vkzo9Ws3LnEZ7uH81tnWu5HUk8IeMk/DIDmlwLYc4HQ7HxKYQEBdClXjmXw4mIyB9R4SdSxAUFBvDq9c2pUroYqSczGNm1NrWjSrgdq8i6uUMNPl25mxe+i6dL/XKEBgW6HSnPkk+kM+KDlWxLPcWbQ1oyoHlltyOJp2z8EjJPQytn7z5rLXMSDtKpTlnCQ/XWQkTEG2nChYgQEGB4uE8DXhzUTEWfy4IDA3j6qmh2HT7D+0t2uB0nz7alnuLat39mz5EzfHhLWxV9/i5uMkQ1hKptANiacoo9R9J8spdaRKSoUOEnIuJlutSL4rLoCrw1L4nkE+lux/lTa3cf5bp3fiYjK5tpIzvQWUP9/FvyJti32tnCIXfu5px4Z2uYXg1V+ImIeCsVfiIiXujJKxuRlW156YdEt6Nc0PzNKQyduIKIsGCmj+6olV+LgrjJEBgCzQb/dig2IZlmVSOpGBnmYjAREbkQFX4iIl6oRtlw7uxaiy/X7mPNrqNux/lDM9bs5c6PVlOrXDjT7+pAzXLhbkcST8tMh/XToGF/CC8LQMrJdNbtOabVPEVEvJwKPxERLzWme10qlAzluW83kZNj3Y7zX95dtI2Hv1hP21pl+GxUe8pHqKenSEicBenHnGGeueYnpmAtKvxERLycCj8RES8VHhrE4/0asWHvcaav2et2HABycix/nxXPP79P5Mpmlfjw1jZEhAW7HUsKy5pJUKoG1Or226E58SlUKVWMRpW0/YuIiDdT4Sci4sUGtqhM6xqleXl2IifSM13NcjYrh4c+X8d7S3YwokMNxg5u6VPbTcglOrwNdi6GVjdDgPP2Ie1sNkuSUundqDwmd6EXERHxTir8RES8mDGGZ69qzOHTZxk7d6trOU5nZHH7R6v4et1+Hrm8Ac8OaExAgN7oFylrp4AJgBY3/XZoadIh0jNztI2DiIgPUOEnIuLlmlaN5MaYany4dCdJKacK/f6HT2UwdOJyliYd4qVBTbm7R1317hQ12Vmw7hOo1wdK/v8ejbEJyZQIDaJdrbIuhhMRkbxQ4Sci4gP+cnkDioUE8sKseKwtvIVe9hw5w3Xjl5F48CTv3hzDjW2qF9q9xYtsnQ2nkqHViN8O5eRYYhNS6NYgipAgvZ0QEfF2+k0tIuIDypUI5f5e9Vi4JZV5iSmFcs/4/Se49p2fOXL6LFPvbKfhfEVZVEPo/JDT45dr/d5jHDqVwWVazVNExCeo8BMR8REjOtakTlQ4L8yKJyMr26P3WrbtMDdOWEZQgGH66A60rlHGo/cTL1e2DvR+BgKDfjsUm5BMYIChe4MoF4OJiEheqfATEfERwYEBPHNVY3YePsOHS3d67D4//HKAER+spGJkGDPu6ki9ClqmX/5XbHwKMTVKU6p4iNtRREQkD1T4iYj4kK71o+jdqAJj524l5UR6gV//4+W7GDM1jqZVI/lidAcqlypW4PcQ37fnyBk2J5/kMg3/FRHxGSr8RER8zFP9G5GZbXnxx8QCu6a1ltfmbOGprzfSs0F5ptzeTj05cl6xCckA9NL8PhERn6HCT0TEx9QoG87tXWrxZdw+1u4+esnXy8rO4YmvNvLm3K3cEFOVCTe3pliINmaX84tNSKZu+RLUKhfudhQREckjFX4iIj7o7h51KR8RyrMzN5GTc/HbO6RnZjPmkzg+Xbmbu3vU4aVBzQgKVNMg53c8LZMV24/QW719IiI+Ra27iIgPKhEaxONXNGT93uPMiNt7Udc4npbJ8PdXMichmWeviuaRyxtqY3b5Uwu3pJKVY7ksurzbUUREJB9U+ImI+KirW1ShVfVSvPTjZk6mZ+br3IPH07lh/DLW7jnK2CEtuaVTLQ+lFH8TG59M2fAQWlQr7XYUERHJBxV+IiI+yhjDswMac/h0BmPnJeX5vKSUUwx652f2HUtj0q1t6d+ssgdTij/JzM5h/uYUejYsT2CAeodFRHyJCj8RER/WrGoprm9dlQ+X7mB76qk/ff7a3Ue5fvzPZGRlM21kezrVLVcIKcVfrNpxhJPpWfTWNg4iIj5HhZ+IiI975PKGhAUF8sKs+As+b/7mFIZOXEHJYsHMuKsjTapEFlJC8RdzEpIJCQqgSz19YCAi4mtU+ImI+LioiFDu712P+ZtTmZeY/IfPmbFmL3d8tJo65cOZProjNcpqGX7JH2stsQnJdK5bjuIhQW7HERGRfFLhJyLiB4Z3qEntqHBemJXA2ayc345ba5mwcBsPf7Ge9rXLMG1kB6IiQl1MKr5qS/Ip9hxJ0zYOIiI+SoWfiIgfCAkK4On+0ew4dJoPl+4AICfH8vfvEvjXD4n0b1aJD25pQ4lQ9dTIxYlNcHqTezXSNg4iIr5IhZ+IiJ/o3qA8vRqWZ+y8JPYdS+PBz9fx/pId3NKxJm8ObkloUKDbEeUcxpi+xpjNxpgkY8xjF3jeIGOMNcbEnHPs8dzzNhtjLi+MvHPik2leNZIKJcMK43YiIlLAVPiJiPiRp/pHczYrh77/WcQ36/bzaN8GPHNVNAFaet+rGGMCgXFAPyAaGGKMif6D50UA9wMrzjkWDQwGGgN9gbdzr+cxKSfTWbfnmIZ5ioj4MBV+IiJ+pGa5cEZ2rc2ZzGxevq4ZY7rXxRgVfV6oLZBkrd1urT0LTAMG/sHzXgBeAtLPOTYQmGatzbDW7gCScq/nMfMTUwC0jYOIiA/TZA8RET/zcJ/63NqpJmVLaBEXL1YF2HPO13uBduc+wRjTCqhmrf3OGPPI785d/rtzq/z+BsaYkcBIgOrVq19S2GtbVaVm2XAaVoy4pOuIiIh71OMnIuJnjDEq+nycMSYAeA14+GKvYa1911obY62NiYqKuqQ8wYEBtKtdVr3HIiI+TD1+IiIihW8fUO2cr6vmHvtVBNAEWJBbbFUEZhpjBuThXBERkf+hHj8REZHCtwqoZ4ypZYwJwVmsZeav37TWHrfWlrPW1rTW1sQZ2jnAWrs693mDjTGhxphaQD1gZeH/CCIi4kvU4yciIlLIrLVZxph7gNlAIPCBtXaTMeZ5YLW1duYFzt1kjPkciAeygLuttdmFElxERHyWCj8REREXWGu/B77/3bGnz/Pc7r/7+h/APzwWTkRE/I6GeoqIiIiIiPg5FX4iIiIiIiJ+ToWfiIiIiIiIn1PhJyIiIiIi4udU+ImIiIiIiPg5FX4iIiIiIiJ+zlhr3c5QYIwxqcCuS7xMOeBQAcQpSvSa5Z9es/zR65V//v6a1bDWRrkdwleofXSNXrP802uWf3rN8s/fX7M/bCP9qvArCMaY1dbaGLdz+BK9Zvmn1yx/9Hrln14zKWj6O5V/es3yT69Z/uk1y7+i+pppqKeIiIiIiIifU+EnIiIiIiLi51T4/a933Q7gg/Sa5Z9es/zR65V/es2koOnvVP7pNcs/vWb5p9cs/4rka6Y5fiIiIiIiIn5OPX4iIiIiIiJ+ToVfLmNMX2PMZmNMkjHmMbfzeDtjTDVjzHxjTLwxZpMx5n63M/kKY0ygMWatMWaW21l8gTGmlDFmujEm0RiTYIzp4HYmb2eMeTD33+VGY8ynxpgwtzOJb1MbmT9qIy+O2sf8UxuZP0W9fVThh/OLBhgH9AOigSHGmGh3U3m9LOBha2000B64W69Znt0PJLgdwoe8AfxorW0INEev3QUZY6oA9wEx1tomQCAw2N1U4svURl4UtZEXR+1j/qmNzCO1jyr8ftUWSLLWbrfWngWmAQNdzuTVrLUHrLVxuX8+ifOLpoq7qbyfMaYqcCXwnttZfIExJhLoCrwPYK09a6095m4qnxAEFDPGBAHFgf0u5xHfpjYyn9RG5p/ax/xTG3lRinT7qMLPUQXYc87Xe9Ev6DwzxtQEWgIr3E3iE14HHgVy3A7iI2oBqcCHucN/3jPGhLsdyptZa/cBrwK7gQPAcWvtT+6mEh+nNvISqI3MM7WP+ac2Mh/UPqrwk0tkjCkBzAAesNaecDuPNzPG9AdSrLVr3M7iQ4KAVsA71tqWwGlA84suwBhTGqc3phZQGQg3xgxzN5VI0aQ2Mm/UPl40tZH5oPZRhd+v9gHVzvm6au4xuQBjTDBOg/aJtfZLt/P4gE7AAGPMTpyhUj2NMVPcjeT19gJ7rbW/flI+HaeRk/PrDeyw1qZaazOBL4GOLmcS36Y28iKojcwXtY8XR21k/hT59lGFn2MVUM8YU8sYE4Iz0XOmy5m8mjHG4IwpT7DWvuZ2Hl9grX3cWlvVWlsT5+/YPGttkfqkKb+stQeBPcaYBrmHegHxLkbyBbuB9saY4rn/Tnuhyf5yadRG5pPayPxR+3hx1EbmW5FvH4PcDuANrLVZxph7gNk4K/x8YK3d5HIsb9cJuBn4xRizLvfYE9ba713MJP7pXuCT3Dec24FbXc7j1ay1K4wx04E4nJUF1wLvuptKfJnayIuiNlIKi9rIPFL7CMZa63YGERERERER8SAN9RQREREREfFzKvxERERERET8nAo/ERERERERP6fCT0RERERExM+p8BMREREREfFzKvxE/JwxprsxZpbbOURERLyN2kgpSlT4iYiIiIiI+DkVfiJewhgzzBiz0hizzhgzwRgTaIw5ZYz5jzFmkzFmrjEmKve5LYwxy40xG4wxXxljSucer2uMiTXGrDfGxBlj6uRevoQxZroxJtEY84kxxrj2g4qIiOST2kiRS6fCT8QLGGMaATcCnay1LYBs4CYgHFhtrW0MLASeyT1lMvBXa20z4Jdzjn8CjLPWNgc6Agdyj7cEHgCigdpAJ4//UCIiIgVAbaRIwQhyO4CIANALaA2syv2gsRiQAuQAn+U+Zwrwf+3bIYsWURQG4Pe1CKIoBotBf4XN/2BYi7CI2V8gaPFXaDQL2gXDwiaTyWjaZBFRQRE5hp2gNtdv18/hedLMmcthbrgcztw7z9qeT3JhZvaW+JMkT9ueS3J5Zp4nycx8SZIl36uZOVjuXye5mmT/+KcFAH9NjYQN0PjBdmiSJzNz75dg++C3cXPE/F9/uv4eax+A/4caCRvgqCdsh5dJdtpeSpK2F9teyeEa3RzKIugAAACzSURBVFnG3EqyPzMfkrxve32J7ybZm5mPSQ7a3lhynG575kRnAQCbp0bCBviiAVtgZt60vZ/kRdtTSb4luZvkc5Jry7N3OfzHIUluJ3m0FK23Se4s8d0kj9s+XHLcPMFpAMDGqZGwGZ056q44cNzafpqZs//6PQBg26iR8Gcc9QQAAFg5O34AAAArZ8cPAABg5TR+AAAAK6fxAwAAWDmNHwAAwMpp/AAAAFZO4wcAALByPwDEJ0Fapt/rJwAAAABJRU5ErkJggg==\n",
            "text/plain": [
              "<Figure size 1080x360 with 2 Axes>"
            ]
          },
          "metadata": {
            "tags": [],
            "needs_background": "light"
          }
        },
        {
          "output_type": "stream",
          "text": [
            "正解率（学習データ）：0.633\n",
            "正解率（評価データ）：0.609\n"
          ],
          "name": "stdout"
        }
      ]
    },
    {
      "cell_type": "markdown",
      "metadata": {
        "id": "TIcy8hdzP8S3"
      },
      "source": [
        "## 86. 畳み込みニューラルネットワーク (CNN)\n",
        "ID番号で表現された単語列$\\boldsymbol x = (x_1, x_2, \\dots, x_T)$がある．ただし，$T$は単語列の長さ，$x_t \\in \\mathbb{R}^{V}$は単語のID番号のone-hot表記である（$V$は単語の総数である）．畳み込みニューラルネットワーク（CNN: Convolutional Neural Network）を用い，単語列$\\boldsymbol x$からカテゴリ$y$を予測するモデルを実装せよ．\n",
        "\n",
        "ただし，畳み込みニューラルネットワークの構成は以下の通りとする．\n",
        "\n",
        "+ 単語埋め込みの次元数: $d_w$\n",
        "+ 畳み込みのフィルターのサイズ: 3 トークン\n",
        "+ 畳み込みのストライド: 1 トークン\n",
        "+ 畳み込みのパディング: あり\n",
        "+ 畳み込み演算後の各時刻のベクトルの次元数: $d_h$\n",
        "+ 畳み込み演算後に最大値プーリング（max pooling）を適用し，入力文を$d_h$次元の隠れベクトルで表現\n",
        " すなわち，時刻$t$の特徴ベクトル$p_t \\in \\mathbb{R}^{d_h}$は次式で表される．\n",
        "\n",
        "$$\n",
        "p_t = g(W^{(px)} [\\mathrm{emb}(x_{t-1}); \\mathrm{emb}(x_t); \\mathrm{emb}(x_{t+1})] + b^{(p)})\n",
        "]\n",
        "$$\n",
        "\n",
        "ただし，$W^{(px)} \\in \\mathbb{R}^{d_h \\times 3d_w}, b^{(p)} \\in \\mathbb{R}^{d_h}$はCNNのパラメータ，$g$は活性化関数（例えば$\\tanh$やReLUなど），$[a; b; c]$はベクトル$a, b, c$の連結である．なお，行列$W^{(px)}$の列数が$3d_w$になるのは，3個のトークンの単語埋め込みを連結したものに対して，線形変換を行うためである．\n",
        "最大値プーリングでは，特徴ベクトルの次元毎に全時刻における最大値を取り，入力文書の特徴ベクトル$c \\in \\mathbb{R}^{d_h}$を求める．$c[i]$でベクトル$c$の$i$番目の次元の値を表すことにすると，最大値プーリングは次式で表される．\n",
        "\n",
        "$$\n",
        "c[i] = \\max_{1 \\leq t \\leq T} p_t[i]\n",
        "$$\n",
        "\n",
        "最後に，入力文書の特徴ベクトル$c$に行列$W^{(yc)} \\in \\mathbb{R}^{L \\times d_h}$とバイアス項$b^{(y)} \\in \\mathbb{R}^{L}$による線形変換とソフトマックス関数を適用し，カテゴリ$y$を予測する．\n",
        "\n",
        "$$\n",
        "y = {\\rm softmax}(W^{(yc)} c + b^{(y)})\n",
        "$$\n",
        "\n",
        "なお，この問題ではモデルの学習を行わず，ランダムに初期化された重み行列で$y$を計算するだけでよい．"
      ]
    },
    {
      "cell_type": "code",
      "metadata": {
        "id": "2HmgMUq9-A-L"
      },
      "source": [
        "from torch.nn import functional as F\n",
        "\n",
        "class CNN(nn.Module):\n",
        "  def __init__(self, vocab_size, emb_size, padding_idx, output_size, out_channels, kernel_heights, stride, padding, emb_weights=None):\n",
        "    super().__init__()\n",
        "    if emb_weights != None:  #指定があれば埋め込み層の重みをemb_weightsで初期化\n",
        "      self.emb = nn.Embedding.from_pretrained(emb_weights, padding_idx=padding_idx)\n",
        "    else:\n",
        "      self.emb = nn.Embedding(vocab_size, emb_size, padding_idx=padding_idx)\n",
        "    self.conv = nn.Conv2d(1, out_channels, (kernel_heights, emb_size), stride, (padding, 0))\n",
        "    #https://pytorch.org/docs/stable/generated/torch.nn.Conv2d.html\n",
        "    self.drop = nn.Dropout(0.3)\n",
        "    #https://pytorch.org/docs/stable/generated/torch.nn.Dropout.html\n",
        "    self.fc = nn.Linear(out_channels, output_size)\n",
        "\n",
        "  def forward(self, x):\n",
        "    #x.size() = (batch_size, seq_len)\n",
        "    emb = self.emb(x).unsqueeze(1)\n",
        "    #emb.size() = (batch_size, 1, seq_len, emb_size)\n",
        "    conv = self.conv(emb)\n",
        "    #conv.size() = (batch_size, out_channels, seq_len, 1)\n",
        "    act = F.relu(conv.squeeze(3))\n",
        "    #act.size() = (batch_size, out_channels, seq_len)\n",
        "    max_pool = F.max_pool1d(act, act.size()[2])\n",
        "    #max_pool.size() = (batch_size, out_channels, 1) -> seq_len方向に最大値を取得\n",
        "    out = self.fc(self.drop(max_pool.squeeze(2)))\n",
        "    #out.size() = (batch_size, output_size)\n",
        "    return out"
      ],
      "execution_count": null,
      "outputs": []
    },
    {
      "cell_type": "code",
      "metadata": {
        "id": "JtzTpvXFcTRW",
        "colab": {
          "base_uri": "https://localhost:8080/"
        },
        "outputId": "2380743e-cbbd-4f70-d0f9-bbfd216c5d2c"
      },
      "source": [
        "# パラメータの設定\n",
        "VOCAB_SIZE = len(set(word2id.values())) + 1\n",
        "EMB_SIZE = 300\n",
        "PADDING_IDX = len(set(word2id.values()))\n",
        "OUTPUT_SIZE = 4\n",
        "OUT_CHANNELS = 100\n",
        "KERNEL_HEIGHTS = 3\n",
        "STRIDE = 1 #ストライドは畳み込みの適用間隔\n",
        "PADDING = 1\n",
        "\n",
        "# モデルの定義\n",
        "model = CNN(VOCAB_SIZE, EMB_SIZE, PADDING_IDX, OUTPUT_SIZE, OUT_CHANNELS, KERNEL_HEIGHTS, STRIDE, PADDING, emb_weights=weights)\n",
        "\n",
        "# 先頭10件の予測値取得\n",
        "for i in range(10):\n",
        "  X = dataset_train[i]['inputs']\n",
        "  print(torch.softmax(model(X.unsqueeze(0)), dim=-1))"
      ],
      "execution_count": null,
      "outputs": [
        {
          "output_type": "stream",
          "text": [
            "tensor([[0.2945, 0.2505, 0.2181, 0.2369]], grad_fn=<SoftmaxBackward>)\n",
            "tensor([[0.2637, 0.2729, 0.2286, 0.2347]], grad_fn=<SoftmaxBackward>)\n",
            "tensor([[0.2621, 0.2685, 0.2382, 0.2313]], grad_fn=<SoftmaxBackward>)\n",
            "tensor([[0.3023, 0.2738, 0.2267, 0.1971]], grad_fn=<SoftmaxBackward>)\n",
            "tensor([[0.2500, 0.3028, 0.2219, 0.2254]], grad_fn=<SoftmaxBackward>)\n",
            "tensor([[0.2707, 0.2402, 0.2487, 0.2404]], grad_fn=<SoftmaxBackward>)\n",
            "tensor([[0.2636, 0.2830, 0.2197, 0.2337]], grad_fn=<SoftmaxBackward>)\n",
            "tensor([[0.2414, 0.2810, 0.2367, 0.2409]], grad_fn=<SoftmaxBackward>)\n",
            "tensor([[0.2788, 0.2452, 0.2654, 0.2106]], grad_fn=<SoftmaxBackward>)\n",
            "tensor([[0.2734, 0.2710, 0.2390, 0.2167]], grad_fn=<SoftmaxBackward>)\n"
          ],
          "name": "stdout"
        },
        {
          "output_type": "stream",
          "text": [
            "/usr/local/lib/python3.7/dist-packages/torch/nn/functional.py:652: UserWarning: Named tensors and all their associated APIs are an experimental feature and subject to change. Please do not use them for anything important until they are released as stable. (Triggered internally at  /pytorch/c10/core/TensorImpl.h:1156.)\n",
            "  return torch.max_pool1d(input, kernel_size, stride, padding, dilation, ceil_mode)\n"
          ],
          "name": "stderr"
        }
      ]
    },
    {
      "cell_type": "markdown",
      "metadata": {
        "id": "4lHrJE0yQs3u"
      },
      "source": [
        "## 87. 確率的勾配降下法によるCNNの学習\n",
        "確率的勾配降下法（SGD: Stochastic Gradient Descent）を用いて，問題86で構築したモデルを学習せよ．訓練データ上の損失と正解率，評価データ上の損失と正解率を表示しながらモデルを学習し，適当な基準（例えば10エポックなど）で終了させよ"
      ]
    },
    {
      "cell_type": "markdown",
      "metadata": {
        "id": "Cx9I4kilH6WK"
      },
      "source": [
        "前問と同様の方法で、確率勾配降下法によるCNNの学習を行う。"
      ]
    },
    {
      "cell_type": "code",
      "metadata": {
        "id": "X0ZnTSnt-Bgx",
        "colab": {
          "base_uri": "https://localhost:8080/"
        },
        "outputId": "fe77ed58-df5e-466c-dc4e-e61c2661dc53"
      },
      "source": [
        "# パラメータの設定\n",
        "VOCAB_SIZE = len(set(word2id.values())) + 1\n",
        "EMB_SIZE = 300\n",
        "PADDING_IDX = len(set(word2id.values()))\n",
        "OUTPUT_SIZE = 4\n",
        "OUT_CHANNELS = 100\n",
        "KERNEL_HEIGHTS = 3\n",
        "STRIDE = 1\n",
        "PADDING = 1\n",
        "LEARNING_RATE = 5e-2\n",
        "BATCH_SIZE = 64\n",
        "NUM_EPOCHS = 10\n",
        "\n",
        "#モデルの定義\n",
        "model = CNN(VOCAB_SIZE, EMB_SIZE, PADDING_IDX, OUTPUT_SIZE, OUT_CHANNELS, KERNEL_HEIGHTS, STRIDE, PADDING, emb_weights=weights)\n",
        "#損失関数の定義\n",
        "criterion = nn.CrossEntropyLoss()\n",
        "#オプティマイザの定義\n",
        "optimizer = torch.optim.SGD(model.parameters(), lr=LEARNING_RATE)\n",
        "#デバイスの指定\n",
        "device = torch.device('cuda')\n",
        "#モデルの学習\n",
        "log = train_model(dataset_train, dataset_valid, BATCH_SIZE, model, criterion, optimizer, NUM_EPOCHS, collate_fn=Padsequence(PADDING_IDX), device=device)"
      ],
      "execution_count": null,
      "outputs": [
        {
          "output_type": "stream",
          "text": [
            "epoch: 1, loss_train: 1.0687, accuracy_train: 0.5510, loss_valid: 1.0793, accuracy_valid: 0.5584, 32.0186sec\n",
            "epoch: 2, loss_train: 0.9947, accuracy_train: 0.6017, loss_valid: 1.0123, accuracy_valid: 0.6213, 31.6471sec\n",
            "epoch: 3, loss_train: 0.9155, accuracy_train: 0.6857, loss_valid: 0.9537, accuracy_valid: 0.6684, 31.7088sec\n",
            "epoch: 4, loss_train: 0.8542, accuracy_train: 0.7049, loss_valid: 0.9024, accuracy_valid: 0.6886, 31.6254sec\n",
            "epoch: 5, loss_train: 0.8105, accuracy_train: 0.7237, loss_valid: 0.8688, accuracy_valid: 0.7058, 31.6304sec\n",
            "epoch: 6, loss_train: 0.7799, accuracy_train: 0.7317, loss_valid: 0.8492, accuracy_valid: 0.7081, 31.6113sec\n",
            "epoch: 7, loss_train: 0.7583, accuracy_train: 0.7380, loss_valid: 0.8337, accuracy_valid: 0.7208, 31.4559sec\n",
            "epoch: 8, loss_train: 0.7465, accuracy_train: 0.7427, loss_valid: 0.8274, accuracy_valid: 0.7231, 31.4280sec\n",
            "epoch: 9, loss_train: 0.7409, accuracy_train: 0.7450, loss_valid: 0.8235, accuracy_valid: 0.7246, 31.5141sec\n",
            "epoch: 10, loss_train: 0.7394, accuracy_train: 0.7447, loss_valid: 0.8225, accuracy_valid: 0.7238, 31.4952sec\n"
          ],
          "name": "stdout"
        }
      ]
    },
    {
      "cell_type": "code",
      "metadata": {
        "id": "o1WTqrykcXjE",
        "colab": {
          "base_uri": "https://localhost:8080/",
          "height": 276
        },
        "outputId": "0dda9b00-8e5a-4aad-f632-460e18c8b5c7"
      },
      "source": [
        "# ログの可視化\n",
        "visualize_logs(log)\n",
        "\n",
        "# 正解率の算出\n",
        "_, acc_train = calculate_loss_and_accuracy(model, dataset_train, device)\n",
        "_, acc_test = calculate_loss_and_accuracy(model, dataset_test, device)\n",
        "print(f'正解率（学習データ）：{acc_train:.3f}')\n",
        "print(f'正解率（評価データ）：{acc_test:.3f}')"
      ],
      "execution_count": null,
      "outputs": [
        {
          "output_type": "display_data",
          "data": {
            "image/png": "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\n",
            "text/plain": [
              "<Figure size 1080x360 with 2 Axes>"
            ]
          },
          "metadata": {
            "tags": [],
            "needs_background": "light"
          }
        },
        {
          "output_type": "stream",
          "text": [
            "正解率（学習データ）：0.745\n",
            "正解率（評価データ）：0.714\n"
          ],
          "name": "stdout"
        }
      ]
    },
    {
      "cell_type": "markdown",
      "metadata": {
        "id": "wFpytluk_yrP"
      },
      "source": [
        "## 88. パラメータチューニング\n",
        "\n",
        "問題85や問題87のコードを改変し，ニューラルネットワークの形状やハイパーパラメータを調整しながら，高性能なカテゴリ分類器を構築せよ．"
      ]
    },
    {
      "cell_type": "code",
      "metadata": {
        "id": "ebRZNrPaPraY"
      },
      "source": [
        "from torch.nn import functional as F\n",
        "\n",
        "class textCNN(nn.Module):\n",
        "  def __init__(self, vocab_size, emb_size, padding_idx, output_size, out_channels, conv_params, drop_rate, emb_weights=None):\n",
        "    super().__init__()\n",
        "    if emb_weights != None:  # 指定があれば埋め込み層の重みをemb_weightsで初期化\n",
        "      self.emb = nn.Embedding.from_pretrained(emb_weights, padding_idx=padding_idx)\n",
        "    else:\n",
        "      self.emb = nn.Embedding(vocab_size, emb_size, padding_idx=padding_idx)\n",
        "    self.convs = nn.ModuleList([nn.Conv2d(1, out_channels, (kernel_height, emb_size), padding=(padding, 0)) for kernel_height, padding in conv_params])\n",
        "    self.drop = nn.Dropout(drop_rate)\n",
        "    self.fc = nn.Linear(len(conv_params) * out_channels, output_size)\n",
        "\n",
        "  def forward(self, x):\n",
        "    # x.size() = (batch_size, seq_len)\n",
        "    emb = self.emb(x).unsqueeze(1)\n",
        "    # emb.size() = (batch_size, 1, seq_len, emb_size)\n",
        "    conv = [F.relu(conv(emb)).squeeze(3) for i, conv in enumerate(self.convs)]\n",
        "    # conv[i].size() = (batch_size, out_channels, seq_len + padding * 2 - kernel_height + 1)\n",
        "    max_pool = [F.max_pool1d(i, i.size(2)) for i in conv]\n",
        "    # max_pool[i].size() = (batch_size, out_channels, 1) -> seq_len方向に最大値を取得\n",
        "    max_pool_cat = torch.cat(max_pool, 1)\n",
        "    # max_pool_cat.size() = (batch_size, len(conv_params) * out_channels, 1)  -> フィルター別の結果を結合\n",
        "    out = self.fc(self.drop(max_pool_cat.squeeze(2)))\n",
        "    # out.size() = (batch_size, output_size)\n",
        "    return out"
      ],
      "execution_count": null,
      "outputs": []
    },
    {
      "cell_type": "code",
      "metadata": {
        "id": "pCBp2Cj0cb7j"
      },
      "source": [
        "!pip install optuna"
      ],
      "execution_count": null,
      "outputs": []
    },
    {
      "cell_type": "code",
      "metadata": {
        "id": "wq3kNd06cb2x"
      },
      "source": [
        "import optuna\n",
        "\n",
        "def objective(trial):\n",
        "  #チューニング対象パラメータのセット\n",
        "  emb_size = int(trial.suggest_discrete_uniform('emb_size', 100, 400, 100))\n",
        "  out_channels = int(trial.suggest_discrete_uniform('out_channels', 50, 200, 50))\n",
        "  drop_rate = trial.suggest_discrete_uniform('drop_rate', 0.0, 0.5, 0.1)\n",
        "  learning_rate = trial.suggest_loguniform('learning_rate', 5e-4, 5e-2)\n",
        "  momentum = trial.suggest_discrete_uniform('momentum', 0.5, 0.9, 0.1)\n",
        "  batch_size = int(trial.suggest_discrete_uniform('batch_size', 16, 128, 16))\n",
        "\n",
        "  #固定パラメータの設定\n",
        "  VOCAB_SIZE = len(set(word2id.values())) + 1\n",
        "  PADDING_IDX = len(set(word2id.values()))\n",
        "  OUTPUT_SIZE = 4\n",
        "  CONV_PARAMS = [[2, 0], [3, 1], [4, 2]]\n",
        "  NUM_EPOCHS = 30\n",
        "\n",
        "  #モデルの定義\n",
        "  model = textCNN(VOCAB_SIZE, EMB_SIZE, PADDING_IDX, OUTPUT_SIZE, out_channels, CONV_PARAMS, drop_rate, emb_weights=weights)\n",
        "\n",
        "  #損失関数の定義\n",
        "  criterion = nn.CrossEntropyLoss()\n",
        "\n",
        "  # オプティマイザの定義\n",
        "  optimizer = torch.optim.SGD(model.parameters(), lr=learning_rate, momentum=momentum)\n",
        "\n",
        "  # デバイスの指定\n",
        "  device = torch.device('cuda')\n",
        "\n",
        "  # モデルの学習\n",
        "  log = train_model(dataset_train, dataset_valid, batch_size, model, criterion, optimizer, NUM_EPOCHS, collate_fn=Padsequence(PADDING_IDX), device=device)\n",
        "\n",
        "  # 損失の算出\n",
        "  loss_valid, _ = calculate_loss_and_accuracy(model, dataset_valid, device, criterion=criterion) \n",
        "\n",
        "  return loss_valid "
      ],
      "execution_count": null,
      "outputs": []
    },
    {
      "cell_type": "markdown",
      "metadata": {
        "id": "TeoP8hWxJMWz"
      },
      "source": [
        "前問の59と同様に、optunaを使って、ハイパーパラメータの最適化を行う。\n"
      ]
    },
    {
      "cell_type": "code",
      "metadata": {
        "id": "AMsaKAZdceQu"
      },
      "source": [
        "# 最適化\n",
        "study = optuna.create_study()\n",
        "study.optimize(objective, timeout=7200)\n",
        "\n",
        "# 結果の表示\n",
        "print('Best trial:')\n",
        "trial = study.best_trial\n",
        "print('  Value: {:.3f}'.format(trial.value))\n",
        "print('  Params: ')\n",
        "for key, value in trial.params.items():\n",
        "  print('    {}: {}'.format(key, value))"
      ],
      "execution_count": null,
      "outputs": []
    },
    {
      "cell_type": "code",
      "metadata": {
        "id": "RkI9GZhzcgRz"
      },
      "source": [
        "# パラメータの設定\n",
        "VOCAB_SIZE = len(set(word2id.values())) + 1\n",
        "EMB_SIZE = int(trial.params['emb_size'])\n",
        "PADDING_IDX = len(set(word2id.values()))\n",
        "OUTPUT_SIZE = 4\n",
        "OUT_CHANNELS = int(trial.params['out_channels'])\n",
        "CONV_PARAMS = [[2, 0], [3, 1], [4, 2]]\n",
        "DROP_RATE = trial.params['drop_rate']\n",
        "LEARNING_RATE = trial.params['learning_rate']\n",
        "BATCH_SIZE = int(trial.params['batch_size'])\n",
        "NUM_EPOCHS = 30\n",
        "\n",
        "# モデルの定義\n",
        "model = textCNN(VOCAB_SIZE, EMB_SIZE, PADDING_IDX, OUTPUT_SIZE, OUT_CHANNELS, CONV_PARAMS, DROP_RATE, emb_weights=weights)\n",
        "print(model)\n",
        "\n",
        "# 損失関数の定義\n",
        "criterion = nn.CrossEntropyLoss()\n",
        "\n",
        "# オプティマイザの定義\n",
        "optimizer = torch.optim.SGD(model.parameters(), lr=LEARNING_RATE, momentum=0.9)\n",
        "\n",
        "# デバイスの指定\n",
        "device = torch.device('cuda')\n",
        "\n",
        "# モデルの学習\n",
        "log = train_model(dataset_train, dataset_valid, BATCH_SIZE, model, criterion, optimizer, NUM_EPOCHS, collate_fn=Padsequence(PADDING_IDX), device=device)"
      ],
      "execution_count": null,
      "outputs": []
    },
    {
      "cell_type": "code",
      "metadata": {
        "id": "aFPfE7hXcg_x"
      },
      "source": [
        "# ログの可視化\n",
        "visualize_logs(log)\n",
        "\n",
        "# 正解率の算出\n",
        "_, acc_train = calculate_loss_and_accuracy(model, dataset_train, device)\n",
        "_, acc_test = calculate_loss_and_accuracy(model, dataset_test, device)\n",
        "print(f'正解率（学習データ）：{acc_train:.3f}')\n",
        "print(f'正解率（評価データ）：{acc_test:.3f}')"
      ],
      "execution_count": null,
      "outputs": []
    },
    {
      "cell_type": "markdown",
      "metadata": {
        "id": "_jb3wzplLBgo"
      },
      "source": [
        "## 89. 事前学習済み言語モデルからの転移学習\n",
        "事前学習済み言語モデル（例えばBERTなど）を出発点として，ニュース記事見出しをカテゴリに分類するモデルを構築せよ．"
      ]
    },
    {
      "cell_type": "markdown",
      "metadata": {
        "id": "E-lSbFtZNaQR"
      },
      "source": [
        "データのダウンロード"
      ]
    },
    {
      "cell_type": "code",
      "metadata": {
        "colab": {
          "base_uri": "https://localhost:8080/"
        },
        "id": "xZ_GuUbiLBHn",
        "outputId": "676e3f20-b2e9-4da6-ea65-590636d4690a"
      },
      "source": [
        "!wget https://archive.ics.uci.edu/ml/machine-learning-databases/00359/NewsAggregatorDataset.zip\n",
        "!unzip NewsAggregatorDataset.zip"
      ],
      "execution_count": 1,
      "outputs": [
        {
          "output_type": "stream",
          "text": [
            "--2021-07-14 04:11:04--  https://archive.ics.uci.edu/ml/machine-learning-databases/00359/NewsAggregatorDataset.zip\n",
            "Resolving archive.ics.uci.edu (archive.ics.uci.edu)... 128.195.10.252\n",
            "Connecting to archive.ics.uci.edu (archive.ics.uci.edu)|128.195.10.252|:443... connected.\n",
            "HTTP request sent, awaiting response... 200 OK\n",
            "Length: 29224203 (28M) [application/x-httpd-php]\n",
            "Saving to: ‘NewsAggregatorDataset.zip’\n",
            "\n",
            "NewsAggregatorDatas 100%[===================>]  27.87M  56.4MB/s    in 0.5s    \n",
            "\n",
            "2021-07-14 04:11:04 (56.4 MB/s) - ‘NewsAggregatorDataset.zip’ saved [29224203/29224203]\n",
            "\n",
            "Archive:  NewsAggregatorDataset.zip\n",
            "  inflating: 2pageSessions.csv       \n",
            "   creating: __MACOSX/\n",
            "  inflating: __MACOSX/._2pageSessions.csv  \n",
            "  inflating: newsCorpora.csv         \n",
            "  inflating: __MACOSX/._newsCorpora.csv  \n",
            "  inflating: readme.txt              \n",
            "  inflating: __MACOSX/._readme.txt   \n"
          ],
          "name": "stdout"
        }
      ]
    },
    {
      "cell_type": "code",
      "metadata": {
        "id": "mehinPc6Nh4R"
      },
      "source": [
        "# 読込時のエラー回避のためダブルクォーテーションをシングルクォーテーションに置換\n",
        "!sed -e 's/\"/'\\''/g' ./newsCorpora.csv > ./newsCorpora_re.csv"
      ],
      "execution_count": 2,
      "outputs": []
    },
    {
      "cell_type": "code",
      "metadata": {
        "colab": {
          "base_uri": "https://localhost:8080/"
        },
        "id": "6nDJvegGNo4o",
        "outputId": "4377783b-1829-49a4-d088-e738d4f85cd9"
      },
      "source": [
        "import pandas as pd\n",
        "from sklearn.model_selection import train_test_split\n",
        "\n",
        "# データの読込\n",
        "df = pd.read_csv('./newsCorpora_re.csv', header=None, sep='\\t', names=['ID', 'TITLE', 'URL', 'PUBLISHER', 'CATEGORY', 'STORY', 'HOSTNAME', 'TIMESTAMP'])\n",
        "\n",
        "# データの抽出\n",
        "df = df.loc[df['PUBLISHER'].isin(['Reuters', 'Huffington Post', 'Businessweek', 'Contactmusic.com', 'Daily Mail']), ['TITLE', 'CATEGORY']]\n",
        "\n",
        "# データの分割\n",
        "train, valid_test = train_test_split(df, test_size=0.2, shuffle=True, random_state=123, stratify=df['CATEGORY'])\n",
        "valid, test = train_test_split(valid_test, test_size=0.5, shuffle=True, random_state=123, stratify=valid_test['CATEGORY'])\n",
        "train.reset_index(drop=True, inplace=True)\n",
        "valid.reset_index(drop=True, inplace=True)\n",
        "test.reset_index(drop=True, inplace=True)\n",
        "\n",
        "print(train.head())"
      ],
      "execution_count": 3,
      "outputs": [
        {
          "output_type": "stream",
          "text": [
            "                                               TITLE CATEGORY\n",
            "0  REFILE-UPDATE 1-European car sales up for sixt...        b\n",
            "1  Amazon Plans to Fight FTC Over Mobile-App Purc...        t\n",
            "2  Kids Still Get Codeine In Emergency Rooms Desp...        m\n",
            "3  What On Earth Happened Between Solange And Jay...        e\n",
            "4  NATO Missile Defense Is Flight Tested Over Hawaii        b\n"
          ],
          "name": "stdout"
        }
      ]
    },
    {
      "cell_type": "code",
      "metadata": {
        "colab": {
          "base_uri": "https://localhost:8080/"
        },
        "id": "wc3ocf3WNv-X",
        "outputId": "087d7545-bc98-476b-96fa-3d150d7e26aa"
      },
      "source": [
        "# 事例数の確認\n",
        "print('【学習データ】')\n",
        "print(train['CATEGORY'].value_counts())\n",
        "print('【検証データ】')\n",
        "print(valid['CATEGORY'].value_counts())\n",
        "print('【評価データ】')\n",
        "print(test['CATEGORY'].value_counts())"
      ],
      "execution_count": 4,
      "outputs": [
        {
          "output_type": "stream",
          "text": [
            "【学習データ】\n",
            "b    4501\n",
            "e    4235\n",
            "t    1220\n",
            "m     728\n",
            "Name: CATEGORY, dtype: int64\n",
            "【検証データ】\n",
            "b    563\n",
            "e    529\n",
            "t    153\n",
            "m     91\n",
            "Name: CATEGORY, dtype: int64\n",
            "【評価データ】\n",
            "b    563\n",
            "e    530\n",
            "t    152\n",
            "m     91\n",
            "Name: CATEGORY, dtype: int64\n"
          ],
          "name": "stdout"
        }
      ]
    },
    {
      "cell_type": "markdown",
      "metadata": {
        "id": "eOrB5Q5ZSLcS"
      },
      "source": [
        "BERTモデルを利用するためにtransformersライブラリをインストール"
      ]
    },
    {
      "cell_type": "code",
      "metadata": {
        "colab": {
          "base_uri": "https://localhost:8080/"
        },
        "id": "gEqMYOyiN3nA",
        "outputId": "ce784beb-aa88-4c02-de20-6a967fb98107"
      },
      "source": [
        "!pip install transformers"
      ],
      "execution_count": 5,
      "outputs": [
        {
          "output_type": "stream",
          "text": [
            "Collecting transformers\n",
            "\u001b[?25l  Downloading https://files.pythonhosted.org/packages/fd/1a/41c644c963249fd7f3836d926afa1e3f1cc234a1c40d80c5f03ad8f6f1b2/transformers-4.8.2-py3-none-any.whl (2.5MB)\n",
            "\u001b[K     |████████████████████████████████| 2.5MB 7.5MB/s \n",
            "\u001b[?25hRequirement already satisfied: filelock in /usr/local/lib/python3.7/dist-packages (from transformers) (3.0.12)\n",
            "Requirement already satisfied: tqdm>=4.27 in /usr/local/lib/python3.7/dist-packages (from transformers) (4.41.1)\n",
            "Collecting sacremoses\n",
            "\u001b[?25l  Downloading https://files.pythonhosted.org/packages/75/ee/67241dc87f266093c533a2d4d3d69438e57d7a90abb216fa076e7d475d4a/sacremoses-0.0.45-py3-none-any.whl (895kB)\n",
            "\u001b[K     |████████████████████████████████| 901kB 47.0MB/s \n",
            "\u001b[?25hRequirement already satisfied: importlib-metadata; python_version < \"3.8\" in /usr/local/lib/python3.7/dist-packages (from transformers) (4.6.0)\n",
            "Requirement already satisfied: requests in /usr/local/lib/python3.7/dist-packages (from transformers) (2.23.0)\n",
            "Requirement already satisfied: packaging in /usr/local/lib/python3.7/dist-packages (from transformers) (20.9)\n",
            "Collecting tokenizers<0.11,>=0.10.1\n",
            "\u001b[?25l  Downloading https://files.pythonhosted.org/packages/d4/e2/df3543e8ffdab68f5acc73f613de9c2b155ac47f162e725dcac87c521c11/tokenizers-0.10.3-cp37-cp37m-manylinux_2_5_x86_64.manylinux1_x86_64.manylinux_2_12_x86_64.manylinux2010_x86_64.whl (3.3MB)\n",
            "\u001b[K     |████████████████████████████████| 3.3MB 35.9MB/s \n",
            "\u001b[?25hRequirement already satisfied: numpy>=1.17 in /usr/local/lib/python3.7/dist-packages (from transformers) (1.19.5)\n",
            "Requirement already satisfied: regex!=2019.12.17 in /usr/local/lib/python3.7/dist-packages (from transformers) (2019.12.20)\n",
            "Requirement already satisfied: pyyaml in /usr/local/lib/python3.7/dist-packages (from transformers) (3.13)\n",
            "Collecting huggingface-hub==0.0.12\n",
            "  Downloading https://files.pythonhosted.org/packages/2f/ee/97e253668fda9b17e968b3f97b2f8e53aa0127e8807d24a547687423fe0b/huggingface_hub-0.0.12-py3-none-any.whl\n",
            "Requirement already satisfied: click in /usr/local/lib/python3.7/dist-packages (from sacremoses->transformers) (7.1.2)\n",
            "Requirement already satisfied: six in /usr/local/lib/python3.7/dist-packages (from sacremoses->transformers) (1.15.0)\n",
            "Requirement already satisfied: joblib in /usr/local/lib/python3.7/dist-packages (from sacremoses->transformers) (1.0.1)\n",
            "Requirement already satisfied: typing-extensions>=3.6.4; python_version < \"3.8\" in /usr/local/lib/python3.7/dist-packages (from importlib-metadata; python_version < \"3.8\"->transformers) (3.7.4.3)\n",
            "Requirement already satisfied: zipp>=0.5 in /usr/local/lib/python3.7/dist-packages (from importlib-metadata; python_version < \"3.8\"->transformers) (3.4.1)\n",
            "Requirement already satisfied: certifi>=2017.4.17 in /usr/local/lib/python3.7/dist-packages (from requests->transformers) (2021.5.30)\n",
            "Requirement already satisfied: chardet<4,>=3.0.2 in /usr/local/lib/python3.7/dist-packages (from requests->transformers) (3.0.4)\n",
            "Requirement already satisfied: urllib3!=1.25.0,!=1.25.1,<1.26,>=1.21.1 in /usr/local/lib/python3.7/dist-packages (from requests->transformers) (1.24.3)\n",
            "Requirement already satisfied: idna<3,>=2.5 in /usr/local/lib/python3.7/dist-packages (from requests->transformers) (2.10)\n",
            "Requirement already satisfied: pyparsing>=2.0.2 in /usr/local/lib/python3.7/dist-packages (from packaging->transformers) (2.4.7)\n",
            "Installing collected packages: sacremoses, tokenizers, huggingface-hub, transformers\n",
            "Successfully installed huggingface-hub-0.0.12 sacremoses-0.0.45 tokenizers-0.10.3 transformers-4.8.2\n"
          ],
          "name": "stdout"
        }
      ]
    },
    {
      "cell_type": "markdown",
      "metadata": {
        "id": "kL4rcF8mSTsO"
      },
      "source": [
        "「Huggingface ransformers」（Transformers）は、「自然言語理解」と「自然言語生成」の最先端の汎用アーキテクチャ（BERT、GPT-2など）と何千もの事前学習済みモデルを提供するライブラリ。"
      ]
    },
    {
      "cell_type": "code",
      "metadata": {
        "id": "MFs0QXQSN9wM"
      },
      "source": [
        "import numpy as np\n",
        "import transformers\n",
        "import torch\n",
        "from torch.utils.data import Dataset, DataLoader\n",
        "from transformers import BertTokenizer, BertModel#transformersライブラリからBERTをインポート\n",
        "from torch import optim\n",
        "from torch import cuda\n",
        "import time\n",
        "from matplotlib import pyplot as plt"
      ],
      "execution_count": 6,
      "outputs": []
    },
    {
      "cell_type": "code",
      "metadata": {
        "id": "YmBxUkWlOHj1"
      },
      "source": [
        "# Datasetの定義\n",
        "class CreateDataset(Dataset):\n",
        "  def __init__(self, X, y, tokenizer, max_len):\n",
        "    self.X = X\n",
        "    self.y = y\n",
        "    self.tokenizer = tokenizer\n",
        "    self.max_len = max_len\n",
        "\n",
        "  def __len__(self):  # len(Dataset)で返す値を指定\n",
        "    return len(self.y)\n",
        "\n",
        "  def __getitem__(self, index):  #Dataset[index]で返す値を指定\n",
        "    text = self.X[index]\n",
        "    inputs = self.tokenizer.encode_plus(\n",
        "      text,\n",
        "      add_special_tokens=True,\n",
        "      max_length=self.max_len,\n",
        "      pad_to_max_length=True\n",
        "    )\n",
        "    ids = inputs['input_ids']\n",
        "    mask = inputs['attention_mask']\n",
        "\n",
        "    return {\n",
        "      'ids': torch.LongTensor(ids),\n",
        "      'mask': torch.LongTensor(mask),\n",
        "      'labels': torch.Tensor(self.y[index])\n",
        "    }"
      ],
      "execution_count": 7,
      "outputs": []
    },
    {
      "cell_type": "code",
      "metadata": {
        "colab": {
          "base_uri": "https://localhost:8080/",
          "height": 313,
          "referenced_widgets": [
            "a4f61ae20954471e836f69ba8a113542",
            "380dad7ff4c44cd5be2057503748f36f",
            "7424696dc10943998712d02f48c747b5",
            "42b64662820e462bb79029c4831d7774",
            "6a8a18d6c8b043bba29b76b2072ef5d1",
            "2749179dca1543e5a9ceddc13c11855e",
            "ae468e543535419e83145c3bef393002",
            "f812c3d1cdd449808c0c42548e581e0b",
            "8fc9d6f78c7a4234a4471aaa64e93292",
            "a09c4419ae2d48ec9af5f0f6606df31a",
            "a21a6cc3dff24e57a19734ac690cfb55",
            "2ee50a2d2ede45568349150bcb16284f",
            "501efc8c81ca41eb81aae724f7bff027",
            "c8472ab2a5af4dfc94b4cb5f87c8bd31",
            "69c871edf38e4b7587d45b8bc1539c24",
            "7bfd1f31428944c699dea151e60bfbda",
            "49d1f2f0d27549a79c64ed337494fc15",
            "0c9ab8a019ee4f9c92c38e905c3a19fb",
            "a9d384d8f92b468baea413071b65a1b1",
            "9c89832c341948569e389226b3d829e8",
            "3daa2fe643f3483fb3242587ef86f5cc",
            "b39f027f8dda47d8a745eec171efd308",
            "7105a94f404046b28f39c32248a1e206",
            "502721469c6b412198da1fad4a74ae25"
          ]
        },
        "id": "C3ZeFKQEOJEh",
        "outputId": "9278f3f0-e876-45a8-9a0c-ecf668175899"
      },
      "source": [
        "# 正解ラベルのone-hot化\n",
        "y_train = pd.get_dummies(train, columns=['CATEGORY'])[['CATEGORY_b', 'CATEGORY_e', 'CATEGORY_t', 'CATEGORY_m']].values\n",
        "y_valid = pd.get_dummies(valid, columns=['CATEGORY'])[['CATEGORY_b', 'CATEGORY_e', 'CATEGORY_t', 'CATEGORY_m']].values\n",
        "y_test = pd.get_dummies(test, columns=['CATEGORY'])[['CATEGORY_b', 'CATEGORY_e', 'CATEGORY_t', 'CATEGORY_m']].values\n",
        "\n",
        "# Datasetの作成\n",
        "max_len = 20\n",
        "tokenizer = BertTokenizer.from_pretrained('bert-base-uncased')#BERTTokenizerは、BERTで動作するトークナイザー\n",
        "dataset_train = CreateDataset(train['TITLE'], y_train, tokenizer, max_len)\n",
        "dataset_valid = CreateDataset(valid['TITLE'], y_valid, tokenizer, max_len)\n",
        "dataset_test = CreateDataset(test['TITLE'], y_test, tokenizer, max_len)\n",
        "\n",
        "for var in dataset_train[0]:\n",
        "  print(f'{var}: {dataset_train[0][var]}')"
      ],
      "execution_count": 8,
      "outputs": [
        {
          "output_type": "display_data",
          "data": {
            "application/vnd.jupyter.widget-view+json": {
              "model_id": "a4f61ae20954471e836f69ba8a113542",
              "version_minor": 0,
              "version_major": 2
            },
            "text/plain": [
              "HBox(children=(FloatProgress(value=0.0, description='Downloading', max=231508.0, style=ProgressStyle(descripti…"
            ]
          },
          "metadata": {
            "tags": []
          }
        },
        {
          "output_type": "stream",
          "text": [
            "\n"
          ],
          "name": "stdout"
        },
        {
          "output_type": "display_data",
          "data": {
            "application/vnd.jupyter.widget-view+json": {
              "model_id": "8fc9d6f78c7a4234a4471aaa64e93292",
              "version_minor": 0,
              "version_major": 2
            },
            "text/plain": [
              "HBox(children=(FloatProgress(value=0.0, description='Downloading', max=28.0, style=ProgressStyle(description_w…"
            ]
          },
          "metadata": {
            "tags": []
          }
        },
        {
          "output_type": "stream",
          "text": [
            "\n"
          ],
          "name": "stdout"
        },
        {
          "output_type": "display_data",
          "data": {
            "application/vnd.jupyter.widget-view+json": {
              "model_id": "49d1f2f0d27549a79c64ed337494fc15",
              "version_minor": 0,
              "version_major": 2
            },
            "text/plain": [
              "HBox(children=(FloatProgress(value=0.0, description='Downloading', max=466062.0, style=ProgressStyle(descripti…"
            ]
          },
          "metadata": {
            "tags": []
          }
        },
        {
          "output_type": "stream",
          "text": [
            "Truncation was not explicitly activated but `max_length` is provided a specific value, please use `truncation=True` to explicitly truncate examples to max length. Defaulting to 'longest_first' truncation strategy. If you encode pairs of sequences (GLUE-style) with the tokenizer you can select this strategy more precisely by providing a specific strategy to `truncation`.\n"
          ],
          "name": "stderr"
        },
        {
          "output_type": "stream",
          "text": [
            "\n",
            "ids: tensor([  101, 25416,  9463,  1011, 10651,  1015,  1011,  2647,  2482,  4341,\n",
            "         2039,  2005,  4369,  3204,  2004, 18730,  8980,   102,     0,     0])\n",
            "mask: tensor([1, 1, 1, 1, 1, 1, 1, 1, 1, 1, 1, 1, 1, 1, 1, 1, 1, 1, 0, 0])\n"
          ],
          "name": "stdout"
        },
        {
          "output_type": "stream",
          "text": [
            "/usr/local/lib/python3.7/dist-packages/transformers/tokenization_utils_base.py:2132: FutureWarning: The `pad_to_max_length` argument is deprecated and will be removed in a future version, use `padding=True` or `padding='longest'` to pad to the longest sequence in the batch, or use `padding='max_length'` to pad to a max length. In this case, you can give a specific length with `max_length` (e.g. `max_length=45`) or leave max_length to None to pad to the maximal input size of the model (e.g. 512 for Bert).\n",
            "  FutureWarning,\n"
          ],
          "name": "stderr"
        },
        {
          "output_type": "stream",
          "text": [
            "labels: tensor([1., 0., 0., 0.])\n"
          ],
          "name": "stdout"
        }
      ]
    },
    {
      "cell_type": "code",
      "metadata": {
        "id": "2mcBLVu4OQQg"
      },
      "source": [
        "# BERT分類モデルの定義\n",
        "class BERTClass(torch.nn.Module):\n",
        "  def __init__(self, drop_rate, otuput_size):\n",
        "    super().__init__()\n",
        "    self.bert = BertModel.from_pretrained('bert-base-uncased')#BERTモデルをロードする\n",
        "    #bert-base-uncasedと指定した場合は、12-layer, 768-hidden, 12-headsで小文字英文での事前学習済のパラメータがロード\n",
        "    self.drop = torch.nn.Dropout(drop_rate)\n",
        "    self.fc = torch.nn.Linear(768, otuput_size)#BERTの出力に合わせて768次元を指定\n",
        "\n",
        "  def forward(self, ids, mask):\n",
        "    _, out = self.bert(ids, attention_mask=mask,return_dict=False)\n",
        "    out = self.fc(self.drop(out))\n",
        "    return out"
      ],
      "execution_count": 12,
      "outputs": []
    },
    {
      "cell_type": "markdown",
      "metadata": {
        "id": "BR9qJOVsdqqn"
      },
      "source": [
        "作成したモデルを用いて、学習を行う。"
      ]
    },
    {
      "cell_type": "code",
      "metadata": {
        "id": "_dLmgaLgOVwK"
      },
      "source": [
        "def calculate_loss_and_accuracy(model, criterion, loader, device):\n",
        "  \"\"\" 損失・正解率を計算\"\"\"\n",
        "  model.eval()\n",
        "  loss = 0.0\n",
        "  total = 0\n",
        "  correct = 0\n",
        "  with torch.no_grad():\n",
        "    for data in loader:\n",
        "      # デバイスの指定\n",
        "      ids = data['ids'].to(device)\n",
        "      mask = data['mask'].to(device)\n",
        "      labels = data['labels'].to(device)\n",
        "\n",
        "      # 順伝播\n",
        "      outputs = model(ids, mask)\n",
        "\n",
        "      # 損失計算\n",
        "      loss += criterion(outputs, labels).item()\n",
        "\n",
        "      # 正解率計算\n",
        "      pred = torch.argmax(outputs, dim=-1).cpu().numpy() # バッチサイズの長さの予測ラベル配列\n",
        "      labels = torch.argmax(labels, dim=-1).cpu().numpy()  # バッチサイズの長さの正解ラベル配列\n",
        "      total += len(labels)\n",
        "      correct += (pred == labels).sum().item()\n",
        "\n",
        "  return loss / len(loader), correct / total\n",
        "\n",
        "\n",
        "def train_model(dataset_train, dataset_valid, batch_size, model, criterion, optimizer, num_epochs, device=None):\n",
        "  \"\"\"モデルの学習を実行し、損失・正解率のログを返す\"\"\"\n",
        "  # デバイスの指定\n",
        "  model.to(device)\n",
        "\n",
        "  # dataloaderの作成\n",
        "  dataloader_train = DataLoader(dataset_train, batch_size=batch_size, shuffle=True)\n",
        "  dataloader_valid = DataLoader(dataset_valid, batch_size=len(dataset_valid), shuffle=False)\n",
        "\n",
        "  # 学習\n",
        "  log_train = []\n",
        "  log_valid = []\n",
        "  for epoch in range(num_epochs):\n",
        "    # 開始時刻の記録\n",
        "    s_time = time.time()\n",
        "\n",
        "    # 訓練モードに設定\n",
        "    model.train()\n",
        "    for data in dataloader_train:\n",
        "      # デバイスの指定\n",
        "      ids = data['ids'].to(device)\n",
        "      mask = data['mask'].to(device)\n",
        "      labels = data['labels'].to(device)\n",
        "\n",
        "      # 勾配をゼロで初期化\n",
        "      optimizer.zero_grad()\n",
        "\n",
        "      # 順伝播 + 誤差逆伝播 + 重み更新\n",
        "      outputs = model(ids, mask)\n",
        "      loss = criterion(outputs, labels)\n",
        "      loss.backward()\n",
        "      optimizer.step()\n",
        "\n",
        "    # 損失と正解率の算出\n",
        "    loss_train, acc_train = calculate_loss_and_accuracy(model, criterion, dataloader_train, device)\n",
        "    loss_valid, acc_valid = calculate_loss_and_accuracy(model, criterion, dataloader_valid, device)\n",
        "    log_train.append([loss_train, acc_train])\n",
        "    log_valid.append([loss_valid, acc_valid])\n",
        "\n",
        "    # チェックポイントの保存\n",
        "    torch.save({'epoch': epoch, 'model_state_dict': model.state_dict(), 'optimizer_state_dict': optimizer.state_dict()}, f'checkpoint{epoch + 1}.pt')\n",
        "\n",
        "    # 終了時刻の記録\n",
        "    e_time = time.time()\n",
        "\n",
        "    # ログを出力\n",
        "    print(f'epoch: {epoch + 1}, loss_train: {loss_train:.4f}, accuracy_train: {acc_train:.4f}, loss_valid: {loss_valid:.4f}, accuracy_valid: {acc_valid:.4f}, {(e_time - s_time):.4f}sec') \n",
        "\n",
        "  return {'train': log_train, 'valid': log_valid}"
      ],
      "execution_count": 13,
      "outputs": []
    },
    {
      "cell_type": "code",
      "metadata": {
        "colab": {
          "base_uri": "https://localhost:8080/"
        },
        "id": "2SDFctrNOd10",
        "outputId": "0e302897-7071-4d3b-8754-06c6031a6913"
      },
      "source": [
        "# パラメータの設定\n",
        "DROP_RATE = 0.4\n",
        "OUTPUT_SIZE = 4\n",
        "BATCH_SIZE = 32\n",
        "NUM_EPOCHS = 4\n",
        "LEARNING_RATE = 2e-5\n",
        "\n",
        "# モデルの定義\n",
        "model = BERTClass(DROP_RATE, OUTPUT_SIZE)\n",
        "\n",
        "# 損失関数の定義\n",
        "criterion = torch.nn.BCEWithLogitsLoss()\n",
        "\n",
        "# オプティマイザの定義\n",
        "optimizer = torch.optim.AdamW(params=model.parameters(), lr=LEARNING_RATE)\n",
        "\n",
        "# デバイスの指定\n",
        "device = 'cuda' if cuda.is_available() else 'cpu'\n",
        "\n",
        "# モデルの学習\n",
        "log = train_model(dataset_train, dataset_valid, BATCH_SIZE, model, criterion, optimizer, NUM_EPOCHS, device=device)"
      ],
      "execution_count": 14,
      "outputs": [
        {
          "output_type": "stream",
          "text": [
            "Some weights of the model checkpoint at bert-base-uncased were not used when initializing BertModel: ['cls.predictions.transform.dense.weight', 'cls.predictions.decoder.weight', 'cls.predictions.bias', 'cls.predictions.transform.LayerNorm.bias', 'cls.seq_relationship.weight', 'cls.seq_relationship.bias', 'cls.predictions.transform.LayerNorm.weight', 'cls.predictions.transform.dense.bias']\n",
            "- This IS expected if you are initializing BertModel from the checkpoint of a model trained on another task or with another architecture (e.g. initializing a BertForSequenceClassification model from a BertForPreTraining model).\n",
            "- This IS NOT expected if you are initializing BertModel from the checkpoint of a model that you expect to be exactly identical (initializing a BertForSequenceClassification model from a BertForSequenceClassification model).\n",
            "/usr/local/lib/python3.7/dist-packages/transformers/tokenization_utils_base.py:2132: FutureWarning: The `pad_to_max_length` argument is deprecated and will be removed in a future version, use `padding=True` or `padding='longest'` to pad to the longest sequence in the batch, or use `padding='max_length'` to pad to a max length. In this case, you can give a specific length with `max_length` (e.g. `max_length=45`) or leave max_length to None to pad to the maximal input size of the model (e.g. 512 for Bert).\n",
            "  FutureWarning,\n"
          ],
          "name": "stderr"
        },
        {
          "output_type": "stream",
          "text": [
            "epoch: 1, loss_train: 0.0935, accuracy_train: 0.9485, loss_valid: 0.1210, accuracy_valid: 0.9199, 72.7705sec\n",
            "epoch: 2, loss_train: 0.0530, accuracy_train: 0.9717, loss_valid: 0.1079, accuracy_valid: 0.9296, 72.2063sec\n",
            "epoch: 3, loss_train: 0.0288, accuracy_train: 0.9861, loss_valid: 0.0997, accuracy_valid: 0.9319, 72.2752sec\n",
            "epoch: 4, loss_train: 0.0214, accuracy_train: 0.9894, loss_valid: 0.1067, accuracy_valid: 0.9289, 72.1669sec\n"
          ],
          "name": "stdout"
        }
      ]
    },
    {
      "cell_type": "code",
      "metadata": {
        "colab": {
          "base_uri": "https://localhost:8080/",
          "height": 334
        },
        "id": "QIvPTAq-Pzr0",
        "outputId": "58dd4c74-5b68-495e-8cf8-8977b5b28811"
      },
      "source": [
        "# ログの可視化\n",
        "x_axis = [x for x in range(1, len(log['train']) + 1)]\n",
        "fig, ax = plt.subplots(1, 2, figsize=(15, 5))\n",
        "ax[0].plot(x_axis, np.array(log['train']).T[0], label='train')\n",
        "ax[0].plot(x_axis, np.array(log['valid']).T[0], label='valid')\n",
        "ax[0].set_xlabel('epoch')\n",
        "ax[0].set_ylabel('loss')\n",
        "ax[0].legend()\n",
        "ax[1].plot(x_axis, np.array(log['train']).T[1], label='train')\n",
        "ax[1].plot(x_axis, np.array(log['valid']).T[1], label='valid')\n",
        "ax[1].set_xlabel('epoch')\n",
        "ax[1].set_ylabel('accuracy')\n",
        "ax[1].legend()\n",
        "plt.show()"
      ],
      "execution_count": 15,
      "outputs": [
        {
          "output_type": "display_data",
          "data": {
            "image/png": "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\n",
            "text/plain": [
              "<Figure size 1080x360 with 2 Axes>"
            ]
          },
          "metadata": {
            "tags": [],
            "needs_background": "light"
          }
        }
      ]
    },
    {
      "cell_type": "code",
      "metadata": {
        "colab": {
          "base_uri": "https://localhost:8080/"
        },
        "id": "O7OkhbO5P8DE",
        "outputId": "8aaca643-0fbe-497f-e942-40a649b5ded7"
      },
      "source": [
        "# 正解率の算出\n",
        "def calculate_accuracy(model, dataset, device):\n",
        "  # Dataloaderの作成\n",
        "  loader = DataLoader(dataset, batch_size=len(dataset), shuffle=False)\n",
        "\n",
        "  model.eval()\n",
        "  total = 0\n",
        "  correct = 0\n",
        "  with torch.no_grad():\n",
        "    for data in loader:\n",
        "      # デバイスの指定\n",
        "      ids = data['ids'].to(device)\n",
        "      mask = data['mask'].to(device)\n",
        "      labels = data['labels'].to(device)\n",
        "\n",
        "      # 順伝播 + 予測値の取得 + 正解数のカウント\n",
        "      outputs = model.forward(ids, mask)\n",
        "      pred = torch.argmax(outputs, dim=-1).cpu().numpy()\n",
        "      labels = torch.argmax(labels, dim=-1).cpu().numpy()\n",
        "      total += len(labels)\n",
        "      correct += (pred == labels).sum().item()\n",
        "\n",
        "  return correct / total\n",
        "\n",
        "print(f'正解率（学習データ）：{calculate_accuracy(model, dataset_train, device):.3f}')\n",
        "print(f'正解率（検証データ）：{calculate_accuracy(model, dataset_valid, device):.3f}')\n",
        "print(f'正解率（評価データ）：{calculate_accuracy(model, dataset_test, device):.3f}')"
      ],
      "execution_count": 16,
      "outputs": [
        {
          "output_type": "stream",
          "text": [
            "/usr/local/lib/python3.7/dist-packages/transformers/tokenization_utils_base.py:2132: FutureWarning: The `pad_to_max_length` argument is deprecated and will be removed in a future version, use `padding=True` or `padding='longest'` to pad to the longest sequence in the batch, or use `padding='max_length'` to pad to a max length. In this case, you can give a specific length with `max_length` (e.g. `max_length=45`) or leave max_length to None to pad to the maximal input size of the model (e.g. 512 for Bert).\n",
            "  FutureWarning,\n"
          ],
          "name": "stderr"
        },
        {
          "output_type": "stream",
          "text": [
            "正解率（学習データ）：0.989\n",
            "正解率（検証データ）：0.929\n",
            "正解率（評価データ）：0.950\n"
          ],
          "name": "stdout"
        }
      ]
    }
  ]
}
