t": 4,
  "nbformat_minor": 0,
  "metadata": {
    "colab": {
      "name": "言語処理100本ノック第10章.ipynb",
      "provenance": [],
      "collapsed_sections": []
    },
    "kernelspec": {
      "name": "python3",
      "display_name": "Python 3"
    },
    "language_info": {
      "name": "python"
    }
  },
  "cells": [
    {
      "cell_type": "markdown",
      "metadata": {
        "id": "EFa3DWKYF-Ub"
      },
      "source": [
        "\n",
        "# **第10章: 機械翻訳**\n",
        "本章では，日本語と英語の翻訳コーパスである京都フリー翻訳タスク (KFTT)を用い，ニューラル機械翻訳モデルを構築する．ニューラル機械翻訳モデルの構築には，fairseq，Hugging Face Transformers，OpenNMT-pyなどの既存のツールを活用せよ"
      ]
    },
    {
      "cell_type": "markdown",
      "metadata": {
        "id": "0iqVW5-jgRsP"
      },
      "source": [
        "http://www.phontron.com/kftt/index-ja.html\n",
        "\n",
        "京都フリー翻訳タスクについて"
      ]
    },
    {
      "cell_type": "markdown",
      "metadata": {
        "id": "Ccvd7Q7xK6Yk"
      },
      "source": [
        "作業用フォルダを作成して、移動"
      ]
    },
    {
      "cell_type": "code",
      "metadata": {
        "colab": {
          "base_uri": "https://localhost:8080/"
        },
        "id": "9AnhEOhjK5f-",
        "outputId": "ed0ed19c-4cba-4646-e7f5-4410244e4495"
      },
      "source": [
        "from google.colab import drive \n",
        "drive.mount('/content/drive')\n",
        "!mkdir -p '/content/drive/My Drive/work/'\n",
        "%cd '/content/drive/My Drive/work/'"
      ],
      "execution_count": null,
      "outputs": [
        {
          "output_type": "stream",
          "text": [
            "Drive already mounted at /content/drive; to attempt to forcibly remount, call drive.mount(\"/content/drive\", force_remount=True).\n",
            "/content/drive/My Drive/work\n"
          ],
          "name": "stdout"
        }
      ]
    },
    {
      "cell_type": "markdown",
      "metadata": {
        "id": "SCZmNLuy-FdZ"
      },
      "source": [
        "移動のみ"
      ]
    },
    {
      "cell_type": "code",
      "metadata": {
        "colab": {
          "base_uri": "https://localhost:8080/"
        },
        "id": "k3OHMY5K93YQ",
        "outputId": "34a7b3c3-75b2-414f-92eb-c06ba562dac6"
      },
      "source": [
        "from google.colab import drive \n",
        "drive.mount('/content/drive')\n",
        "%cd '/content/drive/My Drive/work/'"
      ],
      "execution_count": 1,
      "outputs": [
        {
          "output_type": "stream",
          "text": [
            "Drive already mounted at /content/drive; to attempt to forcibly remount, call drive.mount(\"/content/drive\", force_remount=True).\n",
            "/content/drive/My Drive/work\n"
          ],
          "name": "stdout"
        }
      ]
    },
    {
      "cell_type": "markdown",
      "metadata": {
        "id": "2T-mKN1qLf8D"
      },
      "source": [
        "今回の第10章は以下のサイトを参考に行った。\n",
        "https://qiita.com/nymwa/items/867e05a43060d036a174\n"
      ]
    },
    {
      "cell_type": "markdown",
      "metadata": {
        "id": "d5ytW6QBGlyO"
      },
      "source": [
        "### **90. データの準備**\n",
        "機械翻訳のデータセットをダウンロードせよ．訓練データ，開発データ，評価データを整形し，必要に応じてトークン化などの前処理を行うこと．ただし，この段階ではトークンの単位として形態素（日本語）および単語（英語）を採用せよ．"
      ]
    },
    {
      "cell_type": "markdown",
      "metadata": {
        "id": "u0-WtNJL8Esr"
      },
      "source": [
        "データのインストール"
      ]
    },
    {
      "cell_type": "code",
      "metadata": {
        "id": "wG-E5REhGxRk",
        "colab": {
          "base_uri": "https://localhost:8080/"
        },
        "outputId": "23723fb8-6848-4d36-e863-df188aa34026"
      },
      "source": [
        "!tar -zxvf /content/drive/MyDrive/kftt-data-1.0.tar.gz"
      ],
      "execution_count": 2,
      "outputs": [
        {
          "output_type": "stream",
          "text": [
            "kftt-data-1.0/\n",
            "kftt-data-1.0/data/\n",
            "kftt-data-1.0/data/orig/\n",
            "kftt-data-1.0/data/orig/kyoto-tune.en\n",
            "kftt-data-1.0/data/orig/kyoto-dev.ja\n",
            "kftt-data-1.0/data/orig/kyoto-dev.en\n",
            "kftt-data-1.0/data/orig/kyoto-train.en\n",
            "kftt-data-1.0/data/orig/kyoto-tune.ja\n",
            "kftt-data-1.0/data/orig/kyoto-train.ja\n",
            "kftt-data-1.0/data/orig/kyoto-test.ja\n",
            "kftt-data-1.0/data/orig/kyoto-test.en\n",
            "kftt-data-1.0/data/tok/\n",
            "kftt-data-1.0/data/tok/kyoto-tune.en\n",
            "kftt-data-1.0/data/tok/kyoto-dev.ja\n",
            "kftt-data-1.0/data/tok/kyoto-train.cln.en\n",
            "kftt-data-1.0/data/tok/kyoto-dev.en\n",
            "kftt-data-1.0/data/tok/kyoto-train.en\n",
            "kftt-data-1.0/data/tok/kyoto-tune.ja\n",
            "kftt-data-1.0/data/tok/kyoto-train.cln.ja\n",
            "kftt-data-1.0/data/tok/kyoto-train.ja\n",
            "kftt-data-1.0/data/tok/kyoto-test.ja\n",
            "kftt-data-1.0/data/tok/kyoto-test.en\n",
            "kftt-data-1.0/README.txt\n"
          ],
          "name": "stdout"
        }
      ]
    },
    {
      "cell_type": "code",
      "metadata": {
        "colab": {
          "base_uri": "https://localhost:8080/"
        },
        "id": "2-k9TuIM67DX",
        "outputId": "e1587f05-e6a0-43da-bad4-02f350730c1d"
      },
      "source": [
        "!cat kftt-data-1.0/README.txt"
      ],
      "execution_count": null,
      "outputs": [
        {
          "output_type": "stream",
          "text": [
            "Kyoto Free Translation Task\n",
            "\n",
            "All data is distributed under the Creative Commons License ver. 3.0.\n",
            "http://creativecommons.org/licenses/by-sa/3.0/\n",
            "\n",
            "More details and instructions on how to use this package can be found on the task web site: http://www.phontron.com/kftt\n"
          ],
          "name": "stdout"
        }
      ]
    },
    {
      "cell_type": "markdown",
      "metadata": {
        "id": "M_pCppW87uCI"
      },
      "source": [
        "kftt-data-1.0/data/orig/kyoto-dev.jaとkftt-data-1.0/data/tok/kyoto-dev.jaを比較すると、tokのあるファイルは既にトークン化されていることが分かる。"
      ]
    },
    {
      "cell_type": "code",
      "metadata": {
        "colab": {
          "base_uri": "https://localhost:8080/"
        },
        "id": "f6hWTxbV7cmS",
        "outputId": "aa61ac9e-844f-44a9-cb63-d8b01a3e38a1"
      },
      "source": [
        "!head -15 kftt-data-1.0/data/orig/kyoto-dev.ja"
      ],
      "execution_count": null,
      "outputs": [
        {
          "output_type": "stream",
          "text": [
            "臨済宗（臨濟宗、りんざいしゅう）は、中国禅五家七宗（ごけしちしゅう）（臨済、潙仰宗、曹洞宗、雲門宗、法眼宗）のひとつで、唐の臨済義玄（？-867年）を宗祖とする。\n",
            "彼は『喝の臨済』『臨済将軍』の異名で知られ、豪放な家風を特徴として中国禅興隆の頂点を極めた。\n",
            "公案に参究することにより見性しようとする看話禅（かんなぜん）で、ただ座禅する曹洞宗の黙照禅とはこの点が異なる。\n",
            "中国における臨済宗\n",
            "臨済宗は、その名の通り、会昌の廃仏後、唐末の宗祖臨済義玄に始まる。\n",
            "臨済は黄檗希運の弟子であり、河北省の地を拠点とし、新興の藩鎮勢力であった成徳府藩鎮の王常侍を支持基盤として宗勢を伸張したが、唐末五代の混乱した時期には、河北は5王朝を中心に混乱した地域であったため、宗勢が振るわなくなる。\n",
            "この時期の中心人物は、風穴延昭である。\n",
            "臨済宗が再び活気に満ち溢れるようになるのは、北宋代であり、石霜楚円の門下より、ともに江西省を出自とする、黄龍慧南と楊岐方会という、臨済宗の主流となる2派（黄龍派・楊岐派）を生む傑僧が出て、中国全土を席巻することとなった。\n",
            "南宋代になると、楊岐派に属する圜悟克勤の弟子の大慧宗杲が、浙江省を拠点として大慧派を形成し、臨済宗の中の主流派となった。\n",
            "日本における臨済宗\n",
            "宗門では、ゴータマ・シッダッタの教え（悟り）を直接に受け継いだ十大弟子（迦葉）から28代目のボーディダルマ（菩提達磨）を得てインドから中国に伝えられた、ということになっている。\n",
            "その後、禅宗の最高峰を極めた臨済宗は、南宋時代の中国に渡り学んだ栄西らによって、鎌倉時代に日本に伝えられている。\n",
            "日本の臨済宗は、日本の禅の宗派のひとつである。\n",
            "師から弟子への悟りの伝達（法嗣、はっす）を重んじる。\n",
            "釈迦を本師釈迦如来大和尚と、ボーディダルマを初祖菩提達磨大師、臨済を宗祖臨済大師と呼ぶ。\n"
          ],
          "name": "stdout"
        }
      ]
    },
    {
      "cell_type": "code",
      "metadata": {
        "colab": {
          "base_uri": "https://localhost:8080/"
        },
        "id": "f37rP_JU7KO_",
        "outputId": "fac51287-39b0-4260-c788-ec9cb675d72e"
      },
      "source": [
        "!head -15 kftt-data-1.0/data/tok/kyoto-dev.ja"
      ],
      "execution_count": null,
      "outputs": [
        {
          "output_type": "stream",
          "text": [
            "臨済 宗 （ 臨濟 宗 、 りんざい しゅう ） は 、 中国 禅 五 家 七 宗 （ ご け しち しゅう ） （ 臨済 、 潙仰 宗 、 曹洞 宗 、 雲門 宗 、 法眼 宗 ） の ひと つ で 、 唐 の 臨済 義 玄 （ ？ -867 年 ） を 宗祖 と する 。\n",
            "彼 は 『 喝 の 臨済 』 『 臨済 将軍 』 の 異名 で 知 ら れ 、 豪放 な 家風 を 特徴 と し て 中国 禅 興隆 の 頂点 を 極め た 。\n",
            "公案 に 参究 する こと に よ り 見性 し よ う と する 看話 禅 （ かんな ぜん ） で 、 ただ 座禅 する 曹洞 宗 の 黙照 禅 と は この 点 が 異な る 。\n",
            "中国 に おけ る 臨済 宗\n",
            "臨済 宗 は 、 その 名 の 通り 、 会昌 の 廃仏 後 、 唐 末 の 宗祖 臨済 義 玄 に 始ま る 。\n",
            "臨済 は 黄檗 希 運 の 弟子 で あ り 、 河北 省 の 地 を 拠点 と し 、 新興 の 藩鎮 勢力 で あ っ た 成徳 府 藩鎮 の 王 常侍 を 支持 基盤 と し て 宗勢 を 伸張 し た が 、 唐 末 五代 の 混乱 し た 時期 に は 、 河北 は 5 王朝 を 中心 に 混乱 し た 地域 で あ っ た ため 、 宗勢 が 振る わ な く な る 。\n",
            "この 時期 の 中心 人物 は 、 風穴 延昭 で あ る 。\n",
            "臨済 宗 が 再び 活気 に 満ち溢れ る よう に な る の は 、 北宋 代 で あ り 、 石霜 楚 円 の 門下 より 、 とも に 江西 省 を 出自 と する 、 黄龍 慧 南 と 楊岐 方 会 と い う 、 臨済 宗 の 主流 と な る 2 派 （ 黄龍 派 ・ 楊岐 派 ） を 生 む 傑僧 が 出 て 、 中国 全土 を 席巻 する こと と な っ た 。\n",
            "南宋 代 に な る と 、 楊岐 派 に 属 する 圜悟 克 勤 の 弟子 の 大慧 宗杲 が 、 浙江 省 を 拠点 と し て 大慧 派 を 形成 し 、 臨済 宗 の 中 の 主流 派 と な っ た 。\n",
            "日本 に おけ る 臨済 宗\n",
            "宗門 で は 、 ゴータマ ・ シッダッタ の 教え （ 悟り ） を 直接 に 受け継 い だ 十 大 弟子 （ 迦葉 ） から 28 代 目 の ボー ディ ダルマ （ 菩提 達磨 ） を 得 て インド から 中国 に 伝え られ た 、 と い う こと に な っ て い る 。\n",
            "その 後 、 禅宗 の 最高 峰 を 極め た 臨済 宗 は 、 南宋 時代 の 中国 に 渡 り 学 ん だ 栄西 ら に よ っ て 、 鎌倉 時代 に 日本 に 伝え られ て い る 。\n",
            "日本 の 臨済 宗 は 、 日本 の 禅 の 宗派 の ひと つ で あ る 。\n",
            "師 から 弟子 へ の 悟り の 伝達 （ 法嗣 、 はっす ） を 重んじ る 。\n",
            "釈迦 を 本師 釈迦 如来 大和尚 と 、 ボー ディ ダルマ を 初祖 菩提 達磨 大師 、 臨済 を 宗祖 臨済 大師 と 呼 ぶ 。\n"
          ],
          "name": "stdout"
        }
      ]
    },
    {
      "cell_type": "markdown",
      "metadata": {
        "id": "DH-7SRvyGwXH"
      },
      "source": [
        "### **91. 機械翻訳モデルの訓練**\n",
        "90で準備したデータを用いて，ニューラル機械翻訳のモデルを学習せよ（ニューラルネットワークのモデルはTransformerやLSTMなど適当に選んでよい）．"
      ]
    },
    {
      "cell_type": "markdown",
      "metadata": {
        "id": "xEj3UOA6HeRe"
      },
      "source": [
        "今回の機械翻訳には、fairseqを利用。"
      ]
    },
    {
      "cell_type": "markdown",
      "metadata": {
        "id": "CKPuODH4O9d_"
      },
      "source": [
        "fairseqとは、研究者や開発者が翻訳、要約、言語モデリング、その他のテキスト生成タスク用のカスタムモデルをトレーニングできるシーケンスモデリングツールキット"
      ]
    },
    {
      "cell_type": "code",
      "metadata": {
        "id": "HXA490xjG-Ci",
        "colab": {
          "base_uri": "https://localhost:8080/",
          "height": 903
        },
        "outputId": "457cbb0b-a867-464f-b7d4-c51c499155ad"
      },
      "source": [
        "!pip install fairseq"
      ],
      "execution_count": 3,
      "outputs": [
        {
          "output_type": "stream",
          "text": [
            "Collecting fairseq\n",
            "  Downloading fairseq-0.10.2-cp37-cp37m-manylinux1_x86_64.whl (1.7 MB)\n",
            "\u001b[K     |████████████████████████████████| 1.7 MB 1.9 MB/s \n",
            "\u001b[?25hCollecting dataclasses\n",
            "  Downloading dataclasses-0.6-py3-none-any.whl (14 kB)\n",
            "Requirement already satisfied: cffi in /usr/local/lib/python3.7/dist-packages (from fairseq) (1.14.6)\n",
            "Requirement already satisfied: torch in /usr/local/lib/python3.7/dist-packages (from fairseq) (1.9.0+cu102)\n",
            "Requirement already satisfied: numpy in /usr/local/lib/python3.7/dist-packages (from fairseq) (1.19.5)\n",
            "Requirement already satisfied: tqdm in /usr/local/lib/python3.7/dist-packages (from fairseq) (4.41.1)\n",
            "Collecting hydra-core\n",
            "  Downloading hydra_core-1.1.0-py3-none-any.whl (144 kB)\n",
            "\u001b[K     |████████████████████████████████| 144 kB 54.3 MB/s \n",
            "\u001b[?25hRequirement already satisfied: regex in /usr/local/lib/python3.7/dist-packages (from fairseq) (2019.12.20)\n",
            "Requirement already satisfied: cython in /usr/local/lib/python3.7/dist-packages (from fairseq) (0.29.23)\n",
            "Collecting sacrebleu>=1.4.12\n",
            "  Downloading sacrebleu-1.5.1-py3-none-any.whl (54 kB)\n",
            "\u001b[K     |████████████████████████████████| 54 kB 4.0 MB/s \n",
            "\u001b[?25hCollecting portalocker==2.0.0\n",
            "  Downloading portalocker-2.0.0-py2.py3-none-any.whl (11 kB)\n",
            "Requirement already satisfied: pycparser in /usr/local/lib/python3.7/dist-packages (from cffi->fairseq) (2.20)\n",
            "Collecting antlr4-python3-runtime==4.8\n",
            "  Downloading antlr4-python3-runtime-4.8.tar.gz (112 kB)\n",
            "\u001b[K     |████████████████████████████████| 112 kB 62.1 MB/s \n",
            "\u001b[?25hRequirement already satisfied: importlib-resources in /usr/local/lib/python3.7/dist-packages (from hydra-core->fairseq) (5.2.0)\n",
            "Collecting omegaconf==2.1.*\n",
            "  Downloading omegaconf-2.1.0-py3-none-any.whl (74 kB)\n",
            "\u001b[K     |████████████████████████████████| 74 kB 4.1 MB/s \n",
            "\u001b[?25hCollecting PyYAML>=5.1.*\n",
            "  Downloading PyYAML-5.4.1-cp37-cp37m-manylinux1_x86_64.whl (636 kB)\n",
            "\u001b[K     |████████████████████████████████| 636 kB 66.0 MB/s \n",
            "\u001b[?25hRequirement already satisfied: zipp>=3.1.0 in /usr/local/lib/python3.7/dist-packages (from importlib-resources->hydra-core->fairseq) (3.5.0)\n",
            "Requirement already satisfied: typing-extensions in /usr/local/lib/python3.7/dist-packages (from torch->fairseq) (3.7.4.3)\n",
            "Building wheels for collected packages: antlr4-python3-runtime\n",
            "  Building wheel for antlr4-python3-runtime (setup.py) ... \u001b[?25l\u001b[?25hdone\n",
            "  Created wheel for antlr4-python3-runtime: filename=antlr4_python3_runtime-4.8-py3-none-any.whl size=141229 sha256=a4eb2e85dfabddb4e5fc02bd0712a054db8a096ef5ca1dee520ce64981c8ab87\n",
            "  Stored in directory: /root/.cache/pip/wheels/ca/33/b7/336836125fc9bb4ceaa4376d8abca10ca8bc84ddc824baea6c\n",
            "Successfully built antlr4-python3-runtime\n",
            "Installing collected packages: PyYAML, antlr4-python3-runtime, portalocker, omegaconf, sacrebleu, hydra-core, dataclasses, fairseq\n",
            "  Attempting uninstall: PyYAML\n",
            "    Found existing installation: PyYAML 3.13\n",
            "    Uninstalling PyYAML-3.13:\n",
            "      Successfully uninstalled PyYAML-3.13\n",
            "Successfully installed PyYAML-5.4.1 antlr4-python3-runtime-4.8 dataclasses-0.6 fairseq-0.10.2 hydra-core-1.1.0 omegaconf-2.1.0 portalocker-2.0.0 sacrebleu-1.5.1\n"
          ],
          "name": "stdout"
        },
        {
          "output_type": "display_data",
          "data": {
            "application/vnd.colab-display-data+json": {
              "pip_warning": {
                "packages": [
                  "pydevd_plugins"
                ]
              }
            }
          },
          "metadata": {
            "tags": []
          }
        }
      ]
    },
    {
      "cell_type": "markdown",
      "metadata": {
        "id": "bQRHLle9Qniv"
      },
      "source": [
        "fairseq -preprocess の前処理について\n",
        "https://fairseq.readthedocs.io/en/latest/command_line_tools.html\n"
      ]
    },
    {
      "cell_type": "markdown",
      "metadata": {
        "id": "ezbARwfcDBeB"
      },
      "source": [
        "fairseqは、コマンドラインなので、文頭に「!」が必要。\n",
        "コメントは入れられない"
      ]
    },
    {
      "cell_type": "code",
      "metadata": {
        "colab": {
          "base_uri": "https://localhost:8080/"
        },
        "id": "hdxy1ipMDB17",
        "outputId": "06b1a86c-28f7-4701-8f39-ea92396a6779"
      },
      "source": [
        "!fairseq-preprocess -s ja -t en \\\n",
        "--trainpref kftt-data-1.0/data/tok/kyoto-train \\\n",
        "--validpref kftt-data-1.0/data/tok/kyoto-dev \\\n",
        "--testpref kftt-data-1.0/data/tok/kyoto-test \\\n",
        "--destdir data91 \\\n",
        "--thresholdsrc 5 \\\n",
        "--thresholdtgt 5 \\\n",
        "--workers 20"
      ],
      "execution_count": null,
      "outputs": [
        {
          "output_type": "stream",
          "text": [
            "2021-07-20 04:46:24 | INFO | fairseq_cli.preprocess | Namespace(align_suffix=None, alignfile=None, all_gather_list_size=16384, bf16=False, bpe=None, checkpoint_shard_count=1, checkpoint_suffix='', cpu=False, criterion='cross_entropy', dataset_impl='mmap', destdir='data91', empty_cache_freq=0, fp16=False, fp16_init_scale=128, fp16_no_flatten_grads=False, fp16_scale_tolerance=0.0, fp16_scale_window=None, joined_dictionary=False, log_format=None, log_interval=100, lr_scheduler='fixed', memory_efficient_bf16=False, memory_efficient_fp16=False, min_loss_scale=0.0001, model_parallel_size=1, no_progress_bar=False, nwordssrc=-1, nwordstgt=-1, only_source=False, optimizer=None, padding_factor=8, profile=False, quantization_config_path=None, scoring='bleu', seed=1, source_lang='ja', srcdict=None, target_lang='en', task='translation', tensorboard_logdir=None, testpref='kftt-data-1.0/data/tok/kyoto-test', tgtdict=None, threshold_loss_scale=None, thresholdsrc=5, thresholdtgt=5, tokenizer=None, tpu=False, trainpref='kftt-data-1.0/data/tok/kyoto-train', user_dir=None, validpref='kftt-data-1.0/data/tok/kyoto-dev', workers=20)\n",
            "2021-07-20 04:47:35 | INFO | fairseq_cli.preprocess | [ja] Dictionary: 51584 types\n",
            "2021-07-20 04:48:52 | INFO | fairseq_cli.preprocess | [ja] kftt-data-1.0/data/tok/kyoto-train.ja: 440288 sents, 12359715 tokens, 1.26% replaced by <unk>\n",
            "2021-07-20 04:48:52 | INFO | fairseq_cli.preprocess | [ja] Dictionary: 51584 types\n",
            "2021-07-20 04:48:54 | INFO | fairseq_cli.preprocess | [ja] kftt-data-1.0/data/tok/kyoto-dev.ja: 1166 sents, 28010 tokens, 1.3% replaced by <unk>\n",
            "2021-07-20 04:48:54 | INFO | fairseq_cli.preprocess | [ja] Dictionary: 51584 types\n",
            "2021-07-20 04:48:55 | INFO | fairseq_cli.preprocess | [ja] kftt-data-1.0/data/tok/kyoto-test.ja: 1160 sents, 29638 tokens, 1.4% replaced by <unk>\n",
            "2021-07-20 04:48:55 | INFO | fairseq_cli.preprocess | [en] Dictionary: 58552 types\n",
            "2021-07-20 04:49:50 | INFO | fairseq_cli.preprocess | [en] kftt-data-1.0/data/tok/kyoto-train.en: 440288 sents, 11981667 tokens, 2.07% replaced by <unk>\n",
            "2021-07-20 04:49:50 | INFO | fairseq_cli.preprocess | [en] Dictionary: 58552 types\n",
            "2021-07-20 04:49:52 | INFO | fairseq_cli.preprocess | [en] kftt-data-1.0/data/tok/kyoto-dev.en: 1166 sents, 25475 tokens, 3.19% replaced by <unk>\n",
            "2021-07-20 04:49:52 | INFO | fairseq_cli.preprocess | [en] Dictionary: 58552 types\n",
            "2021-07-20 04:49:53 | INFO | fairseq_cli.preprocess | [en] kftt-data-1.0/data/tok/kyoto-test.en: 1160 sents, 27894 tokens, 2.88% replaced by <unk>\n",
            "2021-07-20 04:49:53 | INFO | fairseq_cli.preprocess | Wrote preprocessed data to data91\n"
          ],
          "name": "stdout"
        }
      ]
    },
    {
      "cell_type": "markdown",
      "metadata": {
        "id": "YH6QFXh9Vaml"
      },
      "source": [
        "--thresholdsrcと--thresholdtgtで、任意の回数以下の頻度のものをunknownにする。"
      ]
    },
    {
      "cell_type": "code",
      "metadata": {
        "id": "WBrFERnAVQQ5",
        "colab": {
          "base_uri": "https://localhost:8080/"
        },
        "outputId": "6d172038-359b-48f3-c9d2-1aa87a47d476"
      },
      "source": [
        "from google.colab import drive\n",
        "drive.mount('/content/drive')"
      ],
      "execution_count": null,
      "outputs": [
        {
          "output_type": "stream",
          "text": [
            "Drive already mounted at /content/drive; to attempt to forcibly remount, call drive.mount(\"/content/drive\", force_remount=True).\n"
          ],
          "name": "stdout"
        }
      ]
    },
    {
      "cell_type": "markdown",
      "metadata": {
        "id": "0PTphXW6VGPj"
      },
      "source": [
        "学習率0.001でtrain"
      ]
    },
    {
      "cell_type": "code",
      "metadata": {
        "colab": {
          "base_uri": "https://localhost:8080/"
        },
        "id": "BwvTRZSaI8xZ",
        "outputId": "9670729e-eb48-422b-ef37-182cc7be7bb3"
      },
      "source": [
        "!fairseq-train data91 \\\n",
        "    --fp16 \\\n",
        "    --save-dir save91 \\\n",
        "    --max-epoch 10 \\\n",
        "    --arch transformer --share-decoder-input-output-embed \\\n",
        "    --optimizer adam --clip-norm 1.0 \\\n",
        "    --lr 1e-3 --lr-scheduler inverse_sqrt --warmup-updates 2000 \\\n",
        "    --update-freq 1 \\\n",
        "    --dropout 0.2 --weight-decay 0.0001 \\\n",
        "    --criterion label_smoothed_cross_entropy --label-smoothing 0.1 \\\n",
        "    --max-tokens 8000 > 91.log"
      ],
      "execution_count": null,
      "outputs": [
        {
          "output_type": "stream",
          "text": [
            "epoch 001: 100% 1855/1856 [11:32<00:00,  2.53it/s, loss=7.559, nll_loss=6.26, ppl=76.63, wps=17636, ups=2.64, wpb=6689.6, bsz=216.6, num_updates=1800, lr=0.0009, gnorm=0.815, clip=15, loss_scale=8, train_wall=38, wall=674]\n",
            "epoch 001 | valid on 'valid' subset:   0% 0/7 [00:00<?, ?it/s]\u001b[A\n",
            "epoch 001 | valid on 'valid' subset:  14% 1/7 [00:00<00:00,  6.76it/s]\u001b[A\n",
            "epoch 001 | valid on 'valid' subset:  29% 2/7 [00:00<00:00,  7.19it/s]\u001b[A\n",
            "epoch 001 | valid on 'valid' subset:  43% 3/7 [00:00<00:00,  7.53it/s]\u001b[A\n",
            "epoch 001 | valid on 'valid' subset:  57% 4/7 [00:00<00:00,  7.79it/s]\u001b[A\n",
            "epoch 001 | valid on 'valid' subset:  71% 5/7 [00:00<00:00,  7.79it/s]\u001b[A\n",
            "epoch 001 | valid on 'valid' subset:  86% 6/7 [00:00<00:00,  7.83it/s]\u001b[A\n",
            "epoch 002: 100% 1855/1856 [11:31<00:00,  2.63it/s, loss=6.796, nll_loss=5.384, ppl=41.75, wps=17144.5, ups=2.73, wpb=6280.7, bsz=207.8, num_updates=3700, lr=0.000735215, gnorm=0.619, clip=5, loss_scale=8, train_wall=36, wall=1457]\n",
            "epoch 002 | valid on 'valid' subset:   0% 0/7 [00:00<?, ?it/s]\u001b[A\n",
            "epoch 002 | valid on 'valid' subset:  14% 1/7 [00:00<00:00,  6.46it/s]\u001b[A\n",
            "epoch 002 | valid on 'valid' subset:  29% 2/7 [00:00<00:00,  6.94it/s]\u001b[A\n",
            "epoch 002 | valid on 'valid' subset:  43% 3/7 [00:00<00:00,  7.33it/s]\u001b[A\n",
            "epoch 002 | valid on 'valid' subset:  57% 4/7 [00:00<00:00,  7.64it/s]\u001b[A\n",
            "epoch 002 | valid on 'valid' subset:  71% 5/7 [00:00<00:00,  7.70it/s]\u001b[A\n",
            "epoch 002 | valid on 'valid' subset:  86% 6/7 [00:00<00:00,  7.79it/s]\u001b[A\n",
            "epoch 003: 100% 1855/1856 [11:31<00:00,  2.68it/s, loss=6.351, nll_loss=4.869, ppl=29.22, wps=17351.6, ups=2.68, wpb=6463.8, bsz=228.6, num_updates=5500, lr=0.000603023, gnorm=0.589, clip=3, loss_scale=4, train_wall=37, wall=2207]\n",
            "epoch 003 | valid on 'valid' subset:   0% 0/7 [00:00<?, ?it/s]\u001b[A\n",
            "epoch 003 | valid on 'valid' subset:  14% 1/7 [00:00<00:00,  6.40it/s]\u001b[A\n",
            "epoch 003 | valid on 'valid' subset:  29% 2/7 [00:00<00:00,  6.90it/s]\u001b[A\n",
            "epoch 003 | valid on 'valid' subset:  43% 3/7 [00:00<00:00,  7.27it/s]\u001b[A\n",
            "epoch 003 | valid on 'valid' subset:  57% 4/7 [00:00<00:00,  7.58it/s]\u001b[A\n",
            "epoch 003 | valid on 'valid' subset:  71% 5/7 [00:00<00:00,  7.66it/s]\u001b[A\n",
            "epoch 003 | valid on 'valid' subset:  86% 6/7 [00:00<00:00,  7.72it/s]\u001b[A\n",
            "epoch 004: 100% 1855/1856 [11:31<00:00,  2.95it/s, loss=6.017, nll_loss=4.48, ppl=22.32, wps=17551.2, ups=2.66, wpb=6586.2, bsz=286.1, num_updates=7400, lr=0.000519875, gnorm=0.631, clip=3, loss_scale=4, train_wall=37, wall=2993]\n",
            "epoch 004 | valid on 'valid' subset:   0% 0/7 [00:00<?, ?it/s]\u001b[A\n",
            "epoch 004 | valid on 'valid' subset:  14% 1/7 [00:00<00:00,  6.33it/s]\u001b[A\n",
            "epoch 004 | valid on 'valid' subset:  29% 2/7 [00:00<00:00,  6.84it/s]\u001b[A\n",
            "epoch 004 | valid on 'valid' subset:  43% 3/7 [00:00<00:00,  7.25it/s]\u001b[A\n",
            "epoch 004 | valid on 'valid' subset:  57% 4/7 [00:00<00:00,  7.60it/s]\u001b[A\n",
            "epoch 004 | valid on 'valid' subset:  71% 5/7 [00:00<00:00,  7.63it/s]\u001b[A\n",
            "epoch 004 | valid on 'valid' subset:  86% 6/7 [00:00<00:00,  7.75it/s]\u001b[A\n",
            "epoch 005: 100% 1855/1856 [11:34<00:00,  2.71it/s, loss=5.964, nll_loss=4.418, ppl=21.37, wps=17323.7, ups=2.68, wpb=6454.5, bsz=239.1, num_updates=9200, lr=0.000466252, gnorm=0.587, clip=4, loss_scale=4, train_wall=37, wall=3704]\n",
            "epoch 005 | valid on 'valid' subset:   0% 0/7 [00:00<?, ?it/s]\u001b[A\n",
            "epoch 005 | valid on 'valid' subset:  14% 1/7 [00:00<00:01,  5.63it/s]\u001b[A\n",
            "epoch 005 | valid on 'valid' subset:  29% 2/7 [00:00<00:00,  6.26it/s]\u001b[A\n",
            "epoch 005 | valid on 'valid' subset:  43% 3/7 [00:00<00:00,  6.80it/s]\u001b[A\n",
            "epoch 005 | valid on 'valid' subset:  57% 4/7 [00:00<00:00,  7.24it/s]\u001b[A\n",
            "epoch 005 | valid on 'valid' subset:  71% 5/7 [00:00<00:00,  7.41it/s]\u001b[A\n",
            "epoch 005 | valid on 'valid' subset:  86% 6/7 [00:00<00:00,  7.56it/s]\u001b[A\n",
            "epoch 006: 100% 1855/1856 [11:29<00:00,  2.69it/s, loss=5.767, nll_loss=4.189, ppl=18.23, wps=16818.9, ups=2.7, wpb=6221.9, bsz=238.4, num_updates=11100, lr=0.000424476, gnorm=0.646, clip=7, loss_scale=4, train_wall=37, wall=4483]\n",
            "epoch 006 | valid on 'valid' subset:   0% 0/7 [00:00<?, ?it/s]\u001b[A\n",
            "epoch 006 | valid on 'valid' subset:  14% 1/7 [00:00<00:00,  6.31it/s]\u001b[A\n",
            "epoch 006 | valid on 'valid' subset:  29% 2/7 [00:00<00:00,  6.83it/s]\u001b[A\n",
            "epoch 006 | valid on 'valid' subset:  43% 3/7 [00:00<00:00,  7.24it/s]\u001b[A\n",
            "epoch 006 | valid on 'valid' subset:  57% 4/7 [00:00<00:00,  7.56it/s]\u001b[A\n",
            "epoch 006 | valid on 'valid' subset:  71% 5/7 [00:00<00:00,  7.64it/s]\u001b[A\n",
            "epoch 006 | valid on 'valid' subset:  86% 6/7 [00:00<00:00,  7.71it/s]\u001b[A\n",
            "epoch 007: 100% 1855/1856 [11:29<00:00,  2.63it/s, loss=5.696, nll_loss=4.104, ppl=17.19, wps=17638.6, ups=2.7, wpb=6527.8, bsz=250.8, num_updates=12900, lr=0.00039375, gnorm=0.635, clip=3, loss_scale=4, train_wall=37, wall=5192]\n",
            "epoch 007 | valid on 'valid' subset:   0% 0/7 [00:00<?, ?it/s]\u001b[A\n",
            "epoch 007 | valid on 'valid' subset:  14% 1/7 [00:00<00:01,  5.26it/s]\u001b[A\n",
            "epoch 007 | valid on 'valid' subset:  29% 2/7 [00:00<00:00,  5.92it/s]\u001b[A\n",
            "epoch 007 | valid on 'valid' subset:  43% 3/7 [00:00<00:00,  6.49it/s]\u001b[A\n",
            "epoch 007 | valid on 'valid' subset:  57% 4/7 [00:00<00:00,  6.98it/s]\u001b[A\n",
            "epoch 007 | valid on 'valid' subset:  71% 5/7 [00:00<00:00,  7.23it/s]\u001b[A\n",
            "epoch 007 | valid on 'valid' subset:  86% 6/7 [00:00<00:00,  7.42it/s]\u001b[A\n",
            "epoch 008: 100% 1855/1856 [11:29<00:00,  2.66it/s, loss=5.599, nll_loss=3.992, ppl=15.91, wps=16889.6, ups=2.73, wpb=6197.6, bsz=214.1, num_updates=14800, lr=0.000367607, gnorm=0.671, clip=9, loss_scale=4, train_wall=37, wall=5939]\n",
            "epoch 008 | valid on 'valid' subset:   0% 0/7 [00:00<?, ?it/s]\u001b[A\n",
            "epoch 008 | valid on 'valid' subset:  14% 1/7 [00:00<00:00,  6.04it/s]\u001b[A\n",
            "epoch 008 | valid on 'valid' subset:  29% 2/7 [00:00<00:00,  6.59it/s]\u001b[A\n",
            "epoch 008 | valid on 'valid' subset:  43% 3/7 [00:00<00:00,  7.05it/s]\u001b[A\n",
            "epoch 008 | valid on 'valid' subset:  57% 4/7 [00:00<00:00,  7.42it/s]\u001b[A\n",
            "epoch 008 | valid on 'valid' subset:  71% 5/7 [00:00<00:00,  7.56it/s]\u001b[A\n",
            "epoch 008 | valid on 'valid' subset:  86% 6/7 [00:00<00:00,  7.65it/s]\u001b[A\n",
            "epoch 009: 100% 1855/1856 [11:29<00:00,  2.56it/s, loss=5.495, nll_loss=3.87, ppl=14.62, wps=17463.5, ups=2.72, wpb=6411.4, bsz=215.1, num_updates=16600, lr=0.000347105, gnorm=0.612, clip=2, loss_scale=4, train_wall=37, wall=6649]\n",
            "epoch 009 | valid on 'valid' subset:   0% 0/7 [00:00<?, ?it/s]\u001b[A\n",
            "epoch 009 | valid on 'valid' subset:  14% 1/7 [00:00<00:01,  5.83it/s]\u001b[A\n",
            "epoch 009 | valid on 'valid' subset:  29% 2/7 [00:00<00:00,  6.41it/s]\u001b[A\n",
            "epoch 009 | valid on 'valid' subset:  43% 3/7 [00:00<00:00,  6.90it/s]\u001b[A\n",
            "epoch 009 | valid on 'valid' subset:  57% 4/7 [00:00<00:00,  7.32it/s]\u001b[A\n",
            "epoch 009 | valid on 'valid' subset:  71% 5/7 [00:00<00:00,  7.46it/s]\u001b[A\n",
            "epoch 009 | valid on 'valid' subset:  86% 6/7 [00:00<00:00,  7.62it/s]\u001b[A\n",
            "epoch 010: 100% 1855/1856 [11:28<00:00,  2.68it/s, loss=5.34, nll_loss=3.691, ppl=12.91, wps=17350, ups=2.71, wpb=6392.3, bsz=270, num_updates=18500, lr=0.000328798, gnorm=0.68, clip=5, loss_scale=4, train_wall=37, wall=7391]\n",
            "epoch 010 | valid on 'valid' subset:   0% 0/7 [00:00<?, ?it/s]\u001b[A\n",
            "epoch 010 | valid on 'valid' subset:  14% 1/7 [00:00<00:01,  5.88it/s]\u001b[A\n",
            "epoch 010 | valid on 'valid' subset:  29% 2/7 [00:00<00:00,  6.46it/s]\u001b[A\n",
            "epoch 010 | valid on 'valid' subset:  43% 3/7 [00:00<00:00,  6.99it/s]\u001b[A\n",
            "epoch 010 | valid on 'valid' subset:  57% 4/7 [00:00<00:00,  7.38it/s]\u001b[A\n",
            "epoch 010 | valid on 'valid' subset:  71% 5/7 [00:00<00:00,  7.49it/s]\u001b[A\n",
            "epoch 010 | valid on 'valid' subset:  86% 6/7 [00:00<00:00,  7.62it/s]\u001b[A\n"
          ],
          "name": "stdout"
        }
      ]
    },
    {
      "cell_type": "markdown",
      "metadata": {
        "id": "HtrvK6lvW0pP"
      },
      "source": [
        "学習率0.0005でtrain"
      ]
    },
    {
      "cell_type": "code",
      "metadata": {
        "colab": {
          "base_uri": "https://localhost:8080/"
        },
        "id": "utkvxpfgVT2H",
        "outputId": "b2c0001c-e425-4425-b57b-8576f0c2a29d"
      },
      "source": [
        "!fairseq-train data91 \\\n",
        "    --fp16 \\\n",
        "    --save-dir save91 \\\n",
        "    --max-epoch 10 \\\n",
        "    --arch transformer --share-decoder-input-output-embed \\\n",
        "    --optimizer adam --clip-norm 1.0 \\\n",
        "    --lr 5e-4 --lr-scheduler inverse_sqrt --warmup-updates 2000 \\\n",
        "    --update-freq 1 \\\n",
        "    --dropout 0.2 --weight-decay 0.0001 \\\n",
        "    --criterion label_smoothed_cross_entropy --label-smoothing 0.1 \\\n",
        "    --max-tokens 8000 > 91.log"
      ],
      "execution_count": null,
      "outputs": [
        {
          "output_type": "stream",
          "text": [
            "epoch 001: 100% 1855/1856 [11:50<00:00,  2.44it/s, loss=7.672, nll_loss=6.403, ppl=84.61, wps=17238.5, ups=2.58, wpb=6689.6, bsz=216.6, num_updates=1800, lr=0.00045, gnorm=1.014, clip=32, loss_scale=8, train_wall=39, wall=692]\n",
            "epoch 001 | valid on 'valid' subset:   0% 0/7 [00:00<?, ?it/s]\u001b[A\n",
            "epoch 001 | valid on 'valid' subset:  14% 1/7 [00:00<00:00,  6.24it/s]\u001b[A\n",
            "epoch 001 | valid on 'valid' subset:  29% 2/7 [00:00<00:00,  6.74it/s]\u001b[A\n",
            "epoch 001 | valid on 'valid' subset:  43% 3/7 [00:00<00:00,  7.14it/s]\u001b[A\n",
            "epoch 001 | valid on 'valid' subset:  57% 4/7 [00:00<00:00,  7.47it/s]\u001b[A\n",
            "epoch 001 | valid on 'valid' subset:  71% 5/7 [00:00<00:00,  7.54it/s]\u001b[A\n",
            "epoch 001 | valid on 'valid' subset:  86% 6/7 [00:00<00:00,  7.63it/s]\u001b[A\n",
            "epoch 002: 100% 1855/1856 [11:53<00:00,  2.53it/s, loss=6.718, nll_loss=5.289, ppl=39.09, wps=16576.7, ups=2.64, wpb=6280.7, bsz=207.8, num_updates=3700, lr=0.000367607, gnorm=0.785, clip=12, loss_scale=8, train_wall=38, wall=1507]\n",
            "epoch 002 | valid on 'valid' subset:   0% 0/7 [00:00<?, ?it/s]\u001b[A\n",
            "epoch 002 | valid on 'valid' subset:  14% 1/7 [00:00<00:00,  6.33it/s]\u001b[A\n",
            "epoch 002 | valid on 'valid' subset:  29% 2/7 [00:00<00:00,  6.82it/s]\u001b[A\n",
            "epoch 002 | valid on 'valid' subset:  43% 3/7 [00:00<00:00,  7.20it/s]\u001b[A\n",
            "epoch 002 | valid on 'valid' subset:  57% 4/7 [00:00<00:00,  7.51it/s]\u001b[A\n",
            "epoch 002 | valid on 'valid' subset:  71% 5/7 [00:00<00:00,  7.51it/s]\u001b[A\n",
            "epoch 002 | valid on 'valid' subset:  86% 6/7 [00:00<00:00,  7.59it/s]\u001b[A\n",
            "epoch 002 | valid on 'valid' subset: 100% 7/7 [00:00<00:00,  8.14it/s]\u001b[A\n",
            "epoch 003: 100% 1855/1856 [11:53<00:00,  2.60it/s, loss=6.212, nll_loss=4.7, ppl=26, wps=16778.8, ups=2.6, wpb=6463.8, bsz=228.6, num_updates=5500, lr=0.000301511, gnorm=0.787, clip=10, loss_scale=4, train_wall=38, wall=2273]\n",
            "epoch 003 | valid on 'valid' subset:   0% 0/7 [00:00<?, ?it/s]\u001b[A\n",
            "epoch 003 | valid on 'valid' subset:  14% 1/7 [00:00<00:00,  6.57it/s]\u001b[A\n",
            "epoch 003 | valid on 'valid' subset:  29% 2/7 [00:00<00:00,  7.00it/s]\u001b[A\n",
            "epoch 003 | valid on 'valid' subset:  43% 3/7 [00:00<00:00,  7.34it/s]\u001b[A\n",
            "epoch 003 | valid on 'valid' subset:  57% 4/7 [00:00<00:00,  7.62it/s]\u001b[A\n",
            "epoch 003 | valid on 'valid' subset:  71% 5/7 [00:00<00:00,  7.64it/s]\u001b[A\n",
            "epoch 003 | valid on 'valid' subset:  86% 6/7 [00:00<00:00,  7.65it/s]\u001b[A\n",
            "epoch 004: 100% 1855/1856 [11:52<00:00,  2.84it/s, loss=5.754, nll_loss=4.169, ppl=17.99, wps=17054.5, ups=2.59, wpb=6586.2, bsz=286.1, num_updates=7400, lr=0.000259938, gnorm=0.848, clip=16, loss_scale=4, train_wall=38, wall=3087]\n",
            "epoch 004 | valid on 'valid' subset:   0% 0/7 [00:00<?, ?it/s]\u001b[A\n",
            "epoch 004 | valid on 'valid' subset:  14% 1/7 [00:00<00:01,  5.89it/s]\u001b[A\n",
            "epoch 004 | valid on 'valid' subset:  29% 2/7 [00:00<00:00,  6.46it/s]\u001b[A\n",
            "epoch 004 | valid on 'valid' subset:  43% 3/7 [00:00<00:00,  6.92it/s]\u001b[A\n",
            "epoch 004 | valid on 'valid' subset:  57% 4/7 [00:00<00:00,  7.28it/s]\u001b[A\n",
            "epoch 004 | valid on 'valid' subset:  71% 5/7 [00:00<00:00,  7.35it/s]\u001b[A\n",
            "epoch 004 | valid on 'valid' subset:  86% 6/7 [00:00<00:00,  7.48it/s]\u001b[A\n",
            "epoch 004 | valid on 'valid' subset: 100% 7/7 [00:00<00:00,  8.04it/s]\u001b[A\n",
            "epoch 005: 100% 1855/1856 [11:52<00:00,  2.61it/s, loss=5.517, nll_loss=3.897, ppl=14.9, wps=16795.8, ups=2.6, wpb=6454.5, bsz=239.1, num_updates=9200, lr=0.000233126, gnorm=0.811, clip=14, loss_scale=4, train_wall=38, wall=3859]\n",
            "epoch 005 | valid on 'valid' subset:   0% 0/7 [00:00<?, ?it/s]\u001b[A\n",
            "epoch 005 | valid on 'valid' subset:  14% 1/7 [00:00<00:00,  6.52it/s]\u001b[A\n",
            "epoch 005 | valid on 'valid' subset:  29% 2/7 [00:00<00:00,  6.97it/s]\u001b[A\n",
            "epoch 005 | valid on 'valid' subset:  43% 3/7 [00:00<00:00,  7.33it/s]\u001b[A\n",
            "epoch 005 | valid on 'valid' subset:  57% 4/7 [00:00<00:00,  7.59it/s]\u001b[A\n",
            "epoch 005 | valid on 'valid' subset:  71% 5/7 [00:00<00:00,  7.59it/s]\u001b[A\n",
            "epoch 005 | valid on 'valid' subset:  86% 6/7 [00:00<00:00,  7.66it/s]\u001b[A\n",
            "epoch 005 | valid on 'valid' subset: 100% 7/7 [00:00<00:00,  8.19it/s]\u001b[A\n",
            "epoch 006: 100% 1855/1856 [11:51<00:00,  2.61it/s, loss=5.149, nll_loss=3.479, ppl=11.15, wps=16315.5, ups=2.62, wpb=6221.9, bsz=238.4, num_updates=11100, lr=0.000212238, gnorm=0.876, clip=20, loss_scale=4, train_wall=38, wall=4664]\n",
            "epoch 006 | valid on 'valid' subset:   0% 0/7 [00:00<?, ?it/s]\u001b[A\n",
            "epoch 006 | valid on 'valid' subset:  14% 1/7 [00:00<00:00,  6.21it/s]\u001b[A\n",
            "epoch 006 | valid on 'valid' subset:  29% 2/7 [00:00<00:00,  6.71it/s]\u001b[A\n",
            "epoch 006 | valid on 'valid' subset:  43% 3/7 [00:00<00:00,  7.11it/s]\u001b[A\n",
            "epoch 006 | valid on 'valid' subset:  57% 4/7 [00:00<00:00,  7.43it/s]\u001b[A\n",
            "epoch 006 | valid on 'valid' subset:  71% 5/7 [00:00<00:00,  7.47it/s]\u001b[A\n",
            "epoch 006 | valid on 'valid' subset:  86% 6/7 [00:00<00:00,  7.58it/s]\u001b[A\n",
            "epoch 006 | valid on 'valid' subset: 100% 7/7 [00:00<00:00,  8.14it/s]\u001b[A\n",
            "epoch 007: 100% 1855/1856 [11:52<00:00,  2.54it/s, loss=4.966, nll_loss=3.271, ppl=9.65, wps=17107.3, ups=2.62, wpb=6527.8, bsz=250.8, num_updates=12900, lr=0.000196875, gnorm=0.857, clip=13, loss_scale=4, train_wall=38, wall=5434]\n",
            "epoch 007 | valid on 'valid' subset:   0% 0/7 [00:00<?, ?it/s]\u001b[A\n",
            "epoch 007 | valid on 'valid' subset:  14% 1/7 [00:00<00:00,  6.25it/s]\u001b[A\n",
            "epoch 007 | valid on 'valid' subset:  29% 2/7 [00:00<00:00,  6.73it/s]\u001b[A\n",
            "epoch 007 | valid on 'valid' subset:  43% 3/7 [00:00<00:00,  7.14it/s]\u001b[A\n",
            "epoch 007 | valid on 'valid' subset:  57% 4/7 [00:00<00:00,  7.46it/s]\u001b[A\n",
            "epoch 007 | valid on 'valid' subset:  71% 5/7 [00:00<00:00,  7.52it/s]\u001b[A\n",
            "epoch 007 | valid on 'valid' subset:  86% 6/7 [00:00<00:00,  7.59it/s]\u001b[A\n",
            "epoch 007 | valid on 'valid' subset: 100% 7/7 [00:00<00:00,  8.17it/s]\u001b[A\n",
            "epoch 008: 100% 1855/1856 [11:52<00:00,  2.59it/s, loss=4.838, nll_loss=3.127, ppl=8.74, wps=16394.7, ups=2.65, wpb=6197.6, bsz=214.1, num_updates=14800, lr=0.000183804, gnorm=0.866, clip=18, loss_scale=4, train_wall=38, wall=6241]\n",
            "epoch 008 | valid on 'valid' subset:   0% 0/7 [00:00<?, ?it/s]\u001b[A\n",
            "epoch 008 | valid on 'valid' subset:  14% 1/7 [00:00<00:00,  6.22it/s]\u001b[A\n",
            "epoch 008 | valid on 'valid' subset:  29% 2/7 [00:00<00:00,  6.71it/s]\u001b[A\n",
            "epoch 008 | valid on 'valid' subset:  43% 3/7 [00:00<00:00,  7.12it/s]\u001b[A\n",
            "epoch 008 | valid on 'valid' subset:  57% 4/7 [00:00<00:00,  7.46it/s]\u001b[A\n",
            "epoch 008 | valid on 'valid' subset:  71% 5/7 [00:00<00:00,  7.53it/s]\u001b[A\n",
            "epoch 008 | valid on 'valid' subset:  86% 6/7 [00:00<00:00,  7.60it/s]\u001b[A\n",
            "epoch 008 | valid on 'valid' subset: 100% 7/7 [00:00<00:00,  8.17it/s]\u001b[A\n",
            "epoch 009: 100% 1855/1856 [11:53<00:00,  2.49it/s, loss=4.669, nll_loss=2.935, ppl=7.65, wps=16956.1, ups=2.64, wpb=6411.4, bsz=215.1, num_updates=16600, lr=0.000173553, gnorm=0.803, clip=9, loss_scale=4, train_wall=38, wall=7005]\n",
            "epoch 009 | valid on 'valid' subset:   0% 0/7 [00:00<?, ?it/s]\u001b[A\n",
            "epoch 009 | valid on 'valid' subset:  14% 1/7 [00:00<00:00,  6.28it/s]\u001b[A\n",
            "epoch 009 | valid on 'valid' subset:  29% 2/7 [00:00<00:00,  6.75it/s]\u001b[A\n",
            "epoch 009 | valid on 'valid' subset:  43% 3/7 [00:00<00:00,  7.14it/s]\u001b[A\n",
            "epoch 009 | valid on 'valid' subset:  57% 4/7 [00:00<00:00,  7.45it/s]\u001b[A\n",
            "epoch 009 | valid on 'valid' subset:  71% 5/7 [00:00<00:00,  7.50it/s]\u001b[A\n",
            "epoch 009 | valid on 'valid' subset:  86% 6/7 [00:00<00:00,  7.55it/s]\u001b[A\n",
            "epoch 009 | valid on 'valid' subset: 100% 7/7 [00:00<00:00,  8.14it/s]\u001b[A\n",
            "epoch 010: 100% 1855/1856 [11:53<00:00,  2.57it/s, loss=4.516, nll_loss=2.764, ppl=6.79, wps=16792.4, ups=2.63, wpb=6392.3, bsz=270, num_updates=18500, lr=0.000164399, gnorm=0.84, clip=15, loss_scale=4, train_wall=38, wall=7819]\n",
            "epoch 010 | valid on 'valid' subset:   0% 0/7 [00:00<?, ?it/s]\u001b[A\n",
            "epoch 010 | valid on 'valid' subset:  14% 1/7 [00:00<00:00,  6.00it/s]\u001b[A\n",
            "epoch 010 | valid on 'valid' subset:  29% 2/7 [00:00<00:00,  6.53it/s]\u001b[A\n",
            "epoch 010 | valid on 'valid' subset:  43% 3/7 [00:00<00:00,  6.98it/s]\u001b[A\n",
            "epoch 010 | valid on 'valid' subset:  57% 4/7 [00:00<00:00,  7.32it/s]\u001b[A\n",
            "epoch 010 | valid on 'valid' subset:  71% 5/7 [00:00<00:00,  7.38it/s]\u001b[A\n",
            "epoch 010 | valid on 'valid' subset:  86% 6/7 [00:00<00:00,  7.51it/s]\u001b[A\n",
            "epoch 010 | valid on 'valid' subset: 100% 7/7 [00:00<00:00,  8.09it/s]\u001b[A\n"
          ],
          "name": "stdout"
        }
      ]
    },
    {
      "cell_type": "markdown",
      "metadata": {
        "id": "SMaVXR3RZogA"
      },
      "source": [
        "モデルにtransformerを利用。Robertaとかのやり方が分からなかった。"
      ]
    },
    {
      "cell_type": "markdown",
      "metadata": {
        "id": "yy0UKLmkG-ZL"
      },
      "source": [
        "### **92. 機械翻訳モデルの適用**\n",
        "91で学習したニューラル機械翻訳モデルを用い，与えられた（任意の）日本語の文を英語に翻訳するプログラムを実装せよ．"
      ]
    },
    {
      "cell_type": "markdown",
      "metadata": {
        "id": "M-gde1z0fV1G"
      },
      "source": [
        "fairseq-interactiveでトレーニング済みのモデルを使用して生のテキストを翻訳。日本語のテストデータを英語に翻訳する。"
      ]
    },
    {
      "cell_type": "markdown",
      "metadata": {
        "id": "-Or1MPyfXH5i"
      },
      "source": [
        "学習率0.001"
      ]
    },
    {
      "cell_type": "code",
      "metadata": {
        "id": "dgSy-4hiHHHu",
        "colab": {
          "base_uri": "https://localhost:8080/"
        },
        "outputId": "d66247da-51c6-4825-ccd3-ab9efda44e1b"
      },
      "source": [
        "!fairseq-interactive --path save91/checkpoint10.pt data91 < kftt-data-1.0/data/tok/kyoto-test.ja | grep '^H' | cut -f3 > 92.out"
      ],
      "execution_count": null,
      "outputs": [
        {
          "output_type": "stream",
          "text": [
            "/usr/local/lib/python3.7/dist-packages/torch/_tensor.py:575: UserWarning: floor_divide is deprecated, and will be removed in a future version of pytorch. It currently rounds toward 0 (like the 'trunc' function NOT 'floor'). This results in incorrect rounding for negative values.\n",
            "To keep the current behavior, use torch.div(a, b, rounding_mode='trunc'), or for actual floor division, use torch.div(a, b, rounding_mode='floor'). (Triggered internally at  /pytorch/aten/src/ATen/native/BinaryOps.cpp:467.)\n",
            "  return torch.floor_divide(self, other)\n"
          ],
          "name": "stdout"
        }
      ]
    },
    {
      "cell_type": "code",
      "metadata": {
        "colab": {
          "base_uri": "https://localhost:8080/"
        },
        "id": "pfwrBUirzuB8",
        "outputId": "a00e6f33-d08d-45be-c873-00e443729f1e"
      },
      "source": [
        "!fairseq-interactive --path save91/checkpoint10.pt data91 < kftt-data-1.0/data/tok/kyoto-test.ja | grep '^H' | cut -f3 > 92.out"
      ],
      "execution_count": null,
      "outputs": [
        {
          "output_type": "stream",
          "text": [
            "/usr/local/lib/python3.7/dist-packages/torch/_tensor.py:575: UserWarning: floor_divide is deprecated, and will be removed in a future version of pytorch. It currently rounds toward 0 (like the 'trunc' function NOT 'floor'). This results in incorrect rounding for negative values.\n",
            "To keep the current behavior, use torch.div(a, b, rounding_mode='trunc'), or for actual floor division, use torch.div(a, b, rounding_mode='floor'). (Triggered internally at  /pytorch/aten/src/ATen/native/BinaryOps.cpp:467.)\n",
            "  return torch.floor_divide(self, other)\n"
          ],
          "name": "stdout"
        }
      ]
    },
    {
      "cell_type": "markdown",
      "metadata": {
        "id": "PrFiqHauHHsM"
      },
      "source": [
        "### **93. BLEUスコアの計測**\n",
        "91で学習したニューラル機械翻訳モデルの品質を調べるため，評価データにおけるBLEUスコアを測定せよ．"
      ]
    },
    {
      "cell_type": "markdown",
      "metadata": {
        "id": "yHO3m-RdzzRt"
      },
      "source": [
        "学習率0.001"
      ]
    },
    {
      "cell_type": "code",
      "metadata": {
        "id": "gEdBhyAjHPr3",
        "colab": {
          "base_uri": "https://localhost:8080/"
        },
        "outputId": "8255e126-0f30-487f-b843-a5b2e32458a7"
      },
      "source": [
        "!fairseq-score --sys 92.out --ref kftt-data-1.0/data/tok/kyoto-test.en"
      ],
      "execution_count": null,
      "outputs": [
        {
          "output_type": "stream",
          "text": [
            "Namespace(ignore_case=False, order=4, ref='kftt-data-1.0/data/tok/kyoto-test.en', sacrebleu=False, sentence_bleu=False, sys='92.out')\n",
            "BLEU4 = 3.44, 16.0/4.9/1.9/0.9 (BP=1.000, ratio=2.156, syslen=57632, reflen=26734)\n"
          ],
          "name": "stdout"
        }
      ]
    },
    {
      "cell_type": "markdown",
      "metadata": {
        "id": "W8vuBCn5Ixcn"
      },
      "source": [
        "BLEUスコア＝3.44は低すぎる。"
      ]
    },
    {
      "cell_type": "markdown",
      "metadata": {
        "id": "DTUKBYZlz5wQ"
      },
      "source": [
        "学習率0.0005"
      ]
    },
    {
      "cell_type": "code",
      "metadata": {
        "colab": {
          "base_uri": "https://localhost:8080/"
        },
        "id": "GhlGedU_z5Zo",
        "outputId": "c3daa2d8-6160-4856-ae32-90aaf761b60d"
      },
      "source": [
        "!fairseq-score --sys 92.out --ref kftt-data-1.0/data/tok/kyoto-test.en"
      ],
      "execution_count": null,
      "outputs": [
        {
          "output_type": "stream",
          "text": [
            "Namespace(ignore_case=False, order=4, ref='kftt-data-1.0/data/tok/kyoto-test.en', sacrebleu=False, sentence_bleu=False, sys='92.out')\n",
            "BLEU4 = 20.44, 51.4/25.7/14.6/9.1 (BP=1.000, ratio=1.049, syslen=28048, reflen=26734)\n"
          ],
          "name": "stdout"
        }
      ]
    },
    {
      "cell_type": "markdown",
      "metadata": {
        "id": "ZDWHR4PD1Psk"
      },
      "source": [
        "学習率を半分にすると、同じエポック数でもBLEUスコアが大幅に向上した（なんで？）"
      ]
    },
    {
      "cell_type": "code",
      "metadata": {
        "colab": {
          "base_uri": "https://localhost:8080/"
        },
        "id": "SAu8W3cNrteF",
        "outputId": "f4547fc2-e0b5-4abd-cdb6-895f61e01b96"
      },
      "source": [
        "!head -9 kftt-data-1.0/data/tok/kyoto-test.en"
      ],
      "execution_count": null,
      "outputs": [
        {
          "output_type": "stream",
          "text": [
            "Infobox Buddhist\n",
            "Dogen was a Zen monk in the early Kamakura period .\n",
            "The founder of Soto Zen\n",
            "Later in his life he also went by the name Kigen .\n",
            "Within the sect he is referred to by the honorary title Koso .\n",
            "Posthumously named Bussho Dento Kokushi , or Joyo-Daishi .\n",
            "He is generally called Dogen Zenji .\n",
            "He is reputed to have been the one that spread the practices of tooth brushing , face washing , table manners and cleaning in Japan .\n",
            "Another story has it that he was the first one to bring Moso-chiku ( Moso bamboo ) to Japan .\n"
          ],
          "name": "stdout"
        }
      ]
    },
    {
      "cell_type": "markdown",
      "metadata": {
        "id": "ODLyBIQV1uU0"
      },
      "source": [
        "翻訳された出力の例\n",
        "\n",
        "Dogen was a Zen priest who lived during the early Kamakura period .\n",
        "\n",
        "Founder of the Soto sect .\n",
        "\n",
        "He was also called <unk> in his later years .\n",
        "\n",
        "He was given the honorific title of Koso in <unk> .\n",
        "\n",
        "His posthumous Buddhist name was <unk> Kokushi and <unk> Daishi .\n",
        "\n",
        "It is generally called Dogen Zenji .\n",
        "\n",
        "It is said that Japanese people spread the custom of <unk> ( <unk> ) , <unk> ( <unk> ) , and cleaning in a meal .\n",
        "\n",
        "There is a theory that he first brought back <unk> ( <unk> ) to Japan .\n",
        "\n"
      ]
    },
    {
      "cell_type": "markdown",
      "metadata": {
        "id": "d3b2axQ1HQnV"
      },
      "source": [
        "### **94. ビーム探索**\n",
        "91で学習したニューラル機械翻訳モデルで翻訳文をデコードする際に，ビーム探索を導入せよ．ビーム幅を1から100くらいまで適当に変化させながら，開発セット上のBLEUスコアの変化をプロットせよ．"
      ]
    },
    {
      "cell_type": "markdown",
      "metadata": {
        "id": "pb8v3OPjnBYx"
      },
      "source": [
        "**ビームサーチとは**\n",
        "\n",
        "ビーム幅Kのビームサーチは、現在持っているK個以下の状態から、１手先だけを探索し、評価値で上からK個の状態を、次の状態として保持する、という感じです。\n",
        "\n",
        "当然、K＝１の時は、貪欲法と同じ結果になります。\n",
        "\n",
        "貪欲法である程度良い解が出せるが、最適な解が出せない、というような問題に対し、手軽により良い解を見つけることが出来ます。\n",
        "\n",
        "https://chokudai.hatenablog.com/entry/2017/04/12/055515"
      ]
    },
    {
      "cell_type": "code",
      "metadata": {
        "id": "E43d6QChHtKq",
        "colab": {
          "base_uri": "https://localhost:8080/"
        },
        "outputId": "e358f841-ba7c-452c-e7dc-18c042356886"
      },
      "source": [
        "!for N in `seq 1 20` ; do fairseq-interactive --path save91/checkpoint10.pt --beam $N data91 < kftt-data-1.0/data/tok/kyoto-test.ja | grep '^H' | cut -f3 > 94.$N.out ; done\n",
        "\n",
        "!for N in `seq 1 20` ; do fairseq-score --sys 94.$N.out --ref kftt-data-1.0/data/tok/kyoto-test.en > 94.$N.score ; done"
      ],
      "execution_count": null,
      "outputs": [
        {
          "output_type": "stream",
          "text": [
            "/usr/local/lib/python3.7/dist-packages/torch/_tensor.py:575: UserWarning: floor_divide is deprecated, and will be removed in a future version of pytorch. It currently rounds toward 0 (like the 'trunc' function NOT 'floor'). This results in incorrect rounding for negative values.\n",
            "To keep the current behavior, use torch.div(a, b, rounding_mode='trunc'), or for actual floor division, use torch.div(a, b, rounding_mode='floor'). (Triggered internally at  /pytorch/aten/src/ATen/native/BinaryOps.cpp:467.)\n",
            "  return torch.floor_divide(self, other)\n",
            "/usr/local/lib/python3.7/dist-packages/torch/_tensor.py:575: UserWarning: floor_divide is deprecated, and will be removed in a future version of pytorch. It currently rounds toward 0 (like the 'trunc' function NOT 'floor'). This results in incorrect rounding for negative values.\n",
            "To keep the current behavior, use torch.div(a, b, rounding_mode='trunc'), or for actual floor division, use torch.div(a, b, rounding_mode='floor'). (Triggered internally at  /pytorch/aten/src/ATen/native/BinaryOps.cpp:467.)\n",
            "  return torch.floor_divide(self, other)\n",
            "/usr/local/lib/python3.7/dist-packages/torch/_tensor.py:575: UserWarning: floor_divide is deprecated, and will be removed in a future version of pytorch. It currently rounds toward 0 (like the 'trunc' function NOT 'floor'). This results in incorrect rounding for negative values.\n",
            "To keep the current behavior, use torch.div(a, b, rounding_mode='trunc'), or for actual floor division, use torch.div(a, b, rounding_mode='floor'). (Triggered internally at  /pytorch/aten/src/ATen/native/BinaryOps.cpp:467.)\n",
            "  return torch.floor_divide(self, other)\n",
            "/usr/local/lib/python3.7/dist-packages/torch/_tensor.py:575: UserWarning: floor_divide is deprecated, and will be removed in a future version of pytorch. It currently rounds toward 0 (like the 'trunc' function NOT 'floor'). This results in incorrect rounding for negative values.\n",
            "To keep the current behavior, use torch.div(a, b, rounding_mode='trunc'), or for actual floor division, use torch.div(a, b, rounding_mode='floor'). (Triggered internally at  /pytorch/aten/src/ATen/native/BinaryOps.cpp:467.)\n",
            "  return torch.floor_divide(self, other)\n",
            "/usr/local/lib/python3.7/dist-packages/torch/_tensor.py:575: UserWarning: floor_divide is deprecated, and will be removed in a future version of pytorch. It currently rounds toward 0 (like the 'trunc' function NOT 'floor'). This results in incorrect rounding for negative values.\n",
            "To keep the current behavior, use torch.div(a, b, rounding_mode='trunc'), or for actual floor division, use torch.div(a, b, rounding_mode='floor'). (Triggered internally at  /pytorch/aten/src/ATen/native/BinaryOps.cpp:467.)\n",
            "  return torch.floor_divide(self, other)\n",
            "/usr/local/lib/python3.7/dist-packages/torch/_tensor.py:575: UserWarning: floor_divide is deprecated, and will be removed in a future version of pytorch. It currently rounds toward 0 (like the 'trunc' function NOT 'floor'). This results in incorrect rounding for negative values.\n",
            "To keep the current behavior, use torch.div(a, b, rounding_mode='trunc'), or for actual floor division, use torch.div(a, b, rounding_mode='floor'). (Triggered internally at  /pytorch/aten/src/ATen/native/BinaryOps.cpp:467.)\n",
            "  return torch.floor_divide(self, other)\n",
            "/usr/local/lib/python3.7/dist-packages/torch/_tensor.py:575: UserWarning: floor_divide is deprecated, and will be removed in a future version of pytorch. It currently rounds toward 0 (like the 'trunc' function NOT 'floor'). This results in incorrect rounding for negative values.\n",
            "To keep the current behavior, use torch.div(a, b, rounding_mode='trunc'), or for actual floor division, use torch.div(a, b, rounding_mode='floor'). (Triggered internally at  /pytorch/aten/src/ATen/native/BinaryOps.cpp:467.)\n",
            "  return torch.floor_divide(self, other)\n",
            "/usr/local/lib/python3.7/dist-packages/torch/_tensor.py:575: UserWarning: floor_divide is deprecated, and will be removed in a future version of pytorch. It currently rounds toward 0 (like the 'trunc' function NOT 'floor'). This results in incorrect rounding for negative values.\n",
            "To keep the current behavior, use torch.div(a, b, rounding_mode='trunc'), or for actual floor division, use torch.div(a, b, rounding_mode='floor'). (Triggered internally at  /pytorch/aten/src/ATen/native/BinaryOps.cpp:467.)\n",
            "  return torch.floor_divide(self, other)\n",
            "/usr/local/lib/python3.7/dist-packages/torch/_tensor.py:575: UserWarning: floor_divide is deprecated, and will be removed in a future version of pytorch. It currently rounds toward 0 (like the 'trunc' function NOT 'floor'). This results in incorrect rounding for negative values.\n",
            "To keep the current behavior, use torch.div(a, b, rounding_mode='trunc'), or for actual floor division, use torch.div(a, b, rounding_mode='floor'). (Triggered internally at  /pytorch/aten/src/ATen/native/BinaryOps.cpp:467.)\n",
            "  return torch.floor_divide(self, other)\n",
            "/usr/local/lib/python3.7/dist-packages/torch/_tensor.py:575: UserWarning: floor_divide is deprecated, and will be removed in a future version of pytorch. It currently rounds toward 0 (like the 'trunc' function NOT 'floor'). This results in incorrect rounding for negative values.\n",
            "To keep the current behavior, use torch.div(a, b, rounding_mode='trunc'), or for actual floor division, use torch.div(a, b, rounding_mode='floor'). (Triggered internally at  /pytorch/aten/src/ATen/native/BinaryOps.cpp:467.)\n",
            "  return torch.floor_divide(self, other)\n",
            "Traceback (most recent call last):\n",
            "  File \"/usr/local/bin/fairseq-interactive\", line 8, in <module>\n",
            "    sys.exit(cli_main())\n",
            "  File \"/usr/local/lib/python3.7/dist-packages/fairseq_cli/interactive.py\", line 307, in cli_main\n",
            "    distributed_utils.call_main(args, main)\n",
            "  File \"/usr/local/lib/python3.7/dist-packages/fairseq/distributed_utils.py\", line 301, in call_main\n",
            "    main(args, **kwargs)\n",
            "  File \"/usr/local/lib/python3.7/dist-packages/fairseq_cli/interactive.py\", line 224, in main\n",
            "    generator, models, sample, constraints=constraints\n",
            "  File \"/usr/local/lib/python3.7/dist-packages/fairseq/tasks/fairseq_task.py\", line 434, in inference_step\n",
            "    models, sample, prefix_tokens=prefix_tokens, constraints=constraints\n",
            "  File \"/usr/local/lib/python3.7/dist-packages/torch/autograd/grad_mode.py\", line 28, in decorate_context\n",
            "    return func(*args, **kwargs)\n",
            "  File \"/usr/local/lib/python3.7/dist-packages/fairseq/sequence_generator.py\", line 177, in generate\n",
            "    return self._generate(sample, **kwargs)\n",
            "  File \"/usr/local/lib/python3.7/dist-packages/fairseq/sequence_generator.py\", line 316, in _generate\n",
            "    self.temperature,\n",
            "  File \"/usr/local/lib/python3.7/dist-packages/fairseq/sequence_generator.py\", line 827, in forward_decoder\n",
            "    incremental_state=incremental_states[i],\n",
            "  File \"/usr/local/lib/python3.7/dist-packages/fairseq/models/transformer.py\", line 691, in forward\n",
            "    alignment_heads=alignment_heads,\n",
            "  File \"/usr/local/lib/python3.7/dist-packages/fairseq/models/transformer.py\", line 712, in extract_features\n",
            "    alignment_heads,\n",
            "  File \"/usr/local/lib/python3.7/dist-packages/fairseq/models/transformer.py\", line 807, in extract_features_scriptable\n",
            "    need_head_weights=bool((idx == alignment_layer)),\n",
            "  File \"/usr/local/lib/python3.7/dist-packages/torch/nn/modules/module.py\", line 1051, in _call_impl\n",
            "    return forward_call(*input, **kwargs)\n",
            "  File \"/usr/local/lib/python3.7/dist-packages/fairseq/modules/transformer_layer.py\", line 352, in forward\n",
            "    attn_mask=self_attn_mask,\n",
            "  File \"/usr/local/lib/python3.7/dist-packages/torch/nn/modules/module.py\", line 1051, in _call_impl\n",
            "    return forward_call(*input, **kwargs)\n",
            "  File \"/usr/local/lib/python3.7/dist-packages/fairseq/modules/multihead_attention.py\", line 275, in forward\n",
            "    v = torch.cat([prev_value, v], dim=1)\n",
            "KeyboardInterrupt\n",
            "/usr/local/lib/python3.7/dist-packages/torch/_tensor.py:575: UserWarning: floor_divide is deprecated, and will be removed in a future version of pytorch. It currently rounds toward 0 (like the 'trunc' function NOT 'floor'). This results in incorrect rounding for negative values.\n",
            "To keep the current behavior, use torch.div(a, b, rounding_mode='trunc'), or for actual floor division, use torch.div(a, b, rounding_mode='floor'). (Triggered internally at  /pytorch/aten/src/ATen/native/BinaryOps.cpp:467.)\n",
            "  return torch.floor_divide(self, other)\n",
            "Traceback (most recent call last):\n",
            "  File \"/usr/local/bin/fairseq-interactive\", line 8, in <module>\n",
            "    sys.exit(cli_main())\n",
            "  File \"/usr/local/lib/python3.7/dist-packages/fairseq_cli/interactive.py\", line 307, in cli_main\n",
            "    distributed_utils.call_main(args, main)\n",
            "  File \"/usr/local/lib/python3.7/dist-packages/fairseq/distributed_utils.py\", line 301, in call_main\n",
            "    main(args, **kwargs)\n",
            "  File \"/usr/local/lib/python3.7/dist-packages/fairseq_cli/interactive.py\", line 224, in main\n",
            "    generator, models, sample, constraints=constraints\n",
            "  File \"/usr/local/lib/python3.7/dist-packages/fairseq/tasks/fairseq_task.py\", line 434, in inference_step\n",
            "    models, sample, prefix_tokens=prefix_tokens, constraints=constraints\n",
            "  File \"/usr/local/lib/python3.7/dist-packages/torch/autograd/grad_mode.py\", line 28, in decorate_context\n",
            "    return func(*args, **kwargs)\n",
            "  File \"/usr/local/lib/python3.7/dist-packages/fairseq/sequence_generator.py\", line 177, in generate\n",
            "    return self._generate(sample, **kwargs)\n",
            "  File \"/usr/local/lib/python3.7/dist-packages/fairseq/sequence_generator.py\", line 378, in _generate\n",
            "    original_batch_idxs,\n",
            "  File \"/usr/local/lib/python3.7/dist-packages/fairseq/search.py\", line 134, in step\n",
            "    lprobs.view(bsz, -1).size(1) - 1,  # -1 so we never select pad\n",
            "KeyboardInterrupt\n",
            "^C\n",
            "Traceback (most recent call last):\n",
            "  File \"/usr/local/bin/fairseq-score\", line 8, in <module>\n",
            "    sys.exit(cli_main())\n",
            "  File \"/usr/local/lib/python3.7/dist-packages/fairseq_cli/score.py\", line 92, in cli_main\n",
            "    score(f)\n",
            "  File \"/usr/local/lib/python3.7/dist-packages/fairseq_cli/score.py\", line 86, in score\n",
            "    print(scorer.result_string(args.order))\n",
            "  File \"/usr/local/lib/python3.7/dist-packages/fairseq/scoring/bleu.py\", line 151, in result_string\n",
            "    self.score(order=order),\n",
            "  File \"/usr/local/lib/python3.7/dist-packages/fairseq/scoring/bleu.py\", line 125, in score\n",
            "    return self.brevity() * math.exp(psum / order) * 100\n",
            "  File \"/usr/local/lib/python3.7/dist-packages/fairseq/scoring/bleu.py\", line 139, in brevity\n",
            "    r = self.stat.reflen / self.stat.predlen\n",
            "ZeroDivisionError: division by zero\n",
            "Traceback (most recent call last):\n",
            "  File \"/usr/local/bin/fairseq-score\", line 8, in <module>\n",
            "    sys.exit(cli_main())\n",
            "  File \"/usr/local/lib/python3.7/dist-packages/fairseq_cli/score.py\", line 44, in cli_main\n",
            "    ), \"System output file {} does not exist\".format(args.sys)\n",
            "AssertionError: System output file 94.12.out does not exist\n",
            "Traceback (most recent call last):\n",
            "  File \"/usr/local/bin/fairseq-score\", line 8, in <module>\n",
            "    sys.exit(cli_main())\n",
            "  File \"/usr/local/lib/python3.7/dist-packages/fairseq_cli/score.py\", line 44, in cli_main\n",
            "    ), \"System output file {} does not exist\".format(args.sys)\n",
            "AssertionError: System output file 94.13.out does not exist\n",
            "Traceback (most recent call last):\n",
            "  File \"/usr/local/bin/fairseq-score\", line 8, in <module>\n",
            "    sys.exit(cli_main())\n",
            "  File \"/usr/local/lib/python3.7/dist-packages/fairseq_cli/score.py\", line 44, in cli_main\n",
            "    ), \"System output file {} does not exist\".format(args.sys)\n",
            "AssertionError: System output file 94.14.out does not exist\n",
            "Traceback (most recent call last):\n",
            "  File \"/usr/local/bin/fairseq-score\", line 8, in <module>\n",
            "    sys.exit(cli_main())\n",
            "  File \"/usr/local/lib/python3.7/dist-packages/fairseq_cli/score.py\", line 44, in cli_main\n",
            "    ), \"System output file {} does not exist\".format(args.sys)\n",
            "AssertionError: System output file 94.15.out does not exist\n",
            "Traceback (most recent call last):\n",
            "  File \"/usr/local/bin/fairseq-score\", line 8, in <module>\n",
            "    sys.exit(cli_main())\n",
            "  File \"/usr/local/lib/python3.7/dist-packages/fairseq_cli/score.py\", line 44, in cli_main\n",
            "    ), \"System output file {} does not exist\".format(args.sys)\n",
            "AssertionError: System output file 94.16.out does not exist\n",
            "Traceback (most recent call last):\n",
            "  File \"/usr/local/bin/fairseq-score\", line 8, in <module>\n",
            "    sys.exit(cli_main())\n",
            "  File \"/usr/local/lib/python3.7/dist-packages/fairseq_cli/score.py\", line 44, in cli_main\n",
            "    ), \"System output file {} does not exist\".format(args.sys)\n",
            "AssertionError: System output file 94.17.out does not exist\n",
            "Traceback (most recent call last):\n",
            "  File \"/usr/local/bin/fairseq-score\", line 8, in <module>\n",
            "    sys.exit(cli_main())\n",
            "  File \"/usr/local/lib/python3.7/dist-packages/fairseq_cli/score.py\", line 44, in cli_main\n",
            "    ), \"System output file {} does not exist\".format(args.sys)\n",
            "AssertionError: System output file 94.18.out does not exist\n",
            "Traceback (most recent call last):\n",
            "  File \"/usr/local/bin/fairseq-score\", line 8, in <module>\n",
            "    sys.exit(cli_main())\n",
            "  File \"/usr/local/lib/python3.7/dist-packages/fairseq_cli/score.py\", line 44, in cli_main\n",
            "    ), \"System output file {} does not exist\".format(args.sys)\n",
            "AssertionError: System output file 94.19.out does not exist\n",
            "Traceback (most recent call last):\n",
            "  File \"/usr/local/bin/fairseq-score\", line 8, in <module>\n",
            "    sys.exit(cli_main())\n",
            "  File \"/usr/local/lib/python3.7/dist-packages/fairseq_cli/score.py\", line 44, in cli_main\n",
            "    ), \"System output file {} does not exist\".format(args.sys)\n",
            "AssertionError: System output file 94.20.out does not exist\n"
          ],
          "name": "stdout"
        }
      ]
    },
    {
      "cell_type": "markdown",
      "metadata": {
        "id": "uJ1JPI9xoJZU"
      },
      "source": [
        "時間の関係でビーム幅は1から10まで"
      ]
    },
    {
      "cell_type": "code",
      "metadata": {
        "id": "IsmJvze_dDnj"
      },
      "source": [
        "!for N in `seq 1 10` ; do fairseq-score --sys 94.$N.out --ref kftt-data-1.0/data/tok/kyoto-test.en > 94.$N.score ; done"
      ],
      "execution_count": null,
      "outputs": []
    },
    {
      "cell_type": "markdown",
      "metadata": {
        "id": "ke1ybayHsS-y"
      },
      "source": [
        "BLEUスコアの変化をグラフにする"
      ]
    },
    {
      "cell_type": "code",
      "metadata": {
        "id": "hdMChbHJsTY_",
        "colab": {
          "base_uri": "https://localhost:8080/",
          "height": 265
        },
        "outputId": "51e611cf-c0c4-41e7-b0b2-128c158f8d09"
      },
      "source": [
        "import matplotlib.pyplot as plt\n",
        "import re\n",
        "\n",
        "def read_score(filename):\n",
        "    with open(filename) as f:\n",
        "        x = f.readlines()[1]\n",
        "        x = re.search(r'(?<=BLEU4 = )\\d*\\.\\d*(?=,)', x)\n",
        "        return float(x.group())\n",
        "\n",
        "xs = range(1, 10)\n",
        "ys = [read_score(f'94.{x}.score') for x in xs]            \n",
        "plt.plot(xs, ys)                              \n",
        "plt.show()"
      ],
      "execution_count": null,
      "outputs": [
        {
          "output_type": "display_data",
          "data": {
            "image/png": "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\n",
            "text/plain": [
              "<Figure size 432x288 with 1 Axes>"
            ]
          },
          "metadata": {
            "tags": [],
            "needs_background": "light"
          }
        }
      ]
    },
    {
      "cell_type": "markdown",
      "metadata": {
        "id": "qjfk8W_ZHttw"
      },
      "source": [
        "### **95. サブワード化**\n",
        "トークンの単位を単語や形態素からサブワードに変更し，91-94の実験を再度実施せよ．"
      ]
    },
    {
      "cell_type": "markdown",
      "metadata": {
        "id": "DanKSmYgj3AU"
      },
      "source": [
        "**サブワードとは**\n",
        "\n",
        "サブワードというのはテキストの中で低頻度で現れる単語は文字や部分文字列に分解しちゃおうという考え方です。サブワードは事前に単語単位に分解して各単語の頻度を求めます。高頻度で現れる単語はひとつの単語として扱い、低頻度で現れる単語はより短い単位に分解していきます。最終的には単語の数は事前に設定されたサイズになるように分割を進めていきます。\n",
        "\n",
        "サブワードを使うメリットとしては未知語がなくなるという点が挙げられます。なぜなら、低頻度で現れる単語は最終的には文字に変換されてしまうからです。\n",
        "\n",
        "形態素解析だと辞書に登録されていない単語は未知語になってしまいますが、サブワードだとそうはなりません。しかし、サブワードは単語の意味を考慮した分解はしないので、この点がサブワードのデメリットと言えるかもしれません。\n",
        "\n",
        "https://www.pytry3g.com/entry/sentencepiece-and-subword#%E3%82%B5%E3%83%96%E3%83%AF%E3%83%BC%E3%83%89%E3%81%A8%E3%81%AF\n"
      ]
    },
    {
      "cell_type": "markdown",
      "metadata": {
        "id": "lsTCRB2clfsP"
      },
      "source": [
        "日本語のサブワード化には、sentencepieceを用いる"
      ]
    },
    {
      "cell_type": "code",
      "metadata": {
        "colab": {
          "base_uri": "https://localhost:8080/"
        },
        "id": "ej0IwijZ37NS",
        "outputId": "696bae25-d309-437a-9c02-2b9e5b431883"
      },
      "source": [
        "!pip install sentencepiece"
      ],
      "execution_count": null,
      "outputs": [
        {
          "output_type": "stream",
          "text": [
            "Collecting sentencepiece\n",
            "  Downloading sentencepiece-0.1.96-cp37-cp37m-manylinux_2_17_x86_64.manylinux2014_x86_64.whl (1.2 MB)\n",
            "\u001b[?25l\r\u001b[K     |▎                               | 10 kB 31.8 MB/s eta 0:00:01\r\u001b[K     |▌                               | 20 kB 30.9 MB/s eta 0:00:01\r\u001b[K     |▉                               | 30 kB 19.8 MB/s eta 0:00:01\r\u001b[K     |█                               | 40 kB 16.0 MB/s eta 0:00:01\r\u001b[K     |█▍                              | 51 kB 8.8 MB/s eta 0:00:01\r\u001b[K     |█▋                              | 61 kB 9.2 MB/s eta 0:00:01\r\u001b[K     |██                              | 71 kB 8.9 MB/s eta 0:00:01\r\u001b[K     |██▏                             | 81 kB 9.9 MB/s eta 0:00:01\r\u001b[K     |██▍                             | 92 kB 10.4 MB/s eta 0:00:01\r\u001b[K     |██▊                             | 102 kB 8.5 MB/s eta 0:00:01\r\u001b[K     |███                             | 112 kB 8.5 MB/s eta 0:00:01\r\u001b[K     |███▎                            | 122 kB 8.5 MB/s eta 0:00:01\r\u001b[K     |███▌                            | 133 kB 8.5 MB/s eta 0:00:01\r\u001b[K     |███▉                            | 143 kB 8.5 MB/s eta 0:00:01\r\u001b[K     |████                            | 153 kB 8.5 MB/s eta 0:00:01\r\u001b[K     |████▎                           | 163 kB 8.5 MB/s eta 0:00:01\r\u001b[K     |████▋                           | 174 kB 8.5 MB/s eta 0:00:01\r\u001b[K     |████▉                           | 184 kB 8.5 MB/s eta 0:00:01\r\u001b[K     |█████▏                          | 194 kB 8.5 MB/s eta 0:00:01\r\u001b[K     |█████▍                          | 204 kB 8.5 MB/s eta 0:00:01\r\u001b[K     |█████▊                          | 215 kB 8.5 MB/s eta 0:00:01\r\u001b[K     |██████                          | 225 kB 8.5 MB/s eta 0:00:01\r\u001b[K     |██████▏                         | 235 kB 8.5 MB/s eta 0:00:01\r\u001b[K     |██████▌                         | 245 kB 8.5 MB/s eta 0:00:01\r\u001b[K     |██████▊                         | 256 kB 8.5 MB/s eta 0:00:01\r\u001b[K     |███████                         | 266 kB 8.5 MB/s eta 0:00:01\r\u001b[K     |███████▎                        | 276 kB 8.5 MB/s eta 0:00:01\r\u001b[K     |███████▋                        | 286 kB 8.5 MB/s eta 0:00:01\r\u001b[K     |███████▉                        | 296 kB 8.5 MB/s eta 0:00:01\r\u001b[K     |████████                        | 307 kB 8.5 MB/s eta 0:00:01\r\u001b[K     |████████▍                       | 317 kB 8.5 MB/s eta 0:00:01\r\u001b[K     |████████▋                       | 327 kB 8.5 MB/s eta 0:00:01\r\u001b[K     |█████████                       | 337 kB 8.5 MB/s eta 0:00:01\r\u001b[K     |█████████▏                      | 348 kB 8.5 MB/s eta 0:00:01\r\u001b[K     |█████████▌                      | 358 kB 8.5 MB/s eta 0:00:01\r\u001b[K     |█████████▊                      | 368 kB 8.5 MB/s eta 0:00:01\r\u001b[K     |██████████                      | 378 kB 8.5 MB/s eta 0:00:01\r\u001b[K     |██████████▎                     | 389 kB 8.5 MB/s eta 0:00:01\r\u001b[K     |██████████▌                     | 399 kB 8.5 MB/s eta 0:00:01\r\u001b[K     |██████████▉                     | 409 kB 8.5 MB/s eta 0:00:01\r\u001b[K     |███████████                     | 419 kB 8.5 MB/s eta 0:00:01\r\u001b[K     |███████████▍                    | 430 kB 8.5 MB/s eta 0:00:01\r\u001b[K     |███████████▋                    | 440 kB 8.5 MB/s eta 0:00:01\r\u001b[K     |███████████▉                    | 450 kB 8.5 MB/s eta 0:00:01\r\u001b[K     |████████████▏                   | 460 kB 8.5 MB/s eta 0:00:01\r\u001b[K     |████████████▍                   | 471 kB 8.5 MB/s eta 0:00:01\r\u001b[K     |████████████▊                   | 481 kB 8.5 MB/s eta 0:00:01\r\u001b[K     |█████████████                   | 491 kB 8.5 MB/s eta 0:00:01\r\u001b[K     |█████████████▎                  | 501 kB 8.5 MB/s eta 0:00:01\r\u001b[K     |█████████████▌                  | 512 kB 8.5 MB/s eta 0:00:01\r\u001b[K     |█████████████▊                  | 522 kB 8.5 MB/s eta 0:00:01\r\u001b[K     |██████████████                  | 532 kB 8.5 MB/s eta 0:00:01\r\u001b[K     |██████████████▎                 | 542 kB 8.5 MB/s eta 0:00:01\r\u001b[K     |██████████████▋                 | 552 kB 8.5 MB/s eta 0:00:01\r\u001b[K     |██████████████▉                 | 563 kB 8.5 MB/s eta 0:00:01\r\u001b[K     |███████████████▏                | 573 kB 8.5 MB/s eta 0:00:01\r\u001b[K     |███████████████▍                | 583 kB 8.5 MB/s eta 0:00:01\r\u001b[K     |███████████████▋                | 593 kB 8.5 MB/s eta 0:00:01\r\u001b[K     |████████████████                | 604 kB 8.5 MB/s eta 0:00:01\r\u001b[K     |████████████████▏               | 614 kB 8.5 MB/s eta 0:00:01\r\u001b[K     |████████████████▌               | 624 kB 8.5 MB/s eta 0:00:01\r\u001b[K     |████████████████▊               | 634 kB 8.5 MB/s eta 0:00:01\r\u001b[K     |█████████████████               | 645 kB 8.5 MB/s eta 0:00:01\r\u001b[K     |█████████████████▎              | 655 kB 8.5 MB/s eta 0:00:01\r\u001b[K     |█████████████████▌              | 665 kB 8.5 MB/s eta 0:00:01\r\u001b[K     |█████████████████▉              | 675 kB 8.5 MB/s eta 0:00:01\r\u001b[K     |██████████████████              | 686 kB 8.5 MB/s eta 0:00:01\r\u001b[K     |██████████████████▍             | 696 kB 8.5 MB/s eta 0:00:01\r\u001b[K     |██████████████████▋             | 706 kB 8.5 MB/s eta 0:00:01\r\u001b[K     |███████████████████             | 716 kB 8.5 MB/s eta 0:00:01\r\u001b[K     |███████████████████▏            | 727 kB 8.5 MB/s eta 0:00:01\r\u001b[K     |███████████████████▍            | 737 kB 8.5 MB/s eta 0:00:01\r\u001b[K     |███████████████████▊            | 747 kB 8.5 MB/s eta 0:00:01\r\u001b[K     |████████████████████            | 757 kB 8.5 MB/s eta 0:00:01\r\u001b[K     |████████████████████▎           | 768 kB 8.5 MB/s eta 0:00:01\r\u001b[K     |████████████████████▌           | 778 kB 8.5 MB/s eta 0:00:01\r\u001b[K     |████████████████████▉           | 788 kB 8.5 MB/s eta 0:00:01\r\u001b[K     |█████████████████████           | 798 kB 8.5 MB/s eta 0:00:01\r\u001b[K     |█████████████████████▎          | 808 kB 8.5 MB/s eta 0:00:01\r\u001b[K     |█████████████████████▋          | 819 kB 8.5 MB/s eta 0:00:01\r\u001b[K     |█████████████████████▉          | 829 kB 8.5 MB/s eta 0:00:01\r\u001b[K     |██████████████████████▏         | 839 kB 8.5 MB/s eta 0:00:01\r\u001b[K     |██████████████████████▍         | 849 kB 8.5 MB/s eta 0:00:01\r\u001b[K     |██████████████████████▊         | 860 kB 8.5 MB/s eta 0:00:01\r\u001b[K     |███████████████████████         | 870 kB 8.5 MB/s eta 0:00:01\r\u001b[K     |███████████████████████▏        | 880 kB 8.5 MB/s eta 0:00:01\r\u001b[K     |███████████████████████▌        | 890 kB 8.5 MB/s eta 0:00:01\r\u001b[K     |███████████████████████▊        | 901 kB 8.5 MB/s eta 0:00:01\r\u001b[K     |████████████████████████        | 911 kB 8.5 MB/s eta 0:00:01\r\u001b[K     |████████████████████████▎       | 921 kB 8.5 MB/s eta 0:00:01\r\u001b[K     |████████████████████████▋       | 931 kB 8.5 MB/s eta 0:00:01\r\u001b[K     |████████████████████████▉       | 942 kB 8.5 MB/s eta 0:00:01\r\u001b[K     |█████████████████████████       | 952 kB 8.5 MB/s eta 0:00:01\r\u001b[K     |█████████████████████████▍      | 962 kB 8.5 MB/s eta 0:00:01\r\u001b[K     |█████████████████████████▋      | 972 kB 8.5 MB/s eta 0:00:01\r\u001b[K     |██████████████████████████      | 983 kB 8.5 MB/s eta 0:00:01\r\u001b[K     |██████████████████████████▏     | 993 kB 8.5 MB/s eta 0:00:01\r\u001b[K     |██████████████████████████▌     | 1.0 MB 8.5 MB/s eta 0:00:01\r\u001b[K     |██████████████████████████▊     | 1.0 MB 8.5 MB/s eta 0:00:01\r\u001b[K     |███████████████████████████     | 1.0 MB 8.5 MB/s eta 0:00:01\r\u001b[K     |███████████████████████████▎    | 1.0 MB 8.5 MB/s eta 0:00:01\r\u001b[K     |███████████████████████████▌    | 1.0 MB 8.5 MB/s eta 0:00:01\r\u001b[K     |███████████████████████████▉    | 1.1 MB 8.5 MB/s eta 0:00:01\r\u001b[K     |████████████████████████████    | 1.1 MB 8.5 MB/s eta 0:00:01\r\u001b[K     |████████████████████████████▍   | 1.1 MB 8.5 MB/s eta 0:00:01\r\u001b[K     |████████████████████████████▋   | 1.1 MB 8.5 MB/s eta 0:00:01\r\u001b[K     |████████████████████████████▉   | 1.1 MB 8.5 MB/s eta 0:00:01\r\u001b[K     |█████████████████████████████▏  | 1.1 MB 8.5 MB/s eta 0:00:01\r\u001b[K     |█████████████████████████████▍  | 1.1 MB 8.5 MB/s eta 0:00:01\r\u001b[K     |█████████████████████████████▊  | 1.1 MB 8.5 MB/s eta 0:00:01\r\u001b[K     |██████████████████████████████  | 1.1 MB 8.5 MB/s eta 0:00:01\r\u001b[K     |██████████████████████████████▎ | 1.1 MB 8.5 MB/s eta 0:00:01\r\u001b[K     |██████████████████████████████▌ | 1.2 MB 8.5 MB/s eta 0:00:01\r\u001b[K     |██████████████████████████████▊ | 1.2 MB 8.5 MB/s eta 0:00:01\r\u001b[K     |███████████████████████████████ | 1.2 MB 8.5 MB/s eta 0:00:01\r\u001b[K     |███████████████████████████████▎| 1.2 MB 8.5 MB/s eta 0:00:01\r\u001b[K     |███████████████████████████████▋| 1.2 MB 8.5 MB/s eta 0:00:01\r\u001b[K     |███████████████████████████████▉| 1.2 MB 8.5 MB/s eta 0:00:01\r\u001b[K     |████████████████████████████████| 1.2 MB 8.5 MB/s \n",
            "\u001b[?25hInstalling collected packages: sentencepiece\n",
            "Successfully installed sentencepiece-0.1.96\n"
          ],
          "name": "stdout"
        }
      ]
    },
    {
      "cell_type": "code",
      "metadata": {
        "id": "oQCf-yc11Af-"
      },
      "source": [
        "import sentencepiece as spm\n",
        "import re\n",
        "\n",
        "spm.SentencePieceTrainer.Train('--input=kftt-data-1.0/data/orig/kyoto-train.ja --model_prefix=kyoto_ja --vocab_size=16000 --character_coverage=1.0')\n",
        "\n",
        "sp = spm.SentencePieceProcessor()\n",
        "sp.Load('kyoto_ja.model')\n",
        "\n",
        "for src, dst in [\n",
        "    ('kftt-data-1.0/data/orig/kyoto-train.ja', 'train.sub.ja'),\n",
        "    ('kftt-data-1.0/data/orig/kyoto-dev.ja', 'dev.sub.ja'),\n",
        "    ('kftt-data-1.0/data/orig/kyoto-test.ja', 'test.sub.ja'),\n",
        "]:\n",
        "    with open(src) as f, open(dst, 'w') as g:\n",
        "        for x in f:\n",
        "            x = x.strip()\n",
        "            x = re.sub(r'\\s+', ' ', x)\n",
        "            x = sp.encode_as_pieces(x)\n",
        "            x = ' '.join(x)\n",
        "            print(x, file=g)"
      ],
      "execution_count": null,
      "outputs": []
    },
    {
      "cell_type": "markdown",
      "metadata": {
        "id": "rFmsWPhokMt-"
      },
      "source": [
        "英語のサブワード化には、subword-nmtを用いる"
      ]
    },
    {
      "cell_type": "code",
      "metadata": {
        "colab": {
          "base_uri": "https://localhost:8080/"
        },
        "id": "-9T_Riwk7Gxx",
        "outputId": "3435b3fd-b155-4851-a8e2-e222b1a21de0"
      },
      "source": [
        "!pip install subword-nmt"
      ],
      "execution_count": null,
      "outputs": [
        {
          "output_type": "stream",
          "text": [
            "Collecting subword-nmt\n",
            "  Downloading subword_nmt-0.3.7-py2.py3-none-any.whl (26 kB)\n",
            "Installing collected packages: subword-nmt\n",
            "Successfully installed subword-nmt-0.3.7\n"
          ],
          "name": "stdout"
        }
      ]
    },
    {
      "cell_type": "code",
      "metadata": {
        "id": "8jex5W57H0H-"
      },
      "source": [
        "!subword-nmt learn-bpe -s 16000 < kftt-data-1.0/data/orig/kyoto-train.en > kyoto_en.codes\n",
        "!subword-nmt apply-bpe -c kyoto_en.codes < kftt-data-1.0/data/orig/kyoto-train.en > train.sub.en\n",
        "!subword-nmt apply-bpe -c kyoto_en.codes < kftt-data-1.0/data/orig/kyoto-dev.en > dev.sub.en\n",
        "!subword-nmt apply-bpe -c kyoto_en.codes < kftt-data-1.0/data/orig/kyoto-test.en > test.sub.en"
      ],
      "execution_count": null,
      "outputs": []
    },
    {
      "cell_type": "markdown",
      "metadata": {
        "id": "_lj-SoEm7Wt4"
      },
      "source": [
        "前処理"
      ]
    },
    {
      "cell_type": "code",
      "metadata": {
        "colab": {
          "base_uri": "https://localhost:8080/"
        },
        "id": "8vIw7Gm87ank",
        "outputId": "996cfaca-ad2c-4787-d97e-a363142a1f42"
      },
      "source": [
        "!fairseq-preprocess -s ja -t en \\\n",
        "    --trainpref train.sub \\\n",
        "    --validpref dev.sub \\\n",
        "    --testpref test.sub \\\n",
        "    --destdir data95  \\\n",
        "    --workers 20"
      ],
      "execution_count": null,
      "outputs": [
        {
          "output_type": "stream",
          "text": [
            "2021-07-20 08:01:05 | INFO | fairseq_cli.preprocess | Namespace(align_suffix=None, alignfile=None, all_gather_list_size=16384, bf16=False, bpe=None, checkpoint_shard_count=1, checkpoint_suffix='', cpu=False, criterion='cross_entropy', dataset_impl='mmap', destdir='data95', empty_cache_freq=0, fp16=False, fp16_init_scale=128, fp16_no_flatten_grads=False, fp16_scale_tolerance=0.0, fp16_scale_window=None, joined_dictionary=False, log_format=None, log_interval=100, lr_scheduler='fixed', memory_efficient_bf16=False, memory_efficient_fp16=False, min_loss_scale=0.0001, model_parallel_size=1, no_progress_bar=False, nwordssrc=-1, nwordstgt=-1, only_source=False, optimizer=None, padding_factor=8, profile=False, quantization_config_path=None, scoring='bleu', seed=1, source_lang='ja', srcdict=None, target_lang='en', task='translation', tensorboard_logdir=None, testpref='test.sub', tgtdict=None, threshold_loss_scale=None, thresholdsrc=0, thresholdtgt=0, tokenizer=None, tpu=False, trainpref='train.sub', user_dir=None, validpref='dev.sub', workers=20)\n",
            "2021-07-20 08:02:23 | INFO | fairseq_cli.preprocess | [ja] Dictionary: 16000 types\n",
            "2021-07-20 08:03:43 | INFO | fairseq_cli.preprocess | [ja] train.sub.ja: 440288 sents, 10735573 tokens, 0.0% replaced by <unk>\n",
            "2021-07-20 08:03:43 | INFO | fairseq_cli.preprocess | [ja] Dictionary: 16000 types\n",
            "2021-07-20 08:03:44 | INFO | fairseq_cli.preprocess | [ja] dev.sub.ja: 1166 sents, 24825 tokens, 0.0121% replaced by <unk>\n",
            "2021-07-20 08:03:44 | INFO | fairseq_cli.preprocess | [ja] Dictionary: 16000 types\n",
            "2021-07-20 08:03:45 | INFO | fairseq_cli.preprocess | [ja] test.sub.ja: 1160 sents, 26821 tokens, 0.0% replaced by <unk>\n",
            "2021-07-20 08:03:45 | INFO | fairseq_cli.preprocess | [en] Dictionary: 20872 types\n",
            "2021-07-20 08:04:44 | INFO | fairseq_cli.preprocess | [en] train.sub.en: 440288 sents, 13280091 tokens, 0.0% replaced by <unk>\n",
            "2021-07-20 08:04:44 | INFO | fairseq_cli.preprocess | [en] Dictionary: 20872 types\n",
            "2021-07-20 08:04:45 | INFO | fairseq_cli.preprocess | [en] dev.sub.en: 1166 sents, 29011 tokens, 0.00345% replaced by <unk>\n",
            "2021-07-20 08:04:45 | INFO | fairseq_cli.preprocess | [en] Dictionary: 20872 types\n",
            "2021-07-20 08:04:46 | INFO | fairseq_cli.preprocess | [en] test.sub.en: 1160 sents, 31468 tokens, 0.00318% replaced by <unk>\n",
            "2021-07-20 08:04:46 | INFO | fairseq_cli.preprocess | Wrote preprocessed data to data95\n"
          ],
          "name": "stdout"
        }
      ]
    },
    {
      "cell_type": "markdown",
      "metadata": {
        "id": "l1-vNOa37ubJ"
      },
      "source": [
        "train"
      ]
    },
    {
      "cell_type": "code",
      "metadata": {
        "id": "nsiOxRc776sc"
      },
      "source": [
        "!fairseq-train data95 \\\n",
        "    --fp16 \\\n",
        "    --save-dir save95 \\\n",
        "    --tensorboard-logdir log95 \\\n",
        "    --max-epoch 10 \\\n",
        "    --arch transformer --share-decoder-input-output-embed \\\n",
        "    --optimizer adam --clip-norm 1.0 \\\n",
        "    --lr 5e-4 --lr-scheduler inverse_sqrt --warmup-updates 2000 \\\n",
        "    --update-freq 1 \\\n",
        "    --dropout 0.2 --weight-decay 0.0001 \\\n",
        "    --criterion label_smoothed_cross_entropy --label-smoothing 0.1 \\\n",
        "    --max-tokens 8000 > 95.log"
      ],
      "execution_count": null,
      "outputs": []
    },
    {
      "cell_type": "markdown",
      "metadata": {
        "id": "5dWDMht9oau6"
      },
      "source": [
        "8エポック目で、ColabのGPU使用制限になった。"
      ]
    },
    {
      "cell_type": "markdown",
      "metadata": {
        "id": "AvjMVeByNYla"
      },
      "source": [
        "生成"
      ]
    },
    {
      "cell_type": "code",
      "metadata": {
        "id": "RxUZ45WHNc2f",
        "colab": {
          "base_uri": "https://localhost:8080/"
        },
        "outputId": "ce5784ff-50f0-4bc2-d16b-9e548b4425b5"
      },
      "source": [
        "!fairseq-interactive --path save95/checkpoint7.pt data95 < test.sub.ja | grep '^H' | cut -f3 | sed -r 's/(@@ )|(@@ ?$)//g' > 95.out"
      ],
      "execution_count": null,
      "outputs": [
        {
          "output_type": "stream",
          "text": [
            "/usr/local/lib/python3.7/dist-packages/torch/_tensor.py:575: UserWarning: floor_divide is deprecated, and will be removed in a future version of pytorch. It currently rounds toward 0 (like the 'trunc' function NOT 'floor'). This results in incorrect rounding for negative values.\n",
            "To keep the current behavior, use torch.div(a, b, rounding_mode='trunc'), or for actual floor division, use torch.div(a, b, rounding_mode='floor'). (Triggered internally at  /pytorch/aten/src/ATen/native/BinaryOps.cpp:467.)\n",
            "  return torch.floor_divide(self, other)\n"
          ],
          "name": "stdout"
        }
      ]
    },
    {
      "cell_type": "markdown",
      "metadata": {
        "id": "G3lAsJZeNbu0"
      },
      "source": [
        "BLEUスコア"
      ]
    },
    {
      "cell_type": "code",
      "metadata": {
        "colab": {
          "base_uri": "https://localhost:8080/"
        },
        "id": "V7AjiRcs9xRR",
        "outputId": "d7bdb2ad-8a2b-4d81-ae53-d45cf3b5a9f7"
      },
      "source": [
        "!fairseq-score --sys 95.out --ref test.sub.en"
      ],
      "execution_count": null,
      "outputs": [
        {
          "output_type": "stream",
          "text": [
            "Namespace(ignore_case=False, order=4, ref='test.sub.en', sacrebleu=False, sentence_bleu=False, sys='95.out')\n",
            "BLEU4 = 4.35, 25.8/8.2/3.3/1.5 (BP=0.768, ratio=0.791, syslen=23967, reflen=30308)\n"
          ],
          "name": "stdout"
        }
      ]
    },
    {
      "cell_type": "markdown",
      "metadata": {
        "id": "hrmRSxvX99Oe"
      },
      "source": [
        "BLEU4 = 4.35?????低い?????"
      ]
    },
    {
      "cell_type": "markdown",
      "metadata": {
        "id": "24PNX10xHzzM"
      },
      "source": [
        "### **96. 学習過程の可視化**\n",
        "Tensorboardなどのツールを用い，ニューラル機械翻訳モデルが学習されていく過程を可視化せよ．可視化する項目としては，学習データにおける損失関数の値とBLEUスコア，開発データにおける損失関数の値とBLEUスコアなどを採用せよ．"
      ]
    },
    {
      "cell_type": "code",
      "metadata": {
        "id": "Gfx0MKGguO9K"
      },
      "source": [
        "# Google ColabでTensorboardを使うための設定\n",
        "from __future__ import absolute_import, division, print_function, unicode_literals\n",
        "\n",
        "try:\n",
        "  # %tensorflow_version only exists in Colab.\n",
        "  %tensorflow_version 2.x\n",
        "except Exception:\n",
        "  print(\"エラー、やり直してください\")\n",
        "  pass"
      ],
      "execution_count": 4,
      "outputs": []
    },
    {
      "cell_type": "code",
      "metadata": {
        "colab": {
          "base_uri": "https://localhost:8080/"
        },
        "id": "PWUgwvUOtrUj",
        "outputId": "965588e8-ad6e-4e2b-bd0b-2a092dd59c6d"
      },
      "source": [
        "!pip install tensorboard"
      ],
      "execution_count": 5,
      "outputs": [
        {
          "output_type": "stream",
          "text": [
            "Requirement already satisfied: tensorboard in /usr/local/lib/python3.7/dist-packages (2.5.0)\n",
            "Requirement already satisfied: tensorboard-plugin-wit>=1.6.0 in /usr/local/lib/python3.7/dist-packages (from tensorboard) (1.8.0)\n",
            "Requirement already satisfied: markdown>=2.6.8 in /usr/local/lib/python3.7/dist-packages (from tensorboard) (3.3.4)\n",
            "Requirement already satisfied: google-auth-oauthlib<0.5,>=0.4.1 in /usr/local/lib/python3.7/dist-packages (from tensorboard) (0.4.4)\n",
            "Requirement already satisfied: numpy>=1.12.0 in /usr/local/lib/python3.7/dist-packages (from tensorboard) (1.19.5)\n",
            "Requirement already satisfied: google-auth<2,>=1.6.3 in /usr/local/lib/python3.7/dist-packages (from tensorboard) (1.32.1)\n",
            "Requirement already satisfied: protobuf>=3.6.0 in /usr/local/lib/python3.7/dist-packages (from tensorboard) (3.17.3)\n",
            "Requirement already satisfied: werkzeug>=0.11.15 in /usr/local/lib/python3.7/dist-packages (from tensorboard) (1.0.1)\n",
            "Requirement already satisfied: setuptools>=41.0.0 in /usr/local/lib/python3.7/dist-packages (from tensorboard) (57.2.0)\n",
            "Requirement already satisfied: absl-py>=0.4 in /usr/local/lib/python3.7/dist-packages (from tensorboard) (0.12.0)\n",
            "Requirement already satisfied: tensorboard-data-server<0.7.0,>=0.6.0 in /usr/local/lib/python3.7/dist-packages (from tensorboard) (0.6.1)\n",
            "Requirement already satisfied: wheel>=0.26 in /usr/local/lib/python3.7/dist-packages (from tensorboard) (0.36.2)\n",
            "Requirement already satisfied: grpcio>=1.24.3 in /usr/local/lib/python3.7/dist-packages (from tensorboard) (1.34.1)\n",
            "Requirement already satisfied: requests<3,>=2.21.0 in /usr/local/lib/python3.7/dist-packages (from tensorboard) (2.23.0)\n",
            "Requirement already satisfied: six in /usr/local/lib/python3.7/dist-packages (from absl-py>=0.4->tensorboard) (1.15.0)\n",
            "Requirement already satisfied: cachetools<5.0,>=2.0.0 in /usr/local/lib/python3.7/dist-packages (from google-auth<2,>=1.6.3->tensorboard) (4.2.2)\n",
            "Requirement already satisfied: rsa<5,>=3.1.4 in /usr/local/lib/python3.7/dist-packages (from google-auth<2,>=1.6.3->tensorboard) (4.7.2)\n",
            "Requirement already satisfied: pyasn1-modules>=0.2.1 in /usr/local/lib/python3.7/dist-packages (from google-auth<2,>=1.6.3->tensorboard) (0.2.8)\n",
            "Requirement already satisfied: requests-oauthlib>=0.7.0 in /usr/local/lib/python3.7/dist-packages (from google-auth-oauthlib<0.5,>=0.4.1->tensorboard) (1.3.0)\n",
            "Requirement already satisfied: importlib-metadata in /usr/local/lib/python3.7/dist-packages (from markdown>=2.6.8->tensorboard) (4.6.1)\n",
            "Requirement already satisfied: pyasn1<0.5.0,>=0.4.6 in /usr/local/lib/python3.7/dist-packages (from pyasn1-modules>=0.2.1->google-auth<2,>=1.6.3->tensorboard) (0.4.8)\n",
            "Requirement already satisfied: certifi>=2017.4.17 in /usr/local/lib/python3.7/dist-packages (from requests<3,>=2.21.0->tensorboard) (2021.5.30)\n",
            "Requirement already satisfied: idna<3,>=2.5 in /usr/local/lib/python3.7/dist-packages (from requests<3,>=2.21.0->tensorboard) (2.10)\n",
            "Requirement already satisfied: chardet<4,>=3.0.2 in /usr/local/lib/python3.7/dist-packages (from requests<3,>=2.21.0->tensorboard) (3.0.4)\n",
            "Requirement already satisfied: urllib3!=1.25.0,!=1.25.1,<1.26,>=1.21.1 in /usr/local/lib/python3.7/dist-packages (from requests<3,>=2.21.0->tensorboard) (1.24.3)\n",
            "Requirement already satisfied: oauthlib>=3.0.0 in /usr/local/lib/python3.7/dist-packages (from requests-oauthlib>=0.7.0->google-auth-oauthlib<0.5,>=0.4.1->tensorboard) (3.1.1)\n",
            "Requirement already satisfied: zipp>=0.5 in /usr/local/lib/python3.7/dist-packages (from importlib-metadata->markdown>=2.6.8->tensorboard) (3.5.0)\n",
            "Requirement already satisfied: typing-extensions>=3.6.4 in /usr/local/lib/python3.7/dist-packages (from importlib-metadata->markdown>=2.6.8->tensorboard) (3.7.4.3)\n"
          ],
          "name": "stdout"
        }
      ]
    },
    {
      "cell_type": "code",
      "metadata": {
        "id": "3FJkfwog25to"
      },
      "source": [
        "%load_ext tensorboard"
      ],
      "execution_count": 6,
      "outputs": []
    },
    {
      "cell_type": "code",
      "metadata": {
        "id": "4H6iT39B27Ic"
      },
      "source": [
        "%tensorboard --logdir ./log95"
      ],
      "execution_count": null,
      "outputs": []
    },
    {
      "cell_type": "markdown",
      "metadata": {
        "id": "gaLUPXrGGqAe"
      },
      "source": [
        "なんかTensorBoardに「No dashboards are active for the current data set.」と出て表示されない。（ColabのGPU使用上限でlogが消えてる？？）"
      ]
    },
    {
      "cell_type": "markdown",
      "metadata": {
        "id": "IQXrJiMGH-xW"
      },
      "source": [
        "### **97. ハイパー・パラメータの調整**\n",
        "ニューラルネットワークのモデルや，そのハイパーパラメータを変更しつつ，開発データにおけるBLEUスコアが最大となるモデルとハイパーパラメータを求めよ．"
      ]
    },
    {
      "cell_type": "markdown",
      "metadata": {
        "id": "tdxXi9w1E5M_"
      },
      "source": [
        ""
      ]
    },
    {
      "cell_type": "code",
      "metadata": {
        "id": "Bcl5oc5NIHc6"
      },
      "source": [
        ""
      ],
      "execution_count": null,
      "outputs": []
    },
    {
      "cell_type": "markdown",
      "metadata": {
        "id": "EKqSVtSmIIB_"
      },
      "source": [
        "### **98. ドメイン適応**\n",
        "Japanese-English Subtitle Corpus (JESC)やJParaCrawlなどの翻訳データを活用し，KFTTのテストデータの性能向上を試みよ．"
      ]
    },
    {
      "cell_type": "code",
      "metadata": {
        "id": "Ada51iEiIUFE"
      },
      "source": [
        ""
      ],
      "execution_count": null,
      "outputs": []
    },
    {
      "cell_type": "markdown",
      "metadata": {
        "id": "5nWLrHByIUia"
      },
      "source": [
        "### **99. 翻訳サーバの構築**\n",
        "ユーザが翻訳したい文を入力すると，その翻訳結果がウェブブラウザ上で表示されるデモシステムを構築せよ．"
      ]
    },
    {
      "cell_type": "markdown",
      "metadata": {
        "id": "8oQ6rbYhIcEW"
      },
      "source": [
        "省略"
      ]
    }
  ]
}
